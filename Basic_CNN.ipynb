{
 "cells": [
  {
   "cell_type": "markdown",
   "metadata": {},
   "source": [
    "# **Deformable Convolution for Lung Cancer Prediction Based on Transcriptomic Data : a Basic Convolutional Neural Network**\n",
    "> Author : **Aymen MERROUCHE**. <br>\n",
    "> In this notebook, we implement a basic CNN for our binary classification task. First we pre train our CNN on the non Lung cancer dataset. Then, we fine tune it on the lung cancer dataset (we don't freeze the convolutional layers, and we don't keep the dense layers) :"
   ]
  },
  {
   "cell_type": "code",
   "execution_count": 1,
   "metadata": {},
   "outputs": [],
   "source": [
    "import torch\n",
    "import torch.nn as nn\n",
    "from torch.nn import functional as F\n",
    "import numpy as np\n",
    "import datetime\n",
    "\n",
    "from utils import *\n",
    "from train import *\n",
    "from data_utils import *\n",
    "from modules.basic_cnn import *\n",
    "from modules.focal_loss import *\n",
    "%load_ext autoreload\n",
    "%autoreload 2"
   ]
  },
  {
   "cell_type": "code",
   "execution_count": 2,
   "metadata": {},
   "outputs": [
    {
     "name": "stdout",
     "output_type": "stream",
     "text": [
      "Working on :  cuda\n"
     ]
    }
   ],
   "source": [
    "# device to use, if cuda available then use cuda else use cpu\n",
    "device = torch.device('cuda' if torch.cuda.is_available() else 'cpu')\n",
    "print(\"Working on : \", device)"
   ]
  },
  {
   "cell_type": "code",
   "execution_count": 3,
   "metadata": {},
   "outputs": [],
   "source": [
    "# load hyperparametrs\n",
    "# data paths args\n",
    "with open('./configs/data_paths.yaml', 'r') as stream:\n",
    "    data_paths_args  = yaml.load(stream,Loader=yaml.Loader)\n",
    "    \n",
    "    \n",
    "# basic cnn args\n",
    "with open('./configs/basic_cnn.yaml', 'r') as stream:\n",
    "    basic_cnn_args  = yaml.load(stream,Loader=yaml.Loader)"
   ]
  },
  {
   "cell_type": "markdown",
   "metadata": {},
   "source": [
    "## **1 - Pre-Training on the Non Lung Dataset :**"
   ]
  },
  {
   "cell_type": "markdown",
   "metadata": {},
   "source": [
    "### **1 - 1 - Get the Data :**"
   ]
  },
  {
   "cell_type": "code",
   "execution_count": 4,
   "metadata": {},
   "outputs": [
    {
     "name": "stdout",
     "output_type": "stream",
     "text": [
      "CPU times: user 4.73 s, sys: 1.05 s, total: 5.78 s\n",
      "Wall time: 3.01 s\n"
     ]
    }
   ],
   "source": [
    "%%time\n",
    "# Getting the data\n",
    "# dataset\n",
    "non_lung_dataset = TranscriptomicImagesDatasetNonLung(data_paths_args[\"path_to_pan_cancer_hdf5_files\"], data_paths_args[\"path_to_treemap_images\"])\n",
    "non_lung_dataloader_train, non_lung_dataloader_validation = get_data_loaders(non_lung_dataset, batch_size_train = basic_cnn_args[\"batch_size_pt\"],\\\n",
    "                                                                             batch_size_validation = basic_cnn_args[\"batch_size_pt\"])"
   ]
  },
  {
   "cell_type": "markdown",
   "metadata": {},
   "source": [
    "### **1 - 2 - Network, Criterion and Training :**"
   ]
  },
  {
   "cell_type": "code",
   "execution_count": 5,
   "metadata": {},
   "outputs": [
    {
     "name": "stderr",
     "output_type": "stream",
     "text": [
      "Epoch 1/50:   0%|          | 0/41 [00:00<?, ?it/s, loss=2.3246e-01]"
     ]
    },
    {
     "name": "stdout",
     "output_type": "stream",
     "text": [
      "Experimenting with : \n",
      " \tepochs=50_batch_size_pt=128_lr_pt=0.001_batch_size_ft=128_lr_ft=0.001_no_tensorboard=True\n",
      "Training on GPU \n",
      "\n"
     ]
    },
    {
     "name": "stderr",
     "output_type": "stream",
     "text": [
      "Epoch 1/50: 100%|██████████| 41/41 [00:12<00:00,  3.22it/s, loss=1.5731e-01]\n",
      "/usr/local/lib/python3.7/dist-packages/sklearn/metrics/_classification.py:1221: UndefinedMetricWarning: Precision and F-score are ill-defined and being set to 0.0 in labels with no predicted samples. Use `zero_division` parameter to control this behavior.\n",
      "  _warn_prf(average, modifier, msg_start, len(result))\n"
     ]
    },
    {
     "name": "stdout",
     "output_type": "stream",
     "text": [
      "Epoch 1/50, Train Loss: 1.9766e-01, Test Loss: 0.0717\n",
      "Epoch 1/50, Train Accuracy: 50.30%, Test Accuracy: 88.36%\n",
      "Epoch 1/50, Train AUC: 50.00%, Test AUC: 49.98%\n",
      "Classification Report on Val Set : \n",
      "              precision    recall  f1-score   support\n",
      "\n",
      "   No Cancer       0.88      1.00      0.94      2248\n",
      "      Cancer       0.00      0.00      0.00       295\n",
      "\n",
      "    accuracy                           0.88      2543\n",
      "   macro avg       0.44      0.50      0.47      2543\n",
      "weighted avg       0.78      0.88      0.83      2543\n",
      "\n"
     ]
    },
    {
     "name": "stderr",
     "output_type": "stream",
     "text": [
      "Epoch 2/50: 100%|██████████| 41/41 [00:12<00:00,  3.22it/s, loss=1.7521e-01]\n"
     ]
    },
    {
     "name": "stdout",
     "output_type": "stream",
     "text": [
      "Epoch 2/50, Train Loss: 2.8184e-01, Test Loss: 0.0369\n",
      "Epoch 2/50, Train Accuracy: 49.51%, Test Accuracy: 88.40%\n",
      "Epoch 2/50, Train AUC: 50.00%, Test AUC: 50.00%\n",
      "Classification Report on Val Set : \n",
      "              precision    recall  f1-score   support\n",
      "\n",
      "   No Cancer       0.88      1.00      0.94      2248\n",
      "      Cancer       0.00      0.00      0.00       295\n",
      "\n",
      "    accuracy                           0.88      2543\n",
      "   macro avg       0.44      0.50      0.47      2543\n",
      "weighted avg       0.78      0.88      0.83      2543\n",
      "\n"
     ]
    },
    {
     "name": "stderr",
     "output_type": "stream",
     "text": [
      "Epoch 3/50: 100%|██████████| 41/41 [00:12<00:00,  3.21it/s, loss=1.2801e-01]\n"
     ]
    },
    {
     "name": "stdout",
     "output_type": "stream",
     "text": [
      "Epoch 3/50, Train Loss: 2.3543e-01, Test Loss: 0.0346\n",
      "Epoch 3/50, Train Accuracy: 48.66%, Test Accuracy: 88.40%\n",
      "Epoch 3/50, Train AUC: 50.04%, Test AUC: 50.15%\n",
      "Classification Report on Val Set : \n",
      "              precision    recall  f1-score   support\n",
      "\n",
      "   No Cancer       0.88      1.00      0.94      2248\n",
      "      Cancer       0.50      0.00      0.01       295\n",
      "\n",
      "    accuracy                           0.88      2543\n",
      "   macro avg       0.69      0.50      0.47      2543\n",
      "weighted avg       0.84      0.88      0.83      2543\n",
      "\n"
     ]
    },
    {
     "name": "stderr",
     "output_type": "stream",
     "text": [
      "Epoch 4/50: 100%|██████████| 41/41 [00:12<00:00,  3.21it/s, loss=1.3600e-01]\n"
     ]
    },
    {
     "name": "stdout",
     "output_type": "stream",
     "text": [
      "Epoch 4/50, Train Loss: 1.9088e-01, Test Loss: 0.0344\n",
      "Epoch 4/50, Train Accuracy: 53.33%, Test Accuracy: 88.52%\n",
      "Epoch 4/50, Train AUC: 54.07%, Test AUC: 53.90%\n",
      "Classification Report on Val Set : \n",
      "              precision    recall  f1-score   support\n",
      "\n",
      "   No Cancer       0.89      0.99      0.94      2248\n",
      "      Cancer       0.53      0.09      0.15       295\n",
      "\n",
      "    accuracy                           0.89      2543\n",
      "   macro avg       0.71      0.54      0.54      2543\n",
      "weighted avg       0.85      0.89      0.85      2543\n",
      "\n"
     ]
    },
    {
     "name": "stderr",
     "output_type": "stream",
     "text": [
      "Epoch 5/50: 100%|██████████| 41/41 [00:12<00:00,  3.21it/s, loss=1.1675e-01]\n"
     ]
    },
    {
     "name": "stdout",
     "output_type": "stream",
     "text": [
      "Epoch 5/50, Train Loss: 1.6235e-01, Test Loss: 0.0331\n",
      "Epoch 5/50, Train Accuracy: 57.37%, Test Accuracy: 87.96%\n",
      "Epoch 5/50, Train AUC: 56.54%, Test AUC: 54.76%\n",
      "Classification Report on Val Set : \n",
      "              precision    recall  f1-score   support\n",
      "\n",
      "   No Cancer       0.89      0.98      0.94      2248\n",
      "      Cancer       0.43      0.12      0.18       295\n",
      "\n",
      "    accuracy                           0.88      2543\n",
      "   macro avg       0.66      0.55      0.56      2543\n",
      "weighted avg       0.84      0.88      0.85      2543\n",
      "\n"
     ]
    },
    {
     "name": "stderr",
     "output_type": "stream",
     "text": [
      "Epoch 6/50: 100%|██████████| 41/41 [00:12<00:00,  3.21it/s, loss=1.4332e-01]\n"
     ]
    },
    {
     "name": "stdout",
     "output_type": "stream",
     "text": [
      "Epoch 6/50, Train Loss: 9.8167e-02, Test Loss: 0.0910\n",
      "Epoch 6/50, Train Accuracy: 72.82%, Test Accuracy: 71.25%\n",
      "Epoch 6/50, Train AUC: 72.69%, Test AUC: 67.23%\n",
      "Classification Report on Val Set : \n",
      "              precision    recall  f1-score   support\n",
      "\n",
      "   No Cancer       0.94      0.72      0.82      2248\n",
      "      Cancer       0.23      0.62      0.33       295\n",
      "\n",
      "    accuracy                           0.71      2543\n",
      "   macro avg       0.58      0.67      0.57      2543\n",
      "weighted avg       0.85      0.71      0.76      2543\n",
      "\n"
     ]
    },
    {
     "name": "stderr",
     "output_type": "stream",
     "text": [
      "Epoch 7/50: 100%|██████████| 41/41 [00:12<00:00,  3.20it/s, loss=1.4261e-01]\n"
     ]
    },
    {
     "name": "stdout",
     "output_type": "stream",
     "text": [
      "Epoch 7/50, Train Loss: 1.0106e-01, Test Loss: 0.1311\n",
      "Epoch 7/50, Train Accuracy: 73.71%, Test Accuracy: 61.07%\n",
      "Epoch 7/50, Train AUC: 73.77%, Test AUC: 67.21%\n",
      "Classification Report on Val Set : \n",
      "              precision    recall  f1-score   support\n",
      "\n",
      "   No Cancer       0.95      0.59      0.73      2248\n",
      "      Cancer       0.19      0.75      0.31       295\n",
      "\n",
      "    accuracy                           0.61      2543\n",
      "   macro avg       0.57      0.67      0.52      2543\n",
      "weighted avg       0.86      0.61      0.68      2543\n",
      "\n"
     ]
    },
    {
     "name": "stderr",
     "output_type": "stream",
     "text": [
      "Epoch 8/50: 100%|██████████| 41/41 [00:12<00:00,  3.21it/s, loss=1.0295e-01]\n"
     ]
    },
    {
     "name": "stdout",
     "output_type": "stream",
     "text": [
      "Epoch 8/50, Train Loss: 9.5416e-02, Test Loss: 0.1436\n",
      "Epoch 8/50, Train Accuracy: 73.48%, Test Accuracy: 58.51%\n",
      "Epoch 8/50, Train AUC: 73.46%, Test AUC: 68.12%\n",
      "Classification Report on Val Set : \n",
      "              precision    recall  f1-score   support\n",
      "\n",
      "   No Cancer       0.96      0.56      0.70      2248\n",
      "      Cancer       0.19      0.81      0.31       295\n",
      "\n",
      "    accuracy                           0.58      2543\n",
      "   macro avg       0.57      0.68      0.51      2543\n",
      "weighted avg       0.87      0.58      0.66      2543\n",
      "\n"
     ]
    },
    {
     "name": "stderr",
     "output_type": "stream",
     "text": [
      "Epoch 9/50: 100%|██████████| 41/41 [00:12<00:00,  3.21it/s, loss=6.0268e-02]\n"
     ]
    },
    {
     "name": "stdout",
     "output_type": "stream",
     "text": [
      "Epoch 9/50, Train Loss: 9.6300e-02, Test Loss: 0.1785\n",
      "Epoch 9/50, Train Accuracy: 72.50%, Test Accuracy: 54.08%\n",
      "Epoch 9/50, Train AUC: 72.64%, Test AUC: 66.64%\n",
      "Classification Report on Val Set : \n",
      "              precision    recall  f1-score   support\n",
      "\n",
      "   No Cancer       0.96      0.50      0.66      2248\n",
      "      Cancer       0.18      0.83      0.30       295\n",
      "\n",
      "    accuracy                           0.54      2543\n",
      "   macro avg       0.57      0.67      0.48      2543\n",
      "weighted avg       0.87      0.54      0.62      2543\n",
      "\n"
     ]
    },
    {
     "name": "stderr",
     "output_type": "stream",
     "text": [
      "Epoch 10/50: 100%|██████████| 41/41 [00:12<00:00,  3.21it/s, loss=1.1709e-01]\n"
     ]
    },
    {
     "name": "stdout",
     "output_type": "stream",
     "text": [
      "Epoch 10/50, Train Loss: 8.2021e-02, Test Loss: 0.1316\n",
      "Epoch 10/50, Train Accuracy: 75.72%, Test Accuracy: 62.26%\n",
      "Epoch 10/50, Train AUC: 75.74%, Test AUC: 66.99%\n",
      "Classification Report on Val Set : \n",
      "              precision    recall  f1-score   support\n",
      "\n",
      "   No Cancer       0.95      0.61      0.74      2248\n",
      "      Cancer       0.20      0.73      0.31       295\n",
      "\n",
      "    accuracy                           0.62      2543\n",
      "   macro avg       0.57      0.67      0.52      2543\n",
      "weighted avg       0.86      0.62      0.69      2543\n",
      "\n"
     ]
    },
    {
     "name": "stderr",
     "output_type": "stream",
     "text": [
      "Epoch 11/50: 100%|██████████| 41/41 [00:12<00:00,  3.21it/s, loss=7.8858e-02]\n"
     ]
    },
    {
     "name": "stdout",
     "output_type": "stream",
     "text": [
      "Epoch 11/50, Train Loss: 9.6006e-02, Test Loss: 0.2015\n",
      "Epoch 11/50, Train Accuracy: 71.84%, Test Accuracy: 50.98%\n",
      "Epoch 11/50, Train AUC: 72.18%, Test AUC: 66.06%\n",
      "Classification Report on Val Set : \n",
      "              precision    recall  f1-score   support\n",
      "\n",
      "   No Cancer       0.96      0.46      0.63      2248\n",
      "      Cancer       0.17      0.86      0.29       295\n",
      "\n",
      "    accuracy                           0.51      2543\n",
      "   macro avg       0.57      0.66      0.46      2543\n",
      "weighted avg       0.87      0.51      0.59      2543\n",
      "\n"
     ]
    },
    {
     "name": "stderr",
     "output_type": "stream",
     "text": [
      "Epoch 12/50: 100%|██████████| 41/41 [00:12<00:00,  3.21it/s, loss=5.8749e-02]\n"
     ]
    },
    {
     "name": "stdout",
     "output_type": "stream",
     "text": [
      "Epoch 12/50, Train Loss: 8.5243e-02, Test Loss: 0.1750\n",
      "Epoch 12/50, Train Accuracy: 74.45%, Test Accuracy: 55.12%\n",
      "Epoch 12/50, Train AUC: 74.63%, Test AUC: 66.77%\n",
      "Classification Report on Val Set : \n",
      "              precision    recall  f1-score   support\n",
      "\n",
      "   No Cancer       0.96      0.52      0.67      2248\n",
      "      Cancer       0.18      0.82      0.30       295\n",
      "\n",
      "    accuracy                           0.55      2543\n",
      "   macro avg       0.57      0.67      0.48      2543\n",
      "weighted avg       0.87      0.55      0.63      2543\n",
      "\n"
     ]
    },
    {
     "name": "stderr",
     "output_type": "stream",
     "text": [
      "Epoch 13/50: 100%|██████████| 41/41 [00:12<00:00,  3.20it/s, loss=1.1002e-01]\n"
     ]
    },
    {
     "name": "stdout",
     "output_type": "stream",
     "text": [
      "Epoch 13/50, Train Loss: 7.2285e-02, Test Loss: 0.1409\n",
      "Epoch 13/50, Train Accuracy: 78.56%, Test Accuracy: 61.11%\n",
      "Epoch 13/50, Train AUC: 78.34%, Test AUC: 66.64%\n",
      "Classification Report on Val Set : \n",
      "              precision    recall  f1-score   support\n",
      "\n",
      "   No Cancer       0.95      0.59      0.73      2248\n",
      "      Cancer       0.19      0.74      0.31       295\n",
      "\n",
      "    accuracy                           0.61      2543\n",
      "   macro avg       0.57      0.67      0.52      2543\n",
      "weighted avg       0.86      0.61      0.68      2543\n",
      "\n"
     ]
    },
    {
     "name": "stderr",
     "output_type": "stream",
     "text": [
      "Epoch 14/50: 100%|██████████| 41/41 [00:12<00:00,  3.21it/s, loss=5.6895e-02]\n"
     ]
    },
    {
     "name": "stdout",
     "output_type": "stream",
     "text": [
      "Epoch 14/50, Train Loss: 7.4367e-02, Test Loss: 0.1681\n",
      "Epoch 14/50, Train Accuracy: 76.41%, Test Accuracy: 56.64%\n",
      "Epoch 14/50, Train AUC: 76.26%, Test AUC: 66.32%\n",
      "Classification Report on Val Set : \n",
      "              precision    recall  f1-score   support\n",
      "\n",
      "   No Cancer       0.95      0.54      0.69      2248\n",
      "      Cancer       0.18      0.79      0.30       295\n",
      "\n",
      "    accuracy                           0.57      2543\n",
      "   macro avg       0.57      0.66      0.49      2543\n",
      "weighted avg       0.86      0.57      0.64      2543\n",
      "\n"
     ]
    },
    {
     "name": "stderr",
     "output_type": "stream",
     "text": [
      "Epoch 15/50: 100%|██████████| 41/41 [00:12<00:00,  3.21it/s, loss=5.0815e-02]\n"
     ]
    },
    {
     "name": "stdout",
     "output_type": "stream",
     "text": [
      "Epoch 15/50, Train Loss: 6.0035e-02, Test Loss: 0.1311\n",
      "Epoch 15/50, Train Accuracy: 79.82%, Test Accuracy: 63.17%\n",
      "Epoch 15/50, Train AUC: 79.77%, Test AUC: 68.41%\n",
      "Classification Report on Val Set : \n",
      "              precision    recall  f1-score   support\n",
      "\n",
      "   No Cancer       0.95      0.62      0.75      2248\n",
      "      Cancer       0.20      0.75      0.32       295\n",
      "\n",
      "    accuracy                           0.63      2543\n",
      "   macro avg       0.58      0.68      0.53      2543\n",
      "weighted avg       0.86      0.63      0.70      2543\n",
      "\n"
     ]
    },
    {
     "name": "stderr",
     "output_type": "stream",
     "text": [
      "Epoch 16/50: 100%|██████████| 41/41 [00:12<00:00,  3.20it/s, loss=1.0304e-01]\n"
     ]
    },
    {
     "name": "stdout",
     "output_type": "stream",
     "text": [
      "Epoch 16/50, Train Loss: 5.7520e-02, Test Loss: 0.1134\n",
      "Epoch 16/50, Train Accuracy: 79.67%, Test Accuracy: 65.54%\n",
      "Epoch 16/50, Train AUC: 80.16%, Test AUC: 66.95%\n",
      "Classification Report on Val Set : \n",
      "              precision    recall  f1-score   support\n",
      "\n",
      "   No Cancer       0.94      0.65      0.77      2248\n",
      "      Cancer       0.21      0.69      0.32       295\n",
      "\n",
      "    accuracy                           0.66      2543\n",
      "   macro avg       0.57      0.67      0.54      2543\n",
      "weighted avg       0.86      0.66      0.72      2543\n",
      "\n"
     ]
    },
    {
     "name": "stderr",
     "output_type": "stream",
     "text": [
      "Epoch 17/50: 100%|██████████| 41/41 [00:12<00:00,  3.20it/s, loss=5.5632e-02]\n"
     ]
    },
    {
     "name": "stdout",
     "output_type": "stream",
     "text": [
      "Epoch 17/50, Train Loss: 6.6752e-02, Test Loss: 0.1929\n",
      "Epoch 17/50, Train Accuracy: 77.04%, Test Accuracy: 57.03%\n",
      "Epoch 17/50, Train AUC: 77.16%, Test AUC: 67.57%\n",
      "Classification Report on Val Set : \n",
      "              precision    recall  f1-score   support\n",
      "\n",
      "   No Cancer       0.96      0.54      0.69      2248\n",
      "      Cancer       0.19      0.81      0.30       295\n",
      "\n",
      "    accuracy                           0.57      2543\n",
      "   macro avg       0.57      0.68      0.50      2543\n",
      "weighted avg       0.87      0.57      0.64      2543\n",
      "\n"
     ]
    },
    {
     "name": "stderr",
     "output_type": "stream",
     "text": [
      "Epoch 18/50: 100%|██████████| 41/41 [00:12<00:00,  3.21it/s, loss=4.9419e-02]\n"
     ]
    },
    {
     "name": "stdout",
     "output_type": "stream",
     "text": [
      "Epoch 18/50, Train Loss: 5.1945e-02, Test Loss: 0.1342\n",
      "Epoch 18/50, Train Accuracy: 79.68%, Test Accuracy: 63.12%\n",
      "Epoch 18/50, Train AUC: 79.50%, Test AUC: 67.63%\n",
      "Classification Report on Val Set : \n",
      "              precision    recall  f1-score   support\n",
      "\n",
      "   No Cancer       0.95      0.62      0.75      2248\n",
      "      Cancer       0.20      0.74      0.32       295\n",
      "\n",
      "    accuracy                           0.63      2543\n",
      "   macro avg       0.57      0.68      0.53      2543\n",
      "weighted avg       0.86      0.63      0.70      2543\n",
      "\n"
     ]
    },
    {
     "name": "stderr",
     "output_type": "stream",
     "text": [
      "Epoch 19/50: 100%|██████████| 41/41 [00:12<00:00,  3.21it/s, loss=8.5925e-02]\n"
     ]
    },
    {
     "name": "stdout",
     "output_type": "stream",
     "text": [
      "Epoch 19/50, Train Loss: 5.1488e-02, Test Loss: 0.1430\n",
      "Epoch 19/50, Train Accuracy: 80.17%, Test Accuracy: 62.12%\n",
      "Epoch 19/50, Train AUC: 80.56%, Test AUC: 67.81%\n",
      "Classification Report on Val Set : \n",
      "              precision    recall  f1-score   support\n",
      "\n",
      "   No Cancer       0.95      0.60      0.74      2248\n",
      "      Cancer       0.20      0.75      0.32       295\n",
      "\n",
      "    accuracy                           0.62      2543\n",
      "   macro avg       0.57      0.68      0.53      2543\n",
      "weighted avg       0.86      0.62      0.69      2543\n",
      "\n"
     ]
    },
    {
     "name": "stderr",
     "output_type": "stream",
     "text": [
      "Epoch 20/50: 100%|██████████| 41/41 [00:12<00:00,  3.21it/s, loss=6.3321e-02]\n"
     ]
    },
    {
     "name": "stdout",
     "output_type": "stream",
     "text": [
      "Epoch 20/50, Train Loss: 4.9299e-02, Test Loss: 0.1587\n",
      "Epoch 20/50, Train Accuracy: 80.42%, Test Accuracy: 60.84%\n",
      "Epoch 20/50, Train AUC: 79.93%, Test AUC: 66.78%\n",
      "Classification Report on Val Set : \n",
      "              precision    recall  f1-score   support\n",
      "\n",
      "   No Cancer       0.95      0.59      0.73      2248\n",
      "      Cancer       0.19      0.75      0.31       295\n",
      "\n",
      "    accuracy                           0.61      2543\n",
      "   macro avg       0.57      0.67      0.52      2543\n",
      "weighted avg       0.86      0.61      0.68      2543\n",
      "\n"
     ]
    },
    {
     "name": "stderr",
     "output_type": "stream",
     "text": [
      "Epoch 21/50: 100%|██████████| 41/41 [00:12<00:00,  3.21it/s, loss=4.2193e-02]\n"
     ]
    },
    {
     "name": "stdout",
     "output_type": "stream",
     "text": [
      "Epoch 21/50, Train Loss: 4.6737e-02, Test Loss: 0.1529\n",
      "Epoch 21/50, Train Accuracy: 81.48%, Test Accuracy: 61.83%\n",
      "Epoch 21/50, Train AUC: 81.63%, Test AUC: 66.33%\n",
      "Classification Report on Val Set : \n",
      "              precision    recall  f1-score   support\n",
      "\n",
      "   No Cancer       0.94      0.60      0.74      2248\n",
      "      Cancer       0.19      0.72      0.30       295\n",
      "\n",
      "    accuracy                           0.62      2543\n",
      "   macro avg       0.57      0.66      0.52      2543\n",
      "weighted avg       0.86      0.62      0.69      2543\n",
      "\n"
     ]
    },
    {
     "name": "stderr",
     "output_type": "stream",
     "text": [
      "Epoch 22/50: 100%|██████████| 41/41 [00:12<00:00,  3.20it/s, loss=1.2011e-01]\n"
     ]
    },
    {
     "name": "stdout",
     "output_type": "stream",
     "text": [
      "Epoch 22/50, Train Loss: 4.4078e-02, Test Loss: 0.1544\n",
      "Epoch 22/50, Train Accuracy: 82.15%, Test Accuracy: 60.99%\n",
      "Epoch 22/50, Train AUC: 82.33%, Test AUC: 67.75%\n",
      "Classification Report on Val Set : \n",
      "              precision    recall  f1-score   support\n",
      "\n",
      "   No Cancer       0.95      0.59      0.73      2248\n",
      "      Cancer       0.20      0.77      0.31       295\n",
      "\n",
      "    accuracy                           0.61      2543\n",
      "   macro avg       0.57      0.68      0.52      2543\n",
      "weighted avg       0.86      0.61      0.68      2543\n",
      "\n"
     ]
    },
    {
     "name": "stderr",
     "output_type": "stream",
     "text": [
      "Epoch 23/50: 100%|██████████| 41/41 [00:12<00:00,  3.21it/s, loss=1.6526e-02]\n"
     ]
    },
    {
     "name": "stdout",
     "output_type": "stream",
     "text": [
      "Epoch 23/50, Train Loss: 4.3294e-02, Test Loss: 0.1629\n",
      "Epoch 23/50, Train Accuracy: 81.27%, Test Accuracy: 61.98%\n",
      "Epoch 23/50, Train AUC: 81.49%, Test AUC: 67.43%\n",
      "Classification Report on Val Set : \n",
      "              precision    recall  f1-score   support\n",
      "\n",
      "   No Cancer       0.95      0.60      0.74      2248\n",
      "      Cancer       0.20      0.75      0.31       295\n",
      "\n",
      "    accuracy                           0.62      2543\n",
      "   macro avg       0.57      0.67      0.52      2543\n",
      "weighted avg       0.86      0.62      0.69      2543\n",
      "\n"
     ]
    },
    {
     "name": "stderr",
     "output_type": "stream",
     "text": [
      "Epoch 24/50: 100%|██████████| 41/41 [00:12<00:00,  3.21it/s, loss=8.4406e-02]\n"
     ]
    },
    {
     "name": "stdout",
     "output_type": "stream",
     "text": [
      "Epoch 24/50, Train Loss: 3.1047e-02, Test Loss: 0.0987\n",
      "Epoch 24/50, Train Accuracy: 85.77%, Test Accuracy: 69.79%\n",
      "Epoch 24/50, Train AUC: 85.96%, Test AUC: 67.14%\n",
      "Classification Report on Val Set : \n",
      "              precision    recall  f1-score   support\n",
      "\n",
      "   No Cancer       0.94      0.71      0.80      2248\n",
      "      Cancer       0.22      0.64      0.33       295\n",
      "\n",
      "    accuracy                           0.70      2543\n",
      "   macro avg       0.58      0.67      0.57      2543\n",
      "weighted avg       0.85      0.70      0.75      2543\n",
      "\n"
     ]
    },
    {
     "name": "stderr",
     "output_type": "stream",
     "text": [
      "Epoch 25/50: 100%|██████████| 41/41 [00:12<00:00,  3.20it/s, loss=5.4998e-02]\n"
     ]
    },
    {
     "name": "stdout",
     "output_type": "stream",
     "text": [
      "Epoch 25/50, Train Loss: 3.8721e-02, Test Loss: 0.1715\n",
      "Epoch 25/50, Train Accuracy: 81.56%, Test Accuracy: 59.97%\n",
      "Epoch 25/50, Train AUC: 81.86%, Test AUC: 66.44%\n",
      "Classification Report on Val Set : \n",
      "              precision    recall  f1-score   support\n",
      "\n",
      "   No Cancer       0.95      0.58      0.72      2248\n",
      "      Cancer       0.19      0.75      0.30       295\n",
      "\n",
      "    accuracy                           0.60      2543\n",
      "   macro avg       0.57      0.66      0.51      2543\n",
      "weighted avg       0.86      0.60      0.67      2543\n",
      "\n"
     ]
    },
    {
     "name": "stderr",
     "output_type": "stream",
     "text": [
      "Epoch 26/50: 100%|██████████| 41/41 [00:12<00:00,  3.21it/s, loss=3.9008e-02]\n"
     ]
    },
    {
     "name": "stdout",
     "output_type": "stream",
     "text": [
      "Epoch 26/50, Train Loss: 2.6000e-02, Test Loss: 0.1043\n",
      "Epoch 26/50, Train Accuracy: 88.12%, Test Accuracy: 69.71%\n",
      "Epoch 26/50, Train AUC: 88.13%, Test AUC: 67.24%\n",
      "Classification Report on Val Set : \n",
      "              precision    recall  f1-score   support\n",
      "\n",
      "   No Cancer       0.94      0.70      0.80      2248\n",
      "      Cancer       0.22      0.64      0.33       295\n",
      "\n",
      "    accuracy                           0.70      2543\n",
      "   macro avg       0.58      0.67      0.57      2543\n",
      "weighted avg       0.85      0.70      0.75      2543\n",
      "\n"
     ]
    },
    {
     "name": "stderr",
     "output_type": "stream",
     "text": [
      "Epoch 27/50: 100%|██████████| 41/41 [00:12<00:00,  3.21it/s, loss=7.9848e-02]\n"
     ]
    },
    {
     "name": "stdout",
     "output_type": "stream",
     "text": [
      "Epoch 27/50, Train Loss: 2.4814e-02, Test Loss: 0.1238\n",
      "Epoch 27/50, Train Accuracy: 86.92%, Test Accuracy: 66.74%\n",
      "Epoch 27/50, Train AUC: 86.78%, Test AUC: 68.06%\n",
      "Classification Report on Val Set : \n",
      "              precision    recall  f1-score   support\n",
      "\n",
      "   No Cancer       0.94      0.66      0.78      2248\n",
      "      Cancer       0.21      0.70      0.33       295\n",
      "\n",
      "    accuracy                           0.67      2543\n",
      "   macro avg       0.58      0.68      0.55      2543\n",
      "weighted avg       0.86      0.67      0.73      2543\n",
      "\n"
     ]
    },
    {
     "name": "stderr",
     "output_type": "stream",
     "text": [
      "Epoch 28/50: 100%|██████████| 41/41 [00:12<00:00,  3.21it/s, loss=5.2387e-02]\n"
     ]
    },
    {
     "name": "stdout",
     "output_type": "stream",
     "text": [
      "Epoch 28/50, Train Loss: 3.3212e-02, Test Loss: 0.1787\n",
      "Epoch 28/50, Train Accuracy: 83.28%, Test Accuracy: 60.99%\n",
      "Epoch 28/50, Train AUC: 83.34%, Test AUC: 67.02%\n",
      "Classification Report on Val Set : \n",
      "              precision    recall  f1-score   support\n",
      "\n",
      "   No Cancer       0.95      0.59      0.73      2248\n",
      "      Cancer       0.19      0.75      0.31       295\n",
      "\n",
      "    accuracy                           0.61      2543\n",
      "   macro avg       0.57      0.67      0.52      2543\n",
      "weighted avg       0.86      0.61      0.68      2543\n",
      "\n"
     ]
    },
    {
     "name": "stderr",
     "output_type": "stream",
     "text": [
      "Epoch 29/50: 100%|██████████| 41/41 [00:12<00:00,  3.21it/s, loss=8.4257e-02]\n"
     ]
    },
    {
     "name": "stdout",
     "output_type": "stream",
     "text": [
      "Epoch 29/50, Train Loss: 2.9862e-02, Test Loss: 0.1592\n",
      "Epoch 29/50, Train Accuracy: 84.25%, Test Accuracy: 63.41%\n",
      "Epoch 29/50, Train AUC: 84.31%, Test AUC: 67.66%\n",
      "Classification Report on Val Set : \n",
      "              precision    recall  f1-score   support\n",
      "\n",
      "   No Cancer       0.95      0.62      0.75      2248\n",
      "      Cancer       0.20      0.73      0.32       295\n",
      "\n",
      "    accuracy                           0.63      2543\n",
      "   macro avg       0.57      0.68      0.53      2543\n",
      "weighted avg       0.86      0.63      0.70      2543\n",
      "\n"
     ]
    },
    {
     "name": "stderr",
     "output_type": "stream",
     "text": [
      "Epoch 30/50: 100%|██████████| 41/41 [00:12<00:00,  3.21it/s, loss=5.4509e-02]\n"
     ]
    },
    {
     "name": "stdout",
     "output_type": "stream",
     "text": [
      "Epoch 30/50, Train Loss: 2.5148e-02, Test Loss: 0.1298\n",
      "Epoch 30/50, Train Accuracy: 86.03%, Test Accuracy: 65.41%\n",
      "Epoch 30/50, Train AUC: 86.05%, Test AUC: 67.91%\n",
      "Classification Report on Val Set : \n",
      "              precision    recall  f1-score   support\n",
      "\n",
      "   No Cancer       0.94      0.65      0.77      2248\n",
      "      Cancer       0.21      0.71      0.32       295\n",
      "\n",
      "    accuracy                           0.65      2543\n",
      "   macro avg       0.58      0.68      0.55      2543\n",
      "weighted avg       0.86      0.65      0.72      2543\n",
      "\n"
     ]
    },
    {
     "name": "stderr",
     "output_type": "stream",
     "text": [
      "Epoch 31/50: 100%|██████████| 41/41 [00:12<00:00,  3.21it/s, loss=2.2423e-02]\n"
     ]
    },
    {
     "name": "stdout",
     "output_type": "stream",
     "text": [
      "Epoch 31/50, Train Loss: 3.2618e-02, Test Loss: 0.1756\n",
      "Epoch 31/50, Train Accuracy: 82.43%, Test Accuracy: 60.87%\n",
      "Epoch 31/50, Train AUC: 82.90%, Test AUC: 67.69%\n",
      "Classification Report on Val Set : \n",
      "              precision    recall  f1-score   support\n",
      "\n",
      "   No Cancer       0.95      0.59      0.73      2248\n",
      "      Cancer       0.20      0.77      0.31       295\n",
      "\n",
      "    accuracy                           0.61      2543\n",
      "   macro avg       0.57      0.68      0.52      2543\n",
      "weighted avg       0.86      0.61      0.68      2543\n",
      "\n"
     ]
    },
    {
     "name": "stderr",
     "output_type": "stream",
     "text": [
      "Epoch 32/50: 100%|██████████| 41/41 [00:12<00:00,  3.21it/s, loss=2.9133e-02]\n"
     ]
    },
    {
     "name": "stdout",
     "output_type": "stream",
     "text": [
      "Epoch 32/50, Train Loss: 3.2161e-02, Test Loss: 0.1740\n",
      "Epoch 32/50, Train Accuracy: 82.21%, Test Accuracy: 61.62%\n",
      "Epoch 32/50, Train AUC: 82.24%, Test AUC: 67.08%\n",
      "Classification Report on Val Set : \n",
      "              precision    recall  f1-score   support\n",
      "\n",
      "   No Cancer       0.95      0.60      0.73      2248\n",
      "      Cancer       0.20      0.74      0.31       295\n",
      "\n",
      "    accuracy                           0.62      2543\n",
      "   macro avg       0.57      0.67      0.52      2543\n",
      "weighted avg       0.86      0.62      0.68      2543\n",
      "\n"
     ]
    },
    {
     "name": "stderr",
     "output_type": "stream",
     "text": [
      "Epoch 33/50: 100%|██████████| 41/41 [00:12<00:00,  3.20it/s, loss=2.3957e-02]\n"
     ]
    },
    {
     "name": "stdout",
     "output_type": "stream",
     "text": [
      "Epoch 33/50, Train Loss: 2.1977e-02, Test Loss: 0.1450\n",
      "Epoch 33/50, Train Accuracy: 85.91%, Test Accuracy: 64.28%\n",
      "Epoch 33/50, Train AUC: 85.89%, Test AUC: 67.27%\n",
      "Classification Report on Val Set : \n",
      "              precision    recall  f1-score   support\n",
      "\n",
      "   No Cancer       0.94      0.63      0.76      2248\n",
      "      Cancer       0.20      0.71      0.32       295\n",
      "\n",
      "    accuracy                           0.64      2543\n",
      "   macro avg       0.57      0.67      0.54      2543\n",
      "weighted avg       0.86      0.64      0.71      2543\n",
      "\n"
     ]
    },
    {
     "name": "stderr",
     "output_type": "stream",
     "text": [
      "Epoch 34/50: 100%|██████████| 41/41 [00:12<00:00,  3.21it/s, loss=8.4443e-02]\n"
     ]
    },
    {
     "name": "stdout",
     "output_type": "stream",
     "text": [
      "Epoch 34/50, Train Loss: 1.8816e-02, Test Loss: 0.1403\n",
      "Epoch 34/50, Train Accuracy: 87.03%, Test Accuracy: 66.86%\n",
      "Epoch 34/50, Train AUC: 86.82%, Test AUC: 66.82%\n",
      "Classification Report on Val Set : \n",
      "              precision    recall  f1-score   support\n",
      "\n",
      "   No Cancer       0.94      0.67      0.78      2248\n",
      "      Cancer       0.21      0.67      0.32       295\n",
      "\n",
      "    accuracy                           0.67      2543\n",
      "   macro avg       0.57      0.67      0.55      2543\n",
      "weighted avg       0.85      0.67      0.73      2543\n",
      "\n"
     ]
    },
    {
     "name": "stderr",
     "output_type": "stream",
     "text": [
      "Epoch 35/50: 100%|██████████| 41/41 [00:12<00:00,  3.21it/s, loss=5.2459e-02]\n"
     ]
    },
    {
     "name": "stdout",
     "output_type": "stream",
     "text": [
      "Epoch 35/50, Train Loss: 2.1125e-02, Test Loss: 0.1640\n",
      "Epoch 35/50, Train Accuracy: 86.58%, Test Accuracy: 64.63%\n",
      "Epoch 35/50, Train AUC: 86.74%, Test AUC: 67.02%\n",
      "Classification Report on Val Set : \n",
      "              precision    recall  f1-score   support\n",
      "\n",
      "   No Cancer       0.94      0.64      0.76      2248\n",
      "      Cancer       0.20      0.70      0.32       295\n",
      "\n",
      "    accuracy                           0.65      2543\n",
      "   macro avg       0.57      0.67      0.54      2543\n",
      "weighted avg       0.86      0.65      0.71      2543\n",
      "\n"
     ]
    },
    {
     "name": "stderr",
     "output_type": "stream",
     "text": [
      "Epoch 36/50: 100%|██████████| 41/41 [00:12<00:00,  3.21it/s, loss=2.7658e-02]\n"
     ]
    },
    {
     "name": "stdout",
     "output_type": "stream",
     "text": [
      "Epoch 36/50, Train Loss: 1.8767e-02, Test Loss: 0.1485\n",
      "Epoch 36/50, Train Accuracy: 87.32%, Test Accuracy: 65.68%\n",
      "Epoch 36/50, Train AUC: 87.21%, Test AUC: 66.30%\n",
      "Classification Report on Val Set : \n",
      "              precision    recall  f1-score   support\n",
      "\n",
      "   No Cancer       0.94      0.65      0.77      2248\n",
      "      Cancer       0.20      0.67      0.31       295\n",
      "\n",
      "    accuracy                           0.66      2543\n",
      "   macro avg       0.57      0.66      0.54      2543\n",
      "weighted avg       0.85      0.66      0.72      2543\n",
      "\n"
     ]
    },
    {
     "name": "stderr",
     "output_type": "stream",
     "text": [
      "Epoch 37/50: 100%|██████████| 41/41 [00:12<00:00,  3.21it/s, loss=7.6732e-03]\n"
     ]
    },
    {
     "name": "stdout",
     "output_type": "stream",
     "text": [
      "Epoch 37/50, Train Loss: 1.0914e-02, Test Loss: 0.1095\n",
      "Epoch 37/50, Train Accuracy: 91.24%, Test Accuracy: 71.12%\n",
      "Epoch 37/50, Train AUC: 91.02%, Test AUC: 66.57%\n",
      "Classification Report on Val Set : \n",
      "              precision    recall  f1-score   support\n",
      "\n",
      "   No Cancer       0.93      0.72      0.82      2248\n",
      "      Cancer       0.22      0.61      0.33       295\n",
      "\n",
      "    accuracy                           0.71      2543\n",
      "   macro avg       0.58      0.67      0.57      2543\n",
      "weighted avg       0.85      0.71      0.76      2543\n",
      "\n"
     ]
    },
    {
     "name": "stderr",
     "output_type": "stream",
     "text": [
      "Epoch 38/50: 100%|██████████| 41/41 [00:12<00:00,  3.20it/s, loss=1.5822e-02]\n"
     ]
    },
    {
     "name": "stdout",
     "output_type": "stream",
     "text": [
      "Epoch 38/50, Train Loss: 1.2659e-02, Test Loss: 0.1323\n",
      "Epoch 38/50, Train Accuracy: 89.39%, Test Accuracy: 68.93%\n",
      "Epoch 38/50, Train AUC: 89.18%, Test AUC: 67.24%\n",
      "Classification Report on Val Set : \n",
      "              precision    recall  f1-score   support\n",
      "\n",
      "   No Cancer       0.94      0.69      0.80      2248\n",
      "      Cancer       0.22      0.65      0.33       295\n",
      "\n",
      "    accuracy                           0.69      2543\n",
      "   macro avg       0.58      0.67      0.56      2543\n",
      "weighted avg       0.85      0.69      0.74      2543\n",
      "\n"
     ]
    },
    {
     "name": "stderr",
     "output_type": "stream",
     "text": [
      "Epoch 39/50: 100%|██████████| 41/41 [00:12<00:00,  3.21it/s, loss=7.8311e-03]\n"
     ]
    },
    {
     "name": "stdout",
     "output_type": "stream",
     "text": [
      "Epoch 39/50, Train Loss: 9.1867e-03, Test Loss: 0.0904\n",
      "Epoch 39/50, Train Accuracy: 92.34%, Test Accuracy: 73.30%\n",
      "Epoch 39/50, Train AUC: 92.28%, Test AUC: 66.64%\n",
      "Classification Report on Val Set : \n",
      "              precision    recall  f1-score   support\n",
      "\n",
      "   No Cancer       0.93      0.75      0.83      2248\n",
      "      Cancer       0.24      0.58      0.33       295\n",
      "\n",
      "    accuracy                           0.73      2543\n",
      "   macro avg       0.58      0.67      0.58      2543\n",
      "weighted avg       0.85      0.73      0.78      2543\n",
      "\n"
     ]
    },
    {
     "name": "stderr",
     "output_type": "stream",
     "text": [
      "Epoch 40/50: 100%|██████████| 41/41 [00:12<00:00,  3.21it/s, loss=4.9118e-03]\n"
     ]
    },
    {
     "name": "stdout",
     "output_type": "stream",
     "text": [
      "Epoch 40/50, Train Loss: 9.1529e-03, Test Loss: 0.1117\n",
      "Epoch 40/50, Train Accuracy: 91.30%, Test Accuracy: 71.37%\n",
      "Epoch 40/50, Train AUC: 91.11%, Test AUC: 67.32%\n",
      "Classification Report on Val Set : \n",
      "              precision    recall  f1-score   support\n",
      "\n",
      "   No Cancer       0.94      0.73      0.82      2248\n",
      "      Cancer       0.23      0.62      0.33       295\n",
      "\n",
      "    accuracy                           0.71      2543\n",
      "   macro avg       0.58      0.67      0.58      2543\n",
      "weighted avg       0.85      0.71      0.76      2543\n",
      "\n"
     ]
    },
    {
     "name": "stderr",
     "output_type": "stream",
     "text": [
      "Epoch 41/50: 100%|██████████| 41/41 [00:12<00:00,  3.20it/s, loss=1.8664e-02]\n"
     ]
    },
    {
     "name": "stdout",
     "output_type": "stream",
     "text": [
      "Epoch 41/50, Train Loss: 2.2133e-02, Test Loss: 0.1984\n",
      "Epoch 41/50, Train Accuracy: 85.47%, Test Accuracy: 64.00%\n",
      "Epoch 41/50, Train AUC: 85.71%, Test AUC: 67.40%\n",
      "Classification Report on Val Set : \n",
      "              precision    recall  f1-score   support\n",
      "\n",
      "   No Cancer       0.94      0.63      0.76      2248\n",
      "      Cancer       0.20      0.72      0.32       295\n",
      "\n",
      "    accuracy                           0.64      2543\n",
      "   macro avg       0.57      0.67      0.54      2543\n",
      "weighted avg       0.86      0.64      0.70      2543\n",
      "\n"
     ]
    },
    {
     "name": "stderr",
     "output_type": "stream",
     "text": [
      "Epoch 42/50: 100%|██████████| 41/41 [00:12<00:00,  3.21it/s, loss=4.1496e-02]\n"
     ]
    },
    {
     "name": "stdout",
     "output_type": "stream",
     "text": [
      "Epoch 42/50, Train Loss: 1.1787e-02, Test Loss: 0.1296\n",
      "Epoch 42/50, Train Accuracy: 89.66%, Test Accuracy: 69.42%\n",
      "Epoch 42/50, Train AUC: 89.83%, Test AUC: 66.79%\n",
      "Classification Report on Val Set : \n",
      "              precision    recall  f1-score   support\n",
      "\n",
      "   No Cancer       0.94      0.70      0.80      2248\n",
      "      Cancer       0.22      0.63      0.32       295\n",
      "\n",
      "    accuracy                           0.69      2543\n",
      "   macro avg       0.58      0.67      0.56      2543\n",
      "weighted avg       0.85      0.69      0.75      2543\n",
      "\n"
     ]
    },
    {
     "name": "stderr",
     "output_type": "stream",
     "text": [
      "Epoch 43/50: 100%|██████████| 41/41 [00:12<00:00,  3.21it/s, loss=1.6510e-02]\n"
     ]
    },
    {
     "name": "stdout",
     "output_type": "stream",
     "text": [
      "Epoch 43/50, Train Loss: 1.2774e-02, Test Loss: 0.1666\n",
      "Epoch 43/50, Train Accuracy: 88.35%, Test Accuracy: 66.05%\n",
      "Epoch 43/50, Train AUC: 88.26%, Test AUC: 67.09%\n",
      "Classification Report on Val Set : \n",
      "              precision    recall  f1-score   support\n",
      "\n",
      "   No Cancer       0.94      0.66      0.77      2248\n",
      "      Cancer       0.21      0.68      0.32       295\n",
      "\n",
      "    accuracy                           0.66      2543\n",
      "   macro avg       0.57      0.67      0.55      2543\n",
      "weighted avg       0.86      0.66      0.72      2543\n",
      "\n"
     ]
    },
    {
     "name": "stderr",
     "output_type": "stream",
     "text": [
      "Epoch 44/50: 100%|██████████| 41/41 [00:12<00:00,  3.20it/s, loss=2.6941e-02]\n"
     ]
    },
    {
     "name": "stdout",
     "output_type": "stream",
     "text": [
      "Epoch 44/50, Train Loss: 7.5890e-03, Test Loss: 0.1241\n",
      "Epoch 44/50, Train Accuracy: 91.59%, Test Accuracy: 72.46%\n",
      "Epoch 44/50, Train AUC: 91.65%, Test AUC: 68.51%\n",
      "Classification Report on Val Set : \n",
      "              precision    recall  f1-score   support\n",
      "\n",
      "   No Cancer       0.94      0.74      0.83      2248\n",
      "      Cancer       0.24      0.63      0.35       295\n",
      "\n",
      "    accuracy                           0.72      2543\n",
      "   macro avg       0.59      0.69      0.59      2543\n",
      "weighted avg       0.86      0.72      0.77      2543\n",
      "\n"
     ]
    },
    {
     "name": "stderr",
     "output_type": "stream",
     "text": [
      "Epoch 45/50: 100%|██████████| 41/41 [00:12<00:00,  3.21it/s, loss=2.9755e-02]\n"
     ]
    },
    {
     "name": "stdout",
     "output_type": "stream",
     "text": [
      "Epoch 45/50, Train Loss: 6.3846e-03, Test Loss: 0.1200\n",
      "Epoch 45/50, Train Accuracy: 92.53%, Test Accuracy: 70.91%\n",
      "Epoch 45/50, Train AUC: 92.56%, Test AUC: 65.87%\n",
      "Classification Report on Val Set : \n",
      "              precision    recall  f1-score   support\n",
      "\n",
      "   No Cancer       0.93      0.72      0.81      2248\n",
      "      Cancer       0.22      0.59      0.32       295\n",
      "\n",
      "    accuracy                           0.71      2543\n",
      "   macro avg       0.58      0.66      0.57      2543\n",
      "weighted avg       0.85      0.71      0.76      2543\n",
      "\n"
     ]
    },
    {
     "name": "stderr",
     "output_type": "stream",
     "text": [
      "Epoch 46/50: 100%|██████████| 41/41 [00:12<00:00,  3.21it/s, loss=5.4264e-03]\n"
     ]
    },
    {
     "name": "stdout",
     "output_type": "stream",
     "text": [
      "Epoch 46/50, Train Loss: 7.0458e-03, Test Loss: 0.1126\n",
      "Epoch 46/50, Train Accuracy: 93.07%, Test Accuracy: 72.17%\n",
      "Epoch 46/50, Train AUC: 93.07%, Test AUC: 67.17%\n",
      "Classification Report on Val Set : \n",
      "              precision    recall  f1-score   support\n",
      "\n",
      "   No Cancer       0.93      0.74      0.82      2248\n",
      "      Cancer       0.23      0.61      0.34       295\n",
      "\n",
      "    accuracy                           0.72      2543\n",
      "   macro avg       0.58      0.67      0.58      2543\n",
      "weighted avg       0.85      0.72      0.77      2543\n",
      "\n"
     ]
    },
    {
     "name": "stderr",
     "output_type": "stream",
     "text": [
      "Epoch 47/50: 100%|██████████| 41/41 [00:12<00:00,  3.20it/s, loss=2.2267e-02]\n"
     ]
    },
    {
     "name": "stdout",
     "output_type": "stream",
     "text": [
      "Epoch 47/50, Train Loss: 3.7940e-03, Test Loss: 0.0830\n",
      "Epoch 47/50, Train Accuracy: 95.51%, Test Accuracy: 76.82%\n",
      "Epoch 47/50, Train AUC: 95.50%, Test AUC: 66.41%\n",
      "Classification Report on Val Set : \n",
      "              precision    recall  f1-score   support\n",
      "\n",
      "   No Cancer       0.93      0.80      0.86      2248\n",
      "      Cancer       0.26      0.53      0.35       295\n",
      "\n",
      "    accuracy                           0.77      2543\n",
      "   macro avg       0.59      0.66      0.60      2543\n",
      "weighted avg       0.85      0.77      0.80      2543\n",
      "\n"
     ]
    },
    {
     "name": "stderr",
     "output_type": "stream",
     "text": [
      "Epoch 48/50: 100%|██████████| 41/41 [00:12<00:00,  3.21it/s, loss=4.2045e-02]\n"
     ]
    },
    {
     "name": "stdout",
     "output_type": "stream",
     "text": [
      "Epoch 48/50, Train Loss: 8.6534e-03, Test Loss: 0.1544\n",
      "Epoch 48/50, Train Accuracy: 90.50%, Test Accuracy: 69.02%\n",
      "Epoch 48/50, Train AUC: 90.53%, Test AUC: 67.01%\n",
      "Classification Report on Val Set : \n",
      "              precision    recall  f1-score   support\n",
      "\n",
      "   No Cancer       0.94      0.70      0.80      2248\n",
      "      Cancer       0.22      0.64      0.33       295\n",
      "\n",
      "    accuracy                           0.69      2543\n",
      "   macro avg       0.58      0.67      0.56      2543\n",
      "weighted avg       0.85      0.69      0.74      2543\n",
      "\n"
     ]
    },
    {
     "name": "stderr",
     "output_type": "stream",
     "text": [
      "Epoch 49/50: 100%|██████████| 41/41 [00:12<00:00,  3.20it/s, loss=1.3152e-02]\n"
     ]
    },
    {
     "name": "stdout",
     "output_type": "stream",
     "text": [
      "Epoch 49/50, Train Loss: 4.5014e-03, Test Loss: 0.0920\n",
      "Epoch 49/50, Train Accuracy: 94.08%, Test Accuracy: 75.25%\n",
      "Epoch 49/50, Train AUC: 94.13%, Test AUC: 66.85%\n",
      "Classification Report on Val Set : \n",
      "              precision    recall  f1-score   support\n",
      "\n",
      "   No Cancer       0.93      0.78      0.85      2248\n",
      "      Cancer       0.25      0.56      0.34       295\n",
      "\n",
      "    accuracy                           0.75      2543\n",
      "   macro avg       0.59      0.67      0.60      2543\n",
      "weighted avg       0.85      0.75      0.79      2543\n",
      "\n"
     ]
    },
    {
     "name": "stderr",
     "output_type": "stream",
     "text": [
      "Epoch 50/50: 100%|██████████| 41/41 [00:12<00:00,  3.20it/s, loss=5.0914e-03]\n"
     ]
    },
    {
     "name": "stdout",
     "output_type": "stream",
     "text": [
      "Epoch 50/50, Train Loss: 8.2373e-03, Test Loss: 0.1475\n",
      "Epoch 50/50, Train Accuracy: 91.26%, Test Accuracy: 68.56%\n",
      "Epoch 50/50, Train AUC: 91.23%, Test AUC: 67.04%\n",
      "Classification Report on Val Set : \n",
      "              precision    recall  f1-score   support\n",
      "\n",
      "   No Cancer       0.94      0.69      0.79      2248\n",
      "      Cancer       0.22      0.65      0.32       295\n",
      "\n",
      "    accuracy                           0.69      2543\n",
      "   macro avg       0.58      0.67      0.56      2543\n",
      "weighted avg       0.85      0.69      0.74      2543\n",
      "\n",
      "\n",
      "Finished.\n",
      "Best validation AUC: 6.8505e-01\n",
      "With accuracy: 0.7245565891265869\n"
     ]
    }
   ],
   "source": [
    "# network\n",
    "net = Basic_CNN().to(device).double()\n",
    "\n",
    "# loss and optimizer  \n",
    "criterion = FocalLoss().to(device)\n",
    "optimizer = optim.Adam(net.parameters(), lr=basic_cnn_args['lr_pt'])\n",
    "\n",
    "# Logging + Experiment\n",
    "\n",
    "ignore_keys = {'no_tensorboard'}\n",
    "# get hyperparameters with values in a dict\n",
    "hparams = {**basic_cnn_args}\n",
    "# generate a name for the experiment\n",
    "expe_name = '_'.join([f\"{key}={val}\" for key, val in hparams.items()])\n",
    "print(\"Experimenting with : \\n \\t\"+expe_name)\n",
    "# path where to save the model\n",
    "savepath = Path('models/pre_trained_cnn_checkpt.pt')\n",
    "# Tensorboard summary writer\n",
    "if basic_cnn_args['no_tensorboard']:\n",
    "    writer = None\n",
    "else:\n",
    "    writer = SummaryWriter(\"runs/runs\"+\"_\"+datetime.datetime.now().strftime(\"%Y%m%d-%H%M%S\")+expe_name)\n",
    "    \n",
    "# start the experiment\n",
    "checkpoint = CheckpointState(net, optimizer, savepath=savepath)\n",
    "fit(checkpoint, criterion, non_lung_dataloader_train, non_lung_dataloader_validation, basic_cnn_args['epochs'], writer=writer)\n",
    "if not basic_cnn_args['no_tensorboard']:\n",
    "    writer.close()"
   ]
  },
  {
   "cell_type": "markdown",
   "metadata": {},
   "source": [
    "## **2 - Fine-Tuning on the Lung dataset :**"
   ]
  },
  {
   "cell_type": "markdown",
   "metadata": {},
   "source": [
    "### **2 - 1 - Load Pre-Trained Model :**"
   ]
  },
  {
   "cell_type": "code",
   "execution_count": 6,
   "metadata": {},
   "outputs": [],
   "source": [
    "# Load the pretrained Model\n",
    "net = Basic_CNN().to(device).double()\n",
    "optimizer = optim.Adam(net.parameters(), lr=basic_cnn_args['lr_ft'])\n",
    "# path where the pre-trained model is saved : defined above+\"_best\"\n",
    "savepath = Path('models/pre_trained_cnn_checkpt_best.pt')\n",
    "checkpoint = CheckpointState(net, optimizer, savepath=savepath)\n",
    "checkpoint.load()\n",
    "pretrained = checkpoint.model"
   ]
  },
  {
   "cell_type": "markdown",
   "metadata": {},
   "source": [
    "### **2 - 2 - Get the Data :**"
   ]
  },
  {
   "cell_type": "code",
   "execution_count": 7,
   "metadata": {},
   "outputs": [
    {
     "name": "stdout",
     "output_type": "stream",
     "text": [
      "CPU times: user 617 ms, sys: 92.4 ms, total: 710 ms\n",
      "Wall time: 328 ms\n"
     ]
    }
   ],
   "source": [
    "%%time\n",
    "# Getting the data\n",
    "# dataset\n",
    "lung_dataset = TranscriptomicImagesDatasetLung(data_paths_args[\"path_to_pan_cancer_hdf5_files\"], data_paths_args[\"path_to_treemap_images\"])\n",
    "lung_dataloader_train, lung_dataloader_validation = get_data_loaders(lung_dataset, batch_size_train = basic_cnn_args[\"batch_size_ft\"],\\\n",
    "                                                                             batch_size_validation = basic_cnn_args[\"batch_size_ft\"])"
   ]
  },
  {
   "cell_type": "markdown",
   "metadata": {},
   "source": [
    "### **2 - 3 - Fine Tuning Procedure :**"
   ]
  },
  {
   "cell_type": "code",
   "execution_count": 8,
   "metadata": {},
   "outputs": [
    {
     "name": "stderr",
     "output_type": "stream",
     "text": [
      "Epoch 1/50:   0%|          | 0/5 [00:00<?, ?it/s, loss=3.1211e-01]"
     ]
    },
    {
     "name": "stdout",
     "output_type": "stream",
     "text": [
      "Training on GPU \n",
      "\n"
     ]
    },
    {
     "name": "stderr",
     "output_type": "stream",
     "text": [
      "Epoch 1/50: 100%|██████████| 5/5 [00:01<00:00,  3.62it/s, loss=1.8677e-01]\n"
     ]
    },
    {
     "name": "stdout",
     "output_type": "stream",
     "text": [
      "Epoch 1/50, Train Loss: 5.1267e-02, Test Loss: 0.1548\n",
      "Epoch 1/50, Train Accuracy: 84.05%, Test Accuracy: 67.69%\n",
      "Epoch 1/50, Train AUC: 83.82%, Test AUC: 61.23%\n",
      "Classification Report on Val Set : \n",
      "              precision    recall  f1-score   support\n",
      "\n",
      "   No Cancer       0.92      0.76      0.83       252\n",
      "      Cancer       0.19      0.47      0.27        30\n",
      "\n",
      "    accuracy                           0.73       282\n",
      "   macro avg       0.55      0.61      0.55       282\n",
      "weighted avg       0.84      0.73      0.77       282\n",
      "\n"
     ]
    },
    {
     "name": "stderr",
     "output_type": "stream",
     "text": [
      "Epoch 2/50: 100%|██████████| 5/5 [00:01<00:00,  3.61it/s, loss=7.3099e-02]\n"
     ]
    },
    {
     "name": "stdout",
     "output_type": "stream",
     "text": [
      "Epoch 2/50, Train Loss: 2.3247e-02, Test Loss: 0.1121\n",
      "Epoch 2/50, Train Accuracy: 87.14%, Test Accuracy: 71.83%\n",
      "Epoch 2/50, Train AUC: 88.15%, Test AUC: 60.67%\n",
      "Classification Report on Val Set : \n",
      "              precision    recall  f1-score   support\n",
      "\n",
      "   No Cancer       0.92      0.81      0.86       252\n",
      "      Cancer       0.20      0.40      0.27        30\n",
      "\n",
      "    accuracy                           0.77       282\n",
      "   macro avg       0.56      0.61      0.57       282\n",
      "weighted avg       0.84      0.77      0.80       282\n",
      "\n"
     ]
    },
    {
     "name": "stderr",
     "output_type": "stream",
     "text": [
      "Epoch 3/50: 100%|██████████| 5/5 [00:01<00:00,  3.61it/s, loss=5.2761e-02]\n"
     ]
    },
    {
     "name": "stdout",
     "output_type": "stream",
     "text": [
      "Epoch 3/50, Train Loss: 1.8012e-02, Test Loss: 0.1038\n",
      "Epoch 3/50, Train Accuracy: 87.70%, Test Accuracy: 71.31%\n",
      "Epoch 3/50, Train AUC: 87.62%, Test AUC: 60.28%\n",
      "Classification Report on Val Set : \n",
      "              precision    recall  f1-score   support\n",
      "\n",
      "   No Cancer       0.92      0.81      0.86       252\n",
      "      Cancer       0.20      0.40      0.26        30\n",
      "\n",
      "    accuracy                           0.76       282\n",
      "   macro avg       0.56      0.60      0.56       282\n",
      "weighted avg       0.84      0.76      0.80       282\n",
      "\n"
     ]
    },
    {
     "name": "stderr",
     "output_type": "stream",
     "text": [
      "Epoch 4/50: 100%|██████████| 5/5 [00:01<00:00,  3.61it/s, loss=4.3245e-02]\n"
     ]
    },
    {
     "name": "stdout",
     "output_type": "stream",
     "text": [
      "Epoch 4/50, Train Loss: 1.5144e-02, Test Loss: 0.1007\n",
      "Epoch 4/50, Train Accuracy: 90.24%, Test Accuracy: 74.40%\n",
      "Epoch 4/50, Train AUC: 89.75%, Test AUC: 62.54%\n",
      "Classification Report on Val Set : \n",
      "              precision    recall  f1-score   support\n",
      "\n",
      "   No Cancer       0.92      0.82      0.87       252\n",
      "      Cancer       0.22      0.43      0.29        30\n",
      "\n",
      "    accuracy                           0.78       282\n",
      "   macro avg       0.57      0.63      0.58       282\n",
      "weighted avg       0.85      0.78      0.81       282\n",
      "\n"
     ]
    },
    {
     "name": "stderr",
     "output_type": "stream",
     "text": [
      "Epoch 5/50: 100%|██████████| 5/5 [00:01<00:00,  3.62it/s, loss=6.5061e-02]\n"
     ]
    },
    {
     "name": "stdout",
     "output_type": "stream",
     "text": [
      "Epoch 5/50, Train Loss: 1.5631e-02, Test Loss: 0.1080\n",
      "Epoch 5/50, Train Accuracy: 88.92%, Test Accuracy: 74.14%\n",
      "Epoch 5/50, Train AUC: 89.72%, Test AUC: 63.81%\n",
      "Classification Report on Val Set : \n",
      "              precision    recall  f1-score   support\n",
      "\n",
      "   No Cancer       0.93      0.81      0.86       252\n",
      "      Cancer       0.23      0.47      0.30        30\n",
      "\n",
      "    accuracy                           0.77       282\n",
      "   macro avg       0.58      0.64      0.58       282\n",
      "weighted avg       0.85      0.77      0.80       282\n",
      "\n"
     ]
    },
    {
     "name": "stderr",
     "output_type": "stream",
     "text": [
      "Epoch 6/50: 100%|██████████| 5/5 [00:01<00:00,  3.60it/s, loss=3.7240e-02]\n"
     ]
    },
    {
     "name": "stdout",
     "output_type": "stream",
     "text": [
      "Epoch 6/50, Train Loss: 1.3653e-02, Test Loss: 0.1012\n",
      "Epoch 6/50, Train Accuracy: 90.97%, Test Accuracy: 74.40%\n",
      "Epoch 6/50, Train AUC: 91.52%, Test AUC: 64.01%\n",
      "Classification Report on Val Set : \n",
      "              precision    recall  f1-score   support\n",
      "\n",
      "   No Cancer       0.93      0.81      0.87       252\n",
      "      Cancer       0.23      0.47      0.31        30\n",
      "\n",
      "    accuracy                           0.78       282\n",
      "   macro avg       0.58      0.64      0.59       282\n",
      "weighted avg       0.85      0.78      0.81       282\n",
      "\n"
     ]
    },
    {
     "name": "stderr",
     "output_type": "stream",
     "text": [
      "Epoch 7/50: 100%|██████████| 5/5 [00:01<00:00,  3.61it/s, loss=1.4862e-02]\n"
     ]
    },
    {
     "name": "stdout",
     "output_type": "stream",
     "text": [
      "Epoch 7/50, Train Loss: 1.1789e-02, Test Loss: 0.1034\n",
      "Epoch 7/50, Train Accuracy: 91.66%, Test Accuracy: 72.34%\n",
      "Epoch 7/50, Train AUC: 91.12%, Test AUC: 61.75%\n",
      "Classification Report on Val Set : \n",
      "              precision    recall  f1-score   support\n",
      "\n",
      "   No Cancer       0.92      0.80      0.86       252\n",
      "      Cancer       0.21      0.43      0.28        30\n",
      "\n",
      "    accuracy                           0.76       282\n",
      "   macro avg       0.56      0.62      0.57       282\n",
      "weighted avg       0.85      0.76      0.80       282\n",
      "\n"
     ]
    },
    {
     "name": "stderr",
     "output_type": "stream",
     "text": [
      "Epoch 8/50: 100%|██████████| 5/5 [00:01<00:00,  3.61it/s, loss=2.3012e-02]\n"
     ]
    },
    {
     "name": "stdout",
     "output_type": "stream",
     "text": [
      "Epoch 8/50, Train Loss: 1.2225e-02, Test Loss: 0.1238\n",
      "Epoch 8/50, Train Accuracy: 90.69%, Test Accuracy: 70.25%\n",
      "Epoch 8/50, Train AUC: 90.96%, Test AUC: 66.03%\n",
      "Classification Report on Val Set : \n",
      "              precision    recall  f1-score   support\n",
      "\n",
      "   No Cancer       0.94      0.75      0.84       252\n",
      "      Cancer       0.22      0.57      0.31        30\n",
      "\n",
      "    accuracy                           0.73       282\n",
      "   macro avg       0.58      0.66      0.57       282\n",
      "weighted avg       0.86      0.73      0.78       282\n",
      "\n"
     ]
    },
    {
     "name": "stderr",
     "output_type": "stream",
     "text": [
      "Epoch 9/50: 100%|██████████| 5/5 [00:01<00:00,  3.61it/s, loss=8.4067e-03]\n"
     ]
    },
    {
     "name": "stdout",
     "output_type": "stream",
     "text": [
      "Epoch 9/50, Train Loss: 1.2909e-02, Test Loss: 0.1218\n",
      "Epoch 9/50, Train Accuracy: 89.39%, Test Accuracy: 69.99%\n",
      "Epoch 9/50, Train AUC: 89.79%, Test AUC: 64.37%\n",
      "Classification Report on Val Set : \n",
      "              precision    recall  f1-score   support\n",
      "\n",
      "   No Cancer       0.93      0.75      0.83       252\n",
      "      Cancer       0.21      0.53      0.30        30\n",
      "\n",
      "    accuracy                           0.73       282\n",
      "   macro avg       0.57      0.64      0.56       282\n",
      "weighted avg       0.85      0.73      0.78       282\n",
      "\n"
     ]
    },
    {
     "name": "stderr",
     "output_type": "stream",
     "text": [
      "Epoch 10/50: 100%|██████████| 5/5 [00:01<00:00,  3.60it/s, loss=1.0494e-02]\n"
     ]
    },
    {
     "name": "stdout",
     "output_type": "stream",
     "text": [
      "Epoch 10/50, Train Loss: 7.2631e-03, Test Loss: 0.1247\n",
      "Epoch 10/50, Train Accuracy: 92.27%, Test Accuracy: 69.73%\n",
      "Epoch 10/50, Train AUC: 91.91%, Test AUC: 64.17%\n",
      "Classification Report on Val Set : \n",
      "              precision    recall  f1-score   support\n",
      "\n",
      "   No Cancer       0.93      0.75      0.83       252\n",
      "      Cancer       0.20      0.53      0.29        30\n",
      "\n",
      "    accuracy                           0.73       282\n",
      "   macro avg       0.57      0.64      0.56       282\n",
      "weighted avg       0.85      0.73      0.77       282\n",
      "\n"
     ]
    },
    {
     "name": "stderr",
     "output_type": "stream",
     "text": [
      "Epoch 11/50: 100%|██████████| 5/5 [00:01<00:00,  3.61it/s, loss=3.2175e-03]\n"
     ]
    },
    {
     "name": "stdout",
     "output_type": "stream",
     "text": [
      "Epoch 11/50, Train Loss: 1.0652e-02, Test Loss: 0.1216\n",
      "Epoch 11/50, Train Accuracy: 89.88%, Test Accuracy: 68.45%\n",
      "Epoch 11/50, Train AUC: 90.44%, Test AUC: 63.97%\n",
      "Classification Report on Val Set : \n",
      "              precision    recall  f1-score   support\n",
      "\n",
      "   No Cancer       0.93      0.75      0.83       252\n",
      "      Cancer       0.20      0.53      0.29        30\n",
      "\n",
      "    accuracy                           0.72       282\n",
      "   macro avg       0.57      0.64      0.56       282\n",
      "weighted avg       0.85      0.72      0.77       282\n",
      "\n"
     ]
    },
    {
     "name": "stderr",
     "output_type": "stream",
     "text": [
      "Epoch 12/50: 100%|██████████| 5/5 [00:01<00:00,  3.61it/s, loss=1.4858e-02]\n"
     ]
    },
    {
     "name": "stdout",
     "output_type": "stream",
     "text": [
      "Epoch 12/50, Train Loss: 7.9657e-03, Test Loss: 0.1174\n",
      "Epoch 12/50, Train Accuracy: 93.84%, Test Accuracy: 68.45%\n",
      "Epoch 12/50, Train AUC: 94.05%, Test AUC: 62.50%\n",
      "Classification Report on Val Set : \n",
      "              precision    recall  f1-score   support\n",
      "\n",
      "   No Cancer       0.93      0.75      0.83       252\n",
      "      Cancer       0.19      0.50      0.28        30\n",
      "\n",
      "    accuracy                           0.72       282\n",
      "   macro avg       0.56      0.62      0.55       282\n",
      "weighted avg       0.85      0.72      0.77       282\n",
      "\n"
     ]
    },
    {
     "name": "stderr",
     "output_type": "stream",
     "text": [
      "Epoch 13/50: 100%|██████████| 5/5 [00:01<00:00,  3.61it/s, loss=3.9060e-03]\n"
     ]
    },
    {
     "name": "stdout",
     "output_type": "stream",
     "text": [
      "Epoch 13/50, Train Loss: 4.3335e-03, Test Loss: 0.1046\n",
      "Epoch 13/50, Train Accuracy: 96.39%, Test Accuracy: 72.34%\n",
      "Epoch 13/50, Train AUC: 96.17%, Test AUC: 64.68%\n",
      "Classification Report on Val Set : \n",
      "              precision    recall  f1-score   support\n",
      "\n",
      "   No Cancer       0.93      0.79      0.86       252\n",
      "      Cancer       0.22      0.50      0.31        30\n",
      "\n",
      "    accuracy                           0.76       282\n",
      "   macro avg       0.58      0.65      0.58       282\n",
      "weighted avg       0.86      0.76      0.80       282\n",
      "\n"
     ]
    },
    {
     "name": "stderr",
     "output_type": "stream",
     "text": [
      "Epoch 14/50: 100%|██████████| 5/5 [00:01<00:00,  3.61it/s, loss=3.6093e-03]\n"
     ]
    },
    {
     "name": "stdout",
     "output_type": "stream",
     "text": [
      "Epoch 14/50, Train Loss: 3.3968e-03, Test Loss: 0.0941\n",
      "Epoch 14/50, Train Accuracy: 96.70%, Test Accuracy: 75.70%\n",
      "Epoch 14/50, Train AUC: 96.44%, Test AUC: 65.00%\n",
      "Classification Report on Val Set : \n",
      "              precision    recall  f1-score   support\n",
      "\n",
      "   No Cancer       0.93      0.83      0.88       252\n",
      "      Cancer       0.25      0.47      0.33        30\n",
      "\n",
      "    accuracy                           0.79       282\n",
      "   macro avg       0.59      0.65      0.60       282\n",
      "weighted avg       0.86      0.79      0.82       282\n",
      "\n"
     ]
    },
    {
     "name": "stderr",
     "output_type": "stream",
     "text": [
      "Epoch 15/50: 100%|██████████| 5/5 [00:01<00:00,  3.61it/s, loss=2.8076e-03]\n"
     ]
    },
    {
     "name": "stdout",
     "output_type": "stream",
     "text": [
      "Epoch 15/50, Train Loss: 2.6167e-03, Test Loss: 0.0880\n",
      "Epoch 15/50, Train Accuracy: 97.48%, Test Accuracy: 76.74%\n",
      "Epoch 15/50, Train AUC: 97.45%, Test AUC: 64.33%\n",
      "Classification Report on Val Set : \n",
      "              precision    recall  f1-score   support\n",
      "\n",
      "   No Cancer       0.93      0.85      0.89       252\n",
      "      Cancer       0.26      0.43      0.33        30\n",
      "\n",
      "    accuracy                           0.81       282\n",
      "   macro avg       0.59      0.64      0.61       282\n",
      "weighted avg       0.86      0.81      0.83       282\n",
      "\n"
     ]
    },
    {
     "name": "stderr",
     "output_type": "stream",
     "text": [
      "Epoch 16/50: 100%|██████████| 5/5 [00:01<00:00,  3.61it/s, loss=1.9104e-03]\n"
     ]
    },
    {
     "name": "stdout",
     "output_type": "stream",
     "text": [
      "Epoch 16/50, Train Loss: 3.2933e-03, Test Loss: 0.0882\n",
      "Epoch 16/50, Train Accuracy: 97.14%, Test Accuracy: 77.26%\n",
      "Epoch 16/50, Train AUC: 97.41%, Test AUC: 64.72%\n",
      "Classification Report on Val Set : \n",
      "              precision    recall  f1-score   support\n",
      "\n",
      "   No Cancer       0.93      0.86      0.89       252\n",
      "      Cancer       0.27      0.43      0.33        30\n",
      "\n",
      "    accuracy                           0.82       282\n",
      "   macro avg       0.60      0.65      0.61       282\n",
      "weighted avg       0.86      0.82      0.83       282\n",
      "\n"
     ]
    },
    {
     "name": "stderr",
     "output_type": "stream",
     "text": [
      "Epoch 17/50: 100%|██████████| 5/5 [00:01<00:00,  3.61it/s, loss=2.0550e-03]\n"
     ]
    },
    {
     "name": "stdout",
     "output_type": "stream",
     "text": [
      "Epoch 17/50, Train Loss: 3.4825e-03, Test Loss: 0.0878\n",
      "Epoch 17/50, Train Accuracy: 95.58%, Test Accuracy: 77.26%\n",
      "Epoch 17/50, Train AUC: 95.70%, Test AUC: 64.72%\n",
      "Classification Report on Val Set : \n",
      "              precision    recall  f1-score   support\n",
      "\n",
      "   No Cancer       0.93      0.86      0.89       252\n",
      "      Cancer       0.27      0.43      0.33        30\n",
      "\n",
      "    accuracy                           0.82       282\n",
      "   macro avg       0.60      0.65      0.61       282\n",
      "weighted avg       0.86      0.82      0.83       282\n",
      "\n"
     ]
    },
    {
     "name": "stderr",
     "output_type": "stream",
     "text": [
      "Epoch 18/50: 100%|██████████| 5/5 [00:01<00:00,  3.61it/s, loss=3.2431e-03]\n"
     ]
    },
    {
     "name": "stdout",
     "output_type": "stream",
     "text": [
      "Epoch 18/50, Train Loss: 2.5283e-03, Test Loss: 0.0841\n",
      "Epoch 18/50, Train Accuracy: 97.31%, Test Accuracy: 79.85%\n",
      "Epoch 18/50, Train AUC: 97.47%, Test AUC: 65.91%\n",
      "Classification Report on Val Set : \n",
      "              precision    recall  f1-score   support\n",
      "\n",
      "   No Cancer       0.93      0.88      0.91       252\n",
      "      Cancer       0.31      0.43      0.36        30\n",
      "\n",
      "    accuracy                           0.84       282\n",
      "   macro avg       0.62      0.66      0.63       282\n",
      "weighted avg       0.86      0.84      0.85       282\n",
      "\n"
     ]
    },
    {
     "name": "stderr",
     "output_type": "stream",
     "text": [
      "Epoch 19/50: 100%|██████████| 5/5 [00:01<00:00,  3.61it/s, loss=2.5671e-03]\n"
     ]
    },
    {
     "name": "stdout",
     "output_type": "stream",
     "text": [
      "Epoch 19/50, Train Loss: 2.4391e-03, Test Loss: 0.0846\n",
      "Epoch 19/50, Train Accuracy: 97.34%, Test Accuracy: 80.87%\n",
      "Epoch 19/50, Train AUC: 97.07%, Test AUC: 64.44%\n",
      "Classification Report on Val Set : \n",
      "              precision    recall  f1-score   support\n",
      "\n",
      "   No Cancer       0.93      0.89      0.91       252\n",
      "      Cancer       0.30      0.40      0.34        30\n",
      "\n",
      "    accuracy                           0.84       282\n",
      "   macro avg       0.61      0.64      0.62       282\n",
      "weighted avg       0.86      0.84      0.85       282\n",
      "\n"
     ]
    },
    {
     "name": "stderr",
     "output_type": "stream",
     "text": [
      "Epoch 20/50: 100%|██████████| 5/5 [00:01<00:00,  3.61it/s, loss=3.3778e-03]\n"
     ]
    },
    {
     "name": "stdout",
     "output_type": "stream",
     "text": [
      "Epoch 20/50, Train Loss: 1.5252e-03, Test Loss: 0.0826\n",
      "Epoch 20/50, Train Accuracy: 97.80%, Test Accuracy: 80.61%\n",
      "Epoch 20/50, Train AUC: 97.61%, Test AUC: 62.78%\n",
      "Classification Report on Val Set : \n",
      "              precision    recall  f1-score   support\n",
      "\n",
      "   No Cancer       0.92      0.89      0.91       252\n",
      "      Cancer       0.28      0.37      0.32        30\n",
      "\n",
      "    accuracy                           0.83       282\n",
      "   macro avg       0.60      0.63      0.61       282\n",
      "weighted avg       0.85      0.83      0.84       282\n",
      "\n"
     ]
    },
    {
     "name": "stderr",
     "output_type": "stream",
     "text": [
      "Epoch 21/50: 100%|██████████| 5/5 [00:01<00:00,  3.61it/s, loss=3.3550e-03]\n"
     ]
    },
    {
     "name": "stdout",
     "output_type": "stream",
     "text": [
      "Epoch 21/50, Train Loss: 1.5155e-03, Test Loss: 0.0842\n",
      "Epoch 21/50, Train Accuracy: 97.61%, Test Accuracy: 80.61%\n",
      "Epoch 21/50, Train AUC: 98.01%, Test AUC: 62.78%\n",
      "Classification Report on Val Set : \n",
      "              precision    recall  f1-score   support\n",
      "\n",
      "   No Cancer       0.92      0.89      0.91       252\n",
      "      Cancer       0.28      0.37      0.32        30\n",
      "\n",
      "    accuracy                           0.83       282\n",
      "   macro avg       0.60      0.63      0.61       282\n",
      "weighted avg       0.85      0.83      0.84       282\n",
      "\n"
     ]
    },
    {
     "name": "stderr",
     "output_type": "stream",
     "text": [
      "Epoch 22/50: 100%|██████████| 5/5 [00:01<00:00,  3.61it/s, loss=2.3768e-03]\n"
     ]
    },
    {
     "name": "stdout",
     "output_type": "stream",
     "text": [
      "Epoch 22/50, Train Loss: 1.3295e-03, Test Loss: 0.0831\n",
      "Epoch 22/50, Train Accuracy: 98.12%, Test Accuracy: 82.41%\n",
      "Epoch 22/50, Train AUC: 97.80%, Test AUC: 60.44%\n",
      "Classification Report on Val Set : \n",
      "              precision    recall  f1-score   support\n",
      "\n",
      "   No Cancer       0.92      0.91      0.91       252\n",
      "      Cancer       0.28      0.30      0.29        30\n",
      "\n",
      "    accuracy                           0.84       282\n",
      "   macro avg       0.60      0.60      0.60       282\n",
      "weighted avg       0.85      0.84      0.85       282\n",
      "\n"
     ]
    },
    {
     "name": "stderr",
     "output_type": "stream",
     "text": [
      "Epoch 23/50: 100%|██████████| 5/5 [00:01<00:00,  3.61it/s, loss=9.4566e-04]\n"
     ]
    },
    {
     "name": "stdout",
     "output_type": "stream",
     "text": [
      "Epoch 23/50, Train Loss: 9.8903e-04, Test Loss: 0.0820\n",
      "Epoch 23/50, Train Accuracy: 99.06%, Test Accuracy: 82.67%\n",
      "Epoch 23/50, Train AUC: 98.99%, Test AUC: 59.17%\n",
      "Classification Report on Val Set : \n",
      "              precision    recall  f1-score   support\n",
      "\n",
      "   No Cancer       0.91      0.92      0.91       252\n",
      "      Cancer       0.28      0.27      0.27        30\n",
      "\n",
      "    accuracy                           0.85       282\n",
      "   macro avg       0.59      0.59      0.59       282\n",
      "weighted avg       0.85      0.85      0.85       282\n",
      "\n"
     ]
    },
    {
     "name": "stderr",
     "output_type": "stream",
     "text": [
      "Epoch 24/50: 100%|██████████| 5/5 [00:01<00:00,  3.61it/s, loss=1.9482e-03]\n"
     ]
    },
    {
     "name": "stdout",
     "output_type": "stream",
     "text": [
      "Epoch 24/50, Train Loss: 9.7405e-04, Test Loss: 0.0838\n",
      "Epoch 24/50, Train Accuracy: 98.91%, Test Accuracy: 82.93%\n",
      "Epoch 24/50, Train AUC: 98.81%, Test AUC: 60.83%\n",
      "Classification Report on Val Set : \n",
      "              precision    recall  f1-score   support\n",
      "\n",
      "   No Cancer       0.92      0.92      0.92       252\n",
      "      Cancer       0.30      0.30      0.30        30\n",
      "\n",
      "    accuracy                           0.85       282\n",
      "   macro avg       0.61      0.61      0.61       282\n",
      "weighted avg       0.85      0.85      0.85       282\n",
      "\n"
     ]
    },
    {
     "name": "stderr",
     "output_type": "stream",
     "text": [
      "Epoch 25/50: 100%|██████████| 5/5 [00:01<00:00,  3.61it/s, loss=7.7111e-03]\n"
     ]
    },
    {
     "name": "stdout",
     "output_type": "stream",
     "text": [
      "Epoch 25/50, Train Loss: 7.9046e-04, Test Loss: 0.0837\n",
      "Epoch 25/50, Train Accuracy: 99.69%, Test Accuracy: 82.93%\n",
      "Epoch 25/50, Train AUC: 99.66%, Test AUC: 59.37%\n",
      "Classification Report on Val Set : \n",
      "              precision    recall  f1-score   support\n",
      "\n",
      "   No Cancer       0.91      0.92      0.92       252\n",
      "      Cancer       0.29      0.27      0.28        30\n",
      "\n",
      "    accuracy                           0.85       282\n",
      "   macro avg       0.60      0.59      0.60       282\n",
      "weighted avg       0.85      0.85      0.85       282\n",
      "\n"
     ]
    },
    {
     "name": "stderr",
     "output_type": "stream",
     "text": [
      "Epoch 26/50: 100%|██████████| 5/5 [00:01<00:00,  3.61it/s, loss=4.2733e-03]\n"
     ]
    },
    {
     "name": "stdout",
     "output_type": "stream",
     "text": [
      "Epoch 26/50, Train Loss: 5.0057e-04, Test Loss: 0.0828\n",
      "Epoch 26/50, Train Accuracy: 99.69%, Test Accuracy: 82.93%\n",
      "Epoch 26/50, Train AUC: 99.64%, Test AUC: 57.90%\n",
      "Classification Report on Val Set : \n",
      "              precision    recall  f1-score   support\n",
      "\n",
      "   No Cancer       0.91      0.92      0.92       252\n",
      "      Cancer       0.27      0.23      0.25        30\n",
      "\n",
      "    accuracy                           0.85       282\n",
      "   macro avg       0.59      0.58      0.58       282\n",
      "weighted avg       0.84      0.85      0.85       282\n",
      "\n"
     ]
    },
    {
     "name": "stderr",
     "output_type": "stream",
     "text": [
      "Epoch 27/50: 100%|██████████| 5/5 [00:01<00:00,  3.61it/s, loss=2.1236e-03]\n"
     ]
    },
    {
     "name": "stdout",
     "output_type": "stream",
     "text": [
      "Epoch 27/50, Train Loss: 6.0538e-04, Test Loss: 0.0827\n",
      "Epoch 27/50, Train Accuracy: 99.53%, Test Accuracy: 83.19%\n",
      "Epoch 27/50, Train AUC: 99.48%, Test AUC: 58.10%\n",
      "Classification Report on Val Set : \n",
      "              precision    recall  f1-score   support\n",
      "\n",
      "   No Cancer       0.91      0.93      0.92       252\n",
      "      Cancer       0.28      0.23      0.25        30\n",
      "\n",
      "    accuracy                           0.85       282\n",
      "   macro avg       0.60      0.58      0.59       282\n",
      "weighted avg       0.84      0.85      0.85       282\n",
      "\n"
     ]
    },
    {
     "name": "stderr",
     "output_type": "stream",
     "text": [
      "Epoch 28/50: 100%|██████████| 5/5 [00:01<00:00,  3.61it/s, loss=1.2144e-03]\n"
     ]
    },
    {
     "name": "stdout",
     "output_type": "stream",
     "text": [
      "Epoch 28/50, Train Loss: 7.8217e-04, Test Loss: 0.0853\n",
      "Epoch 28/50, Train Accuracy: 99.69%, Test Accuracy: 83.19%\n",
      "Epoch 28/50, Train AUC: 99.67%, Test AUC: 61.03%\n",
      "Classification Report on Val Set : \n",
      "              precision    recall  f1-score   support\n",
      "\n",
      "   No Cancer       0.92      0.92      0.92       252\n",
      "      Cancer       0.31      0.30      0.31        30\n",
      "\n",
      "    accuracy                           0.85       282\n",
      "   macro avg       0.61      0.61      0.61       282\n",
      "weighted avg       0.85      0.85      0.85       282\n",
      "\n"
     ]
    },
    {
     "name": "stderr",
     "output_type": "stream",
     "text": [
      "Epoch 29/50: 100%|██████████| 5/5 [00:01<00:00,  3.61it/s, loss=7.1076e-04]\n"
     ]
    },
    {
     "name": "stdout",
     "output_type": "stream",
     "text": [
      "Epoch 29/50, Train Loss: 8.9187e-04, Test Loss: 0.0873\n",
      "Epoch 29/50, Train Accuracy: 99.22%, Test Accuracy: 82.93%\n",
      "Epoch 29/50, Train AUC: 99.14%, Test AUC: 60.83%\n",
      "Classification Report on Val Set : \n",
      "              precision    recall  f1-score   support\n",
      "\n",
      "   No Cancer       0.92      0.92      0.92       252\n",
      "      Cancer       0.30      0.30      0.30        30\n",
      "\n",
      "    accuracy                           0.85       282\n",
      "   macro avg       0.61      0.61      0.61       282\n",
      "weighted avg       0.85      0.85      0.85       282\n",
      "\n"
     ]
    },
    {
     "name": "stderr",
     "output_type": "stream",
     "text": [
      "Epoch 30/50: 100%|██████████| 5/5 [00:01<00:00,  3.61it/s, loss=8.6246e-04]\n"
     ]
    },
    {
     "name": "stdout",
     "output_type": "stream",
     "text": [
      "Epoch 30/50, Train Loss: 5.3412e-04, Test Loss: 0.0892\n",
      "Epoch 30/50, Train Accuracy: 99.69%, Test Accuracy: 79.07%\n",
      "Epoch 30/50, Train AUC: 99.64%, Test AUC: 59.44%\n",
      "Classification Report on Val Set : \n",
      "              precision    recall  f1-score   support\n",
      "\n",
      "   No Cancer       0.91      0.89      0.90       252\n",
      "      Cancer       0.24      0.30      0.27        30\n",
      "\n",
      "    accuracy                           0.83       282\n",
      "   macro avg       0.58      0.59      0.59       282\n",
      "weighted avg       0.84      0.83      0.83       282\n",
      "\n"
     ]
    },
    {
     "name": "stderr",
     "output_type": "stream",
     "text": [
      "Epoch 31/50: 100%|██████████| 5/5 [00:01<00:00,  3.61it/s, loss=3.1154e-03]\n"
     ]
    },
    {
     "name": "stdout",
     "output_type": "stream",
     "text": [
      "Epoch 31/50, Train Loss: 1.1411e-03, Test Loss: 0.0921\n",
      "Epoch 31/50, Train Accuracy: 97.45%, Test Accuracy: 78.81%\n",
      "Epoch 31/50, Train AUC: 97.90%, Test AUC: 62.18%\n",
      "Classification Report on Val Set : \n",
      "              precision    recall  f1-score   support\n",
      "\n",
      "   No Cancer       0.92      0.88      0.90       252\n",
      "      Cancer       0.26      0.37      0.31        30\n",
      "\n",
      "    accuracy                           0.82       282\n",
      "   macro avg       0.59      0.62      0.60       282\n",
      "weighted avg       0.85      0.82      0.84       282\n",
      "\n"
     ]
    },
    {
     "name": "stderr",
     "output_type": "stream",
     "text": [
      "Epoch 32/50: 100%|██████████| 5/5 [00:01<00:00,  3.61it/s, loss=2.1552e-03]\n"
     ]
    },
    {
     "name": "stdout",
     "output_type": "stream",
     "text": [
      "Epoch 32/50, Train Loss: 1.0900e-03, Test Loss: 0.0963\n",
      "Epoch 32/50, Train Accuracy: 98.42%, Test Accuracy: 78.55%\n",
      "Epoch 32/50, Train AUC: 98.47%, Test AUC: 63.45%\n",
      "Classification Report on Val Set : \n",
      "              precision    recall  f1-score   support\n",
      "\n",
      "   No Cancer       0.92      0.87      0.90       252\n",
      "      Cancer       0.27      0.40      0.32        30\n",
      "\n",
      "    accuracy                           0.82       282\n",
      "   macro avg       0.60      0.63      0.61       282\n",
      "weighted avg       0.85      0.82      0.83       282\n",
      "\n"
     ]
    },
    {
     "name": "stderr",
     "output_type": "stream",
     "text": [
      "Epoch 33/50: 100%|██████████| 5/5 [00:01<00:00,  3.61it/s, loss=4.0313e-04]\n"
     ]
    },
    {
     "name": "stdout",
     "output_type": "stream",
     "text": [
      "Epoch 33/50, Train Loss: 7.4707e-04, Test Loss: 0.0921\n",
      "Epoch 33/50, Train Accuracy: 98.59%, Test Accuracy: 81.13%\n",
      "Epoch 33/50, Train AUC: 98.33%, Test AUC: 64.64%\n",
      "Classification Report on Val Set : \n",
      "              precision    recall  f1-score   support\n",
      "\n",
      "   No Cancer       0.93      0.89      0.91       252\n",
      "      Cancer       0.31      0.40      0.35        30\n",
      "\n",
      "    accuracy                           0.84       282\n",
      "   macro avg       0.62      0.65      0.63       282\n",
      "weighted avg       0.86      0.84      0.85       282\n",
      "\n"
     ]
    },
    {
     "name": "stderr",
     "output_type": "stream",
     "text": [
      "Epoch 34/50: 100%|██████████| 5/5 [00:01<00:00,  3.61it/s, loss=6.8036e-03]\n"
     ]
    },
    {
     "name": "stdout",
     "output_type": "stream",
     "text": [
      "Epoch 34/50, Train Loss: 1.3039e-03, Test Loss: 0.0968\n",
      "Epoch 34/50, Train Accuracy: 98.27%, Test Accuracy: 79.83%\n",
      "Epoch 34/50, Train AUC: 98.26%, Test AUC: 63.65%\n",
      "Classification Report on Val Set : \n",
      "              precision    recall  f1-score   support\n",
      "\n",
      "   No Cancer       0.92      0.87      0.90       252\n",
      "      Cancer       0.27      0.40      0.32        30\n",
      "\n",
      "    accuracy                           0.82       282\n",
      "   macro avg       0.60      0.64      0.61       282\n",
      "weighted avg       0.86      0.82      0.84       282\n",
      "\n"
     ]
    },
    {
     "name": "stderr",
     "output_type": "stream",
     "text": [
      "Epoch 35/50: 100%|██████████| 5/5 [00:01<00:00,  3.61it/s, loss=8.4391e-04]\n"
     ]
    },
    {
     "name": "stdout",
     "output_type": "stream",
     "text": [
      "Epoch 35/50, Train Loss: 6.9924e-04, Test Loss: 0.0954\n",
      "Epoch 35/50, Train Accuracy: 98.59%, Test Accuracy: 80.61%\n",
      "Epoch 35/50, Train AUC: 98.42%, Test AUC: 64.25%\n",
      "Classification Report on Val Set : \n",
      "              precision    recall  f1-score   support\n",
      "\n",
      "   No Cancer       0.93      0.88      0.90       252\n",
      "      Cancer       0.29      0.40      0.34        30\n",
      "\n",
      "    accuracy                           0.83       282\n",
      "   macro avg       0.61      0.64      0.62       282\n",
      "weighted avg       0.86      0.83      0.84       282\n",
      "\n"
     ]
    },
    {
     "name": "stderr",
     "output_type": "stream",
     "text": [
      "Epoch 36/50: 100%|██████████| 5/5 [00:01<00:00,  3.61it/s, loss=9.1157e-04]\n"
     ]
    },
    {
     "name": "stdout",
     "output_type": "stream",
     "text": [
      "Epoch 36/50, Train Loss: 7.6230e-04, Test Loss: 0.0931\n",
      "Epoch 36/50, Train Accuracy: 98.75%, Test Accuracy: 80.87%\n",
      "Epoch 36/50, Train AUC: 98.72%, Test AUC: 62.98%\n",
      "Classification Report on Val Set : \n",
      "              precision    recall  f1-score   support\n",
      "\n",
      "   No Cancer       0.92      0.89      0.91       252\n",
      "      Cancer       0.29      0.37      0.32        30\n",
      "\n",
      "    accuracy                           0.84       282\n",
      "   macro avg       0.61      0.63      0.62       282\n",
      "weighted avg       0.85      0.84      0.85       282\n",
      "\n"
     ]
    },
    {
     "name": "stderr",
     "output_type": "stream",
     "text": [
      "Epoch 37/50: 100%|██████████| 5/5 [00:01<00:00,  3.61it/s, loss=1.1078e-03]\n"
     ]
    },
    {
     "name": "stdout",
     "output_type": "stream",
     "text": [
      "Epoch 37/50, Train Loss: 3.3513e-04, Test Loss: 0.0920\n",
      "Epoch 37/50, Train Accuracy: 99.53%, Test Accuracy: 81.13%\n",
      "Epoch 37/50, Train AUC: 99.47%, Test AUC: 61.71%\n",
      "Classification Report on Val Set : \n",
      "              precision    recall  f1-score   support\n",
      "\n",
      "   No Cancer       0.92      0.90      0.91       252\n",
      "      Cancer       0.29      0.33      0.31        30\n",
      "\n",
      "    accuracy                           0.84       282\n",
      "   macro avg       0.60      0.62      0.61       282\n",
      "weighted avg       0.85      0.84      0.85       282\n",
      "\n"
     ]
    },
    {
     "name": "stderr",
     "output_type": "stream",
     "text": [
      "Epoch 38/50: 100%|██████████| 5/5 [00:01<00:00,  3.62it/s, loss=6.0691e-04]\n"
     ]
    },
    {
     "name": "stdout",
     "output_type": "stream",
     "text": [
      "Epoch 38/50, Train Loss: 4.7706e-04, Test Loss: 0.0916\n",
      "Epoch 38/50, Train Accuracy: 99.38%, Test Accuracy: 81.13%\n",
      "Epoch 38/50, Train AUC: 99.37%, Test AUC: 61.71%\n",
      "Classification Report on Val Set : \n",
      "              precision    recall  f1-score   support\n",
      "\n",
      "   No Cancer       0.92      0.90      0.91       252\n",
      "      Cancer       0.29      0.33      0.31        30\n",
      "\n",
      "    accuracy                           0.84       282\n",
      "   macro avg       0.60      0.62      0.61       282\n",
      "weighted avg       0.85      0.84      0.85       282\n",
      "\n"
     ]
    },
    {
     "name": "stderr",
     "output_type": "stream",
     "text": [
      "Epoch 39/50: 100%|██████████| 5/5 [00:01<00:00,  3.61it/s, loss=8.9865e-04]\n"
     ]
    },
    {
     "name": "stdout",
     "output_type": "stream",
     "text": [
      "Epoch 39/50, Train Loss: 4.0065e-04, Test Loss: 0.0919\n",
      "Epoch 39/50, Train Accuracy: 99.53%, Test Accuracy: 81.39%\n",
      "Epoch 39/50, Train AUC: 99.49%, Test AUC: 60.44%\n",
      "Classification Report on Val Set : \n",
      "              precision    recall  f1-score   support\n",
      "\n",
      "   No Cancer       0.92      0.91      0.91       252\n",
      "      Cancer       0.28      0.30      0.29        30\n",
      "\n",
      "    accuracy                           0.84       282\n",
      "   macro avg       0.60      0.60      0.60       282\n",
      "weighted avg       0.85      0.84      0.85       282\n",
      "\n"
     ]
    },
    {
     "name": "stderr",
     "output_type": "stream",
     "text": [
      "Epoch 40/50: 100%|██████████| 5/5 [00:01<00:00,  3.61it/s, loss=6.3059e-04]\n"
     ]
    },
    {
     "name": "stdout",
     "output_type": "stream",
     "text": [
      "Epoch 40/50, Train Loss: 3.6843e-04, Test Loss: 0.0922\n",
      "Epoch 40/50, Train Accuracy: 99.53%, Test Accuracy: 82.41%\n",
      "Epoch 40/50, Train AUC: 99.50%, Test AUC: 57.50%\n",
      "Classification Report on Val Set : \n",
      "              precision    recall  f1-score   support\n",
      "\n",
      "   No Cancer       0.91      0.92      0.91       252\n",
      "      Cancer       0.25      0.23      0.24        30\n",
      "\n",
      "    accuracy                           0.84       282\n",
      "   macro avg       0.58      0.57      0.58       282\n",
      "weighted avg       0.84      0.84      0.84       282\n",
      "\n"
     ]
    },
    {
     "name": "stderr",
     "output_type": "stream",
     "text": [
      "Epoch 41/50: 100%|██████████| 5/5 [00:01<00:00,  3.61it/s, loss=1.7004e-03]\n"
     ]
    },
    {
     "name": "stdout",
     "output_type": "stream",
     "text": [
      "Epoch 41/50, Train Loss: 2.7555e-04, Test Loss: 0.0914\n",
      "Epoch 41/50, Train Accuracy: 99.69%, Test Accuracy: 82.41%\n",
      "Epoch 41/50, Train AUC: 99.65%, Test AUC: 56.03%\n",
      "Classification Report on Val Set : \n",
      "              precision    recall  f1-score   support\n",
      "\n",
      "   No Cancer       0.91      0.92      0.91       252\n",
      "      Cancer       0.23      0.20      0.21        30\n",
      "\n",
      "    accuracy                           0.84       282\n",
      "   macro avg       0.57      0.56      0.56       282\n",
      "weighted avg       0.83      0.84      0.84       282\n",
      "\n"
     ]
    },
    {
     "name": "stderr",
     "output_type": "stream",
     "text": [
      "Epoch 42/50: 100%|██████████| 5/5 [00:01<00:00,  3.61it/s, loss=1.0576e-03]\n"
     ]
    },
    {
     "name": "stdout",
     "output_type": "stream",
     "text": [
      "Epoch 42/50, Train Loss: 2.6543e-04, Test Loss: 0.0914\n",
      "Epoch 42/50, Train Accuracy: 99.69%, Test Accuracy: 82.67%\n",
      "Epoch 42/50, Train AUC: 99.64%, Test AUC: 56.23%\n",
      "Classification Report on Val Set : \n",
      "              precision    recall  f1-score   support\n",
      "\n",
      "   No Cancer       0.91      0.92      0.92       252\n",
      "      Cancer       0.24      0.20      0.22        30\n",
      "\n",
      "    accuracy                           0.85       282\n",
      "   macro avg       0.57      0.56      0.57       282\n",
      "weighted avg       0.84      0.85      0.84       282\n",
      "\n"
     ]
    },
    {
     "name": "stderr",
     "output_type": "stream",
     "text": [
      "Epoch 43/50: 100%|██████████| 5/5 [00:01<00:00,  3.61it/s, loss=6.5203e-04]\n"
     ]
    },
    {
     "name": "stdout",
     "output_type": "stream",
     "text": [
      "Epoch 43/50, Train Loss: 3.5033e-04, Test Loss: 0.0920\n",
      "Epoch 43/50, Train Accuracy: 99.84%, Test Accuracy: 82.15%\n",
      "Epoch 43/50, Train AUC: 99.83%, Test AUC: 55.83%\n",
      "Classification Report on Val Set : \n",
      "              precision    recall  f1-score   support\n",
      "\n",
      "   No Cancer       0.91      0.92      0.91       252\n",
      "      Cancer       0.22      0.20      0.21        30\n",
      "\n",
      "    accuracy                           0.84       282\n",
      "   macro avg       0.56      0.56      0.56       282\n",
      "weighted avg       0.83      0.84      0.84       282\n",
      "\n"
     ]
    },
    {
     "name": "stderr",
     "output_type": "stream",
     "text": [
      "Epoch 44/50: 100%|██████████| 5/5 [00:01<00:00,  3.60it/s, loss=7.0288e-04]\n"
     ]
    },
    {
     "name": "stdout",
     "output_type": "stream",
     "text": [
      "Epoch 44/50, Train Loss: 3.3324e-04, Test Loss: 0.0928\n",
      "Epoch 44/50, Train Accuracy: 100.00%, Test Accuracy: 82.15%\n",
      "Epoch 44/50, Train AUC: 100.00%, Test AUC: 55.83%\n",
      "Classification Report on Val Set : \n",
      "              precision    recall  f1-score   support\n",
      "\n",
      "   No Cancer       0.91      0.92      0.91       252\n",
      "      Cancer       0.22      0.20      0.21        30\n",
      "\n",
      "    accuracy                           0.84       282\n",
      "   macro avg       0.56      0.56      0.56       282\n",
      "weighted avg       0.83      0.84      0.84       282\n",
      "\n"
     ]
    },
    {
     "name": "stderr",
     "output_type": "stream",
     "text": [
      "Epoch 45/50: 100%|██████████| 5/5 [00:01<00:00,  3.61it/s, loss=6.3131e-05]\n"
     ]
    },
    {
     "name": "stdout",
     "output_type": "stream",
     "text": [
      "Epoch 45/50, Train Loss: 2.8108e-04, Test Loss: 0.0946\n",
      "Epoch 45/50, Train Accuracy: 99.84%, Test Accuracy: 82.41%\n",
      "Epoch 45/50, Train AUC: 99.84%, Test AUC: 56.03%\n",
      "Classification Report on Val Set : \n",
      "              precision    recall  f1-score   support\n",
      "\n",
      "   No Cancer       0.91      0.92      0.91       252\n",
      "      Cancer       0.23      0.20      0.21        30\n",
      "\n",
      "    accuracy                           0.84       282\n",
      "   macro avg       0.57      0.56      0.56       282\n",
      "weighted avg       0.83      0.84      0.84       282\n",
      "\n"
     ]
    },
    {
     "name": "stderr",
     "output_type": "stream",
     "text": [
      "Epoch 46/50: 100%|██████████| 5/5 [00:01<00:00,  3.61it/s, loss=3.5316e-04]\n"
     ]
    },
    {
     "name": "stdout",
     "output_type": "stream",
     "text": [
      "Epoch 46/50, Train Loss: 2.2343e-04, Test Loss: 0.0954\n",
      "Epoch 46/50, Train Accuracy: 100.00%, Test Accuracy: 82.67%\n",
      "Epoch 46/50, Train AUC: 100.00%, Test AUC: 57.70%\n",
      "Classification Report on Val Set : \n",
      "              precision    recall  f1-score   support\n",
      "\n",
      "   No Cancer       0.91      0.92      0.92       252\n",
      "      Cancer       0.26      0.23      0.25        30\n",
      "\n",
      "    accuracy                           0.85       282\n",
      "   macro avg       0.58      0.58      0.58       282\n",
      "weighted avg       0.84      0.85      0.84       282\n",
      "\n"
     ]
    },
    {
     "name": "stderr",
     "output_type": "stream",
     "text": [
      "Epoch 47/50: 100%|██████████| 5/5 [00:01<00:00,  3.61it/s, loss=8.3394e-04]\n"
     ]
    },
    {
     "name": "stdout",
     "output_type": "stream",
     "text": [
      "Epoch 47/50, Train Loss: 2.1703e-04, Test Loss: 0.0971\n",
      "Epoch 47/50, Train Accuracy: 99.84%, Test Accuracy: 82.15%\n",
      "Epoch 47/50, Train AUC: 99.83%, Test AUC: 57.30%\n",
      "Classification Report on Val Set : \n",
      "              precision    recall  f1-score   support\n",
      "\n",
      "   No Cancer       0.91      0.91      0.91       252\n",
      "      Cancer       0.24      0.23      0.24        30\n",
      "\n",
      "    accuracy                           0.84       282\n",
      "   macro avg       0.58      0.57      0.57       282\n",
      "weighted avg       0.84      0.84      0.84       282\n",
      "\n"
     ]
    },
    {
     "name": "stderr",
     "output_type": "stream",
     "text": [
      "Epoch 48/50: 100%|██████████| 5/5 [00:01<00:00,  3.61it/s, loss=6.2272e-04]\n"
     ]
    },
    {
     "name": "stdout",
     "output_type": "stream",
     "text": [
      "Epoch 48/50, Train Loss: 5.8823e-04, Test Loss: 0.0991\n",
      "Epoch 48/50, Train Accuracy: 99.22%, Test Accuracy: 81.65%\n",
      "Epoch 48/50, Train AUC: 99.17%, Test AUC: 62.10%\n",
      "Classification Report on Val Set : \n",
      "              precision    recall  f1-score   support\n",
      "\n",
      "   No Cancer       0.92      0.91      0.91       252\n",
      "      Cancer       0.30      0.33      0.32        30\n",
      "\n",
      "    accuracy                           0.85       282\n",
      "   macro avg       0.61      0.62      0.62       282\n",
      "weighted avg       0.85      0.85      0.85       282\n",
      "\n"
     ]
    },
    {
     "name": "stderr",
     "output_type": "stream",
     "text": [
      "Epoch 49/50: 100%|██████████| 5/5 [00:01<00:00,  3.61it/s, loss=6.9748e-04]\n"
     ]
    },
    {
     "name": "stdout",
     "output_type": "stream",
     "text": [
      "Epoch 49/50, Train Loss: 2.4685e-04, Test Loss: 0.0968\n",
      "Epoch 49/50, Train Accuracy: 99.84%, Test Accuracy: 81.13%\n",
      "Epoch 49/50, Train AUC: 99.83%, Test AUC: 57.30%\n",
      "Classification Report on Val Set : \n",
      "              precision    recall  f1-score   support\n",
      "\n",
      "   No Cancer       0.91      0.91      0.91       252\n",
      "      Cancer       0.24      0.23      0.24        30\n",
      "\n",
      "    accuracy                           0.84       282\n",
      "   macro avg       0.58      0.57      0.57       282\n",
      "weighted avg       0.84      0.84      0.84       282\n",
      "\n"
     ]
    },
    {
     "name": "stderr",
     "output_type": "stream",
     "text": [
      "Epoch 50/50: 100%|██████████| 5/5 [00:01<00:00,  3.61it/s, loss=3.8337e-04]\n"
     ]
    },
    {
     "name": "stdout",
     "output_type": "stream",
     "text": [
      "Epoch 50/50, Train Loss: 2.9948e-04, Test Loss: 0.0972\n",
      "Epoch 50/50, Train Accuracy: 99.22%, Test Accuracy: 81.39%\n",
      "Epoch 50/50, Train AUC: 99.17%, Test AUC: 58.97%\n",
      "Classification Report on Val Set : \n",
      "              precision    recall  f1-score   support\n",
      "\n",
      "   No Cancer       0.91      0.91      0.91       252\n",
      "      Cancer       0.27      0.27      0.27        30\n",
      "\n",
      "    accuracy                           0.84       282\n",
      "   macro avg       0.59      0.59      0.59       282\n",
      "weighted avg       0.84      0.84      0.84       282\n",
      "\n",
      "\n",
      "Finished.\n",
      "Best validation AUC: 6.6032e-01\n",
      "With accuracy: 0.7025240461031595\n"
     ]
    }
   ],
   "source": [
    "# Beginnig Of Transfer Learnig Procedure\n",
    "net = fine_tune_CNN(pretrained)\n",
    "net = net.to(device).double()\n",
    "criterion = FocalLoss().to(device)\n",
    "optimizer = optim.Adam(net.parameters(), lr=basic_cnn_args['lr_ft'])\n",
    "savepath = Path('models_finetuned/fine_tuned_cnn_checkpt.pt')\n",
    "checkpoint = CheckpointState(net, optimizer, savepath=savepath)\n",
    "fit(checkpoint, criterion, lung_dataloader_train, lung_dataloader_validation, basic_cnn_args['epochs'])"
   ]
  },
  {
   "cell_type": "code",
   "execution_count": null,
   "metadata": {},
   "outputs": [],
   "source": []
  }
 ],
 "metadata": {
  "kernelspec": {
   "display_name": "Python 3",
   "language": "python",
   "name": "python3"
  },
  "language_info": {
   "codemirror_mode": {
    "name": "ipython",
    "version": 3
   },
   "file_extension": ".py",
   "mimetype": "text/x-python",
   "name": "python",
   "nbconvert_exporter": "python",
   "pygments_lexer": "ipython3",
   "version": "3.7.3"
  }
 },
 "nbformat": 4,
 "nbformat_minor": 4
}
