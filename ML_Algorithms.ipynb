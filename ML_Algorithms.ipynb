{
 "cells": [
  {
   "cell_type": "markdown",
   "metadata": {},
   "source": [
    "# **Deep Learning For Lung Cancer Prediction Based on Transcriptomic Data : ML Algorithms**\n",
    "> Author : **Aymen MERROUCHE**. <br>\n",
    "> In this notebook, we test Machine Learning Algorithms for our binary classification task. We use PCA for dimensionality reduction. All tested algorithms: **Random Forests**, **SVM** and **Gradient Boosting** were trained using Grid Search (guided by the AUC score) with a 3 folds cross-validation. The algorithms are then tested on a test set (Never used before: neither in standard scaling nor in PCA, and no Random Over Sampling is done for this set) :"
   ]
  },
  {
   "cell_type": "code",
   "execution_count": 1,
   "metadata": {},
   "outputs": [],
   "source": [
    "import numpy as np\n",
    "import datetime\n",
    "from data_utils import *\n",
    "from utils import *\n",
    "%load_ext autoreload\n",
    "%autoreload 2"
   ]
  },
  {
   "cell_type": "code",
   "execution_count": 2,
   "metadata": {},
   "outputs": [
    {
     "name": "stdout",
     "output_type": "stream",
     "text": [
      "Working on :  cuda\n"
     ]
    }
   ],
   "source": [
    "# device to use, if cuda available then use cuda else use cpu\n",
    "device = torch.device('cuda' if torch.cuda.is_available() else 'cpu')\n",
    "print(\"Working on : \", device)"
   ]
  },
  {
   "cell_type": "code",
   "execution_count": 3,
   "metadata": {},
   "outputs": [],
   "source": [
    "# load hyperparametrs\n",
    "# data paths args\n",
    "with open('./configs/data_paths.yaml', 'r') as stream:\n",
    "    data_paths_args  = yaml.load(stream,Loader=yaml.Loader)"
   ]
  },
  {
   "cell_type": "markdown",
   "metadata": {},
   "source": [
    "## **1 - Get the Data, Test Train Split, Random Over Sampling and Standard Scaling :**"
   ]
  },
  {
   "cell_type": "code",
   "execution_count": 4,
   "metadata": {},
   "outputs": [
    {
     "name": "stdout",
     "output_type": "stream",
     "text": [
      "CPU times: user 11.8 s, sys: 294 ms, total: 12 s\n",
      "Wall time: 14.3 s\n"
     ]
    }
   ],
   "source": [
    "%%time\n",
    "# Getting the data\n",
    "# dataset\n",
    "lung_dataset = TranscriptomicVectorsDatasetLung(data_paths_args[\"path_to_pan_cancer_hdf5_files\"])"
   ]
  },
  {
   "cell_type": "code",
   "execution_count": 5,
   "metadata": {},
   "outputs": [
    {
     "name": "stdout",
     "output_type": "stream",
     "text": [
      "len f train : 572\n",
      "len of test : 283\n"
     ]
    }
   ],
   "source": [
    "from sklearn.model_selection import train_test_split\n",
    "X, y = lung_dataset.vectors.numpy(), lung_dataset.labels.numpy()\n",
    "X_train, X_test, y_train, y_test = train_test_split(X, y, test_size=0.33, random_state=42)\n",
    "print(\"len f train :\",len(X_train))\n",
    "print(\"len of test :\",len(X_test))"
   ]
  },
  {
   "cell_type": "code",
   "execution_count": 6,
   "metadata": {},
   "outputs": [
    {
     "name": "stdout",
     "output_type": "stream",
     "text": [
      "Original dataset shape Counter({0: 519, 1: 53})\n",
      "Resampled dataset shape Counter({0: 519, 1: 519})\n"
     ]
    }
   ],
   "source": [
    "from collections import Counter\n",
    "from imblearn.over_sampling import RandomOverSampler \n",
    "# Random Over Sampling\n",
    "print('Original dataset shape %s' % Counter(y_train))\n",
    "ros = RandomOverSampler(random_state=42)\n",
    "X_train_ros, y_train_ros = ros.fit_resample(X_train, y_train)\n",
    "print('Resampled dataset shape %s' % Counter(y_train_ros))"
   ]
  },
  {
   "cell_type": "code",
   "execution_count": 7,
   "metadata": {},
   "outputs": [],
   "source": [
    "from sklearn.preprocessing import StandardScaler\n",
    "scaler = StandardScaler().fit(X_train_ros)\n",
    "X_train_ros_sc = scaler.transform(X_train_ros)\n",
    "X_test_sc = scaler.transform(X_test)"
   ]
  },
  {
   "cell_type": "markdown",
   "metadata": {},
   "source": [
    "## **2 - PCA :**\n",
    "> We want to get a minimum of variance accounted for of $0.85$."
   ]
  },
  {
   "cell_type": "code",
   "execution_count": 9,
   "metadata": {},
   "outputs": [
    {
     "data": {
      "text/plain": [
       "Text(0, 0.5, 'cumulative explained variance')"
      ]
     },
     "execution_count": 9,
     "metadata": {},
     "output_type": "execute_result"
    },
    {
     "data": {
      "image/png": "[encoded data removed]",
      "text/plain": [
       "<Figure size 1080x360 with 1 Axes>"
      ]
     },
     "metadata": {
      "needs_background": "light"
     },
     "output_type": "display_data"
    }
   ],
   "source": [
    "import matplotlib.pyplot as plt\n",
    "from sklearn.decomposition import PCA\n",
    "\n",
    "plt.figure(figsize=(15, 5))\n",
    "plt.suptitle(\"Proportion of Explained Variance wrt number of components \", fontsize=16)\n",
    "# get the data\n",
    "pca = PCA().fit(X_train_ros_sc)\n",
    "plt.plot(np.cumsum(pca.explained_variance_ratio_))\n",
    "xs = np.arange(1, len(pca.explained_variance_ratio_))\n",
    "threshold = np.array([0.85 for i in range(len(pca.explained_variance_ratio_)-1)])\n",
    "plt.plot(xs, threshold, 'r--') \n",
    "plt.plot()\n",
    "plt.xlabel('number of components')\n",
    "plt.ylabel('cumulative explained variance')"
   ]
  },
  {
   "cell_type": "markdown",
   "metadata": {},
   "source": [
    "> So to get a minimum of variance accounted for of $0.85$, we would take $\\approx 100$ components."
   ]
  },
  {
   "cell_type": "code",
   "execution_count": 10,
   "metadata": {},
   "outputs": [],
   "source": [
    "# perform the PCA\n",
    "# use sklearn's pca\n",
    "n_components = 100\n",
    "pca = PCA(n_components=n_components)\n",
    "pca.fit(X_train_ros_sc)\n",
    "X_train_ros_sc_pca = pca.transform(X_train_ros_sc)\n",
    "X_test_sc_pca = pca.transform(X_test_sc)"
   ]
  },
  {
   "cell_type": "code",
   "execution_count": 11,
   "metadata": {},
   "outputs": [
    {
     "data": {
      "text/plain": [
       "(1038, 100)"
      ]
     },
     "execution_count": 11,
     "metadata": {},
     "output_type": "execute_result"
    }
   ],
   "source": [
    "X_train_ros_sc_pca.shape"
   ]
  },
  {
   "cell_type": "code",
   "execution_count": 12,
   "metadata": {},
   "outputs": [
    {
     "data": {
      "text/plain": [
       "(283, 100)"
      ]
     },
     "execution_count": 12,
     "metadata": {},
     "output_type": "execute_result"
    }
   ],
   "source": [
    "X_test_sc_pca.shape"
   ]
  },
  {
   "cell_type": "code",
   "execution_count": 4,
   "metadata": {},
   "outputs": [],
   "source": [
    "import joblib"
   ]
  },
  {
   "cell_type": "code",
   "execution_count": 14,
   "metadata": {},
   "outputs": [
    {
     "data": {
      "text/plain": [
       "['./data_for_ml/y_test.pkl']"
      ]
     },
     "execution_count": 14,
     "metadata": {},
     "output_type": "execute_result"
    }
   ],
   "source": [
    "# save train data\n",
    "joblib.dump(X_train_ros_sc_pca, './data_for_ml/X_train_ros_sc_pca.pkl')\n",
    "joblib.dump(y_train_ros, './data_for_ml/y_train_ros.pkl')\n",
    "# save test data\n",
    "joblib.dump(X_test_sc_pca, './data_for_ml/X_test_sc_pca.pkl')\n",
    "joblib.dump(y_test, './data_for_ml/y_test.pkl')"
   ]
  },
  {
   "cell_type": "code",
   "execution_count": 6,
   "metadata": {},
   "outputs": [],
   "source": [
    "X_train_ros_sc_pca = joblib.load('./data_for_ml/X_train_ros_sc_pca.pkl')\n",
    "y_train_ros = joblib.load('./data_for_ml/y_train_ros.pkl')\n",
    "X_test_sc_pca = joblib.load('./data_for_ml/X_test_sc_pca.pkl')\n",
    "y_test = joblib.load('./data_for_ml/y_test.pkl')"
   ]
  },
  {
   "cell_type": "code",
   "execution_count": 7,
   "metadata": {},
   "outputs": [],
   "source": [
    "from sklearn.model_selection import PredefinedSplit\n",
    "# Define test train split for Grid Search (either use this or cross validation\n",
    "# However if you use this it means that your model uses the test set to select it's hyperparameters which is cheating\n",
    "#, for complete transparency we use Cross validation)\n",
    "X_cross_val = np.concatenate((X_train_ros_sc_pca, X_test_sc_pca), axis=0)\n",
    "y_corss_val = np.concatenate((y_train_ros, y_test), axis=0)\n",
    "# The indices which have the value -1 will be kept in train.\n",
    "train_indices = np.full((len(y_train_ros),), -1, dtype=int)\n",
    "# The indices which have zero or positive values, will be kept in test\n",
    "test_indices = np.full((len(y_test),), 0, dtype=int)\n",
    "test_fold = np.append(train_indices, test_indices)\n",
    "ps = PredefinedSplit(test_fold)"
   ]
  },
  {
   "cell_type": "markdown",
   "metadata": {},
   "source": [
    "## **3 - Grid Search on ML Algorithms :**\n"
   ]
  },
  {
   "cell_type": "code",
   "execution_count": 8,
   "metadata": {},
   "outputs": [],
   "source": [
    "from sklearn.svm import SVC\n",
    "from sklearn.ensemble import RandomForestClassifier\n",
    "from sklearn.ensemble import GradientBoostingClassifier\n",
    "from sklearn.model_selection import GridSearchCV"
   ]
  },
  {
   "cell_type": "code",
   "execution_count": 9,
   "metadata": {},
   "outputs": [
    {
     "name": "stdout",
     "output_type": "stream",
     "text": [
      "{'svm': {'best cross val AUC': 0, 'best cross val std': 0, 'AUC on test': 0}, 'random forests': {'best cross val AUC': 0, 'best cross val std': 0, 'AUC on test': 0}, 'gradient boosting': {'best cross val AUC': 0, 'best cross val std': 0, 'AUC on test': 0}}\n"
     ]
    }
   ],
   "source": [
    "# SVM\n",
    "svm_clf = SVC()\n",
    "parameter_space_svm = {\n",
    "    \"C\" : [0.1, 0.5, 1, 1.5],\n",
    "    \"kernel\" : [\"linear\", \"poly\", \"rbf\", \"sigmoid\"],\n",
    "    \"gamma\" : [\"scale\", \"auto\"],\n",
    "    \"probability\" : [True]\n",
    "    \n",
    "}\n",
    "# Random forests\n",
    "rf_clf = RandomForestClassifier(random_state=0)\n",
    "parameter_space_rf = {\n",
    "    \"criterion\" : [\"gini\", \"entropy\"],\n",
    "    \"max_depth\" : [2],\n",
    "    \"max_features\" : [\"auto\", \"sqrt\", \"log2\", None],\n",
    "    \"n_estimators\" : [50, 100],\n",
    "    \"n_jobs\" : [-1]\n",
    "}\n",
    "# Gradient Boosting\n",
    "gb_clf = GradientBoostingClassifier(random_state = 0)\n",
    "parameter_space_gb = {\n",
    "    \"learning_rate\" : [0.1, 0.5, 1],\n",
    "    \"n_estimators\" : [50, 100],\n",
    "    \"criterion\" : [\"friedman_mse\", \"mse\", \"mae\"],\n",
    "    \"max_depth\" : [2]\n",
    "}\n",
    "classifiers_ml = {\"svm\" : svm_clf, \"random forests\" : rf_clf, \"gradient boosting\" : gb_clf}\n",
    "param_grids_ml = {\"svm\" : parameter_space_svm, \"random forests\" : parameter_space_rf, \"gradient boosting\" : parameter_space_gb}\n",
    "# create keys for results\n",
    "results = {clf : {\"best cross val AUC\" :0, \"best cross val std\":0, \"AUC on test\":0} for clf in classifiers_ml}\n",
    "print(results)"
   ]
  },
  {
   "cell_type": "code",
   "execution_count": 10,
   "metadata": {},
   "outputs": [],
   "source": [
    "from sklearn.metrics import roc_auc_score\n",
    "from sklearn.metrics import classification_report"
   ]
  },
  {
   "cell_type": "code",
   "execution_count": 11,
   "metadata": {},
   "outputs": [
    {
     "name": "stdout",
     "output_type": "stream",
     "text": [
      "-svm : \n",
      "Fitting 3 folds for each of 32 candidates, totalling 96 fits\n",
      "\t best params for svm : {'C': 0.1, 'gamma': 'auto', 'kernel': 'poly', 'probability': True}\n",
      "\t Cross Val score of best svm : 1.0\n",
      "\t AUC on test set of best svm : 0.6897759103641457\n",
      "-random forests : \n",
      "Fitting 3 folds for each of 16 candidates, totalling 48 fits\n",
      "\t best params for random forests : {'criterion': 'entropy', 'max_depth': 2, 'max_features': 'auto', 'n_estimators': 100, 'n_jobs': -1}\n",
      "\t Cross Val score of best random forests : 0.9966698965329056\n",
      "\t AUC on test set of best random forests : 0.5341736694677871\n",
      "-gradient boosting : \n",
      "Fitting 3 folds for each of 18 candidates, totalling 54 fits\n",
      "\t best params for gradient boosting : {'criterion': 'friedman_mse', 'learning_rate': 0.5, 'max_depth': 2, 'n_estimators': 100}\n",
      "\t Cross Val score of best gradient boosting : 0.9992203771147271\n",
      "\t AUC on test set of best gradient boosting : 0.6483193277310925\n",
      "CPU times: user 1.67 s, sys: 98.4 ms, total: 1.77 s\n",
      "Wall time: 25.7 s\n"
     ]
    }
   ],
   "source": [
    "%%time\n",
    "for clf in classifiers_ml:\n",
    "    print(\"-\"+clf+\" : \")\n",
    "    gs_clf = GridSearchCV(classifiers_ml[clf], param_grids_ml[clf], n_jobs=-1, cv=3, verbose=1, scoring='roc_auc')\n",
    "    gs_clf.fit(X_train_ros_sc_pca, y_train_ros)\n",
    "    test_preds = gs_clf.best_estimator_.predict_proba(X_test_sc_pca)\n",
    "    results[clf][\"AUC on test\"] = roc_auc_score(y_test, test_preds[:,1])\n",
    "    results[clf][\"best cross val AUC\"] = gs_clf.best_score_\n",
    "    results[clf][\"best cross val std\"] = gs_clf.cv_results_['std_test_score'][gs_clf.best_index_]\n",
    "    print(\"\\t best params for \"+clf+\" : \"+str(gs_clf.best_params_))\n",
    "    print(\"\\t Cross Val score of best \"+clf+\" : \"+str(results[clf][\"best cross val AUC\"]))\n",
    "    print(\"\\t AUC on test set of best \"+clf+\" : \"+str(results[clf][\"AUC on test\"]))"
   ]
  },
  {
   "cell_type": "code",
   "execution_count": null,
   "metadata": {},
   "outputs": [],
   "source": []
  }
 ],
 "metadata": {
  "kernelspec": {
   "display_name": "amal",
   "language": "python",
   "name": "amal"
  },
  "language_info": {
   "codemirror_mode": {
    "name": "ipython",
    "version": 3
   },
   "file_extension": ".py",
   "mimetype": "text/x-python",
   "name": "python",
   "nbconvert_exporter": "python",
   "pygments_lexer": "ipython3",
   "version": "3.7.3"
  }
 },
 "nbformat": 4,
 "nbformat_minor": 4
}
