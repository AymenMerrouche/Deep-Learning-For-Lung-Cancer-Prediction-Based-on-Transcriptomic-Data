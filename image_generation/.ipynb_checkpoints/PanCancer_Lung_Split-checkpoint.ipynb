{
 "cells": [
  {
   "cell_type": "markdown",
   "metadata": {},
   "source": [
    "# Load PanCancer data\n",
    "\n",
    "Firstly, we load the PanCancer gene expression data (see `PanCancer_Data_Obtaining` notebook), whose format is log2(TPM+0.001)."
   ]
  },
  {
   "cell_type": "code",
   "execution_count": 1,
   "metadata": {},
   "outputs": [],
   "source": [
    "import pandas as pd\n",
    "import numpy as np"
   ]
  },
  {
   "cell_type": "code",
   "execution_count": 2,
   "metadata": {},
   "outputs": [
    {
     "name": "stdout",
     "output_type": "stream",
     "text": [
      "CPU times: user 1.63 s, sys: 1.49 s, total: 3.12 s\n",
      "Wall time: 3.24 s\n"
     ]
    }
   ],
   "source": [
    "%%time\n",
    "df_gene_exp = pd.read_hdf(\"/tempory/transcriptomic_data/pan_cancer/pancan.h5\", key=\"expression\")"
   ]
  },
  {
   "cell_type": "code",
   "execution_count": 3,
   "metadata": {},
   "outputs": [
    {
     "name": "stdout",
     "output_type": "stream",
     "text": [
      "Samples=10535; Genes=60498;\n"
     ]
    }
   ],
   "source": [
    "print(\"Samples={}; Genes={};\".format(*df_gene_exp.shape))"
   ]
  },
  {
   "cell_type": "code",
   "execution_count": 5,
   "metadata": {},
   "outputs": [
    {
     "data": {
      "text/html": [
       "<div>\n",
       "<style scoped>\n",
       "    .dataframe tbody tr th:only-of-type {\n",
       "        vertical-align: middle;\n",
       "    }\n",
       "\n",
       "    .dataframe tbody tr th {\n",
       "        vertical-align: top;\n",
       "    }\n",
       "\n",
       "    .dataframe thead th {\n",
       "        text-align: right;\n",
       "    }\n",
       "</style>\n",
       "<table border=\"1\" class=\"dataframe\">\n",
       "  <thead>\n",
       "    <tr style=\"text-align: right;\">\n",
       "      <th>sample</th>\n",
       "      <th>ENSG00000000003.14</th>\n",
       "      <th>ENSG00000000005.5</th>\n",
       "      <th>ENSG00000000419.12</th>\n",
       "      <th>ENSG00000000457.13</th>\n",
       "      <th>ENSG00000000460.16</th>\n",
       "      <th>ENSG00000000938.12</th>\n",
       "      <th>ENSG00000000971.15</th>\n",
       "      <th>ENSG00000001036.13</th>\n",
       "      <th>ENSG00000001084.10</th>\n",
       "      <th>ENSG00000001167.14</th>\n",
       "      <th>...</th>\n",
       "      <th>ENSGR0000263980.5</th>\n",
       "      <th>ENSGR0000264510.5</th>\n",
       "      <th>ENSGR0000264819.5</th>\n",
       "      <th>ENSGR0000265658.5</th>\n",
       "      <th>ENSGR0000270726.5</th>\n",
       "      <th>ENSGR0000275287.4</th>\n",
       "      <th>ENSGR0000276543.4</th>\n",
       "      <th>ENSGR0000277120.4</th>\n",
       "      <th>ENSGR0000280767.2</th>\n",
       "      <th>ENSGR0000281849.2</th>\n",
       "    </tr>\n",
       "  </thead>\n",
       "  <tbody>\n",
       "    <tr>\n",
       "      <th>TCGA-02-0047-01</th>\n",
       "      <td>5.4712</td>\n",
       "      <td>-3.1714</td>\n",
       "      <td>4.6753</td>\n",
       "      <td>2.0742</td>\n",
       "      <td>2.2573</td>\n",
       "      <td>3.2841</td>\n",
       "      <td>2.8740</td>\n",
       "      <td>5.3093</td>\n",
       "      <td>5.0854</td>\n",
       "      <td>3.6703</td>\n",
       "      <td>...</td>\n",
       "      <td>-9.9658</td>\n",
       "      <td>-9.9658</td>\n",
       "      <td>-9.9658</td>\n",
       "      <td>-9.9658</td>\n",
       "      <td>-9.9658</td>\n",
       "      <td>-9.9658</td>\n",
       "      <td>-9.9658</td>\n",
       "      <td>-9.9658</td>\n",
       "      <td>-9.9658</td>\n",
       "      <td>-9.9658</td>\n",
       "    </tr>\n",
       "    <tr>\n",
       "      <th>TCGA-02-0055-01</th>\n",
       "      <td>5.1498</td>\n",
       "      <td>4.1652</td>\n",
       "      <td>6.0251</td>\n",
       "      <td>2.1013</td>\n",
       "      <td>2.4571</td>\n",
       "      <td>3.6793</td>\n",
       "      <td>5.3555</td>\n",
       "      <td>5.5179</td>\n",
       "      <td>4.1780</td>\n",
       "      <td>3.1685</td>\n",
       "      <td>...</td>\n",
       "      <td>-9.9658</td>\n",
       "      <td>-9.9658</td>\n",
       "      <td>-9.9658</td>\n",
       "      <td>-9.9658</td>\n",
       "      <td>-9.9658</td>\n",
       "      <td>-9.9658</td>\n",
       "      <td>-9.9658</td>\n",
       "      <td>-9.9658</td>\n",
       "      <td>-9.9658</td>\n",
       "      <td>-9.9658</td>\n",
       "    </tr>\n",
       "    <tr>\n",
       "      <th>TCGA-02-2483-01</th>\n",
       "      <td>5.6448</td>\n",
       "      <td>-5.5735</td>\n",
       "      <td>5.8263</td>\n",
       "      <td>1.9564</td>\n",
       "      <td>2.5036</td>\n",
       "      <td>3.1749</td>\n",
       "      <td>2.3019</td>\n",
       "      <td>4.5638</td>\n",
       "      <td>4.1053</td>\n",
       "      <td>3.0876</td>\n",
       "      <td>...</td>\n",
       "      <td>-9.9658</td>\n",
       "      <td>-9.9658</td>\n",
       "      <td>-9.9658</td>\n",
       "      <td>-9.9658</td>\n",
       "      <td>-9.9658</td>\n",
       "      <td>-9.9658</td>\n",
       "      <td>-9.9658</td>\n",
       "      <td>-9.9658</td>\n",
       "      <td>-9.9658</td>\n",
       "      <td>-9.9658</td>\n",
       "    </tr>\n",
       "    <tr>\n",
       "      <th>TCGA-02-2485-01</th>\n",
       "      <td>6.1709</td>\n",
       "      <td>-3.1714</td>\n",
       "      <td>5.1768</td>\n",
       "      <td>2.4198</td>\n",
       "      <td>3.0995</td>\n",
       "      <td>2.7910</td>\n",
       "      <td>2.8582</td>\n",
       "      <td>5.4932</td>\n",
       "      <td>4.5711</td>\n",
       "      <td>3.7226</td>\n",
       "      <td>...</td>\n",
       "      <td>-9.9658</td>\n",
       "      <td>-9.9658</td>\n",
       "      <td>-9.9658</td>\n",
       "      <td>-9.9658</td>\n",
       "      <td>-9.9658</td>\n",
       "      <td>-9.9658</td>\n",
       "      <td>-9.9658</td>\n",
       "      <td>-9.9658</td>\n",
       "      <td>-9.9658</td>\n",
       "      <td>-9.9658</td>\n",
       "    </tr>\n",
       "    <tr>\n",
       "      <th>TCGA-04-1331-01</th>\n",
       "      <td>5.7911</td>\n",
       "      <td>-2.6349</td>\n",
       "      <td>5.7963</td>\n",
       "      <td>2.1988</td>\n",
       "      <td>2.8442</td>\n",
       "      <td>0.4340</td>\n",
       "      <td>4.2899</td>\n",
       "      <td>5.4745</td>\n",
       "      <td>1.9264</td>\n",
       "      <td>3.5249</td>\n",
       "      <td>...</td>\n",
       "      <td>-9.9658</td>\n",
       "      <td>-9.9658</td>\n",
       "      <td>-9.9658</td>\n",
       "      <td>-9.9658</td>\n",
       "      <td>-9.9658</td>\n",
       "      <td>-9.9658</td>\n",
       "      <td>-9.9658</td>\n",
       "      <td>-9.9658</td>\n",
       "      <td>-9.9658</td>\n",
       "      <td>-9.9658</td>\n",
       "    </tr>\n",
       "  </tbody>\n",
       "</table>\n",
       "<p>5 rows × 60498 columns</p>\n",
       "</div>"
      ],
      "text/plain": [
       "sample           ENSG00000000003.14  ENSG00000000005.5  ENSG00000000419.12  \\\n",
       "TCGA-02-0047-01              5.4712            -3.1714              4.6753   \n",
       "TCGA-02-0055-01              5.1498             4.1652              6.0251   \n",
       "TCGA-02-2483-01              5.6448            -5.5735              5.8263   \n",
       "TCGA-02-2485-01              6.1709            -3.1714              5.1768   \n",
       "TCGA-04-1331-01              5.7911            -2.6349              5.7963   \n",
       "\n",
       "sample           ENSG00000000457.13  ENSG00000000460.16  ENSG00000000938.12  \\\n",
       "TCGA-02-0047-01              2.0742              2.2573              3.2841   \n",
       "TCGA-02-0055-01              2.1013              2.4571              3.6793   \n",
       "TCGA-02-2483-01              1.9564              2.5036              3.1749   \n",
       "TCGA-02-2485-01              2.4198              3.0995              2.7910   \n",
       "TCGA-04-1331-01              2.1988              2.8442              0.4340   \n",
       "\n",
       "sample           ENSG00000000971.15  ENSG00000001036.13  ENSG00000001084.10  \\\n",
       "TCGA-02-0047-01              2.8740              5.3093              5.0854   \n",
       "TCGA-02-0055-01              5.3555              5.5179              4.1780   \n",
       "TCGA-02-2483-01              2.3019              4.5638              4.1053   \n",
       "TCGA-02-2485-01              2.8582              5.4932              4.5711   \n",
       "TCGA-04-1331-01              4.2899              5.4745              1.9264   \n",
       "\n",
       "sample           ENSG00000001167.14  ...  ENSGR0000263980.5  \\\n",
       "TCGA-02-0047-01              3.6703  ...            -9.9658   \n",
       "TCGA-02-0055-01              3.1685  ...            -9.9658   \n",
       "TCGA-02-2483-01              3.0876  ...            -9.9658   \n",
       "TCGA-02-2485-01              3.7226  ...            -9.9658   \n",
       "TCGA-04-1331-01              3.5249  ...            -9.9658   \n",
       "\n",
       "sample           ENSGR0000264510.5  ENSGR0000264819.5  ENSGR0000265658.5  \\\n",
       "TCGA-02-0047-01            -9.9658            -9.9658            -9.9658   \n",
       "TCGA-02-0055-01            -9.9658            -9.9658            -9.9658   \n",
       "TCGA-02-2483-01            -9.9658            -9.9658            -9.9658   \n",
       "TCGA-02-2485-01            -9.9658            -9.9658            -9.9658   \n",
       "TCGA-04-1331-01            -9.9658            -9.9658            -9.9658   \n",
       "\n",
       "sample           ENSGR0000270726.5  ENSGR0000275287.4  ENSGR0000276543.4  \\\n",
       "TCGA-02-0047-01            -9.9658            -9.9658            -9.9658   \n",
       "TCGA-02-0055-01            -9.9658            -9.9658            -9.9658   \n",
       "TCGA-02-2483-01            -9.9658            -9.9658            -9.9658   \n",
       "TCGA-02-2485-01            -9.9658            -9.9658            -9.9658   \n",
       "TCGA-04-1331-01            -9.9658            -9.9658            -9.9658   \n",
       "\n",
       "sample           ENSGR0000277120.4  ENSGR0000280767.2  ENSGR0000281849.2  \n",
       "TCGA-02-0047-01            -9.9658            -9.9658            -9.9658  \n",
       "TCGA-02-0055-01            -9.9658            -9.9658            -9.9658  \n",
       "TCGA-02-2483-01            -9.9658            -9.9658            -9.9658  \n",
       "TCGA-02-2485-01            -9.9658            -9.9658            -9.9658  \n",
       "TCGA-04-1331-01            -9.9658            -9.9658            -9.9658  \n",
       "\n",
       "[5 rows x 60498 columns]"
      ]
     },
     "execution_count": 5,
     "metadata": {},
     "output_type": "execute_result"
    }
   ],
   "source": [
    "df_gene_exp.head()"
   ]
  },
  {
   "cell_type": "markdown",
   "metadata": {},
   "source": [
    "The next thing to do is to check if the data frame contains any NA. If so, either remove the rows that contain them (dropna method) or use any other imputation method:"
   ]
  },
  {
   "cell_type": "code",
   "execution_count": 6,
   "metadata": {},
   "outputs": [
    {
     "data": {
      "text/plain": [
       "False"
      ]
     },
     "execution_count": 6,
     "metadata": {},
     "output_type": "execute_result"
    }
   ],
   "source": [
    "df_gene_exp.isnull().values.any()"
   ]
  },
  {
   "cell_type": "markdown",
   "metadata": {},
   "source": [
    "# Data-Split and Exploration\n",
    "\n",
    "In order to apply the transfer learning (TL) approach, we need to split the PanCancer gene expression dataset into two subsets: non-Lung and Lung datasets. Lung dataset will contain the samples both from LUAD and LUSC tumors."
   ]
  },
  {
   "cell_type": "markdown",
   "metadata": {},
   "source": [
    "We first load the survival clinical outcomes dataset curated by [*Liu et al.*](https://www.ncbi.nlm.nih.gov/pubmed/29625055), previously saved in `PanCancer_Data_Obtaining` notebook. As we are interested in performing survival analysis using a TL approach, we only use the Lung and non-Lung samples contained in the survival dataset."
   ]
  },
  {
   "cell_type": "code",
   "execution_count": 7,
   "metadata": {},
   "outputs": [],
   "source": [
    "df_survival = pd.read_hdf(\"/tempory/transcriptomic_data/pan_cancer/pancan.h5\", key=\"sample_clinical\")"
   ]
  },
  {
   "cell_type": "code",
   "execution_count": 8,
   "metadata": {},
   "outputs": [
    {
     "name": "stdout",
     "output_type": "stream",
     "text": [
      "(10496, 33)\n"
     ]
    },
    {
     "data": {
      "text/html": [
       "<div>\n",
       "<style scoped>\n",
       "    .dataframe tbody tr th:only-of-type {\n",
       "        vertical-align: middle;\n",
       "    }\n",
       "\n",
       "    .dataframe tbody tr th {\n",
       "        vertical-align: top;\n",
       "    }\n",
       "\n",
       "    .dataframe thead th {\n",
       "        text-align: right;\n",
       "    }\n",
       "</style>\n",
       "<table border=\"1\" class=\"dataframe\">\n",
       "  <thead>\n",
       "    <tr style=\"text-align: right;\">\n",
       "      <th></th>\n",
       "      <th>_PATIENT</th>\n",
       "      <th>cancer type abbreviation</th>\n",
       "      <th>age_at_initial_pathologic_diagnosis</th>\n",
       "      <th>gender</th>\n",
       "      <th>race</th>\n",
       "      <th>ajcc_pathologic_tumor_stage</th>\n",
       "      <th>clinical_stage</th>\n",
       "      <th>histological_type</th>\n",
       "      <th>histological_grade</th>\n",
       "      <th>initial_pathologic_dx_year</th>\n",
       "      <th>...</th>\n",
       "      <th>residual_tumor</th>\n",
       "      <th>OS</th>\n",
       "      <th>OS.time</th>\n",
       "      <th>DSS</th>\n",
       "      <th>DSS.time</th>\n",
       "      <th>DFI</th>\n",
       "      <th>DFI.time</th>\n",
       "      <th>PFI</th>\n",
       "      <th>PFI.time</th>\n",
       "      <th>Redaction</th>\n",
       "    </tr>\n",
       "  </thead>\n",
       "  <tbody>\n",
       "    <tr>\n",
       "      <th>TCGA-02-0047-01</th>\n",
       "      <td>TCGA-02-0047</td>\n",
       "      <td>GBM</td>\n",
       "      <td>78.0</td>\n",
       "      <td>MALE</td>\n",
       "      <td>WHITE</td>\n",
       "      <td>NaN</td>\n",
       "      <td>NaN</td>\n",
       "      <td>Untreated primary (de novo) GBM</td>\n",
       "      <td>NaN</td>\n",
       "      <td>2005.0</td>\n",
       "      <td>...</td>\n",
       "      <td>NaN</td>\n",
       "      <td>1.0</td>\n",
       "      <td>448.0</td>\n",
       "      <td>1.0</td>\n",
       "      <td>448.0</td>\n",
       "      <td>NaN</td>\n",
       "      <td>NaN</td>\n",
       "      <td>1.0</td>\n",
       "      <td>57.0</td>\n",
       "      <td>NaN</td>\n",
       "    </tr>\n",
       "    <tr>\n",
       "      <th>TCGA-02-0055-01</th>\n",
       "      <td>TCGA-02-0055</td>\n",
       "      <td>GBM</td>\n",
       "      <td>62.0</td>\n",
       "      <td>FEMALE</td>\n",
       "      <td>WHITE</td>\n",
       "      <td>NaN</td>\n",
       "      <td>NaN</td>\n",
       "      <td>Untreated primary (de novo) GBM</td>\n",
       "      <td>NaN</td>\n",
       "      <td>2005.0</td>\n",
       "      <td>...</td>\n",
       "      <td>NaN</td>\n",
       "      <td>1.0</td>\n",
       "      <td>76.0</td>\n",
       "      <td>1.0</td>\n",
       "      <td>76.0</td>\n",
       "      <td>NaN</td>\n",
       "      <td>NaN</td>\n",
       "      <td>1.0</td>\n",
       "      <td>6.0</td>\n",
       "      <td>NaN</td>\n",
       "    </tr>\n",
       "    <tr>\n",
       "      <th>TCGA-02-2483-01</th>\n",
       "      <td>TCGA-02-2483</td>\n",
       "      <td>GBM</td>\n",
       "      <td>43.0</td>\n",
       "      <td>MALE</td>\n",
       "      <td>ASIAN</td>\n",
       "      <td>NaN</td>\n",
       "      <td>NaN</td>\n",
       "      <td>Untreated primary (de novo) GBM</td>\n",
       "      <td>NaN</td>\n",
       "      <td>2008.0</td>\n",
       "      <td>...</td>\n",
       "      <td>NaN</td>\n",
       "      <td>0.0</td>\n",
       "      <td>466.0</td>\n",
       "      <td>0.0</td>\n",
       "      <td>466.0</td>\n",
       "      <td>NaN</td>\n",
       "      <td>NaN</td>\n",
       "      <td>0.0</td>\n",
       "      <td>466.0</td>\n",
       "      <td>NaN</td>\n",
       "    </tr>\n",
       "    <tr>\n",
       "      <th>TCGA-02-2485-01</th>\n",
       "      <td>TCGA-02-2485</td>\n",
       "      <td>GBM</td>\n",
       "      <td>53.0</td>\n",
       "      <td>MALE</td>\n",
       "      <td>BLACK OR AFRICAN AMERICAN</td>\n",
       "      <td>NaN</td>\n",
       "      <td>NaN</td>\n",
       "      <td>Untreated primary (de novo) GBM</td>\n",
       "      <td>NaN</td>\n",
       "      <td>2009.0</td>\n",
       "      <td>...</td>\n",
       "      <td>NaN</td>\n",
       "      <td>0.0</td>\n",
       "      <td>470.0</td>\n",
       "      <td>0.0</td>\n",
       "      <td>470.0</td>\n",
       "      <td>NaN</td>\n",
       "      <td>NaN</td>\n",
       "      <td>1.0</td>\n",
       "      <td>186.0</td>\n",
       "      <td>NaN</td>\n",
       "    </tr>\n",
       "    <tr>\n",
       "      <th>TCGA-04-1331-01</th>\n",
       "      <td>TCGA-04-1331</td>\n",
       "      <td>OV</td>\n",
       "      <td>78.0</td>\n",
       "      <td>FEMALE</td>\n",
       "      <td>WHITE</td>\n",
       "      <td>NaN</td>\n",
       "      <td>Stage IIIC</td>\n",
       "      <td>Serous Cystadenocarcinoma</td>\n",
       "      <td>G3</td>\n",
       "      <td>2004.0</td>\n",
       "      <td>...</td>\n",
       "      <td>NaN</td>\n",
       "      <td>1.0</td>\n",
       "      <td>1336.0</td>\n",
       "      <td>1.0</td>\n",
       "      <td>1336.0</td>\n",
       "      <td>1.0</td>\n",
       "      <td>459.0</td>\n",
       "      <td>1.0</td>\n",
       "      <td>459.0</td>\n",
       "      <td>Redacted</td>\n",
       "    </tr>\n",
       "  </tbody>\n",
       "</table>\n",
       "<p>5 rows × 33 columns</p>\n",
       "</div>"
      ],
      "text/plain": [
       "                     _PATIENT cancer type abbreviation  \\\n",
       "TCGA-02-0047-01  TCGA-02-0047                      GBM   \n",
       "TCGA-02-0055-01  TCGA-02-0055                      GBM   \n",
       "TCGA-02-2483-01  TCGA-02-2483                      GBM   \n",
       "TCGA-02-2485-01  TCGA-02-2485                      GBM   \n",
       "TCGA-04-1331-01  TCGA-04-1331                       OV   \n",
       "\n",
       "                 age_at_initial_pathologic_diagnosis  gender  \\\n",
       "TCGA-02-0047-01                                 78.0    MALE   \n",
       "TCGA-02-0055-01                                 62.0  FEMALE   \n",
       "TCGA-02-2483-01                                 43.0    MALE   \n",
       "TCGA-02-2485-01                                 53.0    MALE   \n",
       "TCGA-04-1331-01                                 78.0  FEMALE   \n",
       "\n",
       "                                      race ajcc_pathologic_tumor_stage  \\\n",
       "TCGA-02-0047-01                      WHITE                         NaN   \n",
       "TCGA-02-0055-01                      WHITE                         NaN   \n",
       "TCGA-02-2483-01                      ASIAN                         NaN   \n",
       "TCGA-02-2485-01  BLACK OR AFRICAN AMERICAN                         NaN   \n",
       "TCGA-04-1331-01                      WHITE                         NaN   \n",
       "\n",
       "                clinical_stage                histological_type  \\\n",
       "TCGA-02-0047-01            NaN  Untreated primary (de novo) GBM   \n",
       "TCGA-02-0055-01            NaN  Untreated primary (de novo) GBM   \n",
       "TCGA-02-2483-01            NaN  Untreated primary (de novo) GBM   \n",
       "TCGA-02-2485-01            NaN  Untreated primary (de novo) GBM   \n",
       "TCGA-04-1331-01     Stage IIIC        Serous Cystadenocarcinoma   \n",
       "\n",
       "                histological_grade  initial_pathologic_dx_year  ...  \\\n",
       "TCGA-02-0047-01                NaN                      2005.0  ...   \n",
       "TCGA-02-0055-01                NaN                      2005.0  ...   \n",
       "TCGA-02-2483-01                NaN                      2008.0  ...   \n",
       "TCGA-02-2485-01                NaN                      2009.0  ...   \n",
       "TCGA-04-1331-01                 G3                      2004.0  ...   \n",
       "\n",
       "                residual_tumor   OS OS.time  DSS  DSS.time  DFI DFI.time  PFI  \\\n",
       "TCGA-02-0047-01            NaN  1.0   448.0  1.0     448.0  NaN      NaN  1.0   \n",
       "TCGA-02-0055-01            NaN  1.0    76.0  1.0      76.0  NaN      NaN  1.0   \n",
       "TCGA-02-2483-01            NaN  0.0   466.0  0.0     466.0  NaN      NaN  0.0   \n",
       "TCGA-02-2485-01            NaN  0.0   470.0  0.0     470.0  NaN      NaN  1.0   \n",
       "TCGA-04-1331-01            NaN  1.0  1336.0  1.0    1336.0  1.0    459.0  1.0   \n",
       "\n",
       "                PFI.time Redaction  \n",
       "TCGA-02-0047-01     57.0       NaN  \n",
       "TCGA-02-0055-01      6.0       NaN  \n",
       "TCGA-02-2483-01    466.0       NaN  \n",
       "TCGA-02-2485-01    186.0       NaN  \n",
       "TCGA-04-1331-01    459.0  Redacted  \n",
       "\n",
       "[5 rows x 33 columns]"
      ]
     },
     "execution_count": 8,
     "metadata": {},
     "output_type": "execute_result"
    }
   ],
   "source": [
    "print(df_survival.shape)\n",
    "\n",
    "df_survival.head()"
   ]
  },
  {
   "cell_type": "markdown",
   "metadata": {},
   "source": [
    "We check that there are no duplicated samples:"
   ]
  },
  {
   "cell_type": "code",
   "execution_count": 9,
   "metadata": {},
   "outputs": [
    {
     "data": {
      "text/plain": [
       "False"
      ]
     },
     "execution_count": 9,
     "metadata": {},
     "output_type": "execute_result"
    }
   ],
   "source": [
    "survival_sample = df_survival.index\n",
    "survival_sample.duplicated().any()"
   ]
  },
  {
   "cell_type": "code",
   "execution_count": 10,
   "metadata": {},
   "outputs": [
    {
     "data": {
      "text/plain": [
       "BRCA    1211\n",
       "KIRC     603\n",
       "LUAD     574\n",
       "THCA     571\n",
       "HNSC     564\n",
       "LUSC     548\n",
       "PRAD     548\n",
       "LGG      522\n",
       "SKCM     470\n",
       "STAD     450\n",
       "OV       427\n",
       "BLCA     426\n",
       "LIHC     421\n",
       "COAD     329\n",
       "KIRP     321\n",
       "CESC     309\n",
       "SARC     264\n",
       "ESCA     195\n",
       "UCEC     194\n",
       "PCPG     185\n",
       "PAAD     183\n",
       "LAML     173\n",
       "GBM      165\n",
       "TGCT     137\n",
       "THYM     121\n",
       "READ     102\n",
       "KICH      91\n",
       "MESO      87\n",
       "UVM       79\n",
       "ACC       77\n",
       "UCS       57\n",
       "DLBC      47\n",
       "CHOL      45\n",
       "Name: cancer type abbreviation, dtype: int64"
      ]
     },
     "execution_count": 10,
     "metadata": {},
     "output_type": "execute_result"
    }
   ],
   "source": [
    "df_survival['cancer type abbreviation'].value_counts(normalize=False, dropna=False)"
   ]
  },
  {
   "cell_type": "markdown",
   "metadata": {},
   "source": [
    "Given the similarity observed between LUAD and LUSC tumor types in [*Liu et al.*](https://www.ncbi.nlm.nih.gov/pubmed/29625055) from a survival analysis perspective (median follow-up times, K-M plots, etc.), we join the samples from both type of tumors in one single dataset:"
   ]
  },
  {
   "cell_type": "code",
   "execution_count": 11,
   "metadata": {},
   "outputs": [
    {
     "data": {
      "text/plain": [
       "(1122,)"
      ]
     },
     "execution_count": 11,
     "metadata": {},
     "output_type": "execute_result"
    }
   ],
   "source": [
    "# Samples are filtered from the survival dataset, as we are interesting in survival analysis\n",
    "lung_sample = df_survival[df_survival['cancer type abbreviation'].apply(lambda x: x in [\"LUAD\", \"LUSC\"])].index\n",
    "lung_sample.shape"
   ]
  },
  {
   "cell_type": "code",
   "execution_count": 12,
   "metadata": {
    "scrolled": true
   },
   "outputs": [
    {
     "data": {
      "text/plain": [
       "1122"
      ]
     },
     "execution_count": 12,
     "metadata": {},
     "output_type": "execute_result"
    }
   ],
   "source": [
    "len(df_gene_exp.index.intersection(lung_sample))"
   ]
  },
  {
   "cell_type": "markdown",
   "metadata": {},
   "source": [
    "We also load the samples types information dataset previously saved in `PanCancer_Data_Obtaining` notebook:"
   ]
  },
  {
   "cell_type": "code",
   "execution_count": 13,
   "metadata": {},
   "outputs": [],
   "source": [
    "df_sample = pd.read_hdf(\"/tempory/transcriptomic_data/pan_cancer/pancan.h5\", key=\"sample_type\")"
   ]
  },
  {
   "cell_type": "code",
   "execution_count": 14,
   "metadata": {},
   "outputs": [
    {
     "name": "stdout",
     "output_type": "stream",
     "text": [
      "(10534, 4)\n"
     ]
    },
    {
     "data": {
      "text/html": [
       "<div>\n",
       "<style scoped>\n",
       "    .dataframe tbody tr th:only-of-type {\n",
       "        vertical-align: middle;\n",
       "    }\n",
       "\n",
       "    .dataframe tbody tr th {\n",
       "        vertical-align: top;\n",
       "    }\n",
       "\n",
       "    .dataframe thead th {\n",
       "        text-align: right;\n",
       "    }\n",
       "</style>\n",
       "<table border=\"1\" class=\"dataframe\">\n",
       "  <thead>\n",
       "    <tr style=\"text-align: right;\">\n",
       "      <th></th>\n",
       "      <th>sample_type_id</th>\n",
       "      <th>sample_type</th>\n",
       "      <th>_primary_disease</th>\n",
       "      <th>tumor_normal</th>\n",
       "    </tr>\n",
       "  </thead>\n",
       "  <tbody>\n",
       "    <tr>\n",
       "      <th>TCGA-02-0047-01</th>\n",
       "      <td>1.0</td>\n",
       "      <td>Primary Tumor</td>\n",
       "      <td>glioblastoma multiforme</td>\n",
       "      <td>Tumor</td>\n",
       "    </tr>\n",
       "    <tr>\n",
       "      <th>TCGA-02-0055-01</th>\n",
       "      <td>1.0</td>\n",
       "      <td>Primary Tumor</td>\n",
       "      <td>glioblastoma multiforme</td>\n",
       "      <td>Tumor</td>\n",
       "    </tr>\n",
       "    <tr>\n",
       "      <th>TCGA-02-2483-01</th>\n",
       "      <td>1.0</td>\n",
       "      <td>Primary Tumor</td>\n",
       "      <td>glioblastoma multiforme</td>\n",
       "      <td>Tumor</td>\n",
       "    </tr>\n",
       "    <tr>\n",
       "      <th>TCGA-02-2485-01</th>\n",
       "      <td>1.0</td>\n",
       "      <td>Primary Tumor</td>\n",
       "      <td>glioblastoma multiforme</td>\n",
       "      <td>Tumor</td>\n",
       "    </tr>\n",
       "    <tr>\n",
       "      <th>TCGA-04-1331-01</th>\n",
       "      <td>1.0</td>\n",
       "      <td>Primary Tumor</td>\n",
       "      <td>ovarian serous cystadenocarcinoma</td>\n",
       "      <td>Tumor</td>\n",
       "    </tr>\n",
       "  </tbody>\n",
       "</table>\n",
       "</div>"
      ],
      "text/plain": [
       "                 sample_type_id    sample_type  \\\n",
       "TCGA-02-0047-01             1.0  Primary Tumor   \n",
       "TCGA-02-0055-01             1.0  Primary Tumor   \n",
       "TCGA-02-2483-01             1.0  Primary Tumor   \n",
       "TCGA-02-2485-01             1.0  Primary Tumor   \n",
       "TCGA-04-1331-01             1.0  Primary Tumor   \n",
       "\n",
       "                                  _primary_disease tumor_normal  \n",
       "TCGA-02-0047-01            glioblastoma multiforme        Tumor  \n",
       "TCGA-02-0055-01            glioblastoma multiforme        Tumor  \n",
       "TCGA-02-2483-01            glioblastoma multiforme        Tumor  \n",
       "TCGA-02-2485-01            glioblastoma multiforme        Tumor  \n",
       "TCGA-04-1331-01  ovarian serous cystadenocarcinoma        Tumor  "
      ]
     },
     "execution_count": 14,
     "metadata": {},
     "output_type": "execute_result"
    }
   ],
   "source": [
    "print(df_sample.shape)\n",
    "\n",
    "df_sample.head()"
   ]
  },
  {
   "cell_type": "markdown",
   "metadata": {},
   "source": [
    "We check that there are no duplicated samples:"
   ]
  },
  {
   "cell_type": "code",
   "execution_count": 15,
   "metadata": {},
   "outputs": [
    {
     "data": {
      "text/plain": [
       "False"
      ]
     },
     "execution_count": 15,
     "metadata": {},
     "output_type": "execute_result"
    }
   ],
   "source": [
    "sample_info = df_sample.index\n",
    "sample_info.duplicated().any()"
   ]
  },
  {
   "cell_type": "markdown",
   "metadata": {},
   "source": [
    "We check the number of Lung samples contained in the samples types dataset:"
   ]
  },
  {
   "cell_type": "code",
   "execution_count": 16,
   "metadata": {
    "scrolled": true
   },
   "outputs": [
    {
     "data": {
      "text/plain": [
       "1122"
      ]
     },
     "execution_count": 16,
     "metadata": {},
     "output_type": "execute_result"
    }
   ],
   "source": [
    "len(df_sample.index.intersection(lung_sample))"
   ]
  },
  {
   "cell_type": "markdown",
   "metadata": {},
   "source": [
    "## Lung\n",
    "\n",
    "This subset contains all the Lung (LUSC and LUAD) samples from the PanCancer dataset, and is intended to be used during the fine-tuning phase of a TL approach."
   ]
  },
  {
   "cell_type": "markdown",
   "metadata": {},
   "source": [
    "We first create the Lung gene expression dataset:"
   ]
  },
  {
   "cell_type": "code",
   "execution_count": 17,
   "metadata": {},
   "outputs": [
    {
     "data": {
      "text/plain": [
       "(1122, 60498)"
      ]
     },
     "execution_count": 17,
     "metadata": {},
     "output_type": "execute_result"
    }
   ],
   "source": [
    "df_gene_exp_lung = df_gene_exp.loc[lung_sample]\n",
    "df_gene_exp_lung.shape"
   ]
  },
  {
   "cell_type": "markdown",
   "metadata": {},
   "source": [
    "### Data exploration\n",
    "\n",
    "Now, we filter the common Lung samples from the samples types and the survival clinical outcomes datasets, and explore their available information:"
   ]
  },
  {
   "cell_type": "code",
   "execution_count": 18,
   "metadata": {},
   "outputs": [
    {
     "data": {
      "text/plain": [
       "(1122, 4)"
      ]
     },
     "execution_count": 18,
     "metadata": {},
     "output_type": "execute_result"
    }
   ],
   "source": [
    "df_sample_lung = df_sample.loc[lung_sample]\n",
    "df_sample_lung.shape"
   ]
  },
  {
   "cell_type": "code",
   "execution_count": 19,
   "metadata": {
    "scrolled": true
   },
   "outputs": [
    {
     "data": {
      "text/plain": [
       "True"
      ]
     },
     "execution_count": 19,
     "metadata": {},
     "output_type": "execute_result"
    }
   ],
   "source": [
    "# Verify that the samples are in the same order as in the gene expression datasets\n",
    "df_gene_exp_lung.index.equals(df_sample_lung.index)"
   ]
  },
  {
   "cell_type": "code",
   "execution_count": 20,
   "metadata": {},
   "outputs": [
    {
     "data": {
      "text/plain": [
       "(1122, 33)"
      ]
     },
     "execution_count": 20,
     "metadata": {},
     "output_type": "execute_result"
    }
   ],
   "source": [
    "df_survival_lung = df_survival.loc[lung_sample, :]\n",
    "df_survival_lung.shape"
   ]
  },
  {
   "cell_type": "code",
   "execution_count": 21,
   "metadata": {
    "scrolled": true
   },
   "outputs": [
    {
     "data": {
      "text/plain": [
       "True"
      ]
     },
     "execution_count": 21,
     "metadata": {},
     "output_type": "execute_result"
    }
   ],
   "source": [
    "# Verify that the samples are in the same order as in the gene expression datasets\n",
    "df_gene_exp_lung.index.equals(df_survival_lung.index)"
   ]
  },
  {
   "cell_type": "markdown",
   "metadata": {},
   "source": [
    "#### Tumor-Normal binary variable"
   ]
  },
  {
   "cell_type": "code",
   "execution_count": 22,
   "metadata": {},
   "outputs": [
    {
     "name": "stdout",
     "output_type": "stream",
     "text": [
      "Number of samples with this information: 1122\n"
     ]
    },
    {
     "data": {
      "text/plain": [
       "Tumor     1013\n",
       "Normal     109\n",
       "Name: tumor_normal, dtype: int64"
      ]
     },
     "execution_count": 22,
     "metadata": {},
     "output_type": "execute_result"
    }
   ],
   "source": [
    "# Tumor/normal variable\n",
    "variable = \"tumor_normal\"\n",
    "print(\"Number of samples with this information:\",\n",
    "      sum(df_sample_lung[variable].value_counts(normalize=False, dropna=False)))\n",
    "\n",
    "df_sample_lung[variable].value_counts(normalize=False, dropna=False)"
   ]
  },
  {
   "cell_type": "code",
   "execution_count": 23,
   "metadata": {},
   "outputs": [
    {
     "name": "stdout",
     "output_type": "stream",
     "text": [
      "Number of samples with this information: 1122\n"
     ]
    },
    {
     "data": {
      "text/plain": [
       "Primary Tumor          1011\n",
       "Solid Tissue Normal     109\n",
       "Recurrent Tumor           2\n",
       "Name: sample_type, dtype: int64"
      ]
     },
     "execution_count": 23,
     "metadata": {},
     "output_type": "execute_result"
    }
   ],
   "source": [
    "# Sample type variable\n",
    "variable = \"sample_type\"\n",
    "print(\"Number of samples with this information:\",\n",
    "      sum(df_sample_lung[variable].value_counts(normalize=False, dropna=False)))\n",
    "\n",
    "df_sample_lung[variable].value_counts(normalize=False, dropna=False)"
   ]
  },
  {
   "cell_type": "markdown",
   "metadata": {},
   "source": [
    "#### Survival clinical outcomes"
   ]
  },
  {
   "cell_type": "code",
   "execution_count": 24,
   "metadata": {},
   "outputs": [
    {
     "name": "stdout",
     "output_type": "stream",
     "text": [
      "Number of samples with this information: 1122\n"
     ]
    },
    {
     "data": {
      "text/plain": [
       "0.0    663\n",
       "1.0    459\n",
       "Name: OS, dtype: int64"
      ]
     },
     "execution_count": 24,
     "metadata": {},
     "output_type": "execute_result"
    }
   ],
   "source": [
    "# Overall survival\n",
    "print(\"Number of samples with this information:\",\n",
    "      sum(df_survival_lung.OS.value_counts(normalize=False)))\n",
    "\n",
    "df_survival_lung.OS.value_counts(normalize=False, dropna=False)"
   ]
  },
  {
   "cell_type": "code",
   "execution_count": 25,
   "metadata": {},
   "outputs": [
    {
     "name": "stdout",
     "output_type": "stream",
     "text": [
      "Number of samples with this information: 1023\n"
     ]
    },
    {
     "data": {
      "text/plain": [
       "0.0    791\n",
       "1.0    232\n",
       "NaN     99\n",
       "Name: DSS, dtype: int64"
      ]
     },
     "execution_count": 25,
     "metadata": {},
     "output_type": "execute_result"
    }
   ],
   "source": [
    "# Disease specific survival\n",
    "print(\"Number of samples with this information:\",\n",
    "      sum(df_survival_lung.DSS.value_counts(normalize=False)))\n",
    "\n",
    "df_survival_lung.DSS.value_counts(normalize=False, dropna=False)"
   ]
  },
  {
   "cell_type": "code",
   "execution_count": 26,
   "metadata": {},
   "outputs": [
    {
     "name": "stdout",
     "output_type": "stream",
     "text": [
      "Number of samples with this information: 1122\n"
     ]
    },
    {
     "data": {
      "text/plain": [
       "0.0    726\n",
       "1.0    396\n",
       "Name: PFI, dtype: int64"
      ]
     },
     "execution_count": 26,
     "metadata": {},
     "output_type": "execute_result"
    }
   ],
   "source": [
    "# Progression-free interval\n",
    "print(\"Number of samples with this information:\",\n",
    "      sum(df_survival_lung['PFI'].value_counts(normalize=False)))\n",
    "\n",
    "df_survival_lung['PFI'].value_counts(normalize=False, dropna=False)"
   ]
  },
  {
   "cell_type": "code",
   "execution_count": 27,
   "metadata": {},
   "outputs": [
    {
     "name": "stdout",
     "output_type": "stream",
     "text": [
      "Number of samples with this information: 664\n"
     ]
    },
    {
     "data": {
      "text/plain": [
       "0.0    502\n",
       "NaN    458\n",
       "1.0    162\n",
       "Name: DFI, dtype: int64"
      ]
     },
     "execution_count": 27,
     "metadata": {},
     "output_type": "execute_result"
    }
   ],
   "source": [
    "# Disease-free interval\n",
    "print(\"Number of samples with this information:\",\n",
    "      sum(df_survival_lung['DFI'].value_counts(normalize=False)))\n",
    "\n",
    "df_survival_lung['DFI'].value_counts(normalize=False, dropna=False)"
   ]
  },
  {
   "cell_type": "markdown",
   "metadata": {},
   "source": [
    "### Export\n",
    "\n",
    "We write the Lung gene expression and the sample info datasets into an HDF5 file, in machine learning format (rows as samples):"
   ]
  },
  {
   "cell_type": "code",
   "execution_count": 28,
   "metadata": {},
   "outputs": [
    {
     "name": "stdout",
     "output_type": "stream",
     "text": [
      "CPU times: user 344 ms, sys: 220 ms, total: 564 ms\n",
      "Wall time: 562 ms\n"
     ]
    },
    {
     "name": "stderr",
     "output_type": "stream",
     "text": [
      "/usr/local/lib/python3.7/dist-packages/IPython/core/magics/execution.py:1315: PerformanceWarning: \n",
      "your performance may suffer as PyTables will pickle object types that it cannot\n",
      "map directly to c-types [inferred_type->mixed,key->block0_values] [items->Index(['_PATIENT', 'cancer type abbreviation', 'gender', 'race',\n",
      "       'ajcc_pathologic_tumor_stage', 'clinical_stage', 'histological_type',\n",
      "       'histological_grade', 'menopause_status', 'vital_status',\n",
      "       'tumor_status', 'cause_of_death', 'new_tumor_event_type',\n",
      "       'new_tumor_event_site', 'new_tumor_event_site_other',\n",
      "       'treatment_outcome_first_course', 'margin_status', 'residual_tumor',\n",
      "       'Redaction'],\n",
      "      dtype='object')]\n",
      "\n",
      "  exec(code, glob, local_ns)\n"
     ]
    }
   ],
   "source": [
    "%%time\n",
    "# Export h5 format file: create an HDF5 file with two datasets (contained in the root group, the file object)\n",
    "with pd.HDFStore(\"/tempory/transcriptomic_data/pan_cancer/Lung_pancan.h5\", \"w\") as store:\n",
    "    store[\"expression\"] = df_gene_exp_lung\n",
    "    store[\"sample\"] = df_sample_lung\n",
    "    store[\"survival_outcome\"] = df_survival_lung"
   ]
  },
  {
   "cell_type": "markdown",
   "metadata": {},
   "source": [
    "## non-Lung\n",
    "\n",
    "This subset includes all the PanCancer samples except the Lung ones, containing samples from 31 different tumor types. The non-Lung dataset is intended to be used during the pre-training phase of a TL approach."
   ]
  },
  {
   "cell_type": "code",
   "execution_count": 29,
   "metadata": {
    "scrolled": true
   },
   "outputs": [
    {
     "data": {
      "text/plain": [
       "9374"
      ]
     },
     "execution_count": 29,
     "metadata": {},
     "output_type": "execute_result"
    }
   ],
   "source": [
    "no_lung_sample = df_survival.index.difference(lung_sample)\n",
    "len(no_lung_sample)"
   ]
  },
  {
   "cell_type": "code",
   "execution_count": 30,
   "metadata": {},
   "outputs": [
    {
     "data": {
      "text/plain": [
       "True"
      ]
     },
     "execution_count": 30,
     "metadata": {},
     "output_type": "execute_result"
    }
   ],
   "source": [
    "# Check that the number of non-Lung samples is correct\n",
    "len(no_lung_sample) == (df_survival.shape[0] - df_gene_exp_lung.shape[0])"
   ]
  },
  {
   "cell_type": "markdown",
   "metadata": {},
   "source": [
    "We first create the non-Lung gene expression dataset:"
   ]
  },
  {
   "cell_type": "code",
   "execution_count": 31,
   "metadata": {},
   "outputs": [
    {
     "data": {
      "text/plain": [
       "(9374, 60498)"
      ]
     },
     "execution_count": 31,
     "metadata": {},
     "output_type": "execute_result"
    }
   ],
   "source": [
    "df_gene_exp_no_lung = df_gene_exp.loc[no_lung_sample]\n",
    "df_gene_exp_no_lung.shape"
   ]
  },
  {
   "cell_type": "markdown",
   "metadata": {},
   "source": [
    "### Data exploration\n",
    "\n",
    "We now explore the samples type (tumor or normal), and then some clinical information associated to them."
   ]
  },
  {
   "cell_type": "markdown",
   "metadata": {},
   "source": [
    "#### Tumor-Normal binary variable"
   ]
  },
  {
   "cell_type": "markdown",
   "metadata": {},
   "source": [
    "We filter the non-Lung samples from the expression dataset contained in the PanCancer samples types dataset:"
   ]
  },
  {
   "cell_type": "code",
   "execution_count": 32,
   "metadata": {},
   "outputs": [
    {
     "data": {
      "text/plain": [
       "9374"
      ]
     },
     "execution_count": 32,
     "metadata": {},
     "output_type": "execute_result"
    }
   ],
   "source": [
    "sample_no_lung_common = df_gene_exp_no_lung.index.intersection(df_sample.index)\n",
    "len(sample_no_lung_common)"
   ]
  },
  {
   "cell_type": "code",
   "execution_count": 33,
   "metadata": {},
   "outputs": [
    {
     "data": {
      "text/plain": [
       "(9374, 4)"
      ]
     },
     "execution_count": 33,
     "metadata": {},
     "output_type": "execute_result"
    }
   ],
   "source": [
    "df_sample_no_lung = df_sample.loc[sample_no_lung_common]\n",
    "df_sample_no_lung.shape"
   ]
  },
  {
   "cell_type": "code",
   "execution_count": 34,
   "metadata": {},
   "outputs": [
    {
     "data": {
      "text/plain": [
       "Primary Tumor                                      0.869639\n",
       "Solid Tissue Normal                                0.064327\n",
       "Metastatic                                         0.041818\n",
       "Primary Blood Derived Cancer - Peripheral Blood    0.018455\n",
       "Recurrent Tumor                                    0.004587\n",
       "Additional - New Primary                           0.001067\n",
       "Additional Metastatic                              0.000107\n",
       "Name: sample_type, dtype: float64"
      ]
     },
     "execution_count": 34,
     "metadata": {},
     "output_type": "execute_result"
    }
   ],
   "source": [
    "# Sample type variable\n",
    "df_sample_no_lung.sample_type.value_counts(normalize=True, dropna=False)"
   ]
  },
  {
   "cell_type": "code",
   "execution_count": 35,
   "metadata": {},
   "outputs": [
    {
     "data": {
      "text/plain": [
       "Tumor     0.935673\n",
       "Normal    0.064327\n",
       "Name: tumor_normal, dtype: float64"
      ]
     },
     "execution_count": 35,
     "metadata": {},
     "output_type": "execute_result"
    }
   ],
   "source": [
    "# Tumor/Normal variable\n",
    "df_sample_no_lung.tumor_normal.value_counts(normalize=True, dropna=False)"
   ]
  },
  {
   "cell_type": "markdown",
   "metadata": {},
   "source": [
    "#### Clinical variables"
   ]
  },
  {
   "cell_type": "markdown",
   "metadata": {},
   "source": [
    "We filter the non-Lung samples from the expression dataset contained in the PanCancer clinical dataset:"
   ]
  },
  {
   "cell_type": "code",
   "execution_count": 36,
   "metadata": {
    "scrolled": true
   },
   "outputs": [
    {
     "data": {
      "text/plain": [
       "9374"
      ]
     },
     "execution_count": 36,
     "metadata": {},
     "output_type": "execute_result"
    }
   ],
   "source": [
    "survival_no_lung_common = df_gene_exp_no_lung.index.intersection(df_survival.index)\n",
    "len(survival_no_lung_common)"
   ]
  },
  {
   "cell_type": "code",
   "execution_count": 37,
   "metadata": {},
   "outputs": [
    {
     "data": {
      "text/plain": [
       "(9374, 33)"
      ]
     },
     "execution_count": 37,
     "metadata": {},
     "output_type": "execute_result"
    }
   ],
   "source": [
    "df_survival_no_lung = df_survival.loc[survival_no_lung_common]\n",
    "df_survival_no_lung.shape"
   ]
  },
  {
   "cell_type": "code",
   "execution_count": 38,
   "metadata": {},
   "outputs": [
    {
     "name": "stdout",
     "output_type": "stream",
     "text": [
      "Number of samples with this information: 9367\n"
     ]
    },
    {
     "data": {
      "text/plain": [
       "0.0    0.698208\n",
       "1.0    0.301045\n",
       "NaN    0.000747\n",
       "Name: OS, dtype: float64"
      ]
     },
     "execution_count": 38,
     "metadata": {},
     "output_type": "execute_result"
    }
   ],
   "source": [
    "# Overall survival\n",
    "variable = \"OS\"\n",
    "print(\"Number of samples with this information:\",\n",
    "      sum(df_survival_no_lung[variable].value_counts(normalize=False)))\n",
    "\n",
    "df_survival_no_lung[variable].value_counts(normalize=True, dropna=False)"
   ]
  },
  {
   "cell_type": "code",
   "execution_count": 39,
   "metadata": {},
   "outputs": [
    {
     "name": "stdout",
     "output_type": "stream",
     "text": [
      "Number of samples with this information: 9194\n"
     ]
    },
    {
     "data": {
      "text/plain": [
       "0.0    0.641988\n",
       "1.0    0.338809\n",
       "NaN    0.019202\n",
       "Name: PFI, dtype: float64"
      ]
     },
     "execution_count": 39,
     "metadata": {},
     "output_type": "execute_result"
    }
   ],
   "source": [
    "# Progression-free interval\n",
    "variable = \"PFI\"\n",
    "print(\"Number of samples with this information:\",\n",
    "      sum(df_survival_no_lung[variable].value_counts(normalize=False)))\n",
    "\n",
    "df_survival_no_lung[variable].value_counts(normalize=True, dropna=False)"
   ]
  },
  {
   "cell_type": "code",
   "execution_count": 40,
   "metadata": {},
   "outputs": [
    {
     "name": "stdout",
     "output_type": "stream",
     "text": [
      "Number of samples with this information: 8990\n"
     ]
    },
    {
     "data": {
      "text/plain": [
       "0.0    0.755174\n",
       "1.0    0.203862\n",
       "NaN    0.040964\n",
       "Name: DSS, dtype: float64"
      ]
     },
     "execution_count": 40,
     "metadata": {},
     "output_type": "execute_result"
    }
   ],
   "source": [
    "# Disease-specific survival\n",
    "variable = \"DSS\"\n",
    "print(\"Number of samples with this information:\",\n",
    "      sum(df_survival_no_lung[variable].value_counts(normalize=False)))\n",
    "\n",
    "df_survival_no_lung[variable].value_counts(normalize=True, dropna=False)"
   ]
  },
  {
   "cell_type": "code",
   "execution_count": 41,
   "metadata": {},
   "outputs": [
    {
     "name": "stdout",
     "output_type": "stream",
     "text": [
      "Number of samples with this information: 4671\n"
     ]
    },
    {
     "data": {
      "text/plain": [
       "NaN    0.501707\n",
       "0.0    0.400469\n",
       "1.0    0.097824\n",
       "Name: DFI, dtype: float64"
      ]
     },
     "execution_count": 41,
     "metadata": {},
     "output_type": "execute_result"
    }
   ],
   "source": [
    "# Disease-free interval\n",
    "variable = \"DFI\"\n",
    "print(\"Number of samples with this information:\",\n",
    "      sum(df_survival_no_lung[variable].value_counts(normalize=False)))\n",
    "\n",
    "df_survival_no_lung[variable].value_counts(normalize=True, dropna=False)"
   ]
  },
  {
   "cell_type": "markdown",
   "metadata": {},
   "source": [
    "### Export\n",
    "\n",
    "We write the non-Lung gene expression and the sample info datasets into an HDF5 file, in machine learning format (rows as samples):"
   ]
  },
  {
   "cell_type": "code",
   "execution_count": 42,
   "metadata": {},
   "outputs": [
    {
     "name": "stderr",
     "output_type": "stream",
     "text": [
      "/usr/local/lib/python3.7/dist-packages/IPython/core/magics/execution.py:1315: PerformanceWarning: \n",
      "your performance may suffer as PyTables will pickle object types that it cannot\n",
      "map directly to c-types [inferred_type->mixed,key->block0_values] [items->Index(['_PATIENT', 'cancer type abbreviation', 'gender', 'race',\n",
      "       'ajcc_pathologic_tumor_stage', 'clinical_stage', 'histological_type',\n",
      "       'histological_grade', 'menopause_status', 'vital_status',\n",
      "       'tumor_status', 'cause_of_death', 'new_tumor_event_type',\n",
      "       'new_tumor_event_site', 'new_tumor_event_site_other',\n",
      "       'treatment_outcome_first_course', 'margin_status', 'residual_tumor',\n",
      "       'Redaction'],\n",
      "      dtype='object')]\n",
      "\n",
      "  exec(code, glob, local_ns)\n"
     ]
    },
    {
     "name": "stdout",
     "output_type": "stream",
     "text": [
      "CPU times: user 5.91 s, sys: 6.35 s, total: 12.3 s\n",
      "Wall time: 42.9 s\n"
     ]
    }
   ],
   "source": [
    "%%time\n",
    "# Export h5 format file: create an HDF5 file with three datasets (contained in the root group, the file object)\n",
    "with pd.HDFStore(\"/tempory/transcriptomic_data/pan_cancer/non_Lung_pancan.h5\", \"w\") as store:\n",
    "    store[\"expression\"] = df_gene_exp_no_lung\n",
    "    store[\"sample_type\"] = df_sample_no_lung\n",
    "    store[\"sample_clinical\"] = df_survival_no_lung"
   ]
  },
  {
   "cell_type": "code",
   "execution_count": null,
   "metadata": {},
   "outputs": [],
   "source": []
  }
 ],
 "metadata": {
  "kernelspec": {
   "display_name": "Python 3",
   "language": "python",
   "name": "python3"
  },
  "language_info": {
   "codemirror_mode": {
    "name": "ipython",
    "version": 3
   },
   "file_extension": ".py",
   "mimetype": "text/x-python",
   "name": "python",
   "nbconvert_exporter": "python",
   "pygments_lexer": "ipython3",
   "version": "3.7.3"
  }
 },
 "nbformat": 4,
 "nbformat_minor": 4
}
