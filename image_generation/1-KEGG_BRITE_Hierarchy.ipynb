{
 "cells": [
  {
   "cell_type": "markdown",
   "metadata": {},
   "source": [
    "# KEGG BRITE functional hierarchies\n",
    "In this notebook, a mapping procedure is carried out with the purpose of creating a final table that links the hierarchical functional information contained in KEGG BRITE database to the genes present in the PanCancer gene-expression dataset."
   ]
  },
  {
   "cell_type": "code",
   "execution_count": 1,
   "metadata": {},
   "outputs": [],
   "source": [
    "import pandas as pd\n",
    "import numpy as np"
   ]
  },
  {
   "cell_type": "markdown",
   "metadata": {},
   "source": [
    "##  KEGG and PanCancer data loading\n",
    "\n",
    "- Data coming from KEGG database is fetched on `KEGG_BRITE_Data_Obtaining` notebook.\n",
    "- Data coming from PanCancer dataset is obtained from a previous project (see [A Transfer-Learning Approach to Feature Extraction from Cancer Transcriptomes with Deep Autoencoders](https://link.springer.com/chapter/10.1007%2F978-3-030-20521-8_74)). In this previous work, the ~9K most variably expressed genes were retained. However, in this case, the 20K most variably expressed genes have been kept (also using standard deviation (SD) and median absolute deviation (MAD) metrics)."
   ]
  },
  {
   "cell_type": "code",
   "execution_count": 2,
   "metadata": {},
   "outputs": [
    {
     "name": "stdout",
     "output_type": "stream",
     "text": [
      "CPU times: user 676 ms, sys: 312 ms, total: 988 ms\n",
      "Wall time: 1.1 s\n"
     ]
    }
   ],
   "source": [
    "%%time\n",
    "# KEGG information\n",
    "hsa = pd.read_csv('../KEGG_data/KEGG_gene_hsa.csv', sep='\\t', \n",
    "                  engine='python', header=None, index_col=None, names=['keggId', 'geneName'])\n",
    "hsa_brite = pd.read_csv('../KEGG_data/KEGG_hsa_brite.csv', \n",
    "                        sep='\\t', engine='python', header=None, index_col=None, names=['keggBriteId', 'keggId'])\n",
    "brite = pd.read_csv('../KEGG_data/KEGG_brite.csv', \n",
    "                    engine='python', header=0, index_col=0)\n",
    "\n",
    "# PanCancer gene-expression dataset\n",
    "brca_ex = pd.read_hdf(\"/tempory/transcriptomic_data/pan_cancer/mad_filter_pancan_all_TCGA_20.h5\", \n",
    "                      key = \"brca\")\n",
    "non_brca_ex = pd.read_hdf(\"/tempory/transcriptomic_data/pan_cancer/mad_filter_pancan_all_TCGA_20.h5\", \n",
    "                          key = \"non_brca\")"
   ]
  },
  {
   "cell_type": "markdown",
   "metadata": {},
   "source": [
    "As a sanity check procedure, we check if the samples contained in the clinical outcomes datasets are also contained in the gene expression datasets:"
   ]
  },
  {
   "cell_type": "code",
   "execution_count": 3,
   "metadata": {},
   "outputs": [
    {
     "data": {
      "text/plain": [
       "(9285, 33)"
      ]
     },
     "execution_count": 3,
     "metadata": {},
     "output_type": "execute_result"
    }
   ],
   "source": [
    "Y_pancan_non_brca_surv = pd.read_hdf(\"/tempory/transcriptomic_data/pan_cancer/non_BRCA_pancan.h5\", key=\"sample_clinical\")\n",
    "Y_pancan_non_brca_surv.shape"
   ]
  },
  {
   "cell_type": "code",
   "execution_count": 4,
   "metadata": {},
   "outputs": [
    {
     "data": {
      "text/plain": [
       "9285"
      ]
     },
     "execution_count": 4,
     "metadata": {},
     "output_type": "execute_result"
    }
   ],
   "source": [
    "len(Y_pancan_non_brca_surv.index.intersection(list(map(lambda x: x.split('_')[0], non_brca_ex.index))))"
   ]
  },
  {
   "cell_type": "code",
   "execution_count": 5,
   "metadata": {},
   "outputs": [
    {
     "data": {
      "text/plain": [
       "(1211, 33)"
      ]
     },
     "execution_count": 5,
     "metadata": {},
     "output_type": "execute_result"
    }
   ],
   "source": [
    "Y_pancan_brca_surv = pd.read_hdf(\"/tempory/transcriptomic_data/pan_cancer/BRCA_pancan.h5\", key=\"survival_outcome\")\n",
    "Y_pancan_brca_surv.shape"
   ]
  },
  {
   "cell_type": "code",
   "execution_count": 6,
   "metadata": {
    "scrolled": true
   },
   "outputs": [
    {
     "data": {
      "text/plain": [
       "1211"
      ]
     },
     "execution_count": 6,
     "metadata": {},
     "output_type": "execute_result"
    }
   ],
   "source": [
    "len(Y_pancan_brca_surv.index.intersection(list(map(lambda x: x.split('_')[0], brca_ex.index))))"
   ]
  },
  {
   "cell_type": "markdown",
   "metadata": {},
   "source": [
    "Get ENSEMBL IDs:"
   ]
  },
  {
   "cell_type": "code",
   "execution_count": 7,
   "metadata": {},
   "outputs": [],
   "source": [
    "ens_genes = brca_ex.columns"
   ]
  },
  {
   "cell_type": "code",
   "execution_count": 8,
   "metadata": {},
   "outputs": [
    {
     "name": "stdout",
     "output_type": "stream",
     "text": [
      "Initial number of genes: 20000\n"
     ]
    }
   ],
   "source": [
    "print(\"Initial number of genes: {}\".format(len(ens_genes)))"
   ]
  },
  {
   "cell_type": "code",
   "execution_count": 9,
   "metadata": {},
   "outputs": [
    {
     "name": "stdout",
     "output_type": "stream",
     "text": [
      "Total number of samples (patients): 10535\n"
     ]
    }
   ],
   "source": [
    "print(\"Total number of samples (patients): {}\".format(brca_ex.shape[0] + non_brca_ex.shape[0]))"
   ]
  },
  {
   "cell_type": "markdown",
   "metadata": {},
   "source": [
    "## MAPPING: From Ensembl Gene ID to KEGG BRITE functional hierarchy\n",
    "KEGG relates Hugo-gene-names to an internal id (KEGG gene id) that is useful to find out the corresponding KEGG BRITE ids (hierarchical functional annotations) of each gene. Because of genes in PanCancer dataset are indexed by ENSEMBL-ids, a mapping procedure needs to be performed, that associates ENSEMBL-id to Hugo-gene-name, Hugo-gene-name to KEGG gene id and KEGG gene id to KEGG BRITE id."
   ]
  },
  {
   "cell_type": "markdown",
   "metadata": {},
   "source": [
    "### Mapping: Ensembl Gene ID to  Hugo Gene Name\n",
    "\n",
    "We load a table relating ENSEMBL-ids and Hugo-gene-names, downloaded from: https://raw.githubusercontent.com/jvivian/docker_tools/master/gencode_hugo_mapping/attrs.tsv"
   ]
  },
  {
   "cell_type": "code",
   "execution_count": 10,
   "metadata": {},
   "outputs": [
    {
     "name": "stdout",
     "output_type": "stream",
     "text": [
      "CPU times: user 838 ms, sys: 60.8 ms, total: 899 ms\n",
      "Wall time: 897 ms\n"
     ]
    }
   ],
   "source": [
    "%%time\n",
    "hugo_ens = pd.read_csv('/tempory/transcriptomic_data/pan_cancer/attrs.tsv', \n",
    "                       sep='\\t', engine='python', index_col=None)"
   ]
  },
  {
   "cell_type": "code",
   "execution_count": 11,
   "metadata": {},
   "outputs": [
    {
     "data": {
      "text/plain": [
       "(65670, 13)"
      ]
     },
     "execution_count": 11,
     "metadata": {},
     "output_type": "execute_result"
    }
   ],
   "source": [
    "hugo_ens = hugo_ens[~hugo_ens.duplicated(subset=['geneId', 'geneName'])]\n",
    "hugo_ens.shape"
   ]
  },
  {
   "cell_type": "markdown",
   "metadata": {},
   "source": [
    "We only select genes contained in the expression datasets:"
   ]
  },
  {
   "cell_type": "code",
   "execution_count": 12,
   "metadata": {},
   "outputs": [
    {
     "data": {
      "text/plain": [
       "(20000, 13)"
      ]
     },
     "execution_count": 12,
     "metadata": {},
     "output_type": "execute_result"
    }
   ],
   "source": [
    "hugo_ens = hugo_ens[hugo_ens['geneId'].isin(ens_genes)]\n",
    "hugo_ens.shape"
   ]
  },
  {
   "cell_type": "code",
   "execution_count": 13,
   "metadata": {},
   "outputs": [],
   "source": [
    "gene_mapping = hugo_ens[['geneId', 'geneName']]"
   ]
  },
  {
   "cell_type": "code",
   "execution_count": 14,
   "metadata": {},
   "outputs": [
    {
     "data": {
      "text/html": [
       "<div>\n",
       "<style scoped>\n",
       "    .dataframe tbody tr th:only-of-type {\n",
       "        vertical-align: middle;\n",
       "    }\n",
       "\n",
       "    .dataframe tbody tr th {\n",
       "        vertical-align: top;\n",
       "    }\n",
       "\n",
       "    .dataframe thead th {\n",
       "        text-align: right;\n",
       "    }\n",
       "</style>\n",
       "<table border=\"1\" class=\"dataframe\">\n",
       "  <thead>\n",
       "    <tr style=\"text-align: right;\">\n",
       "      <th></th>\n",
       "      <th>geneId</th>\n",
       "      <th>geneName</th>\n",
       "    </tr>\n",
       "  </thead>\n",
       "  <tbody>\n",
       "    <tr>\n",
       "      <th>2</th>\n",
       "      <td>ENSG00000227232.5</td>\n",
       "      <td>WASH7P</td>\n",
       "    </tr>\n",
       "    <tr>\n",
       "      <th>12</th>\n",
       "      <td>ENSG00000238009.6</td>\n",
       "      <td>RP11-34P13.7</td>\n",
       "    </tr>\n",
       "    <tr>\n",
       "      <th>13</th>\n",
       "      <td>ENSG00000239945.1</td>\n",
       "      <td>RP11-34P13.8</td>\n",
       "    </tr>\n",
       "    <tr>\n",
       "      <th>18</th>\n",
       "      <td>ENSG00000233750.3</td>\n",
       "      <td>CICP27</td>\n",
       "    </tr>\n",
       "    <tr>\n",
       "      <th>19</th>\n",
       "      <td>ENSG00000268903.1</td>\n",
       "      <td>RP11-34P13.15</td>\n",
       "    </tr>\n",
       "  </tbody>\n",
       "</table>\n",
       "</div>"
      ],
      "text/plain": [
       "               geneId       geneName\n",
       "2   ENSG00000227232.5         WASH7P\n",
       "12  ENSG00000238009.6   RP11-34P13.7\n",
       "13  ENSG00000239945.1   RP11-34P13.8\n",
       "18  ENSG00000233750.3         CICP27\n",
       "19  ENSG00000268903.1  RP11-34P13.15"
      ]
     },
     "execution_count": 14,
     "metadata": {},
     "output_type": "execute_result"
    }
   ],
   "source": [
    "gene_mapping.head()"
   ]
  },
  {
   "cell_type": "code",
   "execution_count": 15,
   "metadata": {},
   "outputs": [
    {
     "data": {
      "text/plain": [
       "0"
      ]
     },
     "execution_count": 15,
     "metadata": {},
     "output_type": "execute_result"
    }
   ],
   "source": [
    "# Sanity check\n",
    "sum(gene_mapping.duplicated())"
   ]
  },
  {
   "cell_type": "code",
   "execution_count": 16,
   "metadata": {},
   "outputs": [
    {
     "name": "stdout",
     "output_type": "stream",
     "text": [
      "Number of Hugo genes contained in the expression datasets: 19959\n"
     ]
    }
   ],
   "source": [
    "print(\"Number of Hugo genes contained in the expression datasets:\", len(set(gene_mapping['geneName'])))"
   ]
  },
  {
   "cell_type": "code",
   "execution_count": 17,
   "metadata": {},
   "outputs": [
    {
     "name": "stdout",
     "output_type": "stream",
     "text": [
      "Number of ENSEMBLE genes contained in the expression datasets: 20000\n"
     ]
    }
   ],
   "source": [
    "print(\"Number of ENSEMBLE genes contained in the expression datasets:\", len(set(gene_mapping['geneId'])))"
   ]
  },
  {
   "cell_type": "markdown",
   "metadata": {},
   "source": [
    "### Mapping: Hugo Gene Name to KEGG gene id"
   ]
  },
  {
   "cell_type": "code",
   "execution_count": 18,
   "metadata": {},
   "outputs": [
    {
     "data": {
      "text/plain": [
       "0"
      ]
     },
     "execution_count": 18,
     "metadata": {},
     "output_type": "execute_result"
    }
   ],
   "source": [
    "# Check if we can split using the next two characters\n",
    "sum(map(lambda x: ',' in x or ';' in x, gene_mapping.geneName))"
   ]
  },
  {
   "cell_type": "code",
   "execution_count": 19,
   "metadata": {},
   "outputs": [
    {
     "name": "stdout",
     "output_type": "stream",
     "text": [
      "CPU times: user 263 ms, sys: 0 ns, total: 263 ms\n",
      "Wall time: 262 ms\n"
     ]
    }
   ],
   "source": [
    "%%time\n",
    "import itertools\n",
    "\n",
    "# We create a dataframe from a list with all (keggId, hugoGeneName) pairs contained in hsa dataframe\n",
    "hsa_hugo = pd.DataFrame(data=list(itertools.chain.from_iterable(hsa.apply(\n",
    "    lambda x: list(zip(itertools.repeat(x[0]), x[1].replace(';', ',').split(', '))), axis=1))), \n",
    "                        columns=['keggId', 'geneName'])"
   ]
  },
  {
   "cell_type": "code",
   "execution_count": 20,
   "metadata": {},
   "outputs": [
    {
     "name": "stdout",
     "output_type": "stream",
     "text": [
      "(126869, 2)\n"
     ]
    },
    {
     "data": {
      "text/html": [
       "<div>\n",
       "<style scoped>\n",
       "    .dataframe tbody tr th:only-of-type {\n",
       "        vertical-align: middle;\n",
       "    }\n",
       "\n",
       "    .dataframe tbody tr th {\n",
       "        vertical-align: top;\n",
       "    }\n",
       "\n",
       "    .dataframe thead th {\n",
       "        text-align: right;\n",
       "    }\n",
       "</style>\n",
       "<table border=\"1\" class=\"dataframe\">\n",
       "  <thead>\n",
       "    <tr style=\"text-align: right;\">\n",
       "      <th></th>\n",
       "      <th>keggId</th>\n",
       "      <th>geneName</th>\n",
       "    </tr>\n",
       "  </thead>\n",
       "  <tbody>\n",
       "    <tr>\n",
       "      <th>0</th>\n",
       "      <td>hsa:4549</td>\n",
       "      <td>RNR1</td>\n",
       "    </tr>\n",
       "    <tr>\n",
       "      <th>1</th>\n",
       "      <td>hsa:4549</td>\n",
       "      <td>MTRNR1</td>\n",
       "    </tr>\n",
       "    <tr>\n",
       "      <th>2</th>\n",
       "      <td>hsa:4549</td>\n",
       "      <td>MT-RNR1</td>\n",
       "    </tr>\n",
       "    <tr>\n",
       "      <th>3</th>\n",
       "      <td>hsa:4549</td>\n",
       "      <td>s-rRNA</td>\n",
       "    </tr>\n",
       "    <tr>\n",
       "      <th>4</th>\n",
       "      <td>hsa:4550</td>\n",
       "      <td>RNR2</td>\n",
       "    </tr>\n",
       "  </tbody>\n",
       "</table>\n",
       "</div>"
      ],
      "text/plain": [
       "     keggId geneName\n",
       "0  hsa:4549     RNR1\n",
       "1  hsa:4549   MTRNR1\n",
       "2  hsa:4549  MT-RNR1\n",
       "3  hsa:4549   s-rRNA\n",
       "4  hsa:4550     RNR2"
      ]
     },
     "execution_count": 20,
     "metadata": {},
     "output_type": "execute_result"
    }
   ],
   "source": [
    "print(hsa_hugo.shape)\n",
    "hsa_hugo.head()"
   ]
  },
  {
   "cell_type": "code",
   "execution_count": 21,
   "metadata": {},
   "outputs": [
    {
     "data": {
      "text/plain": [
       "86"
      ]
     },
     "execution_count": 21,
     "metadata": {},
     "output_type": "execute_result"
    }
   ],
   "source": [
    "# Sanity check\n",
    "sum(hsa_hugo.duplicated())"
   ]
  },
  {
   "cell_type": "code",
   "execution_count": 22,
   "metadata": {},
   "outputs": [],
   "source": [
    "# Remove duplicated rows\n",
    "hsa_hugo = hsa_hugo[~hsa_hugo.duplicated()]"
   ]
  },
  {
   "cell_type": "code",
   "execution_count": 23,
   "metadata": {},
   "outputs": [],
   "source": [
    "gene_mapping = pd.merge(gene_mapping, hsa_hugo, on='geneName')"
   ]
  },
  {
   "cell_type": "code",
   "execution_count": 24,
   "metadata": {},
   "outputs": [
    {
     "data": {
      "text/html": [
       "<div>\n",
       "<style scoped>\n",
       "    .dataframe tbody tr th:only-of-type {\n",
       "        vertical-align: middle;\n",
       "    }\n",
       "\n",
       "    .dataframe tbody tr th {\n",
       "        vertical-align: top;\n",
       "    }\n",
       "\n",
       "    .dataframe thead th {\n",
       "        text-align: right;\n",
       "    }\n",
       "</style>\n",
       "<table border=\"1\" class=\"dataframe\">\n",
       "  <thead>\n",
       "    <tr style=\"text-align: right;\">\n",
       "      <th></th>\n",
       "      <th>geneId</th>\n",
       "      <th>geneName</th>\n",
       "      <th>keggId</th>\n",
       "    </tr>\n",
       "  </thead>\n",
       "  <tbody>\n",
       "    <tr>\n",
       "      <th>0</th>\n",
       "      <td>ENSG00000227232.5</td>\n",
       "      <td>WASH7P</td>\n",
       "      <td>hsa:653635</td>\n",
       "    </tr>\n",
       "    <tr>\n",
       "      <th>1</th>\n",
       "      <td>ENSG00000226210.3</td>\n",
       "      <td>WASH7P</td>\n",
       "      <td>hsa:653635</td>\n",
       "    </tr>\n",
       "    <tr>\n",
       "      <th>2</th>\n",
       "      <td>ENSG00000177757.2</td>\n",
       "      <td>FAM87B</td>\n",
       "      <td>hsa:400728</td>\n",
       "    </tr>\n",
       "    <tr>\n",
       "      <th>3</th>\n",
       "      <td>ENSG00000225880.5</td>\n",
       "      <td>LINC00115</td>\n",
       "      <td>hsa:79854</td>\n",
       "    </tr>\n",
       "    <tr>\n",
       "      <th>4</th>\n",
       "      <td>ENSG00000230368.2</td>\n",
       "      <td>FAM41C</td>\n",
       "      <td>hsa:284593</td>\n",
       "    </tr>\n",
       "  </tbody>\n",
       "</table>\n",
       "</div>"
      ],
      "text/plain": [
       "              geneId   geneName      keggId\n",
       "0  ENSG00000227232.5     WASH7P  hsa:653635\n",
       "1  ENSG00000226210.3     WASH7P  hsa:653635\n",
       "2  ENSG00000177757.2     FAM87B  hsa:400728\n",
       "3  ENSG00000225880.5  LINC00115   hsa:79854\n",
       "4  ENSG00000230368.2     FAM41C  hsa:284593"
      ]
     },
     "execution_count": 24,
     "metadata": {},
     "output_type": "execute_result"
    }
   ],
   "source": [
    "gene_mapping.head()"
   ]
  },
  {
   "cell_type": "code",
   "execution_count": 25,
   "metadata": {},
   "outputs": [
    {
     "data": {
      "text/plain": [
       "0"
      ]
     },
     "execution_count": 25,
     "metadata": {},
     "output_type": "execute_result"
    }
   ],
   "source": [
    "# Sanity check\n",
    "sum(gene_mapping.duplicated())"
   ]
  },
  {
   "cell_type": "code",
   "execution_count": 26,
   "metadata": {},
   "outputs": [
    {
     "name": "stdout",
     "output_type": "stream",
     "text": [
      "Number of Hugo genes contained in the expression datasets that are associated with KEGG IDs: 12475\n"
     ]
    }
   ],
   "source": [
    "print(\"Number of Hugo genes contained in the expression datasets that are associated with KEGG IDs:\", \n",
    "      len(set(gene_mapping['geneName'])))"
   ]
  },
  {
   "cell_type": "code",
   "execution_count": 27,
   "metadata": {},
   "outputs": [
    {
     "name": "stdout",
     "output_type": "stream",
     "text": [
      "Number of ENSEMBLE genes contained in the expression datasets that are associated with KEGG IDs: 12506\n"
     ]
    }
   ],
   "source": [
    "print(\"Number of ENSEMBLE genes contained in the expression datasets that are associated with KEGG IDs:\", \n",
    "      len(set(gene_mapping['geneId'])))"
   ]
  },
  {
   "cell_type": "markdown",
   "metadata": {},
   "source": [
    "### Mapping: KEGG gene id to KEGG BRITE id"
   ]
  },
  {
   "cell_type": "code",
   "execution_count": 28,
   "metadata": {},
   "outputs": [],
   "source": [
    "gene_mapping = pd.merge(gene_mapping, hsa_brite, on='keggId')"
   ]
  },
  {
   "cell_type": "code",
   "execution_count": 29,
   "metadata": {},
   "outputs": [
    {
     "data": {
      "text/html": [
       "<div>\n",
       "<style scoped>\n",
       "    .dataframe tbody tr th:only-of-type {\n",
       "        vertical-align: middle;\n",
       "    }\n",
       "\n",
       "    .dataframe tbody tr th {\n",
       "        vertical-align: top;\n",
       "    }\n",
       "\n",
       "    .dataframe thead th {\n",
       "        text-align: right;\n",
       "    }\n",
       "</style>\n",
       "<table border=\"1\" class=\"dataframe\">\n",
       "  <thead>\n",
       "    <tr style=\"text-align: right;\">\n",
       "      <th></th>\n",
       "      <th>geneId</th>\n",
       "      <th>geneName</th>\n",
       "      <th>keggId</th>\n",
       "      <th>keggBriteId</th>\n",
       "    </tr>\n",
       "  </thead>\n",
       "  <tbody>\n",
       "    <tr>\n",
       "      <th>0</th>\n",
       "      <td>ENSG00000187961.13</td>\n",
       "      <td>KLHL17</td>\n",
       "      <td>hsa:339451</td>\n",
       "      <td>br:hsa00001</td>\n",
       "    </tr>\n",
       "    <tr>\n",
       "      <th>1</th>\n",
       "      <td>ENSG00000187961.13</td>\n",
       "      <td>KLHL17</td>\n",
       "      <td>hsa:339451</td>\n",
       "      <td>br:hsa04121</td>\n",
       "    </tr>\n",
       "    <tr>\n",
       "      <th>2</th>\n",
       "      <td>ENSG00000188290.10</td>\n",
       "      <td>HES4</td>\n",
       "      <td>hsa:57801</td>\n",
       "      <td>br:hsa00001</td>\n",
       "    </tr>\n",
       "    <tr>\n",
       "      <th>3</th>\n",
       "      <td>ENSG00000188290.10</td>\n",
       "      <td>HES4</td>\n",
       "      <td>hsa:57801</td>\n",
       "      <td>br:hsa03000</td>\n",
       "    </tr>\n",
       "    <tr>\n",
       "      <th>4</th>\n",
       "      <td>ENSG00000187608.8</td>\n",
       "      <td>ISG15</td>\n",
       "      <td>hsa:9636</td>\n",
       "      <td>br:hsa00001</td>\n",
       "    </tr>\n",
       "  </tbody>\n",
       "</table>\n",
       "</div>"
      ],
      "text/plain": [
       "               geneId geneName      keggId  keggBriteId\n",
       "0  ENSG00000187961.13   KLHL17  hsa:339451  br:hsa00001\n",
       "1  ENSG00000187961.13   KLHL17  hsa:339451  br:hsa04121\n",
       "2  ENSG00000188290.10     HES4   hsa:57801  br:hsa00001\n",
       "3  ENSG00000188290.10     HES4   hsa:57801  br:hsa03000\n",
       "4   ENSG00000187608.8    ISG15    hsa:9636  br:hsa00001"
      ]
     },
     "execution_count": 29,
     "metadata": {},
     "output_type": "execute_result"
    }
   ],
   "source": [
    "gene_mapping.head()"
   ]
  },
  {
   "cell_type": "code",
   "execution_count": 30,
   "metadata": {},
   "outputs": [
    {
     "data": {
      "text/plain": [
       "0"
      ]
     },
     "execution_count": 30,
     "metadata": {},
     "output_type": "execute_result"
    }
   ],
   "source": [
    "# Sanity check\n",
    "sum(gene_mapping.duplicated())"
   ]
  },
  {
   "cell_type": "code",
   "execution_count": 31,
   "metadata": {},
   "outputs": [
    {
     "name": "stdout",
     "output_type": "stream",
     "text": [
      "Number of Hugo genes contained in the expression datasets that are associated with KEGG BRITE IDs: 7495\n"
     ]
    }
   ],
   "source": [
    "print(\"Number of Hugo genes contained in the expression datasets that are associated with KEGG BRITE\" +\n",
    "      \" IDs:\", len(set(gene_mapping['geneName'])))"
   ]
  },
  {
   "cell_type": "code",
   "execution_count": 32,
   "metadata": {},
   "outputs": [
    {
     "name": "stdout",
     "output_type": "stream",
     "text": [
      "Number of ENSEMBLE genes contained in the expression datasets that are associated with KEGG BRITE IDs: 7509\n"
     ]
    }
   ],
   "source": [
    "print(\"Number of ENSEMBLE genes contained in the expression datasets that are associated with KEGG BRITE\" +\n",
    "      \" IDs:\", len(set(gene_mapping['geneId'])))"
   ]
  },
  {
   "cell_type": "markdown",
   "metadata": {},
   "source": [
    "### Mapping: KEGG BRITE id to KEGG BRITE functional hierarchies"
   ]
  },
  {
   "cell_type": "markdown",
   "metadata": {},
   "source": [
    "We pre-process the KEGG Brite IDs contained in `gene_mapping` dataset, in order to match the KEGG Brite IDs contained in `brite` dataset:"
   ]
  },
  {
   "cell_type": "code",
   "execution_count": 33,
   "metadata": {},
   "outputs": [
    {
     "data": {
      "text/plain": [
       "True"
      ]
     },
     "execution_count": 33,
     "metadata": {},
     "output_type": "execute_result"
    }
   ],
   "source": [
    "# Check all KEGG Brite IDs contained in gene_mapping dataframe have the same length\n",
    "id_len = len(gene_mapping['keggBriteId'][0])\n",
    "all(gene_mapping['keggBriteId'].apply(lambda x: len(x) == id_len))"
   ]
  },
  {
   "cell_type": "code",
   "execution_count": 34,
   "metadata": {},
   "outputs": [
    {
     "data": {
      "text/plain": [
       "True"
      ]
     },
     "execution_count": 34,
     "metadata": {},
     "output_type": "execute_result"
    }
   ],
   "source": [
    "# Check all KEGG Brite IDs contained in brite dataframe have the same length\n",
    "brite_id_len = len(brite['keggBriteId'][0])\n",
    "all(brite['keggBriteId'].apply(lambda x: len(x.split('_')[0]) == brite_id_len))"
   ]
  },
  {
   "cell_type": "code",
   "execution_count": 35,
   "metadata": {},
   "outputs": [],
   "source": [
    "# Extract the last four digits of each KEGG Brite ID\n",
    "gene_mapping['keggBriteId'] = gene_mapping['keggBriteId'].apply(lambda x: x[-4:])"
   ]
  },
  {
   "cell_type": "code",
   "execution_count": 36,
   "metadata": {},
   "outputs": [
    {
     "data": {
      "text/plain": [
       "0        0001\n",
       "13910    1000\n",
       "17827    0199\n",
       "17888    0535\n",
       "17941    0536\n",
       "18143    1001\n",
       "18667    3000\n",
       "19802    1002\n",
       "20352    1003\n",
       "20576    1004\n",
       "20655    1006\n",
       "20670    1007\n",
       "20728    1009\n",
       "21185    3110\n",
       "21408    4121\n",
       "22225    2044\n",
       "22241    4054\n",
       "22301    2042\n",
       "22307    2048\n",
       "22310    3011\n",
       "22497    3012\n",
       "22590    3041\n",
       "22948    3021\n",
       "23194    4131\n",
       "24566    3100\n",
       "24880    2000\n",
       "25546    3051\n",
       "25621    3029\n",
       "25987    3009\n",
       "26232    3036\n",
       "27423    3310\n",
       "27471    0537\n",
       "27556    4812\n",
       "28064    3019\n",
       "28505    3032\n",
       "28630    4052\n",
       "28867    3400\n",
       "29186    4090\n",
       "29628    4040\n",
       "29938    4515\n",
       "30130    4147\n",
       "31292    4091\n",
       "31428    4031\n",
       "31620    3016\n",
       "31783    4030\n",
       "32600    4050\n",
       "Name: keggBriteId, dtype: object"
      ]
     },
     "execution_count": 36,
     "metadata": {},
     "output_type": "execute_result"
    }
   ],
   "source": [
    "hsa_brite['keggBriteId'].apply(lambda x: x[-4:]).drop_duplicates()"
   ]
  },
  {
   "cell_type": "markdown",
   "metadata": {},
   "source": [
    "Now, we perform the final mapping:"
   ]
  },
  {
   "cell_type": "code",
   "execution_count": 37,
   "metadata": {},
   "outputs": [],
   "source": [
    "gene_mapping = pd.merge(gene_mapping, brite, on='keggBriteId')"
   ]
  },
  {
   "cell_type": "code",
   "execution_count": 38,
   "metadata": {},
   "outputs": [
    {
     "data": {
      "text/html": [
       "<div>\n",
       "<style scoped>\n",
       "    .dataframe tbody tr th:only-of-type {\n",
       "        vertical-align: middle;\n",
       "    }\n",
       "\n",
       "    .dataframe tbody tr th {\n",
       "        vertical-align: top;\n",
       "    }\n",
       "\n",
       "    .dataframe thead th {\n",
       "        text-align: right;\n",
       "    }\n",
       "</style>\n",
       "<table border=\"1\" class=\"dataframe\">\n",
       "  <thead>\n",
       "    <tr style=\"text-align: right;\">\n",
       "      <th></th>\n",
       "      <th>geneId</th>\n",
       "      <th>geneName</th>\n",
       "      <th>keggId</th>\n",
       "      <th>keggBriteId</th>\n",
       "      <th>Functional Annotation Group</th>\n",
       "      <th>Functional Annotation Subgroup</th>\n",
       "      <th>Functional Annotation</th>\n",
       "    </tr>\n",
       "  </thead>\n",
       "  <tbody>\n",
       "    <tr>\n",
       "      <th>0</th>\n",
       "      <td>ENSG00000187961.13</td>\n",
       "      <td>KLHL17</td>\n",
       "      <td>hsa:339451</td>\n",
       "      <td>0001</td>\n",
       "      <td>Genes and Proteins</td>\n",
       "      <td>Orthologs and modules</td>\n",
       "      <td>KEGG Orthology (KO)</td>\n",
       "    </tr>\n",
       "    <tr>\n",
       "      <th>1</th>\n",
       "      <td>ENSG00000188290.10</td>\n",
       "      <td>HES4</td>\n",
       "      <td>hsa:57801</td>\n",
       "      <td>0001</td>\n",
       "      <td>Genes and Proteins</td>\n",
       "      <td>Orthologs and modules</td>\n",
       "      <td>KEGG Orthology (KO)</td>\n",
       "    </tr>\n",
       "    <tr>\n",
       "      <th>2</th>\n",
       "      <td>ENSG00000187608.8</td>\n",
       "      <td>ISG15</td>\n",
       "      <td>hsa:9636</td>\n",
       "      <td>0001</td>\n",
       "      <td>Genes and Proteins</td>\n",
       "      <td>Orthologs and modules</td>\n",
       "      <td>KEGG Orthology (KO)</td>\n",
       "    </tr>\n",
       "    <tr>\n",
       "      <th>3</th>\n",
       "      <td>ENSG00000188157.13</td>\n",
       "      <td>AGRN</td>\n",
       "      <td>hsa:375790</td>\n",
       "      <td>0001</td>\n",
       "      <td>Genes and Proteins</td>\n",
       "      <td>Orthologs and modules</td>\n",
       "      <td>KEGG Orthology (KO)</td>\n",
       "    </tr>\n",
       "    <tr>\n",
       "      <th>4</th>\n",
       "      <td>ENSG00000186891.13</td>\n",
       "      <td>TNFRSF18</td>\n",
       "      <td>hsa:8784</td>\n",
       "      <td>0001</td>\n",
       "      <td>Genes and Proteins</td>\n",
       "      <td>Orthologs and modules</td>\n",
       "      <td>KEGG Orthology (KO)</td>\n",
       "    </tr>\n",
       "  </tbody>\n",
       "</table>\n",
       "</div>"
      ],
      "text/plain": [
       "               geneId  geneName      keggId keggBriteId  \\\n",
       "0  ENSG00000187961.13    KLHL17  hsa:339451        0001   \n",
       "1  ENSG00000188290.10      HES4   hsa:57801        0001   \n",
       "2   ENSG00000187608.8     ISG15    hsa:9636        0001   \n",
       "3  ENSG00000188157.13      AGRN  hsa:375790        0001   \n",
       "4  ENSG00000186891.13  TNFRSF18    hsa:8784        0001   \n",
       "\n",
       "  Functional Annotation Group Functional Annotation Subgroup  \\\n",
       "0          Genes and Proteins          Orthologs and modules   \n",
       "1          Genes and Proteins          Orthologs and modules   \n",
       "2          Genes and Proteins          Orthologs and modules   \n",
       "3          Genes and Proteins          Orthologs and modules   \n",
       "4          Genes and Proteins          Orthologs and modules   \n",
       "\n",
       "  Functional Annotation  \n",
       "0   KEGG Orthology (KO)  \n",
       "1   KEGG Orthology (KO)  \n",
       "2   KEGG Orthology (KO)  \n",
       "3   KEGG Orthology (KO)  \n",
       "4   KEGG Orthology (KO)  "
      ]
     },
     "execution_count": 38,
     "metadata": {},
     "output_type": "execute_result"
    }
   ],
   "source": [
    "gene_mapping.head()"
   ]
  },
  {
   "cell_type": "code",
   "execution_count": 39,
   "metadata": {},
   "outputs": [
    {
     "data": {
      "text/plain": [
       "0"
      ]
     },
     "execution_count": 39,
     "metadata": {},
     "output_type": "execute_result"
    }
   ],
   "source": [
    "# Sanity check\n",
    "sum(gene_mapping.duplicated())"
   ]
  },
  {
   "cell_type": "code",
   "execution_count": 40,
   "metadata": {},
   "outputs": [
    {
     "name": "stdout",
     "output_type": "stream",
     "text": [
      "Number of Hugo genes contained in the expression datasets that are associated with KEGG BRITE functional annotations: 7495\n"
     ]
    }
   ],
   "source": [
    "print(\"Number of Hugo genes contained in the expression datasets that are associated with KEGG BRITE\" +\n",
    "      \" functional annotations:\", len(set(gene_mapping['geneName'])))"
   ]
  },
  {
   "cell_type": "code",
   "execution_count": 41,
   "metadata": {},
   "outputs": [
    {
     "name": "stdout",
     "output_type": "stream",
     "text": [
      "Number of ENSEMBLE genes contained in the expression datasets that are associated with KEGG BRITE functional annotations: 7509\n"
     ]
    }
   ],
   "source": [
    "print(\"Number of ENSEMBLE genes contained in the expression datasets that are associated with KEGG BRITE\" +\n",
    "      \" functional annotations:\", len(set(gene_mapping['geneId'])))"
   ]
  },
  {
   "cell_type": "code",
   "execution_count": 42,
   "metadata": {},
   "outputs": [
    {
     "data": {
      "text/plain": [
       "Genes and Proteins    18494\n",
       "Name: Functional Annotation Group, dtype: int64"
      ]
     },
     "execution_count": 42,
     "metadata": {},
     "output_type": "execute_result"
    }
   ],
   "source": [
    "gene_mapping['Functional Annotation Group'].value_counts()"
   ]
  },
  {
   "cell_type": "code",
   "execution_count": 43,
   "metadata": {},
   "outputs": [
    {
     "data": {
      "text/plain": [
       "Orthologs and modules                                 7938\n",
       "Protein families: signaling and cellular processes    3715\n",
       "Protein families: metabolism                          3619\n",
       "Protein families: genetic information processing      3209\n",
       "RNA family                                              13\n",
       "Name: Functional Annotation Subgroup, dtype: int64"
      ]
     },
     "execution_count": 43,
     "metadata": {},
     "output_type": "execute_result"
    }
   ],
   "source": [
    "gene_mapping['Functional Annotation Subgroup'].value_counts()"
   ]
  },
  {
   "cell_type": "code",
   "execution_count": 44,
   "metadata": {},
   "outputs": [
    {
     "data": {
      "text/plain": [
       "KEGG Orthology (KO)                                     7938\n",
       "Enzymes                                                 2302\n",
       "Membrane trafficking                                     770\n",
       "Transcription factors                                    754\n",
       "Exosome                                                  659\n",
       "Chromosome and associated proteins                       611\n",
       "Transporters                                             486\n",
       "CD molecules                                             411\n",
       "Cytoskeleton proteins                                    379\n",
       "Peptidases                                               369\n",
       "Protein kinases                                          365\n",
       "G protein-coupled receptors                              343\n",
       "Ubiquitin system                                         324\n",
       "Protein phosphatases and associated proteins             275\n",
       "Ion channels                                             265\n",
       "Cell adhesion molecules                                  205\n",
       "Cytokines and growth factors                             197\n",
       "Glycosaminoglycan binding proteins                       191\n",
       "Glycosyltransferases                                     169\n",
       "Messenger RNA biogenesis                                 153\n",
       "DNA repair and recombination proteins                    134\n",
       "Lectins                                                  126\n",
       "GTP-binding proteins                                     112\n",
       "Cytokine receptors                                       106\n",
       "Chaperones and folding catalysts                          94\n",
       "Mitochondrial biogenesis                                  90\n",
       "Glycosylphosphatidylinositol (GPI)-anchored proteins      79\n",
       "DNA replication proteins                                  69\n",
       "Spliceosome                                               68\n",
       "Cytochrome P450                                           59\n",
       "Lipid biosynthesis proteins                               57\n",
       "Pattern recognition receptors                             57\n",
       "Proteoglycans                                             50\n",
       "Transcription machinery                                   45\n",
       "Nuclear receptors                                         42\n",
       "Ribosome biogenesis                                       40\n",
       "Transfer RNA biogenesis                                   24\n",
       "Amino acid related enzymes                                18\n",
       "Proteasome                                                13\n",
       "Non-coding RNAs                                           13\n",
       "Ribosome                                                  12\n",
       "Translation factors                                        8\n",
       "Bacterial toxins                                           5\n",
       "Prenyltransferases                                         5\n",
       "Secretion system                                           1\n",
       "Prokaryotic defense system                                 1\n",
       "Name: Functional Annotation, dtype: int64"
      ]
     },
     "execution_count": 44,
     "metadata": {},
     "output_type": "execute_result"
    }
   ],
   "source": [
    "gene_mapping['Functional Annotation'].value_counts()"
   ]
  },
  {
   "cell_type": "markdown",
   "metadata": {},
   "source": [
    "## KEGG BRITE functional hierarchies dataset\n",
    "\n",
    "Lastly, we create a final table that links the hierarchical functional information from KEGG BRITE to the genes present in the PanCancer gene-expression dataset."
   ]
  },
  {
   "cell_type": "code",
   "execution_count": 45,
   "metadata": {},
   "outputs": [
    {
     "name": "stdout",
     "output_type": "stream",
     "text": [
      "CPU times: user 2.12 s, sys: 1.94 s, total: 4.06 s\n",
      "Wall time: 4.13 s\n"
     ]
    }
   ],
   "source": [
    "%%time\n",
    "exp_to_tree_map = pd.concat([non_brca_ex, brca_ex]).T\n",
    "exp_to_tree_map['geneId'] = exp_to_tree_map.index\n",
    "exp_to_tree_map['tamPixel'] = np.ones(exp_to_tree_map.shape[0])\n",
    "exp_to_tree_map['order'] = pd.concat([non_brca_ex, brca_ex]).mean(axis=0) # sort genes by mean expression values \n",
    "exp_to_tree_map = pd.merge(gene_mapping, exp_to_tree_map, on='geneId')"
   ]
  },
  {
   "cell_type": "code",
   "execution_count": 46,
   "metadata": {},
   "outputs": [
    {
     "data": {
      "text/html": [
       "<div>\n",
       "<style scoped>\n",
       "    .dataframe tbody tr th:only-of-type {\n",
       "        vertical-align: middle;\n",
       "    }\n",
       "\n",
       "    .dataframe tbody tr th {\n",
       "        vertical-align: top;\n",
       "    }\n",
       "\n",
       "    .dataframe thead th {\n",
       "        text-align: right;\n",
       "    }\n",
       "</style>\n",
       "<table border=\"1\" class=\"dataframe\">\n",
       "  <thead>\n",
       "    <tr style=\"text-align: right;\">\n",
       "      <th></th>\n",
       "      <th>geneId</th>\n",
       "      <th>geneName</th>\n",
       "      <th>keggId</th>\n",
       "      <th>keggBriteId</th>\n",
       "      <th>Functional Annotation Group</th>\n",
       "      <th>Functional Annotation Subgroup</th>\n",
       "      <th>Functional Annotation</th>\n",
       "      <th>TCGA-02-0047-01_NON_BRCA</th>\n",
       "      <th>TCGA-02-0055-01_NON_BRCA</th>\n",
       "      <th>TCGA-02-2483-01_NON_BRCA</th>\n",
       "      <th>...</th>\n",
       "      <th>TCGA-V7-A7HQ-01_BRCA</th>\n",
       "      <th>TCGA-W8-A86G-01_BRCA</th>\n",
       "      <th>TCGA-WT-AB41-01_BRCA</th>\n",
       "      <th>TCGA-WT-AB44-01_BRCA</th>\n",
       "      <th>TCGA-XX-A899-01_BRCA</th>\n",
       "      <th>TCGA-XX-A89A-01_BRCA</th>\n",
       "      <th>TCGA-Z7-A8R5-01_BRCA</th>\n",
       "      <th>TCGA-Z7-A8R6-01_BRCA</th>\n",
       "      <th>tamPixel</th>\n",
       "      <th>order</th>\n",
       "    </tr>\n",
       "  </thead>\n",
       "  <tbody>\n",
       "    <tr>\n",
       "      <th>0</th>\n",
       "      <td>ENSG00000187961.13</td>\n",
       "      <td>KLHL17</td>\n",
       "      <td>hsa:339451</td>\n",
       "      <td>0001</td>\n",
       "      <td>Genes and Proteins</td>\n",
       "      <td>Orthologs and modules</td>\n",
       "      <td>KEGG Orthology (KO)</td>\n",
       "      <td>1.3225</td>\n",
       "      <td>2.3135</td>\n",
       "      <td>2.5707</td>\n",
       "      <td>...</td>\n",
       "      <td>1.8404</td>\n",
       "      <td>3.9552</td>\n",
       "      <td>1.0847</td>\n",
       "      <td>1.8762</td>\n",
       "      <td>3.1860</td>\n",
       "      <td>2.6738</td>\n",
       "      <td>2.0360</td>\n",
       "      <td>3.2766</td>\n",
       "      <td>1.0</td>\n",
       "      <td>1.992469</td>\n",
       "    </tr>\n",
       "    <tr>\n",
       "      <th>1</th>\n",
       "      <td>ENSG00000187961.13</td>\n",
       "      <td>KLHL17</td>\n",
       "      <td>hsa:339451</td>\n",
       "      <td>4121</td>\n",
       "      <td>Genes and Proteins</td>\n",
       "      <td>Protein families: genetic information processing</td>\n",
       "      <td>Ubiquitin system</td>\n",
       "      <td>1.3225</td>\n",
       "      <td>2.3135</td>\n",
       "      <td>2.5707</td>\n",
       "      <td>...</td>\n",
       "      <td>1.8404</td>\n",
       "      <td>3.9552</td>\n",
       "      <td>1.0847</td>\n",
       "      <td>1.8762</td>\n",
       "      <td>3.1860</td>\n",
       "      <td>2.6738</td>\n",
       "      <td>2.0360</td>\n",
       "      <td>3.2766</td>\n",
       "      <td>1.0</td>\n",
       "      <td>1.992469</td>\n",
       "    </tr>\n",
       "    <tr>\n",
       "      <th>2</th>\n",
       "      <td>ENSG00000188290.10</td>\n",
       "      <td>HES4</td>\n",
       "      <td>hsa:57801</td>\n",
       "      <td>0001</td>\n",
       "      <td>Genes and Proteins</td>\n",
       "      <td>Orthologs and modules</td>\n",
       "      <td>KEGG Orthology (KO)</td>\n",
       "      <td>4.1604</td>\n",
       "      <td>3.6148</td>\n",
       "      <td>3.8729</td>\n",
       "      <td>...</td>\n",
       "      <td>5.5085</td>\n",
       "      <td>4.7296</td>\n",
       "      <td>2.9581</td>\n",
       "      <td>3.9910</td>\n",
       "      <td>4.4758</td>\n",
       "      <td>2.8681</td>\n",
       "      <td>4.4108</td>\n",
       "      <td>5.1538</td>\n",
       "      <td>1.0</td>\n",
       "      <td>2.791702</td>\n",
       "    </tr>\n",
       "    <tr>\n",
       "      <th>3</th>\n",
       "      <td>ENSG00000188290.10</td>\n",
       "      <td>HES4</td>\n",
       "      <td>hsa:57801</td>\n",
       "      <td>3000</td>\n",
       "      <td>Genes and Proteins</td>\n",
       "      <td>Protein families: genetic information processing</td>\n",
       "      <td>Transcription factors</td>\n",
       "      <td>4.1604</td>\n",
       "      <td>3.6148</td>\n",
       "      <td>3.8729</td>\n",
       "      <td>...</td>\n",
       "      <td>5.5085</td>\n",
       "      <td>4.7296</td>\n",
       "      <td>2.9581</td>\n",
       "      <td>3.9910</td>\n",
       "      <td>4.4758</td>\n",
       "      <td>2.8681</td>\n",
       "      <td>4.4108</td>\n",
       "      <td>5.1538</td>\n",
       "      <td>1.0</td>\n",
       "      <td>2.791702</td>\n",
       "    </tr>\n",
       "    <tr>\n",
       "      <th>4</th>\n",
       "      <td>ENSG00000187608.8</td>\n",
       "      <td>ISG15</td>\n",
       "      <td>hsa:9636</td>\n",
       "      <td>0001</td>\n",
       "      <td>Genes and Proteins</td>\n",
       "      <td>Orthologs and modules</td>\n",
       "      <td>KEGG Orthology (KO)</td>\n",
       "      <td>5.8166</td>\n",
       "      <td>6.9599</td>\n",
       "      <td>5.9072</td>\n",
       "      <td>...</td>\n",
       "      <td>7.6990</td>\n",
       "      <td>5.2540</td>\n",
       "      <td>8.9442</td>\n",
       "      <td>5.5448</td>\n",
       "      <td>7.2307</td>\n",
       "      <td>5.7552</td>\n",
       "      <td>5.4380</td>\n",
       "      <td>7.1096</td>\n",
       "      <td>1.0</td>\n",
       "      <td>6.491173</td>\n",
       "    </tr>\n",
       "  </tbody>\n",
       "</table>\n",
       "<p>5 rows × 10544 columns</p>\n",
       "</div>"
      ],
      "text/plain": [
       "               geneId geneName      keggId keggBriteId  \\\n",
       "0  ENSG00000187961.13   KLHL17  hsa:339451        0001   \n",
       "1  ENSG00000187961.13   KLHL17  hsa:339451        4121   \n",
       "2  ENSG00000188290.10     HES4   hsa:57801        0001   \n",
       "3  ENSG00000188290.10     HES4   hsa:57801        3000   \n",
       "4   ENSG00000187608.8    ISG15    hsa:9636        0001   \n",
       "\n",
       "  Functional Annotation Group  \\\n",
       "0          Genes and Proteins   \n",
       "1          Genes and Proteins   \n",
       "2          Genes and Proteins   \n",
       "3          Genes and Proteins   \n",
       "4          Genes and Proteins   \n",
       "\n",
       "                     Functional Annotation Subgroup  Functional Annotation  \\\n",
       "0                             Orthologs and modules    KEGG Orthology (KO)   \n",
       "1  Protein families: genetic information processing       Ubiquitin system   \n",
       "2                             Orthologs and modules    KEGG Orthology (KO)   \n",
       "3  Protein families: genetic information processing  Transcription factors   \n",
       "4                             Orthologs and modules    KEGG Orthology (KO)   \n",
       "\n",
       "   TCGA-02-0047-01_NON_BRCA  TCGA-02-0055-01_NON_BRCA  \\\n",
       "0                    1.3225                    2.3135   \n",
       "1                    1.3225                    2.3135   \n",
       "2                    4.1604                    3.6148   \n",
       "3                    4.1604                    3.6148   \n",
       "4                    5.8166                    6.9599   \n",
       "\n",
       "   TCGA-02-2483-01_NON_BRCA  ...  TCGA-V7-A7HQ-01_BRCA  TCGA-W8-A86G-01_BRCA  \\\n",
       "0                    2.5707  ...                1.8404                3.9552   \n",
       "1                    2.5707  ...                1.8404                3.9552   \n",
       "2                    3.8729  ...                5.5085                4.7296   \n",
       "3                    3.8729  ...                5.5085                4.7296   \n",
       "4                    5.9072  ...                7.6990                5.2540   \n",
       "\n",
       "   TCGA-WT-AB41-01_BRCA  TCGA-WT-AB44-01_BRCA  TCGA-XX-A899-01_BRCA  \\\n",
       "0                1.0847                1.8762                3.1860   \n",
       "1                1.0847                1.8762                3.1860   \n",
       "2                2.9581                3.9910                4.4758   \n",
       "3                2.9581                3.9910                4.4758   \n",
       "4                8.9442                5.5448                7.2307   \n",
       "\n",
       "   TCGA-XX-A89A-01_BRCA  TCGA-Z7-A8R5-01_BRCA  TCGA-Z7-A8R6-01_BRCA  tamPixel  \\\n",
       "0                2.6738                2.0360                3.2766       1.0   \n",
       "1                2.6738                2.0360                3.2766       1.0   \n",
       "2                2.8681                4.4108                5.1538       1.0   \n",
       "3                2.8681                4.4108                5.1538       1.0   \n",
       "4                5.7552                5.4380                7.1096       1.0   \n",
       "\n",
       "      order  \n",
       "0  1.992469  \n",
       "1  1.992469  \n",
       "2  2.791702  \n",
       "3  2.791702  \n",
       "4  6.491173  \n",
       "\n",
       "[5 rows x 10544 columns]"
      ]
     },
     "execution_count": 46,
     "metadata": {},
     "output_type": "execute_result"
    }
   ],
   "source": [
    "exp_to_tree_map.head()"
   ]
  },
  {
   "cell_type": "code",
   "execution_count": 47,
   "metadata": {},
   "outputs": [
    {
     "name": "stdout",
     "output_type": "stream",
     "text": [
      "CPU times: user 4 s, sys: 239 ms, total: 4.23 s\n",
      "Wall time: 4.23 s\n"
     ]
    },
    {
     "data": {
      "text/plain": [
       "0"
      ]
     },
     "execution_count": 47,
     "metadata": {},
     "output_type": "execute_result"
    }
   ],
   "source": [
    "%%time\n",
    "# Sanity check\n",
    "sum(exp_to_tree_map.duplicated())"
   ]
  },
  {
   "cell_type": "code",
   "execution_count": 48,
   "metadata": {},
   "outputs": [
    {
     "data": {
      "text/plain": [
       "7509"
      ]
     },
     "execution_count": 48,
     "metadata": {},
     "output_type": "execute_result"
    }
   ],
   "source": [
    "# Sanity check (number of ENSEMBLE genes contained in the final dataset)\n",
    "len(set(exp_to_tree_map['geneId']))"
   ]
  },
  {
   "cell_type": "code",
   "execution_count": 49,
   "metadata": {
    "scrolled": true
   },
   "outputs": [
    {
     "data": {
      "text/plain": [
       "(18494, 10544)"
      ]
     },
     "execution_count": 49,
     "metadata": {},
     "output_type": "execute_result"
    }
   ],
   "source": [
    "exp_to_tree_map.shape"
   ]
  },
  {
   "cell_type": "markdown",
   "metadata": {},
   "source": [
    "Finally, we save the final dataset, which is used as input data in `2-KEGG_BRITE_Treemap` notebook. This R notebook implements the generation of the final gene-expression treemap images."
   ]
  },
  {
   "cell_type": "code",
   "execution_count": 51,
   "metadata": {},
   "outputs": [
    {
     "name": "stdout",
     "output_type": "stream",
     "text": [
      "CPU times: user 1min 50s, sys: 499 ms, total: 1min 50s\n",
      "Wall time: 1min 51s\n"
     ]
    }
   ],
   "source": [
    "%%time\n",
    "# Save dataset\n",
    "exp_to_tree_map.to_csv(\"/tempory/transcriptomic_data/pan_cancer/KEGG_exp_to_tree_map.csv\", index=False)"
   ]
  },
  {
   "cell_type": "code",
   "execution_count": null,
   "metadata": {},
   "outputs": [],
   "source": []
  }
 ],
 "metadata": {
  "kernelspec": {
   "display_name": "Python 3",
   "language": "python",
   "name": "python3"
  },
  "language_info": {
   "codemirror_mode": {
    "name": "ipython",
    "version": 3
   },
   "file_extension": ".py",
   "mimetype": "text/x-python",
   "name": "python",
   "nbconvert_exporter": "python",
   "pygments_lexer": "ipython3",
   "version": "3.7.3"
  }
 },
 "nbformat": 4,
 "nbformat_minor": 4
}
