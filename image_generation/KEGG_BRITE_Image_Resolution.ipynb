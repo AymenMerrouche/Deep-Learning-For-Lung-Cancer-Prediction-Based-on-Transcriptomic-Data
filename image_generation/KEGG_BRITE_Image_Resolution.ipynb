{
 "cells": [
  {
   "cell_type": "markdown",
   "metadata": {},
   "source": [
    "# KEGG BRITE image resolution\n",
    "\n",
    "In order to convert the KEGG BRITE functional-hierarchies tree into a *KEGG BRITE \n",
    "functional-hierarchies image* **T**, the dimensions *r x c* of **T** need to be determined beforehand. In this notebook, a heuristical procedure is carried out to select an appropriate fixed size *r x c*. The main objective is to select an image resolution that produces an image **T** in which the maximum number of leaves (gene occurrences) from the functional tree are included in the image, occupying approximately the same rectangular area, while using a reasonable resolution from a computational perspective."
   ]
  },
  {
   "cell_type": "markdown",
   "metadata": {},
   "source": [
    "Firstly, we load the KEGG BRITE hierarchical dataset generated in `1-KEGG_BRITE_Hierarchy` Python notebook:"
   ]
  },
  {
   "cell_type": "code",
   "execution_count": 1,
   "metadata": {},
   "outputs": [],
   "source": [
    "start.time <- Sys.time()\n",
    "exp_to_tree_map <- read.csv(\"/tempory/transcriptomic_data/pan_cancer/KEGG_exp_to_tree_map.csv\", header = TRUE, stringsAsFactors = FALSE)\n",
    "end.time <- Sys.time()"
   ]
  },
  {
   "cell_type": "code",
   "execution_count": 2,
   "metadata": {},
   "outputs": [
    {
     "data": {
      "text/plain": [
       "Time difference of 56.00743 secs"
      ]
     },
     "metadata": {},
     "output_type": "display_data"
    }
   ],
   "source": [
    "end.time - start.time"
   ]
  },
  {
   "cell_type": "code",
   "execution_count": 3,
   "metadata": {},
   "outputs": [
    {
     "data": {
      "text/html": [
       "7509"
      ],
      "text/latex": [
       "7509"
      ],
      "text/markdown": [
       "7509"
      ],
      "text/plain": [
       "[1] 7509"
      ]
     },
     "metadata": {},
     "output_type": "display_data"
    }
   ],
   "source": [
    "# Number of ENSEMBLE genes included in the dataset\n",
    "length(unique(exp_to_tree_map$geneId))"
   ]
  },
  {
   "cell_type": "code",
   "execution_count": 5,
   "metadata": {},
   "outputs": [
    {
     "data": {
      "text/html": [
       "<table class=\"dataframe\">\n",
       "<caption>A data.frame: 6 × 10544</caption>\n",
       "<thead>\n",
       "\t<tr><th></th><th scope=col>geneId</th><th scope=col>geneName</th><th scope=col>keggId</th><th scope=col>keggBriteId</th><th scope=col>Functional.Annotation.Group</th><th scope=col>Functional.Annotation.Subgroup</th><th scope=col>Functional.Annotation</th><th scope=col>TCGA.02.0047.01_NON_BRCA</th><th scope=col>TCGA.02.0055.01_NON_BRCA</th><th scope=col>TCGA.02.2483.01_NON_BRCA</th><th scope=col>⋯</th><th scope=col>TCGA.V7.A7HQ.01_BRCA</th><th scope=col>TCGA.W8.A86G.01_BRCA</th><th scope=col>TCGA.WT.AB41.01_BRCA</th><th scope=col>TCGA.WT.AB44.01_BRCA</th><th scope=col>TCGA.XX.A899.01_BRCA</th><th scope=col>TCGA.XX.A89A.01_BRCA</th><th scope=col>TCGA.Z7.A8R5.01_BRCA</th><th scope=col>TCGA.Z7.A8R6.01_BRCA</th><th scope=col>tamPixel</th><th scope=col>order</th></tr>\n",
       "\t<tr><th></th><th scope=col>&lt;chr&gt;</th><th scope=col>&lt;chr&gt;</th><th scope=col>&lt;chr&gt;</th><th scope=col>&lt;int&gt;</th><th scope=col>&lt;chr&gt;</th><th scope=col>&lt;chr&gt;</th><th scope=col>&lt;chr&gt;</th><th scope=col>&lt;dbl&gt;</th><th scope=col>&lt;dbl&gt;</th><th scope=col>&lt;dbl&gt;</th><th scope=col>⋯</th><th scope=col>&lt;dbl&gt;</th><th scope=col>&lt;dbl&gt;</th><th scope=col>&lt;dbl&gt;</th><th scope=col>&lt;dbl&gt;</th><th scope=col>&lt;dbl&gt;</th><th scope=col>&lt;dbl&gt;</th><th scope=col>&lt;dbl&gt;</th><th scope=col>&lt;dbl&gt;</th><th scope=col>&lt;dbl&gt;</th><th scope=col>&lt;dbl&gt;</th></tr>\n",
       "</thead>\n",
       "<tbody>\n",
       "\t<tr><th scope=row>1</th><td>ENSG00000187961.13</td><td>KLHL17</td><td>hsa:339451</td><td>   1</td><td>Genes and Proteins</td><td>Orthologs and modules                           </td><td>KEGG Orthology (KO)  </td><td>1.3225</td><td>2.3135</td><td>2.5707</td><td>⋯</td><td>1.8404</td><td>3.9552</td><td>1.0847</td><td>1.8762</td><td>3.1860</td><td>2.6738</td><td>2.0360</td><td>3.2766</td><td>1</td><td>1.992469</td></tr>\n",
       "\t<tr><th scope=row>2</th><td>ENSG00000187961.13</td><td>KLHL17</td><td>hsa:339451</td><td>4121</td><td>Genes and Proteins</td><td>Protein families: genetic information processing</td><td>Ubiquitin system     </td><td>1.3225</td><td>2.3135</td><td>2.5707</td><td>⋯</td><td>1.8404</td><td>3.9552</td><td>1.0847</td><td>1.8762</td><td>3.1860</td><td>2.6738</td><td>2.0360</td><td>3.2766</td><td>1</td><td>1.992469</td></tr>\n",
       "\t<tr><th scope=row>3</th><td>ENSG00000188290.10</td><td>HES4  </td><td>hsa:57801 </td><td>   1</td><td>Genes and Proteins</td><td>Orthologs and modules                           </td><td>KEGG Orthology (KO)  </td><td>4.1604</td><td>3.6148</td><td>3.8729</td><td>⋯</td><td>5.5085</td><td>4.7296</td><td>2.9581</td><td>3.9910</td><td>4.4758</td><td>2.8681</td><td>4.4108</td><td>5.1538</td><td>1</td><td>2.791702</td></tr>\n",
       "\t<tr><th scope=row>4</th><td>ENSG00000188290.10</td><td>HES4  </td><td>hsa:57801 </td><td>3000</td><td>Genes and Proteins</td><td>Protein families: genetic information processing</td><td>Transcription factors</td><td>4.1604</td><td>3.6148</td><td>3.8729</td><td>⋯</td><td>5.5085</td><td>4.7296</td><td>2.9581</td><td>3.9910</td><td>4.4758</td><td>2.8681</td><td>4.4108</td><td>5.1538</td><td>1</td><td>2.791702</td></tr>\n",
       "\t<tr><th scope=row>5</th><td>ENSG00000187608.8 </td><td>ISG15 </td><td>hsa:9636  </td><td>   1</td><td>Genes and Proteins</td><td>Orthologs and modules                           </td><td>KEGG Orthology (KO)  </td><td>5.8166</td><td>6.9599</td><td>5.9072</td><td>⋯</td><td>7.6990</td><td>5.2540</td><td>8.9442</td><td>5.5448</td><td>7.2307</td><td>5.7552</td><td>5.4380</td><td>7.1096</td><td>1</td><td>6.491173</td></tr>\n",
       "\t<tr><th scope=row>6</th><td>ENSG00000187608.8 </td><td>ISG15 </td><td>hsa:9636  </td><td>4121</td><td>Genes and Proteins</td><td>Protein families: genetic information processing</td><td>Ubiquitin system     </td><td>5.8166</td><td>6.9599</td><td>5.9072</td><td>⋯</td><td>7.6990</td><td>5.2540</td><td>8.9442</td><td>5.5448</td><td>7.2307</td><td>5.7552</td><td>5.4380</td><td>7.1096</td><td>1</td><td>6.491173</td></tr>\n",
       "</tbody>\n",
       "</table>\n"
      ],
      "text/latex": [
       "A data.frame: 6 × 10544\n",
       "\\begin{tabular}{r|lllllllllllllllllllll}\n",
       "  & geneId & geneName & keggId & keggBriteId & Functional.Annotation.Group & Functional.Annotation.Subgroup & Functional.Annotation & TCGA.02.0047.01\\_NON\\_BRCA & TCGA.02.0055.01\\_NON\\_BRCA & TCGA.02.2483.01\\_NON\\_BRCA & ⋯ & TCGA.V7.A7HQ.01\\_BRCA & TCGA.W8.A86G.01\\_BRCA & TCGA.WT.AB41.01\\_BRCA & TCGA.WT.AB44.01\\_BRCA & TCGA.XX.A899.01\\_BRCA & TCGA.XX.A89A.01\\_BRCA & TCGA.Z7.A8R5.01\\_BRCA & TCGA.Z7.A8R6.01\\_BRCA & tamPixel & order\\\\\n",
       "  & <chr> & <chr> & <chr> & <int> & <chr> & <chr> & <chr> & <dbl> & <dbl> & <dbl> & ⋯ & <dbl> & <dbl> & <dbl> & <dbl> & <dbl> & <dbl> & <dbl> & <dbl> & <dbl> & <dbl>\\\\\n",
       "\\hline\n",
       "\t1 & ENSG00000187961.13 & KLHL17 & hsa:339451 &    1 & Genes and Proteins & Orthologs and modules                            & KEGG Orthology (KO)   & 1.3225 & 2.3135 & 2.5707 & ⋯ & 1.8404 & 3.9552 & 1.0847 & 1.8762 & 3.1860 & 2.6738 & 2.0360 & 3.2766 & 1 & 1.992469\\\\\n",
       "\t2 & ENSG00000187961.13 & KLHL17 & hsa:339451 & 4121 & Genes and Proteins & Protein families: genetic information processing & Ubiquitin system      & 1.3225 & 2.3135 & 2.5707 & ⋯ & 1.8404 & 3.9552 & 1.0847 & 1.8762 & 3.1860 & 2.6738 & 2.0360 & 3.2766 & 1 & 1.992469\\\\\n",
       "\t3 & ENSG00000188290.10 & HES4   & hsa:57801  &    1 & Genes and Proteins & Orthologs and modules                            & KEGG Orthology (KO)   & 4.1604 & 3.6148 & 3.8729 & ⋯ & 5.5085 & 4.7296 & 2.9581 & 3.9910 & 4.4758 & 2.8681 & 4.4108 & 5.1538 & 1 & 2.791702\\\\\n",
       "\t4 & ENSG00000188290.10 & HES4   & hsa:57801  & 3000 & Genes and Proteins & Protein families: genetic information processing & Transcription factors & 4.1604 & 3.6148 & 3.8729 & ⋯ & 5.5085 & 4.7296 & 2.9581 & 3.9910 & 4.4758 & 2.8681 & 4.4108 & 5.1538 & 1 & 2.791702\\\\\n",
       "\t5 & ENSG00000187608.8  & ISG15  & hsa:9636   &    1 & Genes and Proteins & Orthologs and modules                            & KEGG Orthology (KO)   & 5.8166 & 6.9599 & 5.9072 & ⋯ & 7.6990 & 5.2540 & 8.9442 & 5.5448 & 7.2307 & 5.7552 & 5.4380 & 7.1096 & 1 & 6.491173\\\\\n",
       "\t6 & ENSG00000187608.8  & ISG15  & hsa:9636   & 4121 & Genes and Proteins & Protein families: genetic information processing & Ubiquitin system      & 5.8166 & 6.9599 & 5.9072 & ⋯ & 7.6990 & 5.2540 & 8.9442 & 5.5448 & 7.2307 & 5.7552 & 5.4380 & 7.1096 & 1 & 6.491173\\\\\n",
       "\\end{tabular}\n"
      ],
      "text/markdown": [
       "\n",
       "A data.frame: 6 × 10544\n",
       "\n",
       "| <!--/--> | geneId &lt;chr&gt; | geneName &lt;chr&gt; | keggId &lt;chr&gt; | keggBriteId &lt;int&gt; | Functional.Annotation.Group &lt;chr&gt; | Functional.Annotation.Subgroup &lt;chr&gt; | Functional.Annotation &lt;chr&gt; | TCGA.02.0047.01_NON_BRCA &lt;dbl&gt; | TCGA.02.0055.01_NON_BRCA &lt;dbl&gt; | TCGA.02.2483.01_NON_BRCA &lt;dbl&gt; | ⋯ ⋯ | TCGA.V7.A7HQ.01_BRCA &lt;dbl&gt; | TCGA.W8.A86G.01_BRCA &lt;dbl&gt; | TCGA.WT.AB41.01_BRCA &lt;dbl&gt; | TCGA.WT.AB44.01_BRCA &lt;dbl&gt; | TCGA.XX.A899.01_BRCA &lt;dbl&gt; | TCGA.XX.A89A.01_BRCA &lt;dbl&gt; | TCGA.Z7.A8R5.01_BRCA &lt;dbl&gt; | TCGA.Z7.A8R6.01_BRCA &lt;dbl&gt; | tamPixel &lt;dbl&gt; | order &lt;dbl&gt; |\n",
       "|---|---|---|---|---|---|---|---|---|---|---|---|---|---|---|---|---|---|---|---|---|---|\n",
       "| 1 | ENSG00000187961.13 | KLHL17 | hsa:339451 |    1 | Genes and Proteins | Orthologs and modules                            | KEGG Orthology (KO)   | 1.3225 | 2.3135 | 2.5707 | ⋯ | 1.8404 | 3.9552 | 1.0847 | 1.8762 | 3.1860 | 2.6738 | 2.0360 | 3.2766 | 1 | 1.992469 |\n",
       "| 2 | ENSG00000187961.13 | KLHL17 | hsa:339451 | 4121 | Genes and Proteins | Protein families: genetic information processing | Ubiquitin system      | 1.3225 | 2.3135 | 2.5707 | ⋯ | 1.8404 | 3.9552 | 1.0847 | 1.8762 | 3.1860 | 2.6738 | 2.0360 | 3.2766 | 1 | 1.992469 |\n",
       "| 3 | ENSG00000188290.10 | HES4   | hsa:57801  |    1 | Genes and Proteins | Orthologs and modules                            | KEGG Orthology (KO)   | 4.1604 | 3.6148 | 3.8729 | ⋯ | 5.5085 | 4.7296 | 2.9581 | 3.9910 | 4.4758 | 2.8681 | 4.4108 | 5.1538 | 1 | 2.791702 |\n",
       "| 4 | ENSG00000188290.10 | HES4   | hsa:57801  | 3000 | Genes and Proteins | Protein families: genetic information processing | Transcription factors | 4.1604 | 3.6148 | 3.8729 | ⋯ | 5.5085 | 4.7296 | 2.9581 | 3.9910 | 4.4758 | 2.8681 | 4.4108 | 5.1538 | 1 | 2.791702 |\n",
       "| 5 | ENSG00000187608.8  | ISG15  | hsa:9636   |    1 | Genes and Proteins | Orthologs and modules                            | KEGG Orthology (KO)   | 5.8166 | 6.9599 | 5.9072 | ⋯ | 7.6990 | 5.2540 | 8.9442 | 5.5448 | 7.2307 | 5.7552 | 5.4380 | 7.1096 | 1 | 6.491173 |\n",
       "| 6 | ENSG00000187608.8  | ISG15  | hsa:9636   | 4121 | Genes and Proteins | Protein families: genetic information processing | Ubiquitin system      | 5.8166 | 6.9599 | 5.9072 | ⋯ | 7.6990 | 5.2540 | 8.9442 | 5.5448 | 7.2307 | 5.7552 | 5.4380 | 7.1096 | 1 | 6.491173 |\n",
       "\n"
      ],
      "text/plain": [
       "  geneId             geneName keggId     keggBriteId\n",
       "1 ENSG00000187961.13 KLHL17   hsa:339451    1       \n",
       "2 ENSG00000187961.13 KLHL17   hsa:339451 4121       \n",
       "3 ENSG00000188290.10 HES4     hsa:57801     1       \n",
       "4 ENSG00000188290.10 HES4     hsa:57801  3000       \n",
       "5 ENSG00000187608.8  ISG15    hsa:9636      1       \n",
       "6 ENSG00000187608.8  ISG15    hsa:9636   4121       \n",
       "  Functional.Annotation.Group Functional.Annotation.Subgroup                  \n",
       "1 Genes and Proteins          Orthologs and modules                           \n",
       "2 Genes and Proteins          Protein families: genetic information processing\n",
       "3 Genes and Proteins          Orthologs and modules                           \n",
       "4 Genes and Proteins          Protein families: genetic information processing\n",
       "5 Genes and Proteins          Orthologs and modules                           \n",
       "6 Genes and Proteins          Protein families: genetic information processing\n",
       "  Functional.Annotation TCGA.02.0047.01_NON_BRCA TCGA.02.0055.01_NON_BRCA\n",
       "1 KEGG Orthology (KO)   1.3225                   2.3135                  \n",
       "2 Ubiquitin system      1.3225                   2.3135                  \n",
       "3 KEGG Orthology (KO)   4.1604                   3.6148                  \n",
       "4 Transcription factors 4.1604                   3.6148                  \n",
       "5 KEGG Orthology (KO)   5.8166                   6.9599                  \n",
       "6 Ubiquitin system      5.8166                   6.9599                  \n",
       "  TCGA.02.2483.01_NON_BRCA ⋯ TCGA.V7.A7HQ.01_BRCA TCGA.W8.A86G.01_BRCA\n",
       "1 2.5707                   ⋯ 1.8404               3.9552              \n",
       "2 2.5707                   ⋯ 1.8404               3.9552              \n",
       "3 3.8729                   ⋯ 5.5085               4.7296              \n",
       "4 3.8729                   ⋯ 5.5085               4.7296              \n",
       "5 5.9072                   ⋯ 7.6990               5.2540              \n",
       "6 5.9072                   ⋯ 7.6990               5.2540              \n",
       "  TCGA.WT.AB41.01_BRCA TCGA.WT.AB44.01_BRCA TCGA.XX.A899.01_BRCA\n",
       "1 1.0847               1.8762               3.1860              \n",
       "2 1.0847               1.8762               3.1860              \n",
       "3 2.9581               3.9910               4.4758              \n",
       "4 2.9581               3.9910               4.4758              \n",
       "5 8.9442               5.5448               7.2307              \n",
       "6 8.9442               5.5448               7.2307              \n",
       "  TCGA.XX.A89A.01_BRCA TCGA.Z7.A8R5.01_BRCA TCGA.Z7.A8R6.01_BRCA tamPixel\n",
       "1 2.6738               2.0360               3.2766               1       \n",
       "2 2.6738               2.0360               3.2766               1       \n",
       "3 2.8681               4.4108               5.1538               1       \n",
       "4 2.8681               4.4108               5.1538               1       \n",
       "5 5.7552               5.4380               7.1096               1       \n",
       "6 5.7552               5.4380               7.1096               1       \n",
       "  order   \n",
       "1 1.992469\n",
       "2 1.992469\n",
       "3 2.791702\n",
       "4 2.791702\n",
       "5 6.491173\n",
       "6 6.491173"
      ]
     },
     "metadata": {},
     "output_type": "display_data"
    }
   ],
   "source": [
    "head(exp_to_tree_map)"
   ]
  },
  {
   "cell_type": "markdown",
   "metadata": {},
   "source": [
    "To be coherent with the information given in the paper, we must indicate that in the KEGG BRITE hierarchical dataset shown above, \"Functional.Annotation.Group\" column contains the root name of the KEGG BRITE functional-hierarchies tree; \"Functional.Annotation.Subgroup\" column includes the *functional categories*, corresponding to the first level of the tree; and \"Functional.Annotation\" column contains the *functional hierarchies*, the second level of the tree."
   ]
  },
  {
   "cell_type": "markdown",
   "metadata": {},
   "source": [
    "## KEGG BRITE treemap"
   ]
  },
  {
   "cell_type": "markdown",
   "metadata": {},
   "source": [
    "When performing the treemapping procedure, `geneId` column must be the last hierarchy level (leaves of the tree), as the `exp_to_tree_map` table contains the gene expression values of the ENSEMBLE ID genes."
   ]
  },
  {
   "cell_type": "markdown",
   "metadata": {},
   "source": [
    "It is assumed that 1 ENSEMBLE ID can be associated to > 1 KEGG BRITE functional hierarchy at the same time, but 1 ENSEMBLE ID can also be duplicated in the same KEGG BRITE functional hierarchy (because of the ENSEMBLE-Hugo 1:N relation, Hugo-KEGG ID N:M relation and KEGG gene ID-KEGG Brite N:M relation)."
   ]
  },
  {
   "cell_type": "code",
   "execution_count": 6,
   "metadata": {},
   "outputs": [
    {
     "data": {
      "text/html": [
       "762"
      ],
      "text/latex": [
       "762"
      ],
      "text/markdown": [
       "762"
      ],
      "text/plain": [
       "[1] 762"
      ]
     },
     "metadata": {},
     "output_type": "display_data"
    }
   ],
   "source": [
    "ens_map <- exp_to_tree_map[, c(\"Functional.Annotation.Subgroup\", \"Functional.Annotation\", \"geneId\")]\n",
    "\n",
    "# Repetitions of 1 ENSEMBL ID in the same functional annotation\n",
    "sum(duplicated(ens_map))"
   ]
  },
  {
   "cell_type": "code",
   "execution_count": 7,
   "metadata": {},
   "outputs": [],
   "source": [
    "ens_map <- ens_map[!duplicated(ens_map), ]"
   ]
  },
  {
   "cell_type": "code",
   "execution_count": 8,
   "metadata": {},
   "outputs": [
    {
     "data": {
      "text/html": [
       "10223"
      ],
      "text/latex": [
       "10223"
      ],
      "text/markdown": [
       "10223"
      ],
      "text/plain": [
       "[1] 10223"
      ]
     },
     "metadata": {},
     "output_type": "display_data"
    }
   ],
   "source": [
    "# Times ENSEMBLE IDs are associated to > 1 functional annotation\n",
    "sum(duplicated(ens_map[\"geneId\"]))"
   ]
  },
  {
   "cell_type": "markdown",
   "metadata": {},
   "source": [
    "Repetitions of 1 ENSEMBLE ID in the same functional hyerarchies are removed. We assume that a gene can be either associated or not associated to one functional hierarchy. Alternatively, other approaches could consider the repetitions of genes in one functional hierarchy in the treemap, or setting a gene expression value in the treemap equals to the product of the number of repetitions and the expression value of the gene."
   ]
  },
  {
   "cell_type": "code",
   "execution_count": 9,
   "metadata": {},
   "outputs": [
    {
     "data": {
      "text/html": [
       "17732"
      ],
      "text/latex": [
       "17732"
      ],
      "text/markdown": [
       "17732"
      ],
      "text/plain": [
       "[1] 17732"
      ]
     },
     "metadata": {},
     "output_type": "display_data"
    }
   ],
   "source": [
    "# Remove repetitions of 1 ENSEMBLE ID in the same functional hierarchies\n",
    "exp_to_tree_map <- exp_to_tree_map[!duplicated(exp_to_tree_map[, \n",
    "                        c(\"Functional.Annotation.Subgroup\", \"Functional.Annotation\", \"geneId\")]), ]\n",
    "nrow(exp_to_tree_map)"
   ]
  },
  {
   "cell_type": "code",
   "execution_count": 10,
   "metadata": {},
   "outputs": [
    {
     "data": {
      "text/html": [
       "<table class=\"dataframe\">\n",
       "<caption>A data.frame: 6 × 10544</caption>\n",
       "<thead>\n",
       "\t<tr><th></th><th scope=col>geneId</th><th scope=col>geneName</th><th scope=col>keggId</th><th scope=col>keggBriteId</th><th scope=col>Functional.Annotation.Group</th><th scope=col>Functional.Annotation.Subgroup</th><th scope=col>Functional.Annotation</th><th scope=col>TCGA.02.0047.01_NON_BRCA</th><th scope=col>TCGA.02.0055.01_NON_BRCA</th><th scope=col>TCGA.02.2483.01_NON_BRCA</th><th scope=col>⋯</th><th scope=col>TCGA.V7.A7HQ.01_BRCA</th><th scope=col>TCGA.W8.A86G.01_BRCA</th><th scope=col>TCGA.WT.AB41.01_BRCA</th><th scope=col>TCGA.WT.AB44.01_BRCA</th><th scope=col>TCGA.XX.A899.01_BRCA</th><th scope=col>TCGA.XX.A89A.01_BRCA</th><th scope=col>TCGA.Z7.A8R5.01_BRCA</th><th scope=col>TCGA.Z7.A8R6.01_BRCA</th><th scope=col>tamPixel</th><th scope=col>order</th></tr>\n",
       "\t<tr><th></th><th scope=col>&lt;chr&gt;</th><th scope=col>&lt;chr&gt;</th><th scope=col>&lt;chr&gt;</th><th scope=col>&lt;int&gt;</th><th scope=col>&lt;chr&gt;</th><th scope=col>&lt;chr&gt;</th><th scope=col>&lt;chr&gt;</th><th scope=col>&lt;dbl&gt;</th><th scope=col>&lt;dbl&gt;</th><th scope=col>&lt;dbl&gt;</th><th scope=col>⋯</th><th scope=col>&lt;dbl&gt;</th><th scope=col>&lt;dbl&gt;</th><th scope=col>&lt;dbl&gt;</th><th scope=col>&lt;dbl&gt;</th><th scope=col>&lt;dbl&gt;</th><th scope=col>&lt;dbl&gt;</th><th scope=col>&lt;dbl&gt;</th><th scope=col>&lt;dbl&gt;</th><th scope=col>&lt;dbl&gt;</th><th scope=col>&lt;dbl&gt;</th></tr>\n",
       "</thead>\n",
       "<tbody>\n",
       "\t<tr><th scope=row>1</th><td>ENSG00000187961.13</td><td>KLHL17</td><td>hsa:339451</td><td>   1</td><td>Genes and Proteins</td><td>Orthologs and modules                           </td><td>KEGG Orthology (KO)  </td><td>1.3225</td><td>2.3135</td><td>2.5707</td><td>⋯</td><td>1.8404</td><td>3.9552</td><td>1.0847</td><td>1.8762</td><td>3.1860</td><td>2.6738</td><td>2.0360</td><td>3.2766</td><td>1</td><td>1.992469</td></tr>\n",
       "\t<tr><th scope=row>2</th><td>ENSG00000187961.13</td><td>KLHL17</td><td>hsa:339451</td><td>4121</td><td>Genes and Proteins</td><td>Protein families: genetic information processing</td><td>Ubiquitin system     </td><td>1.3225</td><td>2.3135</td><td>2.5707</td><td>⋯</td><td>1.8404</td><td>3.9552</td><td>1.0847</td><td>1.8762</td><td>3.1860</td><td>2.6738</td><td>2.0360</td><td>3.2766</td><td>1</td><td>1.992469</td></tr>\n",
       "\t<tr><th scope=row>3</th><td>ENSG00000188290.10</td><td>HES4  </td><td>hsa:57801 </td><td>   1</td><td>Genes and Proteins</td><td>Orthologs and modules                           </td><td>KEGG Orthology (KO)  </td><td>4.1604</td><td>3.6148</td><td>3.8729</td><td>⋯</td><td>5.5085</td><td>4.7296</td><td>2.9581</td><td>3.9910</td><td>4.4758</td><td>2.8681</td><td>4.4108</td><td>5.1538</td><td>1</td><td>2.791702</td></tr>\n",
       "\t<tr><th scope=row>4</th><td>ENSG00000188290.10</td><td>HES4  </td><td>hsa:57801 </td><td>3000</td><td>Genes and Proteins</td><td>Protein families: genetic information processing</td><td>Transcription factors</td><td>4.1604</td><td>3.6148</td><td>3.8729</td><td>⋯</td><td>5.5085</td><td>4.7296</td><td>2.9581</td><td>3.9910</td><td>4.4758</td><td>2.8681</td><td>4.4108</td><td>5.1538</td><td>1</td><td>2.791702</td></tr>\n",
       "\t<tr><th scope=row>5</th><td>ENSG00000187608.8 </td><td>ISG15 </td><td>hsa:9636  </td><td>   1</td><td>Genes and Proteins</td><td>Orthologs and modules                           </td><td>KEGG Orthology (KO)  </td><td>5.8166</td><td>6.9599</td><td>5.9072</td><td>⋯</td><td>7.6990</td><td>5.2540</td><td>8.9442</td><td>5.5448</td><td>7.2307</td><td>5.7552</td><td>5.4380</td><td>7.1096</td><td>1</td><td>6.491173</td></tr>\n",
       "\t<tr><th scope=row>6</th><td>ENSG00000187608.8 </td><td>ISG15 </td><td>hsa:9636  </td><td>4121</td><td>Genes and Proteins</td><td>Protein families: genetic information processing</td><td>Ubiquitin system     </td><td>5.8166</td><td>6.9599</td><td>5.9072</td><td>⋯</td><td>7.6990</td><td>5.2540</td><td>8.9442</td><td>5.5448</td><td>7.2307</td><td>5.7552</td><td>5.4380</td><td>7.1096</td><td>1</td><td>6.491173</td></tr>\n",
       "</tbody>\n",
       "</table>\n"
      ],
      "text/latex": [
       "A data.frame: 6 × 10544\n",
       "\\begin{tabular}{r|lllllllllllllllllllll}\n",
       "  & geneId & geneName & keggId & keggBriteId & Functional.Annotation.Group & Functional.Annotation.Subgroup & Functional.Annotation & TCGA.02.0047.01\\_NON\\_BRCA & TCGA.02.0055.01\\_NON\\_BRCA & TCGA.02.2483.01\\_NON\\_BRCA & ⋯ & TCGA.V7.A7HQ.01\\_BRCA & TCGA.W8.A86G.01\\_BRCA & TCGA.WT.AB41.01\\_BRCA & TCGA.WT.AB44.01\\_BRCA & TCGA.XX.A899.01\\_BRCA & TCGA.XX.A89A.01\\_BRCA & TCGA.Z7.A8R5.01\\_BRCA & TCGA.Z7.A8R6.01\\_BRCA & tamPixel & order\\\\\n",
       "  & <chr> & <chr> & <chr> & <int> & <chr> & <chr> & <chr> & <dbl> & <dbl> & <dbl> & ⋯ & <dbl> & <dbl> & <dbl> & <dbl> & <dbl> & <dbl> & <dbl> & <dbl> & <dbl> & <dbl>\\\\\n",
       "\\hline\n",
       "\t1 & ENSG00000187961.13 & KLHL17 & hsa:339451 &    1 & Genes and Proteins & Orthologs and modules                            & KEGG Orthology (KO)   & 1.3225 & 2.3135 & 2.5707 & ⋯ & 1.8404 & 3.9552 & 1.0847 & 1.8762 & 3.1860 & 2.6738 & 2.0360 & 3.2766 & 1 & 1.992469\\\\\n",
       "\t2 & ENSG00000187961.13 & KLHL17 & hsa:339451 & 4121 & Genes and Proteins & Protein families: genetic information processing & Ubiquitin system      & 1.3225 & 2.3135 & 2.5707 & ⋯ & 1.8404 & 3.9552 & 1.0847 & 1.8762 & 3.1860 & 2.6738 & 2.0360 & 3.2766 & 1 & 1.992469\\\\\n",
       "\t3 & ENSG00000188290.10 & HES4   & hsa:57801  &    1 & Genes and Proteins & Orthologs and modules                            & KEGG Orthology (KO)   & 4.1604 & 3.6148 & 3.8729 & ⋯ & 5.5085 & 4.7296 & 2.9581 & 3.9910 & 4.4758 & 2.8681 & 4.4108 & 5.1538 & 1 & 2.791702\\\\\n",
       "\t4 & ENSG00000188290.10 & HES4   & hsa:57801  & 3000 & Genes and Proteins & Protein families: genetic information processing & Transcription factors & 4.1604 & 3.6148 & 3.8729 & ⋯ & 5.5085 & 4.7296 & 2.9581 & 3.9910 & 4.4758 & 2.8681 & 4.4108 & 5.1538 & 1 & 2.791702\\\\\n",
       "\t5 & ENSG00000187608.8  & ISG15  & hsa:9636   &    1 & Genes and Proteins & Orthologs and modules                            & KEGG Orthology (KO)   & 5.8166 & 6.9599 & 5.9072 & ⋯ & 7.6990 & 5.2540 & 8.9442 & 5.5448 & 7.2307 & 5.7552 & 5.4380 & 7.1096 & 1 & 6.491173\\\\\n",
       "\t6 & ENSG00000187608.8  & ISG15  & hsa:9636   & 4121 & Genes and Proteins & Protein families: genetic information processing & Ubiquitin system      & 5.8166 & 6.9599 & 5.9072 & ⋯ & 7.6990 & 5.2540 & 8.9442 & 5.5448 & 7.2307 & 5.7552 & 5.4380 & 7.1096 & 1 & 6.491173\\\\\n",
       "\\end{tabular}\n"
      ],
      "text/markdown": [
       "\n",
       "A data.frame: 6 × 10544\n",
       "\n",
       "| <!--/--> | geneId &lt;chr&gt; | geneName &lt;chr&gt; | keggId &lt;chr&gt; | keggBriteId &lt;int&gt; | Functional.Annotation.Group &lt;chr&gt; | Functional.Annotation.Subgroup &lt;chr&gt; | Functional.Annotation &lt;chr&gt; | TCGA.02.0047.01_NON_BRCA &lt;dbl&gt; | TCGA.02.0055.01_NON_BRCA &lt;dbl&gt; | TCGA.02.2483.01_NON_BRCA &lt;dbl&gt; | ⋯ ⋯ | TCGA.V7.A7HQ.01_BRCA &lt;dbl&gt; | TCGA.W8.A86G.01_BRCA &lt;dbl&gt; | TCGA.WT.AB41.01_BRCA &lt;dbl&gt; | TCGA.WT.AB44.01_BRCA &lt;dbl&gt; | TCGA.XX.A899.01_BRCA &lt;dbl&gt; | TCGA.XX.A89A.01_BRCA &lt;dbl&gt; | TCGA.Z7.A8R5.01_BRCA &lt;dbl&gt; | TCGA.Z7.A8R6.01_BRCA &lt;dbl&gt; | tamPixel &lt;dbl&gt; | order &lt;dbl&gt; |\n",
       "|---|---|---|---|---|---|---|---|---|---|---|---|---|---|---|---|---|---|---|---|---|---|\n",
       "| 1 | ENSG00000187961.13 | KLHL17 | hsa:339451 |    1 | Genes and Proteins | Orthologs and modules                            | KEGG Orthology (KO)   | 1.3225 | 2.3135 | 2.5707 | ⋯ | 1.8404 | 3.9552 | 1.0847 | 1.8762 | 3.1860 | 2.6738 | 2.0360 | 3.2766 | 1 | 1.992469 |\n",
       "| 2 | ENSG00000187961.13 | KLHL17 | hsa:339451 | 4121 | Genes and Proteins | Protein families: genetic information processing | Ubiquitin system      | 1.3225 | 2.3135 | 2.5707 | ⋯ | 1.8404 | 3.9552 | 1.0847 | 1.8762 | 3.1860 | 2.6738 | 2.0360 | 3.2766 | 1 | 1.992469 |\n",
       "| 3 | ENSG00000188290.10 | HES4   | hsa:57801  |    1 | Genes and Proteins | Orthologs and modules                            | KEGG Orthology (KO)   | 4.1604 | 3.6148 | 3.8729 | ⋯ | 5.5085 | 4.7296 | 2.9581 | 3.9910 | 4.4758 | 2.8681 | 4.4108 | 5.1538 | 1 | 2.791702 |\n",
       "| 4 | ENSG00000188290.10 | HES4   | hsa:57801  | 3000 | Genes and Proteins | Protein families: genetic information processing | Transcription factors | 4.1604 | 3.6148 | 3.8729 | ⋯ | 5.5085 | 4.7296 | 2.9581 | 3.9910 | 4.4758 | 2.8681 | 4.4108 | 5.1538 | 1 | 2.791702 |\n",
       "| 5 | ENSG00000187608.8  | ISG15  | hsa:9636   |    1 | Genes and Proteins | Orthologs and modules                            | KEGG Orthology (KO)   | 5.8166 | 6.9599 | 5.9072 | ⋯ | 7.6990 | 5.2540 | 8.9442 | 5.5448 | 7.2307 | 5.7552 | 5.4380 | 7.1096 | 1 | 6.491173 |\n",
       "| 6 | ENSG00000187608.8  | ISG15  | hsa:9636   | 4121 | Genes and Proteins | Protein families: genetic information processing | Ubiquitin system      | 5.8166 | 6.9599 | 5.9072 | ⋯ | 7.6990 | 5.2540 | 8.9442 | 5.5448 | 7.2307 | 5.7552 | 5.4380 | 7.1096 | 1 | 6.491173 |\n",
       "\n"
      ],
      "text/plain": [
       "  geneId             geneName keggId     keggBriteId\n",
       "1 ENSG00000187961.13 KLHL17   hsa:339451    1       \n",
       "2 ENSG00000187961.13 KLHL17   hsa:339451 4121       \n",
       "3 ENSG00000188290.10 HES4     hsa:57801     1       \n",
       "4 ENSG00000188290.10 HES4     hsa:57801  3000       \n",
       "5 ENSG00000187608.8  ISG15    hsa:9636      1       \n",
       "6 ENSG00000187608.8  ISG15    hsa:9636   4121       \n",
       "  Functional.Annotation.Group Functional.Annotation.Subgroup                  \n",
       "1 Genes and Proteins          Orthologs and modules                           \n",
       "2 Genes and Proteins          Protein families: genetic information processing\n",
       "3 Genes and Proteins          Orthologs and modules                           \n",
       "4 Genes and Proteins          Protein families: genetic information processing\n",
       "5 Genes and Proteins          Orthologs and modules                           \n",
       "6 Genes and Proteins          Protein families: genetic information processing\n",
       "  Functional.Annotation TCGA.02.0047.01_NON_BRCA TCGA.02.0055.01_NON_BRCA\n",
       "1 KEGG Orthology (KO)   1.3225                   2.3135                  \n",
       "2 Ubiquitin system      1.3225                   2.3135                  \n",
       "3 KEGG Orthology (KO)   4.1604                   3.6148                  \n",
       "4 Transcription factors 4.1604                   3.6148                  \n",
       "5 KEGG Orthology (KO)   5.8166                   6.9599                  \n",
       "6 Ubiquitin system      5.8166                   6.9599                  \n",
       "  TCGA.02.2483.01_NON_BRCA ⋯ TCGA.V7.A7HQ.01_BRCA TCGA.W8.A86G.01_BRCA\n",
       "1 2.5707                   ⋯ 1.8404               3.9552              \n",
       "2 2.5707                   ⋯ 1.8404               3.9552              \n",
       "3 3.8729                   ⋯ 5.5085               4.7296              \n",
       "4 3.8729                   ⋯ 5.5085               4.7296              \n",
       "5 5.9072                   ⋯ 7.6990               5.2540              \n",
       "6 5.9072                   ⋯ 7.6990               5.2540              \n",
       "  TCGA.WT.AB41.01_BRCA TCGA.WT.AB44.01_BRCA TCGA.XX.A899.01_BRCA\n",
       "1 1.0847               1.8762               3.1860              \n",
       "2 1.0847               1.8762               3.1860              \n",
       "3 2.9581               3.9910               4.4758              \n",
       "4 2.9581               3.9910               4.4758              \n",
       "5 8.9442               5.5448               7.2307              \n",
       "6 8.9442               5.5448               7.2307              \n",
       "  TCGA.XX.A89A.01_BRCA TCGA.Z7.A8R5.01_BRCA TCGA.Z7.A8R6.01_BRCA tamPixel\n",
       "1 2.6738               2.0360               3.2766               1       \n",
       "2 2.6738               2.0360               3.2766               1       \n",
       "3 2.8681               4.4108               5.1538               1       \n",
       "4 2.8681               4.4108               5.1538               1       \n",
       "5 5.7552               5.4380               7.1096               1       \n",
       "6 5.7552               5.4380               7.1096               1       \n",
       "  order   \n",
       "1 1.992469\n",
       "2 1.992469\n",
       "3 2.791702\n",
       "4 2.791702\n",
       "5 6.491173\n",
       "6 6.491173"
      ]
     },
     "metadata": {},
     "output_type": "display_data"
    }
   ],
   "source": [
    "head(exp_to_tree_map)"
   ]
  },
  {
   "cell_type": "markdown",
   "metadata": {},
   "source": [
    "### Genes occurrences to colours\n",
    "\n",
    "We create a treemap in which every color maps to a gene occurrence (leaf of the KEGG BRITE functional hierarchies tree). Hence, repetitions of the same gene are represented by different colours."
   ]
  },
  {
   "cell_type": "code",
   "execution_count": 11,
   "metadata": {},
   "outputs": [
    {
     "data": {
      "text/html": [
       "17732"
      ],
      "text/latex": [
       "17732"
      ],
      "text/markdown": [
       "17732"
      ],
      "text/plain": [
       "[1] 17732"
      ]
     },
     "metadata": {},
     "output_type": "display_data"
    }
   ],
   "source": [
    "nrow(exp_to_tree_map)"
   ]
  },
  {
   "cell_type": "markdown",
   "metadata": {},
   "source": [
    "We first generate a set of 65536 RGB colors:"
   ]
  },
  {
   "cell_type": "code",
   "execution_count": 12,
   "metadata": {},
   "outputs": [],
   "source": [
    "start.time <- Sys.time()\n",
    "col_rgb <- character()\n",
    "for (i in 0:255) {\n",
    "  for (j in 0:255) {\n",
    "    col_rgb <- append(col_rgb, rgb(red=i, green=j, blue=j, maxColorValue=255))\n",
    "  }\n",
    "}\n",
    "end.time <- Sys.time()"
   ]
  },
  {
   "cell_type": "code",
   "execution_count": 13,
   "metadata": {},
   "outputs": [
    {
     "data": {
      "text/plain": [
       "Time difference of 9.19636 secs"
      ]
     },
     "metadata": {},
     "output_type": "display_data"
    }
   ],
   "source": [
    "end.time - start.time"
   ]
  },
  {
   "cell_type": "code",
   "execution_count": 14,
   "metadata": {},
   "outputs": [
    {
     "data": {
      "text/html": [
       "65536"
      ],
      "text/latex": [
       "65536"
      ],
      "text/markdown": [
       "65536"
      ],
      "text/plain": [
       "[1] 65536"
      ]
     },
     "metadata": {},
     "output_type": "display_data"
    }
   ],
   "source": [
    "length(col_rgb)"
   ]
  },
  {
   "cell_type": "markdown",
   "metadata": {},
   "source": [
    "From the complete set of colours, we select a subset of 17732 colors, in order to associate one distinct color to every gene occurrence in the treemap:"
   ]
  },
  {
   "cell_type": "code",
   "execution_count": 15,
   "metadata": {},
   "outputs": [],
   "source": [
    "gene_color <- col_rgb[seq(from=1, to=length(col_rgb),\n",
    "                          by=as.integer(length(col_rgb)/nrow(exp_to_tree_map)))][1:nrow(exp_to_tree_map)]"
   ]
  },
  {
   "cell_type": "code",
   "execution_count": 16,
   "metadata": {},
   "outputs": [
    {
     "data": {
      "text/html": [
       "17732"
      ],
      "text/latex": [
       "17732"
      ],
      "text/markdown": [
       "17732"
      ],
      "text/plain": [
       "[1] 17732"
      ]
     },
     "metadata": {},
     "output_type": "display_data"
    }
   ],
   "source": [
    "length(gene_color)"
   ]
  },
  {
   "cell_type": "code",
   "execution_count": 17,
   "metadata": {},
   "outputs": [
    {
     "data": {
      "text/html": [
       "<style>\n",
       ".list-inline {list-style: none; margin:0; padding: 0}\n",
       ".list-inline>li {display: inline-block}\n",
       ".list-inline>li:not(:last-child)::after {content: \"\\00b7\"; padding: 0 .5ex}\n",
       "</style>\n",
       "<ol class=list-inline><li>'#CFBABA'</li><li>'#CFBDBD'</li><li>'#CFC0C0'</li><li>'#CFC3C3'</li><li>'#CFC6C6'</li><li>'#CFC9C9'</li></ol>\n"
      ],
      "text/latex": [
       "\\begin{enumerate*}\n",
       "\\item '\\#CFBABA'\n",
       "\\item '\\#CFBDBD'\n",
       "\\item '\\#CFC0C0'\n",
       "\\item '\\#CFC3C3'\n",
       "\\item '\\#CFC6C6'\n",
       "\\item '\\#CFC9C9'\n",
       "\\end{enumerate*}\n"
      ],
      "text/markdown": [
       "1. '#CFBABA'\n",
       "2. '#CFBDBD'\n",
       "3. '#CFC0C0'\n",
       "4. '#CFC3C3'\n",
       "5. '#CFC6C6'\n",
       "6. '#CFC9C9'\n",
       "\n",
       "\n"
      ],
      "text/plain": [
       "[1] \"#CFBABA\" \"#CFBDBD\" \"#CFC0C0\" \"#CFC3C3\" \"#CFC6C6\" \"#CFC9C9\""
      ]
     },
     "metadata": {},
     "output_type": "display_data"
    }
   ],
   "source": [
    "# Background color, e.g. #FFFFFF, used later to generate the PNG image, can not be contained in the set of colors\n",
    "tail(gene_color)"
   ]
  },
  {
   "cell_type": "markdown",
   "metadata": {},
   "source": [
    "We create a new column in the `exp_to_tree_map` dataset that specifies the colors to which genes occurrences are associated:"
   ]
  },
  {
   "cell_type": "code",
   "execution_count": 18,
   "metadata": {},
   "outputs": [],
   "source": [
    "exp_to_tree_map[\"colorGene\"] <- gene_color"
   ]
  },
  {
   "cell_type": "code",
   "execution_count": 19,
   "metadata": {},
   "outputs": [
    {
     "data": {
      "text/html": [
       "<table class=\"dataframe\">\n",
       "<caption>A data.frame: 6 × 10545</caption>\n",
       "<thead>\n",
       "\t<tr><th></th><th scope=col>geneId</th><th scope=col>geneName</th><th scope=col>keggId</th><th scope=col>keggBriteId</th><th scope=col>Functional.Annotation.Group</th><th scope=col>Functional.Annotation.Subgroup</th><th scope=col>Functional.Annotation</th><th scope=col>TCGA.02.0047.01_NON_BRCA</th><th scope=col>TCGA.02.0055.01_NON_BRCA</th><th scope=col>TCGA.02.2483.01_NON_BRCA</th><th scope=col>⋯</th><th scope=col>TCGA.W8.A86G.01_BRCA</th><th scope=col>TCGA.WT.AB41.01_BRCA</th><th scope=col>TCGA.WT.AB44.01_BRCA</th><th scope=col>TCGA.XX.A899.01_BRCA</th><th scope=col>TCGA.XX.A89A.01_BRCA</th><th scope=col>TCGA.Z7.A8R5.01_BRCA</th><th scope=col>TCGA.Z7.A8R6.01_BRCA</th><th scope=col>tamPixel</th><th scope=col>order</th><th scope=col>colorGene</th></tr>\n",
       "\t<tr><th></th><th scope=col>&lt;chr&gt;</th><th scope=col>&lt;chr&gt;</th><th scope=col>&lt;chr&gt;</th><th scope=col>&lt;int&gt;</th><th scope=col>&lt;chr&gt;</th><th scope=col>&lt;chr&gt;</th><th scope=col>&lt;chr&gt;</th><th scope=col>&lt;dbl&gt;</th><th scope=col>&lt;dbl&gt;</th><th scope=col>&lt;dbl&gt;</th><th scope=col>⋯</th><th scope=col>&lt;dbl&gt;</th><th scope=col>&lt;dbl&gt;</th><th scope=col>&lt;dbl&gt;</th><th scope=col>&lt;dbl&gt;</th><th scope=col>&lt;dbl&gt;</th><th scope=col>&lt;dbl&gt;</th><th scope=col>&lt;dbl&gt;</th><th scope=col>&lt;dbl&gt;</th><th scope=col>&lt;dbl&gt;</th><th scope=col>&lt;chr&gt;</th></tr>\n",
       "</thead>\n",
       "<tbody>\n",
       "\t<tr><th scope=row>1</th><td>ENSG00000187961.13</td><td>KLHL17</td><td>hsa:339451</td><td>   1</td><td>Genes and Proteins</td><td>Orthologs and modules                           </td><td>KEGG Orthology (KO)  </td><td>1.3225</td><td>2.3135</td><td>2.5707</td><td>⋯</td><td>3.9552</td><td>1.0847</td><td>1.8762</td><td>3.1860</td><td>2.6738</td><td>2.0360</td><td>3.2766</td><td>1</td><td>1.992469</td><td>#000000</td></tr>\n",
       "\t<tr><th scope=row>2</th><td>ENSG00000187961.13</td><td>KLHL17</td><td>hsa:339451</td><td>4121</td><td>Genes and Proteins</td><td>Protein families: genetic information processing</td><td>Ubiquitin system     </td><td>1.3225</td><td>2.3135</td><td>2.5707</td><td>⋯</td><td>3.9552</td><td>1.0847</td><td>1.8762</td><td>3.1860</td><td>2.6738</td><td>2.0360</td><td>3.2766</td><td>1</td><td>1.992469</td><td>#000303</td></tr>\n",
       "\t<tr><th scope=row>3</th><td>ENSG00000188290.10</td><td>HES4  </td><td>hsa:57801 </td><td>   1</td><td>Genes and Proteins</td><td>Orthologs and modules                           </td><td>KEGG Orthology (KO)  </td><td>4.1604</td><td>3.6148</td><td>3.8729</td><td>⋯</td><td>4.7296</td><td>2.9581</td><td>3.9910</td><td>4.4758</td><td>2.8681</td><td>4.4108</td><td>5.1538</td><td>1</td><td>2.791702</td><td>#000606</td></tr>\n",
       "\t<tr><th scope=row>4</th><td>ENSG00000188290.10</td><td>HES4  </td><td>hsa:57801 </td><td>3000</td><td>Genes and Proteins</td><td>Protein families: genetic information processing</td><td>Transcription factors</td><td>4.1604</td><td>3.6148</td><td>3.8729</td><td>⋯</td><td>4.7296</td><td>2.9581</td><td>3.9910</td><td>4.4758</td><td>2.8681</td><td>4.4108</td><td>5.1538</td><td>1</td><td>2.791702</td><td>#000909</td></tr>\n",
       "\t<tr><th scope=row>5</th><td>ENSG00000187608.8 </td><td>ISG15 </td><td>hsa:9636  </td><td>   1</td><td>Genes and Proteins</td><td>Orthologs and modules                           </td><td>KEGG Orthology (KO)  </td><td>5.8166</td><td>6.9599</td><td>5.9072</td><td>⋯</td><td>5.2540</td><td>8.9442</td><td>5.5448</td><td>7.2307</td><td>5.7552</td><td>5.4380</td><td>7.1096</td><td>1</td><td>6.491173</td><td>#000C0C</td></tr>\n",
       "\t<tr><th scope=row>6</th><td>ENSG00000187608.8 </td><td>ISG15 </td><td>hsa:9636  </td><td>4121</td><td>Genes and Proteins</td><td>Protein families: genetic information processing</td><td>Ubiquitin system     </td><td>5.8166</td><td>6.9599</td><td>5.9072</td><td>⋯</td><td>5.2540</td><td>8.9442</td><td>5.5448</td><td>7.2307</td><td>5.7552</td><td>5.4380</td><td>7.1096</td><td>1</td><td>6.491173</td><td>#000F0F</td></tr>\n",
       "</tbody>\n",
       "</table>\n"
      ],
      "text/latex": [
       "A data.frame: 6 × 10545\n",
       "\\begin{tabular}{r|lllllllllllllllllllll}\n",
       "  & geneId & geneName & keggId & keggBriteId & Functional.Annotation.Group & Functional.Annotation.Subgroup & Functional.Annotation & TCGA.02.0047.01\\_NON\\_BRCA & TCGA.02.0055.01\\_NON\\_BRCA & TCGA.02.2483.01\\_NON\\_BRCA & ⋯ & TCGA.W8.A86G.01\\_BRCA & TCGA.WT.AB41.01\\_BRCA & TCGA.WT.AB44.01\\_BRCA & TCGA.XX.A899.01\\_BRCA & TCGA.XX.A89A.01\\_BRCA & TCGA.Z7.A8R5.01\\_BRCA & TCGA.Z7.A8R6.01\\_BRCA & tamPixel & order & colorGene\\\\\n",
       "  & <chr> & <chr> & <chr> & <int> & <chr> & <chr> & <chr> & <dbl> & <dbl> & <dbl> & ⋯ & <dbl> & <dbl> & <dbl> & <dbl> & <dbl> & <dbl> & <dbl> & <dbl> & <dbl> & <chr>\\\\\n",
       "\\hline\n",
       "\t1 & ENSG00000187961.13 & KLHL17 & hsa:339451 &    1 & Genes and Proteins & Orthologs and modules                            & KEGG Orthology (KO)   & 1.3225 & 2.3135 & 2.5707 & ⋯ & 3.9552 & 1.0847 & 1.8762 & 3.1860 & 2.6738 & 2.0360 & 3.2766 & 1 & 1.992469 & \\#000000\\\\\n",
       "\t2 & ENSG00000187961.13 & KLHL17 & hsa:339451 & 4121 & Genes and Proteins & Protein families: genetic information processing & Ubiquitin system      & 1.3225 & 2.3135 & 2.5707 & ⋯ & 3.9552 & 1.0847 & 1.8762 & 3.1860 & 2.6738 & 2.0360 & 3.2766 & 1 & 1.992469 & \\#000303\\\\\n",
       "\t3 & ENSG00000188290.10 & HES4   & hsa:57801  &    1 & Genes and Proteins & Orthologs and modules                            & KEGG Orthology (KO)   & 4.1604 & 3.6148 & 3.8729 & ⋯ & 4.7296 & 2.9581 & 3.9910 & 4.4758 & 2.8681 & 4.4108 & 5.1538 & 1 & 2.791702 & \\#000606\\\\\n",
       "\t4 & ENSG00000188290.10 & HES4   & hsa:57801  & 3000 & Genes and Proteins & Protein families: genetic information processing & Transcription factors & 4.1604 & 3.6148 & 3.8729 & ⋯ & 4.7296 & 2.9581 & 3.9910 & 4.4758 & 2.8681 & 4.4108 & 5.1538 & 1 & 2.791702 & \\#000909\\\\\n",
       "\t5 & ENSG00000187608.8  & ISG15  & hsa:9636   &    1 & Genes and Proteins & Orthologs and modules                            & KEGG Orthology (KO)   & 5.8166 & 6.9599 & 5.9072 & ⋯ & 5.2540 & 8.9442 & 5.5448 & 7.2307 & 5.7552 & 5.4380 & 7.1096 & 1 & 6.491173 & \\#000C0C\\\\\n",
       "\t6 & ENSG00000187608.8  & ISG15  & hsa:9636   & 4121 & Genes and Proteins & Protein families: genetic information processing & Ubiquitin system      & 5.8166 & 6.9599 & 5.9072 & ⋯ & 5.2540 & 8.9442 & 5.5448 & 7.2307 & 5.7552 & 5.4380 & 7.1096 & 1 & 6.491173 & \\#000F0F\\\\\n",
       "\\end{tabular}\n"
      ],
      "text/markdown": [
       "\n",
       "A data.frame: 6 × 10545\n",
       "\n",
       "| <!--/--> | geneId &lt;chr&gt; | geneName &lt;chr&gt; | keggId &lt;chr&gt; | keggBriteId &lt;int&gt; | Functional.Annotation.Group &lt;chr&gt; | Functional.Annotation.Subgroup &lt;chr&gt; | Functional.Annotation &lt;chr&gt; | TCGA.02.0047.01_NON_BRCA &lt;dbl&gt; | TCGA.02.0055.01_NON_BRCA &lt;dbl&gt; | TCGA.02.2483.01_NON_BRCA &lt;dbl&gt; | ⋯ ⋯ | TCGA.W8.A86G.01_BRCA &lt;dbl&gt; | TCGA.WT.AB41.01_BRCA &lt;dbl&gt; | TCGA.WT.AB44.01_BRCA &lt;dbl&gt; | TCGA.XX.A899.01_BRCA &lt;dbl&gt; | TCGA.XX.A89A.01_BRCA &lt;dbl&gt; | TCGA.Z7.A8R5.01_BRCA &lt;dbl&gt; | TCGA.Z7.A8R6.01_BRCA &lt;dbl&gt; | tamPixel &lt;dbl&gt; | order &lt;dbl&gt; | colorGene &lt;chr&gt; |\n",
       "|---|---|---|---|---|---|---|---|---|---|---|---|---|---|---|---|---|---|---|---|---|---|\n",
       "| 1 | ENSG00000187961.13 | KLHL17 | hsa:339451 |    1 | Genes and Proteins | Orthologs and modules                            | KEGG Orthology (KO)   | 1.3225 | 2.3135 | 2.5707 | ⋯ | 3.9552 | 1.0847 | 1.8762 | 3.1860 | 2.6738 | 2.0360 | 3.2766 | 1 | 1.992469 | #000000 |\n",
       "| 2 | ENSG00000187961.13 | KLHL17 | hsa:339451 | 4121 | Genes and Proteins | Protein families: genetic information processing | Ubiquitin system      | 1.3225 | 2.3135 | 2.5707 | ⋯ | 3.9552 | 1.0847 | 1.8762 | 3.1860 | 2.6738 | 2.0360 | 3.2766 | 1 | 1.992469 | #000303 |\n",
       "| 3 | ENSG00000188290.10 | HES4   | hsa:57801  |    1 | Genes and Proteins | Orthologs and modules                            | KEGG Orthology (KO)   | 4.1604 | 3.6148 | 3.8729 | ⋯ | 4.7296 | 2.9581 | 3.9910 | 4.4758 | 2.8681 | 4.4108 | 5.1538 | 1 | 2.791702 | #000606 |\n",
       "| 4 | ENSG00000188290.10 | HES4   | hsa:57801  | 3000 | Genes and Proteins | Protein families: genetic information processing | Transcription factors | 4.1604 | 3.6148 | 3.8729 | ⋯ | 4.7296 | 2.9581 | 3.9910 | 4.4758 | 2.8681 | 4.4108 | 5.1538 | 1 | 2.791702 | #000909 |\n",
       "| 5 | ENSG00000187608.8  | ISG15  | hsa:9636   |    1 | Genes and Proteins | Orthologs and modules                            | KEGG Orthology (KO)   | 5.8166 | 6.9599 | 5.9072 | ⋯ | 5.2540 | 8.9442 | 5.5448 | 7.2307 | 5.7552 | 5.4380 | 7.1096 | 1 | 6.491173 | #000C0C |\n",
       "| 6 | ENSG00000187608.8  | ISG15  | hsa:9636   | 4121 | Genes and Proteins | Protein families: genetic information processing | Ubiquitin system      | 5.8166 | 6.9599 | 5.9072 | ⋯ | 5.2540 | 8.9442 | 5.5448 | 7.2307 | 5.7552 | 5.4380 | 7.1096 | 1 | 6.491173 | #000F0F |\n",
       "\n"
      ],
      "text/plain": [
       "  geneId             geneName keggId     keggBriteId\n",
       "1 ENSG00000187961.13 KLHL17   hsa:339451    1       \n",
       "2 ENSG00000187961.13 KLHL17   hsa:339451 4121       \n",
       "3 ENSG00000188290.10 HES4     hsa:57801     1       \n",
       "4 ENSG00000188290.10 HES4     hsa:57801  3000       \n",
       "5 ENSG00000187608.8  ISG15    hsa:9636      1       \n",
       "6 ENSG00000187608.8  ISG15    hsa:9636   4121       \n",
       "  Functional.Annotation.Group Functional.Annotation.Subgroup                  \n",
       "1 Genes and Proteins          Orthologs and modules                           \n",
       "2 Genes and Proteins          Protein families: genetic information processing\n",
       "3 Genes and Proteins          Orthologs and modules                           \n",
       "4 Genes and Proteins          Protein families: genetic information processing\n",
       "5 Genes and Proteins          Orthologs and modules                           \n",
       "6 Genes and Proteins          Protein families: genetic information processing\n",
       "  Functional.Annotation TCGA.02.0047.01_NON_BRCA TCGA.02.0055.01_NON_BRCA\n",
       "1 KEGG Orthology (KO)   1.3225                   2.3135                  \n",
       "2 Ubiquitin system      1.3225                   2.3135                  \n",
       "3 KEGG Orthology (KO)   4.1604                   3.6148                  \n",
       "4 Transcription factors 4.1604                   3.6148                  \n",
       "5 KEGG Orthology (KO)   5.8166                   6.9599                  \n",
       "6 Ubiquitin system      5.8166                   6.9599                  \n",
       "  TCGA.02.2483.01_NON_BRCA ⋯ TCGA.W8.A86G.01_BRCA TCGA.WT.AB41.01_BRCA\n",
       "1 2.5707                   ⋯ 3.9552               1.0847              \n",
       "2 2.5707                   ⋯ 3.9552               1.0847              \n",
       "3 3.8729                   ⋯ 4.7296               2.9581              \n",
       "4 3.8729                   ⋯ 4.7296               2.9581              \n",
       "5 5.9072                   ⋯ 5.2540               8.9442              \n",
       "6 5.9072                   ⋯ 5.2540               8.9442              \n",
       "  TCGA.WT.AB44.01_BRCA TCGA.XX.A899.01_BRCA TCGA.XX.A89A.01_BRCA\n",
       "1 1.8762               3.1860               2.6738              \n",
       "2 1.8762               3.1860               2.6738              \n",
       "3 3.9910               4.4758               2.8681              \n",
       "4 3.9910               4.4758               2.8681              \n",
       "5 5.5448               7.2307               5.7552              \n",
       "6 5.5448               7.2307               5.7552              \n",
       "  TCGA.Z7.A8R5.01_BRCA TCGA.Z7.A8R6.01_BRCA tamPixel order    colorGene\n",
       "1 2.0360               3.2766               1        1.992469 #000000  \n",
       "2 2.0360               3.2766               1        1.992469 #000303  \n",
       "3 4.4108               5.1538               1        2.791702 #000606  \n",
       "4 4.4108               5.1538               1        2.791702 #000909  \n",
       "5 5.4380               7.1096               1        6.491173 #000C0C  \n",
       "6 5.4380               7.1096               1        6.491173 #000F0F  "
      ]
     },
     "metadata": {},
     "output_type": "display_data"
    }
   ],
   "source": [
    "head(exp_to_tree_map)"
   ]
  },
  {
   "cell_type": "markdown",
   "metadata": {},
   "source": [
    "Now, we generate the gene occurrences treemap, and show it as an image with an arbitrary resolution:"
   ]
  },
  {
   "cell_type": "code",
   "execution_count": 21,
   "metadata": {},
   "outputs": [],
   "source": [
    "library(treemap)"
   ]
  },
  {
   "cell_type": "code",
   "execution_count": 22,
   "metadata": {},
   "outputs": [
    {
     "name": "stderr",
     "output_type": "stream",
     "text": [
      "Warning message in `[.data.table`(dtfDT, , `:=`(\"c\", fact), with = FALSE):\n",
      "“with=FALSE ignored, it isn't needed when using :=. See ?':=' for examples.”\n"
     ]
    },
    {
     "data": {
      "image/png": "[encoded data removed]",
      "text/plain": [
       "plot without title"
      ]
     },
     "metadata": {
      "image/png": {
       "height": 420,
       "width": 420
      }
     },
     "output_type": "display_data"
    }
   ],
   "source": [
    "start.time <- Sys.time()\n",
    "res <- treemap(dtf=exp_to_tree_map, index=c(\"Functional.Annotation.Subgroup\", \"Functional.Annotation\", \"geneId\"), \n",
    "               vSize=\"tamPixel\", vColor=\"colorGene\", type=\"color\", algorithm=\"pivotSize\", sortID=\"order\", \n",
    "               fontsize.labels=0, fontsize.title=0,\n",
    "               border.lwds=0, position.legend=\"none\", aspRatio=1, frame.plot=FALSE, draw=TRUE)\n",
    "end.time <- Sys.time()"
   ]
  },
  {
   "cell_type": "code",
   "execution_count": 23,
   "metadata": {
    "scrolled": true
   },
   "outputs": [
    {
     "data": {
      "text/plain": [
       "Time difference of 59.55505 secs"
      ]
     },
     "metadata": {},
     "output_type": "display_data"
    }
   ],
   "source": [
    "end.time - start.time"
   ]
  },
  {
   "cell_type": "markdown",
   "metadata": {},
   "source": [
    "The output dataset corresponds to a continuous description of the generated treemap:"
   ]
  },
  {
   "cell_type": "code",
   "execution_count": 24,
   "metadata": {},
   "outputs": [
    {
     "data": {
      "text/html": [
       "<table class=\"dataframe\">\n",
       "<caption>A data.frame: 6 × 13</caption>\n",
       "<thead>\n",
       "\t<tr><th></th><th scope=col>Functional.Annotation.Subgroup</th><th scope=col>Functional.Annotation</th><th scope=col>geneId</th><th scope=col>vSize</th><th scope=col>vColor</th><th scope=col>stdErr</th><th scope=col>vColorValue</th><th scope=col>level</th><th scope=col>x0</th><th scope=col>y0</th><th scope=col>w</th><th scope=col>h</th><th scope=col>color</th></tr>\n",
       "\t<tr><th></th><th scope=col>&lt;fct&gt;</th><th scope=col>&lt;fct&gt;</th><th scope=col>&lt;fct&gt;</th><th scope=col>&lt;dbl&gt;</th><th scope=col>&lt;fct&gt;</th><th scope=col>&lt;dbl&gt;</th><th scope=col>&lt;lgl&gt;</th><th scope=col>&lt;int&gt;</th><th scope=col>&lt;dbl&gt;</th><th scope=col>&lt;dbl&gt;</th><th scope=col>&lt;dbl&gt;</th><th scope=col>&lt;dbl&gt;</th><th scope=col>&lt;chr&gt;</th></tr>\n",
       "</thead>\n",
       "<tbody>\n",
       "\t<tr><th scope=row>1</th><td>Orthologs and modules</td><td>KEGG Orthology (KO)</td><td>ENSG00000000003.14</td><td>1</td><td>#CCF9F9</td><td>1</td><td>NA</td><td>3</td><td>0.8941280</td><td>0.19418004</td><td>0.007562284</td><td>0.007457432</td><td>#CCF9F9</td></tr>\n",
       "\t<tr><th scope=row>2</th><td>Orthologs and modules</td><td>KEGG Orthology (KO)</td><td>ENSG00000000938.12</td><td>1</td><td>#03E7E7</td><td>1</td><td>NA</td><td>3</td><td>0.8034905</td><td>0.40306476</td><td>0.007558056</td><td>0.007461603</td><td>#03E7E7</td></tr>\n",
       "\t<tr><th scope=row>3</th><td>Orthologs and modules</td><td>KEGG Orthology (KO)</td><td>ENSG00000000971.15</td><td>1</td><td>#120909</td><td>1</td><td>NA</td><td>3</td><td>0.8336708</td><td>0.23892978</td><td>0.007560419</td><td>0.007459271</td><td>#120909</td></tr>\n",
       "\t<tr><th scope=row>4</th><td>Orthologs and modules</td><td>KEGG Orthology (KO)</td><td>ENSG00000001084.10</td><td>1</td><td>#AD8585</td><td>1</td><td>NA</td><td>3</td><td>0.7580666</td><td>0.01493311</td><td>0.007553043</td><td>0.007466556</td><td>#AD8585</td></tr>\n",
       "\t<tr><th scope=row>5</th><td>Orthologs and modules</td><td>KEGG Orthology (KO)</td><td>ENSG00000001461.16</td><td>1</td><td>#033030</td><td>1</td><td>NA</td><td>3</td><td>0.7505411</td><td>0.28368828</td><td>0.007559362</td><td>0.007460315</td><td>#033030</td></tr>\n",
       "\t<tr><th scope=row>6</th><td>Orthologs and modules</td><td>KEGG Orthology (KO)</td><td>ENSG00000001561.6 </td><td>1</td><td>#ACC2C2</td><td>1</td><td>NA</td><td>3</td><td>0.6372110</td><td>0.39560320</td><td>0.007558105</td><td>0.007461555</td><td>#ACC2C2</td></tr>\n",
       "</tbody>\n",
       "</table>\n"
      ],
      "text/latex": [
       "A data.frame: 6 × 13\n",
       "\\begin{tabular}{r|lllllllllllll}\n",
       "  & Functional.Annotation.Subgroup & Functional.Annotation & geneId & vSize & vColor & stdErr & vColorValue & level & x0 & y0 & w & h & color\\\\\n",
       "  & <fct> & <fct> & <fct> & <dbl> & <fct> & <dbl> & <lgl> & <int> & <dbl> & <dbl> & <dbl> & <dbl> & <chr>\\\\\n",
       "\\hline\n",
       "\t1 & Orthologs and modules & KEGG Orthology (KO) & ENSG00000000003.14 & 1 & \\#CCF9F9 & 1 & NA & 3 & 0.8941280 & 0.19418004 & 0.007562284 & 0.007457432 & \\#CCF9F9\\\\\n",
       "\t2 & Orthologs and modules & KEGG Orthology (KO) & ENSG00000000938.12 & 1 & \\#03E7E7 & 1 & NA & 3 & 0.8034905 & 0.40306476 & 0.007558056 & 0.007461603 & \\#03E7E7\\\\\n",
       "\t3 & Orthologs and modules & KEGG Orthology (KO) & ENSG00000000971.15 & 1 & \\#120909 & 1 & NA & 3 & 0.8336708 & 0.23892978 & 0.007560419 & 0.007459271 & \\#120909\\\\\n",
       "\t4 & Orthologs and modules & KEGG Orthology (KO) & ENSG00000001084.10 & 1 & \\#AD8585 & 1 & NA & 3 & 0.7580666 & 0.01493311 & 0.007553043 & 0.007466556 & \\#AD8585\\\\\n",
       "\t5 & Orthologs and modules & KEGG Orthology (KO) & ENSG00000001461.16 & 1 & \\#033030 & 1 & NA & 3 & 0.7505411 & 0.28368828 & 0.007559362 & 0.007460315 & \\#033030\\\\\n",
       "\t6 & Orthologs and modules & KEGG Orthology (KO) & ENSG00000001561.6  & 1 & \\#ACC2C2 & 1 & NA & 3 & 0.6372110 & 0.39560320 & 0.007558105 & 0.007461555 & \\#ACC2C2\\\\\n",
       "\\end{tabular}\n"
      ],
      "text/markdown": [
       "\n",
       "A data.frame: 6 × 13\n",
       "\n",
       "| <!--/--> | Functional.Annotation.Subgroup &lt;fct&gt; | Functional.Annotation &lt;fct&gt; | geneId &lt;fct&gt; | vSize &lt;dbl&gt; | vColor &lt;fct&gt; | stdErr &lt;dbl&gt; | vColorValue &lt;lgl&gt; | level &lt;int&gt; | x0 &lt;dbl&gt; | y0 &lt;dbl&gt; | w &lt;dbl&gt; | h &lt;dbl&gt; | color &lt;chr&gt; |\n",
       "|---|---|---|---|---|---|---|---|---|---|---|---|---|---|\n",
       "| 1 | Orthologs and modules | KEGG Orthology (KO) | ENSG00000000003.14 | 1 | #CCF9F9 | 1 | NA | 3 | 0.8941280 | 0.19418004 | 0.007562284 | 0.007457432 | #CCF9F9 |\n",
       "| 2 | Orthologs and modules | KEGG Orthology (KO) | ENSG00000000938.12 | 1 | #03E7E7 | 1 | NA | 3 | 0.8034905 | 0.40306476 | 0.007558056 | 0.007461603 | #03E7E7 |\n",
       "| 3 | Orthologs and modules | KEGG Orthology (KO) | ENSG00000000971.15 | 1 | #120909 | 1 | NA | 3 | 0.8336708 | 0.23892978 | 0.007560419 | 0.007459271 | #120909 |\n",
       "| 4 | Orthologs and modules | KEGG Orthology (KO) | ENSG00000001084.10 | 1 | #AD8585 | 1 | NA | 3 | 0.7580666 | 0.01493311 | 0.007553043 | 0.007466556 | #AD8585 |\n",
       "| 5 | Orthologs and modules | KEGG Orthology (KO) | ENSG00000001461.16 | 1 | #033030 | 1 | NA | 3 | 0.7505411 | 0.28368828 | 0.007559362 | 0.007460315 | #033030 |\n",
       "| 6 | Orthologs and modules | KEGG Orthology (KO) | ENSG00000001561.6  | 1 | #ACC2C2 | 1 | NA | 3 | 0.6372110 | 0.39560320 | 0.007558105 | 0.007461555 | #ACC2C2 |\n",
       "\n"
      ],
      "text/plain": [
       "  Functional.Annotation.Subgroup Functional.Annotation geneId             vSize\n",
       "1 Orthologs and modules          KEGG Orthology (KO)   ENSG00000000003.14 1    \n",
       "2 Orthologs and modules          KEGG Orthology (KO)   ENSG00000000938.12 1    \n",
       "3 Orthologs and modules          KEGG Orthology (KO)   ENSG00000000971.15 1    \n",
       "4 Orthologs and modules          KEGG Orthology (KO)   ENSG00000001084.10 1    \n",
       "5 Orthologs and modules          KEGG Orthology (KO)   ENSG00000001461.16 1    \n",
       "6 Orthologs and modules          KEGG Orthology (KO)   ENSG00000001561.6  1    \n",
       "  vColor  stdErr vColorValue level x0        y0         w           h          \n",
       "1 #CCF9F9 1      NA          3     0.8941280 0.19418004 0.007562284 0.007457432\n",
       "2 #03E7E7 1      NA          3     0.8034905 0.40306476 0.007558056 0.007461603\n",
       "3 #120909 1      NA          3     0.8336708 0.23892978 0.007560419 0.007459271\n",
       "4 #AD8585 1      NA          3     0.7580666 0.01493311 0.007553043 0.007466556\n",
       "5 #033030 1      NA          3     0.7505411 0.28368828 0.007559362 0.007460315\n",
       "6 #ACC2C2 1      NA          3     0.6372110 0.39560320 0.007558105 0.007461555\n",
       "  color  \n",
       "1 #CCF9F9\n",
       "2 #03E7E7\n",
       "3 #120909\n",
       "4 #AD8585\n",
       "5 #033030\n",
       "6 #ACC2C2"
      ]
     },
     "metadata": {},
     "output_type": "display_data"
    }
   ],
   "source": [
    "df_res <- res$tm\n",
    "head(df_res)"
   ]
  },
  {
   "cell_type": "markdown",
   "metadata": {},
   "source": [
    "From the output dataset, we only select the rows corresponding to genes ('pixels' of the generated treemap), the leaves of KEGG BRITE functional hierarchy tree:"
   ]
  },
  {
   "cell_type": "code",
   "execution_count": 25,
   "metadata": {},
   "outputs": [
    {
     "data": {
      "text/html": [
       "17732"
      ],
      "text/latex": [
       "17732"
      ],
      "text/markdown": [
       "17732"
      ],
      "text/plain": [
       "[1] 17732"
      ]
     },
     "metadata": {},
     "output_type": "display_data"
    }
   ],
   "source": [
    "df_res_pix <- df_res[!is.na(df_res[\"geneId\"]), ]\n",
    "nrow(df_res_pix)"
   ]
  },
  {
   "cell_type": "code",
   "execution_count": 26,
   "metadata": {},
   "outputs": [
    {
     "data": {
      "text/html": [
       "TRUE"
      ],
      "text/latex": [
       "TRUE"
      ],
      "text/markdown": [
       "TRUE"
      ],
      "text/plain": [
       "[1] TRUE"
      ]
     },
     "metadata": {},
     "output_type": "display_data"
    }
   ],
   "source": [
    "nrow(df_res_pix) == nrow(exp_to_tree_map)"
   ]
  },
  {
   "cell_type": "markdown",
   "metadata": {},
   "source": [
    "We can check that all genes occupy approximately the same area in the generated treemap:"
   ]
  },
  {
   "cell_type": "code",
   "execution_count": 27,
   "metadata": {},
   "outputs": [],
   "source": [
    "rect_area <- df_res_pix[\"w\"] * df_res_pix[\"h\"]"
   ]
  },
  {
   "cell_type": "code",
   "execution_count": 28,
   "metadata": {},
   "outputs": [
    {
     "data": {
      "text/html": [
       "5.63952176855402e-05"
      ],
      "text/latex": [
       "5.63952176855402e-05"
      ],
      "text/markdown": [
       "5.63952176855402e-05"
      ],
      "text/plain": [
       "[1] 5.639522e-05"
      ]
     },
     "metadata": {},
     "output_type": "display_data"
    }
   ],
   "source": [
    "rect_area[1, ]"
   ]
  },
  {
   "cell_type": "code",
   "execution_count": 29,
   "metadata": {},
   "outputs": [
    {
     "data": {
      "text/html": [
       "1.34847645202885e-18"
      ],
      "text/latex": [
       "1.34847645202885e-18"
      ],
      "text/markdown": [
       "1.34847645202885e-18"
      ],
      "text/plain": [
       "[1] 1.348476e-18"
      ]
     },
     "metadata": {},
     "output_type": "display_data"
    }
   ],
   "source": [
    "# |min - max| ~= 0\n",
    "abs(min(rect_area) - max(rect_area))"
   ]
  },
  {
   "cell_type": "markdown",
   "metadata": {},
   "source": [
    "Finally, in the output dataset, we sort the genes by their position in the treemap:"
   ]
  },
  {
   "cell_type": "code",
   "execution_count": 30,
   "metadata": {},
   "outputs": [
    {
     "data": {
      "text/html": [
       "<table class=\"dataframe\">\n",
       "<caption>A data.frame: 6 × 13</caption>\n",
       "<thead>\n",
       "\t<tr><th></th><th scope=col>Functional.Annotation.Subgroup</th><th scope=col>Functional.Annotation</th><th scope=col>geneId</th><th scope=col>vSize</th><th scope=col>vColor</th><th scope=col>stdErr</th><th scope=col>vColorValue</th><th scope=col>level</th><th scope=col>x0</th><th scope=col>y0</th><th scope=col>w</th><th scope=col>h</th><th scope=col>color</th></tr>\n",
       "\t<tr><th></th><th scope=col>&lt;fct&gt;</th><th scope=col>&lt;fct&gt;</th><th scope=col>&lt;fct&gt;</th><th scope=col>&lt;dbl&gt;</th><th scope=col>&lt;fct&gt;</th><th scope=col>&lt;dbl&gt;</th><th scope=col>&lt;lgl&gt;</th><th scope=col>&lt;int&gt;</th><th scope=col>&lt;dbl&gt;</th><th scope=col>&lt;dbl&gt;</th><th scope=col>&lt;dbl&gt;</th><th scope=col>&lt;dbl&gt;</th><th scope=col>&lt;chr&gt;</th></tr>\n",
       "</thead>\n",
       "<tbody>\n",
       "\t<tr><th scope=row>9477</th><td>Protein families: genetic information processing</td><td>Spliceosome                     </td><td>ENSG00000096063.14</td><td>1</td><td>#ABBDBD</td><td>1</td><td>NA</td><td>3</td><td>0.000000000</td><td>0</td><td>0.008236726</td><td>0.006846800</td><td>#ABBDBD</td></tr>\n",
       "\t<tr><th scope=row>9500</th><td>Protein families: genetic information processing</td><td>Spliceosome                     </td><td>ENSG00000132424.14</td><td>1</td><td>#AEB4B4</td><td>1</td><td>NA</td><td>3</td><td>0.008236726</td><td>0</td><td>0.008472062</td><td>0.006656611</td><td>#AEB4B4</td></tr>\n",
       "\t<tr><th scope=row>9529</th><td>Protein families: genetic information processing</td><td>Spliceosome                     </td><td>ENSG00000204389.9 </td><td>1</td><td>#AA6767</td><td>1</td><td>NA</td><td>3</td><td>0.016708788</td><td>0</td><td>0.009077209</td><td>0.006212837</td><td>#AA6767</td></tr>\n",
       "\t<tr><th scope=row>9484</th><td>Protein families: genetic information processing</td><td>Spliceosome                     </td><td>ENSG00000106211.8 </td><td>1</td><td>#B5C8C8</td><td>1</td><td>NA</td><td>3</td><td>0.025785997</td><td>0</td><td>0.006051473</td><td>0.009319255</td><td>#B5C8C8</td></tr>\n",
       "\t<tr><th scope=row>9472</th><td>Protein families: genetic information processing</td><td>Spliceosome                     </td><td>ENSG00000070756.13</td><td>1</td><td>#BFAFAF</td><td>1</td><td>NA</td><td>3</td><td>0.031837469</td><td>0</td><td>0.006051473</td><td>0.009319255</td><td>#BFAFAF</td></tr>\n",
       "\t<tr><th scope=row>7599</th><td>Protein families: genetic information processing</td><td>Chaperones and folding catalysts</td><td>ENSG00000263464.2 </td><td>1</td><td>#0BFAFA</td><td>1</td><td>NA</td><td>3</td><td>0.037888942</td><td>0</td><td>0.007687395</td><td>0.007336063</td><td>#0BFAFA</td></tr>\n",
       "</tbody>\n",
       "</table>\n"
      ],
      "text/latex": [
       "A data.frame: 6 × 13\n",
       "\\begin{tabular}{r|lllllllllllll}\n",
       "  & Functional.Annotation.Subgroup & Functional.Annotation & geneId & vSize & vColor & stdErr & vColorValue & level & x0 & y0 & w & h & color\\\\\n",
       "  & <fct> & <fct> & <fct> & <dbl> & <fct> & <dbl> & <lgl> & <int> & <dbl> & <dbl> & <dbl> & <dbl> & <chr>\\\\\n",
       "\\hline\n",
       "\t9477 & Protein families: genetic information processing & Spliceosome                      & ENSG00000096063.14 & 1 & \\#ABBDBD & 1 & NA & 3 & 0.000000000 & 0 & 0.008236726 & 0.006846800 & \\#ABBDBD\\\\\n",
       "\t9500 & Protein families: genetic information processing & Spliceosome                      & ENSG00000132424.14 & 1 & \\#AEB4B4 & 1 & NA & 3 & 0.008236726 & 0 & 0.008472062 & 0.006656611 & \\#AEB4B4\\\\\n",
       "\t9529 & Protein families: genetic information processing & Spliceosome                      & ENSG00000204389.9  & 1 & \\#AA6767 & 1 & NA & 3 & 0.016708788 & 0 & 0.009077209 & 0.006212837 & \\#AA6767\\\\\n",
       "\t9484 & Protein families: genetic information processing & Spliceosome                      & ENSG00000106211.8  & 1 & \\#B5C8C8 & 1 & NA & 3 & 0.025785997 & 0 & 0.006051473 & 0.009319255 & \\#B5C8C8\\\\\n",
       "\t9472 & Protein families: genetic information processing & Spliceosome                      & ENSG00000070756.13 & 1 & \\#BFAFAF & 1 & NA & 3 & 0.031837469 & 0 & 0.006051473 & 0.009319255 & \\#BFAFAF\\\\\n",
       "\t7599 & Protein families: genetic information processing & Chaperones and folding catalysts & ENSG00000263464.2  & 1 & \\#0BFAFA & 1 & NA & 3 & 0.037888942 & 0 & 0.007687395 & 0.007336063 & \\#0BFAFA\\\\\n",
       "\\end{tabular}\n"
      ],
      "text/markdown": [
       "\n",
       "A data.frame: 6 × 13\n",
       "\n",
       "| <!--/--> | Functional.Annotation.Subgroup &lt;fct&gt; | Functional.Annotation &lt;fct&gt; | geneId &lt;fct&gt; | vSize &lt;dbl&gt; | vColor &lt;fct&gt; | stdErr &lt;dbl&gt; | vColorValue &lt;lgl&gt; | level &lt;int&gt; | x0 &lt;dbl&gt; | y0 &lt;dbl&gt; | w &lt;dbl&gt; | h &lt;dbl&gt; | color &lt;chr&gt; |\n",
       "|---|---|---|---|---|---|---|---|---|---|---|---|---|---|\n",
       "| 9477 | Protein families: genetic information processing | Spliceosome                      | ENSG00000096063.14 | 1 | #ABBDBD | 1 | NA | 3 | 0.000000000 | 0 | 0.008236726 | 0.006846800 | #ABBDBD |\n",
       "| 9500 | Protein families: genetic information processing | Spliceosome                      | ENSG00000132424.14 | 1 | #AEB4B4 | 1 | NA | 3 | 0.008236726 | 0 | 0.008472062 | 0.006656611 | #AEB4B4 |\n",
       "| 9529 | Protein families: genetic information processing | Spliceosome                      | ENSG00000204389.9  | 1 | #AA6767 | 1 | NA | 3 | 0.016708788 | 0 | 0.009077209 | 0.006212837 | #AA6767 |\n",
       "| 9484 | Protein families: genetic information processing | Spliceosome                      | ENSG00000106211.8  | 1 | #B5C8C8 | 1 | NA | 3 | 0.025785997 | 0 | 0.006051473 | 0.009319255 | #B5C8C8 |\n",
       "| 9472 | Protein families: genetic information processing | Spliceosome                      | ENSG00000070756.13 | 1 | #BFAFAF | 1 | NA | 3 | 0.031837469 | 0 | 0.006051473 | 0.009319255 | #BFAFAF |\n",
       "| 7599 | Protein families: genetic information processing | Chaperones and folding catalysts | ENSG00000263464.2  | 1 | #0BFAFA | 1 | NA | 3 | 0.037888942 | 0 | 0.007687395 | 0.007336063 | #0BFAFA |\n",
       "\n"
      ],
      "text/plain": [
       "     Functional.Annotation.Subgroup                  \n",
       "9477 Protein families: genetic information processing\n",
       "9500 Protein families: genetic information processing\n",
       "9529 Protein families: genetic information processing\n",
       "9484 Protein families: genetic information processing\n",
       "9472 Protein families: genetic information processing\n",
       "7599 Protein families: genetic information processing\n",
       "     Functional.Annotation            geneId             vSize vColor  stdErr\n",
       "9477 Spliceosome                      ENSG00000096063.14 1     #ABBDBD 1     \n",
       "9500 Spliceosome                      ENSG00000132424.14 1     #AEB4B4 1     \n",
       "9529 Spliceosome                      ENSG00000204389.9  1     #AA6767 1     \n",
       "9484 Spliceosome                      ENSG00000106211.8  1     #B5C8C8 1     \n",
       "9472 Spliceosome                      ENSG00000070756.13 1     #BFAFAF 1     \n",
       "7599 Chaperones and folding catalysts ENSG00000263464.2  1     #0BFAFA 1     \n",
       "     vColorValue level x0          y0 w           h           color  \n",
       "9477 NA          3     0.000000000 0  0.008236726 0.006846800 #ABBDBD\n",
       "9500 NA          3     0.008236726 0  0.008472062 0.006656611 #AEB4B4\n",
       "9529 NA          3     0.016708788 0  0.009077209 0.006212837 #AA6767\n",
       "9484 NA          3     0.025785997 0  0.006051473 0.009319255 #B5C8C8\n",
       "9472 NA          3     0.031837469 0  0.006051473 0.009319255 #BFAFAF\n",
       "7599 NA          3     0.037888942 0  0.007687395 0.007336063 #0BFAFA"
      ]
     },
     "metadata": {},
     "output_type": "display_data"
    }
   ],
   "source": [
    "df_res_pix <- df_res_pix[order(df_res_pix[\"y0\"], df_res_pix[\"x0\"], decreasing=FALSE), ]\n",
    "head(df_res_pix)"
   ]
  },
  {
   "cell_type": "code",
   "execution_count": 31,
   "metadata": {},
   "outputs": [
    {
     "data": {
      "text/html": [
       "TRUE"
      ],
      "text/latex": [
       "TRUE"
      ],
      "text/markdown": [
       "TRUE"
      ],
      "text/plain": [
       "[1] TRUE"
      ]
     },
     "metadata": {},
     "output_type": "display_data"
    }
   ],
   "source": [
    "# One distinct color for every gene occurrence\n",
    "length(unique(df_res_pix$color)) == nrow(exp_to_tree_map)"
   ]
  },
  {
   "cell_type": "markdown",
   "metadata": {},
   "source": [
    "### Colors presence analysis\n",
    "\n",
    "As explained in the first cell of the notebook, a fixed size of image **T** must be determined. Technically, this is equivalent to say that the continuous treemap description given as the output dataset by the `treemap` package has to be discretized in order to generate image **T**, whose resolution must be selected. To perform the discretization, we transform the treemap (`df_res_pix` dataset) into a PNG image, which represents **T**. Here, we analyze the discretized images generated using different configurations of width and height. The analysis of the quality of the different images will be performed in terms of the number of colors (gene occurrences) from the original continious treemap that are also contained in the images, as well as the difference between the rectangular areas of the images occupied by the gene occurrences elements. Based on this analysis, we will finally choose the best width and height values to be used as the resolution of **T**."
   ]
  },
  {
   "cell_type": "code",
   "execution_count": 33,
   "metadata": {},
   "outputs": [],
   "source": [
    "library(png)\n",
    "library(grid)"
   ]
  },
  {
   "cell_type": "code",
   "execution_count": 34,
   "metadata": {},
   "outputs": [
    {
     "data": {
      "text/html": [],
      "text/latex": [],
      "text/markdown": [],
      "text/plain": [
       "character(0)"
      ]
     },
     "metadata": {},
     "output_type": "display_data"
    }
   ],
   "source": [
    "# Create temporary folder\n",
    "system(\"mkdir -p test_pix\", intern = TRUE)"
   ]
  },
  {
   "cell_type": "code",
   "execution_count": 35,
   "metadata": {},
   "outputs": [],
   "source": [
    "generate_rrggbb_matrix <- function(df_treemap, n_width, n_height) {\n",
    "    # Function to generate a discrete treemap in RRGGBB matrix format.\n",
    "    ## param df_treemap: data frame describing a grid.rect object, i.e. the continuous treemap.\n",
    "    ## param n_width: number of rows of the generated matrix.\n",
    "    ## param n_height: number of columns of the generated matrix.\n",
    "    \n",
    "    # Background is set to white (#FFFFFF in RRGGBB format)\n",
    "    png(filename=paste0(\"test_pix/TEST_GENE_ALL_COLOR_GRID_TREEMAP_\", n_width, \"_\", n_height, \".png\"), \n",
    "        width = n_width, height = n_height, bg = \"white\")\n",
    "    grid.rect(x = df_treemap$x0, y = df_treemap$y0, width = df_treemap$w, df_treemap$h, default.units = \"npc\",\n",
    "          just=c(\"left\",\"bottom\"), gp = gpar(lwd=0, fill = df_treemap$color))\n",
    "    dev.off()\n",
    "    png_mat <- readPNG(paste0(\"test_pix/TEST_GENE_ALL_COLOR_GRID_TREEMAP_\", n_width, \"_\", n_height, \".png\"))\n",
    "    n_row <- dim(png_mat)[1]\n",
    "    n_col <- dim(png_mat)[2]\n",
    "    png_mat <- png_mat*255\n",
    "    return(matrix(paste0(\"#\", format(as.hexmode(png_mat[, , 1]), width = 2, upper.case = TRUE), \n",
    "                              format(as.hexmode(png_mat[, , 2]), width = 2, upper.case = TRUE), \n",
    "                              format(as.hexmode(png_mat[, , 3]), width = 2, upper.case = TRUE)), \n",
    "                  nrow = n_row, ncol = n_col, byrow = FALSE))\n",
    "}"
   ]
  },
  {
   "cell_type": "markdown",
   "metadata": {},
   "source": [
    "####  Using squared matrices\n",
    "\n",
    "In this subsection, we analyze squared images, i.e. images with equal width and height."
   ]
  },
  {
   "cell_type": "code",
   "execution_count": 36,
   "metadata": {},
   "outputs": [],
   "source": [
    "squared_func_colors_omitted <- function(orig_col, df_treemap, n_pixel) {\n",
    "    # Function to compute the number of original colors not present in the generated RRGGBB squared matrices\n",
    "    # using each possible combination of matrix dimensions.\n",
    "    ## param orig_col: vector containing all the original colors.\n",
    "    ## param df_treemap: data frame describing a grid.rect object, i.e. the continuous treemap.\n",
    "    ## param n_pixel: different possible numbers of dimensions of the generated squared matrices.\n",
    "    ## returns: an integer vector.\n",
    "    \n",
    "    diff_num <- c()\n",
    "    for (i in n_pixel) {\n",
    "        rrggbb_mat <- generate_rrggbb_matrix(df_treemap = df_treemap, n_width = i, n_height = i)\n",
    "        s <- setdiff(orig_col, unique(as.character(rrggbb_mat)))\n",
    "        diff_num <- append(diff_num, length(s))\n",
    "    }\n",
    "    names(diff_num) <- as.character(n_pixel)\n",
    "    return(diff_num)\n",
    "}"
   ]
  },
  {
   "cell_type": "code",
   "execution_count": 37,
   "metadata": {},
   "outputs": [
    {
     "data": {
      "text/html": [
       "17732"
      ],
      "text/latex": [
       "17732"
      ],
      "text/markdown": [
       "17732"
      ],
      "text/plain": [
       "[1] 17732"
      ]
     },
     "metadata": {},
     "output_type": "display_data"
    }
   ],
   "source": [
    "# Original number of colors contained in the heatmap description dataset\n",
    "length(unique(df_res_pix$color))"
   ]
  },
  {
   "cell_type": "markdown",
   "metadata": {},
   "source": [
    "We now perform an exhaustive procedure to study the colors omitted when using each possible numbers of pixels configuration:"
   ]
  },
  {
   "cell_type": "code",
   "execution_count": 38,
   "metadata": {},
   "outputs": [
    {
     "data": {
      "text/html": [
       "133.161556013738"
      ],
      "text/latex": [
       "133.161556013738"
      ],
      "text/markdown": [
       "133.161556013738"
      ],
      "text/plain": [
       "[1] 133.1616"
      ]
     },
     "metadata": {},
     "output_type": "display_data"
    }
   ],
   "source": [
    "sqrt(nrow(df_res_pix))"
   ]
  },
  {
   "cell_type": "code",
   "execution_count": 39,
   "metadata": {},
   "outputs": [
    {
     "data": {
      "text/html": [
       "17956"
      ],
      "text/latex": [
       "17956"
      ],
      "text/markdown": [
       "17956"
      ],
      "text/plain": [
       "[1] 17956"
      ]
     },
     "metadata": {},
     "output_type": "display_data"
    }
   ],
   "source": [
    "# Minimum number of pixels\n",
    "134**2"
   ]
  },
  {
   "cell_type": "code",
   "execution_count": 40,
   "metadata": {},
   "outputs": [],
   "source": [
    "ori_col <- unique(df_res_pix$color)\n",
    "pix_num <- 134:1024\n",
    "\n",
    "start.time <- Sys.time()\n",
    "diff_col_num <- squared_func_colors_omitted(orig_col = ori_col, df_treemap = df_res_pix, n_pixel = pix_num)\n",
    "end.time <- Sys.time()"
   ]
  },
  {
   "cell_type": "code",
   "execution_count": 41,
   "metadata": {},
   "outputs": [
    {
     "data": {
      "text/plain": [
       "Time difference of 5.018802 mins"
      ]
     },
     "metadata": {},
     "output_type": "display_data"
    }
   ],
   "source": [
    "end.time - start.time"
   ]
  },
  {
   "cell_type": "code",
   "execution_count": 42,
   "metadata": {},
   "outputs": [
    {
     "data": {
      "text/html": [
       "<style>\n",
       ".dl-inline {width: auto; margin:0; padding: 0}\n",
       ".dl-inline>dt, .dl-inline>dd {float: none; width: auto; display: inline-block}\n",
       ".dl-inline>dt::after {content: \":\\0020\"; padding-right: .5ex}\n",
       ".dl-inline>dt:not(:first-of-type) {padding-left: .5ex}\n",
       "</style><dl class=dl-inline><dt>134</dt><dd>290</dd><dt>135</dt><dd>238</dd><dt>136</dt><dd>140</dd><dt>137</dt><dd>100</dd><dt>138</dt><dd>61</dd><dt>139</dt><dd>58</dd></dl>\n"
      ],
      "text/latex": [
       "\\begin{description*}\n",
       "\\item[134] 290\n",
       "\\item[135] 238\n",
       "\\item[136] 140\n",
       "\\item[137] 100\n",
       "\\item[138] 61\n",
       "\\item[139] 58\n",
       "\\end{description*}\n"
      ],
      "text/markdown": [
       "134\n",
       ":   290135\n",
       ":   238136\n",
       ":   140137\n",
       ":   100138\n",
       ":   61139\n",
       ":   58\n",
       "\n"
      ],
      "text/plain": [
       "134 135 136 137 138 139 \n",
       "290 238 140 100  61  58 "
      ]
     },
     "metadata": {},
     "output_type": "display_data"
    }
   ],
   "source": [
    "head(diff_col_num)"
   ]
  },
  {
   "cell_type": "code",
   "execution_count": 43,
   "metadata": {},
   "outputs": [
    {
     "data": {
      "text/html": [
       "<style>\n",
       ".list-inline {list-style: none; margin:0; padding: 0}\n",
       ".list-inline>li {display: inline-block}\n",
       ".list-inline>li:not(:last-child)::after {content: \"\\00b7\"; padding: 0 .5ex}\n",
       "</style>\n",
       "<ol class=list-inline><li>0</li><li>9</li><li>10</li><li>11</li><li>12</li><li>13</li><li>14</li><li>15</li><li>17</li><li>18</li><li>19</li><li>20</li><li>21</li><li>25</li><li>27</li><li>30</li><li>34</li><li>45</li><li>51</li><li>58</li><li>59</li><li>60</li><li>61</li><li>100</li><li>140</li><li>238</li><li>290</li></ol>\n"
      ],
      "text/latex": [
       "\\begin{enumerate*}\n",
       "\\item 0\n",
       "\\item 9\n",
       "\\item 10\n",
       "\\item 11\n",
       "\\item 12\n",
       "\\item 13\n",
       "\\item 14\n",
       "\\item 15\n",
       "\\item 17\n",
       "\\item 18\n",
       "\\item 19\n",
       "\\item 20\n",
       "\\item 21\n",
       "\\item 25\n",
       "\\item 27\n",
       "\\item 30\n",
       "\\item 34\n",
       "\\item 45\n",
       "\\item 51\n",
       "\\item 58\n",
       "\\item 59\n",
       "\\item 60\n",
       "\\item 61\n",
       "\\item 100\n",
       "\\item 140\n",
       "\\item 238\n",
       "\\item 290\n",
       "\\end{enumerate*}\n"
      ],
      "text/markdown": [
       "1. 0\n",
       "2. 9\n",
       "3. 10\n",
       "4. 11\n",
       "5. 12\n",
       "6. 13\n",
       "7. 14\n",
       "8. 15\n",
       "9. 17\n",
       "10. 18\n",
       "11. 19\n",
       "12. 20\n",
       "13. 21\n",
       "14. 25\n",
       "15. 27\n",
       "16. 30\n",
       "17. 34\n",
       "18. 45\n",
       "19. 51\n",
       "20. 58\n",
       "21. 59\n",
       "22. 60\n",
       "23. 61\n",
       "24. 100\n",
       "25. 140\n",
       "26. 238\n",
       "27. 290\n",
       "\n",
       "\n"
      ],
      "text/plain": [
       " [1]   0   9  10  11  12  13  14  15  17  18  19  20  21  25  27  30  34  45  51\n",
       "[20]  58  59  60  61 100 140 238 290"
      ]
     },
     "metadata": {},
     "output_type": "display_data"
    }
   ],
   "source": [
    "n_omit_col <- unique(diff_col_num)\n",
    "(n_omit_col <- n_omit_col[order(n_omit_col)])"
   ]
  },
  {
   "cell_type": "markdown",
   "metadata": {},
   "source": [
    "The best pixels configurations are the ones obtaining 0 (all colors are present)."
   ]
  },
  {
   "cell_type": "code",
   "execution_count": 44,
   "metadata": {},
   "outputs": [
    {
     "data": {
      "text/html": [
       "454"
      ],
      "text/latex": [
       "454"
      ],
      "text/markdown": [
       "454"
      ],
      "text/plain": [
       "[1] 454"
      ]
     },
     "metadata": {},
     "output_type": "display_data"
    }
   ],
   "source": [
    "# Number of best pixels configurations\n",
    "sum(diff_col_num==0)"
   ]
  },
  {
   "cell_type": "code",
   "execution_count": 45,
   "metadata": {},
   "outputs": [
    {
     "data": {
      "text/html": [
       "<strong>571:</strong> 0"
      ],
      "text/latex": [
       "\\textbf{571:} 0"
      ],
      "text/markdown": [
       "**571:** 0"
      ],
      "text/plain": [
       "571 \n",
       "  0 "
      ]
     },
     "metadata": {},
     "output_type": "display_data"
    }
   ],
   "source": [
    "diff_col_num[match(0, diff_col_num)]"
   ]
  },
  {
   "cell_type": "markdown",
   "metadata": {},
   "source": [
    "571x571 is the minimum number of pixels configuration to produce an RRGGBB matrix containing all colors."
   ]
  },
  {
   "cell_type": "code",
   "execution_count": 46,
   "metadata": {},
   "outputs": [
    {
     "data": {
      "text/html": [
       "<strong>175:</strong> 9"
      ],
      "text/latex": [
       "\\textbf{175:} 9"
      ],
      "text/markdown": [
       "**175:** 9"
      ],
      "text/plain": [
       "175 \n",
       "  9 "
      ]
     },
     "metadata": {},
     "output_type": "display_data"
    }
   ],
   "source": [
    "diff_col_num[match(n_omit_col[2], diff_col_num)]"
   ]
  },
  {
   "cell_type": "markdown",
   "metadata": {},
   "source": [
    "175x175 also produces a fairly decent result, as only 9 colors are omitted in the RRGGBB matrix. We now explore these 9 colors:"
   ]
  },
  {
   "cell_type": "code",
   "execution_count": 47,
   "metadata": {},
   "outputs": [],
   "source": [
    "diff_col <- setdiff(unique(df_res_pix$color), \n",
    "                    unique(as.character(generate_rrggbb_matrix(df_treemap = df_res_pix, n_width = 175, n_height = 175))))"
   ]
  },
  {
   "cell_type": "code",
   "execution_count": 48,
   "metadata": {},
   "outputs": [
    {
     "data": {
      "text/html": [
       "<table class=\"dataframe\">\n",
       "<caption>A data.frame: 9 × 13</caption>\n",
       "<thead>\n",
       "\t<tr><th></th><th scope=col>Functional.Annotation.Subgroup</th><th scope=col>Functional.Annotation</th><th scope=col>geneId</th><th scope=col>vSize</th><th scope=col>vColor</th><th scope=col>stdErr</th><th scope=col>vColorValue</th><th scope=col>level</th><th scope=col>x0</th><th scope=col>y0</th><th scope=col>w</th><th scope=col>h</th><th scope=col>color</th></tr>\n",
       "\t<tr><th></th><th scope=col>&lt;fct&gt;</th><th scope=col>&lt;fct&gt;</th><th scope=col>&lt;fct&gt;</th><th scope=col>&lt;dbl&gt;</th><th scope=col>&lt;fct&gt;</th><th scope=col>&lt;dbl&gt;</th><th scope=col>&lt;lgl&gt;</th><th scope=col>&lt;int&gt;</th><th scope=col>&lt;dbl&gt;</th><th scope=col>&lt;dbl&gt;</th><th scope=col>&lt;dbl&gt;</th><th scope=col>&lt;dbl&gt;</th><th scope=col>&lt;chr&gt;</th></tr>\n",
       "</thead>\n",
       "<tbody>\n",
       "\t<tr><th scope=row>17774</th><td>RNA family</td><td>Non-coding RNAs</td><td>ENSG00000138823.12</td><td>1</td><td>#998181</td><td>1</td><td>NA</td><td>3</td><td>0.00000000</td><td>0.99912</td><td>0.06408377</td><td>0.0008800235</td><td>#998181</td></tr>\n",
       "\t<tr><th scope=row>17779</th><td>RNA family</td><td>Non-coding RNAs</td><td>ENSG00000262074.6 </td><td>1</td><td>#54AEAE</td><td>1</td><td>NA</td><td>3</td><td>0.06408377</td><td>0.99912</td><td>0.06408377</td><td>0.0008800235</td><td>#54AEAE</td></tr>\n",
       "\t<tr><th scope=row>17781</th><td>RNA family</td><td>Non-coding RNAs</td><td>ENSG00000265185.5 </td><td>1</td><td>#54A5A5</td><td>1</td><td>NA</td><td>3</td><td>0.12816753</td><td>0.99912</td><td>0.06408377</td><td>0.0008800235</td><td>#54A5A5</td></tr>\n",
       "\t<tr><th scope=row>17778</th><td>RNA family</td><td>Non-coding RNAs</td><td>ENSG00000215417.10</td><td>1</td><td>#3AECEC</td><td>1</td><td>NA</td><td>3</td><td>0.19225130</td><td>0.99912</td><td>0.06408377</td><td>0.0008800235</td><td>#3AECEC</td></tr>\n",
       "\t<tr><th scope=row>17775</th><td>RNA family</td><td>Non-coding RNAs</td><td>ENSG00000200693.2 </td><td>1</td><td>#3F1515</td><td>1</td><td>NA</td><td>3</td><td>0.25633506</td><td>0.99912</td><td>0.06408377</td><td>0.0008800235</td><td>#3F1515</td></tr>\n",
       "\t<tr><th scope=row>17782</th><td>RNA family</td><td>Non-coding RNAs</td><td>ENSG00000277027.1 </td><td>1</td><td>#C32727</td><td>1</td><td>NA</td><td>3</td><td>0.32041883</td><td>0.99912</td><td>0.06408377</td><td>0.0008800235</td><td>#C32727</td></tr>\n",
       "\t<tr><th scope=row>17780</th><td>RNA family</td><td>Non-coding RNAs</td><td>ENSG00000263934.4 </td><td>1</td><td>#3F1E1E</td><td>1</td><td>NA</td><td>3</td><td>0.38450259</td><td>0.99912</td><td>0.06408377</td><td>0.0008800235</td><td>#3F1E1E</td></tr>\n",
       "\t<tr><th scope=row>17777</th><td>RNA family</td><td>Non-coding RNAs</td><td>ENSG00000211459.2 </td><td>1</td><td>#C84646</td><td>1</td><td>NA</td><td>3</td><td>0.44858636</td><td>0.99912</td><td>0.06408377</td><td>0.0008800235</td><td>#C84646</td></tr>\n",
       "\t<tr><th scope=row>17776</th><td>RNA family</td><td>Non-coding RNAs</td><td>ENSG00000210082.2 </td><td>1</td><td>#C84F4F</td><td>1</td><td>NA</td><td>3</td><td>0.51267013</td><td>0.99912</td><td>0.06408377</td><td>0.0008800235</td><td>#C84F4F</td></tr>\n",
       "</tbody>\n",
       "</table>\n"
      ],
      "text/latex": [
       "A data.frame: 9 × 13\n",
       "\\begin{tabular}{r|lllllllllllll}\n",
       "  & Functional.Annotation.Subgroup & Functional.Annotation & geneId & vSize & vColor & stdErr & vColorValue & level & x0 & y0 & w & h & color\\\\\n",
       "  & <fct> & <fct> & <fct> & <dbl> & <fct> & <dbl> & <lgl> & <int> & <dbl> & <dbl> & <dbl> & <dbl> & <chr>\\\\\n",
       "\\hline\n",
       "\t17774 & RNA family & Non-coding RNAs & ENSG00000138823.12 & 1 & \\#998181 & 1 & NA & 3 & 0.00000000 & 0.99912 & 0.06408377 & 0.0008800235 & \\#998181\\\\\n",
       "\t17779 & RNA family & Non-coding RNAs & ENSG00000262074.6  & 1 & \\#54AEAE & 1 & NA & 3 & 0.06408377 & 0.99912 & 0.06408377 & 0.0008800235 & \\#54AEAE\\\\\n",
       "\t17781 & RNA family & Non-coding RNAs & ENSG00000265185.5  & 1 & \\#54A5A5 & 1 & NA & 3 & 0.12816753 & 0.99912 & 0.06408377 & 0.0008800235 & \\#54A5A5\\\\\n",
       "\t17778 & RNA family & Non-coding RNAs & ENSG00000215417.10 & 1 & \\#3AECEC & 1 & NA & 3 & 0.19225130 & 0.99912 & 0.06408377 & 0.0008800235 & \\#3AECEC\\\\\n",
       "\t17775 & RNA family & Non-coding RNAs & ENSG00000200693.2  & 1 & \\#3F1515 & 1 & NA & 3 & 0.25633506 & 0.99912 & 0.06408377 & 0.0008800235 & \\#3F1515\\\\\n",
       "\t17782 & RNA family & Non-coding RNAs & ENSG00000277027.1  & 1 & \\#C32727 & 1 & NA & 3 & 0.32041883 & 0.99912 & 0.06408377 & 0.0008800235 & \\#C32727\\\\\n",
       "\t17780 & RNA family & Non-coding RNAs & ENSG00000263934.4  & 1 & \\#3F1E1E & 1 & NA & 3 & 0.38450259 & 0.99912 & 0.06408377 & 0.0008800235 & \\#3F1E1E\\\\\n",
       "\t17777 & RNA family & Non-coding RNAs & ENSG00000211459.2  & 1 & \\#C84646 & 1 & NA & 3 & 0.44858636 & 0.99912 & 0.06408377 & 0.0008800235 & \\#C84646\\\\\n",
       "\t17776 & RNA family & Non-coding RNAs & ENSG00000210082.2  & 1 & \\#C84F4F & 1 & NA & 3 & 0.51267013 & 0.99912 & 0.06408377 & 0.0008800235 & \\#C84F4F\\\\\n",
       "\\end{tabular}\n"
      ],
      "text/markdown": [
       "\n",
       "A data.frame: 9 × 13\n",
       "\n",
       "| <!--/--> | Functional.Annotation.Subgroup &lt;fct&gt; | Functional.Annotation &lt;fct&gt; | geneId &lt;fct&gt; | vSize &lt;dbl&gt; | vColor &lt;fct&gt; | stdErr &lt;dbl&gt; | vColorValue &lt;lgl&gt; | level &lt;int&gt; | x0 &lt;dbl&gt; | y0 &lt;dbl&gt; | w &lt;dbl&gt; | h &lt;dbl&gt; | color &lt;chr&gt; |\n",
       "|---|---|---|---|---|---|---|---|---|---|---|---|---|---|\n",
       "| 17774 | RNA family | Non-coding RNAs | ENSG00000138823.12 | 1 | #998181 | 1 | NA | 3 | 0.00000000 | 0.99912 | 0.06408377 | 0.0008800235 | #998181 |\n",
       "| 17779 | RNA family | Non-coding RNAs | ENSG00000262074.6  | 1 | #54AEAE | 1 | NA | 3 | 0.06408377 | 0.99912 | 0.06408377 | 0.0008800235 | #54AEAE |\n",
       "| 17781 | RNA family | Non-coding RNAs | ENSG00000265185.5  | 1 | #54A5A5 | 1 | NA | 3 | 0.12816753 | 0.99912 | 0.06408377 | 0.0008800235 | #54A5A5 |\n",
       "| 17778 | RNA family | Non-coding RNAs | ENSG00000215417.10 | 1 | #3AECEC | 1 | NA | 3 | 0.19225130 | 0.99912 | 0.06408377 | 0.0008800235 | #3AECEC |\n",
       "| 17775 | RNA family | Non-coding RNAs | ENSG00000200693.2  | 1 | #3F1515 | 1 | NA | 3 | 0.25633506 | 0.99912 | 0.06408377 | 0.0008800235 | #3F1515 |\n",
       "| 17782 | RNA family | Non-coding RNAs | ENSG00000277027.1  | 1 | #C32727 | 1 | NA | 3 | 0.32041883 | 0.99912 | 0.06408377 | 0.0008800235 | #C32727 |\n",
       "| 17780 | RNA family | Non-coding RNAs | ENSG00000263934.4  | 1 | #3F1E1E | 1 | NA | 3 | 0.38450259 | 0.99912 | 0.06408377 | 0.0008800235 | #3F1E1E |\n",
       "| 17777 | RNA family | Non-coding RNAs | ENSG00000211459.2  | 1 | #C84646 | 1 | NA | 3 | 0.44858636 | 0.99912 | 0.06408377 | 0.0008800235 | #C84646 |\n",
       "| 17776 | RNA family | Non-coding RNAs | ENSG00000210082.2  | 1 | #C84F4F | 1 | NA | 3 | 0.51267013 | 0.99912 | 0.06408377 | 0.0008800235 | #C84F4F |\n",
       "\n"
      ],
      "text/plain": [
       "      Functional.Annotation.Subgroup Functional.Annotation geneId            \n",
       "17774 RNA family                     Non-coding RNAs       ENSG00000138823.12\n",
       "17779 RNA family                     Non-coding RNAs       ENSG00000262074.6 \n",
       "17781 RNA family                     Non-coding RNAs       ENSG00000265185.5 \n",
       "17778 RNA family                     Non-coding RNAs       ENSG00000215417.10\n",
       "17775 RNA family                     Non-coding RNAs       ENSG00000200693.2 \n",
       "17782 RNA family                     Non-coding RNAs       ENSG00000277027.1 \n",
       "17780 RNA family                     Non-coding RNAs       ENSG00000263934.4 \n",
       "17777 RNA family                     Non-coding RNAs       ENSG00000211459.2 \n",
       "17776 RNA family                     Non-coding RNAs       ENSG00000210082.2 \n",
       "      vSize vColor  stdErr vColorValue level x0         y0      w         \n",
       "17774 1     #998181 1      NA          3     0.00000000 0.99912 0.06408377\n",
       "17779 1     #54AEAE 1      NA          3     0.06408377 0.99912 0.06408377\n",
       "17781 1     #54A5A5 1      NA          3     0.12816753 0.99912 0.06408377\n",
       "17778 1     #3AECEC 1      NA          3     0.19225130 0.99912 0.06408377\n",
       "17775 1     #3F1515 1      NA          3     0.25633506 0.99912 0.06408377\n",
       "17782 1     #C32727 1      NA          3     0.32041883 0.99912 0.06408377\n",
       "17780 1     #3F1E1E 1      NA          3     0.38450259 0.99912 0.06408377\n",
       "17777 1     #C84646 1      NA          3     0.44858636 0.99912 0.06408377\n",
       "17776 1     #C84F4F 1      NA          3     0.51267013 0.99912 0.06408377\n",
       "      h            color  \n",
       "17774 0.0008800235 #998181\n",
       "17779 0.0008800235 #54AEAE\n",
       "17781 0.0008800235 #54A5A5\n",
       "17778 0.0008800235 #3AECEC\n",
       "17775 0.0008800235 #3F1515\n",
       "17782 0.0008800235 #C32727\n",
       "17780 0.0008800235 #3F1E1E\n",
       "17777 0.0008800235 #C84646\n",
       "17776 0.0008800235 #C84F4F"
      ]
     },
     "metadata": {},
     "output_type": "display_data"
    }
   ],
   "source": [
    "df_res_pix[df_res_pix$color %in% diff_col, ]"
   ]
  },
  {
   "cell_type": "code",
   "execution_count": 49,
   "metadata": {},
   "outputs": [
    {
     "data": {
      "text/html": [
       "TRUE"
      ],
      "text/latex": [
       "TRUE"
      ],
      "text/markdown": [
       "TRUE"
      ],
      "text/plain": [
       "[1] TRUE"
      ]
     },
     "metadata": {},
     "output_type": "display_data"
    }
   ],
   "source": [
    "# Check if the 9 colors represent the uppermost gene occurrences of the treemap\n",
    "# Omit vColorValue colummn in the data frames comparison\n",
    "all(df_res_pix[(nrow(df_res_pix)-8):nrow(df_res_pix), ][, -7] == df_res_pix[df_res_pix$color %in% diff_col, ][, -7])"
   ]
  },
  {
   "cell_type": "markdown",
   "metadata": {},
   "source": [
    "Interestingly, the 9 colors occupy the uppermost row of the RRGGBB matrix (last 9 rows of the sorted `df_res_pix` data frame). Indeed, it is an unusual row, as it contains only 9 elements, which are the ones having the greatest width and lowest height among all treemap elements:"
   ]
  },
  {
   "cell_type": "code",
   "execution_count": 50,
   "metadata": {},
   "outputs": [
    {
     "data": {
      "text/html": [
       "17724"
      ],
      "text/latex": [
       "17724"
      ],
      "text/markdown": [
       "17724"
      ],
      "text/plain": [
       "[1] 17724"
      ]
     },
     "metadata": {},
     "output_type": "display_data"
    },
    {
     "data": {
      "text/html": [
       "17731"
      ],
      "text/latex": [
       "17731"
      ],
      "text/markdown": [
       "17731"
      ],
      "text/plain": [
       "[1] 17731"
      ]
     },
     "metadata": {},
     "output_type": "display_data"
    }
   ],
   "source": [
    "which.min(df_res_pix$h)\n",
    "which.max(df_res_pix$w)"
   ]
  },
  {
   "cell_type": "code",
   "execution_count": 51,
   "metadata": {},
   "outputs": [
    {
     "data": {
      "text/html": [
       "<table class=\"dataframe\">\n",
       "<caption>A data.frame: 9 × 7</caption>\n",
       "<thead>\n",
       "\t<tr><th></th><th scope=col>Functional.Annotation.Subgroup</th><th scope=col>Functional.Annotation</th><th scope=col>geneId</th><th scope=col>x0</th><th scope=col>y0</th><th scope=col>w</th><th scope=col>h</th></tr>\n",
       "\t<tr><th></th><th scope=col>&lt;fct&gt;</th><th scope=col>&lt;fct&gt;</th><th scope=col>&lt;fct&gt;</th><th scope=col>&lt;dbl&gt;</th><th scope=col>&lt;dbl&gt;</th><th scope=col>&lt;dbl&gt;</th><th scope=col>&lt;dbl&gt;</th></tr>\n",
       "</thead>\n",
       "<tbody>\n",
       "\t<tr><th scope=row>17774</th><td>RNA family</td><td>Non-coding RNAs</td><td>ENSG00000138823.12</td><td>0.00000000</td><td>0.99912</td><td>0.06408377</td><td>0.0008800235</td></tr>\n",
       "\t<tr><th scope=row>17779</th><td>RNA family</td><td>Non-coding RNAs</td><td>ENSG00000262074.6 </td><td>0.06408377</td><td>0.99912</td><td>0.06408377</td><td>0.0008800235</td></tr>\n",
       "\t<tr><th scope=row>17781</th><td>RNA family</td><td>Non-coding RNAs</td><td>ENSG00000265185.5 </td><td>0.12816753</td><td>0.99912</td><td>0.06408377</td><td>0.0008800235</td></tr>\n",
       "\t<tr><th scope=row>17778</th><td>RNA family</td><td>Non-coding RNAs</td><td>ENSG00000215417.10</td><td>0.19225130</td><td>0.99912</td><td>0.06408377</td><td>0.0008800235</td></tr>\n",
       "\t<tr><th scope=row>17775</th><td>RNA family</td><td>Non-coding RNAs</td><td>ENSG00000200693.2 </td><td>0.25633506</td><td>0.99912</td><td>0.06408377</td><td>0.0008800235</td></tr>\n",
       "\t<tr><th scope=row>17782</th><td>RNA family</td><td>Non-coding RNAs</td><td>ENSG00000277027.1 </td><td>0.32041883</td><td>0.99912</td><td>0.06408377</td><td>0.0008800235</td></tr>\n",
       "\t<tr><th scope=row>17780</th><td>RNA family</td><td>Non-coding RNAs</td><td>ENSG00000263934.4 </td><td>0.38450259</td><td>0.99912</td><td>0.06408377</td><td>0.0008800235</td></tr>\n",
       "\t<tr><th scope=row>17777</th><td>RNA family</td><td>Non-coding RNAs</td><td>ENSG00000211459.2 </td><td>0.44858636</td><td>0.99912</td><td>0.06408377</td><td>0.0008800235</td></tr>\n",
       "\t<tr><th scope=row>17776</th><td>RNA family</td><td>Non-coding RNAs</td><td>ENSG00000210082.2 </td><td>0.51267013</td><td>0.99912</td><td>0.06408377</td><td>0.0008800235</td></tr>\n",
       "</tbody>\n",
       "</table>\n"
      ],
      "text/latex": [
       "A data.frame: 9 × 7\n",
       "\\begin{tabular}{r|lllllll}\n",
       "  & Functional.Annotation.Subgroup & Functional.Annotation & geneId & x0 & y0 & w & h\\\\\n",
       "  & <fct> & <fct> & <fct> & <dbl> & <dbl> & <dbl> & <dbl>\\\\\n",
       "\\hline\n",
       "\t17774 & RNA family & Non-coding RNAs & ENSG00000138823.12 & 0.00000000 & 0.99912 & 0.06408377 & 0.0008800235\\\\\n",
       "\t17779 & RNA family & Non-coding RNAs & ENSG00000262074.6  & 0.06408377 & 0.99912 & 0.06408377 & 0.0008800235\\\\\n",
       "\t17781 & RNA family & Non-coding RNAs & ENSG00000265185.5  & 0.12816753 & 0.99912 & 0.06408377 & 0.0008800235\\\\\n",
       "\t17778 & RNA family & Non-coding RNAs & ENSG00000215417.10 & 0.19225130 & 0.99912 & 0.06408377 & 0.0008800235\\\\\n",
       "\t17775 & RNA family & Non-coding RNAs & ENSG00000200693.2  & 0.25633506 & 0.99912 & 0.06408377 & 0.0008800235\\\\\n",
       "\t17782 & RNA family & Non-coding RNAs & ENSG00000277027.1  & 0.32041883 & 0.99912 & 0.06408377 & 0.0008800235\\\\\n",
       "\t17780 & RNA family & Non-coding RNAs & ENSG00000263934.4  & 0.38450259 & 0.99912 & 0.06408377 & 0.0008800235\\\\\n",
       "\t17777 & RNA family & Non-coding RNAs & ENSG00000211459.2  & 0.44858636 & 0.99912 & 0.06408377 & 0.0008800235\\\\\n",
       "\t17776 & RNA family & Non-coding RNAs & ENSG00000210082.2  & 0.51267013 & 0.99912 & 0.06408377 & 0.0008800235\\\\\n",
       "\\end{tabular}\n"
      ],
      "text/markdown": [
       "\n",
       "A data.frame: 9 × 7\n",
       "\n",
       "| <!--/--> | Functional.Annotation.Subgroup &lt;fct&gt; | Functional.Annotation &lt;fct&gt; | geneId &lt;fct&gt; | x0 &lt;dbl&gt; | y0 &lt;dbl&gt; | w &lt;dbl&gt; | h &lt;dbl&gt; |\n",
       "|---|---|---|---|---|---|---|---|\n",
       "| 17774 | RNA family | Non-coding RNAs | ENSG00000138823.12 | 0.00000000 | 0.99912 | 0.06408377 | 0.0008800235 |\n",
       "| 17779 | RNA family | Non-coding RNAs | ENSG00000262074.6  | 0.06408377 | 0.99912 | 0.06408377 | 0.0008800235 |\n",
       "| 17781 | RNA family | Non-coding RNAs | ENSG00000265185.5  | 0.12816753 | 0.99912 | 0.06408377 | 0.0008800235 |\n",
       "| 17778 | RNA family | Non-coding RNAs | ENSG00000215417.10 | 0.19225130 | 0.99912 | 0.06408377 | 0.0008800235 |\n",
       "| 17775 | RNA family | Non-coding RNAs | ENSG00000200693.2  | 0.25633506 | 0.99912 | 0.06408377 | 0.0008800235 |\n",
       "| 17782 | RNA family | Non-coding RNAs | ENSG00000277027.1  | 0.32041883 | 0.99912 | 0.06408377 | 0.0008800235 |\n",
       "| 17780 | RNA family | Non-coding RNAs | ENSG00000263934.4  | 0.38450259 | 0.99912 | 0.06408377 | 0.0008800235 |\n",
       "| 17777 | RNA family | Non-coding RNAs | ENSG00000211459.2  | 0.44858636 | 0.99912 | 0.06408377 | 0.0008800235 |\n",
       "| 17776 | RNA family | Non-coding RNAs | ENSG00000210082.2  | 0.51267013 | 0.99912 | 0.06408377 | 0.0008800235 |\n",
       "\n"
      ],
      "text/plain": [
       "      Functional.Annotation.Subgroup Functional.Annotation geneId            \n",
       "17774 RNA family                     Non-coding RNAs       ENSG00000138823.12\n",
       "17779 RNA family                     Non-coding RNAs       ENSG00000262074.6 \n",
       "17781 RNA family                     Non-coding RNAs       ENSG00000265185.5 \n",
       "17778 RNA family                     Non-coding RNAs       ENSG00000215417.10\n",
       "17775 RNA family                     Non-coding RNAs       ENSG00000200693.2 \n",
       "17782 RNA family                     Non-coding RNAs       ENSG00000277027.1 \n",
       "17780 RNA family                     Non-coding RNAs       ENSG00000263934.4 \n",
       "17777 RNA family                     Non-coding RNAs       ENSG00000211459.2 \n",
       "17776 RNA family                     Non-coding RNAs       ENSG00000210082.2 \n",
       "      x0         y0      w          h           \n",
       "17774 0.00000000 0.99912 0.06408377 0.0008800235\n",
       "17779 0.06408377 0.99912 0.06408377 0.0008800235\n",
       "17781 0.12816753 0.99912 0.06408377 0.0008800235\n",
       "17778 0.19225130 0.99912 0.06408377 0.0008800235\n",
       "17775 0.25633506 0.99912 0.06408377 0.0008800235\n",
       "17782 0.32041883 0.99912 0.06408377 0.0008800235\n",
       "17780 0.38450259 0.99912 0.06408377 0.0008800235\n",
       "17777 0.44858636 0.99912 0.06408377 0.0008800235\n",
       "17776 0.51267013 0.99912 0.06408377 0.0008800235"
      ]
     },
     "metadata": {},
     "output_type": "display_data"
    }
   ],
   "source": [
    "df_res_pix[17724:17732, c(1:3, 9:12)]"
   ]
  },
  {
   "cell_type": "markdown",
   "metadata": {},
   "source": [
    "Also, they represent all elements from the *RNA family* subgroup (9 elements), which are annotated as *Non-coding RNAs* (9 elements):"
   ]
  },
  {
   "cell_type": "code",
   "execution_count": 52,
   "metadata": {},
   "outputs": [
    {
     "data": {
      "text/html": [
       "<strong>RNA family:</strong> 9"
      ],
      "text/latex": [
       "\\textbf{RNA family:} 9"
      ],
      "text/markdown": [
       "**RNA family:** 9"
      ],
      "text/plain": [
       "RNA family \n",
       "         9 "
      ]
     },
     "metadata": {},
     "output_type": "display_data"
    }
   ],
   "source": [
    "table(df_res_pix$Functional.Annotation.Subgroup)[\"RNA family\"]"
   ]
  },
  {
   "cell_type": "code",
   "execution_count": 53,
   "metadata": {},
   "outputs": [
    {
     "data": {
      "text/html": [
       "<strong>Non-coding RNAs:</strong> 9"
      ],
      "text/latex": [
       "\\textbf{Non-coding RNAs:} 9"
      ],
      "text/markdown": [
       "**Non-coding RNAs:** 9"
      ],
      "text/plain": [
       "Non-coding RNAs \n",
       "              9 "
      ]
     },
     "metadata": {},
     "output_type": "display_data"
    }
   ],
   "source": [
    "table(df_res_pix$Functional.Annotation)[\"Non-coding RNAs\"]"
   ]
  },
  {
   "cell_type": "markdown",
   "metadata": {},
   "source": [
    "The genes represented by the 9 colors, belong to more than one subgroup:"
   ]
  },
  {
   "cell_type": "code",
   "execution_count": 54,
   "metadata": {},
   "outputs": [
    {
     "data": {
      "text/plain": [
       "\n",
       "ENSG00000138823.12  ENSG00000262074.6  ENSG00000265185.5 ENSG00000215417.10 \n",
       "                 2                  3                  3                  3 \n",
       " ENSG00000200693.2  ENSG00000277027.1  ENSG00000263934.4  ENSG00000211459.2 \n",
       "                 3                  3                  3                  3 \n",
       " ENSG00000210082.2 \n",
       "                 3 "
      ]
     },
     "metadata": {},
     "output_type": "display_data"
    }
   ],
   "source": [
    "table(df_res_pix[, \"geneId\"])[df_res_pix[17724:17732, \"geneId\"]]"
   ]
  },
  {
   "cell_type": "markdown",
   "metadata": {},
   "source": [
    "#### Matrix elements area\n",
    "\n",
    "In order to select the optimum filter size when applying the CNN model, it would be beneficial to study the distribution of the areas, widths and heights of the rectangular elements in the RRGGBB matrix, using the best pixels configurations previously found. Pixels configurations producing images where all gene occurrences occupy similar rectangular areas are preferred."
   ]
  },
  {
   "cell_type": "markdown",
   "metadata": {},
   "source": [
    "##### 571x571 pixels"
   ]
  },
  {
   "cell_type": "code",
   "execution_count": 55,
   "metadata": {},
   "outputs": [],
   "source": [
    "# Using 571x571 pixels (all colors present)\n",
    "kegg_mat <- generate_rrggbb_matrix(df_treemap = df_res_pix, n_width = 571, n_height = 571)"
   ]
  },
  {
   "cell_type": "code",
   "execution_count": 56,
   "metadata": {},
   "outputs": [
    {
     "data": {
      "text/html": [
       "<table class=\"dataframe\">\n",
       "<caption>A matrix: 6 × 571 of type chr</caption>\n",
       "<tbody>\n",
       "\t<tr><td>#998181</td><td>#998181</td><td>#998181</td><td>#998181</td><td>#998181</td><td>#998181</td><td>#998181</td><td>#998181</td><td>#998181</td><td>#998181</td><td>⋯</td><td>#5F0101</td><td>#CCDBDB</td><td>#CCDBDB</td><td>#CCDBDB</td><td>#CCDBDB</td><td>#CCDBDB</td><td>#459999</td><td>#459999</td><td>#459999</td><td>#459999</td></tr>\n",
       "\t<tr><td>#906C6C</td><td>#906C6C</td><td>#906C6C</td><td>#906C6C</td><td>#1AACAC</td><td>#1AACAC</td><td>#1AACAC</td><td>#1AACAC</td><td>#1AACAC</td><td>#1EB1B1</td><td>⋯</td><td>#5F0101</td><td>#CCDBDB</td><td>#CCDBDB</td><td>#CCDBDB</td><td>#CCDBDB</td><td>#CCDBDB</td><td>#459999</td><td>#459999</td><td>#459999</td><td>#459999</td></tr>\n",
       "\t<tr><td>#906C6C</td><td>#906C6C</td><td>#906C6C</td><td>#906C6C</td><td>#1AACAC</td><td>#1AACAC</td><td>#1AACAC</td><td>#1AACAC</td><td>#1AACAC</td><td>#1EB1B1</td><td>⋯</td><td>#5F0101</td><td>#CCDBDB</td><td>#CCDBDB</td><td>#CCDBDB</td><td>#CCDBDB</td><td>#CCDBDB</td><td>#459999</td><td>#459999</td><td>#459999</td><td>#459999</td></tr>\n",
       "\t<tr><td>#906C6C</td><td>#906C6C</td><td>#906C6C</td><td>#906C6C</td><td>#1AACAC</td><td>#1AACAC</td><td>#1AACAC</td><td>#1AACAC</td><td>#1AACAC</td><td>#1EB1B1</td><td>⋯</td><td>#5F0101</td><td>#CCDBDB</td><td>#CCDBDB</td><td>#CCDBDB</td><td>#CCDBDB</td><td>#CCDBDB</td><td>#459999</td><td>#459999</td><td>#459999</td><td>#459999</td></tr>\n",
       "\t<tr><td>#906C6C</td><td>#906C6C</td><td>#906C6C</td><td>#906C6C</td><td>#1AACAC</td><td>#1AACAC</td><td>#1AACAC</td><td>#1AACAC</td><td>#1AACAC</td><td>#1EB1B1</td><td>⋯</td><td>#8E5656</td><td>#607878</td><td>#607878</td><td>#607878</td><td>#607878</td><td>#607878</td><td>#B8A7A7</td><td>#B8A7A7</td><td>#B8A7A7</td><td>#B8A7A7</td></tr>\n",
       "\t<tr><td>#5C1616</td><td>#5C1616</td><td>#5C1616</td><td>#5C1616</td><td>#651F1F</td><td>#651F1F</td><td>#651F1F</td><td>#651F1F</td><td>#651F1F</td><td>#9BCDCD</td><td>⋯</td><td>#8E5656</td><td>#607878</td><td>#607878</td><td>#607878</td><td>#607878</td><td>#607878</td><td>#B8A7A7</td><td>#B8A7A7</td><td>#B8A7A7</td><td>#B8A7A7</td></tr>\n",
       "</tbody>\n",
       "</table>\n"
      ],
      "text/latex": [
       "A matrix: 6 × 571 of type chr\n",
       "\\begin{tabular}{lllllllllllllllllllll}\n",
       "\t \\#998181 & \\#998181 & \\#998181 & \\#998181 & \\#998181 & \\#998181 & \\#998181 & \\#998181 & \\#998181 & \\#998181 & ⋯ & \\#5F0101 & \\#CCDBDB & \\#CCDBDB & \\#CCDBDB & \\#CCDBDB & \\#CCDBDB & \\#459999 & \\#459999 & \\#459999 & \\#459999\\\\\n",
       "\t \\#906C6C & \\#906C6C & \\#906C6C & \\#906C6C & \\#1AACAC & \\#1AACAC & \\#1AACAC & \\#1AACAC & \\#1AACAC & \\#1EB1B1 & ⋯ & \\#5F0101 & \\#CCDBDB & \\#CCDBDB & \\#CCDBDB & \\#CCDBDB & \\#CCDBDB & \\#459999 & \\#459999 & \\#459999 & \\#459999\\\\\n",
       "\t \\#906C6C & \\#906C6C & \\#906C6C & \\#906C6C & \\#1AACAC & \\#1AACAC & \\#1AACAC & \\#1AACAC & \\#1AACAC & \\#1EB1B1 & ⋯ & \\#5F0101 & \\#CCDBDB & \\#CCDBDB & \\#CCDBDB & \\#CCDBDB & \\#CCDBDB & \\#459999 & \\#459999 & \\#459999 & \\#459999\\\\\n",
       "\t \\#906C6C & \\#906C6C & \\#906C6C & \\#906C6C & \\#1AACAC & \\#1AACAC & \\#1AACAC & \\#1AACAC & \\#1AACAC & \\#1EB1B1 & ⋯ & \\#5F0101 & \\#CCDBDB & \\#CCDBDB & \\#CCDBDB & \\#CCDBDB & \\#CCDBDB & \\#459999 & \\#459999 & \\#459999 & \\#459999\\\\\n",
       "\t \\#906C6C & \\#906C6C & \\#906C6C & \\#906C6C & \\#1AACAC & \\#1AACAC & \\#1AACAC & \\#1AACAC & \\#1AACAC & \\#1EB1B1 & ⋯ & \\#8E5656 & \\#607878 & \\#607878 & \\#607878 & \\#607878 & \\#607878 & \\#B8A7A7 & \\#B8A7A7 & \\#B8A7A7 & \\#B8A7A7\\\\\n",
       "\t \\#5C1616 & \\#5C1616 & \\#5C1616 & \\#5C1616 & \\#651F1F & \\#651F1F & \\#651F1F & \\#651F1F & \\#651F1F & \\#9BCDCD & ⋯ & \\#8E5656 & \\#607878 & \\#607878 & \\#607878 & \\#607878 & \\#607878 & \\#B8A7A7 & \\#B8A7A7 & \\#B8A7A7 & \\#B8A7A7\\\\\n",
       "\\end{tabular}\n"
      ],
      "text/markdown": [
       "\n",
       "A matrix: 6 × 571 of type chr\n",
       "\n",
       "| #998181 | #998181 | #998181 | #998181 | #998181 | #998181 | #998181 | #998181 | #998181 | #998181 | ⋯ | #5F0101 | #CCDBDB | #CCDBDB | #CCDBDB | #CCDBDB | #CCDBDB | #459999 | #459999 | #459999 | #459999 |\n",
       "| #906C6C | #906C6C | #906C6C | #906C6C | #1AACAC | #1AACAC | #1AACAC | #1AACAC | #1AACAC | #1EB1B1 | ⋯ | #5F0101 | #CCDBDB | #CCDBDB | #CCDBDB | #CCDBDB | #CCDBDB | #459999 | #459999 | #459999 | #459999 |\n",
       "| #906C6C | #906C6C | #906C6C | #906C6C | #1AACAC | #1AACAC | #1AACAC | #1AACAC | #1AACAC | #1EB1B1 | ⋯ | #5F0101 | #CCDBDB | #CCDBDB | #CCDBDB | #CCDBDB | #CCDBDB | #459999 | #459999 | #459999 | #459999 |\n",
       "| #906C6C | #906C6C | #906C6C | #906C6C | #1AACAC | #1AACAC | #1AACAC | #1AACAC | #1AACAC | #1EB1B1 | ⋯ | #5F0101 | #CCDBDB | #CCDBDB | #CCDBDB | #CCDBDB | #CCDBDB | #459999 | #459999 | #459999 | #459999 |\n",
       "| #906C6C | #906C6C | #906C6C | #906C6C | #1AACAC | #1AACAC | #1AACAC | #1AACAC | #1AACAC | #1EB1B1 | ⋯ | #8E5656 | #607878 | #607878 | #607878 | #607878 | #607878 | #B8A7A7 | #B8A7A7 | #B8A7A7 | #B8A7A7 |\n",
       "| #5C1616 | #5C1616 | #5C1616 | #5C1616 | #651F1F | #651F1F | #651F1F | #651F1F | #651F1F | #9BCDCD | ⋯ | #8E5656 | #607878 | #607878 | #607878 | #607878 | #607878 | #B8A7A7 | #B8A7A7 | #B8A7A7 | #B8A7A7 |\n",
       "\n"
      ],
      "text/plain": [
       "     [,1]    [,2]    [,3]    [,4]    [,5]    [,6]    [,7]    [,8]    [,9]   \n",
       "[1,] #998181 #998181 #998181 #998181 #998181 #998181 #998181 #998181 #998181\n",
       "[2,] #906C6C #906C6C #906C6C #906C6C #1AACAC #1AACAC #1AACAC #1AACAC #1AACAC\n",
       "[3,] #906C6C #906C6C #906C6C #906C6C #1AACAC #1AACAC #1AACAC #1AACAC #1AACAC\n",
       "[4,] #906C6C #906C6C #906C6C #906C6C #1AACAC #1AACAC #1AACAC #1AACAC #1AACAC\n",
       "[5,] #906C6C #906C6C #906C6C #906C6C #1AACAC #1AACAC #1AACAC #1AACAC #1AACAC\n",
       "[6,] #5C1616 #5C1616 #5C1616 #5C1616 #651F1F #651F1F #651F1F #651F1F #651F1F\n",
       "     [,10]   [,11] [,12]   [,13]   [,14]   [,15]   [,16]   [,17]   [,18]  \n",
       "[1,] #998181 ⋯     #5F0101 #CCDBDB #CCDBDB #CCDBDB #CCDBDB #CCDBDB #459999\n",
       "[2,] #1EB1B1 ⋯     #5F0101 #CCDBDB #CCDBDB #CCDBDB #CCDBDB #CCDBDB #459999\n",
       "[3,] #1EB1B1 ⋯     #5F0101 #CCDBDB #CCDBDB #CCDBDB #CCDBDB #CCDBDB #459999\n",
       "[4,] #1EB1B1 ⋯     #5F0101 #CCDBDB #CCDBDB #CCDBDB #CCDBDB #CCDBDB #459999\n",
       "[5,] #1EB1B1 ⋯     #8E5656 #607878 #607878 #607878 #607878 #607878 #B8A7A7\n",
       "[6,] #9BCDCD ⋯     #8E5656 #607878 #607878 #607878 #607878 #607878 #B8A7A7\n",
       "     [,19]   [,20]   [,21]  \n",
       "[1,] #459999 #459999 #459999\n",
       "[2,] #459999 #459999 #459999\n",
       "[3,] #459999 #459999 #459999\n",
       "[4,] #459999 #459999 #459999\n",
       "[5,] #B8A7A7 #B8A7A7 #B8A7A7\n",
       "[6,] #B8A7A7 #B8A7A7 #B8A7A7"
      ]
     },
     "metadata": {},
     "output_type": "display_data"
    }
   ],
   "source": [
    "head(kegg_mat)"
   ]
  },
  {
   "cell_type": "code",
   "execution_count": 57,
   "metadata": {},
   "outputs": [
    {
     "data": {
      "text/html": [
       "17733"
      ],
      "text/latex": [
       "17733"
      ],
      "text/markdown": [
       "17733"
      ],
      "text/plain": [
       "[1] 17733"
      ]
     },
     "metadata": {},
     "output_type": "display_data"
    }
   ],
   "source": [
    "length(unique(as.character(kegg_mat)))"
   ]
  },
  {
   "cell_type": "markdown",
   "metadata": {},
   "source": [
    "The RRGGBB matrix contains one extra color, which represents the white background of the PNG image (#FFFFFF):"
   ]
  },
  {
   "cell_type": "code",
   "execution_count": 58,
   "metadata": {},
   "outputs": [
    {
     "data": {
      "text/html": [
       "'#FFFFFF'"
      ],
      "text/latex": [
       "'\\#FFFFFF'"
      ],
      "text/markdown": [
       "'#FFFFFF'"
      ],
      "text/plain": [
       "[1] \"#FFFFFF\""
      ]
     },
     "metadata": {},
     "output_type": "display_data"
    }
   ],
   "source": [
    "setdiff(unique(as.character(kegg_mat)), unique(as.character(df_res_pix$color)))"
   ]
  },
  {
   "cell_type": "code",
   "execution_count": 59,
   "metadata": {},
   "outputs": [],
   "source": [
    "start.time <- Sys.time()\n",
    "\n",
    "df_mat_area <- data.frame(color = character(), area = integer(), width = integer(), height = integer(), \n",
    "                          stringsAsFactors = FALSE)\n",
    "\n",
    "for (c in unique(as.character(kegg_mat))) {\n",
    "    col_pos <- which(kegg_mat==c, arr.ind = TRUE)\n",
    "    # Actual area\n",
    "    act_a <- nrow(col_pos)\n",
    "    # Rectangular width\n",
    "    rect_w <- max(col_pos[, \"col\"]) - min(col_pos[, \"col\"]) + 1\n",
    "    # Rectangular height\n",
    "    rect_h <- max(col_pos[, \"row\"]) - min(col_pos[, \"row\"]) + 1\n",
    "    # Rectangular area\n",
    "    rect_a <- rect_w*rect_h\n",
    "    # Only append rectangular weight and height if rectangular area is the actual area\n",
    "    new_row <- list(c, act_a, rect_w, rect_h)\n",
    "    if(rect_a != act_a) {\n",
    "        new_row[[3]] <- NA\n",
    "        new_row[[4]] <- NA\n",
    "    }\n",
    "    df_mat_area[nrow(df_mat_area) + 1, ] <- new_row\n",
    "}\n",
    "\n",
    "end.time <- Sys.time()"
   ]
  },
  {
   "cell_type": "code",
   "execution_count": 60,
   "metadata": {},
   "outputs": [
    {
     "data": {
      "text/plain": [
       "Time difference of 25.24257 secs"
      ]
     },
     "metadata": {},
     "output_type": "display_data"
    }
   ],
   "source": [
    "end.time - start.time"
   ]
  },
  {
   "cell_type": "code",
   "execution_count": 61,
   "metadata": {},
   "outputs": [
    {
     "data": {
      "text/html": [
       "17733"
      ],
      "text/latex": [
       "17733"
      ],
      "text/markdown": [
       "17733"
      ],
      "text/plain": [
       "[1] 17733"
      ]
     },
     "metadata": {},
     "output_type": "display_data"
    }
   ],
   "source": [
    "# One row for each color element\n",
    "nrow(df_mat_area)"
   ]
  },
  {
   "cell_type": "code",
   "execution_count": 62,
   "metadata": {},
   "outputs": [
    {
     "data": {
      "text/html": [
       "<table class=\"dataframe\">\n",
       "<caption>A data.frame: 6 × 4</caption>\n",
       "<thead>\n",
       "\t<tr><th></th><th scope=col>color</th><th scope=col>area</th><th scope=col>width</th><th scope=col>height</th></tr>\n",
       "\t<tr><th></th><th scope=col>&lt;chr&gt;</th><th scope=col>&lt;int&gt;</th><th scope=col>&lt;dbl&gt;</th><th scope=col>&lt;dbl&gt;</th></tr>\n",
       "</thead>\n",
       "<tbody>\n",
       "\t<tr><th scope=row>1</th><td>#998181</td><td>37</td><td>37</td><td>1</td></tr>\n",
       "\t<tr><th scope=row>2</th><td>#906C6C</td><td>16</td><td> 4</td><td>4</td></tr>\n",
       "\t<tr><th scope=row>3</th><td>#5C1616</td><td>16</td><td> 4</td><td>4</td></tr>\n",
       "\t<tr><th scope=row>4</th><td>#C34545</td><td>16</td><td> 4</td><td>4</td></tr>\n",
       "\t<tr><th scope=row>5</th><td>#86F1F1</td><td>20</td><td> 4</td><td>5</td></tr>\n",
       "\t<tr><th scope=row>6</th><td>#204040</td><td>16</td><td> 4</td><td>4</td></tr>\n",
       "</tbody>\n",
       "</table>\n"
      ],
      "text/latex": [
       "A data.frame: 6 × 4\n",
       "\\begin{tabular}{r|llll}\n",
       "  & color & area & width & height\\\\\n",
       "  & <chr> & <int> & <dbl> & <dbl>\\\\\n",
       "\\hline\n",
       "\t1 & \\#998181 & 37 & 37 & 1\\\\\n",
       "\t2 & \\#906C6C & 16 &  4 & 4\\\\\n",
       "\t3 & \\#5C1616 & 16 &  4 & 4\\\\\n",
       "\t4 & \\#C34545 & 16 &  4 & 4\\\\\n",
       "\t5 & \\#86F1F1 & 20 &  4 & 5\\\\\n",
       "\t6 & \\#204040 & 16 &  4 & 4\\\\\n",
       "\\end{tabular}\n"
      ],
      "text/markdown": [
       "\n",
       "A data.frame: 6 × 4\n",
       "\n",
       "| <!--/--> | color &lt;chr&gt; | area &lt;int&gt; | width &lt;dbl&gt; | height &lt;dbl&gt; |\n",
       "|---|---|---|---|---|\n",
       "| 1 | #998181 | 37 | 37 | 1 |\n",
       "| 2 | #906C6C | 16 |  4 | 4 |\n",
       "| 3 | #5C1616 | 16 |  4 | 4 |\n",
       "| 4 | #C34545 | 16 |  4 | 4 |\n",
       "| 5 | #86F1F1 | 20 |  4 | 5 |\n",
       "| 6 | #204040 | 16 |  4 | 4 |\n",
       "\n"
      ],
      "text/plain": [
       "  color   area width height\n",
       "1 #998181 37   37    1     \n",
       "2 #906C6C 16    4    4     \n",
       "3 #5C1616 16    4    4     \n",
       "4 #C34545 16    4    4     \n",
       "5 #86F1F1 20    4    5     \n",
       "6 #204040 16    4    4     "
      ]
     },
     "metadata": {},
     "output_type": "display_data"
    }
   ],
   "source": [
    "head(df_mat_area)"
   ]
  },
  {
   "cell_type": "markdown",
   "metadata": {},
   "source": [
    "We now perform a few simple visual inspection tests to check if `df_mat_area` was computed correctly:"
   ]
  },
  {
   "cell_type": "code",
   "execution_count": 63,
   "metadata": {},
   "outputs": [
    {
     "data": {
      "text/html": [
       "<table class=\"dataframe\">\n",
       "<caption>A matrix: 6 × 571 of type chr</caption>\n",
       "<tbody>\n",
       "\t<tr><td>#998181</td><td>#998181</td><td>#998181</td><td>#998181</td><td>#998181</td><td>#998181</td><td>#998181</td><td>#998181</td><td>#998181</td><td>#998181</td><td>⋯</td><td>#5F0101</td><td>#CCDBDB</td><td>#CCDBDB</td><td>#CCDBDB</td><td>#CCDBDB</td><td>#CCDBDB</td><td>#459999</td><td>#459999</td><td>#459999</td><td>#459999</td></tr>\n",
       "\t<tr><td>#906C6C</td><td>#906C6C</td><td>#906C6C</td><td>#906C6C</td><td>#1AACAC</td><td>#1AACAC</td><td>#1AACAC</td><td>#1AACAC</td><td>#1AACAC</td><td>#1EB1B1</td><td>⋯</td><td>#5F0101</td><td>#CCDBDB</td><td>#CCDBDB</td><td>#CCDBDB</td><td>#CCDBDB</td><td>#CCDBDB</td><td>#459999</td><td>#459999</td><td>#459999</td><td>#459999</td></tr>\n",
       "\t<tr><td>#906C6C</td><td>#906C6C</td><td>#906C6C</td><td>#906C6C</td><td>#1AACAC</td><td>#1AACAC</td><td>#1AACAC</td><td>#1AACAC</td><td>#1AACAC</td><td>#1EB1B1</td><td>⋯</td><td>#5F0101</td><td>#CCDBDB</td><td>#CCDBDB</td><td>#CCDBDB</td><td>#CCDBDB</td><td>#CCDBDB</td><td>#459999</td><td>#459999</td><td>#459999</td><td>#459999</td></tr>\n",
       "\t<tr><td>#906C6C</td><td>#906C6C</td><td>#906C6C</td><td>#906C6C</td><td>#1AACAC</td><td>#1AACAC</td><td>#1AACAC</td><td>#1AACAC</td><td>#1AACAC</td><td>#1EB1B1</td><td>⋯</td><td>#5F0101</td><td>#CCDBDB</td><td>#CCDBDB</td><td>#CCDBDB</td><td>#CCDBDB</td><td>#CCDBDB</td><td>#459999</td><td>#459999</td><td>#459999</td><td>#459999</td></tr>\n",
       "\t<tr><td>#906C6C</td><td>#906C6C</td><td>#906C6C</td><td>#906C6C</td><td>#1AACAC</td><td>#1AACAC</td><td>#1AACAC</td><td>#1AACAC</td><td>#1AACAC</td><td>#1EB1B1</td><td>⋯</td><td>#8E5656</td><td>#607878</td><td>#607878</td><td>#607878</td><td>#607878</td><td>#607878</td><td>#B8A7A7</td><td>#B8A7A7</td><td>#B8A7A7</td><td>#B8A7A7</td></tr>\n",
       "\t<tr><td>#5C1616</td><td>#5C1616</td><td>#5C1616</td><td>#5C1616</td><td>#651F1F</td><td>#651F1F</td><td>#651F1F</td><td>#651F1F</td><td>#651F1F</td><td>#9BCDCD</td><td>⋯</td><td>#8E5656</td><td>#607878</td><td>#607878</td><td>#607878</td><td>#607878</td><td>#607878</td><td>#B8A7A7</td><td>#B8A7A7</td><td>#B8A7A7</td><td>#B8A7A7</td></tr>\n",
       "</tbody>\n",
       "</table>\n"
      ],
      "text/latex": [
       "A matrix: 6 × 571 of type chr\n",
       "\\begin{tabular}{lllllllllllllllllllll}\n",
       "\t \\#998181 & \\#998181 & \\#998181 & \\#998181 & \\#998181 & \\#998181 & \\#998181 & \\#998181 & \\#998181 & \\#998181 & ⋯ & \\#5F0101 & \\#CCDBDB & \\#CCDBDB & \\#CCDBDB & \\#CCDBDB & \\#CCDBDB & \\#459999 & \\#459999 & \\#459999 & \\#459999\\\\\n",
       "\t \\#906C6C & \\#906C6C & \\#906C6C & \\#906C6C & \\#1AACAC & \\#1AACAC & \\#1AACAC & \\#1AACAC & \\#1AACAC & \\#1EB1B1 & ⋯ & \\#5F0101 & \\#CCDBDB & \\#CCDBDB & \\#CCDBDB & \\#CCDBDB & \\#CCDBDB & \\#459999 & \\#459999 & \\#459999 & \\#459999\\\\\n",
       "\t \\#906C6C & \\#906C6C & \\#906C6C & \\#906C6C & \\#1AACAC & \\#1AACAC & \\#1AACAC & \\#1AACAC & \\#1AACAC & \\#1EB1B1 & ⋯ & \\#5F0101 & \\#CCDBDB & \\#CCDBDB & \\#CCDBDB & \\#CCDBDB & \\#CCDBDB & \\#459999 & \\#459999 & \\#459999 & \\#459999\\\\\n",
       "\t \\#906C6C & \\#906C6C & \\#906C6C & \\#906C6C & \\#1AACAC & \\#1AACAC & \\#1AACAC & \\#1AACAC & \\#1AACAC & \\#1EB1B1 & ⋯ & \\#5F0101 & \\#CCDBDB & \\#CCDBDB & \\#CCDBDB & \\#CCDBDB & \\#CCDBDB & \\#459999 & \\#459999 & \\#459999 & \\#459999\\\\\n",
       "\t \\#906C6C & \\#906C6C & \\#906C6C & \\#906C6C & \\#1AACAC & \\#1AACAC & \\#1AACAC & \\#1AACAC & \\#1AACAC & \\#1EB1B1 & ⋯ & \\#8E5656 & \\#607878 & \\#607878 & \\#607878 & \\#607878 & \\#607878 & \\#B8A7A7 & \\#B8A7A7 & \\#B8A7A7 & \\#B8A7A7\\\\\n",
       "\t \\#5C1616 & \\#5C1616 & \\#5C1616 & \\#5C1616 & \\#651F1F & \\#651F1F & \\#651F1F & \\#651F1F & \\#651F1F & \\#9BCDCD & ⋯ & \\#8E5656 & \\#607878 & \\#607878 & \\#607878 & \\#607878 & \\#607878 & \\#B8A7A7 & \\#B8A7A7 & \\#B8A7A7 & \\#B8A7A7\\\\\n",
       "\\end{tabular}\n"
      ],
      "text/markdown": [
       "\n",
       "A matrix: 6 × 571 of type chr\n",
       "\n",
       "| #998181 | #998181 | #998181 | #998181 | #998181 | #998181 | #998181 | #998181 | #998181 | #998181 | ⋯ | #5F0101 | #CCDBDB | #CCDBDB | #CCDBDB | #CCDBDB | #CCDBDB | #459999 | #459999 | #459999 | #459999 |\n",
       "| #906C6C | #906C6C | #906C6C | #906C6C | #1AACAC | #1AACAC | #1AACAC | #1AACAC | #1AACAC | #1EB1B1 | ⋯ | #5F0101 | #CCDBDB | #CCDBDB | #CCDBDB | #CCDBDB | #CCDBDB | #459999 | #459999 | #459999 | #459999 |\n",
       "| #906C6C | #906C6C | #906C6C | #906C6C | #1AACAC | #1AACAC | #1AACAC | #1AACAC | #1AACAC | #1EB1B1 | ⋯ | #5F0101 | #CCDBDB | #CCDBDB | #CCDBDB | #CCDBDB | #CCDBDB | #459999 | #459999 | #459999 | #459999 |\n",
       "| #906C6C | #906C6C | #906C6C | #906C6C | #1AACAC | #1AACAC | #1AACAC | #1AACAC | #1AACAC | #1EB1B1 | ⋯ | #5F0101 | #CCDBDB | #CCDBDB | #CCDBDB | #CCDBDB | #CCDBDB | #459999 | #459999 | #459999 | #459999 |\n",
       "| #906C6C | #906C6C | #906C6C | #906C6C | #1AACAC | #1AACAC | #1AACAC | #1AACAC | #1AACAC | #1EB1B1 | ⋯ | #8E5656 | #607878 | #607878 | #607878 | #607878 | #607878 | #B8A7A7 | #B8A7A7 | #B8A7A7 | #B8A7A7 |\n",
       "| #5C1616 | #5C1616 | #5C1616 | #5C1616 | #651F1F | #651F1F | #651F1F | #651F1F | #651F1F | #9BCDCD | ⋯ | #8E5656 | #607878 | #607878 | #607878 | #607878 | #607878 | #B8A7A7 | #B8A7A7 | #B8A7A7 | #B8A7A7 |\n",
       "\n"
      ],
      "text/plain": [
       "     [,1]    [,2]    [,3]    [,4]    [,5]    [,6]    [,7]    [,8]    [,9]   \n",
       "[1,] #998181 #998181 #998181 #998181 #998181 #998181 #998181 #998181 #998181\n",
       "[2,] #906C6C #906C6C #906C6C #906C6C #1AACAC #1AACAC #1AACAC #1AACAC #1AACAC\n",
       "[3,] #906C6C #906C6C #906C6C #906C6C #1AACAC #1AACAC #1AACAC #1AACAC #1AACAC\n",
       "[4,] #906C6C #906C6C #906C6C #906C6C #1AACAC #1AACAC #1AACAC #1AACAC #1AACAC\n",
       "[5,] #906C6C #906C6C #906C6C #906C6C #1AACAC #1AACAC #1AACAC #1AACAC #1AACAC\n",
       "[6,] #5C1616 #5C1616 #5C1616 #5C1616 #651F1F #651F1F #651F1F #651F1F #651F1F\n",
       "     [,10]   [,11] [,12]   [,13]   [,14]   [,15]   [,16]   [,17]   [,18]  \n",
       "[1,] #998181 ⋯     #5F0101 #CCDBDB #CCDBDB #CCDBDB #CCDBDB #CCDBDB #459999\n",
       "[2,] #1EB1B1 ⋯     #5F0101 #CCDBDB #CCDBDB #CCDBDB #CCDBDB #CCDBDB #459999\n",
       "[3,] #1EB1B1 ⋯     #5F0101 #CCDBDB #CCDBDB #CCDBDB #CCDBDB #CCDBDB #459999\n",
       "[4,] #1EB1B1 ⋯     #5F0101 #CCDBDB #CCDBDB #CCDBDB #CCDBDB #CCDBDB #459999\n",
       "[5,] #1EB1B1 ⋯     #8E5656 #607878 #607878 #607878 #607878 #607878 #B8A7A7\n",
       "[6,] #9BCDCD ⋯     #8E5656 #607878 #607878 #607878 #607878 #607878 #B8A7A7\n",
       "     [,19]   [,20]   [,21]  \n",
       "[1,] #459999 #459999 #459999\n",
       "[2,] #459999 #459999 #459999\n",
       "[3,] #459999 #459999 #459999\n",
       "[4,] #459999 #459999 #459999\n",
       "[5,] #B8A7A7 #B8A7A7 #B8A7A7\n",
       "[6,] #B8A7A7 #B8A7A7 #B8A7A7"
      ]
     },
     "metadata": {},
     "output_type": "display_data"
    }
   ],
   "source": [
    "head(kegg_mat)"
   ]
  },
  {
   "cell_type": "code",
   "execution_count": 64,
   "metadata": {},
   "outputs": [
    {
     "data": {
      "text/html": [
       "<table class=\"dataframe\">\n",
       "<caption>A data.frame: 1 × 4</caption>\n",
       "<thead>\n",
       "\t<tr><th></th><th scope=col>color</th><th scope=col>area</th><th scope=col>width</th><th scope=col>height</th></tr>\n",
       "\t<tr><th></th><th scope=col>&lt;chr&gt;</th><th scope=col>&lt;int&gt;</th><th scope=col>&lt;dbl&gt;</th><th scope=col>&lt;dbl&gt;</th></tr>\n",
       "</thead>\n",
       "<tbody>\n",
       "\t<tr><th scope=row>17468</th><td>#CCDBDB</td><td>20</td><td>5</td><td>4</td></tr>\n",
       "</tbody>\n",
       "</table>\n"
      ],
      "text/latex": [
       "A data.frame: 1 × 4\n",
       "\\begin{tabular}{r|llll}\n",
       "  & color & area & width & height\\\\\n",
       "  & <chr> & <int> & <dbl> & <dbl>\\\\\n",
       "\\hline\n",
       "\t17468 & \\#CCDBDB & 20 & 5 & 4\\\\\n",
       "\\end{tabular}\n"
      ],
      "text/markdown": [
       "\n",
       "A data.frame: 1 × 4\n",
       "\n",
       "| <!--/--> | color &lt;chr&gt; | area &lt;int&gt; | width &lt;dbl&gt; | height &lt;dbl&gt; |\n",
       "|---|---|---|---|---|\n",
       "| 17468 | #CCDBDB | 20 | 5 | 4 |\n",
       "\n"
      ],
      "text/plain": [
       "      color   area width height\n",
       "17468 #CCDBDB 20   5     4     "
      ]
     },
     "metadata": {},
     "output_type": "display_data"
    }
   ],
   "source": [
    "# w=5, h=4 expected, located at top-right\n",
    "df_mat_area[df_mat_area$color == \"#CCDBDB\", ]"
   ]
  },
  {
   "cell_type": "code",
   "execution_count": 65,
   "metadata": {},
   "outputs": [
    {
     "data": {
      "text/html": [
       "<table class=\"dataframe\">\n",
       "<caption>A data.frame: 1 × 4</caption>\n",
       "<thead>\n",
       "\t<tr><th></th><th scope=col>color</th><th scope=col>area</th><th scope=col>width</th><th scope=col>height</th></tr>\n",
       "\t<tr><th></th><th scope=col>&lt;chr&gt;</th><th scope=col>&lt;int&gt;</th><th scope=col>&lt;dbl&gt;</th><th scope=col>&lt;dbl&gt;</th></tr>\n",
       "</thead>\n",
       "<tbody>\n",
       "\t<tr><th scope=row>2</th><td>#906C6C</td><td>16</td><td>4</td><td>4</td></tr>\n",
       "</tbody>\n",
       "</table>\n"
      ],
      "text/latex": [
       "A data.frame: 1 × 4\n",
       "\\begin{tabular}{r|llll}\n",
       "  & color & area & width & height\\\\\n",
       "  & <chr> & <int> & <dbl> & <dbl>\\\\\n",
       "\\hline\n",
       "\t2 & \\#906C6C & 16 & 4 & 4\\\\\n",
       "\\end{tabular}\n"
      ],
      "text/markdown": [
       "\n",
       "A data.frame: 1 × 4\n",
       "\n",
       "| <!--/--> | color &lt;chr&gt; | area &lt;int&gt; | width &lt;dbl&gt; | height &lt;dbl&gt; |\n",
       "|---|---|---|---|---|\n",
       "| 2 | #906C6C | 16 | 4 | 4 |\n",
       "\n"
      ],
      "text/plain": [
       "  color   area width height\n",
       "2 #906C6C 16   4     4     "
      ]
     },
     "metadata": {},
     "output_type": "display_data"
    }
   ],
   "source": [
    "# w=4, h=4 expected, located at middle-left\n",
    "df_mat_area[df_mat_area$color == \"#906C6C\", ]"
   ]
  },
  {
   "cell_type": "markdown",
   "metadata": {},
   "source": [
    "We check if there is any non-rectangular element:"
   ]
  },
  {
   "cell_type": "code",
   "execution_count": 66,
   "metadata": {},
   "outputs": [
    {
     "data": {
      "text/html": [
       "1652"
      ],
      "text/latex": [
       "1652"
      ],
      "text/markdown": [
       "1652"
      ],
      "text/plain": [
       "[1] 1652"
      ]
     },
     "metadata": {},
     "output_type": "display_data"
    }
   ],
   "source": [
    "# Rows inside df_mat_area containing the non-rectangular color elements \n",
    "(na_pos <- which(is.na(df_mat_area$width)))"
   ]
  },
  {
   "cell_type": "markdown",
   "metadata": {},
   "source": [
    "The single non-rectangular element is the background color:"
   ]
  },
  {
   "cell_type": "code",
   "execution_count": 67,
   "metadata": {},
   "outputs": [
    {
     "data": {
      "text/html": [
       "<table class=\"dataframe\">\n",
       "<caption>A data.frame: 1 × 4</caption>\n",
       "<thead>\n",
       "\t<tr><th></th><th scope=col>color</th><th scope=col>area</th><th scope=col>width</th><th scope=col>height</th></tr>\n",
       "\t<tr><th></th><th scope=col>&lt;chr&gt;</th><th scope=col>&lt;int&gt;</th><th scope=col>&lt;dbl&gt;</th><th scope=col>&lt;dbl&gt;</th></tr>\n",
       "</thead>\n",
       "<tbody>\n",
       "\t<tr><th scope=row>1652</th><td>#FFFFFF</td><td>19</td><td>NA</td><td>NA</td></tr>\n",
       "</tbody>\n",
       "</table>\n"
      ],
      "text/latex": [
       "A data.frame: 1 × 4\n",
       "\\begin{tabular}{r|llll}\n",
       "  & color & area & width & height\\\\\n",
       "  & <chr> & <int> & <dbl> & <dbl>\\\\\n",
       "\\hline\n",
       "\t1652 & \\#FFFFFF & 19 & NA & NA\\\\\n",
       "\\end{tabular}\n"
      ],
      "text/markdown": [
       "\n",
       "A data.frame: 1 × 4\n",
       "\n",
       "| <!--/--> | color &lt;chr&gt; | area &lt;int&gt; | width &lt;dbl&gt; | height &lt;dbl&gt; |\n",
       "|---|---|---|---|---|\n",
       "| 1652 | #FFFFFF | 19 | NA | NA |\n",
       "\n"
      ],
      "text/plain": [
       "     color   area width height\n",
       "1652 #FFFFFF 19   NA    NA    "
      ]
     },
     "metadata": {},
     "output_type": "display_data"
    }
   ],
   "source": [
    "df_mat_area[na_pos, ]"
   ]
  },
  {
   "cell_type": "markdown",
   "metadata": {},
   "source": [
    "Now, we study the distribution of the widths and heights of the rectangular color elements in the RRGGBB matrix:"
   ]
  },
  {
   "cell_type": "code",
   "execution_count": 68,
   "metadata": {},
   "outputs": [],
   "source": [
    "dist_rect_w_h <- as.data.frame(table(df_mat_area[, c(\"width\", \"height\")]))\n",
    "dist_rect_w_h <- dist_rect_w_h[dist_rect_w_h$Freq > 0, ]"
   ]
  },
  {
   "cell_type": "code",
   "execution_count": 69,
   "metadata": {},
   "outputs": [
    {
     "data": {
      "text/html": [
       "<table class=\"dataframe\">\n",
       "<caption>A data.frame: 20 × 3</caption>\n",
       "<thead>\n",
       "\t<tr><th></th><th scope=col>width</th><th scope=col>height</th><th scope=col>Freq</th></tr>\n",
       "\t<tr><th></th><th scope=col>&lt;fct&gt;</th><th scope=col>&lt;fct&gt;</th><th scope=col>&lt;int&gt;</th></tr>\n",
       "</thead>\n",
       "<tbody>\n",
       "\t<tr><th scope=row>30</th><td>4 </td><td>4</td><td>8635</td></tr>\n",
       "\t<tr><th scope=row>31</th><td>5 </td><td>4</td><td>3988</td></tr>\n",
       "\t<tr><th scope=row>39</th><td>4 </td><td>5</td><td>3675</td></tr>\n",
       "\t<tr><th scope=row>40</th><td>5 </td><td>5</td><td>1265</td></tr>\n",
       "\t<tr><th scope=row>22</th><td>5 </td><td>3</td><td>  53</td></tr>\n",
       "\t<tr><th scope=row>38</th><td>3 </td><td>5</td><td>  38</td></tr>\n",
       "\t<tr><th scope=row>47</th><td>3 </td><td>6</td><td>  20</td></tr>\n",
       "\t<tr><th scope=row>23</th><td>6 </td><td>3</td><td>  18</td></tr>\n",
       "\t<tr><th scope=row>32</th><td>6 </td><td>4</td><td>   9</td></tr>\n",
       "\t<tr><th scope=row>9</th><td>37</td><td>1</td><td>   5</td></tr>\n",
       "\t<tr><th scope=row>21</th><td>4 </td><td>3</td><td>   5</td></tr>\n",
       "\t<tr><th scope=row>48</th><td>4 </td><td>6</td><td>   5</td></tr>\n",
       "\t<tr><th scope=row>8</th><td>36</td><td>1</td><td>   4</td></tr>\n",
       "\t<tr><th scope=row>29</th><td>3 </td><td>4</td><td>   3</td></tr>\n",
       "\t<tr><th scope=row>15</th><td>7 </td><td>2</td><td>   2</td></tr>\n",
       "\t<tr><th scope=row>55</th><td>2 </td><td>7</td><td>   2</td></tr>\n",
       "\t<tr><th scope=row>56</th><td>3 </td><td>7</td><td>   2</td></tr>\n",
       "\t<tr><th scope=row>24</th><td>7 </td><td>3</td><td>   1</td></tr>\n",
       "\t<tr><th scope=row>25</th><td>8 </td><td>3</td><td>   1</td></tr>\n",
       "\t<tr><th scope=row>65</th><td>3 </td><td>8</td><td>   1</td></tr>\n",
       "</tbody>\n",
       "</table>\n"
      ],
      "text/latex": [
       "A data.frame: 20 × 3\n",
       "\\begin{tabular}{r|lll}\n",
       "  & width & height & Freq\\\\\n",
       "  & <fct> & <fct> & <int>\\\\\n",
       "\\hline\n",
       "\t30 & 4  & 4 & 8635\\\\\n",
       "\t31 & 5  & 4 & 3988\\\\\n",
       "\t39 & 4  & 5 & 3675\\\\\n",
       "\t40 & 5  & 5 & 1265\\\\\n",
       "\t22 & 5  & 3 &   53\\\\\n",
       "\t38 & 3  & 5 &   38\\\\\n",
       "\t47 & 3  & 6 &   20\\\\\n",
       "\t23 & 6  & 3 &   18\\\\\n",
       "\t32 & 6  & 4 &    9\\\\\n",
       "\t9 & 37 & 1 &    5\\\\\n",
       "\t21 & 4  & 3 &    5\\\\\n",
       "\t48 & 4  & 6 &    5\\\\\n",
       "\t8 & 36 & 1 &    4\\\\\n",
       "\t29 & 3  & 4 &    3\\\\\n",
       "\t15 & 7  & 2 &    2\\\\\n",
       "\t55 & 2  & 7 &    2\\\\\n",
       "\t56 & 3  & 7 &    2\\\\\n",
       "\t24 & 7  & 3 &    1\\\\\n",
       "\t25 & 8  & 3 &    1\\\\\n",
       "\t65 & 3  & 8 &    1\\\\\n",
       "\\end{tabular}\n"
      ],
      "text/markdown": [
       "\n",
       "A data.frame: 20 × 3\n",
       "\n",
       "| <!--/--> | width &lt;fct&gt; | height &lt;fct&gt; | Freq &lt;int&gt; |\n",
       "|---|---|---|---|\n",
       "| 30 | 4  | 4 | 8635 |\n",
       "| 31 | 5  | 4 | 3988 |\n",
       "| 39 | 4  | 5 | 3675 |\n",
       "| 40 | 5  | 5 | 1265 |\n",
       "| 22 | 5  | 3 |   53 |\n",
       "| 38 | 3  | 5 |   38 |\n",
       "| 47 | 3  | 6 |   20 |\n",
       "| 23 | 6  | 3 |   18 |\n",
       "| 32 | 6  | 4 |    9 |\n",
       "| 9 | 37 | 1 |    5 |\n",
       "| 21 | 4  | 3 |    5 |\n",
       "| 48 | 4  | 6 |    5 |\n",
       "| 8 | 36 | 1 |    4 |\n",
       "| 29 | 3  | 4 |    3 |\n",
       "| 15 | 7  | 2 |    2 |\n",
       "| 55 | 2  | 7 |    2 |\n",
       "| 56 | 3  | 7 |    2 |\n",
       "| 24 | 7  | 3 |    1 |\n",
       "| 25 | 8  | 3 |    1 |\n",
       "| 65 | 3  | 8 |    1 |\n",
       "\n"
      ],
      "text/plain": [
       "   width height Freq\n",
       "30 4     4      8635\n",
       "31 5     4      3988\n",
       "39 4     5      3675\n",
       "40 5     5      1265\n",
       "22 5     3        53\n",
       "38 3     5        38\n",
       "47 3     6        20\n",
       "23 6     3        18\n",
       "32 6     4         9\n",
       "9  37    1         5\n",
       "21 4     3         5\n",
       "48 4     6         5\n",
       "8  36    1         4\n",
       "29 3     4         3\n",
       "15 7     2         2\n",
       "55 2     7         2\n",
       "56 3     7         2\n",
       "24 7     3         1\n",
       "25 8     3         1\n",
       "65 3     8         1"
      ]
     },
     "metadata": {},
     "output_type": "display_data"
    }
   ],
   "source": [
    "dist_rect_w_h[order(dist_rect_w_h$Freq, decreasing = TRUE), ]"
   ]
  },
  {
   "cell_type": "code",
   "execution_count": 70,
   "metadata": {},
   "outputs": [
    {
     "data": {
      "text/html": [
       "0.990413353634467"
      ],
      "text/latex": [
       "0.990413353634467"
      ],
      "text/markdown": [
       "0.990413353634467"
      ],
      "text/plain": [
       "[1] 0.9904134"
      ]
     },
     "metadata": {},
     "output_type": "display_data"
    }
   ],
   "source": [
    "sum(dist_rect_w_h[order(dist_rect_w_h$Freq, decreasing = TRUE), ]$Freq[c(1:4)])/nrow(df_mat_area)"
   ]
  },
  {
   "cell_type": "code",
   "execution_count": 71,
   "metadata": {},
   "outputs": [
    {
     "data": {
      "text/html": [
       "20"
      ],
      "text/latex": [
       "20"
      ],
      "text/markdown": [
       "20"
      ],
      "text/plain": [
       "[1] 20"
      ]
     },
     "metadata": {},
     "output_type": "display_data"
    }
   ],
   "source": [
    "# Different weight-height combinations\n",
    "nrow(dist_rect_w_h)"
   ]
  },
  {
   "cell_type": "markdown",
   "metadata": {},
   "source": [
    "W=4;H=4, W=5;H=4, W=4;H=5 and W=5;H=5 are the most frequent dimensions by far. Actually, they account for the 99% of all 20 possible dimensions (weight-height combinations)."
   ]
  },
  {
   "cell_type": "markdown",
   "metadata": {},
   "source": [
    "We also explore the number of elements in the RRGGBB matrix that corresponds to background:"
   ]
  },
  {
   "cell_type": "code",
   "execution_count": 72,
   "metadata": {},
   "outputs": [
    {
     "data": {
      "text/html": [
       "19"
      ],
      "text/latex": [
       "19"
      ],
      "text/markdown": [
       "19"
      ],
      "text/plain": [
       "[1] 19"
      ]
     },
     "metadata": {},
     "output_type": "display_data"
    }
   ],
   "source": [
    "nrow(which(kegg_mat==\"#FFFFFF\", arr.ind = TRUE))"
   ]
  },
  {
   "cell_type": "code",
   "execution_count": 73,
   "metadata": {},
   "outputs": [
    {
     "data": {
      "text/html": [
       "5.82748795396898e-05"
      ],
      "text/latex": [
       "5.82748795396898e-05"
      ],
      "text/markdown": [
       "5.82748795396898e-05"
      ],
      "text/plain": [
       "[1] 5.827488e-05"
      ]
     },
     "metadata": {},
     "output_type": "display_data"
    }
   ],
   "source": [
    "# As a percentage\n",
    "nrow(which(kegg_mat==\"#FFFFFF\", arr.ind = TRUE))/(nrow(kegg_mat)*ncol(kegg_mat))"
   ]
  },
  {
   "cell_type": "markdown",
   "metadata": {},
   "source": [
    "##### 175x175 pixels"
   ]
  },
  {
   "cell_type": "code",
   "execution_count": 74,
   "metadata": {},
   "outputs": [],
   "source": [
    "# Using 175x175 pixels (9 colors omitted)\n",
    "kegg_mat <- generate_rrggbb_matrix(df_treemap = df_res_pix, n_width = 175, n_height = 175)"
   ]
  },
  {
   "cell_type": "code",
   "execution_count": 75,
   "metadata": {},
   "outputs": [
    {
     "data": {
      "text/html": [
       "<table class=\"dataframe\">\n",
       "<caption>A matrix: 6 × 175 of type chr</caption>\n",
       "<tbody>\n",
       "\t<tr><td>#906C6C</td><td>#1AACAC</td><td>#1AACAC</td><td>#1EB1B1</td><td>#044444</td><td>#8E5959</td><td>#B1BDBD</td><td>#B1BDBD</td><td>#8F9A9A</td><td>#C6ABAB</td><td>⋯</td><td>#837676</td><td>#5F1F1F</td><td>#7D0D0D</td><td>#303333</td><td>#303333</td><td>#67D1D1</td><td>#5F0101</td><td>#CCDBDB</td><td>#CCDBDB</td><td>#459999</td></tr>\n",
       "\t<tr><td>#5C1616</td><td>#651F1F</td><td>#651F1F</td><td>#9BCDCD</td><td>#203A3A</td><td>#976262</td><td>#976262</td><td>#C6B1B1</td><td>#971111</td><td>#030C0C</td><td>⋯</td><td>#044141</td><td>#148B8B</td><td>#769292</td><td>#BFFAFA</td><td>#BFFAFA</td><td>#993C3C</td><td>#8E5656</td><td>#607878</td><td>#607878</td><td>#B8A7A7</td></tr>\n",
       "\t<tr><td>#5C1616</td><td>#651F1F</td><td>#651F1F</td><td>#9BCDCD</td><td>#203A3A</td><td>#976262</td><td>#976262</td><td>#C6B1B1</td><td>#971111</td><td>#030C0C</td><td>⋯</td><td>#044141</td><td>#148B8B</td><td>#769292</td><td>#BFFAFA</td><td>#BFFAFA</td><td>#993C3C</td><td>#8E5656</td><td>#607878</td><td>#607878</td><td>#B8A7A7</td></tr>\n",
       "\t<tr><td>#C34545</td><td>#BDB1B1</td><td>#BDB1B1</td><td>#BA2D2D</td><td>#B3A9A9</td><td>#8E2C2C</td><td>#8E2C2C</td><td>#09ABAB</td><td>#650A0A</td><td>#3A2020</td><td>⋯</td><td>#07D4D4</td><td>#0EDCDC</td><td>#39AEAE</td><td>#7BF6F6</td><td>#7BF6F6</td><td>#3EA0A0</td><td>#39F3F3</td><td>#364E4E</td><td>#364E4E</td><td>#412222</td></tr>\n",
       "\t<tr><td>#86F1F1</td><td>#498686</td><td>#498686</td><td>#42BDBD</td><td>#C55555</td><td>#02DFDF</td><td>#02DFDF</td><td>#128787</td><td>#A03838</td><td>#9BBBBB</td><td>⋯</td><td>#7F0E0E</td><td>#C15656</td><td>#C38787</td><td>#450303</td><td>#450303</td><td>#BDA8A8</td><td>#681313</td><td>#CA3535</td><td>#CA3535</td><td>#96FCFC</td></tr>\n",
       "\t<tr><td>#204040</td><td>#CBF1F1</td><td>#CBF1F1</td><td>#AE2727</td><td>#C99999</td><td>#02DFDF</td><td>#02DFDF</td><td>#128787</td><td>#A03838</td><td>#9BBBBB</td><td>⋯</td><td>#8EE6E6</td><td>#257777</td><td>#83EEEE</td><td>#2AEDED</td><td>#2AEDED</td><td>#3C8A8A</td><td>#3BDFDF</td><td>#C38181</td><td>#C38181</td><td>#119191</td></tr>\n",
       "</tbody>\n",
       "</table>\n"
      ],
      "text/latex": [
       "A matrix: 6 × 175 of type chr\n",
       "\\begin{tabular}{lllllllllllllllllllll}\n",
       "\t \\#906C6C & \\#1AACAC & \\#1AACAC & \\#1EB1B1 & \\#044444 & \\#8E5959 & \\#B1BDBD & \\#B1BDBD & \\#8F9A9A & \\#C6ABAB & ⋯ & \\#837676 & \\#5F1F1F & \\#7D0D0D & \\#303333 & \\#303333 & \\#67D1D1 & \\#5F0101 & \\#CCDBDB & \\#CCDBDB & \\#459999\\\\\n",
       "\t \\#5C1616 & \\#651F1F & \\#651F1F & \\#9BCDCD & \\#203A3A & \\#976262 & \\#976262 & \\#C6B1B1 & \\#971111 & \\#030C0C & ⋯ & \\#044141 & \\#148B8B & \\#769292 & \\#BFFAFA & \\#BFFAFA & \\#993C3C & \\#8E5656 & \\#607878 & \\#607878 & \\#B8A7A7\\\\\n",
       "\t \\#5C1616 & \\#651F1F & \\#651F1F & \\#9BCDCD & \\#203A3A & \\#976262 & \\#976262 & \\#C6B1B1 & \\#971111 & \\#030C0C & ⋯ & \\#044141 & \\#148B8B & \\#769292 & \\#BFFAFA & \\#BFFAFA & \\#993C3C & \\#8E5656 & \\#607878 & \\#607878 & \\#B8A7A7\\\\\n",
       "\t \\#C34545 & \\#BDB1B1 & \\#BDB1B1 & \\#BA2D2D & \\#B3A9A9 & \\#8E2C2C & \\#8E2C2C & \\#09ABAB & \\#650A0A & \\#3A2020 & ⋯ & \\#07D4D4 & \\#0EDCDC & \\#39AEAE & \\#7BF6F6 & \\#7BF6F6 & \\#3EA0A0 & \\#39F3F3 & \\#364E4E & \\#364E4E & \\#412222\\\\\n",
       "\t \\#86F1F1 & \\#498686 & \\#498686 & \\#42BDBD & \\#C55555 & \\#02DFDF & \\#02DFDF & \\#128787 & \\#A03838 & \\#9BBBBB & ⋯ & \\#7F0E0E & \\#C15656 & \\#C38787 & \\#450303 & \\#450303 & \\#BDA8A8 & \\#681313 & \\#CA3535 & \\#CA3535 & \\#96FCFC\\\\\n",
       "\t \\#204040 & \\#CBF1F1 & \\#CBF1F1 & \\#AE2727 & \\#C99999 & \\#02DFDF & \\#02DFDF & \\#128787 & \\#A03838 & \\#9BBBBB & ⋯ & \\#8EE6E6 & \\#257777 & \\#83EEEE & \\#2AEDED & \\#2AEDED & \\#3C8A8A & \\#3BDFDF & \\#C38181 & \\#C38181 & \\#119191\\\\\n",
       "\\end{tabular}\n"
      ],
      "text/markdown": [
       "\n",
       "A matrix: 6 × 175 of type chr\n",
       "\n",
       "| #906C6C | #1AACAC | #1AACAC | #1EB1B1 | #044444 | #8E5959 | #B1BDBD | #B1BDBD | #8F9A9A | #C6ABAB | ⋯ | #837676 | #5F1F1F | #7D0D0D | #303333 | #303333 | #67D1D1 | #5F0101 | #CCDBDB | #CCDBDB | #459999 |\n",
       "| #5C1616 | #651F1F | #651F1F | #9BCDCD | #203A3A | #976262 | #976262 | #C6B1B1 | #971111 | #030C0C | ⋯ | #044141 | #148B8B | #769292 | #BFFAFA | #BFFAFA | #993C3C | #8E5656 | #607878 | #607878 | #B8A7A7 |\n",
       "| #5C1616 | #651F1F | #651F1F | #9BCDCD | #203A3A | #976262 | #976262 | #C6B1B1 | #971111 | #030C0C | ⋯ | #044141 | #148B8B | #769292 | #BFFAFA | #BFFAFA | #993C3C | #8E5656 | #607878 | #607878 | #B8A7A7 |\n",
       "| #C34545 | #BDB1B1 | #BDB1B1 | #BA2D2D | #B3A9A9 | #8E2C2C | #8E2C2C | #09ABAB | #650A0A | #3A2020 | ⋯ | #07D4D4 | #0EDCDC | #39AEAE | #7BF6F6 | #7BF6F6 | #3EA0A0 | #39F3F3 | #364E4E | #364E4E | #412222 |\n",
       "| #86F1F1 | #498686 | #498686 | #42BDBD | #C55555 | #02DFDF | #02DFDF | #128787 | #A03838 | #9BBBBB | ⋯ | #7F0E0E | #C15656 | #C38787 | #450303 | #450303 | #BDA8A8 | #681313 | #CA3535 | #CA3535 | #96FCFC |\n",
       "| #204040 | #CBF1F1 | #CBF1F1 | #AE2727 | #C99999 | #02DFDF | #02DFDF | #128787 | #A03838 | #9BBBBB | ⋯ | #8EE6E6 | #257777 | #83EEEE | #2AEDED | #2AEDED | #3C8A8A | #3BDFDF | #C38181 | #C38181 | #119191 |\n",
       "\n"
      ],
      "text/plain": [
       "     [,1]    [,2]    [,3]    [,4]    [,5]    [,6]    [,7]    [,8]    [,9]   \n",
       "[1,] #906C6C #1AACAC #1AACAC #1EB1B1 #044444 #8E5959 #B1BDBD #B1BDBD #8F9A9A\n",
       "[2,] #5C1616 #651F1F #651F1F #9BCDCD #203A3A #976262 #976262 #C6B1B1 #971111\n",
       "[3,] #5C1616 #651F1F #651F1F #9BCDCD #203A3A #976262 #976262 #C6B1B1 #971111\n",
       "[4,] #C34545 #BDB1B1 #BDB1B1 #BA2D2D #B3A9A9 #8E2C2C #8E2C2C #09ABAB #650A0A\n",
       "[5,] #86F1F1 #498686 #498686 #42BDBD #C55555 #02DFDF #02DFDF #128787 #A03838\n",
       "[6,] #204040 #CBF1F1 #CBF1F1 #AE2727 #C99999 #02DFDF #02DFDF #128787 #A03838\n",
       "     [,10]   [,11] [,12]   [,13]   [,14]   [,15]   [,16]   [,17]   [,18]  \n",
       "[1,] #C6ABAB ⋯     #837676 #5F1F1F #7D0D0D #303333 #303333 #67D1D1 #5F0101\n",
       "[2,] #030C0C ⋯     #044141 #148B8B #769292 #BFFAFA #BFFAFA #993C3C #8E5656\n",
       "[3,] #030C0C ⋯     #044141 #148B8B #769292 #BFFAFA #BFFAFA #993C3C #8E5656\n",
       "[4,] #3A2020 ⋯     #07D4D4 #0EDCDC #39AEAE #7BF6F6 #7BF6F6 #3EA0A0 #39F3F3\n",
       "[5,] #9BBBBB ⋯     #7F0E0E #C15656 #C38787 #450303 #450303 #BDA8A8 #681313\n",
       "[6,] #9BBBBB ⋯     #8EE6E6 #257777 #83EEEE #2AEDED #2AEDED #3C8A8A #3BDFDF\n",
       "     [,19]   [,20]   [,21]  \n",
       "[1,] #CCDBDB #CCDBDB #459999\n",
       "[2,] #607878 #607878 #B8A7A7\n",
       "[3,] #607878 #607878 #B8A7A7\n",
       "[4,] #364E4E #364E4E #412222\n",
       "[5,] #CA3535 #CA3535 #96FCFC\n",
       "[6,] #C38181 #C38181 #119191"
      ]
     },
     "metadata": {},
     "output_type": "display_data"
    }
   ],
   "source": [
    "head(kegg_mat)"
   ]
  },
  {
   "cell_type": "code",
   "execution_count": 76,
   "metadata": {},
   "outputs": [
    {
     "data": {
      "text/html": [
       "17724"
      ],
      "text/latex": [
       "17724"
      ],
      "text/markdown": [
       "17724"
      ],
      "text/plain": [
       "[1] 17724"
      ]
     },
     "metadata": {},
     "output_type": "display_data"
    }
   ],
   "source": [
    "length(unique(as.character(kegg_mat)))"
   ]
  },
  {
   "cell_type": "markdown",
   "metadata": {},
   "source": [
    "The RRGGBB matrix contains one extra color, which represents the white background of the PNG image (#FFFFFF):"
   ]
  },
  {
   "cell_type": "code",
   "execution_count": 77,
   "metadata": {},
   "outputs": [
    {
     "data": {
      "text/html": [
       "'#FFFFFF'"
      ],
      "text/latex": [
       "'\\#FFFFFF'"
      ],
      "text/markdown": [
       "'#FFFFFF'"
      ],
      "text/plain": [
       "[1] \"#FFFFFF\""
      ]
     },
     "metadata": {},
     "output_type": "display_data"
    }
   ],
   "source": [
    "setdiff(unique(as.character(kegg_mat)), unique(as.character(df_res_pix$color)))"
   ]
  },
  {
   "cell_type": "code",
   "execution_count": 78,
   "metadata": {},
   "outputs": [],
   "source": [
    "start.time <- Sys.time()\n",
    "\n",
    "df_mat_area <- data.frame(color = character(), area = integer(), width = integer(), height = integer(), \n",
    "                          stringsAsFactors = FALSE)\n",
    "\n",
    "for (c in unique(as.character(kegg_mat))) {\n",
    "    col_pos <- which(kegg_mat==c, arr.ind = TRUE)\n",
    "    # Actual area\n",
    "    act_a <- nrow(col_pos)\n",
    "    # Rectangular width\n",
    "    rect_w <- max(col_pos[, \"col\"]) - min(col_pos[, \"col\"]) + 1\n",
    "    # Rectangular height\n",
    "    rect_h <- max(col_pos[, \"row\"]) - min(col_pos[, \"row\"]) + 1\n",
    "    # Rectangular area\n",
    "    rect_a <- rect_w*rect_h\n",
    "    # Only append rectangular weight and height if rectangular area is the actual area\n",
    "    new_row <- list(c, act_a, rect_w, rect_h)\n",
    "    if(rect_a != act_a) {\n",
    "        new_row[[3]] <- NA\n",
    "        new_row[[4]] <- NA\n",
    "    }\n",
    "    df_mat_area[nrow(df_mat_area) + 1, ] <- new_row\n",
    "}\n",
    "\n",
    "end.time <- Sys.time()"
   ]
  },
  {
   "cell_type": "code",
   "execution_count": 79,
   "metadata": {},
   "outputs": [
    {
     "data": {
      "text/plain": [
       "Time difference of 10.02924 secs"
      ]
     },
     "metadata": {},
     "output_type": "display_data"
    }
   ],
   "source": [
    "end.time - start.time"
   ]
  },
  {
   "cell_type": "code",
   "execution_count": 80,
   "metadata": {},
   "outputs": [
    {
     "data": {
      "text/html": [
       "17724"
      ],
      "text/latex": [
       "17724"
      ],
      "text/markdown": [
       "17724"
      ],
      "text/plain": [
       "[1] 17724"
      ]
     },
     "metadata": {},
     "output_type": "display_data"
    }
   ],
   "source": [
    "# One row for each color element contained in the RRGGBB matrix\n",
    "nrow(df_mat_area)"
   ]
  },
  {
   "cell_type": "code",
   "execution_count": 81,
   "metadata": {},
   "outputs": [
    {
     "data": {
      "text/html": [
       "<table class=\"dataframe\">\n",
       "<caption>A data.frame: 6 × 4</caption>\n",
       "<thead>\n",
       "\t<tr><th></th><th scope=col>color</th><th scope=col>area</th><th scope=col>width</th><th scope=col>height</th></tr>\n",
       "\t<tr><th></th><th scope=col>&lt;chr&gt;</th><th scope=col>&lt;int&gt;</th><th scope=col>&lt;dbl&gt;</th><th scope=col>&lt;dbl&gt;</th></tr>\n",
       "</thead>\n",
       "<tbody>\n",
       "\t<tr><th scope=row>1</th><td>#906C6C</td><td>1</td><td>1</td><td>1</td></tr>\n",
       "\t<tr><th scope=row>2</th><td>#5C1616</td><td>2</td><td>1</td><td>2</td></tr>\n",
       "\t<tr><th scope=row>3</th><td>#C34545</td><td>1</td><td>1</td><td>1</td></tr>\n",
       "\t<tr><th scope=row>4</th><td>#86F1F1</td><td>1</td><td>1</td><td>1</td></tr>\n",
       "\t<tr><th scope=row>5</th><td>#204040</td><td>2</td><td>1</td><td>2</td></tr>\n",
       "\t<tr><th scope=row>6</th><td>#A97777</td><td>1</td><td>1</td><td>1</td></tr>\n",
       "</tbody>\n",
       "</table>\n"
      ],
      "text/latex": [
       "A data.frame: 6 × 4\n",
       "\\begin{tabular}{r|llll}\n",
       "  & color & area & width & height\\\\\n",
       "  & <chr> & <int> & <dbl> & <dbl>\\\\\n",
       "\\hline\n",
       "\t1 & \\#906C6C & 1 & 1 & 1\\\\\n",
       "\t2 & \\#5C1616 & 2 & 1 & 2\\\\\n",
       "\t3 & \\#C34545 & 1 & 1 & 1\\\\\n",
       "\t4 & \\#86F1F1 & 1 & 1 & 1\\\\\n",
       "\t5 & \\#204040 & 2 & 1 & 2\\\\\n",
       "\t6 & \\#A97777 & 1 & 1 & 1\\\\\n",
       "\\end{tabular}\n"
      ],
      "text/markdown": [
       "\n",
       "A data.frame: 6 × 4\n",
       "\n",
       "| <!--/--> | color &lt;chr&gt; | area &lt;int&gt; | width &lt;dbl&gt; | height &lt;dbl&gt; |\n",
       "|---|---|---|---|---|\n",
       "| 1 | #906C6C | 1 | 1 | 1 |\n",
       "| 2 | #5C1616 | 2 | 1 | 2 |\n",
       "| 3 | #C34545 | 1 | 1 | 1 |\n",
       "| 4 | #86F1F1 | 1 | 1 | 1 |\n",
       "| 5 | #204040 | 2 | 1 | 2 |\n",
       "| 6 | #A97777 | 1 | 1 | 1 |\n",
       "\n"
      ],
      "text/plain": [
       "  color   area width height\n",
       "1 #906C6C 1    1     1     \n",
       "2 #5C1616 2    1     2     \n",
       "3 #C34545 1    1     1     \n",
       "4 #86F1F1 1    1     1     \n",
       "5 #204040 2    1     2     \n",
       "6 #A97777 1    1     1     "
      ]
     },
     "metadata": {},
     "output_type": "display_data"
    }
   ],
   "source": [
    "head(df_mat_area)"
   ]
  },
  {
   "cell_type": "markdown",
   "metadata": {},
   "source": [
    "We now perform a few simple visual inspection tests to check if `df_mat_area` was computed correctly:"
   ]
  },
  {
   "cell_type": "code",
   "execution_count": 83,
   "metadata": {},
   "outputs": [
    {
     "data": {
      "text/html": [
       "<table class=\"dataframe\">\n",
       "<caption>A matrix: 6 × 175 of type chr</caption>\n",
       "<tbody>\n",
       "\t<tr><td>#906C6C</td><td>#1AACAC</td><td>#1AACAC</td><td>#1EB1B1</td><td>#044444</td><td>#8E5959</td><td>#B1BDBD</td><td>#B1BDBD</td><td>#8F9A9A</td><td>#C6ABAB</td><td>⋯</td><td>#837676</td><td>#5F1F1F</td><td>#7D0D0D</td><td>#303333</td><td>#303333</td><td>#67D1D1</td><td>#5F0101</td><td>#CCDBDB</td><td>#CCDBDB</td><td>#459999</td></tr>\n",
       "\t<tr><td>#5C1616</td><td>#651F1F</td><td>#651F1F</td><td>#9BCDCD</td><td>#203A3A</td><td>#976262</td><td>#976262</td><td>#C6B1B1</td><td>#971111</td><td>#030C0C</td><td>⋯</td><td>#044141</td><td>#148B8B</td><td>#769292</td><td>#BFFAFA</td><td>#BFFAFA</td><td>#993C3C</td><td>#8E5656</td><td>#607878</td><td>#607878</td><td>#B8A7A7</td></tr>\n",
       "\t<tr><td>#5C1616</td><td>#651F1F</td><td>#651F1F</td><td>#9BCDCD</td><td>#203A3A</td><td>#976262</td><td>#976262</td><td>#C6B1B1</td><td>#971111</td><td>#030C0C</td><td>⋯</td><td>#044141</td><td>#148B8B</td><td>#769292</td><td>#BFFAFA</td><td>#BFFAFA</td><td>#993C3C</td><td>#8E5656</td><td>#607878</td><td>#607878</td><td>#B8A7A7</td></tr>\n",
       "\t<tr><td>#C34545</td><td>#BDB1B1</td><td>#BDB1B1</td><td>#BA2D2D</td><td>#B3A9A9</td><td>#8E2C2C</td><td>#8E2C2C</td><td>#09ABAB</td><td>#650A0A</td><td>#3A2020</td><td>⋯</td><td>#07D4D4</td><td>#0EDCDC</td><td>#39AEAE</td><td>#7BF6F6</td><td>#7BF6F6</td><td>#3EA0A0</td><td>#39F3F3</td><td>#364E4E</td><td>#364E4E</td><td>#412222</td></tr>\n",
       "\t<tr><td>#86F1F1</td><td>#498686</td><td>#498686</td><td>#42BDBD</td><td>#C55555</td><td>#02DFDF</td><td>#02DFDF</td><td>#128787</td><td>#A03838</td><td>#9BBBBB</td><td>⋯</td><td>#7F0E0E</td><td>#C15656</td><td>#C38787</td><td>#450303</td><td>#450303</td><td>#BDA8A8</td><td>#681313</td><td>#CA3535</td><td>#CA3535</td><td>#96FCFC</td></tr>\n",
       "\t<tr><td>#204040</td><td>#CBF1F1</td><td>#CBF1F1</td><td>#AE2727</td><td>#C99999</td><td>#02DFDF</td><td>#02DFDF</td><td>#128787</td><td>#A03838</td><td>#9BBBBB</td><td>⋯</td><td>#8EE6E6</td><td>#257777</td><td>#83EEEE</td><td>#2AEDED</td><td>#2AEDED</td><td>#3C8A8A</td><td>#3BDFDF</td><td>#C38181</td><td>#C38181</td><td>#119191</td></tr>\n",
       "</tbody>\n",
       "</table>\n"
      ],
      "text/latex": [
       "A matrix: 6 × 175 of type chr\n",
       "\\begin{tabular}{lllllllllllllllllllll}\n",
       "\t \\#906C6C & \\#1AACAC & \\#1AACAC & \\#1EB1B1 & \\#044444 & \\#8E5959 & \\#B1BDBD & \\#B1BDBD & \\#8F9A9A & \\#C6ABAB & ⋯ & \\#837676 & \\#5F1F1F & \\#7D0D0D & \\#303333 & \\#303333 & \\#67D1D1 & \\#5F0101 & \\#CCDBDB & \\#CCDBDB & \\#459999\\\\\n",
       "\t \\#5C1616 & \\#651F1F & \\#651F1F & \\#9BCDCD & \\#203A3A & \\#976262 & \\#976262 & \\#C6B1B1 & \\#971111 & \\#030C0C & ⋯ & \\#044141 & \\#148B8B & \\#769292 & \\#BFFAFA & \\#BFFAFA & \\#993C3C & \\#8E5656 & \\#607878 & \\#607878 & \\#B8A7A7\\\\\n",
       "\t \\#5C1616 & \\#651F1F & \\#651F1F & \\#9BCDCD & \\#203A3A & \\#976262 & \\#976262 & \\#C6B1B1 & \\#971111 & \\#030C0C & ⋯ & \\#044141 & \\#148B8B & \\#769292 & \\#BFFAFA & \\#BFFAFA & \\#993C3C & \\#8E5656 & \\#607878 & \\#607878 & \\#B8A7A7\\\\\n",
       "\t \\#C34545 & \\#BDB1B1 & \\#BDB1B1 & \\#BA2D2D & \\#B3A9A9 & \\#8E2C2C & \\#8E2C2C & \\#09ABAB & \\#650A0A & \\#3A2020 & ⋯ & \\#07D4D4 & \\#0EDCDC & \\#39AEAE & \\#7BF6F6 & \\#7BF6F6 & \\#3EA0A0 & \\#39F3F3 & \\#364E4E & \\#364E4E & \\#412222\\\\\n",
       "\t \\#86F1F1 & \\#498686 & \\#498686 & \\#42BDBD & \\#C55555 & \\#02DFDF & \\#02DFDF & \\#128787 & \\#A03838 & \\#9BBBBB & ⋯ & \\#7F0E0E & \\#C15656 & \\#C38787 & \\#450303 & \\#450303 & \\#BDA8A8 & \\#681313 & \\#CA3535 & \\#CA3535 & \\#96FCFC\\\\\n",
       "\t \\#204040 & \\#CBF1F1 & \\#CBF1F1 & \\#AE2727 & \\#C99999 & \\#02DFDF & \\#02DFDF & \\#128787 & \\#A03838 & \\#9BBBBB & ⋯ & \\#8EE6E6 & \\#257777 & \\#83EEEE & \\#2AEDED & \\#2AEDED & \\#3C8A8A & \\#3BDFDF & \\#C38181 & \\#C38181 & \\#119191\\\\\n",
       "\\end{tabular}\n"
      ],
      "text/markdown": [
       "\n",
       "A matrix: 6 × 175 of type chr\n",
       "\n",
       "| #906C6C | #1AACAC | #1AACAC | #1EB1B1 | #044444 | #8E5959 | #B1BDBD | #B1BDBD | #8F9A9A | #C6ABAB | ⋯ | #837676 | #5F1F1F | #7D0D0D | #303333 | #303333 | #67D1D1 | #5F0101 | #CCDBDB | #CCDBDB | #459999 |\n",
       "| #5C1616 | #651F1F | #651F1F | #9BCDCD | #203A3A | #976262 | #976262 | #C6B1B1 | #971111 | #030C0C | ⋯ | #044141 | #148B8B | #769292 | #BFFAFA | #BFFAFA | #993C3C | #8E5656 | #607878 | #607878 | #B8A7A7 |\n",
       "| #5C1616 | #651F1F | #651F1F | #9BCDCD | #203A3A | #976262 | #976262 | #C6B1B1 | #971111 | #030C0C | ⋯ | #044141 | #148B8B | #769292 | #BFFAFA | #BFFAFA | #993C3C | #8E5656 | #607878 | #607878 | #B8A7A7 |\n",
       "| #C34545 | #BDB1B1 | #BDB1B1 | #BA2D2D | #B3A9A9 | #8E2C2C | #8E2C2C | #09ABAB | #650A0A | #3A2020 | ⋯ | #07D4D4 | #0EDCDC | #39AEAE | #7BF6F6 | #7BF6F6 | #3EA0A0 | #39F3F3 | #364E4E | #364E4E | #412222 |\n",
       "| #86F1F1 | #498686 | #498686 | #42BDBD | #C55555 | #02DFDF | #02DFDF | #128787 | #A03838 | #9BBBBB | ⋯ | #7F0E0E | #C15656 | #C38787 | #450303 | #450303 | #BDA8A8 | #681313 | #CA3535 | #CA3535 | #96FCFC |\n",
       "| #204040 | #CBF1F1 | #CBF1F1 | #AE2727 | #C99999 | #02DFDF | #02DFDF | #128787 | #A03838 | #9BBBBB | ⋯ | #8EE6E6 | #257777 | #83EEEE | #2AEDED | #2AEDED | #3C8A8A | #3BDFDF | #C38181 | #C38181 | #119191 |\n",
       "\n"
      ],
      "text/plain": [
       "     [,1]    [,2]    [,3]    [,4]    [,5]    [,6]    [,7]    [,8]    [,9]   \n",
       "[1,] #906C6C #1AACAC #1AACAC #1EB1B1 #044444 #8E5959 #B1BDBD #B1BDBD #8F9A9A\n",
       "[2,] #5C1616 #651F1F #651F1F #9BCDCD #203A3A #976262 #976262 #C6B1B1 #971111\n",
       "[3,] #5C1616 #651F1F #651F1F #9BCDCD #203A3A #976262 #976262 #C6B1B1 #971111\n",
       "[4,] #C34545 #BDB1B1 #BDB1B1 #BA2D2D #B3A9A9 #8E2C2C #8E2C2C #09ABAB #650A0A\n",
       "[5,] #86F1F1 #498686 #498686 #42BDBD #C55555 #02DFDF #02DFDF #128787 #A03838\n",
       "[6,] #204040 #CBF1F1 #CBF1F1 #AE2727 #C99999 #02DFDF #02DFDF #128787 #A03838\n",
       "     [,10]   [,11] [,12]   [,13]   [,14]   [,15]   [,16]   [,17]   [,18]  \n",
       "[1,] #C6ABAB ⋯     #837676 #5F1F1F #7D0D0D #303333 #303333 #67D1D1 #5F0101\n",
       "[2,] #030C0C ⋯     #044141 #148B8B #769292 #BFFAFA #BFFAFA #993C3C #8E5656\n",
       "[3,] #030C0C ⋯     #044141 #148B8B #769292 #BFFAFA #BFFAFA #993C3C #8E5656\n",
       "[4,] #3A2020 ⋯     #07D4D4 #0EDCDC #39AEAE #7BF6F6 #7BF6F6 #3EA0A0 #39F3F3\n",
       "[5,] #9BBBBB ⋯     #7F0E0E #C15656 #C38787 #450303 #450303 #BDA8A8 #681313\n",
       "[6,] #9BBBBB ⋯     #8EE6E6 #257777 #83EEEE #2AEDED #2AEDED #3C8A8A #3BDFDF\n",
       "     [,19]   [,20]   [,21]  \n",
       "[1,] #CCDBDB #CCDBDB #459999\n",
       "[2,] #607878 #607878 #B8A7A7\n",
       "[3,] #607878 #607878 #B8A7A7\n",
       "[4,] #364E4E #364E4E #412222\n",
       "[5,] #CA3535 #CA3535 #96FCFC\n",
       "[6,] #C38181 #C38181 #119191"
      ]
     },
     "metadata": {},
     "output_type": "display_data"
    }
   ],
   "source": [
    "head(kegg_mat)"
   ]
  },
  {
   "cell_type": "code",
   "execution_count": 84,
   "metadata": {},
   "outputs": [
    {
     "data": {
      "text/html": [
       "<table class=\"dataframe\">\n",
       "<caption>A data.frame: 1 × 4</caption>\n",
       "<thead>\n",
       "\t<tr><th></th><th scope=col>color</th><th scope=col>area</th><th scope=col>width</th><th scope=col>height</th></tr>\n",
       "\t<tr><th></th><th scope=col>&lt;chr&gt;</th><th scope=col>&lt;int&gt;</th><th scope=col>&lt;dbl&gt;</th><th scope=col>&lt;dbl&gt;</th></tr>\n",
       "</thead>\n",
       "<tbody>\n",
       "\t<tr><th scope=row>17456</th><td>#CCDBDB</td><td>2</td><td>2</td><td>1</td></tr>\n",
       "</tbody>\n",
       "</table>\n"
      ],
      "text/latex": [
       "A data.frame: 1 × 4\n",
       "\\begin{tabular}{r|llll}\n",
       "  & color & area & width & height\\\\\n",
       "  & <chr> & <int> & <dbl> & <dbl>\\\\\n",
       "\\hline\n",
       "\t17456 & \\#CCDBDB & 2 & 2 & 1\\\\\n",
       "\\end{tabular}\n"
      ],
      "text/markdown": [
       "\n",
       "A data.frame: 1 × 4\n",
       "\n",
       "| <!--/--> | color &lt;chr&gt; | area &lt;int&gt; | width &lt;dbl&gt; | height &lt;dbl&gt; |\n",
       "|---|---|---|---|---|\n",
       "| 17456 | #CCDBDB | 2 | 2 | 1 |\n",
       "\n"
      ],
      "text/plain": [
       "      color   area width height\n",
       "17456 #CCDBDB 2    2     1     "
      ]
     },
     "metadata": {},
     "output_type": "display_data"
    }
   ],
   "source": [
    "# w=2, h=1 expected, located at top-right\n",
    "df_mat_area[df_mat_area$color == \"#CCDBDB\", ]"
   ]
  },
  {
   "cell_type": "code",
   "execution_count": 85,
   "metadata": {},
   "outputs": [
    {
     "data": {
      "text/html": [
       "<table class=\"dataframe\">\n",
       "<caption>A data.frame: 1 × 4</caption>\n",
       "<thead>\n",
       "\t<tr><th></th><th scope=col>color</th><th scope=col>area</th><th scope=col>width</th><th scope=col>height</th></tr>\n",
       "\t<tr><th></th><th scope=col>&lt;chr&gt;</th><th scope=col>&lt;int&gt;</th><th scope=col>&lt;dbl&gt;</th><th scope=col>&lt;dbl&gt;</th></tr>\n",
       "</thead>\n",
       "<tbody>\n",
       "\t<tr><th scope=row>1</th><td>#906C6C</td><td>1</td><td>1</td><td>1</td></tr>\n",
       "</tbody>\n",
       "</table>\n"
      ],
      "text/latex": [
       "A data.frame: 1 × 4\n",
       "\\begin{tabular}{r|llll}\n",
       "  & color & area & width & height\\\\\n",
       "  & <chr> & <int> & <dbl> & <dbl>\\\\\n",
       "\\hline\n",
       "\t1 & \\#906C6C & 1 & 1 & 1\\\\\n",
       "\\end{tabular}\n"
      ],
      "text/markdown": [
       "\n",
       "A data.frame: 1 × 4\n",
       "\n",
       "| <!--/--> | color &lt;chr&gt; | area &lt;int&gt; | width &lt;dbl&gt; | height &lt;dbl&gt; |\n",
       "|---|---|---|---|---|\n",
       "| 1 | #906C6C | 1 | 1 | 1 |\n",
       "\n"
      ],
      "text/plain": [
       "  color   area width height\n",
       "1 #906C6C 1    1     1     "
      ]
     },
     "metadata": {},
     "output_type": "display_data"
    }
   ],
   "source": [
    "# w=1, h=1 expected, located at top-left\n",
    "df_mat_area[df_mat_area$color == \"#906C6C\", ]"
   ]
  },
  {
   "cell_type": "markdown",
   "metadata": {},
   "source": [
    "We check if there is any non-rectangular element:"
   ]
  },
  {
   "cell_type": "code",
   "execution_count": 86,
   "metadata": {},
   "outputs": [
    {
     "data": {
      "text/html": [
       "702"
      ],
      "text/latex": [
       "702"
      ],
      "text/markdown": [
       "702"
      ],
      "text/plain": [
       "[1] 702"
      ]
     },
     "metadata": {},
     "output_type": "display_data"
    }
   ],
   "source": [
    "# Rows inside df_mat_area containing the non-rectangular color elements \n",
    "(na_pos <- which(is.na(df_mat_area$width)))"
   ]
  },
  {
   "cell_type": "markdown",
   "metadata": {},
   "source": [
    "The single non-rectangular element is the background color:"
   ]
  },
  {
   "cell_type": "code",
   "execution_count": 87,
   "metadata": {},
   "outputs": [
    {
     "data": {
      "text/html": [
       "<table class=\"dataframe\">\n",
       "<caption>A data.frame: 1 × 4</caption>\n",
       "<thead>\n",
       "\t<tr><th></th><th scope=col>color</th><th scope=col>area</th><th scope=col>width</th><th scope=col>height</th></tr>\n",
       "\t<tr><th></th><th scope=col>&lt;chr&gt;</th><th scope=col>&lt;int&gt;</th><th scope=col>&lt;dbl&gt;</th><th scope=col>&lt;dbl&gt;</th></tr>\n",
       "</thead>\n",
       "<tbody>\n",
       "\t<tr><th scope=row>702</th><td>#FFFFFF</td><td>6</td><td>NA</td><td>NA</td></tr>\n",
       "</tbody>\n",
       "</table>\n"
      ],
      "text/latex": [
       "A data.frame: 1 × 4\n",
       "\\begin{tabular}{r|llll}\n",
       "  & color & area & width & height\\\\\n",
       "  & <chr> & <int> & <dbl> & <dbl>\\\\\n",
       "\\hline\n",
       "\t702 & \\#FFFFFF & 6 & NA & NA\\\\\n",
       "\\end{tabular}\n"
      ],
      "text/markdown": [
       "\n",
       "A data.frame: 1 × 4\n",
       "\n",
       "| <!--/--> | color &lt;chr&gt; | area &lt;int&gt; | width &lt;dbl&gt; | height &lt;dbl&gt; |\n",
       "|---|---|---|---|---|\n",
       "| 702 | #FFFFFF | 6 | NA | NA |\n",
       "\n"
      ],
      "text/plain": [
       "    color   area width height\n",
       "702 #FFFFFF 6    NA    NA    "
      ]
     },
     "metadata": {},
     "output_type": "display_data"
    }
   ],
   "source": [
    "df_mat_area[na_pos, ]"
   ]
  },
  {
   "cell_type": "markdown",
   "metadata": {},
   "source": [
    "Now, we study the distribution of the widths and heights of the rectangular color elements in the RRGGBB matrix:"
   ]
  },
  {
   "cell_type": "code",
   "execution_count": 88,
   "metadata": {},
   "outputs": [],
   "source": [
    "dist_rect_w_h <- as.data.frame(table(df_mat_area[, c(\"width\", \"height\")]))\n",
    "dist_rect_w_h <- dist_rect_w_h[dist_rect_w_h$Freq > 0, ]"
   ]
  },
  {
   "cell_type": "code",
   "execution_count": 89,
   "metadata": {},
   "outputs": [
    {
     "data": {
      "text/html": [
       "<table class=\"dataframe\">\n",
       "<caption>A data.frame: 4 × 3</caption>\n",
       "<thead>\n",
       "\t<tr><th></th><th scope=col>width</th><th scope=col>height</th><th scope=col>Freq</th></tr>\n",
       "\t<tr><th></th><th scope=col>&lt;fct&gt;</th><th scope=col>&lt;fct&gt;</th><th scope=col>&lt;int&gt;</th></tr>\n",
       "</thead>\n",
       "<tbody>\n",
       "\t<tr><th scope=row>1</th><td>1</td><td>1</td><td>8267</td></tr>\n",
       "\t<tr><th scope=row>2</th><td>2</td><td>1</td><td>3910</td></tr>\n",
       "\t<tr><th scope=row>3</th><td>1</td><td>2</td><td>3826</td></tr>\n",
       "\t<tr><th scope=row>4</th><td>2</td><td>2</td><td>1720</td></tr>\n",
       "</tbody>\n",
       "</table>\n"
      ],
      "text/latex": [
       "A data.frame: 4 × 3\n",
       "\\begin{tabular}{r|lll}\n",
       "  & width & height & Freq\\\\\n",
       "  & <fct> & <fct> & <int>\\\\\n",
       "\\hline\n",
       "\t1 & 1 & 1 & 8267\\\\\n",
       "\t2 & 2 & 1 & 3910\\\\\n",
       "\t3 & 1 & 2 & 3826\\\\\n",
       "\t4 & 2 & 2 & 1720\\\\\n",
       "\\end{tabular}\n"
      ],
      "text/markdown": [
       "\n",
       "A data.frame: 4 × 3\n",
       "\n",
       "| <!--/--> | width &lt;fct&gt; | height &lt;fct&gt; | Freq &lt;int&gt; |\n",
       "|---|---|---|---|\n",
       "| 1 | 1 | 1 | 8267 |\n",
       "| 2 | 2 | 1 | 3910 |\n",
       "| 3 | 1 | 2 | 3826 |\n",
       "| 4 | 2 | 2 | 1720 |\n",
       "\n"
      ],
      "text/plain": [
       "  width height Freq\n",
       "1 1     1      8267\n",
       "2 2     1      3910\n",
       "3 1     2      3826\n",
       "4 2     2      1720"
      ]
     },
     "metadata": {},
     "output_type": "display_data"
    }
   ],
   "source": [
    "dist_rect_w_h[order(dist_rect_w_h$Freq, decreasing = TRUE), ]"
   ]
  },
  {
   "cell_type": "code",
   "execution_count": 90,
   "metadata": {},
   "outputs": [
    {
     "data": {
      "text/html": [
       "4"
      ],
      "text/latex": [
       "4"
      ],
      "text/markdown": [
       "4"
      ],
      "text/plain": [
       "[1] 4"
      ]
     },
     "metadata": {},
     "output_type": "display_data"
    }
   ],
   "source": [
    "# Different weight-height combinations\n",
    "nrow(dist_rect_w_h)"
   ]
  },
  {
   "cell_type": "markdown",
   "metadata": {},
   "source": [
    "W=1;H=1, W=2;H=1, W=1;H=2 and W=2;H=2 are the different elements dimensions, being W=1;H=1 the most frequent one."
   ]
  },
  {
   "cell_type": "markdown",
   "metadata": {},
   "source": [
    "We also explore the number of elements in the RRGGBB matrix that corresponds to background:"
   ]
  },
  {
   "cell_type": "code",
   "execution_count": 91,
   "metadata": {},
   "outputs": [
    {
     "data": {
      "text/html": [
       "6"
      ],
      "text/latex": [
       "6"
      ],
      "text/markdown": [
       "6"
      ],
      "text/plain": [
       "[1] 6"
      ]
     },
     "metadata": {},
     "output_type": "display_data"
    }
   ],
   "source": [
    "nrow(which(kegg_mat==\"#FFFFFF\", arr.ind = TRUE))"
   ]
  },
  {
   "cell_type": "code",
   "execution_count": 92,
   "metadata": {},
   "outputs": [
    {
     "data": {
      "text/html": [
       "0.000195918367346939"
      ],
      "text/latex": [
       "0.000195918367346939"
      ],
      "text/markdown": [
       "0.000195918367346939"
      ],
      "text/plain": [
       "[1] 0.0001959184"
      ]
     },
     "metadata": {},
     "output_type": "display_data"
    }
   ],
   "source": [
    "# As a percentage\n",
    "nrow(which(kegg_mat==\"#FFFFFF\", arr.ind = TRUE))/(nrow(kegg_mat)*ncol(kegg_mat))"
   ]
  },
  {
   "cell_type": "markdown",
   "metadata": {},
   "source": [
    "####  Using rectangular matrices\n",
    "\n",
    "In this subsection, we analyze rectangular images, i.e. images in which width and height differ. We only study images with fewer number of pixels than the best squared image previously found (571x571)."
   ]
  },
  {
   "cell_type": "markdown",
   "metadata": {},
   "source": [
    "We perform an exhaustive procedure to study the colors omitted when using each possible numbers of pixels configuration:"
   ]
  },
  {
   "cell_type": "code",
   "execution_count": 93,
   "metadata": {},
   "outputs": [
    {
     "data": {
      "text/html": [
       "850084"
      ],
      "text/latex": [
       "850084"
      ],
      "text/markdown": [
       "850084"
      ],
      "text/plain": [
       "[1] 850084"
      ]
     },
     "metadata": {},
     "output_type": "display_data"
    }
   ],
   "source": [
    "pot_int <- seq(from = 103, to = 1024, by = 1)\n",
    "length(pot_int)**2"
   ]
  },
  {
   "cell_type": "code",
   "execution_count": 94,
   "metadata": {},
   "outputs": [
    {
     "data": {
      "text/html": [
       "<style>\n",
       ".list-inline {list-style: none; margin:0; padding: 0}\n",
       ".list-inline>li {display: inline-block}\n",
       ".list-inline>li:not(:last-child)::after {content: \"\\00b7\"; padding: 0 .5ex}\n",
       "</style>\n",
       "<ol class=list-inline><li>103</li><li>104</li><li>105</li><li>106</li><li>107</li><li>108</li></ol>\n"
      ],
      "text/latex": [
       "\\begin{enumerate*}\n",
       "\\item 103\n",
       "\\item 104\n",
       "\\item 105\n",
       "\\item 106\n",
       "\\item 107\n",
       "\\item 108\n",
       "\\end{enumerate*}\n"
      ],
      "text/markdown": [
       "1. 103\n",
       "2. 104\n",
       "3. 105\n",
       "4. 106\n",
       "5. 107\n",
       "6. 108\n",
       "\n",
       "\n"
      ],
      "text/plain": [
       "[1] 103 104 105 106 107 108"
      ]
     },
     "metadata": {},
     "output_type": "display_data"
    },
    {
     "data": {
      "text/html": [
       "<style>\n",
       ".list-inline {list-style: none; margin:0; padding: 0}\n",
       ".list-inline>li {display: inline-block}\n",
       ".list-inline>li:not(:last-child)::after {content: \"\\00b7\"; padding: 0 .5ex}\n",
       "</style>\n",
       "<ol class=list-inline><li>1019</li><li>1020</li><li>1021</li><li>1022</li><li>1023</li><li>1024</li></ol>\n"
      ],
      "text/latex": [
       "\\begin{enumerate*}\n",
       "\\item 1019\n",
       "\\item 1020\n",
       "\\item 1021\n",
       "\\item 1022\n",
       "\\item 1023\n",
       "\\item 1024\n",
       "\\end{enumerate*}\n"
      ],
      "text/markdown": [
       "1. 1019\n",
       "2. 1020\n",
       "3. 1021\n",
       "4. 1022\n",
       "5. 1023\n",
       "6. 1024\n",
       "\n",
       "\n"
      ],
      "text/plain": [
       "[1] 1019 1020 1021 1022 1023 1024"
      ]
     },
     "metadata": {},
     "output_type": "display_data"
    }
   ],
   "source": [
    "head(pot_int)\n",
    "\n",
    "tail(pot_int)"
   ]
  },
  {
   "cell_type": "code",
   "execution_count": 95,
   "metadata": {},
   "outputs": [
    {
     "data": {
      "text/html": [
       "326041"
      ],
      "text/latex": [
       "326041"
      ],
      "text/markdown": [
       "326041"
      ],
      "text/plain": [
       "[1] 326041"
      ]
     },
     "metadata": {},
     "output_type": "display_data"
    }
   ],
   "source": [
    "# Maximum number of elements in the RRGGBB matrix\n",
    "571**2"
   ]
  },
  {
   "cell_type": "code",
   "execution_count": 96,
   "metadata": {},
   "outputs": [
    {
     "data": {
      "text/html": [
       "17732"
      ],
      "text/latex": [
       "17732"
      ],
      "text/markdown": [
       "17732"
      ],
      "text/plain": [
       "[1] 17732"
      ]
     },
     "metadata": {},
     "output_type": "display_data"
    }
   ],
   "source": [
    "# Minimum number of elements in the RRGGBB matrix\n",
    "nrow(df_res_pix)"
   ]
  },
  {
   "cell_type": "code",
   "execution_count": 97,
   "metadata": {},
   "outputs": [],
   "source": [
    "start.time <- Sys.time()\n",
    "\n",
    "max_elem <- 571**2\n",
    "min_elem <- nrow(df_res_pix)\n",
    "w <- c()\n",
    "h <- c()\n",
    "a <- c()\n",
    "for (i in 1:(length(pot_int)-1)) {\n",
    "    for (j in (i+1):length(pot_int)) {\n",
    "        area <- pot_int[i]*pot_int[j]\n",
    "        if (area < max_elem && area > min_elem) {\n",
    "            w <- append(w, pot_int[i])\n",
    "            h <- append(h, pot_int[j])\n",
    "            w <- append(w, pot_int[j])\n",
    "            h <- append(h, pot_int[i])\n",
    "            a <- append(a, c(area, area))\n",
    "        }\n",
    "    }\n",
    "}\n",
    "\n",
    "df_w_h <- data.frame(width = w, height = h, area = a)\n",
    "\n",
    "end.time <- Sys.time()"
   ]
  },
  {
   "cell_type": "code",
   "execution_count": 98,
   "metadata": {},
   "outputs": [
    {
     "data": {
      "text/plain": [
       "Time difference of 6.338743 mins"
      ]
     },
     "metadata": {},
     "output_type": "display_data"
    }
   ],
   "source": [
    "end.time - start.time"
   ]
  },
  {
   "cell_type": "code",
   "execution_count": 99,
   "metadata": {},
   "outputs": [
    {
     "data": {
      "text/html": [
       "505260"
      ],
      "text/latex": [
       "505260"
      ],
      "text/markdown": [
       "505260"
      ],
      "text/plain": [
       "[1] 505260"
      ]
     },
     "metadata": {},
     "output_type": "display_data"
    }
   ],
   "source": [
    "nrow(df_w_h)"
   ]
  },
  {
   "cell_type": "code",
   "execution_count": 100,
   "metadata": {},
   "outputs": [],
   "source": [
    "df_w_h <- df_w_h[order(df_w_h$area), ]"
   ]
  },
  {
   "cell_type": "code",
   "execution_count": 101,
   "metadata": {},
   "outputs": [
    {
     "data": {
      "text/html": [
       "<table class=\"dataframe\">\n",
       "<caption>A data.frame: 6 × 3</caption>\n",
       "<thead>\n",
       "\t<tr><th></th><th scope=col>width</th><th scope=col>height</th><th scope=col>area</th></tr>\n",
       "\t<tr><th></th><th scope=col>&lt;dbl&gt;</th><th scope=col>&lt;dbl&gt;</th><th scope=col>&lt;dbl&gt;</th></tr>\n",
       "</thead>\n",
       "<tbody>\n",
       "\t<tr><th scope=row>17189</th><td>113</td><td>157</td><td>17741</td></tr>\n",
       "\t<tr><th scope=row>17190</th><td>157</td><td>113</td><td>17741</td></tr>\n",
       "\t<tr><th scope=row>3413</th><td>105</td><td>169</td><td>17745</td></tr>\n",
       "\t<tr><th scope=row>3414</th><td>169</td><td>105</td><td>17745</td></tr>\n",
       "\t<tr><th scope=row>22403</th><td>116</td><td>153</td><td>17748</td></tr>\n",
       "\t<tr><th scope=row>22404</th><td>153</td><td>116</td><td>17748</td></tr>\n",
       "</tbody>\n",
       "</table>\n"
      ],
      "text/latex": [
       "A data.frame: 6 × 3\n",
       "\\begin{tabular}{r|lll}\n",
       "  & width & height & area\\\\\n",
       "  & <dbl> & <dbl> & <dbl>\\\\\n",
       "\\hline\n",
       "\t17189 & 113 & 157 & 17741\\\\\n",
       "\t17190 & 157 & 113 & 17741\\\\\n",
       "\t3413 & 105 & 169 & 17745\\\\\n",
       "\t3414 & 169 & 105 & 17745\\\\\n",
       "\t22403 & 116 & 153 & 17748\\\\\n",
       "\t22404 & 153 & 116 & 17748\\\\\n",
       "\\end{tabular}\n"
      ],
      "text/markdown": [
       "\n",
       "A data.frame: 6 × 3\n",
       "\n",
       "| <!--/--> | width &lt;dbl&gt; | height &lt;dbl&gt; | area &lt;dbl&gt; |\n",
       "|---|---|---|---|\n",
       "| 17189 | 113 | 157 | 17741 |\n",
       "| 17190 | 157 | 113 | 17741 |\n",
       "| 3413 | 105 | 169 | 17745 |\n",
       "| 3414 | 169 | 105 | 17745 |\n",
       "| 22403 | 116 | 153 | 17748 |\n",
       "| 22404 | 153 | 116 | 17748 |\n",
       "\n"
      ],
      "text/plain": [
       "      width height area \n",
       "17189 113   157    17741\n",
       "17190 157   113    17741\n",
       "3413  105   169    17745\n",
       "3414  169   105    17745\n",
       "22403 116   153    17748\n",
       "22404 153   116    17748"
      ]
     },
     "metadata": {},
     "output_type": "display_data"
    },
    {
     "data": {
      "text/html": [
       "<table class=\"dataframe\">\n",
       "<caption>A data.frame: 6 × 3</caption>\n",
       "<thead>\n",
       "\t<tr><th></th><th scope=col>width</th><th scope=col>height</th><th scope=col>area</th></tr>\n",
       "\t<tr><th></th><th scope=col>&lt;dbl&gt;</th><th scope=col>&lt;dbl&gt;</th><th scope=col>&lt;dbl&gt;</th></tr>\n",
       "</thead>\n",
       "<tbody>\n",
       "\t<tr><th scope=row>493035</th><td>494</td><td>660</td><td>326040</td></tr>\n",
       "\t<tr><th scope=row>493036</th><td>660</td><td>494</td><td>326040</td></tr>\n",
       "\t<tr><th scope=row>500037</th><td>520</td><td>627</td><td>326040</td></tr>\n",
       "\t<tr><th scope=row>500038</th><td>627</td><td>520</td><td>326040</td></tr>\n",
       "\t<tr><th scope=row>505259</th><td>570</td><td>572</td><td>326040</td></tr>\n",
       "\t<tr><th scope=row>505260</th><td>572</td><td>570</td><td>326040</td></tr>\n",
       "</tbody>\n",
       "</table>\n"
      ],
      "text/latex": [
       "A data.frame: 6 × 3\n",
       "\\begin{tabular}{r|lll}\n",
       "  & width & height & area\\\\\n",
       "  & <dbl> & <dbl> & <dbl>\\\\\n",
       "\\hline\n",
       "\t493035 & 494 & 660 & 326040\\\\\n",
       "\t493036 & 660 & 494 & 326040\\\\\n",
       "\t500037 & 520 & 627 & 326040\\\\\n",
       "\t500038 & 627 & 520 & 326040\\\\\n",
       "\t505259 & 570 & 572 & 326040\\\\\n",
       "\t505260 & 572 & 570 & 326040\\\\\n",
       "\\end{tabular}\n"
      ],
      "text/markdown": [
       "\n",
       "A data.frame: 6 × 3\n",
       "\n",
       "| <!--/--> | width &lt;dbl&gt; | height &lt;dbl&gt; | area &lt;dbl&gt; |\n",
       "|---|---|---|---|\n",
       "| 493035 | 494 | 660 | 326040 |\n",
       "| 493036 | 660 | 494 | 326040 |\n",
       "| 500037 | 520 | 627 | 326040 |\n",
       "| 500038 | 627 | 520 | 326040 |\n",
       "| 505259 | 570 | 572 | 326040 |\n",
       "| 505260 | 572 | 570 | 326040 |\n",
       "\n"
      ],
      "text/plain": [
       "       width height area  \n",
       "493035 494   660    326040\n",
       "493036 660   494    326040\n",
       "500037 520   627    326040\n",
       "500038 627   520    326040\n",
       "505259 570   572    326040\n",
       "505260 572   570    326040"
      ]
     },
     "metadata": {},
     "output_type": "display_data"
    }
   ],
   "source": [
    "head(df_w_h)\n",
    "\n",
    "tail(df_w_h)"
   ]
  },
  {
   "cell_type": "code",
   "execution_count": 102,
   "metadata": {},
   "outputs": [],
   "source": [
    "library(parallel)"
   ]
  },
  {
   "cell_type": "code",
   "execution_count": 103,
   "metadata": {},
   "outputs": [
    {
     "data": {
      "text/html": [
       "12"
      ],
      "text/latex": [
       "12"
      ],
      "text/markdown": [
       "12"
      ],
      "text/plain": [
       "[1] 12"
      ]
     },
     "metadata": {},
     "output_type": "display_data"
    }
   ],
   "source": [
    "detectCores()"
   ]
  },
  {
   "cell_type": "code",
   "execution_count": null,
   "metadata": {},
   "outputs": [],
   "source": [
    "# Parallel version\n",
    "\n",
    "par.start.time <- Sys.time()\n",
    "\n",
    "ori_col <- unique(df_res_pix$color)\n",
    "\n",
    "n.cores <- 10\n",
    "clust <- makeCluster(n.cores)\n",
    "clusterExport(clust, varlist = c(\"ori_col\", \"generate_rrggbb_matrix\", \"grid.rect\", \"df_res_pix\", \"gpar\", \n",
    "                                 \"readPNG\"))\n",
    "diff_num_par <- parApply(clust, df_w_h, 1, function(row) {\n",
    "    return(length(setdiff(ori_col, unique(as.character(generate_rrggbb_matrix(df_treemap = df_res_pix, \n",
    "                    n_width = row[\"width\"], n_height = row[\"height\"]))))))\n",
    "})\n",
    "\n",
    "stopCluster(clust)\n",
    "\n",
    "par.end.time <- Sys.time()"
   ]
  },
  {
   "cell_type": "code",
   "execution_count": null,
   "metadata": {},
   "outputs": [],
   "source": [
    "col.start.time <- Sys.time()\n",
    "df_w_h$n_color <- diff_num_par\n",
    "col.end.time <- Sys.time()"
   ]
  },
  {
   "cell_type": "code",
   "execution_count": 51,
   "metadata": {},
   "outputs": [
    {
     "data": {
      "text/plain": [
       "Time difference of 5,517815 hours"
      ]
     },
     "metadata": {},
     "output_type": "display_data"
    }
   ],
   "source": [
    "par.end.time - par.start.time"
   ]
  },
  {
   "cell_type": "code",
   "execution_count": 80,
   "metadata": {},
   "outputs": [
    {
     "data": {
      "text/plain": [
       "Time difference of 0,001554251 secs"
      ]
     },
     "metadata": {},
     "output_type": "display_data"
    }
   ],
   "source": [
    "col.end.time - col.start.time"
   ]
  },
  {
   "cell_type": "code",
   "execution_count": 82,
   "metadata": {},
   "outputs": [
    {
     "data": {
      "text/html": [
       "<table>\n",
       "<caption>A data.frame: 6 × 4</caption>\n",
       "<thead>\n",
       "\t<tr><th></th><th scope=col>width</th><th scope=col>height</th><th scope=col>area</th><th scope=col>n_color</th></tr>\n",
       "\t<tr><th></th><th scope=col>&lt;dbl&gt;</th><th scope=col>&lt;dbl&gt;</th><th scope=col>&lt;dbl&gt;</th><th scope=col>&lt;int&gt;</th></tr>\n",
       "</thead>\n",
       "<tbody>\n",
       "\t<tr><th scope=row>17189</th><td>113</td><td>157</td><td>17741</td><td>2665</td></tr>\n",
       "\t<tr><th scope=row>17190</th><td>157</td><td>113</td><td>17741</td><td>2721</td></tr>\n",
       "\t<tr><th scope=row>3413</th><td>105</td><td>169</td><td>17745</td><td>3735</td></tr>\n",
       "\t<tr><th scope=row>3414</th><td>169</td><td>105</td><td>17745</td><td>3778</td></tr>\n",
       "\t<tr><th scope=row>22403</th><td>116</td><td>153</td><td>17748</td><td>2262</td></tr>\n",
       "\t<tr><th scope=row>22404</th><td>153</td><td>116</td><td>17748</td><td>2321</td></tr>\n",
       "</tbody>\n",
       "</table>\n"
      ],
      "text/latex": [
       "A data.frame: 6 × 4\n",
       "\\begin{tabular}{r|llll}\n",
       "  & width & height & area & n\\_color\\\\\n",
       "  & <dbl> & <dbl> & <dbl> & <int>\\\\\n",
       "\\hline\n",
       "\t17189 & 113 & 157 & 17741 & 2665\\\\\n",
       "\t17190 & 157 & 113 & 17741 & 2721\\\\\n",
       "\t3413 & 105 & 169 & 17745 & 3735\\\\\n",
       "\t3414 & 169 & 105 & 17745 & 3778\\\\\n",
       "\t22403 & 116 & 153 & 17748 & 2262\\\\\n",
       "\t22404 & 153 & 116 & 17748 & 2321\\\\\n",
       "\\end{tabular}\n"
      ],
      "text/markdown": [
       "\n",
       "A data.frame: 6 × 4\n",
       "\n",
       "| <!--/--> | width &lt;dbl&gt; | height &lt;dbl&gt; | area &lt;dbl&gt; | n_color &lt;int&gt; |\n",
       "|---|---|---|---|---|\n",
       "| 17189 | 113 | 157 | 17741 | 2665 |\n",
       "| 17190 | 157 | 113 | 17741 | 2721 |\n",
       "| 3413 | 105 | 169 | 17745 | 3735 |\n",
       "| 3414 | 169 | 105 | 17745 | 3778 |\n",
       "| 22403 | 116 | 153 | 17748 | 2262 |\n",
       "| 22404 | 153 | 116 | 17748 | 2321 |\n",
       "\n"
      ],
      "text/plain": [
       "      width height area  n_color\n",
       "17189 113   157    17741 2665   \n",
       "17190 157   113    17741 2721   \n",
       "3413  105   169    17745 3735   \n",
       "3414  169   105    17745 3778   \n",
       "22403 116   153    17748 2262   \n",
       "22404 153   116    17748 2321   "
      ]
     },
     "metadata": {},
     "output_type": "display_data"
    }
   ],
   "source": [
    "head(df_w_h)"
   ]
  },
  {
   "cell_type": "code",
   "execution_count": 83,
   "metadata": {},
   "outputs": [
    {
     "data": {
      "text/html": [
       "<ol class=list-inline>\n",
       "\t<li>0</li>\n",
       "\t<li>1</li>\n",
       "\t<li>2</li>\n",
       "\t<li>3</li>\n",
       "\t<li>4</li>\n",
       "\t<li>5</li>\n",
       "</ol>\n"
      ],
      "text/latex": [
       "\\begin{enumerate*}\n",
       "\\item 0\n",
       "\\item 1\n",
       "\\item 2\n",
       "\\item 3\n",
       "\\item 4\n",
       "\\item 5\n",
       "\\end{enumerate*}\n"
      ],
      "text/markdown": [
       "1. 0\n",
       "2. 1\n",
       "3. 2\n",
       "4. 3\n",
       "5. 4\n",
       "6. 5\n",
       "\n",
       "\n"
      ],
      "text/plain": [
       "[1] 0 1 2 3 4 5"
      ]
     },
     "metadata": {},
     "output_type": "display_data"
    },
    {
     "data": {
      "text/html": [
       "829"
      ],
      "text/latex": [
       "829"
      ],
      "text/markdown": [
       "829"
      ],
      "text/plain": [
       "[1] 829"
      ]
     },
     "metadata": {},
     "output_type": "display_data"
    }
   ],
   "source": [
    "n_omit_col <- unique(df_w_h$n_color)\n",
    "n_omit_col <- n_omit_col[order(n_omit_col)]\n",
    "head(n_omit_col)\n",
    "\n",
    "length(n_omit_col)"
   ]
  },
  {
   "cell_type": "markdown",
   "metadata": {},
   "source": [
    "The best pixels configurations are the ones having an `n_color` value of 0 (all colors are present)."
   ]
  },
  {
   "cell_type": "code",
   "execution_count": 89,
   "metadata": {},
   "outputs": [],
   "source": [
    "best_pix_conf <- df_w_h[df_w_h$n_color==n_omit_col[1], ]"
   ]
  },
  {
   "cell_type": "code",
   "execution_count": 90,
   "metadata": {},
   "outputs": [
    {
     "data": {
      "text/html": [
       "104867"
      ],
      "text/latex": [
       "104867"
      ],
      "text/markdown": [
       "104867"
      ],
      "text/plain": [
       "[1] 104867"
      ]
     },
     "metadata": {},
     "output_type": "display_data"
    }
   ],
   "source": [
    "# Number of pixels configuration having all colors present\n",
    "nrow(best_pix_conf)"
   ]
  },
  {
   "cell_type": "code",
   "execution_count": 94,
   "metadata": {},
   "outputs": [
    {
     "data": {
      "text/html": [
       "<table>\n",
       "<caption>A data.frame: 10 × 4</caption>\n",
       "<thead>\n",
       "\t<tr><th></th><th scope=col>width</th><th scope=col>height</th><th scope=col>area</th><th scope=col>n_color</th></tr>\n",
       "\t<tr><th></th><th scope=col>&lt;dbl&gt;</th><th scope=col>&lt;dbl&gt;</th><th scope=col>&lt;dbl&gt;</th><th scope=col>&lt;int&gt;</th></tr>\n",
       "</thead>\n",
       "<tbody>\n",
       "\t<tr><th scope=row>126277</th><td>175</td><td>571</td><td> 99925</td><td>0</td></tr>\n",
       "\t<tr><th scope=row>126279</th><td>175</td><td>572</td><td>100100</td><td>0</td></tr>\n",
       "\t<tr><th scope=row>126281</th><td>175</td><td>573</td><td>100275</td><td>0</td></tr>\n",
       "\t<tr><th scope=row>126283</th><td>175</td><td>574</td><td>100450</td><td>0</td></tr>\n",
       "\t<tr><th scope=row>126285</th><td>175</td><td>575</td><td>100625</td><td>0</td></tr>\n",
       "\t<tr><th scope=row>126287</th><td>175</td><td>576</td><td>100800</td><td>0</td></tr>\n",
       "\t<tr><th scope=row>126289</th><td>175</td><td>577</td><td>100975</td><td>0</td></tr>\n",
       "\t<tr><th scope=row>126291</th><td>175</td><td>578</td><td>101150</td><td>0</td></tr>\n",
       "\t<tr><th scope=row>126293</th><td>175</td><td>579</td><td>101325</td><td>0</td></tr>\n",
       "\t<tr><th scope=row>126295</th><td>175</td><td>580</td><td>101500</td><td>0</td></tr>\n",
       "</tbody>\n",
       "</table>\n"
      ],
      "text/latex": [
       "A data.frame: 10 × 4\n",
       "\\begin{tabular}{r|llll}\n",
       "  & width & height & area & n\\_color\\\\\n",
       "  & <dbl> & <dbl> & <dbl> & <int>\\\\\n",
       "\\hline\n",
       "\t126277 & 175 & 571 &  99925 & 0\\\\\n",
       "\t126279 & 175 & 572 & 100100 & 0\\\\\n",
       "\t126281 & 175 & 573 & 100275 & 0\\\\\n",
       "\t126283 & 175 & 574 & 100450 & 0\\\\\n",
       "\t126285 & 175 & 575 & 100625 & 0\\\\\n",
       "\t126287 & 175 & 576 & 100800 & 0\\\\\n",
       "\t126289 & 175 & 577 & 100975 & 0\\\\\n",
       "\t126291 & 175 & 578 & 101150 & 0\\\\\n",
       "\t126293 & 175 & 579 & 101325 & 0\\\\\n",
       "\t126295 & 175 & 580 & 101500 & 0\\\\\n",
       "\\end{tabular}\n"
      ],
      "text/markdown": [
       "\n",
       "A data.frame: 10 × 4\n",
       "\n",
       "| <!--/--> | width &lt;dbl&gt; | height &lt;dbl&gt; | area &lt;dbl&gt; | n_color &lt;int&gt; |\n",
       "|---|---|---|---|---|\n",
       "| 126277 | 175 | 571 |  99925 | 0 |\n",
       "| 126279 | 175 | 572 | 100100 | 0 |\n",
       "| 126281 | 175 | 573 | 100275 | 0 |\n",
       "| 126283 | 175 | 574 | 100450 | 0 |\n",
       "| 126285 | 175 | 575 | 100625 | 0 |\n",
       "| 126287 | 175 | 576 | 100800 | 0 |\n",
       "| 126289 | 175 | 577 | 100975 | 0 |\n",
       "| 126291 | 175 | 578 | 101150 | 0 |\n",
       "| 126293 | 175 | 579 | 101325 | 0 |\n",
       "| 126295 | 175 | 580 | 101500 | 0 |\n",
       "\n"
      ],
      "text/plain": [
       "       width height area   n_color\n",
       "126277 175   571     99925 0      \n",
       "126279 175   572    100100 0      \n",
       "126281 175   573    100275 0      \n",
       "126283 175   574    100450 0      \n",
       "126285 175   575    100625 0      \n",
       "126287 175   576    100800 0      \n",
       "126289 175   577    100975 0      \n",
       "126291 175   578    101150 0      \n",
       "126293 175   579    101325 0      \n",
       "126295 175   580    101500 0      "
      ]
     },
     "metadata": {},
     "output_type": "display_data"
    }
   ],
   "source": [
    "head(best_pix_conf, 10)"
   ]
  },
  {
   "cell_type": "code",
   "execution_count": 95,
   "metadata": {},
   "outputs": [
    {
     "data": {
      "text/html": [
       "<table>\n",
       "<caption>A data.frame: 10 × 4</caption>\n",
       "<thead>\n",
       "\t<tr><th></th><th scope=col>width</th><th scope=col>height</th><th scope=col>area</th><th scope=col>n_color</th></tr>\n",
       "\t<tr><th></th><th scope=col>&lt;dbl&gt;</th><th scope=col>&lt;dbl&gt;</th><th scope=col>&lt;dbl&gt;</th><th scope=col>&lt;int&gt;</th></tr>\n",
       "</thead>\n",
       "<tbody>\n",
       "\t<tr><th scope=row>126277</th><td>175</td><td>571</td><td> 99925</td><td>0</td></tr>\n",
       "\t<tr><th scope=row>133049</th><td>179</td><td>571</td><td>102209</td><td>0</td></tr>\n",
       "\t<tr><th scope=row>134737</th><td>180</td><td>571</td><td>102780</td><td>0</td></tr>\n",
       "\t<tr><th scope=row>138107</th><td>182</td><td>571</td><td>103922</td><td>0</td></tr>\n",
       "\t<tr><th scope=row>139789</th><td>183</td><td>571</td><td>104493</td><td>0</td></tr>\n",
       "\t<tr><th scope=row>143147</th><td>185</td><td>571</td><td>105635</td><td>0</td></tr>\n",
       "\t<tr><th scope=row>146497</th><td>187</td><td>571</td><td>106777</td><td>0</td></tr>\n",
       "\t<tr><th scope=row>149839</th><td>189</td><td>571</td><td>107919</td><td>0</td></tr>\n",
       "\t<tr><th scope=row>151507</th><td>190</td><td>571</td><td>108490</td><td>0</td></tr>\n",
       "\t<tr><th scope=row>153173</th><td>191</td><td>571</td><td>109061</td><td>0</td></tr>\n",
       "</tbody>\n",
       "</table>\n"
      ],
      "text/latex": [
       "A data.frame: 10 × 4\n",
       "\\begin{tabular}{r|llll}\n",
       "  & width & height & area & n\\_color\\\\\n",
       "  & <dbl> & <dbl> & <dbl> & <int>\\\\\n",
       "\\hline\n",
       "\t126277 & 175 & 571 &  99925 & 0\\\\\n",
       "\t133049 & 179 & 571 & 102209 & 0\\\\\n",
       "\t134737 & 180 & 571 & 102780 & 0\\\\\n",
       "\t138107 & 182 & 571 & 103922 & 0\\\\\n",
       "\t139789 & 183 & 571 & 104493 & 0\\\\\n",
       "\t143147 & 185 & 571 & 105635 & 0\\\\\n",
       "\t146497 & 187 & 571 & 106777 & 0\\\\\n",
       "\t149839 & 189 & 571 & 107919 & 0\\\\\n",
       "\t151507 & 190 & 571 & 108490 & 0\\\\\n",
       "\t153173 & 191 & 571 & 109061 & 0\\\\\n",
       "\\end{tabular}\n"
      ],
      "text/markdown": [
       "\n",
       "A data.frame: 10 × 4\n",
       "\n",
       "| <!--/--> | width &lt;dbl&gt; | height &lt;dbl&gt; | area &lt;dbl&gt; | n_color &lt;int&gt; |\n",
       "|---|---|---|---|---|\n",
       "| 126277 | 175 | 571 |  99925 | 0 |\n",
       "| 133049 | 179 | 571 | 102209 | 0 |\n",
       "| 134737 | 180 | 571 | 102780 | 0 |\n",
       "| 138107 | 182 | 571 | 103922 | 0 |\n",
       "| 139789 | 183 | 571 | 104493 | 0 |\n",
       "| 143147 | 185 | 571 | 105635 | 0 |\n",
       "| 146497 | 187 | 571 | 106777 | 0 |\n",
       "| 149839 | 189 | 571 | 107919 | 0 |\n",
       "| 151507 | 190 | 571 | 108490 | 0 |\n",
       "| 153173 | 191 | 571 | 109061 | 0 |\n",
       "\n"
      ],
      "text/plain": [
       "       width height area   n_color\n",
       "126277 175   571     99925 0      \n",
       "133049 179   571    102209 0      \n",
       "134737 180   571    102780 0      \n",
       "138107 182   571    103922 0      \n",
       "139789 183   571    104493 0      \n",
       "143147 185   571    105635 0      \n",
       "146497 187   571    106777 0      \n",
       "149839 189   571    107919 0      \n",
       "151507 190   571    108490 0      \n",
       "153173 191   571    109061 0      "
      ]
     },
     "metadata": {},
     "output_type": "display_data"
    }
   ],
   "source": [
    "# Best pixels configurations having the lowest height\n",
    "head(best_pix_conf[order(best_pix_conf$height, best_pix_conf$area), ], 10)"
   ]
  },
  {
   "cell_type": "code",
   "execution_count": 127,
   "metadata": {},
   "outputs": [
    {
     "data": {
      "text/html": [
       "175"
      ],
      "text/latex": [
       "175"
      ],
      "text/markdown": [
       "175"
      ],
      "text/plain": [
       "[1] 175"
      ]
     },
     "metadata": {},
     "output_type": "display_data"
    },
    {
     "data": {
      "text/html": [
       "571"
      ],
      "text/latex": [
       "571"
      ],
      "text/markdown": [
       "571"
      ],
      "text/plain": [
       "[1] 571"
      ]
     },
     "metadata": {},
     "output_type": "display_data"
    }
   ],
   "source": [
    "min(best_pix_conf$width)\n",
    "\n",
    "min(best_pix_conf$height)"
   ]
  },
  {
   "cell_type": "markdown",
   "metadata": {},
   "source": [
    "175x571 is the minimum number of pixels configuration to produce an RRGGBB matrix containing all colors."
   ]
  },
  {
   "cell_type": "markdown",
   "metadata": {},
   "source": [
    "#### Matrix elements area\n",
    "\n",
    "In order to select the optimum filter size when applying the CNN model, it would be beneficial to study the distribution of the areas, widths and heights of the rectangular elements in the RRGGBB matrix, using the best pixels configuration previously found."
   ]
  },
  {
   "cell_type": "code",
   "execution_count": 90,
   "metadata": {},
   "outputs": [],
   "source": [
    "# Using 175x571 pixels (all colors present)\n",
    "kegg_mat <- generate_rrggbb_matrix(df_treemap = df_res_pix, n_width = 175, n_height = 571)"
   ]
  },
  {
   "cell_type": "code",
   "execution_count": 91,
   "metadata": {},
   "outputs": [
    {
     "data": {
      "text/html": [
       "<table>\n",
       "<caption>A matrix: 6 × 175 of type chr</caption>\n",
       "<tbody>\n",
       "\t<tr><td>#998181</td><td>#998181</td><td>#998181</td><td>#998181</td><td>#998181</td><td>#998181</td><td>#998181</td><td>#998181</td><td>#998181</td><td>#998181</td><td>⋯</td><td>#837676</td><td>#5F1F1F</td><td>#7D0D0D</td><td>#303333</td><td>#303333</td><td>#67D1D1</td><td>#5F0101</td><td>#CCDBDB</td><td>#CCDBDB</td><td>#459999</td></tr>\n",
       "\t<tr><td>#906C6C</td><td>#1AACAC</td><td>#1AACAC</td><td>#1EB1B1</td><td>#044444</td><td>#8E5959</td><td>#B1BDBD</td><td>#B1BDBD</td><td>#8F9A9A</td><td>#C6ABAB</td><td>⋯</td><td>#837676</td><td>#5F1F1F</td><td>#7D0D0D</td><td>#303333</td><td>#303333</td><td>#67D1D1</td><td>#5F0101</td><td>#CCDBDB</td><td>#CCDBDB</td><td>#459999</td></tr>\n",
       "\t<tr><td>#906C6C</td><td>#1AACAC</td><td>#1AACAC</td><td>#1EB1B1</td><td>#044444</td><td>#8E5959</td><td>#B1BDBD</td><td>#B1BDBD</td><td>#8F9A9A</td><td>#C6ABAB</td><td>⋯</td><td>#837676</td><td>#5F1F1F</td><td>#7D0D0D</td><td>#303333</td><td>#303333</td><td>#67D1D1</td><td>#5F0101</td><td>#CCDBDB</td><td>#CCDBDB</td><td>#459999</td></tr>\n",
       "\t<tr><td>#906C6C</td><td>#1AACAC</td><td>#1AACAC</td><td>#1EB1B1</td><td>#044444</td><td>#8E5959</td><td>#B1BDBD</td><td>#B1BDBD</td><td>#8F9A9A</td><td>#C6ABAB</td><td>⋯</td><td>#837676</td><td>#5F1F1F</td><td>#7D0D0D</td><td>#303333</td><td>#303333</td><td>#67D1D1</td><td>#5F0101</td><td>#CCDBDB</td><td>#CCDBDB</td><td>#459999</td></tr>\n",
       "\t<tr><td>#906C6C</td><td>#1AACAC</td><td>#1AACAC</td><td>#1EB1B1</td><td>#044444</td><td>#8E5959</td><td>#B1BDBD</td><td>#B1BDBD</td><td>#8F9A9A</td><td>#C6ABAB</td><td>⋯</td><td>#044141</td><td>#148B8B</td><td>#769292</td><td>#BFFAFA</td><td>#BFFAFA</td><td>#993C3C</td><td>#8E5656</td><td>#607878</td><td>#607878</td><td>#B8A7A7</td></tr>\n",
       "\t<tr><td>#5C1616</td><td>#651F1F</td><td>#651F1F</td><td>#9BCDCD</td><td>#203A3A</td><td>#976262</td><td>#976262</td><td>#C6B1B1</td><td>#971111</td><td>#030C0C</td><td>⋯</td><td>#044141</td><td>#148B8B</td><td>#769292</td><td>#BFFAFA</td><td>#BFFAFA</td><td>#993C3C</td><td>#8E5656</td><td>#607878</td><td>#607878</td><td>#B8A7A7</td></tr>\n",
       "</tbody>\n",
       "</table>\n"
      ],
      "text/latex": [
       "A matrix: 6 × 175 of type chr\n",
       "\\begin{tabular}{lllllllllllllllllllllllllllllllllllllllllllllllllllllllllllllllllllllllllllllllllllllllllllllllllllllllllllllllllllllllllllllllllllllllllllllllllllllllllllllllllllllllllllllll}\n",
       "\t \\#998181 & \\#998181 & \\#998181 & \\#998181 & \\#998181 & \\#998181 & \\#998181 & \\#998181 & \\#998181 & \\#998181 & \\#998181 & \\#54AEAE & \\#54AEAE & \\#54AEAE & \\#54AEAE & \\#54AEAE & \\#54AEAE & \\#54AEAE & \\#54AEAE & \\#54AEAE & \\#54AEAE & \\#54AEAE & \\#54A5A5 & \\#54A5A5 & \\#54A5A5 & \\#54A5A5 & \\#54A5A5 & \\#54A5A5 & \\#54A5A5 & \\#54A5A5 & \\#54A5A5 & \\#54A5A5 & \\#54A5A5 & \\#54A5A5 & \\#3AECEC & \\#3AECEC & \\#3AECEC & \\#3AECEC & \\#3AECEC & \\#3AECEC & \\#3AECEC & \\#3AECEC & \\#3AECEC & \\#3AECEC & \\#3AECEC & \\#3F1515 & \\#3F1515 & \\#3F1515 & \\#3F1515 & \\#3F1515 & \\#3F1515 & \\#3F1515 & \\#3F1515 & \\#3F1515 & \\#3F1515 & \\#3F1515 & \\#C32727 & \\#C32727 & \\#C32727 & \\#C32727 & \\#C32727 & \\#C32727 & \\#C32727 & \\#C32727 & \\#C32727 & \\#C32727 & \\#C32727 & \\#3F1E1E & \\#3F1E1E & \\#3F1E1E & \\#3F1E1E & \\#3F1E1E & \\#3F1E1E & \\#3F1E1E & \\#3F1E1E & \\#3F1E1E & \\#3F1E1E & \\#3F1E1E & \\#3F1E1E & \\#C84646 & \\#C84646 & \\#C84646 & \\#C84646 & \\#C84646 & \\#C84646 & \\#C84646 & \\#C84646 & \\#C84646 & \\#C84646 & \\#C84646 & \\#C84F4F & \\#C84F4F & \\#C84F4F & \\#C84F4F & \\#C84F4F & \\#C84F4F & \\#C84F4F & \\#C84F4F & \\#C84F4F & \\#C84F4F & \\#C84F4F & \\#906969 & \\#5F9191 & \\#5F9191 & \\#B4DBDB & \\#1B2D2D & \\#97EFEF & \\#97EFEF & \\#A50606 & \\#8A0606 & \\#A2F9F9 & \\#A2F9F9 & \\#6BB8B8 & \\#9C7878 & \\#B8A1A1 & \\#188181 & \\#188181 & \\#366363 & \\#B9F4F4 & \\#773434 & \\#773434 & \\#31F2F2 & \\#8C5B5B & \\#569494 & \\#569494 & \\#9EA6A6 & \\#7D0707 & \\#4ADFDF & \\#4ADFDF & \\#071111 & \\#5C1313 & \\#86AFAF & \\#86AFAF & \\#504646 & \\#9B0404 & \\#572121 & \\#572121 & \\#102929 & \\#C34242 & \\#8E2323 & \\#8E2323 & \\#3BD9D9 & \\#86EEEE & \\#203D3D & \\#203D3D & \\#1CF8F8 & \\#334E4E & \\#5E7171 & \\#5E7171 & \\#A97474 & \\#784E4E & \\#2EA7A7 & \\#2EA7A7 & \\#0E8585 & \\#703E3E & \\#35D0D0 & \\#67C5C5 & \\#67C5C5 & \\#66EAEA & \\#180303 & \\#BF0101 & \\#BF0101 & \\#1E2D2D & \\#B15A5A & \\#837676 & \\#837676 & \\#5F1F1F & \\#7D0D0D & \\#303333 & \\#303333 & \\#67D1D1 & \\#5F0101 & \\#CCDBDB & \\#CCDBDB & \\#459999\\\\\n",
       "\t \\#906C6C & \\#1AACAC & \\#1AACAC & \\#1EB1B1 & \\#044444 & \\#8E5959 & \\#B1BDBD & \\#B1BDBD & \\#8F9A9A & \\#C6ABAB & \\#AD1F1F & \\#AD1F1F & \\#1FECEC & \\#5DAEAE & \\#8E6E6E & \\#8E6E6E & \\#738383 & \\#023737 & \\#30B4B4 & \\#5E6E6E & \\#5E6E6E & \\#BD0000 & \\#BDABAB & \\#B7FCFC & \\#B7FCFC & \\#6BBBBB & \\#B9F7F7 & \\#7D0A0A & \\#504949 & \\#504949 & \\#785151 & \\#2EAAAA & \\#BF0404 & \\#BF0404 & \\#837979 & \\#7D1010 & \\#9E3D3D & \\#BFF7F7 & \\#BFF7F7 & \\#993F3F & \\#2C3A3A & \\#963333 & \\#963333 & \\#230404 & \\#188484 & \\#9B0707 & \\#9B0707 & \\#35D3D3 & \\#180606 & \\#647474 & \\#647474 & \\#78B7B7 & \\#72B1B1 & \\#313232 & \\#313232 & \\#110D0D & \\#3FB7B7 & \\#BE0202 & \\#BE0202 & \\#406B6B & \\#3EA3A3 & \\#0D5050 & \\#0D5050 & \\#AC8C8C & \\#1D0D0D & \\#A36565 & \\#A36565 & \\#510909 & \\#A62929 & \\#8A7272 & \\#8A7272 & \\#1D1313 & \\#0E8888 & \\#631818 & \\#6E7C7C & \\#6E7C7C & \\#2D1212 & \\#780303 & \\#A8B1B1 & \\#6E8E8E & \\#6E8E8E & \\#58ADAD & \\#69F9F9 & \\#31F5F5 & \\#572424 & \\#572424 & \\#575A5A & \\#78B4B4 & \\#573F3F & \\#574848 & \\#574848 & \\#312F2F & \\#578787 & \\#39B1B1 & \\#39B1B1 & \\#76F5F5 & \\#571B1B & \\#A62626 & \\#219090 & \\#219090 & \\#7CF5F5 & \\#906969 & \\#5F9191 & \\#5F9191 & \\#B4DBDB & \\#1B2D2D & \\#97EFEF & \\#97EFEF & \\#A50606 & \\#8A0606 & \\#A2F9F9 & \\#A2F9F9 & \\#6BB8B8 & \\#9C7878 & \\#B8A1A1 & \\#188181 & \\#188181 & \\#366363 & \\#B9F4F4 & \\#773434 & \\#773434 & \\#31F2F2 & \\#8C5B5B & \\#569494 & \\#569494 & \\#9EA6A6 & \\#7D0707 & \\#4ADFDF & \\#4ADFDF & \\#071111 & \\#5C1313 & \\#86AFAF & \\#86AFAF & \\#504646 & \\#9B0404 & \\#572121 & \\#572121 & \\#102929 & \\#C34242 & \\#8E2323 & \\#8E2323 & \\#3BD9D9 & \\#86EEEE & \\#203D3D & \\#203D3D & \\#1CF8F8 & \\#334E4E & \\#5E7171 & \\#5E7171 & \\#A97474 & \\#784E4E & \\#2EA7A7 & \\#2EA7A7 & \\#0E8585 & \\#703E3E & \\#35D0D0 & \\#67C5C5 & \\#67C5C5 & \\#66EAEA & \\#180303 & \\#BF0101 & \\#BF0101 & \\#1E2D2D & \\#B15A5A & \\#837676 & \\#837676 & \\#5F1F1F & \\#7D0D0D & \\#303333 & \\#303333 & \\#67D1D1 & \\#5F0101 & \\#CCDBDB & \\#CCDBDB & \\#459999\\\\\n",
       "\t \\#906C6C & \\#1AACAC & \\#1AACAC & \\#1EB1B1 & \\#044444 & \\#8E5959 & \\#B1BDBD & \\#B1BDBD & \\#8F9A9A & \\#C6ABAB & \\#AD1F1F & \\#AD1F1F & \\#1FECEC & \\#5DAEAE & \\#8E6E6E & \\#8E6E6E & \\#738383 & \\#023737 & \\#30B4B4 & \\#5E6E6E & \\#5E6E6E & \\#BD0000 & \\#BDABAB & \\#B7FCFC & \\#B7FCFC & \\#6BBBBB & \\#B9F7F7 & \\#7D0A0A & \\#504949 & \\#504949 & \\#785151 & \\#2EAAAA & \\#BF0404 & \\#BF0404 & \\#837979 & \\#7D1010 & \\#9E3D3D & \\#BFF7F7 & \\#BFF7F7 & \\#993F3F & \\#2C3A3A & \\#963333 & \\#963333 & \\#230404 & \\#188484 & \\#9B0707 & \\#9B0707 & \\#35D3D3 & \\#180606 & \\#647474 & \\#647474 & \\#78B7B7 & \\#72B1B1 & \\#313232 & \\#313232 & \\#110D0D & \\#3FB7B7 & \\#BE0202 & \\#BE0202 & \\#406B6B & \\#3EA3A3 & \\#0D5050 & \\#0D5050 & \\#AC8C8C & \\#1D0D0D & \\#A36565 & \\#A36565 & \\#510909 & \\#A62929 & \\#8A7272 & \\#8A7272 & \\#1D1313 & \\#0E8888 & \\#631818 & \\#6E7C7C & \\#6E7C7C & \\#2D1212 & \\#780303 & \\#A8B1B1 & \\#6E8E8E & \\#6E8E8E & \\#58ADAD & \\#69F9F9 & \\#31F5F5 & \\#572424 & \\#572424 & \\#575A5A & \\#78B4B4 & \\#573F3F & \\#574848 & \\#574848 & \\#312F2F & \\#578787 & \\#39B1B1 & \\#39B1B1 & \\#76F5F5 & \\#571B1B & \\#A62626 & \\#219090 & \\#219090 & \\#7CF5F5 & \\#906969 & \\#5F9191 & \\#5F9191 & \\#B4DBDB & \\#1B2D2D & \\#97EFEF & \\#97EFEF & \\#A50606 & \\#8A0606 & \\#A2F9F9 & \\#A2F9F9 & \\#6BB8B8 & \\#9C7878 & \\#B8A1A1 & \\#188181 & \\#188181 & \\#366363 & \\#B9F4F4 & \\#773434 & \\#773434 & \\#31F2F2 & \\#8C5B5B & \\#569494 & \\#569494 & \\#9EA6A6 & \\#7D0707 & \\#4ADFDF & \\#4ADFDF & \\#071111 & \\#5C1313 & \\#86AFAF & \\#86AFAF & \\#504646 & \\#9B0404 & \\#572121 & \\#572121 & \\#102929 & \\#C34242 & \\#8E2323 & \\#8E2323 & \\#3BD9D9 & \\#86EEEE & \\#203D3D & \\#203D3D & \\#1CF8F8 & \\#334E4E & \\#5E7171 & \\#5E7171 & \\#A97474 & \\#784E4E & \\#2EA7A7 & \\#2EA7A7 & \\#0E8585 & \\#703E3E & \\#35D0D0 & \\#67C5C5 & \\#67C5C5 & \\#66EAEA & \\#180303 & \\#BF0101 & \\#BF0101 & \\#1E2D2D & \\#B15A5A & \\#837676 & \\#837676 & \\#5F1F1F & \\#7D0D0D & \\#303333 & \\#303333 & \\#67D1D1 & \\#5F0101 & \\#CCDBDB & \\#CCDBDB & \\#459999\\\\\n",
       "\t \\#906C6C & \\#1AACAC & \\#1AACAC & \\#1EB1B1 & \\#044444 & \\#8E5959 & \\#B1BDBD & \\#B1BDBD & \\#8F9A9A & \\#C6ABAB & \\#AD1F1F & \\#AD1F1F & \\#1FECEC & \\#5DAEAE & \\#8E6E6E & \\#8E6E6E & \\#738383 & \\#023737 & \\#30B4B4 & \\#5E6E6E & \\#5E6E6E & \\#BD0000 & \\#BDABAB & \\#B7FCFC & \\#B7FCFC & \\#6BBBBB & \\#B9F7F7 & \\#7D0A0A & \\#504949 & \\#504949 & \\#785151 & \\#2EAAAA & \\#BF0404 & \\#BF0404 & \\#837979 & \\#7D1010 & \\#9E3D3D & \\#BFF7F7 & \\#BFF7F7 & \\#993F3F & \\#2C3A3A & \\#963333 & \\#963333 & \\#230404 & \\#188484 & \\#9B0707 & \\#9B0707 & \\#35D3D3 & \\#180606 & \\#647474 & \\#647474 & \\#78B7B7 & \\#72B1B1 & \\#313232 & \\#313232 & \\#110D0D & \\#3FB7B7 & \\#BE0202 & \\#BE0202 & \\#406B6B & \\#3EA3A3 & \\#0D5050 & \\#0D5050 & \\#AC8C8C & \\#1D0D0D & \\#A36565 & \\#A36565 & \\#510909 & \\#A62929 & \\#8A7272 & \\#8A7272 & \\#1D1313 & \\#0E8888 & \\#631818 & \\#6E7C7C & \\#6E7C7C & \\#2D1212 & \\#780303 & \\#A8B1B1 & \\#6E8E8E & \\#6E8E8E & \\#58ADAD & \\#69F9F9 & \\#31F5F5 & \\#572424 & \\#572424 & \\#575A5A & \\#78B4B4 & \\#573F3F & \\#574848 & \\#574848 & \\#312F2F & \\#578787 & \\#39B1B1 & \\#39B1B1 & \\#76F5F5 & \\#571B1B & \\#A62626 & \\#219090 & \\#219090 & \\#7CF5F5 & \\#906969 & \\#5F9191 & \\#5F9191 & \\#B4DBDB & \\#1B2D2D & \\#97EFEF & \\#97EFEF & \\#A50606 & \\#8A0606 & \\#A2F9F9 & \\#A2F9F9 & \\#6BB8B8 & \\#9C7878 & \\#B8A1A1 & \\#188181 & \\#188181 & \\#366363 & \\#B9F4F4 & \\#773434 & \\#773434 & \\#31F2F2 & \\#8C5B5B & \\#569494 & \\#569494 & \\#9EA6A6 & \\#7D0707 & \\#4ADFDF & \\#4ADFDF & \\#071111 & \\#5C1313 & \\#86AFAF & \\#86AFAF & \\#504646 & \\#9B0404 & \\#572121 & \\#572121 & \\#102929 & \\#C34242 & \\#8E2323 & \\#8E2323 & \\#3BD9D9 & \\#86EEEE & \\#203D3D & \\#203D3D & \\#1CF8F8 & \\#334E4E & \\#5E7171 & \\#5E7171 & \\#A97474 & \\#784E4E & \\#2EA7A7 & \\#2EA7A7 & \\#0E8585 & \\#703E3E & \\#35D0D0 & \\#67C5C5 & \\#67C5C5 & \\#66EAEA & \\#180303 & \\#BF0101 & \\#BF0101 & \\#1E2D2D & \\#B15A5A & \\#837676 & \\#837676 & \\#5F1F1F & \\#7D0D0D & \\#303333 & \\#303333 & \\#67D1D1 & \\#5F0101 & \\#CCDBDB & \\#CCDBDB & \\#459999\\\\\n",
       "\t \\#906C6C & \\#1AACAC & \\#1AACAC & \\#1EB1B1 & \\#044444 & \\#8E5959 & \\#B1BDBD & \\#B1BDBD & \\#8F9A9A & \\#C6ABAB & \\#AD1F1F & \\#AD1F1F & \\#1FECEC & \\#5DAEAE & \\#8E6E6E & \\#8E6E6E & \\#738383 & \\#023737 & \\#30B4B4 & \\#5E6E6E & \\#5E6E6E & \\#BD0000 & \\#BDABAB & \\#B7FCFC & \\#B7FCFC & \\#6BBBBB & \\#B9F7F7 & \\#7D0A0A & \\#504949 & \\#504949 & \\#785151 & \\#2EAAAA & \\#BF0404 & \\#BF0404 & \\#837979 & \\#7D1010 & \\#9E3D3D & \\#BFF7F7 & \\#BFF7F7 & \\#993F3F & \\#2C3A3A & \\#963333 & \\#963333 & \\#230404 & \\#188484 & \\#9B0707 & \\#9B0707 & \\#35D3D3 & \\#180606 & \\#647474 & \\#647474 & \\#78B7B7 & \\#72B1B1 & \\#313232 & \\#313232 & \\#110D0D & \\#3FB7B7 & \\#BE0202 & \\#BE0202 & \\#406B6B & \\#3EA3A3 & \\#0D5050 & \\#0D5050 & \\#AC8C8C & \\#1D0D0D & \\#A36565 & \\#A36565 & \\#510909 & \\#A62929 & \\#8A7272 & \\#8A7272 & \\#1D1313 & \\#0E8888 & \\#631818 & \\#6E7C7C & \\#6E7C7C & \\#2D1212 & \\#780303 & \\#A8B1B1 & \\#6E8E8E & \\#6E8E8E & \\#58ADAD & \\#69F9F9 & \\#31F5F5 & \\#572424 & \\#572424 & \\#575A5A & \\#78B4B4 & \\#573F3F & \\#574848 & \\#574848 & \\#312F2F & \\#578787 & \\#39B1B1 & \\#39B1B1 & \\#76F5F5 & \\#571B1B & \\#A62626 & \\#219090 & \\#219090 & \\#7CF5F5 & \\#647171 & \\#11DCDC & \\#11DCDC & \\#317D7D & \\#568888 & \\#702C2C & \\#702C2C & \\#B71B1B & \\#391515 & \\#9A7A7A & \\#9A7A7A & \\#198686 & \\#0BE5E5 & \\#692A2A & \\#348383 & \\#348383 & \\#2FA9A9 & \\#5AB1B1 & \\#81F9F9 & \\#81F9F9 & \\#B05555 & \\#C1B6B6 & \\#606969 & \\#606969 & \\#BA1E1E & \\#575757 & \\#78B1B1 & \\#78B1B1 & \\#16B0B0 & \\#9E3A3A & \\#136E6E & \\#136E6E & \\#952828 & \\#327373 & \\#573C3C & \\#573C3C & \\#574545 & \\#225C5C & \\#9FF9F9 & \\#9FF9F9 & \\#BFF4F4 & \\#ABFCFC & \\#3A3E3E & \\#3A3E3E & \\#054040 & \\#652222 & \\#CD1111 & \\#CD1111 & \\#A44646 & \\#72AEAE & \\#46D7D7 & \\#46D7D7 & \\#602121 & \\#631515 & \\#1AA9A9 & \\#971D1D & \\#971D1D & \\#372020 & \\#A2BABA & \\#98DFDF & \\#98DFDF & \\#BDE1E1 & \\#1EAEAE & \\#044141 & \\#044141 & \\#148B8B & \\#769292 & \\#BFFAFA & \\#BFFAFA & \\#993C3C & \\#8E5656 & \\#607878 & \\#607878 & \\#B8A7A7\\\\\n",
       "\t \\#5C1616 & \\#651F1F & \\#651F1F & \\#9BCDCD & \\#203A3A & \\#976262 & \\#976262 & \\#C6B1B1 & \\#971111 & \\#030C0C & \\#A64D4D & \\#A64D4D & \\#AC0505 & \\#A94A4A & \\#18C0C0 & \\#18C0C0 & \\#204C4C & \\#2E6565 & \\#53D0D0 & \\#5D7575 & \\#5D7575 & \\#8E5F5F & \\#951616 & \\#86A0A0 & \\#86A0A0 & \\#9C7575 & \\#BC9191 & \\#BE7A7A & \\#0F1212 & \\#0F1212 & \\#823838 & \\#C1DDDD & \\#425454 & \\#425454 & \\#429090 & \\#249C9C & \\#960303 & \\#1FCECE & \\#1FCECE & \\#469E9E & \\#755757 & \\#BF8282 & \\#BF8282 & \\#A1FDFD & \\#47AFAF & \\#CC0909 & \\#CC0909 & \\#171919 & \\#8A7878 & \\#783333 & \\#783333 & \\#4C5656 & \\#9F9C9C & \\#9D2020 & \\#9D2020 & \\#551A1A & \\#23A0A0 & \\#C81C1C & \\#C81C1C & \\#40F8F8 & \\#72ABAB & \\#3EB8B8 & \\#3EB8B8 & \\#18AEAE & \\#65EBEB & \\#336F6F & \\#336F6F & \\#4E7878 & \\#5F5B5B & \\#674141 & \\#674141 & \\#34A4A4 & \\#582020 & \\#6E8282 & \\#6E9494 & \\#6E9494 & \\#940B0B & \\#6E7676 & \\#2E3232 & \\#2E2929 & \\#2E2929 & \\#05A6A6 & \\#69A8A8 & \\#0C5D5D & \\#575151 & \\#575151 & \\#31FEFE & \\#C4ECEC & \\#A8B4B4 & \\#907878 & \\#907878 & \\#4B1212 & \\#257D7D & \\#447F7F & \\#447F7F & \\#321919 & \\#938D8D & \\#572D2D & \\#31BFBF & \\#31BFBF & \\#58B0B0 & \\#647171 & \\#11DCDC & \\#11DCDC & \\#317D7D & \\#568888 & \\#702C2C & \\#702C2C & \\#B71B1B & \\#391515 & \\#9A7A7A & \\#9A7A7A & \\#198686 & \\#0BE5E5 & \\#692A2A & \\#348383 & \\#348383 & \\#2FA9A9 & \\#5AB1B1 & \\#81F9F9 & \\#81F9F9 & \\#B05555 & \\#C1B6B6 & \\#606969 & \\#606969 & \\#BA1E1E & \\#575757 & \\#78B1B1 & \\#78B1B1 & \\#16B0B0 & \\#9E3A3A & \\#136E6E & \\#136E6E & \\#952828 & \\#327373 & \\#573C3C & \\#573C3C & \\#574545 & \\#225C5C & \\#9FF9F9 & \\#9FF9F9 & \\#BFF4F4 & \\#ABFCFC & \\#3A3E3E & \\#3A3E3E & \\#054040 & \\#652222 & \\#CD1111 & \\#CD1111 & \\#A44646 & \\#72AEAE & \\#46D7D7 & \\#46D7D7 & \\#602121 & \\#631515 & \\#1AA9A9 & \\#971D1D & \\#971D1D & \\#372020 & \\#A2BABA & \\#98DFDF & \\#98DFDF & \\#BDE1E1 & \\#1EAEAE & \\#044141 & \\#044141 & \\#148B8B & \\#769292 & \\#BFFAFA & \\#BFFAFA & \\#993C3C & \\#8E5656 & \\#607878 & \\#607878 & \\#B8A7A7\\\\\n",
       "\\end{tabular}\n"
      ],
      "text/markdown": [
       "\n",
       "A matrix: 6 × 175 of type chr\n",
       "\n",
       "| #998181 | #998181 | #998181 | #998181 | #998181 | #998181 | #998181 | #998181 | #998181 | #998181 | ⋯ | #837676 | #5F1F1F | #7D0D0D | #303333 | #303333 | #67D1D1 | #5F0101 | #CCDBDB | #CCDBDB | #459999 |\n",
       "| #906C6C | #1AACAC | #1AACAC | #1EB1B1 | #044444 | #8E5959 | #B1BDBD | #B1BDBD | #8F9A9A | #C6ABAB | ⋯ | #837676 | #5F1F1F | #7D0D0D | #303333 | #303333 | #67D1D1 | #5F0101 | #CCDBDB | #CCDBDB | #459999 |\n",
       "| #906C6C | #1AACAC | #1AACAC | #1EB1B1 | #044444 | #8E5959 | #B1BDBD | #B1BDBD | #8F9A9A | #C6ABAB | ⋯ | #837676 | #5F1F1F | #7D0D0D | #303333 | #303333 | #67D1D1 | #5F0101 | #CCDBDB | #CCDBDB | #459999 |\n",
       "| #906C6C | #1AACAC | #1AACAC | #1EB1B1 | #044444 | #8E5959 | #B1BDBD | #B1BDBD | #8F9A9A | #C6ABAB | ⋯ | #837676 | #5F1F1F | #7D0D0D | #303333 | #303333 | #67D1D1 | #5F0101 | #CCDBDB | #CCDBDB | #459999 |\n",
       "| #906C6C | #1AACAC | #1AACAC | #1EB1B1 | #044444 | #8E5959 | #B1BDBD | #B1BDBD | #8F9A9A | #C6ABAB | ⋯ | #044141 | #148B8B | #769292 | #BFFAFA | #BFFAFA | #993C3C | #8E5656 | #607878 | #607878 | #B8A7A7 |\n",
       "| #5C1616 | #651F1F | #651F1F | #9BCDCD | #203A3A | #976262 | #976262 | #C6B1B1 | #971111 | #030C0C | ⋯ | #044141 | #148B8B | #769292 | #BFFAFA | #BFFAFA | #993C3C | #8E5656 | #607878 | #607878 | #B8A7A7 |\n",
       "\n"
      ],
      "text/plain": [
       "     [,1]    [,2]    [,3]    [,4]    [,5]    [,6]    [,7]    [,8]    [,9]   \n",
       "[1,] #998181 #998181 #998181 #998181 #998181 #998181 #998181 #998181 #998181\n",
       "[2,] #906C6C #1AACAC #1AACAC #1EB1B1 #044444 #8E5959 #B1BDBD #B1BDBD #8F9A9A\n",
       "[3,] #906C6C #1AACAC #1AACAC #1EB1B1 #044444 #8E5959 #B1BDBD #B1BDBD #8F9A9A\n",
       "[4,] #906C6C #1AACAC #1AACAC #1EB1B1 #044444 #8E5959 #B1BDBD #B1BDBD #8F9A9A\n",
       "[5,] #906C6C #1AACAC #1AACAC #1EB1B1 #044444 #8E5959 #B1BDBD #B1BDBD #8F9A9A\n",
       "[6,] #5C1616 #651F1F #651F1F #9BCDCD #203A3A #976262 #976262 #C6B1B1 #971111\n",
       "     [,10]   [,11] [,12]   [,13]   [,14]   [,15]   [,16]   [,17]   [,18]  \n",
       "[1,] #998181 ⋯     #837676 #5F1F1F #7D0D0D #303333 #303333 #67D1D1 #5F0101\n",
       "[2,] #C6ABAB ⋯     #837676 #5F1F1F #7D0D0D #303333 #303333 #67D1D1 #5F0101\n",
       "[3,] #C6ABAB ⋯     #837676 #5F1F1F #7D0D0D #303333 #303333 #67D1D1 #5F0101\n",
       "[4,] #C6ABAB ⋯     #837676 #5F1F1F #7D0D0D #303333 #303333 #67D1D1 #5F0101\n",
       "[5,] #C6ABAB ⋯     #044141 #148B8B #769292 #BFFAFA #BFFAFA #993C3C #8E5656\n",
       "[6,] #030C0C ⋯     #044141 #148B8B #769292 #BFFAFA #BFFAFA #993C3C #8E5656\n",
       "     [,19]   [,20]   [,21]  \n",
       "[1,] #CCDBDB #CCDBDB #459999\n",
       "[2,] #CCDBDB #CCDBDB #459999\n",
       "[3,] #CCDBDB #CCDBDB #459999\n",
       "[4,] #CCDBDB #CCDBDB #459999\n",
       "[5,] #607878 #607878 #B8A7A7\n",
       "[6,] #607878 #607878 #B8A7A7"
      ]
     },
     "metadata": {},
     "output_type": "display_data"
    }
   ],
   "source": [
    "head(kegg_mat)"
   ]
  },
  {
   "cell_type": "code",
   "execution_count": 92,
   "metadata": {},
   "outputs": [
    {
     "data": {
      "text/html": [
       "17733"
      ],
      "text/latex": [
       "17733"
      ],
      "text/markdown": [
       "17733"
      ],
      "text/plain": [
       "[1] 17733"
      ]
     },
     "metadata": {},
     "output_type": "display_data"
    }
   ],
   "source": [
    "length(unique(as.character(kegg_mat)))"
   ]
  },
  {
   "cell_type": "markdown",
   "metadata": {},
   "source": [
    "The RRGGBB matrix contains one extra color, which represents the white background of the PNG image (#FFFFFF):"
   ]
  },
  {
   "cell_type": "code",
   "execution_count": 93,
   "metadata": {},
   "outputs": [
    {
     "data": {
      "text/html": [
       "'#FFFFFF'"
      ],
      "text/latex": [
       "'\\#FFFFFF'"
      ],
      "text/markdown": [
       "'#FFFFFF'"
      ],
      "text/plain": [
       "[1] \"#FFFFFF\""
      ]
     },
     "metadata": {},
     "output_type": "display_data"
    }
   ],
   "source": [
    "setdiff(unique(as.character(kegg_mat)), unique(as.character(df_res_pix$color)))"
   ]
  },
  {
   "cell_type": "code",
   "execution_count": 94,
   "metadata": {},
   "outputs": [],
   "source": [
    "start.time <- Sys.time()\n",
    "\n",
    "df_mat_area <- data.frame(color = character(), area = integer(), width = integer(), height = integer(), \n",
    "                          stringsAsFactors = FALSE)\n",
    "\n",
    "for (c in unique(as.character(kegg_mat))) {\n",
    "    col_pos <- which(kegg_mat==c, arr.ind = TRUE)\n",
    "    # Actual area\n",
    "    act_a <- nrow(col_pos)\n",
    "    # Rectangular width\n",
    "    rect_w <- max(col_pos[, \"col\"]) - min(col_pos[, \"col\"]) + 1\n",
    "    # Rectangular height\n",
    "    rect_h <- max(col_pos[, \"row\"]) - min(col_pos[, \"row\"]) + 1\n",
    "    # Rectangular area\n",
    "    rect_a <- rect_w*rect_h\n",
    "    # Only append rectangular weight and height if rectangular area is the actual area\n",
    "    new_row <- list(c, act_a, rect_w, rect_h)\n",
    "    if(rect_a != act_a) {\n",
    "        new_row[[3]] <- NA\n",
    "        new_row[[4]] <- NA\n",
    "    }\n",
    "    df_mat_area[nrow(df_mat_area) + 1, ] <- new_row\n",
    "}\n",
    "\n",
    "end.time <- Sys.time()"
   ]
  },
  {
   "cell_type": "code",
   "execution_count": 95,
   "metadata": {},
   "outputs": [
    {
     "data": {
      "text/plain": [
       "Time difference of 19,59491 secs"
      ]
     },
     "metadata": {},
     "output_type": "display_data"
    }
   ],
   "source": [
    "end.time - start.time"
   ]
  },
  {
   "cell_type": "code",
   "execution_count": 96,
   "metadata": {},
   "outputs": [
    {
     "data": {
      "text/html": [
       "17733"
      ],
      "text/latex": [
       "17733"
      ],
      "text/markdown": [
       "17733"
      ],
      "text/plain": [
       "[1] 17733"
      ]
     },
     "metadata": {},
     "output_type": "display_data"
    }
   ],
   "source": [
    "# One row for each color element\n",
    "nrow(df_mat_area)"
   ]
  },
  {
   "cell_type": "code",
   "execution_count": 97,
   "metadata": {},
   "outputs": [
    {
     "data": {
      "text/html": [
       "<table>\n",
       "<caption>A data.frame: 6 × 4</caption>\n",
       "<thead>\n",
       "\t<tr><th scope=col>color</th><th scope=col>area</th><th scope=col>width</th><th scope=col>height</th></tr>\n",
       "\t<tr><th scope=col>&lt;chr&gt;</th><th scope=col>&lt;int&gt;</th><th scope=col>&lt;dbl&gt;</th><th scope=col>&lt;dbl&gt;</th></tr>\n",
       "</thead>\n",
       "<tbody>\n",
       "\t<tr><td>#998181</td><td>11</td><td>11</td><td>1</td></tr>\n",
       "\t<tr><td>#906C6C</td><td> 4</td><td> 1</td><td>4</td></tr>\n",
       "\t<tr><td>#5C1616</td><td> 4</td><td> 1</td><td>4</td></tr>\n",
       "\t<tr><td>#C34545</td><td> 4</td><td> 1</td><td>4</td></tr>\n",
       "\t<tr><td>#86F1F1</td><td> 5</td><td> 1</td><td>5</td></tr>\n",
       "\t<tr><td>#204040</td><td> 4</td><td> 1</td><td>4</td></tr>\n",
       "</tbody>\n",
       "</table>\n"
      ],
      "text/latex": [
       "A data.frame: 6 × 4\n",
       "\\begin{tabular}{r|llll}\n",
       " color & area & width & height\\\\\n",
       " <chr> & <int> & <dbl> & <dbl>\\\\\n",
       "\\hline\n",
       "\t \\#998181 & 11 & 11 & 1\\\\\n",
       "\t \\#906C6C &  4 &  1 & 4\\\\\n",
       "\t \\#5C1616 &  4 &  1 & 4\\\\\n",
       "\t \\#C34545 &  4 &  1 & 4\\\\\n",
       "\t \\#86F1F1 &  5 &  1 & 5\\\\\n",
       "\t \\#204040 &  4 &  1 & 4\\\\\n",
       "\\end{tabular}\n"
      ],
      "text/markdown": [
       "\n",
       "A data.frame: 6 × 4\n",
       "\n",
       "| color &lt;chr&gt; | area &lt;int&gt; | width &lt;dbl&gt; | height &lt;dbl&gt; |\n",
       "|---|---|---|---|\n",
       "| #998181 | 11 | 11 | 1 |\n",
       "| #906C6C |  4 |  1 | 4 |\n",
       "| #5C1616 |  4 |  1 | 4 |\n",
       "| #C34545 |  4 |  1 | 4 |\n",
       "| #86F1F1 |  5 |  1 | 5 |\n",
       "| #204040 |  4 |  1 | 4 |\n",
       "\n"
      ],
      "text/plain": [
       "  color   area width height\n",
       "1 #998181 11   11    1     \n",
       "2 #906C6C  4    1    4     \n",
       "3 #5C1616  4    1    4     \n",
       "4 #C34545  4    1    4     \n",
       "5 #86F1F1  5    1    5     \n",
       "6 #204040  4    1    4     "
      ]
     },
     "metadata": {},
     "output_type": "display_data"
    }
   ],
   "source": [
    "head(df_mat_area)"
   ]
  },
  {
   "cell_type": "markdown",
   "metadata": {},
   "source": [
    "We now perform a few simple visual inspection tests to check if `df_mat_area` was computed correctly:"
   ]
  },
  {
   "cell_type": "code",
   "execution_count": 98,
   "metadata": {},
   "outputs": [
    {
     "data": {
      "text/html": [
       "<table>\n",
       "<caption>A matrix: 6 × 175 of type chr</caption>\n",
       "<tbody>\n",
       "\t<tr><td>#998181</td><td>#998181</td><td>#998181</td><td>#998181</td><td>#998181</td><td>#998181</td><td>#998181</td><td>#998181</td><td>#998181</td><td>#998181</td><td>⋯</td><td>#837676</td><td>#5F1F1F</td><td>#7D0D0D</td><td>#303333</td><td>#303333</td><td>#67D1D1</td><td>#5F0101</td><td>#CCDBDB</td><td>#CCDBDB</td><td>#459999</td></tr>\n",
       "\t<tr><td>#906C6C</td><td>#1AACAC</td><td>#1AACAC</td><td>#1EB1B1</td><td>#044444</td><td>#8E5959</td><td>#B1BDBD</td><td>#B1BDBD</td><td>#8F9A9A</td><td>#C6ABAB</td><td>⋯</td><td>#837676</td><td>#5F1F1F</td><td>#7D0D0D</td><td>#303333</td><td>#303333</td><td>#67D1D1</td><td>#5F0101</td><td>#CCDBDB</td><td>#CCDBDB</td><td>#459999</td></tr>\n",
       "\t<tr><td>#906C6C</td><td>#1AACAC</td><td>#1AACAC</td><td>#1EB1B1</td><td>#044444</td><td>#8E5959</td><td>#B1BDBD</td><td>#B1BDBD</td><td>#8F9A9A</td><td>#C6ABAB</td><td>⋯</td><td>#837676</td><td>#5F1F1F</td><td>#7D0D0D</td><td>#303333</td><td>#303333</td><td>#67D1D1</td><td>#5F0101</td><td>#CCDBDB</td><td>#CCDBDB</td><td>#459999</td></tr>\n",
       "\t<tr><td>#906C6C</td><td>#1AACAC</td><td>#1AACAC</td><td>#1EB1B1</td><td>#044444</td><td>#8E5959</td><td>#B1BDBD</td><td>#B1BDBD</td><td>#8F9A9A</td><td>#C6ABAB</td><td>⋯</td><td>#837676</td><td>#5F1F1F</td><td>#7D0D0D</td><td>#303333</td><td>#303333</td><td>#67D1D1</td><td>#5F0101</td><td>#CCDBDB</td><td>#CCDBDB</td><td>#459999</td></tr>\n",
       "\t<tr><td>#906C6C</td><td>#1AACAC</td><td>#1AACAC</td><td>#1EB1B1</td><td>#044444</td><td>#8E5959</td><td>#B1BDBD</td><td>#B1BDBD</td><td>#8F9A9A</td><td>#C6ABAB</td><td>⋯</td><td>#044141</td><td>#148B8B</td><td>#769292</td><td>#BFFAFA</td><td>#BFFAFA</td><td>#993C3C</td><td>#8E5656</td><td>#607878</td><td>#607878</td><td>#B8A7A7</td></tr>\n",
       "\t<tr><td>#5C1616</td><td>#651F1F</td><td>#651F1F</td><td>#9BCDCD</td><td>#203A3A</td><td>#976262</td><td>#976262</td><td>#C6B1B1</td><td>#971111</td><td>#030C0C</td><td>⋯</td><td>#044141</td><td>#148B8B</td><td>#769292</td><td>#BFFAFA</td><td>#BFFAFA</td><td>#993C3C</td><td>#8E5656</td><td>#607878</td><td>#607878</td><td>#B8A7A7</td></tr>\n",
       "</tbody>\n",
       "</table>\n"
      ],
      "text/latex": [
       "A matrix: 6 × 175 of type chr\n",
       "\\begin{tabular}{lllllllllllllllllllllllllllllllllllllllllllllllllllllllllllllllllllllllllllllllllllllllllllllllllllllllllllllllllllllllllllllllllllllllllllllllllllllllllllllllllllllllllllllll}\n",
       "\t \\#998181 & \\#998181 & \\#998181 & \\#998181 & \\#998181 & \\#998181 & \\#998181 & \\#998181 & \\#998181 & \\#998181 & \\#998181 & \\#54AEAE & \\#54AEAE & \\#54AEAE & \\#54AEAE & \\#54AEAE & \\#54AEAE & \\#54AEAE & \\#54AEAE & \\#54AEAE & \\#54AEAE & \\#54AEAE & \\#54A5A5 & \\#54A5A5 & \\#54A5A5 & \\#54A5A5 & \\#54A5A5 & \\#54A5A5 & \\#54A5A5 & \\#54A5A5 & \\#54A5A5 & \\#54A5A5 & \\#54A5A5 & \\#54A5A5 & \\#3AECEC & \\#3AECEC & \\#3AECEC & \\#3AECEC & \\#3AECEC & \\#3AECEC & \\#3AECEC & \\#3AECEC & \\#3AECEC & \\#3AECEC & \\#3AECEC & \\#3F1515 & \\#3F1515 & \\#3F1515 & \\#3F1515 & \\#3F1515 & \\#3F1515 & \\#3F1515 & \\#3F1515 & \\#3F1515 & \\#3F1515 & \\#3F1515 & \\#C32727 & \\#C32727 & \\#C32727 & \\#C32727 & \\#C32727 & \\#C32727 & \\#C32727 & \\#C32727 & \\#C32727 & \\#C32727 & \\#C32727 & \\#3F1E1E & \\#3F1E1E & \\#3F1E1E & \\#3F1E1E & \\#3F1E1E & \\#3F1E1E & \\#3F1E1E & \\#3F1E1E & \\#3F1E1E & \\#3F1E1E & \\#3F1E1E & \\#3F1E1E & \\#C84646 & \\#C84646 & \\#C84646 & \\#C84646 & \\#C84646 & \\#C84646 & \\#C84646 & \\#C84646 & \\#C84646 & \\#C84646 & \\#C84646 & \\#C84F4F & \\#C84F4F & \\#C84F4F & \\#C84F4F & \\#C84F4F & \\#C84F4F & \\#C84F4F & \\#C84F4F & \\#C84F4F & \\#C84F4F & \\#C84F4F & \\#906969 & \\#5F9191 & \\#5F9191 & \\#B4DBDB & \\#1B2D2D & \\#97EFEF & \\#97EFEF & \\#A50606 & \\#8A0606 & \\#A2F9F9 & \\#A2F9F9 & \\#6BB8B8 & \\#9C7878 & \\#B8A1A1 & \\#188181 & \\#188181 & \\#366363 & \\#B9F4F4 & \\#773434 & \\#773434 & \\#31F2F2 & \\#8C5B5B & \\#569494 & \\#569494 & \\#9EA6A6 & \\#7D0707 & \\#4ADFDF & \\#4ADFDF & \\#071111 & \\#5C1313 & \\#86AFAF & \\#86AFAF & \\#504646 & \\#9B0404 & \\#572121 & \\#572121 & \\#102929 & \\#C34242 & \\#8E2323 & \\#8E2323 & \\#3BD9D9 & \\#86EEEE & \\#203D3D & \\#203D3D & \\#1CF8F8 & \\#334E4E & \\#5E7171 & \\#5E7171 & \\#A97474 & \\#784E4E & \\#2EA7A7 & \\#2EA7A7 & \\#0E8585 & \\#703E3E & \\#35D0D0 & \\#67C5C5 & \\#67C5C5 & \\#66EAEA & \\#180303 & \\#BF0101 & \\#BF0101 & \\#1E2D2D & \\#B15A5A & \\#837676 & \\#837676 & \\#5F1F1F & \\#7D0D0D & \\#303333 & \\#303333 & \\#67D1D1 & \\#5F0101 & \\#CCDBDB & \\#CCDBDB & \\#459999\\\\\n",
       "\t \\#906C6C & \\#1AACAC & \\#1AACAC & \\#1EB1B1 & \\#044444 & \\#8E5959 & \\#B1BDBD & \\#B1BDBD & \\#8F9A9A & \\#C6ABAB & \\#AD1F1F & \\#AD1F1F & \\#1FECEC & \\#5DAEAE & \\#8E6E6E & \\#8E6E6E & \\#738383 & \\#023737 & \\#30B4B4 & \\#5E6E6E & \\#5E6E6E & \\#BD0000 & \\#BDABAB & \\#B7FCFC & \\#B7FCFC & \\#6BBBBB & \\#B9F7F7 & \\#7D0A0A & \\#504949 & \\#504949 & \\#785151 & \\#2EAAAA & \\#BF0404 & \\#BF0404 & \\#837979 & \\#7D1010 & \\#9E3D3D & \\#BFF7F7 & \\#BFF7F7 & \\#993F3F & \\#2C3A3A & \\#963333 & \\#963333 & \\#230404 & \\#188484 & \\#9B0707 & \\#9B0707 & \\#35D3D3 & \\#180606 & \\#647474 & \\#647474 & \\#78B7B7 & \\#72B1B1 & \\#313232 & \\#313232 & \\#110D0D & \\#3FB7B7 & \\#BE0202 & \\#BE0202 & \\#406B6B & \\#3EA3A3 & \\#0D5050 & \\#0D5050 & \\#AC8C8C & \\#1D0D0D & \\#A36565 & \\#A36565 & \\#510909 & \\#A62929 & \\#8A7272 & \\#8A7272 & \\#1D1313 & \\#0E8888 & \\#631818 & \\#6E7C7C & \\#6E7C7C & \\#2D1212 & \\#780303 & \\#A8B1B1 & \\#6E8E8E & \\#6E8E8E & \\#58ADAD & \\#69F9F9 & \\#31F5F5 & \\#572424 & \\#572424 & \\#575A5A & \\#78B4B4 & \\#573F3F & \\#574848 & \\#574848 & \\#312F2F & \\#578787 & \\#39B1B1 & \\#39B1B1 & \\#76F5F5 & \\#571B1B & \\#A62626 & \\#219090 & \\#219090 & \\#7CF5F5 & \\#906969 & \\#5F9191 & \\#5F9191 & \\#B4DBDB & \\#1B2D2D & \\#97EFEF & \\#97EFEF & \\#A50606 & \\#8A0606 & \\#A2F9F9 & \\#A2F9F9 & \\#6BB8B8 & \\#9C7878 & \\#B8A1A1 & \\#188181 & \\#188181 & \\#366363 & \\#B9F4F4 & \\#773434 & \\#773434 & \\#31F2F2 & \\#8C5B5B & \\#569494 & \\#569494 & \\#9EA6A6 & \\#7D0707 & \\#4ADFDF & \\#4ADFDF & \\#071111 & \\#5C1313 & \\#86AFAF & \\#86AFAF & \\#504646 & \\#9B0404 & \\#572121 & \\#572121 & \\#102929 & \\#C34242 & \\#8E2323 & \\#8E2323 & \\#3BD9D9 & \\#86EEEE & \\#203D3D & \\#203D3D & \\#1CF8F8 & \\#334E4E & \\#5E7171 & \\#5E7171 & \\#A97474 & \\#784E4E & \\#2EA7A7 & \\#2EA7A7 & \\#0E8585 & \\#703E3E & \\#35D0D0 & \\#67C5C5 & \\#67C5C5 & \\#66EAEA & \\#180303 & \\#BF0101 & \\#BF0101 & \\#1E2D2D & \\#B15A5A & \\#837676 & \\#837676 & \\#5F1F1F & \\#7D0D0D & \\#303333 & \\#303333 & \\#67D1D1 & \\#5F0101 & \\#CCDBDB & \\#CCDBDB & \\#459999\\\\\n",
       "\t \\#906C6C & \\#1AACAC & \\#1AACAC & \\#1EB1B1 & \\#044444 & \\#8E5959 & \\#B1BDBD & \\#B1BDBD & \\#8F9A9A & \\#C6ABAB & \\#AD1F1F & \\#AD1F1F & \\#1FECEC & \\#5DAEAE & \\#8E6E6E & \\#8E6E6E & \\#738383 & \\#023737 & \\#30B4B4 & \\#5E6E6E & \\#5E6E6E & \\#BD0000 & \\#BDABAB & \\#B7FCFC & \\#B7FCFC & \\#6BBBBB & \\#B9F7F7 & \\#7D0A0A & \\#504949 & \\#504949 & \\#785151 & \\#2EAAAA & \\#BF0404 & \\#BF0404 & \\#837979 & \\#7D1010 & \\#9E3D3D & \\#BFF7F7 & \\#BFF7F7 & \\#993F3F & \\#2C3A3A & \\#963333 & \\#963333 & \\#230404 & \\#188484 & \\#9B0707 & \\#9B0707 & \\#35D3D3 & \\#180606 & \\#647474 & \\#647474 & \\#78B7B7 & \\#72B1B1 & \\#313232 & \\#313232 & \\#110D0D & \\#3FB7B7 & \\#BE0202 & \\#BE0202 & \\#406B6B & \\#3EA3A3 & \\#0D5050 & \\#0D5050 & \\#AC8C8C & \\#1D0D0D & \\#A36565 & \\#A36565 & \\#510909 & \\#A62929 & \\#8A7272 & \\#8A7272 & \\#1D1313 & \\#0E8888 & \\#631818 & \\#6E7C7C & \\#6E7C7C & \\#2D1212 & \\#780303 & \\#A8B1B1 & \\#6E8E8E & \\#6E8E8E & \\#58ADAD & \\#69F9F9 & \\#31F5F5 & \\#572424 & \\#572424 & \\#575A5A & \\#78B4B4 & \\#573F3F & \\#574848 & \\#574848 & \\#312F2F & \\#578787 & \\#39B1B1 & \\#39B1B1 & \\#76F5F5 & \\#571B1B & \\#A62626 & \\#219090 & \\#219090 & \\#7CF5F5 & \\#906969 & \\#5F9191 & \\#5F9191 & \\#B4DBDB & \\#1B2D2D & \\#97EFEF & \\#97EFEF & \\#A50606 & \\#8A0606 & \\#A2F9F9 & \\#A2F9F9 & \\#6BB8B8 & \\#9C7878 & \\#B8A1A1 & \\#188181 & \\#188181 & \\#366363 & \\#B9F4F4 & \\#773434 & \\#773434 & \\#31F2F2 & \\#8C5B5B & \\#569494 & \\#569494 & \\#9EA6A6 & \\#7D0707 & \\#4ADFDF & \\#4ADFDF & \\#071111 & \\#5C1313 & \\#86AFAF & \\#86AFAF & \\#504646 & \\#9B0404 & \\#572121 & \\#572121 & \\#102929 & \\#C34242 & \\#8E2323 & \\#8E2323 & \\#3BD9D9 & \\#86EEEE & \\#203D3D & \\#203D3D & \\#1CF8F8 & \\#334E4E & \\#5E7171 & \\#5E7171 & \\#A97474 & \\#784E4E & \\#2EA7A7 & \\#2EA7A7 & \\#0E8585 & \\#703E3E & \\#35D0D0 & \\#67C5C5 & \\#67C5C5 & \\#66EAEA & \\#180303 & \\#BF0101 & \\#BF0101 & \\#1E2D2D & \\#B15A5A & \\#837676 & \\#837676 & \\#5F1F1F & \\#7D0D0D & \\#303333 & \\#303333 & \\#67D1D1 & \\#5F0101 & \\#CCDBDB & \\#CCDBDB & \\#459999\\\\\n",
       "\t \\#906C6C & \\#1AACAC & \\#1AACAC & \\#1EB1B1 & \\#044444 & \\#8E5959 & \\#B1BDBD & \\#B1BDBD & \\#8F9A9A & \\#C6ABAB & \\#AD1F1F & \\#AD1F1F & \\#1FECEC & \\#5DAEAE & \\#8E6E6E & \\#8E6E6E & \\#738383 & \\#023737 & \\#30B4B4 & \\#5E6E6E & \\#5E6E6E & \\#BD0000 & \\#BDABAB & \\#B7FCFC & \\#B7FCFC & \\#6BBBBB & \\#B9F7F7 & \\#7D0A0A & \\#504949 & \\#504949 & \\#785151 & \\#2EAAAA & \\#BF0404 & \\#BF0404 & \\#837979 & \\#7D1010 & \\#9E3D3D & \\#BFF7F7 & \\#BFF7F7 & \\#993F3F & \\#2C3A3A & \\#963333 & \\#963333 & \\#230404 & \\#188484 & \\#9B0707 & \\#9B0707 & \\#35D3D3 & \\#180606 & \\#647474 & \\#647474 & \\#78B7B7 & \\#72B1B1 & \\#313232 & \\#313232 & \\#110D0D & \\#3FB7B7 & \\#BE0202 & \\#BE0202 & \\#406B6B & \\#3EA3A3 & \\#0D5050 & \\#0D5050 & \\#AC8C8C & \\#1D0D0D & \\#A36565 & \\#A36565 & \\#510909 & \\#A62929 & \\#8A7272 & \\#8A7272 & \\#1D1313 & \\#0E8888 & \\#631818 & \\#6E7C7C & \\#6E7C7C & \\#2D1212 & \\#780303 & \\#A8B1B1 & \\#6E8E8E & \\#6E8E8E & \\#58ADAD & \\#69F9F9 & \\#31F5F5 & \\#572424 & \\#572424 & \\#575A5A & \\#78B4B4 & \\#573F3F & \\#574848 & \\#574848 & \\#312F2F & \\#578787 & \\#39B1B1 & \\#39B1B1 & \\#76F5F5 & \\#571B1B & \\#A62626 & \\#219090 & \\#219090 & \\#7CF5F5 & \\#906969 & \\#5F9191 & \\#5F9191 & \\#B4DBDB & \\#1B2D2D & \\#97EFEF & \\#97EFEF & \\#A50606 & \\#8A0606 & \\#A2F9F9 & \\#A2F9F9 & \\#6BB8B8 & \\#9C7878 & \\#B8A1A1 & \\#188181 & \\#188181 & \\#366363 & \\#B9F4F4 & \\#773434 & \\#773434 & \\#31F2F2 & \\#8C5B5B & \\#569494 & \\#569494 & \\#9EA6A6 & \\#7D0707 & \\#4ADFDF & \\#4ADFDF & \\#071111 & \\#5C1313 & \\#86AFAF & \\#86AFAF & \\#504646 & \\#9B0404 & \\#572121 & \\#572121 & \\#102929 & \\#C34242 & \\#8E2323 & \\#8E2323 & \\#3BD9D9 & \\#86EEEE & \\#203D3D & \\#203D3D & \\#1CF8F8 & \\#334E4E & \\#5E7171 & \\#5E7171 & \\#A97474 & \\#784E4E & \\#2EA7A7 & \\#2EA7A7 & \\#0E8585 & \\#703E3E & \\#35D0D0 & \\#67C5C5 & \\#67C5C5 & \\#66EAEA & \\#180303 & \\#BF0101 & \\#BF0101 & \\#1E2D2D & \\#B15A5A & \\#837676 & \\#837676 & \\#5F1F1F & \\#7D0D0D & \\#303333 & \\#303333 & \\#67D1D1 & \\#5F0101 & \\#CCDBDB & \\#CCDBDB & \\#459999\\\\\n",
       "\t \\#906C6C & \\#1AACAC & \\#1AACAC & \\#1EB1B1 & \\#044444 & \\#8E5959 & \\#B1BDBD & \\#B1BDBD & \\#8F9A9A & \\#C6ABAB & \\#AD1F1F & \\#AD1F1F & \\#1FECEC & \\#5DAEAE & \\#8E6E6E & \\#8E6E6E & \\#738383 & \\#023737 & \\#30B4B4 & \\#5E6E6E & \\#5E6E6E & \\#BD0000 & \\#BDABAB & \\#B7FCFC & \\#B7FCFC & \\#6BBBBB & \\#B9F7F7 & \\#7D0A0A & \\#504949 & \\#504949 & \\#785151 & \\#2EAAAA & \\#BF0404 & \\#BF0404 & \\#837979 & \\#7D1010 & \\#9E3D3D & \\#BFF7F7 & \\#BFF7F7 & \\#993F3F & \\#2C3A3A & \\#963333 & \\#963333 & \\#230404 & \\#188484 & \\#9B0707 & \\#9B0707 & \\#35D3D3 & \\#180606 & \\#647474 & \\#647474 & \\#78B7B7 & \\#72B1B1 & \\#313232 & \\#313232 & \\#110D0D & \\#3FB7B7 & \\#BE0202 & \\#BE0202 & \\#406B6B & \\#3EA3A3 & \\#0D5050 & \\#0D5050 & \\#AC8C8C & \\#1D0D0D & \\#A36565 & \\#A36565 & \\#510909 & \\#A62929 & \\#8A7272 & \\#8A7272 & \\#1D1313 & \\#0E8888 & \\#631818 & \\#6E7C7C & \\#6E7C7C & \\#2D1212 & \\#780303 & \\#A8B1B1 & \\#6E8E8E & \\#6E8E8E & \\#58ADAD & \\#69F9F9 & \\#31F5F5 & \\#572424 & \\#572424 & \\#575A5A & \\#78B4B4 & \\#573F3F & \\#574848 & \\#574848 & \\#312F2F & \\#578787 & \\#39B1B1 & \\#39B1B1 & \\#76F5F5 & \\#571B1B & \\#A62626 & \\#219090 & \\#219090 & \\#7CF5F5 & \\#647171 & \\#11DCDC & \\#11DCDC & \\#317D7D & \\#568888 & \\#702C2C & \\#702C2C & \\#B71B1B & \\#391515 & \\#9A7A7A & \\#9A7A7A & \\#198686 & \\#0BE5E5 & \\#692A2A & \\#348383 & \\#348383 & \\#2FA9A9 & \\#5AB1B1 & \\#81F9F9 & \\#81F9F9 & \\#B05555 & \\#C1B6B6 & \\#606969 & \\#606969 & \\#BA1E1E & \\#575757 & \\#78B1B1 & \\#78B1B1 & \\#16B0B0 & \\#9E3A3A & \\#136E6E & \\#136E6E & \\#952828 & \\#327373 & \\#573C3C & \\#573C3C & \\#574545 & \\#225C5C & \\#9FF9F9 & \\#9FF9F9 & \\#BFF4F4 & \\#ABFCFC & \\#3A3E3E & \\#3A3E3E & \\#054040 & \\#652222 & \\#CD1111 & \\#CD1111 & \\#A44646 & \\#72AEAE & \\#46D7D7 & \\#46D7D7 & \\#602121 & \\#631515 & \\#1AA9A9 & \\#971D1D & \\#971D1D & \\#372020 & \\#A2BABA & \\#98DFDF & \\#98DFDF & \\#BDE1E1 & \\#1EAEAE & \\#044141 & \\#044141 & \\#148B8B & \\#769292 & \\#BFFAFA & \\#BFFAFA & \\#993C3C & \\#8E5656 & \\#607878 & \\#607878 & \\#B8A7A7\\\\\n",
       "\t \\#5C1616 & \\#651F1F & \\#651F1F & \\#9BCDCD & \\#203A3A & \\#976262 & \\#976262 & \\#C6B1B1 & \\#971111 & \\#030C0C & \\#A64D4D & \\#A64D4D & \\#AC0505 & \\#A94A4A & \\#18C0C0 & \\#18C0C0 & \\#204C4C & \\#2E6565 & \\#53D0D0 & \\#5D7575 & \\#5D7575 & \\#8E5F5F & \\#951616 & \\#86A0A0 & \\#86A0A0 & \\#9C7575 & \\#BC9191 & \\#BE7A7A & \\#0F1212 & \\#0F1212 & \\#823838 & \\#C1DDDD & \\#425454 & \\#425454 & \\#429090 & \\#249C9C & \\#960303 & \\#1FCECE & \\#1FCECE & \\#469E9E & \\#755757 & \\#BF8282 & \\#BF8282 & \\#A1FDFD & \\#47AFAF & \\#CC0909 & \\#CC0909 & \\#171919 & \\#8A7878 & \\#783333 & \\#783333 & \\#4C5656 & \\#9F9C9C & \\#9D2020 & \\#9D2020 & \\#551A1A & \\#23A0A0 & \\#C81C1C & \\#C81C1C & \\#40F8F8 & \\#72ABAB & \\#3EB8B8 & \\#3EB8B8 & \\#18AEAE & \\#65EBEB & \\#336F6F & \\#336F6F & \\#4E7878 & \\#5F5B5B & \\#674141 & \\#674141 & \\#34A4A4 & \\#582020 & \\#6E8282 & \\#6E9494 & \\#6E9494 & \\#940B0B & \\#6E7676 & \\#2E3232 & \\#2E2929 & \\#2E2929 & \\#05A6A6 & \\#69A8A8 & \\#0C5D5D & \\#575151 & \\#575151 & \\#31FEFE & \\#C4ECEC & \\#A8B4B4 & \\#907878 & \\#907878 & \\#4B1212 & \\#257D7D & \\#447F7F & \\#447F7F & \\#321919 & \\#938D8D & \\#572D2D & \\#31BFBF & \\#31BFBF & \\#58B0B0 & \\#647171 & \\#11DCDC & \\#11DCDC & \\#317D7D & \\#568888 & \\#702C2C & \\#702C2C & \\#B71B1B & \\#391515 & \\#9A7A7A & \\#9A7A7A & \\#198686 & \\#0BE5E5 & \\#692A2A & \\#348383 & \\#348383 & \\#2FA9A9 & \\#5AB1B1 & \\#81F9F9 & \\#81F9F9 & \\#B05555 & \\#C1B6B6 & \\#606969 & \\#606969 & \\#BA1E1E & \\#575757 & \\#78B1B1 & \\#78B1B1 & \\#16B0B0 & \\#9E3A3A & \\#136E6E & \\#136E6E & \\#952828 & \\#327373 & \\#573C3C & \\#573C3C & \\#574545 & \\#225C5C & \\#9FF9F9 & \\#9FF9F9 & \\#BFF4F4 & \\#ABFCFC & \\#3A3E3E & \\#3A3E3E & \\#054040 & \\#652222 & \\#CD1111 & \\#CD1111 & \\#A44646 & \\#72AEAE & \\#46D7D7 & \\#46D7D7 & \\#602121 & \\#631515 & \\#1AA9A9 & \\#971D1D & \\#971D1D & \\#372020 & \\#A2BABA & \\#98DFDF & \\#98DFDF & \\#BDE1E1 & \\#1EAEAE & \\#044141 & \\#044141 & \\#148B8B & \\#769292 & \\#BFFAFA & \\#BFFAFA & \\#993C3C & \\#8E5656 & \\#607878 & \\#607878 & \\#B8A7A7\\\\\n",
       "\\end{tabular}\n"
      ],
      "text/markdown": [
       "\n",
       "A matrix: 6 × 175 of type chr\n",
       "\n",
       "| #998181 | #998181 | #998181 | #998181 | #998181 | #998181 | #998181 | #998181 | #998181 | #998181 | ⋯ | #837676 | #5F1F1F | #7D0D0D | #303333 | #303333 | #67D1D1 | #5F0101 | #CCDBDB | #CCDBDB | #459999 |\n",
       "| #906C6C | #1AACAC | #1AACAC | #1EB1B1 | #044444 | #8E5959 | #B1BDBD | #B1BDBD | #8F9A9A | #C6ABAB | ⋯ | #837676 | #5F1F1F | #7D0D0D | #303333 | #303333 | #67D1D1 | #5F0101 | #CCDBDB | #CCDBDB | #459999 |\n",
       "| #906C6C | #1AACAC | #1AACAC | #1EB1B1 | #044444 | #8E5959 | #B1BDBD | #B1BDBD | #8F9A9A | #C6ABAB | ⋯ | #837676 | #5F1F1F | #7D0D0D | #303333 | #303333 | #67D1D1 | #5F0101 | #CCDBDB | #CCDBDB | #459999 |\n",
       "| #906C6C | #1AACAC | #1AACAC | #1EB1B1 | #044444 | #8E5959 | #B1BDBD | #B1BDBD | #8F9A9A | #C6ABAB | ⋯ | #837676 | #5F1F1F | #7D0D0D | #303333 | #303333 | #67D1D1 | #5F0101 | #CCDBDB | #CCDBDB | #459999 |\n",
       "| #906C6C | #1AACAC | #1AACAC | #1EB1B1 | #044444 | #8E5959 | #B1BDBD | #B1BDBD | #8F9A9A | #C6ABAB | ⋯ | #044141 | #148B8B | #769292 | #BFFAFA | #BFFAFA | #993C3C | #8E5656 | #607878 | #607878 | #B8A7A7 |\n",
       "| #5C1616 | #651F1F | #651F1F | #9BCDCD | #203A3A | #976262 | #976262 | #C6B1B1 | #971111 | #030C0C | ⋯ | #044141 | #148B8B | #769292 | #BFFAFA | #BFFAFA | #993C3C | #8E5656 | #607878 | #607878 | #B8A7A7 |\n",
       "\n"
      ],
      "text/plain": [
       "     [,1]    [,2]    [,3]    [,4]    [,5]    [,6]    [,7]    [,8]    [,9]   \n",
       "[1,] #998181 #998181 #998181 #998181 #998181 #998181 #998181 #998181 #998181\n",
       "[2,] #906C6C #1AACAC #1AACAC #1EB1B1 #044444 #8E5959 #B1BDBD #B1BDBD #8F9A9A\n",
       "[3,] #906C6C #1AACAC #1AACAC #1EB1B1 #044444 #8E5959 #B1BDBD #B1BDBD #8F9A9A\n",
       "[4,] #906C6C #1AACAC #1AACAC #1EB1B1 #044444 #8E5959 #B1BDBD #B1BDBD #8F9A9A\n",
       "[5,] #906C6C #1AACAC #1AACAC #1EB1B1 #044444 #8E5959 #B1BDBD #B1BDBD #8F9A9A\n",
       "[6,] #5C1616 #651F1F #651F1F #9BCDCD #203A3A #976262 #976262 #C6B1B1 #971111\n",
       "     [,10]   [,11] [,12]   [,13]   [,14]   [,15]   [,16]   [,17]   [,18]  \n",
       "[1,] #998181 ⋯     #837676 #5F1F1F #7D0D0D #303333 #303333 #67D1D1 #5F0101\n",
       "[2,] #C6ABAB ⋯     #837676 #5F1F1F #7D0D0D #303333 #303333 #67D1D1 #5F0101\n",
       "[3,] #C6ABAB ⋯     #837676 #5F1F1F #7D0D0D #303333 #303333 #67D1D1 #5F0101\n",
       "[4,] #C6ABAB ⋯     #837676 #5F1F1F #7D0D0D #303333 #303333 #67D1D1 #5F0101\n",
       "[5,] #C6ABAB ⋯     #044141 #148B8B #769292 #BFFAFA #BFFAFA #993C3C #8E5656\n",
       "[6,] #030C0C ⋯     #044141 #148B8B #769292 #BFFAFA #BFFAFA #993C3C #8E5656\n",
       "     [,19]   [,20]   [,21]  \n",
       "[1,] #CCDBDB #CCDBDB #459999\n",
       "[2,] #CCDBDB #CCDBDB #459999\n",
       "[3,] #CCDBDB #CCDBDB #459999\n",
       "[4,] #CCDBDB #CCDBDB #459999\n",
       "[5,] #607878 #607878 #B8A7A7\n",
       "[6,] #607878 #607878 #B8A7A7"
      ]
     },
     "metadata": {},
     "output_type": "display_data"
    }
   ],
   "source": [
    "head(kegg_mat)"
   ]
  },
  {
   "cell_type": "code",
   "execution_count": 99,
   "metadata": {},
   "outputs": [
    {
     "data": {
      "text/html": [
       "<table>\n",
       "<caption>A data.frame: 1 × 4</caption>\n",
       "<thead>\n",
       "\t<tr><th></th><th scope=col>color</th><th scope=col>area</th><th scope=col>width</th><th scope=col>height</th></tr>\n",
       "\t<tr><th></th><th scope=col>&lt;chr&gt;</th><th scope=col>&lt;int&gt;</th><th scope=col>&lt;dbl&gt;</th><th scope=col>&lt;dbl&gt;</th></tr>\n",
       "</thead>\n",
       "<tbody>\n",
       "\t<tr><th scope=row>17465</th><td>#CCDBDB</td><td>8</td><td>2</td><td>4</td></tr>\n",
       "</tbody>\n",
       "</table>\n"
      ],
      "text/latex": [
       "A data.frame: 1 × 4\n",
       "\\begin{tabular}{r|llll}\n",
       "  & color & area & width & height\\\\\n",
       "  & <chr> & <int> & <dbl> & <dbl>\\\\\n",
       "\\hline\n",
       "\t17465 & \\#CCDBDB & 8 & 2 & 4\\\\\n",
       "\\end{tabular}\n"
      ],
      "text/markdown": [
       "\n",
       "A data.frame: 1 × 4\n",
       "\n",
       "| <!--/--> | color &lt;chr&gt; | area &lt;int&gt; | width &lt;dbl&gt; | height &lt;dbl&gt; |\n",
       "|---|---|---|---|---|\n",
       "| 17465 | #CCDBDB | 8 | 2 | 4 |\n",
       "\n"
      ],
      "text/plain": [
       "      color   area width height\n",
       "17465 #CCDBDB 8    2     4     "
      ]
     },
     "metadata": {},
     "output_type": "display_data"
    }
   ],
   "source": [
    "# w=2, h=4 expected, located at top-right\n",
    "df_mat_area[df_mat_area$color == \"#CCDBDB\", ]"
   ]
  },
  {
   "cell_type": "code",
   "execution_count": 100,
   "metadata": {},
   "outputs": [
    {
     "data": {
      "text/html": [
       "<table>\n",
       "<caption>A data.frame: 1 × 4</caption>\n",
       "<thead>\n",
       "\t<tr><th></th><th scope=col>color</th><th scope=col>area</th><th scope=col>width</th><th scope=col>height</th></tr>\n",
       "\t<tr><th></th><th scope=col>&lt;chr&gt;</th><th scope=col>&lt;int&gt;</th><th scope=col>&lt;dbl&gt;</th><th scope=col>&lt;dbl&gt;</th></tr>\n",
       "</thead>\n",
       "<tbody>\n",
       "\t<tr><th scope=row>2</th><td>#906C6C</td><td>4</td><td>1</td><td>4</td></tr>\n",
       "</tbody>\n",
       "</table>\n"
      ],
      "text/latex": [
       "A data.frame: 1 × 4\n",
       "\\begin{tabular}{r|llll}\n",
       "  & color & area & width & height\\\\\n",
       "  & <chr> & <int> & <dbl> & <dbl>\\\\\n",
       "\\hline\n",
       "\t2 & \\#906C6C & 4 & 1 & 4\\\\\n",
       "\\end{tabular}\n"
      ],
      "text/markdown": [
       "\n",
       "A data.frame: 1 × 4\n",
       "\n",
       "| <!--/--> | color &lt;chr&gt; | area &lt;int&gt; | width &lt;dbl&gt; | height &lt;dbl&gt; |\n",
       "|---|---|---|---|---|\n",
       "| 2 | #906C6C | 4 | 1 | 4 |\n",
       "\n"
      ],
      "text/plain": [
       "  color   area width height\n",
       "2 #906C6C 4    1     4     "
      ]
     },
     "metadata": {},
     "output_type": "display_data"
    }
   ],
   "source": [
    "# w=1, h=4 expected, located at middle-left\n",
    "df_mat_area[df_mat_area$color == \"#906C6C\", ]"
   ]
  },
  {
   "cell_type": "markdown",
   "metadata": {},
   "source": [
    "We check if there is any non-rectangular element:"
   ]
  },
  {
   "cell_type": "code",
   "execution_count": 101,
   "metadata": {},
   "outputs": [
    {
     "data": {
      "text/html": [
       "1700"
      ],
      "text/latex": [
       "1700"
      ],
      "text/markdown": [
       "1700"
      ],
      "text/plain": [
       "[1] 1700"
      ]
     },
     "metadata": {},
     "output_type": "display_data"
    }
   ],
   "source": [
    "# Rows inside df_mat_area containing the non-rectangular color elements \n",
    "(na_pos <- which(is.na(df_mat_area$width)))"
   ]
  },
  {
   "cell_type": "markdown",
   "metadata": {},
   "source": [
    "The single non-rectangular element is the background color:"
   ]
  },
  {
   "cell_type": "code",
   "execution_count": 102,
   "metadata": {},
   "outputs": [
    {
     "data": {
      "text/html": [
       "<table>\n",
       "<caption>A data.frame: 1 × 4</caption>\n",
       "<thead>\n",
       "\t<tr><th></th><th scope=col>color</th><th scope=col>area</th><th scope=col>width</th><th scope=col>height</th></tr>\n",
       "\t<tr><th></th><th scope=col>&lt;chr&gt;</th><th scope=col>&lt;int&gt;</th><th scope=col>&lt;dbl&gt;</th><th scope=col>&lt;dbl&gt;</th></tr>\n",
       "</thead>\n",
       "<tbody>\n",
       "\t<tr><th scope=row>1700</th><td>#FFFFFF</td><td>4</td><td>NA</td><td>NA</td></tr>\n",
       "</tbody>\n",
       "</table>\n"
      ],
      "text/latex": [
       "A data.frame: 1 × 4\n",
       "\\begin{tabular}{r|llll}\n",
       "  & color & area & width & height\\\\\n",
       "  & <chr> & <int> & <dbl> & <dbl>\\\\\n",
       "\\hline\n",
       "\t1700 & \\#FFFFFF & 4 & NA & NA\\\\\n",
       "\\end{tabular}\n"
      ],
      "text/markdown": [
       "\n",
       "A data.frame: 1 × 4\n",
       "\n",
       "| <!--/--> | color &lt;chr&gt; | area &lt;int&gt; | width &lt;dbl&gt; | height &lt;dbl&gt; |\n",
       "|---|---|---|---|---|\n",
       "| 1700 | #FFFFFF | 4 | NA | NA |\n",
       "\n"
      ],
      "text/plain": [
       "     color   area width height\n",
       "1700 #FFFFFF 4    NA    NA    "
      ]
     },
     "metadata": {},
     "output_type": "display_data"
    }
   ],
   "source": [
    "df_mat_area[na_pos, ]"
   ]
  },
  {
   "cell_type": "markdown",
   "metadata": {},
   "source": [
    "Now, we study the distribution of the widths and heights of the rectangular color elements in the RRGGBB matrix:"
   ]
  },
  {
   "cell_type": "code",
   "execution_count": 103,
   "metadata": {},
   "outputs": [],
   "source": [
    "dist_rect_w_h <- as.data.frame(table(df_mat_area[, c(\"width\", \"height\")]))\n",
    "dist_rect_w_h <- dist_rect_w_h[dist_rect_w_h$Freq > 0, ]"
   ]
  },
  {
   "cell_type": "code",
   "execution_count": 104,
   "metadata": {},
   "outputs": [
    {
     "data": {
      "text/html": [
       "<table>\n",
       "<caption>A data.frame: 12 × 3</caption>\n",
       "<thead>\n",
       "\t<tr><th></th><th scope=col>width</th><th scope=col>height</th><th scope=col>Freq</th></tr>\n",
       "\t<tr><th></th><th scope=col>&lt;fct&gt;</th><th scope=col>&lt;fct&gt;</th><th scope=col>&lt;int&gt;</th></tr>\n",
       "</thead>\n",
       "<tbody>\n",
       "\t<tr><th scope=row>13</th><td>1 </td><td>4</td><td>8563</td></tr>\n",
       "\t<tr><th scope=row>14</th><td>2 </td><td>4</td><td>4072</td></tr>\n",
       "\t<tr><th scope=row>17</th><td>1 </td><td>5</td><td>3475</td></tr>\n",
       "\t<tr><th scope=row>18</th><td>2 </td><td>5</td><td>1503</td></tr>\n",
       "\t<tr><th scope=row>10</th><td>2 </td><td>3</td><td>  53</td></tr>\n",
       "\t<tr><th scope=row>9</th><td>1 </td><td>3</td><td>  25</td></tr>\n",
       "\t<tr><th scope=row>21</th><td>1 </td><td>6</td><td>  25</td></tr>\n",
       "\t<tr><th scope=row>3</th><td>11</td><td>1</td><td>   7</td></tr>\n",
       "\t<tr><th scope=row>25</th><td>1 </td><td>7</td><td>   4</td></tr>\n",
       "\t<tr><th scope=row>4</th><td>12</td><td>1</td><td>   2</td></tr>\n",
       "\t<tr><th scope=row>6</th><td>2 </td><td>2</td><td>   2</td></tr>\n",
       "\t<tr><th scope=row>29</th><td>1 </td><td>8</td><td>   1</td></tr>\n",
       "</tbody>\n",
       "</table>\n"
      ],
      "text/latex": [
       "A data.frame: 12 × 3\n",
       "\\begin{tabular}{r|lll}\n",
       "  & width & height & Freq\\\\\n",
       "  & <fct> & <fct> & <int>\\\\\n",
       "\\hline\n",
       "\t13 & 1  & 4 & 8563\\\\\n",
       "\t14 & 2  & 4 & 4072\\\\\n",
       "\t17 & 1  & 5 & 3475\\\\\n",
       "\t18 & 2  & 5 & 1503\\\\\n",
       "\t10 & 2  & 3 &   53\\\\\n",
       "\t9 & 1  & 3 &   25\\\\\n",
       "\t21 & 1  & 6 &   25\\\\\n",
       "\t3 & 11 & 1 &    7\\\\\n",
       "\t25 & 1  & 7 &    4\\\\\n",
       "\t4 & 12 & 1 &    2\\\\\n",
       "\t6 & 2  & 2 &    2\\\\\n",
       "\t29 & 1  & 8 &    1\\\\\n",
       "\\end{tabular}\n"
      ],
      "text/markdown": [
       "\n",
       "A data.frame: 12 × 3\n",
       "\n",
       "| <!--/--> | width &lt;fct&gt; | height &lt;fct&gt; | Freq &lt;int&gt; |\n",
       "|---|---|---|---|\n",
       "| 13 | 1  | 4 | 8563 |\n",
       "| 14 | 2  | 4 | 4072 |\n",
       "| 17 | 1  | 5 | 3475 |\n",
       "| 18 | 2  | 5 | 1503 |\n",
       "| 10 | 2  | 3 |   53 |\n",
       "| 9 | 1  | 3 |   25 |\n",
       "| 21 | 1  | 6 |   25 |\n",
       "| 3 | 11 | 1 |    7 |\n",
       "| 25 | 1  | 7 |    4 |\n",
       "| 4 | 12 | 1 |    2 |\n",
       "| 6 | 2  | 2 |    2 |\n",
       "| 29 | 1  | 8 |    1 |\n",
       "\n"
      ],
      "text/plain": [
       "   width height Freq\n",
       "13 1     4      8563\n",
       "14 2     4      4072\n",
       "17 1     5      3475\n",
       "18 2     5      1503\n",
       "10 2     3        53\n",
       "9  1     3        25\n",
       "21 1     6        25\n",
       "3  11    1         7\n",
       "25 1     7         4\n",
       "4  12    1         2\n",
       "6  2     2         2\n",
       "29 1     8         1"
      ]
     },
     "metadata": {},
     "output_type": "display_data"
    }
   ],
   "source": [
    "dist_rect_w_h[order(dist_rect_w_h$Freq, decreasing = TRUE), ]"
   ]
  },
  {
   "cell_type": "code",
   "execution_count": 105,
   "metadata": {},
   "outputs": [
    {
     "data": {
      "text/html": [
       "0,993232955506682"
      ],
      "text/latex": [
       "0,993232955506682"
      ],
      "text/markdown": [
       "0,993232955506682"
      ],
      "text/plain": [
       "[1] 0,993233"
      ]
     },
     "metadata": {},
     "output_type": "display_data"
    }
   ],
   "source": [
    "sum(dist_rect_w_h[order(dist_rect_w_h$Freq, decreasing = TRUE), ]$Freq[c(1:4)])/nrow(df_mat_area)"
   ]
  },
  {
   "cell_type": "code",
   "execution_count": 106,
   "metadata": {},
   "outputs": [
    {
     "data": {
      "text/html": [
       "12"
      ],
      "text/latex": [
       "12"
      ],
      "text/markdown": [
       "12"
      ],
      "text/plain": [
       "[1] 12"
      ]
     },
     "metadata": {},
     "output_type": "display_data"
    }
   ],
   "source": [
    "# Different weight-height combinations\n",
    "nrow(dist_rect_w_h)"
   ]
  },
  {
   "cell_type": "markdown",
   "metadata": {},
   "source": [
    "W=1;H=4, W=2;H=4, W=1;H=5 and W=2;H=5 are the most frequent dimensions by far. Actually, they account for the 99% of all 12 possible dimensions (weight-height combinations)."
   ]
  },
  {
   "cell_type": "markdown",
   "metadata": {},
   "source": [
    "We also explore the number of elements in the RRGGBB matrix that corresponds to background:"
   ]
  },
  {
   "cell_type": "code",
   "execution_count": 107,
   "metadata": {},
   "outputs": [
    {
     "data": {
      "text/html": [
       "4"
      ],
      "text/latex": [
       "4"
      ],
      "text/markdown": [
       "4"
      ],
      "text/plain": [
       "[1] 4"
      ]
     },
     "metadata": {},
     "output_type": "display_data"
    }
   ],
   "source": [
    "nrow(which(kegg_mat==\"#FFFFFF\", arr.ind = TRUE))"
   ]
  },
  {
   "cell_type": "code",
   "execution_count": 108,
   "metadata": {},
   "outputs": [
    {
     "data": {
      "text/html": [
       "4,00300225168877e-05"
      ],
      "text/latex": [
       "4,00300225168877e-05"
      ],
      "text/markdown": [
       "4,00300225168877e-05"
      ],
      "text/plain": [
       "[1] 4,003002e-05"
      ]
     },
     "metadata": {},
     "output_type": "display_data"
    }
   ],
   "source": [
    "# As a percentage\n",
    "nrow(which(kegg_mat==\"#FFFFFF\", arr.ind = TRUE))/(nrow(kegg_mat)*ncol(kegg_mat))"
   ]
  },
  {
   "cell_type": "markdown",
   "metadata": {},
   "source": [
    "As a conclusion, we can say that, in terms of the number of distinct gene occurrences present in the images, both 571x571 and 175x571 are the best found pixels configurations. The latter has a lower number of pixels, and both contain all the elements present in the original continuous treemap, showing the validity of the discretization process performed using these two image dimensions configurations.\n",
    "\n",
    "The 175x175 pixels configuration, although it does not contain all elements (only 9 elements are not present), it has a much lower number of pixels than the two previous configurations. This is critical when processing the images in environments with limited resources. Besides, the similar rectangular areas of occupied by the gene occurrences elements using this latter configuration is a real advantage over the others. Hence, 175x175 is selected as the preferred resolution for image **T**."
   ]
  }
 ],
 "metadata": {
  "kernelspec": {
   "display_name": "R",
   "language": "R",
   "name": "ir"
  },
  "language_info": {
   "codemirror_mode": "r",
   "file_extension": ".r",
   "mimetype": "text/x-r-source",
   "name": "R",
   "pygments_lexer": "r",
   "version": "3.5.2"
  }
 },
 "nbformat": 4,
 "nbformat_minor": 4
}
