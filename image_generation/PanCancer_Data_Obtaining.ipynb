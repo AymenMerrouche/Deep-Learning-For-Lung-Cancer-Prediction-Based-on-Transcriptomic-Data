{
 "cells": [
  {
   "cell_type": "markdown",
   "metadata": {},
   "source": [
    "# Download PanCancer data\n",
    "\n",
    "First, we download the RSEM TPM gene expression data from https://toil.xenahubs.net/download/tcga_RSEM_gene_tpm.gz. The format of the gene expression data is log2(TPM+0.001)."
   ]
  },
  {
   "cell_type": "code",
   "execution_count": 1,
   "metadata": {},
   "outputs": [
    {
     "name": "stdout",
     "output_type": "stream",
     "text": [
      "CPU times: user 2min 17s, sys: 3.82 s, total: 2min 21s\n",
      "Wall time: 2min 40s\n"
     ]
    }
   ],
   "source": [
    "%%time\n",
    "import pandas as pd\n",
    "import numpy as np\n",
    "df_gene_exp = pd.read_table(\"/tempory/transcriptomic_data/pan_cancer/tcga_RSEM_gene_tpm\",\n",
    "                            sep='\\t', index_col=0).sort_index(axis='rows').sort_index(axis='columns')"
   ]
  },
  {
   "cell_type": "code",
   "execution_count": 2,
   "metadata": {},
   "outputs": [
    {
     "name": "stdout",
     "output_type": "stream",
     "text": [
      "Genes=60498; Samples=10535;\n"
     ]
    }
   ],
   "source": [
    "print(\"Genes={}; Samples={};\".format(*df_gene_exp.shape))"
   ]
  },
  {
   "cell_type": "code",
   "execution_count": 3,
   "metadata": {},
   "outputs": [
    {
     "data": {
      "text/html": [
       "<div>\n",
       "<style scoped>\n",
       "    .dataframe tbody tr th:only-of-type {\n",
       "        vertical-align: middle;\n",
       "    }\n",
       "\n",
       "    .dataframe tbody tr th {\n",
       "        vertical-align: top;\n",
       "    }\n",
       "\n",
       "    .dataframe thead th {\n",
       "        text-align: right;\n",
       "    }\n",
       "</style>\n",
       "<table border=\"1\" class=\"dataframe\">\n",
       "  <thead>\n",
       "    <tr style=\"text-align: right;\">\n",
       "      <th></th>\n",
       "      <th>TCGA-02-0047-01</th>\n",
       "      <th>TCGA-02-0055-01</th>\n",
       "      <th>TCGA-02-2483-01</th>\n",
       "      <th>TCGA-02-2485-01</th>\n",
       "      <th>TCGA-04-1331-01</th>\n",
       "      <th>TCGA-04-1332-01</th>\n",
       "      <th>TCGA-04-1337-01</th>\n",
       "      <th>TCGA-04-1338-01</th>\n",
       "      <th>TCGA-04-1341-01</th>\n",
       "      <th>TCGA-04-1343-01</th>\n",
       "      <th>...</th>\n",
       "      <th>TCGA-ZR-A9CJ-01</th>\n",
       "      <th>TCGA-ZS-A9CD-01</th>\n",
       "      <th>TCGA-ZS-A9CE-01</th>\n",
       "      <th>TCGA-ZS-A9CF-01</th>\n",
       "      <th>TCGA-ZS-A9CF-02</th>\n",
       "      <th>TCGA-ZS-A9CG-01</th>\n",
       "      <th>TCGA-ZT-A8OM-01</th>\n",
       "      <th>TCGA-ZU-A8S4-01</th>\n",
       "      <th>TCGA-ZU-A8S4-11</th>\n",
       "      <th>TCGA-ZX-AA5X-01</th>\n",
       "    </tr>\n",
       "    <tr>\n",
       "      <th>sample</th>\n",
       "      <th></th>\n",
       "      <th></th>\n",
       "      <th></th>\n",
       "      <th></th>\n",
       "      <th></th>\n",
       "      <th></th>\n",
       "      <th></th>\n",
       "      <th></th>\n",
       "      <th></th>\n",
       "      <th></th>\n",
       "      <th></th>\n",
       "      <th></th>\n",
       "      <th></th>\n",
       "      <th></th>\n",
       "      <th></th>\n",
       "      <th></th>\n",
       "      <th></th>\n",
       "      <th></th>\n",
       "      <th></th>\n",
       "      <th></th>\n",
       "      <th></th>\n",
       "    </tr>\n",
       "  </thead>\n",
       "  <tbody>\n",
       "    <tr>\n",
       "      <th>ENSG00000000003.14</th>\n",
       "      <td>5.4712</td>\n",
       "      <td>5.1498</td>\n",
       "      <td>5.6448</td>\n",
       "      <td>6.1709</td>\n",
       "      <td>5.7911</td>\n",
       "      <td>4.1907</td>\n",
       "      <td>4.3463</td>\n",
       "      <td>3.9856</td>\n",
       "      <td>4.0251</td>\n",
       "      <td>4.2921</td>\n",
       "      <td>...</td>\n",
       "      <td>4.4784</td>\n",
       "      <td>6.0330</td>\n",
       "      <td>5.4845</td>\n",
       "      <td>5.1363</td>\n",
       "      <td>5.1583</td>\n",
       "      <td>7.1371</td>\n",
       "      <td>1.5998</td>\n",
       "      <td>4.6560</td>\n",
       "      <td>5.3230</td>\n",
       "      <td>4.8115</td>\n",
       "    </tr>\n",
       "    <tr>\n",
       "      <th>ENSG00000000005.5</th>\n",
       "      <td>-3.1714</td>\n",
       "      <td>4.1652</td>\n",
       "      <td>-5.5735</td>\n",
       "      <td>-3.1714</td>\n",
       "      <td>-2.6349</td>\n",
       "      <td>-2.3147</td>\n",
       "      <td>-5.0116</td>\n",
       "      <td>-5.5735</td>\n",
       "      <td>-4.2934</td>\n",
       "      <td>0.9115</td>\n",
       "      <td>...</td>\n",
       "      <td>-5.0116</td>\n",
       "      <td>-9.9658</td>\n",
       "      <td>-9.9658</td>\n",
       "      <td>-5.5735</td>\n",
       "      <td>-4.6082</td>\n",
       "      <td>-0.2671</td>\n",
       "      <td>-1.1172</td>\n",
       "      <td>-9.9658</td>\n",
       "      <td>-9.9658</td>\n",
       "      <td>-3.1714</td>\n",
       "    </tr>\n",
       "    <tr>\n",
       "      <th>ENSG00000000419.12</th>\n",
       "      <td>4.6753</td>\n",
       "      <td>6.0251</td>\n",
       "      <td>5.8263</td>\n",
       "      <td>5.1768</td>\n",
       "      <td>5.7963</td>\n",
       "      <td>4.3169</td>\n",
       "      <td>6.8252</td>\n",
       "      <td>5.2430</td>\n",
       "      <td>4.9031</td>\n",
       "      <td>6.5546</td>\n",
       "      <td>...</td>\n",
       "      <td>6.7702</td>\n",
       "      <td>5.0670</td>\n",
       "      <td>4.6611</td>\n",
       "      <td>4.5261</td>\n",
       "      <td>4.6317</td>\n",
       "      <td>4.8798</td>\n",
       "      <td>2.8321</td>\n",
       "      <td>5.5874</td>\n",
       "      <td>4.0037</td>\n",
       "      <td>5.2192</td>\n",
       "    </tr>\n",
       "    <tr>\n",
       "      <th>ENSG00000000457.13</th>\n",
       "      <td>2.0742</td>\n",
       "      <td>2.1013</td>\n",
       "      <td>1.9564</td>\n",
       "      <td>2.4198</td>\n",
       "      <td>2.1988</td>\n",
       "      <td>0.8246</td>\n",
       "      <td>1.1641</td>\n",
       "      <td>1.5013</td>\n",
       "      <td>0.5955</td>\n",
       "      <td>0.3685</td>\n",
       "      <td>...</td>\n",
       "      <td>2.1988</td>\n",
       "      <td>1.8762</td>\n",
       "      <td>2.1280</td>\n",
       "      <td>3.0428</td>\n",
       "      <td>3.5473</td>\n",
       "      <td>2.1313</td>\n",
       "      <td>-0.6873</td>\n",
       "      <td>1.7870</td>\n",
       "      <td>0.9642</td>\n",
       "      <td>2.5061</td>\n",
       "    </tr>\n",
       "    <tr>\n",
       "      <th>ENSG00000000460.16</th>\n",
       "      <td>2.2573</td>\n",
       "      <td>2.4571</td>\n",
       "      <td>2.5036</td>\n",
       "      <td>3.0995</td>\n",
       "      <td>2.8442</td>\n",
       "      <td>1.4281</td>\n",
       "      <td>1.0007</td>\n",
       "      <td>1.4174</td>\n",
       "      <td>0.7407</td>\n",
       "      <td>0.9419</td>\n",
       "      <td>...</td>\n",
       "      <td>3.0498</td>\n",
       "      <td>0.0440</td>\n",
       "      <td>0.2522</td>\n",
       "      <td>1.8036</td>\n",
       "      <td>2.4623</td>\n",
       "      <td>3.0825</td>\n",
       "      <td>2.1444</td>\n",
       "      <td>2.6208</td>\n",
       "      <td>0.5955</td>\n",
       "      <td>2.6624</td>\n",
       "    </tr>\n",
       "  </tbody>\n",
       "</table>\n",
       "<p>5 rows × 10535 columns</p>\n",
       "</div>"
      ],
      "text/plain": [
       "                    TCGA-02-0047-01  TCGA-02-0055-01  TCGA-02-2483-01  \\\n",
       "sample                                                                  \n",
       "ENSG00000000003.14           5.4712           5.1498           5.6448   \n",
       "ENSG00000000005.5           -3.1714           4.1652          -5.5735   \n",
       "ENSG00000000419.12           4.6753           6.0251           5.8263   \n",
       "ENSG00000000457.13           2.0742           2.1013           1.9564   \n",
       "ENSG00000000460.16           2.2573           2.4571           2.5036   \n",
       "\n",
       "                    TCGA-02-2485-01  TCGA-04-1331-01  TCGA-04-1332-01  \\\n",
       "sample                                                                  \n",
       "ENSG00000000003.14           6.1709           5.7911           4.1907   \n",
       "ENSG00000000005.5           -3.1714          -2.6349          -2.3147   \n",
       "ENSG00000000419.12           5.1768           5.7963           4.3169   \n",
       "ENSG00000000457.13           2.4198           2.1988           0.8246   \n",
       "ENSG00000000460.16           3.0995           2.8442           1.4281   \n",
       "\n",
       "                    TCGA-04-1337-01  TCGA-04-1338-01  TCGA-04-1341-01  \\\n",
       "sample                                                                  \n",
       "ENSG00000000003.14           4.3463           3.9856           4.0251   \n",
       "ENSG00000000005.5           -5.0116          -5.5735          -4.2934   \n",
       "ENSG00000000419.12           6.8252           5.2430           4.9031   \n",
       "ENSG00000000457.13           1.1641           1.5013           0.5955   \n",
       "ENSG00000000460.16           1.0007           1.4174           0.7407   \n",
       "\n",
       "                    TCGA-04-1343-01  ...  TCGA-ZR-A9CJ-01  TCGA-ZS-A9CD-01  \\\n",
       "sample                               ...                                     \n",
       "ENSG00000000003.14           4.2921  ...           4.4784           6.0330   \n",
       "ENSG00000000005.5            0.9115  ...          -5.0116          -9.9658   \n",
       "ENSG00000000419.12           6.5546  ...           6.7702           5.0670   \n",
       "ENSG00000000457.13           0.3685  ...           2.1988           1.8762   \n",
       "ENSG00000000460.16           0.9419  ...           3.0498           0.0440   \n",
       "\n",
       "                    TCGA-ZS-A9CE-01  TCGA-ZS-A9CF-01  TCGA-ZS-A9CF-02  \\\n",
       "sample                                                                  \n",
       "ENSG00000000003.14           5.4845           5.1363           5.1583   \n",
       "ENSG00000000005.5           -9.9658          -5.5735          -4.6082   \n",
       "ENSG00000000419.12           4.6611           4.5261           4.6317   \n",
       "ENSG00000000457.13           2.1280           3.0428           3.5473   \n",
       "ENSG00000000460.16           0.2522           1.8036           2.4623   \n",
       "\n",
       "                    TCGA-ZS-A9CG-01  TCGA-ZT-A8OM-01  TCGA-ZU-A8S4-01  \\\n",
       "sample                                                                  \n",
       "ENSG00000000003.14           7.1371           1.5998           4.6560   \n",
       "ENSG00000000005.5           -0.2671          -1.1172          -9.9658   \n",
       "ENSG00000000419.12           4.8798           2.8321           5.5874   \n",
       "ENSG00000000457.13           2.1313          -0.6873           1.7870   \n",
       "ENSG00000000460.16           3.0825           2.1444           2.6208   \n",
       "\n",
       "                    TCGA-ZU-A8S4-11  TCGA-ZX-AA5X-01  \n",
       "sample                                                \n",
       "ENSG00000000003.14           5.3230           4.8115  \n",
       "ENSG00000000005.5           -9.9658          -3.1714  \n",
       "ENSG00000000419.12           4.0037           5.2192  \n",
       "ENSG00000000457.13           0.9642           2.5061  \n",
       "ENSG00000000460.16           0.5955           2.6624  \n",
       "\n",
       "[5 rows x 10535 columns]"
      ]
     },
     "execution_count": 3,
     "metadata": {},
     "output_type": "execute_result"
    }
   ],
   "source": [
    "df_gene_exp.head()"
   ]
  },
  {
   "cell_type": "markdown",
   "metadata": {},
   "source": [
    "The next thing to do is to check if the data frame contains any NA. If so, either remove the rows that contain them (dropna method) or use any other imputation method:"
   ]
  },
  {
   "cell_type": "code",
   "execution_count": 4,
   "metadata": {},
   "outputs": [
    {
     "data": {
      "text/plain": [
       "False"
      ]
     },
     "execution_count": 4,
     "metadata": {},
     "output_type": "execute_result"
    }
   ],
   "source": [
    "df_gene_exp.isnull().values.any()"
   ]
  },
  {
   "cell_type": "markdown",
   "metadata": {},
   "source": [
    "# Data exploration\n",
    "\n",
    "We now explore the samples type (tumor or normal), and then some clinical information associated to them."
   ]
  },
  {
   "cell_type": "markdown",
   "metadata": {},
   "source": [
    "## Tumor-Normal binary variable\n",
    "\n",
    "We first load a dataset that contains information about the PanCancer sample types and diseases, downloaded from https://pancanatlas.xenahubs.net/download/TCGA_phenotype_denseDataOnlyDownload.tsv.gz"
   ]
  },
  {
   "cell_type": "code",
   "execution_count": 5,
   "metadata": {},
   "outputs": [],
   "source": [
    "df_pancan_sample = pd.read_table(\"/tempory/transcriptomic_data/pan_cancer/TCGA_phenotype_denseDataOnlyDownload.tsv\", \n",
    "                                 index_col=0).sort_index(axis='rows')"
   ]
  },
  {
   "cell_type": "code",
   "execution_count": 6,
   "metadata": {},
   "outputs": [
    {
     "name": "stdout",
     "output_type": "stream",
     "text": [
      "(12804, 3)\n"
     ]
    },
    {
     "data": {
      "text/html": [
       "<div>\n",
       "<style scoped>\n",
       "    .dataframe tbody tr th:only-of-type {\n",
       "        vertical-align: middle;\n",
       "    }\n",
       "\n",
       "    .dataframe tbody tr th {\n",
       "        vertical-align: top;\n",
       "    }\n",
       "\n",
       "    .dataframe thead th {\n",
       "        text-align: right;\n",
       "    }\n",
       "</style>\n",
       "<table border=\"1\" class=\"dataframe\">\n",
       "  <thead>\n",
       "    <tr style=\"text-align: right;\">\n",
       "      <th></th>\n",
       "      <th>sample_type_id</th>\n",
       "      <th>sample_type</th>\n",
       "      <th>_primary_disease</th>\n",
       "    </tr>\n",
       "    <tr>\n",
       "      <th>sample</th>\n",
       "      <th></th>\n",
       "      <th></th>\n",
       "      <th></th>\n",
       "    </tr>\n",
       "  </thead>\n",
       "  <tbody>\n",
       "    <tr>\n",
       "      <th>TCGA-01-0628-11</th>\n",
       "      <td>11.0</td>\n",
       "      <td>Solid Tissue Normal</td>\n",
       "      <td>ovarian serous cystadenocarcinoma</td>\n",
       "    </tr>\n",
       "    <tr>\n",
       "      <th>TCGA-01-0629-11</th>\n",
       "      <td>NaN</td>\n",
       "      <td>NaN</td>\n",
       "      <td>ovarian serous cystadenocarcinoma</td>\n",
       "    </tr>\n",
       "    <tr>\n",
       "      <th>TCGA-01-0630-11</th>\n",
       "      <td>11.0</td>\n",
       "      <td>Solid Tissue Normal</td>\n",
       "      <td>ovarian serous cystadenocarcinoma</td>\n",
       "    </tr>\n",
       "    <tr>\n",
       "      <th>TCGA-01-0631-11</th>\n",
       "      <td>11.0</td>\n",
       "      <td>Solid Tissue Normal</td>\n",
       "      <td>ovarian serous cystadenocarcinoma</td>\n",
       "    </tr>\n",
       "    <tr>\n",
       "      <th>TCGA-01-0633-11</th>\n",
       "      <td>11.0</td>\n",
       "      <td>Solid Tissue Normal</td>\n",
       "      <td>ovarian serous cystadenocarcinoma</td>\n",
       "    </tr>\n",
       "  </tbody>\n",
       "</table>\n",
       "</div>"
      ],
      "text/plain": [
       "                 sample_type_id          sample_type  \\\n",
       "sample                                                 \n",
       "TCGA-01-0628-11            11.0  Solid Tissue Normal   \n",
       "TCGA-01-0629-11             NaN                  NaN   \n",
       "TCGA-01-0630-11            11.0  Solid Tissue Normal   \n",
       "TCGA-01-0631-11            11.0  Solid Tissue Normal   \n",
       "TCGA-01-0633-11            11.0  Solid Tissue Normal   \n",
       "\n",
       "                                  _primary_disease  \n",
       "sample                                              \n",
       "TCGA-01-0628-11  ovarian serous cystadenocarcinoma  \n",
       "TCGA-01-0629-11  ovarian serous cystadenocarcinoma  \n",
       "TCGA-01-0630-11  ovarian serous cystadenocarcinoma  \n",
       "TCGA-01-0631-11  ovarian serous cystadenocarcinoma  \n",
       "TCGA-01-0633-11  ovarian serous cystadenocarcinoma  "
      ]
     },
     "execution_count": 6,
     "metadata": {},
     "output_type": "execute_result"
    }
   ],
   "source": [
    "print(df_pancan_sample.shape)\n",
    "\n",
    "df_pancan_sample.head()"
   ]
  },
  {
   "cell_type": "markdown",
   "metadata": {},
   "source": [
    "We check that there are no duplicated samples:"
   ]
  },
  {
   "cell_type": "code",
   "execution_count": 7,
   "metadata": {},
   "outputs": [
    {
     "data": {
      "text/plain": [
       "False"
      ]
     },
     "execution_count": 7,
     "metadata": {},
     "output_type": "execute_result"
    }
   ],
   "source": [
    "pancan_sample = df_pancan_sample.index\n",
    "pancan_sample.duplicated().any()"
   ]
  },
  {
   "cell_type": "markdown",
   "metadata": {},
   "source": [
    "We select the PanCancer samples contained both in the expression and samples type datasets:"
   ]
  },
  {
   "cell_type": "code",
   "execution_count": 8,
   "metadata": {},
   "outputs": [
    {
     "data": {
      "text/plain": [
       "10534"
      ]
     },
     "execution_count": 8,
     "metadata": {},
     "output_type": "execute_result"
    }
   ],
   "source": [
    "pancan_sample_common = df_gene_exp.columns.intersection(pancan_sample)\n",
    "len(pancan_sample_common)"
   ]
  },
  {
   "cell_type": "code",
   "execution_count": 9,
   "metadata": {},
   "outputs": [
    {
     "data": {
      "text/plain": [
       "Index(['TCGA-07-0249-20'], dtype='object')"
      ]
     },
     "execution_count": 9,
     "metadata": {},
     "output_type": "execute_result"
    }
   ],
   "source": [
    "# One sample from the expression dataset is not included in the samples type dataset.\n",
    "# When we google its identifier, most information is NOT SPECIFIED\n",
    "df_gene_exp.columns.difference(pancan_sample_common)"
   ]
  },
  {
   "cell_type": "code",
   "execution_count": 10,
   "metadata": {},
   "outputs": [
    {
     "data": {
      "text/plain": [
       "(10534, 3)"
      ]
     },
     "execution_count": 10,
     "metadata": {},
     "output_type": "execute_result"
    }
   ],
   "source": [
    "df_pancan_sample = df_pancan_sample.loc[pancan_sample_common]\n",
    "df_pancan_sample.shape"
   ]
  },
  {
   "cell_type": "code",
   "execution_count": 11,
   "metadata": {},
   "outputs": [
    {
     "data": {
      "text/plain": [
       "sample_type_id      False\n",
       "sample_type         False\n",
       "_primary_disease    False\n",
       "dtype: bool"
      ]
     },
     "execution_count": 11,
     "metadata": {},
     "output_type": "execute_result"
    }
   ],
   "source": [
    "# Check NAs\n",
    "df_pancan_sample.isnull().any()"
   ]
  },
  {
   "cell_type": "code",
   "execution_count": 12,
   "metadata": {},
   "outputs": [
    {
     "data": {
      "text/plain": [
       "Primary Tumor                                      9185\n",
       "Solid Tissue Normal                                 727\n",
       "Metastatic                                          392\n",
       "Primary Blood Derived Cancer - Peripheral Blood     173\n",
       "Recurrent Tumor                                      45\n",
       "Additional - New Primary                             11\n",
       "Additional Metastatic                                 1\n",
       "Name: sample_type, dtype: int64"
      ]
     },
     "execution_count": 12,
     "metadata": {},
     "output_type": "execute_result"
    }
   ],
   "source": [
    "# Sample type variable\n",
    "df_pancan_sample.sample_type.value_counts(normalize=False)"
   ]
  },
  {
   "cell_type": "markdown",
   "metadata": {},
   "source": [
    "We create a tumor/normal binary variable using the sample type, with no NA values in the column:"
   ]
  },
  {
   "cell_type": "code",
   "execution_count": 13,
   "metadata": {},
   "outputs": [],
   "source": [
    "# for binary classification\n",
    "df_pancan_sample[\"tumor_normal\"] = df_pancan_sample.apply(\n",
    "    lambda row: \"Normal\" if row[\"sample_type\"] == \"Solid Tissue Normal\" else \"Tumor\", axis=1)"
   ]
  },
  {
   "cell_type": "code",
   "execution_count": 14,
   "metadata": {},
   "outputs": [
    {
     "data": {
      "text/plain": [
       "Tumor     9807\n",
       "Normal     727\n",
       "Name: tumor_normal, dtype: int64"
      ]
     },
     "execution_count": 14,
     "metadata": {},
     "output_type": "execute_result"
    }
   ],
   "source": [
    "# Tumor/Normal variable\n",
    "df_pancan_sample.tumor_normal.value_counts(normalize=False)"
   ]
  },
  {
   "cell_type": "markdown",
   "metadata": {},
   "source": [
    "## Clinical variables\n",
    "\n",
    "We then load a second dataset that contains clinical information about the PanCancer samples, downloaded from https://pancanatlas.xenahubs.net/download/Survival_SupplementalTable_S1_20171025_xena_sp.gz"
   ]
  },
  {
   "cell_type": "code",
   "execution_count": 15,
   "metadata": {},
   "outputs": [],
   "source": [
    "df_pancan_clinical = pd.read_table(\"/tempory/transcriptomic_data/pan_cancer/Survival_SupplementalTable_S1_20171025_xena_sp\", \n",
    "                                   index_col=0).sort_index(axis='rows')"
   ]
  },
  {
   "cell_type": "code",
   "execution_count": 16,
   "metadata": {},
   "outputs": [
    {
     "name": "stdout",
     "output_type": "stream",
     "text": [
      "(12591, 33)\n"
     ]
    },
    {
     "data": {
      "text/html": [
       "<div>\n",
       "<style scoped>\n",
       "    .dataframe tbody tr th:only-of-type {\n",
       "        vertical-align: middle;\n",
       "    }\n",
       "\n",
       "    .dataframe tbody tr th {\n",
       "        vertical-align: top;\n",
       "    }\n",
       "\n",
       "    .dataframe thead th {\n",
       "        text-align: right;\n",
       "    }\n",
       "</style>\n",
       "<table border=\"1\" class=\"dataframe\">\n",
       "  <thead>\n",
       "    <tr style=\"text-align: right;\">\n",
       "      <th></th>\n",
       "      <th>_PATIENT</th>\n",
       "      <th>cancer type abbreviation</th>\n",
       "      <th>age_at_initial_pathologic_diagnosis</th>\n",
       "      <th>gender</th>\n",
       "      <th>race</th>\n",
       "      <th>ajcc_pathologic_tumor_stage</th>\n",
       "      <th>clinical_stage</th>\n",
       "      <th>histological_type</th>\n",
       "      <th>histological_grade</th>\n",
       "      <th>initial_pathologic_dx_year</th>\n",
       "      <th>...</th>\n",
       "      <th>residual_tumor</th>\n",
       "      <th>OS</th>\n",
       "      <th>OS.time</th>\n",
       "      <th>DSS</th>\n",
       "      <th>DSS.time</th>\n",
       "      <th>DFI</th>\n",
       "      <th>DFI.time</th>\n",
       "      <th>PFI</th>\n",
       "      <th>PFI.time</th>\n",
       "      <th>Redaction</th>\n",
       "    </tr>\n",
       "    <tr>\n",
       "      <th>sample</th>\n",
       "      <th></th>\n",
       "      <th></th>\n",
       "      <th></th>\n",
       "      <th></th>\n",
       "      <th></th>\n",
       "      <th></th>\n",
       "      <th></th>\n",
       "      <th></th>\n",
       "      <th></th>\n",
       "      <th></th>\n",
       "      <th></th>\n",
       "      <th></th>\n",
       "      <th></th>\n",
       "      <th></th>\n",
       "      <th></th>\n",
       "      <th></th>\n",
       "      <th></th>\n",
       "      <th></th>\n",
       "      <th></th>\n",
       "      <th></th>\n",
       "      <th></th>\n",
       "    </tr>\n",
       "  </thead>\n",
       "  <tbody>\n",
       "    <tr>\n",
       "      <th>TCGA-02-0001-01</th>\n",
       "      <td>TCGA-02-0001</td>\n",
       "      <td>GBM</td>\n",
       "      <td>44.0</td>\n",
       "      <td>FEMALE</td>\n",
       "      <td>WHITE</td>\n",
       "      <td>NaN</td>\n",
       "      <td>NaN</td>\n",
       "      <td>Untreated primary (de novo) GBM</td>\n",
       "      <td>NaN</td>\n",
       "      <td>2002.0</td>\n",
       "      <td>...</td>\n",
       "      <td>NaN</td>\n",
       "      <td>1.0</td>\n",
       "      <td>358.0</td>\n",
       "      <td>1.0</td>\n",
       "      <td>358.0</td>\n",
       "      <td>NaN</td>\n",
       "      <td>NaN</td>\n",
       "      <td>1.0</td>\n",
       "      <td>137.0</td>\n",
       "      <td>NaN</td>\n",
       "    </tr>\n",
       "    <tr>\n",
       "      <th>TCGA-02-0003-01</th>\n",
       "      <td>TCGA-02-0003</td>\n",
       "      <td>GBM</td>\n",
       "      <td>50.0</td>\n",
       "      <td>MALE</td>\n",
       "      <td>WHITE</td>\n",
       "      <td>NaN</td>\n",
       "      <td>NaN</td>\n",
       "      <td>Untreated primary (de novo) GBM</td>\n",
       "      <td>NaN</td>\n",
       "      <td>2003.0</td>\n",
       "      <td>...</td>\n",
       "      <td>NaN</td>\n",
       "      <td>1.0</td>\n",
       "      <td>144.0</td>\n",
       "      <td>1.0</td>\n",
       "      <td>144.0</td>\n",
       "      <td>NaN</td>\n",
       "      <td>NaN</td>\n",
       "      <td>1.0</td>\n",
       "      <td>40.0</td>\n",
       "      <td>NaN</td>\n",
       "    </tr>\n",
       "    <tr>\n",
       "      <th>TCGA-02-0006-01</th>\n",
       "      <td>TCGA-02-0006</td>\n",
       "      <td>GBM</td>\n",
       "      <td>56.0</td>\n",
       "      <td>FEMALE</td>\n",
       "      <td>WHITE</td>\n",
       "      <td>NaN</td>\n",
       "      <td>NaN</td>\n",
       "      <td>Untreated primary (de novo) GBM</td>\n",
       "      <td>NaN</td>\n",
       "      <td>2002.0</td>\n",
       "      <td>...</td>\n",
       "      <td>NaN</td>\n",
       "      <td>1.0</td>\n",
       "      <td>558.0</td>\n",
       "      <td>1.0</td>\n",
       "      <td>558.0</td>\n",
       "      <td>NaN</td>\n",
       "      <td>NaN</td>\n",
       "      <td>1.0</td>\n",
       "      <td>302.0</td>\n",
       "      <td>NaN</td>\n",
       "    </tr>\n",
       "    <tr>\n",
       "      <th>TCGA-02-0007-01</th>\n",
       "      <td>TCGA-02-0007</td>\n",
       "      <td>GBM</td>\n",
       "      <td>40.0</td>\n",
       "      <td>FEMALE</td>\n",
       "      <td>WHITE</td>\n",
       "      <td>NaN</td>\n",
       "      <td>NaN</td>\n",
       "      <td>Treated primary GBM</td>\n",
       "      <td>NaN</td>\n",
       "      <td>2002.0</td>\n",
       "      <td>...</td>\n",
       "      <td>NaN</td>\n",
       "      <td>1.0</td>\n",
       "      <td>705.0</td>\n",
       "      <td>1.0</td>\n",
       "      <td>705.0</td>\n",
       "      <td>NaN</td>\n",
       "      <td>NaN</td>\n",
       "      <td>1.0</td>\n",
       "      <td>518.0</td>\n",
       "      <td>NaN</td>\n",
       "    </tr>\n",
       "    <tr>\n",
       "      <th>TCGA-02-0009-01</th>\n",
       "      <td>TCGA-02-0009</td>\n",
       "      <td>GBM</td>\n",
       "      <td>61.0</td>\n",
       "      <td>FEMALE</td>\n",
       "      <td>WHITE</td>\n",
       "      <td>NaN</td>\n",
       "      <td>NaN</td>\n",
       "      <td>Untreated primary (de novo) GBM</td>\n",
       "      <td>NaN</td>\n",
       "      <td>2003.0</td>\n",
       "      <td>...</td>\n",
       "      <td>NaN</td>\n",
       "      <td>1.0</td>\n",
       "      <td>322.0</td>\n",
       "      <td>1.0</td>\n",
       "      <td>322.0</td>\n",
       "      <td>NaN</td>\n",
       "      <td>NaN</td>\n",
       "      <td>1.0</td>\n",
       "      <td>264.0</td>\n",
       "      <td>NaN</td>\n",
       "    </tr>\n",
       "  </tbody>\n",
       "</table>\n",
       "<p>5 rows × 33 columns</p>\n",
       "</div>"
      ],
      "text/plain": [
       "                     _PATIENT cancer type abbreviation  \\\n",
       "sample                                                   \n",
       "TCGA-02-0001-01  TCGA-02-0001                      GBM   \n",
       "TCGA-02-0003-01  TCGA-02-0003                      GBM   \n",
       "TCGA-02-0006-01  TCGA-02-0006                      GBM   \n",
       "TCGA-02-0007-01  TCGA-02-0007                      GBM   \n",
       "TCGA-02-0009-01  TCGA-02-0009                      GBM   \n",
       "\n",
       "                 age_at_initial_pathologic_diagnosis  gender   race  \\\n",
       "sample                                                                \n",
       "TCGA-02-0001-01                                 44.0  FEMALE  WHITE   \n",
       "TCGA-02-0003-01                                 50.0    MALE  WHITE   \n",
       "TCGA-02-0006-01                                 56.0  FEMALE  WHITE   \n",
       "TCGA-02-0007-01                                 40.0  FEMALE  WHITE   \n",
       "TCGA-02-0009-01                                 61.0  FEMALE  WHITE   \n",
       "\n",
       "                ajcc_pathologic_tumor_stage clinical_stage  \\\n",
       "sample                                                       \n",
       "TCGA-02-0001-01                         NaN            NaN   \n",
       "TCGA-02-0003-01                         NaN            NaN   \n",
       "TCGA-02-0006-01                         NaN            NaN   \n",
       "TCGA-02-0007-01                         NaN            NaN   \n",
       "TCGA-02-0009-01                         NaN            NaN   \n",
       "\n",
       "                               histological_type histological_grade  \\\n",
       "sample                                                                \n",
       "TCGA-02-0001-01  Untreated primary (de novo) GBM                NaN   \n",
       "TCGA-02-0003-01  Untreated primary (de novo) GBM                NaN   \n",
       "TCGA-02-0006-01  Untreated primary (de novo) GBM                NaN   \n",
       "TCGA-02-0007-01              Treated primary GBM                NaN   \n",
       "TCGA-02-0009-01  Untreated primary (de novo) GBM                NaN   \n",
       "\n",
       "                 initial_pathologic_dx_year  ... residual_tumor   OS OS.time  \\\n",
       "sample                                       ...                               \n",
       "TCGA-02-0001-01                      2002.0  ...            NaN  1.0   358.0   \n",
       "TCGA-02-0003-01                      2003.0  ...            NaN  1.0   144.0   \n",
       "TCGA-02-0006-01                      2002.0  ...            NaN  1.0   558.0   \n",
       "TCGA-02-0007-01                      2002.0  ...            NaN  1.0   705.0   \n",
       "TCGA-02-0009-01                      2003.0  ...            NaN  1.0   322.0   \n",
       "\n",
       "                 DSS  DSS.time  DFI DFI.time  PFI PFI.time Redaction  \n",
       "sample                                                                \n",
       "TCGA-02-0001-01  1.0     358.0  NaN      NaN  1.0    137.0       NaN  \n",
       "TCGA-02-0003-01  1.0     144.0  NaN      NaN  1.0     40.0       NaN  \n",
       "TCGA-02-0006-01  1.0     558.0  NaN      NaN  1.0    302.0       NaN  \n",
       "TCGA-02-0007-01  1.0     705.0  NaN      NaN  1.0    518.0       NaN  \n",
       "TCGA-02-0009-01  1.0     322.0  NaN      NaN  1.0    264.0       NaN  \n",
       "\n",
       "[5 rows x 33 columns]"
      ]
     },
     "execution_count": 16,
     "metadata": {},
     "output_type": "execute_result"
    }
   ],
   "source": [
    "print(df_pancan_clinical.shape)\n",
    "\n",
    "df_pancan_clinical.head()"
   ]
  },
  {
   "cell_type": "markdown",
   "metadata": {},
   "source": [
    "We check that there are no duplicated samples:"
   ]
  },
  {
   "cell_type": "code",
   "execution_count": 17,
   "metadata": {},
   "outputs": [
    {
     "data": {
      "text/plain": [
       "False"
      ]
     },
     "execution_count": 17,
     "metadata": {},
     "output_type": "execute_result"
    }
   ],
   "source": [
    "pancan_clinical = df_pancan_clinical.index\n",
    "pancan_clinical.duplicated().any()"
   ]
  },
  {
   "cell_type": "markdown",
   "metadata": {},
   "source": [
    "We select the PanCancer samples contained both in the expression and clinical datasets:"
   ]
  },
  {
   "cell_type": "code",
   "execution_count": 18,
   "metadata": {
    "scrolled": true
   },
   "outputs": [
    {
     "data": {
      "text/plain": [
       "10496"
      ]
     },
     "execution_count": 18,
     "metadata": {},
     "output_type": "execute_result"
    }
   ],
   "source": [
    "pancan_clinical_common = df_gene_exp.columns.intersection(pancan_clinical)\n",
    "len(pancan_clinical_common)"
   ]
  },
  {
   "cell_type": "code",
   "execution_count": 20,
   "metadata": {},
   "outputs": [
    {
     "data": {
      "text/plain": [
       "(10496, 33)"
      ]
     },
     "execution_count": 20,
     "metadata": {},
     "output_type": "execute_result"
    }
   ],
   "source": [
    "df_pancan_clinical = df_pancan_clinical.loc[pancan_clinical_common]\n",
    "df_pancan_clinical.shape"
   ]
  },
  {
   "cell_type": "code",
   "execution_count": 21,
   "metadata": {},
   "outputs": [
    {
     "name": "stdout",
     "output_type": "stream",
     "text": [
      "Number of samples with this information: 10489\n"
     ]
    },
    {
     "data": {
      "text/plain": [
       "0.0    0.687196\n",
       "1.0    0.312804\n",
       "Name: OS, dtype: float64"
      ]
     },
     "execution_count": 21,
     "metadata": {},
     "output_type": "execute_result"
    }
   ],
   "source": [
    "# Overall survival\n",
    "variable = \"OS\"\n",
    "print(\"Number of samples with this information:\",\n",
    "      sum(df_pancan_clinical[variable].value_counts(normalize=False)))\n",
    "\n",
    "df_pancan_clinical[variable].value_counts(normalize=True)"
   ]
  },
  {
   "cell_type": "code",
   "execution_count": 22,
   "metadata": {},
   "outputs": [
    {
     "name": "stdout",
     "output_type": "stream",
     "text": [
      "Number of samples with this information: 10316\n"
     ]
    },
    {
     "data": {
      "text/plain": [
       "0.0    0.653742\n",
       "1.0    0.346258\n",
       "Name: PFI, dtype: float64"
      ]
     },
     "execution_count": 22,
     "metadata": {},
     "output_type": "execute_result"
    }
   ],
   "source": [
    "# Progression-free interval\n",
    "variable = \"PFI\"\n",
    "print(\"Number of samples with this information:\",\n",
    "      sum(df_pancan_clinical[variable].value_counts(normalize=False)))\n",
    "\n",
    "df_pancan_clinical[variable].value_counts(normalize=True)"
   ]
  },
  {
   "cell_type": "code",
   "execution_count": 23,
   "metadata": {},
   "outputs": [
    {
     "name": "stdout",
     "output_type": "stream",
     "text": [
      "Number of samples with this information: 10013\n"
     ]
    },
    {
     "data": {
      "text/plain": [
       "0.0    0.785978\n",
       "1.0    0.214022\n",
       "Name: DSS, dtype: float64"
      ]
     },
     "execution_count": 23,
     "metadata": {},
     "output_type": "execute_result"
    }
   ],
   "source": [
    "# Disease-specific survival\n",
    "variable = \"DSS\"\n",
    "print(\"Number of samples with this information:\",\n",
    "      sum(df_pancan_clinical[variable].value_counts(normalize=False)))\n",
    "\n",
    "df_pancan_clinical[variable].value_counts(normalize=True)"
   ]
  },
  {
   "cell_type": "code",
   "execution_count": 24,
   "metadata": {},
   "outputs": [
    {
     "name": "stdout",
     "output_type": "stream",
     "text": [
      "Number of samples with this information: 5335\n"
     ]
    },
    {
     "data": {
      "text/plain": [
       "0.0    0.797751\n",
       "1.0    0.202249\n",
       "Name: DFI, dtype: float64"
      ]
     },
     "execution_count": 24,
     "metadata": {},
     "output_type": "execute_result"
    }
   ],
   "source": [
    "# Disease-free interval\n",
    "variable = \"DFI\"\n",
    "print(\"Number of samples with this information:\",\n",
    "      sum(df_pancan_clinical[variable].value_counts(normalize=False)))\n",
    "\n",
    "df_pancan_clinical[variable].value_counts(normalize=True)"
   ]
  },
  {
   "cell_type": "markdown",
   "metadata": {},
   "source": [
    "### Export\n",
    "\n",
    "We write the PanCancer gene expression and the sample info datasets into an HDF5 file, in machine learning format (rows as samples):"
   ]
  },
  {
   "cell_type": "code",
   "execution_count": 27,
   "metadata": {},
   "outputs": [
    {
     "name": "stdout",
     "output_type": "stream",
     "text": [
      "CPU times: user 1.16 s, sys: 2.63 s, total: 3.79 s\n",
      "Wall time: 11.5 s\n"
     ]
    },
    {
     "name": "stderr",
     "output_type": "stream",
     "text": [
      "/usr/local/lib/python3.7/dist-packages/IPython/core/magics/execution.py:1315: PerformanceWarning: \n",
      "your performance may suffer as PyTables will pickle object types that it cannot\n",
      "map directly to c-types [inferred_type->mixed,key->block1_values] [items->Index(['_PATIENT', 'cancer type abbreviation', 'gender', 'race',\n",
      "       'ajcc_pathologic_tumor_stage', 'clinical_stage', 'histological_type',\n",
      "       'histological_grade', 'menopause_status', 'vital_status',\n",
      "       'tumor_status', 'cause_of_death', 'new_tumor_event_type',\n",
      "       'new_tumor_event_site', 'new_tumor_event_site_other',\n",
      "       'treatment_outcome_first_course', 'margin_status', 'residual_tumor',\n",
      "       'Redaction'],\n",
      "      dtype='object')]\n",
      "\n",
      "  exec(code, glob, local_ns)\n"
     ]
    }
   ],
   "source": [
    "%%time\n",
    "# Export h5 format file: create an HDF5 file with three datasets (contained in the root group, the file object)\n",
    "with pd.HDFStore(\"/tempory/transcriptomic_data/pan_cancer/pancan.h5\", \"w\") as store:\n",
    "    store[\"expression\"] = df_gene_exp.transpose()\n",
    "    store[\"sample_type\"] = df_pancan_sample\n",
    "    store[\"sample_clinical\"] = df_pancan_clinical"
   ]
  },
  {
   "cell_type": "code",
   "execution_count": null,
   "metadata": {},
   "outputs": [],
   "source": []
  }
 ],
 "metadata": {
  "kernelspec": {
   "display_name": "Python 3",
   "language": "python",
   "name": "python3"
  },
  "language_info": {
   "codemirror_mode": {
    "name": "ipython",
    "version": 3
   },
   "file_extension": ".py",
   "mimetype": "text/x-python",
   "name": "python",
   "nbconvert_exporter": "python",
   "pygments_lexer": "ipython3",
   "version": "3.7.3"
  }
 },
 "nbformat": 4,
 "nbformat_minor": 4
}
