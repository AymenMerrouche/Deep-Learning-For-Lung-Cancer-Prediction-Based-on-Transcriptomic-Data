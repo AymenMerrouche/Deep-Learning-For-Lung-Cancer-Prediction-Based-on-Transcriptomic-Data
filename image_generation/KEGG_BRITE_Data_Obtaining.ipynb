{
 "cells": [
  {
   "cell_type": "markdown",
   "metadata": {},
   "source": [
    "Author: María Cabello Toscano (mariadelrociocabello@gmail.com)\n",
    "\n",
    "In this notebook, data from KEGG database is downloaded through the use of KEGG oficial API. Here, a tutorial to use it is provided: \n",
    "http://www.kegg.net/api/api_tutorial.html"
   ]
  },
  {
   "cell_type": "code",
   "execution_count": 16,
   "metadata": {},
   "outputs": [],
   "source": [
    "import pandas as pd"
   ]
  },
  {
   "cell_type": "markdown",
   "metadata": {},
   "source": [
    "# KEGG GENE - Homo sapiens"
   ]
  },
  {
   "cell_type": "code",
   "execution_count": 17,
   "metadata": {},
   "outputs": [
    {
     "name": "stdout",
     "output_type": "stream",
     "text": [
      "CPU times: user 36.5 ms, sys: 22.1 ms, total: 58.6 ms\n",
      "Wall time: 5.73 s\n"
     ]
    }
   ],
   "source": [
    "%%time\n",
    "\n",
    "import requests\n",
    "\n",
    "url = 'http://rest.kegg.jp/list/hsa'\n",
    "hsa_request = requests.get(url, allow_redirects=True)\n",
    "open('../KEGG_data/KEGG_gene_hsa.csv', 'wb').write(hsa_request.content)\n",
    "del hsa_request"
   ]
  },
  {
   "cell_type": "code",
   "execution_count": 18,
   "metadata": {
    "scrolled": true
   },
   "outputs": [
    {
     "data": {
      "text/html": [
       "<div>\n",
       "<style scoped>\n",
       "    .dataframe tbody tr th:only-of-type {\n",
       "        vertical-align: middle;\n",
       "    }\n",
       "\n",
       "    .dataframe tbody tr th {\n",
       "        vertical-align: top;\n",
       "    }\n",
       "\n",
       "    .dataframe thead th {\n",
       "        text-align: right;\n",
       "    }\n",
       "</style>\n",
       "<table border=\"1\" class=\"dataframe\">\n",
       "  <thead>\n",
       "    <tr style=\"text-align: right;\">\n",
       "      <th></th>\n",
       "      <th>0</th>\n",
       "      <th>1</th>\n",
       "    </tr>\n",
       "  </thead>\n",
       "  <tbody>\n",
       "    <tr>\n",
       "      <th>0</th>\n",
       "      <td>hsa:100526771</td>\n",
       "      <td>SMIM35, TMPRSS4-AS1; small integral membrane p...</td>\n",
       "    </tr>\n",
       "    <tr>\n",
       "      <th>1</th>\n",
       "      <td>hsa:100302174</td>\n",
       "      <td>MIR1307, MIRN1307, hsa-mir-1307, mir-1307; mic...</td>\n",
       "    </tr>\n",
       "    <tr>\n",
       "      <th>2</th>\n",
       "      <td>hsa:100423038</td>\n",
       "      <td>MIR466, hsa-mir-466; microRNA 466</td>\n",
       "    </tr>\n",
       "    <tr>\n",
       "      <th>3</th>\n",
       "      <td>hsa:100616498</td>\n",
       "      <td>MIR378E, mir-378e; microRNA 378e</td>\n",
       "    </tr>\n",
       "    <tr>\n",
       "      <th>4</th>\n",
       "      <td>hsa:100302153</td>\n",
       "      <td>MIR1298, MIRN1298, hsa-mir-1298; microRNA 1298</td>\n",
       "    </tr>\n",
       "    <tr>\n",
       "      <th>...</th>\n",
       "      <td>...</td>\n",
       "      <td>...</td>\n",
       "    </tr>\n",
       "    <tr>\n",
       "      <th>22348</th>\n",
       "      <td>hsa:4541</td>\n",
       "      <td>ND6, MTND6, MT-ND6; NADH dehydrogenase subunit 6</td>\n",
       "    </tr>\n",
       "    <tr>\n",
       "      <th>22349</th>\n",
       "      <td>hsa:4556</td>\n",
       "      <td>TRNE, MTTE, MT-TE; tRNA-Glu</td>\n",
       "    </tr>\n",
       "    <tr>\n",
       "      <th>22350</th>\n",
       "      <td>hsa:4519</td>\n",
       "      <td>CYTB, MTCYB, MT-CYB; cytochrome b</td>\n",
       "    </tr>\n",
       "    <tr>\n",
       "      <th>22351</th>\n",
       "      <td>hsa:4576</td>\n",
       "      <td>TRNT, MTTT, MT-TT, LIMM; tRNA-Thr</td>\n",
       "    </tr>\n",
       "    <tr>\n",
       "      <th>22352</th>\n",
       "      <td>hsa:4571</td>\n",
       "      <td>TRNP, MTTP, MT-TP; tRNA-Pro</td>\n",
       "    </tr>\n",
       "  </tbody>\n",
       "</table>\n",
       "<p>22353 rows × 2 columns</p>\n",
       "</div>"
      ],
      "text/plain": [
       "                   0                                                  1\n",
       "0      hsa:100526771  SMIM35, TMPRSS4-AS1; small integral membrane p...\n",
       "1      hsa:100302174  MIR1307, MIRN1307, hsa-mir-1307, mir-1307; mic...\n",
       "2      hsa:100423038                  MIR466, hsa-mir-466; microRNA 466\n",
       "3      hsa:100616498                   MIR378E, mir-378e; microRNA 378e\n",
       "4      hsa:100302153     MIR1298, MIRN1298, hsa-mir-1298; microRNA 1298\n",
       "...              ...                                                ...\n",
       "22348       hsa:4541   ND6, MTND6, MT-ND6; NADH dehydrogenase subunit 6\n",
       "22349       hsa:4556                        TRNE, MTTE, MT-TE; tRNA-Glu\n",
       "22350       hsa:4519                  CYTB, MTCYB, MT-CYB; cytochrome b\n",
       "22351       hsa:4576                  TRNT, MTTT, MT-TT, LIMM; tRNA-Thr\n",
       "22352       hsa:4571                        TRNP, MTTP, MT-TP; tRNA-Pro\n",
       "\n",
       "[22353 rows x 2 columns]"
      ]
     },
     "execution_count": 18,
     "metadata": {},
     "output_type": "execute_result"
    }
   ],
   "source": [
    "pd.read_csv('../KEGG_data/KEGG_gene_hsa.csv', sep='\\t'  , engine='python', header=None)"
   ]
  },
  {
   "cell_type": "markdown",
   "metadata": {},
   "source": [
    "# KEGG Brite"
   ]
  },
  {
   "cell_type": "code",
   "execution_count": 19,
   "metadata": {},
   "outputs": [
    {
     "name": "stdout",
     "output_type": "stream",
     "text": [
      "CPU times: user 3.78 ms, sys: 1.53 ms, total: 5.3 ms\n",
      "Wall time: 201 ms\n"
     ]
    }
   ],
   "source": [
    "%%time\n",
    "\n",
    "import requests\n",
    "\n",
    "url = 'http://rest.kegg.jp/get/br:br08902'\n",
    "brite_request = requests.get(url, allow_redirects=True)\n",
    "open('../KEGG_data/KEGG_brite_groups.txt', 'wb').write(brite_request.content)\n",
    "del brite_request"
   ]
  },
  {
   "cell_type": "code",
   "execution_count": 20,
   "metadata": {},
   "outputs": [],
   "source": [
    "brite = pd.DataFrame(columns=['Functional Annotation Group','Functional Annotation Subgroup','keggBriteId','Functional Annotation'])\n",
    "with open('../KEGG_data/KEGG_brite_groups.txt', 'r') as f:\n",
    "    i = 0\n",
    "    j = 0\n",
    "    lines = f.readlines()\n",
    "    n_lines = len(lines)\n",
    "    while(i<n_lines):\n",
    "        if(lines[i][0:1]=='A'):\n",
    "            A = lines[i][1:-1]\n",
    "            i+=1 # next line\n",
    "            while(i<n_lines and lines[i][0:1]!='A'):\n",
    "                if(lines[i].split('  ')[0]=='B'):\n",
    "                    B = lines[i].split('  ')[1][:-1]\n",
    "                    i += 1 # next line\n",
    "                    while(i<n_lines and lines[i].split('    ')[0]=='C'):\n",
    "                        C = lines[i].split('    ')[1][:-1]\n",
    "                        brite.loc[j] = [A, B, C.split(\"  \")[0][3:], C.split(\"  \")[1]]\n",
    "                        j+=1\n",
    "                        i += 1 # next line \n",
    "                else: i+=1\n",
    "        else: i+=1 # next line"
   ]
  },
  {
   "cell_type": "code",
   "execution_count": 21,
   "metadata": {},
   "outputs": [],
   "source": [
    "brite.to_csv('../KEGG_data/KEGG_brite.csv')"
   ]
  },
  {
   "cell_type": "code",
   "execution_count": 22,
   "metadata": {},
   "outputs": [
    {
     "data": {
      "text/html": [
       "<div>\n",
       "<style scoped>\n",
       "    .dataframe tbody tr th:only-of-type {\n",
       "        vertical-align: middle;\n",
       "    }\n",
       "\n",
       "    .dataframe tbody tr th {\n",
       "        vertical-align: top;\n",
       "    }\n",
       "\n",
       "    .dataframe thead th {\n",
       "        text-align: right;\n",
       "    }\n",
       "</style>\n",
       "<table border=\"1\" class=\"dataframe\">\n",
       "  <thead>\n",
       "    <tr style=\"text-align: right;\">\n",
       "      <th></th>\n",
       "      <th>Unnamed: 0</th>\n",
       "      <th>Functional Annotation Group</th>\n",
       "      <th>Functional Annotation Subgroup</th>\n",
       "      <th>keggBriteId</th>\n",
       "      <th>Functional Annotation</th>\n",
       "    </tr>\n",
       "  </thead>\n",
       "  <tbody>\n",
       "    <tr>\n",
       "      <th>0</th>\n",
       "      <td>0</td>\n",
       "      <td>Pathway and Brite</td>\n",
       "      <td>Pathway maps</td>\n",
       "      <td>8901</td>\n",
       "      <td>KEGG pathway maps</td>\n",
       "    </tr>\n",
       "    <tr>\n",
       "      <th>1</th>\n",
       "      <td>1</td>\n",
       "      <td>Pathway and Brite</td>\n",
       "      <td>Brite files</td>\n",
       "      <td>8902</td>\n",
       "      <td>BRITE hierarchy files</td>\n",
       "    </tr>\n",
       "    <tr>\n",
       "      <th>2</th>\n",
       "      <td>2</td>\n",
       "      <td>Pathway and Brite</td>\n",
       "      <td>Brite files</td>\n",
       "      <td>8904</td>\n",
       "      <td>BRITE table files</td>\n",
       "    </tr>\n",
       "    <tr>\n",
       "      <th>3</th>\n",
       "      <td>3</td>\n",
       "      <td>Genes and Proteins</td>\n",
       "      <td>Orthologs, modules and networks</td>\n",
       "      <td>0001</td>\n",
       "      <td>KEGG Orthology (KO)</td>\n",
       "    </tr>\n",
       "    <tr>\n",
       "      <th>4</th>\n",
       "      <td>4</td>\n",
       "      <td>Genes and Proteins</td>\n",
       "      <td>Orthologs, modules and networks</td>\n",
       "      <td>0002</td>\n",
       "      <td>KEGG modules</td>\n",
       "    </tr>\n",
       "    <tr>\n",
       "      <th>...</th>\n",
       "      <td>...</td>\n",
       "      <td>...</td>\n",
       "      <td>...</td>\n",
       "      <td>...</td>\n",
       "      <td>...</td>\n",
       "    </tr>\n",
       "    <tr>\n",
       "      <th>101</th>\n",
       "      <td>101</td>\n",
       "      <td>Organisms and Cells</td>\n",
       "      <td>Organisms</td>\n",
       "      <td>8602</td>\n",
       "      <td>Animal classification</td>\n",
       "    </tr>\n",
       "    <tr>\n",
       "      <th>102</th>\n",
       "      <td>102</td>\n",
       "      <td>Organisms and Cells</td>\n",
       "      <td>Organisms</td>\n",
       "      <td>8603</td>\n",
       "      <td>Plant classification</td>\n",
       "    </tr>\n",
       "    <tr>\n",
       "      <th>103</th>\n",
       "      <td>103</td>\n",
       "      <td>Organisms and Cells</td>\n",
       "      <td>Organisms</td>\n",
       "      <td>8605</td>\n",
       "      <td>Plant pathogens</td>\n",
       "    </tr>\n",
       "    <tr>\n",
       "      <th>104</th>\n",
       "      <td>104</td>\n",
       "      <td>Organisms and Cells</td>\n",
       "      <td>Cells, tissues, and organs</td>\n",
       "      <td>8501</td>\n",
       "      <td>Human organ systems</td>\n",
       "    </tr>\n",
       "    <tr>\n",
       "      <th>105</th>\n",
       "      <td>105</td>\n",
       "      <td>Organisms and Cells</td>\n",
       "      <td>Cells, tissues, and organs</td>\n",
       "      <td>8502</td>\n",
       "      <td>Human cells</td>\n",
       "    </tr>\n",
       "  </tbody>\n",
       "</table>\n",
       "<p>106 rows × 5 columns</p>\n",
       "</div>"
      ],
      "text/plain": [
       "     Unnamed: 0 Functional Annotation Group   Functional Annotation Subgroup  \\\n",
       "0             0           Pathway and Brite                     Pathway maps   \n",
       "1             1           Pathway and Brite                      Brite files   \n",
       "2             2           Pathway and Brite                      Brite files   \n",
       "3             3          Genes and Proteins  Orthologs, modules and networks   \n",
       "4             4          Genes and Proteins  Orthologs, modules and networks   \n",
       "..          ...                         ...                              ...   \n",
       "101         101         Organisms and Cells                        Organisms   \n",
       "102         102         Organisms and Cells                        Organisms   \n",
       "103         103         Organisms and Cells                        Organisms   \n",
       "104         104         Organisms and Cells       Cells, tissues, and organs   \n",
       "105         105         Organisms and Cells       Cells, tissues, and organs   \n",
       "\n",
       "    keggBriteId  Functional Annotation  \n",
       "0          8901      KEGG pathway maps  \n",
       "1          8902  BRITE hierarchy files  \n",
       "2          8904      BRITE table files  \n",
       "3          0001    KEGG Orthology (KO)  \n",
       "4          0002           KEGG modules  \n",
       "..          ...                    ...  \n",
       "101        8602  Animal classification  \n",
       "102        8603   Plant classification  \n",
       "103        8605        Plant pathogens  \n",
       "104        8501    Human organ systems  \n",
       "105        8502            Human cells  \n",
       "\n",
       "[106 rows x 5 columns]"
      ]
     },
     "execution_count": 22,
     "metadata": {},
     "output_type": "execute_result"
    }
   ],
   "source": [
    "pd.read_csv('../KEGG_data/KEGG_brite.csv')"
   ]
  },
  {
   "cell_type": "markdown",
   "metadata": {},
   "source": [
    "# KEGG hsa-brite"
   ]
  },
  {
   "cell_type": "code",
   "execution_count": 23,
   "metadata": {},
   "outputs": [
    {
     "name": "stdout",
     "output_type": "stream",
     "text": [
      "CPU times: user 19.3 ms, sys: 4.04 ms, total: 23.3 ms\n",
      "Wall time: 2.23 s\n"
     ]
    }
   ],
   "source": [
    "%%time\n",
    "\n",
    "import requests\n",
    "\n",
    "url = 'http://rest.kegg.jp/link/hsa/brite'\n",
    "hsa_brite_request = requests.get(url, allow_redirects=True)\n",
    "open('../KEGG_data/KEGG_hsa_brite.csv', 'wb').write(hsa_brite_request.content)\n",
    "del hsa_brite_request"
   ]
  },
  {
   "cell_type": "code",
   "execution_count": 24,
   "metadata": {
    "scrolled": true
   },
   "outputs": [
    {
     "data": {
      "text/html": [
       "<div>\n",
       "<style scoped>\n",
       "    .dataframe tbody tr th:only-of-type {\n",
       "        vertical-align: middle;\n",
       "    }\n",
       "\n",
       "    .dataframe tbody tr th {\n",
       "        vertical-align: top;\n",
       "    }\n",
       "\n",
       "    .dataframe thead th {\n",
       "        text-align: right;\n",
       "    }\n",
       "</style>\n",
       "<table border=\"1\" class=\"dataframe\">\n",
       "  <thead>\n",
       "    <tr style=\"text-align: right;\">\n",
       "      <th></th>\n",
       "      <th>0</th>\n",
       "      <th>1</th>\n",
       "    </tr>\n",
       "  </thead>\n",
       "  <tbody>\n",
       "    <tr>\n",
       "      <th>0</th>\n",
       "      <td>br:hsa00001</td>\n",
       "      <td>hsa:3101</td>\n",
       "    </tr>\n",
       "    <tr>\n",
       "      <th>1</th>\n",
       "      <td>br:hsa00001</td>\n",
       "      <td>hsa:3098</td>\n",
       "    </tr>\n",
       "    <tr>\n",
       "      <th>2</th>\n",
       "      <td>br:hsa00001</td>\n",
       "      <td>hsa:3099</td>\n",
       "    </tr>\n",
       "    <tr>\n",
       "      <th>3</th>\n",
       "      <td>br:hsa00001</td>\n",
       "      <td>hsa:80201</td>\n",
       "    </tr>\n",
       "    <tr>\n",
       "      <th>4</th>\n",
       "      <td>br:hsa00001</td>\n",
       "      <td>hsa:2645</td>\n",
       "    </tr>\n",
       "    <tr>\n",
       "      <th>...</th>\n",
       "      <td>...</td>\n",
       "      <td>...</td>\n",
       "    </tr>\n",
       "    <tr>\n",
       "      <th>35242</th>\n",
       "      <td>br:hsa04031</td>\n",
       "      <td>hsa:54622</td>\n",
       "    </tr>\n",
       "    <tr>\n",
       "      <th>35243</th>\n",
       "      <td>br:hsa04031</td>\n",
       "      <td>hsa:373</td>\n",
       "    </tr>\n",
       "    <tr>\n",
       "      <th>35244</th>\n",
       "      <td>br:hsa04031</td>\n",
       "      <td>hsa:285282</td>\n",
       "    </tr>\n",
       "    <tr>\n",
       "      <th>35245</th>\n",
       "      <td>br:hsa04031</td>\n",
       "      <td>hsa:64792</td>\n",
       "    </tr>\n",
       "    <tr>\n",
       "      <th>35246</th>\n",
       "      <td>br:hsa04031</td>\n",
       "      <td>hsa:58477</td>\n",
       "    </tr>\n",
       "  </tbody>\n",
       "</table>\n",
       "<p>35247 rows × 2 columns</p>\n",
       "</div>"
      ],
      "text/plain": [
       "                 0           1\n",
       "0      br:hsa00001    hsa:3101\n",
       "1      br:hsa00001    hsa:3098\n",
       "2      br:hsa00001    hsa:3099\n",
       "3      br:hsa00001   hsa:80201\n",
       "4      br:hsa00001    hsa:2645\n",
       "...            ...         ...\n",
       "35242  br:hsa04031   hsa:54622\n",
       "35243  br:hsa04031     hsa:373\n",
       "35244  br:hsa04031  hsa:285282\n",
       "35245  br:hsa04031   hsa:64792\n",
       "35246  br:hsa04031   hsa:58477\n",
       "\n",
       "[35247 rows x 2 columns]"
      ]
     },
     "execution_count": 24,
     "metadata": {},
     "output_type": "execute_result"
    }
   ],
   "source": [
    "pd.read_csv('../KEGG_data/KEGG_hsa_brite.csv', sep='\\t'  , engine='python', header=None)"
   ]
  },
  {
   "cell_type": "code",
   "execution_count": null,
   "metadata": {},
   "outputs": [],
   "source": []
  }
 ],
 "metadata": {
  "kernelspec": {
   "display_name": "Python 3",
   "language": "python",
   "name": "python3"
  },
  "language_info": {
   "codemirror_mode": {
    "name": "ipython",
    "version": 3
   },
   "file_extension": ".py",
   "mimetype": "text/x-python",
   "name": "python",
   "nbconvert_exporter": "python",
   "pygments_lexer": "ipython3",
   "version": "3.7.3"
  }
 },
 "nbformat": 4,
 "nbformat_minor": 4
}
