{
 "cells": [
  {
   "cell_type": "markdown",
   "metadata": {},
   "source": [
    "# **Deep Learning For Lung Cancer Prediction Based on Transcriptomic Data : MLP with Embeddings learned by a VAE and No Transfer Learning**\n",
    "> Author : **Aymen MERROUCHE**. <br>\n",
    "> In this notebook, we implement an **MLP with VAE computed embeddings** for our binary classification task."
   ]
  },
  {
   "cell_type": "code",
   "execution_count": 34,
   "metadata": {},
   "outputs": [],
   "source": [
    "import torch\n",
    "import torch.nn as nn\n",
    "import torch.nn.functional as F\n",
    "import torch.optim as optim\n",
    "from torch.autograd import Variable\n",
    "import matplotlib.pyplot as plt\n",
    "import numpy as np\n",
    "from torch.distributions.normal import Normal\n",
    "import warnings\n",
    "warnings.filterwarnings('ignore')\n",
    "from modules.MLP import *\n",
    "# device, cuda if available else use cpu\n",
    "device = torch.device('cuda' if torch.cuda.is_available() else 'cpu')"
   ]
  },
  {
   "cell_type": "code",
   "execution_count": 35,
   "metadata": {},
   "outputs": [
    {
     "name": "stdout",
     "output_type": "stream",
     "text": [
      "The autoreload extension is already loaded. To reload it, use:\n",
      "  %reload_ext autoreload\n"
     ]
    }
   ],
   "source": [
    "from utils import *\n",
    "from train import *\n",
    "from data_utils import *\n",
    "from modules.deformable_cnn import *\n",
    "from modules.focal_loss import *\n",
    "%load_ext autoreload\n",
    "%autoreload 2"
   ]
  },
  {
   "cell_type": "markdown",
   "metadata": {},
   "source": [
    "# **1 - Get The Data :**"
   ]
  },
  {
   "cell_type": "code",
   "execution_count": 36,
   "metadata": {},
   "outputs": [],
   "source": [
    "# load hyperparametrs\n",
    "# data paths args\n",
    "with open('./configs/data_paths.yaml', 'r') as stream:\n",
    "    data_paths_args  = yaml.load(stream,Loader=yaml.Loader)\n",
    "    \n",
    "    \n",
    "# basic cnn args\n",
    "with open('./configs/vae_mlp.yaml', 'r') as stream:\n",
    "    vae_mlp_args  = yaml.load(stream,Loader=yaml.Loader)"
   ]
  },
  {
   "cell_type": "code",
   "execution_count": 4,
   "metadata": {},
   "outputs": [
    {
     "name": "stdout",
     "output_type": "stream",
     "text": [
      "CPU times: user 11.5 s, sys: 283 ms, total: 11.8 s\n",
      "Wall time: 11.7 s\n"
     ]
    }
   ],
   "source": [
    "%%time\n",
    "# Getting the data\n",
    "# dataset for lung\n",
    "lung_dataset = TranscriptomicVectorsDatasetLung(data_paths_args[\"path_to_pan_cancer_hdf5_files\"])\n",
    "lung_dataloader_train, lung_dataloader_validation = get_data_loaders(lung_dataset, batch_size_train = vae_mlp_args[\"batch_size_ft\"],\\\n",
    "                                                                             batch_size_validation = vae_mlp_args[\"batch_size_ft\"])"
   ]
  },
  {
   "cell_type": "markdown",
   "metadata": {},
   "source": [
    "# **2 - Get The Embeddings with the VAE :**"
   ]
  },
  {
   "cell_type": "markdown",
   "metadata": {},
   "source": [
    "## 1- Encoder and Decoder and VAE with linear layers :"
   ]
  },
  {
   "cell_type": "code",
   "execution_count": 5,
   "metadata": {},
   "outputs": [],
   "source": [
    "class Encoder(nn.Module):\n",
    "    \"\"\"\n",
    "    VAE Encoder with linear layers\n",
    "    \"\"\"\n",
    "    def __init__(self, dim_input, hidden, dim_z):\n",
    "        super().__init__()\n",
    "        self.lin1 = nn.Linear(dim_input, hidden)\n",
    "        # generate covariance matrix (hyp : diagonal)\n",
    "        self.sigma = nn.Linear(hidden, dim_z)\n",
    "        # genrate mean vector \n",
    "        self.mu = nn.Linear(hidden, dim_z)\n",
    "    def forward(self, x):\n",
    "        lin1 = F.relu(self.lin1(x))\n",
    "        #we infer log(sigma**2) for stability reasons\n",
    "        log_sigma_squared = self.sigma(lin1) \n",
    "        mu = self.mu(lin1)\n",
    "        return mu, log_sigma_squared"
   ]
  },
  {
   "cell_type": "code",
   "execution_count": 6,
   "metadata": {},
   "outputs": [],
   "source": [
    "class Decoder(nn.Module):\n",
    "    \"\"\"\n",
    "    VAE Decoder with linear layers\n",
    "    \"\"\"\n",
    "    def __init__(self, dim_input, hidden, dim_z):\n",
    "        super().__init__()\n",
    "        self.lin1 = nn.Linear(dim_z, hidden)\n",
    "        self.lin2 = nn.Linear(hidden, dim_input)\n",
    "    def forward(self, x):\n",
    "        lin1 = F.relu(self.lin1(x))\n",
    "        x = torch.sigmoid(self.lin2(lin1))\n",
    "        return x  "
   ]
  },
  {
   "cell_type": "code",
   "execution_count": 7,
   "metadata": {},
   "outputs": [],
   "source": [
    "class VAE(nn.Module):\n",
    "    \"\"\"\n",
    "    VAE with linear layers based Encoder and Decoder\n",
    "    \"\"\"\n",
    "    def __init__(self, dim_input, hidden, dim_z):\n",
    "        super().__init__()\n",
    "        # encoder\n",
    "        self.encoder = Encoder(dim_input, hidden, dim_z).to(device)\n",
    "        # decoder\n",
    "        self.decoder = Decoder(dim_input, hidden, dim_z).to(device)\n",
    "        \n",
    "    def forward(self, x):\n",
    "        mu, log_sigma_squared = self.encoder(x)\n",
    "        z = self.get_codes(mu, log_sigma_squared)\n",
    "        return self.decoder(z), mu, log_sigma_squared\n",
    "\n",
    "    def get_codes(self, mu, log_sigma_squared):\n",
    "        # input is log(sigma**2)\n",
    "        # log(sigma**2) = 2 * log(sigma)\n",
    "        # log(sigma) = (1/2)*log(sigma**2)\n",
    "        # sigma = exp((1/2)*log(sigma**2))\n",
    "        sigma = torch.exp((1/2) * log_sigma_squared)\n",
    "        # reparametrisation trick\n",
    "        eps = torch.empty_like(sigma).normal_().to(device)\n",
    "        return eps.mul(sigma).add_(mu)\n",
    "    def sample_data(self,z):\n",
    "        return self.decoder(z)"
   ]
  },
  {
   "cell_type": "code",
   "execution_count": 8,
   "metadata": {},
   "outputs": [],
   "source": [
    "def variational_lower_bound(oringinal, reconstructed, mu, log_sigma_squared):\n",
    "    reconstructed = reconstructed\n",
    "    oringinal = oringinal\n",
    "    reconstruction_term = F.binary_cross_entropy(reconstructed, oringinal, reduction='sum')\n",
    "    kl_div = - (1/2) * torch.sum(1 + log_sigma_squared - mu.pow(2) - log_sigma_squared.exp())\n",
    "    return reconstruction_term + kl_div"
   ]
  },
  {
   "cell_type": "code",
   "execution_count": 85,
   "metadata": {},
   "outputs": [],
   "source": [
    "# dimension of the latent variable z\n",
    "dim_z = 300\n",
    "# dimnesion of the generator's output/discriminator's input (an mnist image)\n",
    "dim_input = len(lung_dataset[0][0])\n",
    "# dimension of hidden layers\n",
    "hidden = 256"
   ]
  },
  {
   "cell_type": "code",
   "execution_count": 86,
   "metadata": {},
   "outputs": [
    {
     "name": "stdout",
     "output_type": "stream",
     "text": [
      "VAE(\n",
      "  (encoder): Encoder(\n",
      "    (lin1): Linear(in_features=7509, out_features=256, bias=True)\n",
      "    (sigma): Linear(in_features=256, out_features=300, bias=True)\n",
      "    (mu): Linear(in_features=256, out_features=300, bias=True)\n",
      "  )\n",
      "  (decoder): Decoder(\n",
      "    (lin1): Linear(in_features=300, out_features=256, bias=True)\n",
      "    (lin2): Linear(in_features=256, out_features=7509, bias=True)\n",
      "  )\n",
      ")\n"
     ]
    }
   ],
   "source": [
    "vae = VAE(dim_input, hidden, dim_z).to(device).double()\n",
    "print(vae)"
   ]
  },
  {
   "cell_type": "markdown",
   "metadata": {},
   "source": [
    "## 2 - Training The VAE :"
   ]
  },
  {
   "cell_type": "code",
   "execution_count": 87,
   "metadata": {},
   "outputs": [],
   "source": [
    "# parameters\n",
    "epochs = 30\n",
    "\n",
    "# optimisation\n",
    "lr = 0.001\n",
    "\n",
    "# optimizer\n",
    "optim_vae = optim.Adam(vae.parameters())\n",
    "\n",
    "# noise to display samples during training\n",
    "noise = torch.randn(vae_mlp_args[\"batch_size_pt\"], dim_z, device=device)"
   ]
  },
  {
   "cell_type": "code",
   "execution_count": 88,
   "metadata": {},
   "outputs": [
    {
     "name": "stdout",
     "output_type": "stream",
     "text": [
      "EPOCH :  0\n",
      "EPOCH :  3\n",
      "EPOCH :  6\n",
      "EPOCH :  9\n",
      "EPOCH :  12\n",
      "EPOCH :  15\n",
      "EPOCH :  18\n",
      "EPOCH :  21\n",
      "EPOCH :  24\n",
      "EPOCH :  27\n",
      "EPOCH :  30\n",
      "EPOCH :  33\n",
      "EPOCH :  36\n",
      "EPOCH :  39\n",
      "EPOCH :  42\n",
      "EPOCH :  45\n",
      "EPOCH :  48\n",
      "EPOCH :  51\n",
      "EPOCH :  54\n",
      "EPOCH :  57\n",
      "EPOCH :  60\n",
      "EPOCH :  63\n",
      "EPOCH :  66\n",
      "EPOCH :  69\n",
      "EPOCH :  72\n",
      "EPOCH :  75\n",
      "EPOCH :  78\n",
      "EPOCH :  81\n",
      "EPOCH :  84\n",
      "EPOCH :  87\n"
     ]
    }
   ],
   "source": [
    "# Fine tuning the VAE\n",
    "# per epoch logging containers\n",
    "v_lower_bound = []\n",
    "image_and_reconstruction = []\n",
    "sampled_images = []\n",
    "for epoch in range(epochs):\n",
    "    print(\"EPOCH : \",3*epoch)\n",
    "    # per gradient step logging containers\n",
    "    epoch_v_lower_bound = []\n",
    "    \n",
    "    for i, (vectors, labels) in enumerate(lung_dataloader_train):\n",
    "        \n",
    "        # perform a gradient step\n",
    "        \n",
    "        # flatten and push to device\n",
    "        vectors = vectors.to(device).double()\n",
    "        \n",
    "        # run vae\n",
    "        reconstruction, mu, log_sigma_squared = vae(vectors)\n",
    "\n",
    "        # loss\n",
    "        loss = variational_lower_bound(vectors, reconstruction, mu, log_sigma_squared)\n",
    "        \n",
    "        # backpropagation\n",
    "        optim_vae.zero_grad()\n",
    "        loss.backward()\n",
    "        optim_vae.step()\n",
    "        \n",
    "        # logging\n",
    "        epoch_v_lower_bound.append(loss.item())\n",
    "        \n",
    "        # display stats and an image during training\n",
    "        \"\"\"if i % 300 == 0 :\n",
    "            print(\"BATCH :\",i)\n",
    "            print(\"| v_lower_bound: \", epoch_v_lower_bound[i])\"\"\"\n",
    "\n",
    "    # per epoch logging\n",
    "    v_lower_bound.append(sum(epoch_v_lower_bound) / len(epoch_v_lower_bound))"
   ]
  },
  {
   "cell_type": "markdown",
   "metadata": {},
   "source": [
    "# **3 - Training on the Lung Cancer Dataset :**"
   ]
  },
  {
   "cell_type": "code",
   "execution_count": 89,
   "metadata": {},
   "outputs": [
    {
     "name": "stderr",
     "output_type": "stream",
     "text": [
      "Epoch 1/50: 100%|██████████| 5/5 [00:00<00:00, 66.79it/s, loss=1.5135e-01]\n",
      "Epoch 2/50:   0%|          | 0/5 [00:00<?, ?it/s, loss=1.5734e-01]"
     ]
    },
    {
     "name": "stdout",
     "output_type": "stream",
     "text": [
      "Experimenting with : \n",
      " \tepochs=50_batch_size_pt=128_lr_pt=0.001_batch_size_ft=128_lr_ft=0.001_no_tensorboard=True\n",
      "Training on GPU \n",
      "\n",
      "Epoch 1/50, Train Loss: 1.2786e-01, Test Loss: 0.1921\n",
      "Epoch 1/50, Train Accuracy: 68.99%, Test Accuracy: 57.29%\n",
      "Epoch 1/50, Train AUC: 70.23%, Test AUC: 59.54%\n",
      "Classification Report on Val Set : \n",
      "              precision    recall  f1-score   support\n",
      "\n",
      "   No Cancer       0.92      0.61      0.73       255\n",
      "      Cancer       0.12      0.48      0.19        27\n",
      "\n",
      "    accuracy                           0.60       282\n",
      "   macro avg       0.52      0.55      0.46       282\n",
      "weighted avg       0.84      0.60      0.68       282\n",
      "\n"
     ]
    },
    {
     "name": "stderr",
     "output_type": "stream",
     "text": [
      "Epoch 2/50: 100%|██████████| 5/5 [00:00<00:00, 66.73it/s, loss=9.8663e-02]\n",
      "Epoch 3/50: 100%|██████████| 5/5 [00:00<00:00, 69.09it/s, loss=1.2395e-01]\n",
      "Epoch 4/50:   0%|          | 0/5 [00:00<?, ?it/s, loss=1.9606e-01]"
     ]
    },
    {
     "name": "stdout",
     "output_type": "stream",
     "text": [
      "Epoch 2/50, Train Loss: 1.0685e-01, Test Loss: 0.1831\n",
      "Epoch 2/50, Train Accuracy: 70.18%, Test Accuracy: 57.79%\n",
      "Epoch 2/50, Train AUC: 76.14%, Test AUC: 63.57%\n",
      "Classification Report on Val Set : \n",
      "              precision    recall  f1-score   support\n",
      "\n",
      "   No Cancer       0.94      0.59      0.72       255\n",
      "      Cancer       0.14      0.63      0.23        27\n",
      "\n",
      "    accuracy                           0.59       282\n",
      "   macro avg       0.54      0.61      0.48       282\n",
      "weighted avg       0.86      0.59      0.68       282\n",
      "\n",
      "Epoch 3/50, Train Loss: 8.5609e-02, Test Loss: 0.1711\n",
      "Epoch 3/50, Train Accuracy: 74.21%, Test Accuracy: 64.26%\n",
      "Epoch 3/50, Train AUC: 79.31%, Test AUC: 62.92%\n",
      "Classification Report on Val Set : \n",
      "              precision    recall  f1-score   support\n",
      "\n",
      "   No Cancer       0.93      0.66      0.78       255\n",
      "      Cancer       0.15      0.56      0.23        27\n",
      "\n",
      "    accuracy                           0.65       282\n",
      "   macro avg       0.54      0.61      0.50       282\n",
      "weighted avg       0.86      0.65      0.72       282\n",
      "\n"
     ]
    },
    {
     "name": "stderr",
     "output_type": "stream",
     "text": [
      "Epoch 4/50: 100%|██████████| 5/5 [00:00<00:00, 68.80it/s, loss=2.2013e-01]\n",
      "Epoch 5/50: 100%|██████████| 5/5 [00:00<00:00, 69.01it/s, loss=1.2029e-01]\n",
      "Epoch 6/50:   0%|          | 0/5 [00:00<?, ?it/s, loss=1.0385e-01]"
     ]
    },
    {
     "name": "stdout",
     "output_type": "stream",
     "text": [
      "Epoch 4/50, Train Loss: 1.0640e-01, Test Loss: 0.1602\n",
      "Epoch 4/50, Train Accuracy: 72.94%, Test Accuracy: 61.44%\n",
      "Epoch 4/50, Train AUC: 76.72%, Test AUC: 65.05%\n",
      "Classification Report on Val Set : \n",
      "              precision    recall  f1-score   support\n",
      "\n",
      "   No Cancer       0.93      0.65      0.77       255\n",
      "      Cancer       0.14      0.52      0.22        27\n",
      "\n",
      "    accuracy                           0.64       282\n",
      "   macro avg       0.53      0.59      0.49       282\n",
      "weighted avg       0.85      0.64      0.72       282\n",
      "\n",
      "Epoch 5/50, Train Loss: 9.2574e-02, Test Loss: 0.1471\n",
      "Epoch 5/50, Train Accuracy: 76.50%, Test Accuracy: 63.76%\n",
      "Epoch 5/50, Train AUC: 76.72%, Test AUC: 62.15%\n",
      "Classification Report on Val Set : \n",
      "              precision    recall  f1-score   support\n",
      "\n",
      "   No Cancer       0.93      0.68      0.78       255\n",
      "      Cancer       0.14      0.48      0.21        27\n",
      "\n",
      "    accuracy                           0.66       282\n",
      "   macro avg       0.53      0.58      0.50       282\n",
      "weighted avg       0.85      0.66      0.73       282\n",
      "\n"
     ]
    },
    {
     "name": "stderr",
     "output_type": "stream",
     "text": [
      "Epoch 6/50: 100%|██████████| 5/5 [00:00<00:00, 67.51it/s, loss=1.6320e-01]\n",
      "Epoch 7/50: 100%|██████████| 5/5 [00:00<00:00, 68.49it/s, loss=1.9666e-01]\n",
      "Epoch 8/50:   0%|          | 0/5 [00:00<?, ?it/s, loss=1.1594e-01]"
     ]
    },
    {
     "name": "stdout",
     "output_type": "stream",
     "text": [
      "Epoch 6/50, Train Loss: 9.7155e-02, Test Loss: 0.1343\n",
      "Epoch 6/50, Train Accuracy: 73.85%, Test Accuracy: 66.59%\n",
      "Epoch 6/50, Train AUC: 78.05%, Test AUC: 64.87%\n",
      "Classification Report on Val Set : \n",
      "              precision    recall  f1-score   support\n",
      "\n",
      "   No Cancer       0.94      0.68      0.79       255\n",
      "      Cancer       0.16      0.56      0.24        27\n",
      "\n",
      "    accuracy                           0.67       282\n",
      "   macro avg       0.55      0.62      0.52       282\n",
      "weighted avg       0.86      0.67      0.74       282\n",
      "\n",
      "Epoch 7/50, Train Loss: 8.6058e-02, Test Loss: 0.1348\n",
      "Epoch 7/50, Train Accuracy: 75.04%, Test Accuracy: 70.19%\n",
      "Epoch 7/50, Train AUC: 80.87%, Test AUC: 65.39%\n",
      "Classification Report on Val Set : \n",
      "              precision    recall  f1-score   support\n",
      "\n",
      "   No Cancer       0.95      0.70      0.80       255\n",
      "      Cancer       0.18      0.63      0.28        27\n",
      "\n",
      "    accuracy                           0.69       282\n",
      "   macro avg       0.56      0.66      0.54       282\n",
      "weighted avg       0.87      0.69      0.75       282\n",
      "\n"
     ]
    },
    {
     "name": "stderr",
     "output_type": "stream",
     "text": [
      "Epoch 8/50: 100%|██████████| 5/5 [00:00<00:00, 68.11it/s, loss=1.1390e-01]\n",
      "Epoch 9/50: 100%|██████████| 5/5 [00:00<00:00, 68.98it/s, loss=1.2589e-01]\n",
      "Epoch 10/50:   0%|          | 0/5 [00:00<?, ?it/s, loss=1.0593e-01]"
     ]
    },
    {
     "name": "stdout",
     "output_type": "stream",
     "text": [
      "Epoch 8/50, Train Loss: 7.7612e-02, Test Loss: 0.1389\n",
      "Epoch 8/50, Train Accuracy: 75.33%, Test Accuracy: 65.04%\n",
      "Epoch 8/50, Train AUC: 80.07%, Test AUC: 65.80%\n",
      "Classification Report on Val Set : \n",
      "              precision    recall  f1-score   support\n",
      "\n",
      "   No Cancer       0.93      0.67      0.78       255\n",
      "      Cancer       0.15      0.56      0.24        27\n",
      "\n",
      "    accuracy                           0.66       282\n",
      "   macro avg       0.54      0.62      0.51       282\n",
      "weighted avg       0.86      0.66      0.73       282\n",
      "\n",
      "Epoch 9/50, Train Loss: 7.6685e-02, Test Loss: 0.1361\n",
      "Epoch 9/50, Train Accuracy: 74.77%, Test Accuracy: 65.04%\n",
      "Epoch 9/50, Train AUC: 79.42%, Test AUC: 67.10%\n",
      "Classification Report on Val Set : \n",
      "              precision    recall  f1-score   support\n",
      "\n",
      "   No Cancer       0.94      0.67      0.78       255\n",
      "      Cancer       0.16      0.59      0.25        27\n",
      "\n",
      "    accuracy                           0.66       282\n",
      "   macro avg       0.55      0.63      0.52       282\n",
      "weighted avg       0.86      0.66      0.73       282\n",
      "\n"
     ]
    },
    {
     "name": "stderr",
     "output_type": "stream",
     "text": [
      "Epoch 10/50: 100%|██████████| 5/5 [00:00<00:00, 67.40it/s, loss=7.7241e-02]\n",
      "Epoch 11/50: 100%|██████████| 5/5 [00:00<00:00, 68.72it/s, loss=1.0322e-01]\n",
      "Epoch 12/50:   0%|          | 0/5 [00:00<?, ?it/s, loss=8.7173e-02]"
     ]
    },
    {
     "name": "stdout",
     "output_type": "stream",
     "text": [
      "Epoch 10/50, Train Loss: 8.1342e-02, Test Loss: 0.1328\n",
      "Epoch 10/50, Train Accuracy: 75.35%, Test Accuracy: 66.59%\n",
      "Epoch 10/50, Train AUC: 79.17%, Test AUC: 65.24%\n",
      "Classification Report on Val Set : \n",
      "              precision    recall  f1-score   support\n",
      "\n",
      "   No Cancer       0.94      0.68      0.79       255\n",
      "      Cancer       0.16      0.56      0.24        27\n",
      "\n",
      "    accuracy                           0.67       282\n",
      "   macro avg       0.55      0.62      0.52       282\n",
      "weighted avg       0.86      0.67      0.74       282\n",
      "\n",
      "Epoch 11/50, Train Loss: 1.2277e-01, Test Loss: 0.1599\n",
      "Epoch 11/50, Train Accuracy: 72.33%, Test Accuracy: 61.92%\n",
      "Epoch 11/50, Train AUC: 82.80%, Test AUC: 68.73%\n",
      "Classification Report on Val Set : \n",
      "              precision    recall  f1-score   support\n",
      "\n",
      "   No Cancer       0.95      0.61      0.74       255\n",
      "      Cancer       0.16      0.70      0.26        27\n",
      "\n",
      "    accuracy                           0.62       282\n",
      "   macro avg       0.56      0.66      0.50       282\n",
      "weighted avg       0.88      0.62      0.70       282\n",
      "\n"
     ]
    },
    {
     "name": "stderr",
     "output_type": "stream",
     "text": [
      "Epoch 12/50: 100%|██████████| 5/5 [00:00<00:00, 68.98it/s, loss=1.2137e-01]\n",
      "Epoch 13/50: 100%|██████████| 5/5 [00:00<00:00, 66.98it/s, loss=7.3325e-02]\n",
      "Epoch 14/50:   0%|          | 0/5 [00:00<?, ?it/s, loss=7.3090e-02]"
     ]
    },
    {
     "name": "stdout",
     "output_type": "stream",
     "text": [
      "Epoch 12/50, Train Loss: 1.1934e-01, Test Loss: 0.1455\n",
      "Epoch 12/50, Train Accuracy: 72.75%, Test Accuracy: 64.76%\n",
      "Epoch 12/50, Train AUC: 79.47%, Test AUC: 70.97%\n",
      "Classification Report on Val Set : \n",
      "              precision    recall  f1-score   support\n",
      "\n",
      "   No Cancer       0.94      0.65      0.77       255\n",
      "      Cancer       0.16      0.63      0.25        27\n",
      "\n",
      "    accuracy                           0.65       282\n",
      "   macro avg       0.55      0.64      0.51       282\n",
      "weighted avg       0.87      0.65      0.72       282\n",
      "\n",
      "Epoch 13/50, Train Loss: 1.0608e-01, Test Loss: 0.1356\n",
      "Epoch 13/50, Train Accuracy: 74.18%, Test Accuracy: 66.59%\n",
      "Epoch 13/50, Train AUC: 81.01%, Test AUC: 69.93%\n",
      "Classification Report on Val Set : \n",
      "              precision    recall  f1-score   support\n",
      "\n",
      "   No Cancer       0.95      0.67      0.79       255\n",
      "      Cancer       0.17      0.63      0.27        27\n",
      "\n",
      "    accuracy                           0.67       282\n",
      "   macro avg       0.56      0.65      0.53       282\n",
      "weighted avg       0.87      0.67      0.74       282\n",
      "\n"
     ]
    },
    {
     "name": "stderr",
     "output_type": "stream",
     "text": [
      "Epoch 14/50: 100%|██████████| 5/5 [00:00<00:00, 66.78it/s, loss=9.7351e-02]\n",
      "Epoch 15/50: 100%|██████████| 5/5 [00:00<00:00, 67.29it/s, loss=1.1630e-01]\n",
      "Epoch 16/50:   0%|          | 0/5 [00:00<?, ?it/s, loss=1.5345e-01]"
     ]
    },
    {
     "name": "stdout",
     "output_type": "stream",
     "text": [
      "Epoch 14/50, Train Loss: 9.7265e-02, Test Loss: 0.1293\n",
      "Epoch 14/50, Train Accuracy: 74.50%, Test Accuracy: 65.56%\n",
      "Epoch 14/50, Train AUC: 80.70%, Test AUC: 68.93%\n",
      "Classification Report on Val Set : \n",
      "              precision    recall  f1-score   support\n",
      "\n",
      "   No Cancer       0.94      0.68      0.79       255\n",
      "      Cancer       0.16      0.59      0.26        27\n",
      "\n",
      "    accuracy                           0.67       282\n",
      "   macro avg       0.55      0.64      0.52       282\n",
      "weighted avg       0.87      0.67      0.74       282\n",
      "\n",
      "Epoch 15/50, Train Loss: 8.5587e-02, Test Loss: 0.1243\n",
      "Epoch 15/50, Train Accuracy: 78.14%, Test Accuracy: 65.83%\n",
      "Epoch 15/50, Train AUC: 81.88%, Test AUC: 67.65%\n",
      "Classification Report on Val Set : \n",
      "              precision    recall  f1-score   support\n",
      "\n",
      "   No Cancer       0.94      0.69      0.79       255\n",
      "      Cancer       0.16      0.56      0.25        27\n",
      "\n",
      "    accuracy                           0.67       282\n",
      "   macro avg       0.55      0.62      0.52       282\n",
      "weighted avg       0.86      0.67      0.74       282\n",
      "\n"
     ]
    },
    {
     "name": "stderr",
     "output_type": "stream",
     "text": [
      "Epoch 16/50: 100%|██████████| 5/5 [00:00<00:00, 66.83it/s, loss=8.1390e-02]\n",
      "Epoch 17/50: 100%|██████████| 5/5 [00:00<00:00, 68.13it/s, loss=6.5805e-02]\n",
      "Epoch 18/50:   0%|          | 0/5 [00:00<?, ?it/s, loss=5.9600e-02]"
     ]
    },
    {
     "name": "stdout",
     "output_type": "stream",
     "text": [
      "Epoch 16/50, Train Loss: 8.1832e-02, Test Loss: 0.1383\n",
      "Epoch 16/50, Train Accuracy: 80.35%, Test Accuracy: 65.04%\n",
      "Epoch 16/50, Train AUC: 85.56%, Test AUC: 66.96%\n",
      "Classification Report on Val Set : \n",
      "              precision    recall  f1-score   support\n",
      "\n",
      "   No Cancer       0.93      0.67      0.78       255\n",
      "      Cancer       0.15      0.56      0.24        27\n",
      "\n",
      "    accuracy                           0.66       282\n",
      "   macro avg       0.54      0.62      0.51       282\n",
      "weighted avg       0.86      0.66      0.73       282\n",
      "\n",
      "Epoch 17/50, Train Loss: 8.0766e-02, Test Loss: 0.1377\n",
      "Epoch 17/50, Train Accuracy: 79.32%, Test Accuracy: 66.33%\n",
      "Epoch 17/50, Train AUC: 87.39%, Test AUC: 67.99%\n",
      "Classification Report on Val Set : \n",
      "              precision    recall  f1-score   support\n",
      "\n",
      "   No Cancer       0.94      0.67      0.78       255\n",
      "      Cancer       0.17      0.63      0.27        27\n",
      "\n",
      "    accuracy                           0.67       282\n",
      "   macro avg       0.56      0.65      0.53       282\n",
      "weighted avg       0.87      0.67      0.73       282\n",
      "\n"
     ]
    },
    {
     "name": "stderr",
     "output_type": "stream",
     "text": [
      "Epoch 18/50: 100%|██████████| 5/5 [00:00<00:00, 66.86it/s, loss=1.4571e-01]\n",
      "Epoch 19/50: 100%|██████████| 5/5 [00:00<00:00, 67.87it/s, loss=5.2380e-02]\n",
      "Epoch 20/50:   0%|          | 0/5 [00:00<?, ?it/s, loss=6.8651e-02]"
     ]
    },
    {
     "name": "stdout",
     "output_type": "stream",
     "text": [
      "Epoch 18/50, Train Loss: 8.7326e-02, Test Loss: 0.1269\n",
      "Epoch 18/50, Train Accuracy: 74.19%, Test Accuracy: 68.93%\n",
      "Epoch 18/50, Train AUC: 80.86%, Test AUC: 73.26%\n",
      "Classification Report on Val Set : \n",
      "              precision    recall  f1-score   support\n",
      "\n",
      "   No Cancer       0.95      0.71      0.81       255\n",
      "      Cancer       0.19      0.63      0.29        27\n",
      "\n",
      "    accuracy                           0.70       282\n",
      "   macro avg       0.57      0.67      0.55       282\n",
      "weighted avg       0.87      0.70      0.76       282\n",
      "\n",
      "Epoch 19/50, Train Loss: 6.6832e-02, Test Loss: 0.1187\n",
      "Epoch 19/50, Train Accuracy: 80.91%, Test Accuracy: 68.17%\n",
      "Epoch 19/50, Train AUC: 85.84%, Test AUC: 71.71%\n",
      "Classification Report on Val Set : \n",
      "              precision    recall  f1-score   support\n",
      "\n",
      "   No Cancer       0.95      0.71      0.81       255\n",
      "      Cancer       0.19      0.63      0.29        27\n",
      "\n",
      "    accuracy                           0.71       282\n",
      "   macro avg       0.57      0.67      0.55       282\n",
      "weighted avg       0.88      0.71      0.76       282\n",
      "\n"
     ]
    },
    {
     "name": "stderr",
     "output_type": "stream",
     "text": [
      "Epoch 20/50: 100%|██████████| 5/5 [00:00<00:00, 68.31it/s, loss=6.4433e-02]\n",
      "Epoch 21/50: 100%|██████████| 5/5 [00:00<00:00, 69.10it/s, loss=5.3420e-02]\n",
      "Epoch 22/50:   0%|          | 0/5 [00:00<?, ?it/s, loss=8.8678e-02]"
     ]
    },
    {
     "name": "stdout",
     "output_type": "stream",
     "text": [
      "Epoch 20/50, Train Loss: 6.6510e-02, Test Loss: 0.1104\n",
      "Epoch 20/50, Train Accuracy: 79.82%, Test Accuracy: 69.45%\n",
      "Epoch 20/50, Train AUC: 85.85%, Test AUC: 70.89%\n",
      "Classification Report on Val Set : \n",
      "              precision    recall  f1-score   support\n",
      "\n",
      "   No Cancer       0.94      0.72      0.82       255\n",
      "      Cancer       0.18      0.59      0.28        27\n",
      "\n",
      "    accuracy                           0.71       282\n",
      "   macro avg       0.56      0.66      0.55       282\n",
      "weighted avg       0.87      0.71      0.77       282\n",
      "\n",
      "Epoch 21/50, Train Loss: 5.9264e-02, Test Loss: 0.1079\n",
      "Epoch 21/50, Train Accuracy: 81.03%, Test Accuracy: 64.54%\n",
      "Epoch 21/50, Train AUC: 89.55%, Test AUC: 65.77%\n",
      "Classification Report on Val Set : \n",
      "              precision    recall  f1-score   support\n",
      "\n",
      "   No Cancer       0.92      0.69      0.79       255\n",
      "      Cancer       0.13      0.44      0.21        27\n",
      "\n",
      "    accuracy                           0.67       282\n",
      "   macro avg       0.53      0.57      0.50       282\n",
      "weighted avg       0.85      0.67      0.74       282\n",
      "\n"
     ]
    },
    {
     "name": "stderr",
     "output_type": "stream",
     "text": [
      "Epoch 22/50: 100%|██████████| 5/5 [00:00<00:00, 68.99it/s, loss=6.0470e-02]\n",
      "Epoch 23/50: 100%|██████████| 5/5 [00:00<00:00, 69.18it/s, loss=1.0504e-01]\n",
      "Epoch 24/50:   0%|          | 0/5 [00:00<?, ?it/s, loss=5.1827e-02]"
     ]
    },
    {
     "name": "stdout",
     "output_type": "stream",
     "text": [
      "Epoch 22/50, Train Loss: 5.3130e-02, Test Loss: 0.1042\n",
      "Epoch 22/50, Train Accuracy: 83.28%, Test Accuracy: 68.13%\n",
      "Epoch 22/50, Train AUC: 90.47%, Test AUC: 66.67%\n",
      "Classification Report on Val Set : \n",
      "              precision    recall  f1-score   support\n",
      "\n",
      "   No Cancer       0.92      0.71      0.80       255\n",
      "      Cancer       0.13      0.41      0.19        27\n",
      "\n",
      "    accuracy                           0.68       282\n",
      "   macro avg       0.52      0.56      0.50       282\n",
      "weighted avg       0.84      0.68      0.74       282\n",
      "\n",
      "Epoch 23/50, Train Loss: 7.7987e-02, Test Loss: 0.1260\n",
      "Epoch 23/50, Train Accuracy: 80.44%, Test Accuracy: 65.83%\n",
      "Epoch 23/50, Train AUC: 88.74%, Test AUC: 68.48%\n",
      "Classification Report on Val Set : \n",
      "              precision    recall  f1-score   support\n",
      "\n",
      "   No Cancer       0.94      0.69      0.79       255\n",
      "      Cancer       0.16      0.56      0.25        27\n",
      "\n",
      "    accuracy                           0.67       282\n",
      "   macro avg       0.55      0.62      0.52       282\n",
      "weighted avg       0.86      0.67      0.74       282\n",
      "\n"
     ]
    },
    {
     "name": "stderr",
     "output_type": "stream",
     "text": [
      "Epoch 24/50: 100%|██████████| 5/5 [00:00<00:00, 68.28it/s, loss=4.0436e-02]\n",
      "Epoch 25/50: 100%|██████████| 5/5 [00:00<00:00, 69.01it/s, loss=5.8453e-02]\n",
      "Epoch 26/50:   0%|          | 0/5 [00:00<?, ?it/s, loss=4.9246e-02]"
     ]
    },
    {
     "name": "stdout",
     "output_type": "stream",
     "text": [
      "Epoch 24/50, Train Loss: 7.6428e-02, Test Loss: 0.1196\n",
      "Epoch 24/50, Train Accuracy: 79.33%, Test Accuracy: 66.59%\n",
      "Epoch 24/50, Train AUC: 87.39%, Test AUC: 67.96%\n",
      "Classification Report on Val Set : \n",
      "              precision    recall  f1-score   support\n",
      "\n",
      "   No Cancer       0.93      0.69      0.79       255\n",
      "      Cancer       0.14      0.48      0.22        27\n",
      "\n",
      "    accuracy                           0.67       282\n",
      "   macro avg       0.53      0.59      0.50       282\n",
      "weighted avg       0.85      0.67      0.74       282\n",
      "\n",
      "Epoch 25/50, Train Loss: 6.3716e-02, Test Loss: 0.1212\n",
      "Epoch 25/50, Train Accuracy: 80.92%, Test Accuracy: 67.11%\n",
      "Epoch 25/50, Train AUC: 90.37%, Test AUC: 66.35%\n",
      "Classification Report on Val Set : \n",
      "              precision    recall  f1-score   support\n",
      "\n",
      "   No Cancer       0.94      0.69      0.79       255\n",
      "      Cancer       0.16      0.56      0.25        27\n",
      "\n",
      "    accuracy                           0.68       282\n",
      "   macro avg       0.55      0.62      0.52       282\n",
      "weighted avg       0.86      0.68      0.74       282\n",
      "\n"
     ]
    },
    {
     "name": "stderr",
     "output_type": "stream",
     "text": [
      "Epoch 26/50: 100%|██████████| 5/5 [00:00<00:00, 68.55it/s, loss=8.9260e-02]\n",
      "Epoch 27/50: 100%|██████████| 5/5 [00:00<00:00, 69.08it/s, loss=3.1319e-02]\n",
      "Epoch 28/50:   0%|          | 0/5 [00:00<?, ?it/s, loss=5.1056e-02]"
     ]
    },
    {
     "name": "stdout",
     "output_type": "stream",
     "text": [
      "Epoch 26/50, Train Loss: 8.6771e-02, Test Loss: 0.1501\n",
      "Epoch 26/50, Train Accuracy: 79.18%, Test Accuracy: 61.94%\n",
      "Epoch 26/50, Train AUC: 88.77%, Test AUC: 63.31%\n",
      "Classification Report on Val Set : \n",
      "              precision    recall  f1-score   support\n",
      "\n",
      "   No Cancer       0.93      0.64      0.76       255\n",
      "      Cancer       0.14      0.56      0.23        27\n",
      "\n",
      "    accuracy                           0.63       282\n",
      "   macro avg       0.54      0.60      0.49       282\n",
      "weighted avg       0.86      0.63      0.71       282\n",
      "\n",
      "Epoch 27/50, Train Loss: 6.9385e-02, Test Loss: 0.1406\n",
      "Epoch 27/50, Train Accuracy: 84.11%, Test Accuracy: 63.76%\n",
      "Epoch 27/50, Train AUC: 90.18%, Test AUC: 66.22%\n",
      "Classification Report on Val Set : \n",
      "              precision    recall  f1-score   support\n",
      "\n",
      "   No Cancer       0.93      0.67      0.78       255\n",
      "      Cancer       0.14      0.52      0.23        27\n",
      "\n",
      "    accuracy                           0.66       282\n",
      "   macro avg       0.54      0.60      0.50       282\n",
      "weighted avg       0.85      0.66      0.73       282\n",
      "\n"
     ]
    },
    {
     "name": "stderr",
     "output_type": "stream",
     "text": [
      "Epoch 28/50: 100%|██████████| 5/5 [00:00<00:00, 68.52it/s, loss=8.2868e-02]\n",
      "Epoch 29/50: 100%|██████████| 5/5 [00:00<00:00, 69.59it/s, loss=3.7389e-02]\n",
      "Epoch 30/50:   0%|          | 0/5 [00:00<?, ?it/s, loss=5.2713e-02]"
     ]
    },
    {
     "name": "stdout",
     "output_type": "stream",
     "text": [
      "Epoch 28/50, Train Loss: 6.0485e-02, Test Loss: 0.1235\n",
      "Epoch 28/50, Train Accuracy: 80.77%, Test Accuracy: 64.80%\n",
      "Epoch 28/50, Train AUC: 91.09%, Test AUC: 67.42%\n",
      "Classification Report on Val Set : \n",
      "              precision    recall  f1-score   support\n",
      "\n",
      "   No Cancer       0.93      0.69      0.79       255\n",
      "      Cancer       0.14      0.48      0.22        27\n",
      "\n",
      "    accuracy                           0.67       282\n",
      "   macro avg       0.53      0.59      0.51       282\n",
      "weighted avg       0.85      0.67      0.74       282\n",
      "\n",
      "Epoch 29/50, Train Loss: 5.5589e-02, Test Loss: 0.1106\n",
      "Epoch 29/50, Train Accuracy: 83.97%, Test Accuracy: 71.25%\n",
      "Epoch 29/50, Train AUC: 90.17%, Test AUC: 70.81%\n",
      "Classification Report on Val Set : \n",
      "              precision    recall  f1-score   support\n",
      "\n",
      "   No Cancer       0.94      0.73      0.83       255\n",
      "      Cancer       0.19      0.59      0.29        27\n",
      "\n",
      "    accuracy                           0.72       282\n",
      "   macro avg       0.57      0.66      0.56       282\n",
      "weighted avg       0.87      0.72      0.77       282\n",
      "\n"
     ]
    },
    {
     "name": "stderr",
     "output_type": "stream",
     "text": [
      "Epoch 30/50: 100%|██████████| 5/5 [00:00<00:00, 67.96it/s, loss=5.3048e-02]\n",
      "Epoch 31/50: 100%|██████████| 5/5 [00:00<00:00, 69.19it/s, loss=5.9256e-02]\n",
      "Epoch 32/50:   0%|          | 0/5 [00:00<?, ?it/s, loss=4.3993e-02]"
     ]
    },
    {
     "name": "stdout",
     "output_type": "stream",
     "text": [
      "Epoch 30/50, Train Loss: 6.3167e-02, Test Loss: 0.1231\n",
      "Epoch 30/50, Train Accuracy: 81.52%, Test Accuracy: 69.19%\n",
      "Epoch 30/50, Train AUC: 93.09%, Test AUC: 68.06%\n",
      "Classification Report on Val Set : \n",
      "              precision    recall  f1-score   support\n",
      "\n",
      "   No Cancer       0.93      0.73      0.82       255\n",
      "      Cancer       0.15      0.44      0.22        27\n",
      "\n",
      "    accuracy                           0.71       282\n",
      "   macro avg       0.54      0.59      0.52       282\n",
      "weighted avg       0.85      0.71      0.76       282\n",
      "\n",
      "Epoch 31/50, Train Loss: 5.2741e-02, Test Loss: 0.1062\n",
      "Epoch 31/50, Train Accuracy: 83.80%, Test Accuracy: 71.75%\n",
      "Epoch 31/50, Train AUC: 93.07%, Test AUC: 67.70%\n",
      "Classification Report on Val Set : \n",
      "              precision    recall  f1-score   support\n",
      "\n",
      "   No Cancer       0.92      0.75      0.82       255\n",
      "      Cancer       0.14      0.41      0.21        27\n",
      "\n",
      "    accuracy                           0.71       282\n",
      "   macro avg       0.53      0.58      0.52       282\n",
      "weighted avg       0.85      0.71      0.77       282\n",
      "\n"
     ]
    },
    {
     "name": "stderr",
     "output_type": "stream",
     "text": [
      "Epoch 32/50: 100%|██████████| 5/5 [00:00<00:00, 69.08it/s, loss=4.2742e-02]\n",
      "Epoch 33/50: 100%|██████████| 5/5 [00:00<00:00, 69.08it/s, loss=2.9197e-02]\n",
      "Epoch 34/50:   0%|          | 0/5 [00:00<?, ?it/s, loss=3.5551e-02]"
     ]
    },
    {
     "name": "stdout",
     "output_type": "stream",
     "text": [
      "Epoch 32/50, Train Loss: 5.6588e-02, Test Loss: 0.1012\n",
      "Epoch 32/50, Train Accuracy: 86.52%, Test Accuracy: 69.97%\n",
      "Epoch 32/50, Train AUC: 94.07%, Test AUC: 70.59%\n",
      "Classification Report on Val Set : \n",
      "              precision    recall  f1-score   support\n",
      "\n",
      "   No Cancer       0.94      0.73      0.82       255\n",
      "      Cancer       0.18      0.56      0.27        27\n",
      "\n",
      "    accuracy                           0.72       282\n",
      "   macro avg       0.56      0.64      0.55       282\n",
      "weighted avg       0.87      0.72      0.77       282\n",
      "\n",
      "Epoch 33/50, Train Loss: 7.5536e-02, Test Loss: 0.1181\n",
      "Epoch 33/50, Train Accuracy: 81.14%, Test Accuracy: 68.93%\n",
      "Epoch 33/50, Train AUC: 90.69%, Test AUC: 68.67%\n",
      "Classification Report on Val Set : \n",
      "              precision    recall  f1-score   support\n",
      "\n",
      "   No Cancer       0.94      0.72      0.81       255\n",
      "      Cancer       0.17      0.56      0.26        27\n",
      "\n",
      "    accuracy                           0.70       282\n",
      "   macro avg       0.56      0.64      0.54       282\n",
      "weighted avg       0.87      0.70      0.76       282\n",
      "\n"
     ]
    },
    {
     "name": "stderr",
     "output_type": "stream",
     "text": [
      "Epoch 34/50: 100%|██████████| 5/5 [00:00<00:00, 68.64it/s, loss=6.9685e-02]\n",
      "Epoch 35/50: 100%|██████████| 5/5 [00:00<00:00, 69.47it/s, loss=1.9691e-01]\n",
      "Epoch 36/50:   0%|          | 0/5 [00:00<?, ?it/s, loss=4.0542e-02]"
     ]
    },
    {
     "name": "stdout",
     "output_type": "stream",
     "text": [
      "Epoch 34/50, Train Loss: 5.1941e-02, Test Loss: 0.1013\n",
      "Epoch 34/50, Train Accuracy: 85.02%, Test Accuracy: 72.30%\n",
      "Epoch 34/50, Train AUC: 92.11%, Test AUC: 70.23%\n",
      "Classification Report on Val Set : \n",
      "              precision    recall  f1-score   support\n",
      "\n",
      "   No Cancer       0.94      0.76      0.84       255\n",
      "      Cancer       0.18      0.52      0.27        27\n",
      "\n",
      "    accuracy                           0.73       282\n",
      "   macro avg       0.56      0.64      0.55       282\n",
      "weighted avg       0.86      0.73      0.78       282\n",
      "\n",
      "Epoch 35/50, Train Loss: 1.0267e-01, Test Loss: 0.1338\n",
      "Epoch 35/50, Train Accuracy: 84.08%, Test Accuracy: 65.83%\n",
      "Epoch 35/50, Train AUC: 91.17%, Test AUC: 70.09%\n",
      "Classification Report on Val Set : \n",
      "              precision    recall  f1-score   support\n",
      "\n",
      "   No Cancer       0.93      0.69      0.79       255\n",
      "      Cancer       0.14      0.48      0.22        27\n",
      "\n",
      "    accuracy                           0.67       282\n",
      "   macro avg       0.53      0.59      0.51       282\n",
      "weighted avg       0.85      0.67      0.74       282\n",
      "\n"
     ]
    },
    {
     "name": "stderr",
     "output_type": "stream",
     "text": [
      "Epoch 36/50: 100%|██████████| 5/5 [00:00<00:00, 68.95it/s, loss=4.9543e-02]\n",
      "Epoch 37/50: 100%|██████████| 5/5 [00:00<00:00, 69.17it/s, loss=3.5690e-02]\n"
     ]
    },
    {
     "name": "stdout",
     "output_type": "stream",
     "text": [
      "Epoch 36/50, Train Loss: 7.9441e-02, Test Loss: 0.1158\n",
      "Epoch 36/50, Train Accuracy: 86.08%, Test Accuracy: 73.28%\n",
      "Epoch 36/50, Train AUC: 94.50%, Test AUC: 69.64%\n",
      "Classification Report on Val Set : \n",
      "              precision    recall  f1-score   support\n",
      "\n",
      "   No Cancer       0.93      0.73      0.82       255\n",
      "      Cancer       0.16      0.48      0.24        27\n",
      "\n",
      "    accuracy                           0.71       282\n",
      "   macro avg       0.54      0.61      0.53       282\n",
      "weighted avg       0.86      0.71      0.76       282\n",
      "\n",
      "Epoch 37/50, Train Loss: 8.9065e-02, Test Loss: 0.1156\n",
      "Epoch 37/50, Train Accuracy: 84.31%, Test Accuracy: 75.62%\n",
      "Epoch 37/50, Train AUC: 92.85%, Test AUC: 67.35%\n",
      "Classification Report on Val Set : \n",
      "              precision    recall  f1-score   support\n",
      "\n",
      "   No Cancer       0.93      0.77      0.84       255\n",
      "      Cancer       0.17      0.44      0.24        27\n",
      "\n",
      "    accuracy                           0.74       282\n",
      "   macro avg       0.55      0.61      0.54       282\n",
      "weighted avg       0.86      0.74      0.78       282\n",
      "\n"
     ]
    },
    {
     "name": "stderr",
     "output_type": "stream",
     "text": [
      "Epoch 38/50: 100%|██████████| 5/5 [00:00<00:00, 68.50it/s, loss=3.1079e-02]\n",
      "Epoch 39/50: 100%|██████████| 5/5 [00:00<00:00, 68.96it/s, loss=2.7455e-02]\n",
      "Epoch 40/50:   0%|          | 0/5 [00:00<?, ?it/s, loss=4.1893e-02]"
     ]
    },
    {
     "name": "stdout",
     "output_type": "stream",
     "text": [
      "Epoch 38/50, Train Loss: 7.1387e-02, Test Loss: 0.1022\n",
      "Epoch 38/50, Train Accuracy: 86.78%, Test Accuracy: 72.82%\n",
      "Epoch 38/50, Train AUC: 93.65%, Test AUC: 68.87%\n",
      "Classification Report on Val Set : \n",
      "              precision    recall  f1-score   support\n",
      "\n",
      "   No Cancer       0.92      0.78      0.85       255\n",
      "      Cancer       0.15      0.37      0.22        27\n",
      "\n",
      "    accuracy                           0.74       282\n",
      "   macro avg       0.54      0.58      0.53       282\n",
      "weighted avg       0.85      0.74      0.78       282\n",
      "\n",
      "Epoch 39/50, Train Loss: 6.9431e-02, Test Loss: 0.0973\n",
      "Epoch 39/50, Train Accuracy: 85.49%, Test Accuracy: 70.51%\n",
      "Epoch 39/50, Train AUC: 93.78%, Test AUC: 72.58%\n",
      "Classification Report on Val Set : \n",
      "              precision    recall  f1-score   support\n",
      "\n",
      "   No Cancer       0.93      0.76      0.84       255\n",
      "      Cancer       0.18      0.48      0.26        27\n",
      "\n",
      "    accuracy                           0.74       282\n",
      "   macro avg       0.56      0.62      0.55       282\n",
      "weighted avg       0.86      0.74      0.78       282\n",
      "\n"
     ]
    },
    {
     "name": "stderr",
     "output_type": "stream",
     "text": [
      "Epoch 40/50: 100%|██████████| 5/5 [00:00<00:00, 68.43it/s, loss=3.4215e-02]\n",
      "Epoch 41/50: 100%|██████████| 5/5 [00:00<00:00, 68.68it/s, loss=2.3215e-02]\n",
      "Epoch 42/50:   0%|          | 0/5 [00:00<?, ?it/s, loss=1.8362e-02]"
     ]
    },
    {
     "name": "stdout",
     "output_type": "stream",
     "text": [
      "Epoch 40/50, Train Loss: 6.2194e-02, Test Loss: 0.0860\n",
      "Epoch 40/50, Train Accuracy: 85.47%, Test Accuracy: 75.14%\n",
      "Epoch 40/50, Train AUC: 93.70%, Test AUC: 71.59%\n",
      "Classification Report on Val Set : \n",
      "              precision    recall  f1-score   support\n",
      "\n",
      "   No Cancer       0.92      0.80      0.86       255\n",
      "      Cancer       0.16      0.37      0.23        27\n",
      "\n",
      "    accuracy                           0.76       282\n",
      "   macro avg       0.54      0.59      0.54       282\n",
      "weighted avg       0.85      0.76      0.80       282\n",
      "\n",
      "Epoch 41/50, Train Loss: 8.5485e-02, Test Loss: 0.1184\n",
      "Epoch 41/50, Train Accuracy: 86.17%, Test Accuracy: 69.71%\n",
      "Epoch 41/50, Train AUC: 94.36%, Test AUC: 66.35%\n",
      "Classification Report on Val Set : \n",
      "              precision    recall  f1-score   support\n",
      "\n",
      "   No Cancer       0.93      0.74      0.82       255\n",
      "      Cancer       0.15      0.44      0.23        27\n",
      "\n",
      "    accuracy                           0.71       282\n",
      "   macro avg       0.54      0.59      0.53       282\n",
      "weighted avg       0.85      0.71      0.77       282\n",
      "\n"
     ]
    },
    {
     "name": "stderr",
     "output_type": "stream",
     "text": [
      "Epoch 42/50: 100%|██████████| 5/5 [00:00<00:00, 69.19it/s, loss=1.9092e-02]\n",
      "Epoch 43/50: 100%|██████████| 5/5 [00:00<00:00, 69.11it/s, loss=4.5310e-02]\n",
      "Epoch 44/50:   0%|          | 0/5 [00:00<?, ?it/s, loss=2.8878e-02]"
     ]
    },
    {
     "name": "stdout",
     "output_type": "stream",
     "text": [
      "Epoch 42/50, Train Loss: 7.0284e-02, Test Loss: 0.1117\n",
      "Epoch 42/50, Train Accuracy: 86.92%, Test Accuracy: 69.93%\n",
      "Epoch 42/50, Train AUC: 94.09%, Test AUC: 64.78%\n",
      "Classification Report on Val Set : \n",
      "              precision    recall  f1-score   support\n",
      "\n",
      "   No Cancer       0.92      0.72      0.81       255\n",
      "      Cancer       0.12      0.37      0.19        27\n",
      "\n",
      "    accuracy                           0.69       282\n",
      "   macro avg       0.52      0.55      0.50       282\n",
      "weighted avg       0.84      0.69      0.75       282\n",
      "\n",
      "Epoch 43/50, Train Loss: 6.6963e-02, Test Loss: 0.0984\n",
      "Epoch 43/50, Train Accuracy: 87.05%, Test Accuracy: 73.32%\n",
      "Epoch 43/50, Train AUC: 94.94%, Test AUC: 68.79%\n",
      "Classification Report on Val Set : \n",
      "              precision    recall  f1-score   support\n",
      "\n",
      "   No Cancer       0.93      0.76      0.84       255\n",
      "      Cancer       0.18      0.48      0.26        27\n",
      "\n",
      "    accuracy                           0.73       282\n",
      "   macro avg       0.55      0.62      0.55       282\n",
      "weighted avg       0.86      0.73      0.78       282\n",
      "\n"
     ]
    },
    {
     "name": "stderr",
     "output_type": "stream",
     "text": [
      "Epoch 44/50: 100%|██████████| 5/5 [00:00<00:00, 68.36it/s, loss=1.1807e-02]\n",
      "Epoch 45/50: 100%|██████████| 5/5 [00:00<00:00, 69.49it/s, loss=9.4303e-02]\n",
      "Epoch 46/50:   0%|          | 0/5 [00:00<?, ?it/s, loss=5.3565e-02]"
     ]
    },
    {
     "name": "stdout",
     "output_type": "stream",
     "text": [
      "Epoch 44/50, Train Loss: 4.9716e-02, Test Loss: 0.0906\n",
      "Epoch 44/50, Train Accuracy: 91.33%, Test Accuracy: 70.73%\n",
      "Epoch 44/50, Train AUC: 96.74%, Test AUC: 68.21%\n",
      "Classification Report on Val Set : \n",
      "              precision    recall  f1-score   support\n",
      "\n",
      "   No Cancer       0.91      0.75      0.83       255\n",
      "      Cancer       0.12      0.33      0.18        27\n",
      "\n",
      "    accuracy                           0.71       282\n",
      "   macro avg       0.52      0.54      0.50       282\n",
      "weighted avg       0.84      0.71      0.76       282\n",
      "\n",
      "Epoch 45/50, Train Loss: 6.2805e-02, Test Loss: 0.0846\n",
      "Epoch 45/50, Train Accuracy: 86.72%, Test Accuracy: 73.84%\n",
      "Epoch 45/50, Train AUC: 94.57%, Test AUC: 69.34%\n",
      "Classification Report on Val Set : \n",
      "              precision    recall  f1-score   support\n",
      "\n",
      "   No Cancer       0.93      0.77      0.84       255\n",
      "      Cancer       0.17      0.44      0.25        27\n",
      "\n",
      "    accuracy                           0.74       282\n",
      "   macro avg       0.55      0.61      0.55       282\n",
      "weighted avg       0.86      0.74      0.79       282\n",
      "\n"
     ]
    },
    {
     "name": "stderr",
     "output_type": "stream",
     "text": [
      "Epoch 46/50: 100%|██████████| 5/5 [00:00<00:00, 68.55it/s, loss=2.5006e-02]\n",
      "Epoch 47/50: 100%|██████████| 5/5 [00:00<00:00, 69.14it/s, loss=3.5700e-02]\n",
      "Epoch 48/50:   0%|          | 0/5 [00:00<?, ?it/s, loss=3.3607e-02]"
     ]
    },
    {
     "name": "stdout",
     "output_type": "stream",
     "text": [
      "Epoch 46/50, Train Loss: 4.7184e-02, Test Loss: 0.0797\n",
      "Epoch 46/50, Train Accuracy: 88.77%, Test Accuracy: 73.06%\n",
      "Epoch 46/50, Train AUC: 95.99%, Test AUC: 68.80%\n",
      "Classification Report on Val Set : \n",
      "              precision    recall  f1-score   support\n",
      "\n",
      "   No Cancer       0.92      0.77      0.84       255\n",
      "      Cancer       0.14      0.37      0.21        27\n",
      "\n",
      "    accuracy                           0.73       282\n",
      "   macro avg       0.53      0.57      0.52       282\n",
      "weighted avg       0.85      0.73      0.78       282\n",
      "\n",
      "Epoch 47/50, Train Loss: 4.1579e-02, Test Loss: 0.0735\n",
      "Epoch 47/50, Train Accuracy: 89.74%, Test Accuracy: 76.66%\n",
      "Epoch 47/50, Train AUC: 95.51%, Test AUC: 67.60%\n",
      "Classification Report on Val Set : \n",
      "              precision    recall  f1-score   support\n",
      "\n",
      "   No Cancer       0.93      0.79      0.85       255\n",
      "      Cancer       0.17      0.41      0.24        27\n",
      "\n",
      "    accuracy                           0.75       282\n",
      "   macro avg       0.55      0.60      0.55       282\n",
      "weighted avg       0.85      0.75      0.79       282\n",
      "\n"
     ]
    },
    {
     "name": "stderr",
     "output_type": "stream",
     "text": [
      "Epoch 48/50: 100%|██████████| 5/5 [00:00<00:00, 68.38it/s, loss=2.6492e-02]\n",
      "Epoch 49/50: 100%|██████████| 5/5 [00:00<00:00, 69.11it/s, loss=1.7190e-02]\n",
      "Epoch 50/50:   0%|          | 0/5 [00:00<?, ?it/s, loss=2.2972e-02]"
     ]
    },
    {
     "name": "stdout",
     "output_type": "stream",
     "text": [
      "Epoch 48/50, Train Loss: 4.4886e-02, Test Loss: 0.0729\n",
      "Epoch 48/50, Train Accuracy: 86.27%, Test Accuracy: 75.64%\n",
      "Epoch 48/50, Train AUC: 94.20%, Test AUC: 71.24%\n",
      "Classification Report on Val Set : \n",
      "              precision    recall  f1-score   support\n",
      "\n",
      "   No Cancer       0.93      0.79      0.85       255\n",
      "      Cancer       0.17      0.41      0.24        27\n",
      "\n",
      "    accuracy                           0.75       282\n",
      "   macro avg       0.55      0.60      0.55       282\n",
      "weighted avg       0.85      0.75      0.79       282\n",
      "\n",
      "Epoch 49/50, Train Loss: 4.5324e-02, Test Loss: 0.0755\n",
      "Epoch 49/50, Train Accuracy: 88.35%, Test Accuracy: 71.51%\n",
      "Epoch 49/50, Train AUC: 94.27%, Test AUC: 70.72%\n",
      "Classification Report on Val Set : \n",
      "              precision    recall  f1-score   support\n",
      "\n",
      "   No Cancer       0.92      0.76      0.83       255\n",
      "      Cancer       0.14      0.37      0.20        27\n",
      "\n",
      "    accuracy                           0.72       282\n",
      "   macro avg       0.53      0.57      0.52       282\n",
      "weighted avg       0.84      0.72      0.77       282\n",
      "\n"
     ]
    },
    {
     "name": "stderr",
     "output_type": "stream",
     "text": [
      "Epoch 50/50: 100%|██████████| 5/5 [00:00<00:00, 69.59it/s, loss=3.0679e-02]\n"
     ]
    },
    {
     "name": "stdout",
     "output_type": "stream",
     "text": [
      "Epoch 50/50, Train Loss: 3.0292e-02, Test Loss: 0.0667\n",
      "Epoch 50/50, Train Accuracy: 90.24%, Test Accuracy: 74.64%\n",
      "Epoch 50/50, Train AUC: 95.70%, Test AUC: 70.09%\n",
      "Classification Report on Val Set : \n",
      "              precision    recall  f1-score   support\n",
      "\n",
      "   No Cancer       0.93      0.80      0.86       255\n",
      "      Cancer       0.18      0.41      0.25        27\n",
      "\n",
      "    accuracy                           0.77       282\n",
      "   macro avg       0.55      0.61      0.56       282\n",
      "weighted avg       0.86      0.77      0.80       282\n",
      "\n",
      "\n",
      "Finished.\n",
      "Best validation AUC: 7.3261e-01\n",
      "With accuracy: 0.6893028815587362\n"
     ]
    }
   ],
   "source": [
    "# network\n",
    "net = MLP(input_size = dim_z, layers = [160, 100]).to(device).double()\n",
    "\n",
    "# loss and optimizer  \n",
    "criterion = FocalLoss().to(device)\n",
    "optimizer = optim.Adam(net.parameters(), lr=vae_mlp_args['lr_pt'])\n",
    "\n",
    "# Logging + Experiment\n",
    "\n",
    "ignore_keys = {'no_tensorboard'}\n",
    "# get hyperparameters with values in a dict\n",
    "hparams = {**vae_mlp_args}\n",
    "# generate a name for the experiment\n",
    "expe_name = '_'.join([f\"{key}={val}\" for key, val in hparams.items()])\n",
    "print(\"Experimenting with : \\n \\t\"+expe_name)\n",
    "# path where to save the model\n",
    "savepath = Path('/tempory/transcriptomic_data/pre_trained_mlp_vae_checkpt.pt')\n",
    "# Tensorboard summary writer\n",
    "if vae_mlp_args['no_tensorboard']:\n",
    "    writer = None\n",
    "else:\n",
    "    writer = SummaryWriter(\"runs/runs\"+\"_\"+datetime.datetime.now().strftime(\"%Y%m%d-%H%M%S\")+expe_name)\n",
    "# start the experiment\n",
    "checkpoint = CheckpointState(net, optimizer, savepath=savepath)\n",
    "fit(checkpoint, criterion, lung_dataloader_train, lung_dataloader_validation, vae_mlp_args['epochs'], writer=writer, embedding_computer=vae)\n",
    "if not vae_mlp_args['no_tensorboard']:\n",
    "    writer.close()"
   ]
  },
  {
   "cell_type": "code",
   "execution_count": null,
   "metadata": {},
   "outputs": [],
   "source": []
  }
 ],
 "metadata": {
  "kernelspec": {
   "display_name": "Python 3",
   "language": "python",
   "name": "python3"
  },
  "language_info": {
   "codemirror_mode": {
    "name": "ipython",
    "version": 3
   },
   "file_extension": ".py",
   "mimetype": "text/x-python",
   "name": "python",
   "nbconvert_exporter": "python",
   "pygments_lexer": "ipython3",
   "version": "3.6.9"
  }
 },
 "nbformat": 4,
 "nbformat_minor": 4
}
