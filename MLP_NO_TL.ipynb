{
 "cells": [
  {
   "cell_type": "markdown",
   "metadata": {},
   "source": [
    "# **Deep Learning For Lung Cancer Prediction Based on Transcriptomic Data : a Basic MLP with no Transfer Learning**\n",
    "> Author : **Aymen MERROUCHE**. <br>\n",
    "> In this notebook, we implement a basic MLP for our binary classification task with no Transfer Learning."
   ]
  },
  {
   "cell_type": "code",
   "execution_count": 4,
   "metadata": {},
   "outputs": [
    {
     "name": "stdout",
     "output_type": "stream",
     "text": [
      "The autoreload extension is already loaded. To reload it, use:\n",
      "  %reload_ext autoreload\n"
     ]
    }
   ],
   "source": [
    "import torch\n",
    "import torch.nn as nn\n",
    "from torch.nn import functional as F\n",
    "import numpy as np\n",
    "import datetime\n",
    "\n",
    "from utils import *\n",
    "from train import *\n",
    "from data_utils import *\n",
    "from modules.MLP import *\n",
    "from modules.focal_loss import *\n",
    "%load_ext autoreload\n",
    "%autoreload 2"
   ]
  },
  {
   "cell_type": "code",
   "execution_count": 5,
   "metadata": {},
   "outputs": [
    {
     "name": "stdout",
     "output_type": "stream",
     "text": [
      "Working on :  cuda\n"
     ]
    }
   ],
   "source": [
    "# device to use, if cuda available then use cuda else use cpu\n",
    "device = torch.device('cuda' if torch.cuda.is_available() else 'cpu')\n",
    "print(\"Working on : \", device)"
   ]
  },
  {
   "cell_type": "code",
   "execution_count": 6,
   "metadata": {},
   "outputs": [],
   "source": [
    "# load hyperparametrs\n",
    "# data paths args\n",
    "with open('./configs/data_paths.yaml', 'r') as stream:\n",
    "    data_paths_args  = yaml.load(stream,Loader=yaml.Loader)\n",
    "    \n",
    "    \n",
    "# basic cnn args\n",
    "with open('./configs/mlp.yaml', 'r') as stream:\n",
    "    mlp_args  = yaml.load(stream,Loader=yaml.Loader)"
   ]
  },
  {
   "cell_type": "markdown",
   "metadata": {},
   "source": [
    "## **1 - Get The Data :**"
   ]
  },
  {
   "cell_type": "code",
   "execution_count": 7,
   "metadata": {},
   "outputs": [
    {
     "name": "stdout",
     "output_type": "stream",
     "text": [
      "CPU times: user 11.3 s, sys: 281 ms, total: 11.6 s\n",
      "Wall time: 11.6 s\n"
     ]
    }
   ],
   "source": [
    "%%time\n",
    "# Getting the data\n",
    "# dataset\n",
    "lung_dataset = TranscriptomicVectorsDatasetLung(data_paths_args[\"path_to_pan_cancer_hdf5_files\"])\n",
    "lung_dataloader_train, lung_dataloader_validation = get_data_loaders(lung_dataset, batch_size_train = mlp_args[\"batch_size_ft\"],\\\n",
    "                                                                             batch_size_validation = mlp_args[\"batch_size_ft\"])"
   ]
  },
  {
   "cell_type": "markdown",
   "metadata": {},
   "source": [
    "## **1 - Network, Criterion and Training :**"
   ]
  },
  {
   "cell_type": "code",
   "execution_count": 8,
   "metadata": {},
   "outputs": [
    {
     "name": "stderr",
     "output_type": "stream",
     "text": [
      "Epoch 1/50:  20%|██        | 1/5 [00:00<00:00,  6.61it/s, loss=1.5614e-01]"
     ]
    },
    {
     "name": "stdout",
     "output_type": "stream",
     "text": [
      "Experimenting with : \n",
      " \tepochs=50_batch_size_pt=128_lr_pt=0.001_batch_size_ft=128_lr_ft=0.001_no_tensorboard=True\n",
      "Training on GPU \n",
      "\n"
     ]
    },
    {
     "name": "stderr",
     "output_type": "stream",
     "text": [
      "Epoch 1/50: 100%|██████████| 5/5 [00:00<00:00, 12.14it/s, loss=2.3431e-01]\n"
     ]
    },
    {
     "name": "stdout",
     "output_type": "stream",
     "text": [
      "Epoch 1/50, Train Loss: 2.1475e-01, Test Loss: 0.7139\n",
      "Epoch 1/50, Train Accuracy: 77.21%, Test Accuracy: 59.35%\n",
      "Epoch 1/50, Train AUC: 84.57%, Test AUC: 67.68%\n",
      "Classification Report on Val Set : \n",
      "              precision    recall  f1-score   support\n",
      "\n",
      "   No Cancer       0.95      0.61      0.74       255\n",
      "      Cancer       0.15      0.67      0.25        27\n",
      "\n",
      "    accuracy                           0.61       282\n",
      "   macro avg       0.55      0.64      0.49       282\n",
      "weighted avg       0.87      0.61      0.69       282\n",
      "\n"
     ]
    },
    {
     "name": "stderr",
     "output_type": "stream",
     "text": [
      "Epoch 2/50: 100%|██████████| 5/5 [00:00<00:00, 16.51it/s, loss=6.2987e-02]\n"
     ]
    },
    {
     "name": "stdout",
     "output_type": "stream",
     "text": [
      "Epoch 2/50, Train Loss: 1.2519e-01, Test Loss: 0.6344\n",
      "Epoch 2/50, Train Accuracy: 78.71%, Test Accuracy: 55.19%\n",
      "Epoch 2/50, Train AUC: 89.41%, Test AUC: 59.24%\n",
      "Classification Report on Val Set : \n",
      "              precision    recall  f1-score   support\n",
      "\n",
      "   No Cancer       0.92      0.56      0.70       255\n",
      "      Cancer       0.11      0.52      0.18        27\n",
      "\n",
      "    accuracy                           0.56       282\n",
      "   macro avg       0.51      0.54      0.44       282\n",
      "weighted avg       0.84      0.56      0.65       282\n",
      "\n"
     ]
    },
    {
     "name": "stderr",
     "output_type": "stream",
     "text": [
      "Epoch 3/50: 100%|██████████| 5/5 [00:00<00:00, 15.58it/s, loss=4.0327e-02]\n"
     ]
    },
    {
     "name": "stdout",
     "output_type": "stream",
     "text": [
      "Epoch 3/50, Train Loss: 5.9472e-02, Test Loss: 0.3871\n",
      "Epoch 3/50, Train Accuracy: 80.44%, Test Accuracy: 54.47%\n",
      "Epoch 3/50, Train AUC: 94.36%, Test AUC: 61.19%\n",
      "Classification Report on Val Set : \n",
      "              precision    recall  f1-score   support\n",
      "\n",
      "   No Cancer       0.93      0.59      0.72       255\n",
      "      Cancer       0.13      0.59      0.22        27\n",
      "\n",
      "    accuracy                           0.59       282\n",
      "   macro avg       0.53      0.59      0.47       282\n",
      "weighted avg       0.86      0.59      0.67       282\n",
      "\n"
     ]
    },
    {
     "name": "stderr",
     "output_type": "stream",
     "text": [
      "Epoch 4/50: 100%|██████████| 5/5 [00:00<00:00, 16.01it/s, loss=3.9075e-02]\n"
     ]
    },
    {
     "name": "stdout",
     "output_type": "stream",
     "text": [
      "Epoch 4/50, Train Loss: 4.6788e-02, Test Loss: 0.2319\n",
      "Epoch 4/50, Train Accuracy: 81.14%, Test Accuracy: 59.40%\n",
      "Epoch 4/50, Train AUC: 93.12%, Test AUC: 64.58%\n",
      "Classification Report on Val Set : \n",
      "              precision    recall  f1-score   support\n",
      "\n",
      "   No Cancer       0.93      0.65      0.77       255\n",
      "      Cancer       0.14      0.56      0.23        27\n",
      "\n",
      "    accuracy                           0.64       282\n",
      "   macro avg       0.54      0.60      0.50       282\n",
      "weighted avg       0.86      0.64      0.72       282\n",
      "\n"
     ]
    },
    {
     "name": "stderr",
     "output_type": "stream",
     "text": [
      "Epoch 5/50: 100%|██████████| 5/5 [00:00<00:00, 16.51it/s, loss=5.2690e-02]\n"
     ]
    },
    {
     "name": "stdout",
     "output_type": "stream",
     "text": [
      "Epoch 5/50, Train Loss: 1.0822e-02, Test Loss: 0.1581\n",
      "Epoch 5/50, Train Accuracy: 92.72%, Test Accuracy: 68.19%\n",
      "Epoch 5/50, Train AUC: 97.70%, Test AUC: 63.01%\n",
      "Classification Report on Val Set : \n",
      "              precision    recall  f1-score   support\n",
      "\n",
      "   No Cancer       0.93      0.75      0.83       255\n",
      "      Cancer       0.16      0.44      0.23        27\n",
      "\n",
      "    accuracy                           0.72       282\n",
      "   macro avg       0.54      0.60      0.53       282\n",
      "weighted avg       0.85      0.72      0.77       282\n",
      "\n"
     ]
    },
    {
     "name": "stderr",
     "output_type": "stream",
     "text": [
      "Epoch 6/50: 100%|██████████| 5/5 [00:00<00:00, 16.50it/s, loss=1.1969e-02]\n"
     ]
    },
    {
     "name": "stdout",
     "output_type": "stream",
     "text": [
      "Epoch 6/50, Train Loss: 1.3972e-02, Test Loss: 0.1335\n",
      "Epoch 6/50, Train Accuracy: 90.33%, Test Accuracy: 70.51%\n",
      "Epoch 6/50, Train AUC: 97.43%, Test AUC: 61.73%\n",
      "Classification Report on Val Set : \n",
      "              precision    recall  f1-score   support\n",
      "\n",
      "   No Cancer       0.92      0.78      0.84       255\n",
      "      Cancer       0.14      0.33      0.20        27\n",
      "\n",
      "    accuracy                           0.74       282\n",
      "   macro avg       0.53      0.56      0.52       282\n",
      "weighted avg       0.84      0.74      0.78       282\n",
      "\n"
     ]
    },
    {
     "name": "stderr",
     "output_type": "stream",
     "text": [
      "Epoch 7/50: 100%|██████████| 5/5 [00:00<00:00, 15.60it/s, loss=1.1941e-02]\n"
     ]
    },
    {
     "name": "stdout",
     "output_type": "stream",
     "text": [
      "Epoch 7/50, Train Loss: 7.5935e-03, Test Loss: 0.0997\n",
      "Epoch 7/50, Train Accuracy: 95.44%, Test Accuracy: 74.92%\n",
      "Epoch 7/50, Train AUC: 97.87%, Test AUC: 61.99%\n",
      "Classification Report on Val Set : \n",
      "              precision    recall  f1-score   support\n",
      "\n",
      "   No Cancer       0.92      0.84      0.87       255\n",
      "      Cancer       0.16      0.30      0.21        27\n",
      "\n",
      "    accuracy                           0.78       282\n",
      "   macro avg       0.54      0.57      0.54       282\n",
      "weighted avg       0.85      0.78      0.81       282\n",
      "\n"
     ]
    },
    {
     "name": "stderr",
     "output_type": "stream",
     "text": [
      "Epoch 8/50: 100%|██████████| 5/5 [00:00<00:00, 14.53it/s, loss=1.4667e-02]\n"
     ]
    },
    {
     "name": "stdout",
     "output_type": "stream",
     "text": [
      "Epoch 8/50, Train Loss: 5.8416e-03, Test Loss: 0.0874\n",
      "Epoch 8/50, Train Accuracy: 97.02%, Test Accuracy: 78.79%\n",
      "Epoch 8/50, Train AUC: 98.56%, Test AUC: 61.48%\n",
      "Classification Report on Val Set : \n",
      "              precision    recall  f1-score   support\n",
      "\n",
      "   No Cancer       0.92      0.87      0.89       255\n",
      "      Cancer       0.17      0.26      0.21        27\n",
      "\n",
      "    accuracy                           0.81       282\n",
      "   macro avg       0.54      0.56      0.55       282\n",
      "weighted avg       0.85      0.81      0.83       282\n",
      "\n"
     ]
    },
    {
     "name": "stderr",
     "output_type": "stream",
     "text": [
      "Epoch 9/50: 100%|██████████| 5/5 [00:00<00:00, 15.59it/s, loss=4.1132e-03]\n"
     ]
    },
    {
     "name": "stdout",
     "output_type": "stream",
     "text": [
      "Epoch 9/50, Train Loss: 2.6712e-03, Test Loss: 0.0853\n",
      "Epoch 9/50, Train Accuracy: 97.95%, Test Accuracy: 79.57%\n",
      "Epoch 9/50, Train AUC: 99.19%, Test AUC: 61.82%\n",
      "Classification Report on Val Set : \n",
      "              precision    recall  f1-score   support\n",
      "\n",
      "   No Cancer       0.92      0.88      0.90       255\n",
      "      Cancer       0.18      0.26      0.22        27\n",
      "\n",
      "    accuracy                           0.82       282\n",
      "   macro avg       0.55      0.57      0.56       282\n",
      "weighted avg       0.85      0.82      0.83       282\n",
      "\n"
     ]
    },
    {
     "name": "stderr",
     "output_type": "stream",
     "text": [
      "Epoch 10/50: 100%|██████████| 5/5 [00:00<00:00, 16.07it/s, loss=4.8222e-03]\n"
     ]
    },
    {
     "name": "stdout",
     "output_type": "stream",
     "text": [
      "Epoch 10/50, Train Loss: 2.9414e-03, Test Loss: 0.0894\n",
      "Epoch 10/50, Train Accuracy: 97.34%, Test Accuracy: 80.33%\n",
      "Epoch 10/50, Train AUC: 99.25%, Test AUC: 61.42%\n",
      "Classification Report on Val Set : \n",
      "              precision    recall  f1-score   support\n",
      "\n",
      "   No Cancer       0.92      0.87      0.90       255\n",
      "      Cancer       0.18      0.26      0.21        27\n",
      "\n",
      "    accuracy                           0.82       282\n",
      "   macro avg       0.55      0.57      0.55       282\n",
      "weighted avg       0.85      0.82      0.83       282\n",
      "\n"
     ]
    },
    {
     "name": "stderr",
     "output_type": "stream",
     "text": [
      "Epoch 11/50: 100%|██████████| 5/5 [00:00<00:00, 16.67it/s, loss=1.0368e-02]\n"
     ]
    },
    {
     "name": "stdout",
     "output_type": "stream",
     "text": [
      "Epoch 11/50, Train Loss: 2.5521e-03, Test Loss: 0.0881\n",
      "Epoch 11/50, Train Accuracy: 97.78%, Test Accuracy: 79.31%\n",
      "Epoch 11/50, Train AUC: 99.18%, Test AUC: 61.15%\n",
      "Classification Report on Val Set : \n",
      "              precision    recall  f1-score   support\n",
      "\n",
      "   No Cancer       0.91      0.88      0.90       255\n",
      "      Cancer       0.16      0.22      0.19        27\n",
      "\n",
      "    accuracy                           0.82       282\n",
      "   macro avg       0.54      0.55      0.54       282\n",
      "weighted avg       0.84      0.82      0.83       282\n",
      "\n"
     ]
    },
    {
     "name": "stderr",
     "output_type": "stream",
     "text": [
      "Epoch 12/50: 100%|██████████| 5/5 [00:00<00:00, 15.87it/s, loss=6.4697e-03]\n"
     ]
    },
    {
     "name": "stdout",
     "output_type": "stream",
     "text": [
      "Epoch 12/50, Train Loss: 3.8477e-03, Test Loss: 0.0829\n",
      "Epoch 12/50, Train Accuracy: 96.22%, Test Accuracy: 80.35%\n",
      "Epoch 12/50, Train AUC: 98.77%, Test AUC: 61.98%\n",
      "Classification Report on Val Set : \n",
      "              precision    recall  f1-score   support\n",
      "\n",
      "   No Cancer       0.92      0.89      0.90       255\n",
      "      Cancer       0.18      0.22      0.20        27\n",
      "\n",
      "    accuracy                           0.83       282\n",
      "   macro avg       0.55      0.56      0.55       282\n",
      "weighted avg       0.85      0.83      0.84       282\n",
      "\n"
     ]
    },
    {
     "name": "stderr",
     "output_type": "stream",
     "text": [
      "Epoch 13/50: 100%|██████████| 5/5 [00:00<00:00, 15.03it/s, loss=6.5772e-03]\n"
     ]
    },
    {
     "name": "stdout",
     "output_type": "stream",
     "text": [
      "Epoch 13/50, Train Loss: 2.2365e-03, Test Loss: 0.0758\n",
      "Epoch 13/50, Train Accuracy: 96.66%, Test Accuracy: 82.15%\n",
      "Epoch 13/50, Train AUC: 99.35%, Test AUC: 62.72%\n",
      "Classification Report on Val Set : \n",
      "              precision    recall  f1-score   support\n",
      "\n",
      "   No Cancer       0.92      0.90      0.91       255\n",
      "      Cancer       0.22      0.26      0.24        27\n",
      "\n",
      "    accuracy                           0.84       282\n",
      "   macro avg       0.57      0.58      0.57       282\n",
      "weighted avg       0.85      0.84      0.85       282\n",
      "\n"
     ]
    },
    {
     "name": "stderr",
     "output_type": "stream",
     "text": [
      "Epoch 14/50: 100%|██████████| 5/5 [00:00<00:00, 15.94it/s, loss=4.1125e-03]\n"
     ]
    },
    {
     "name": "stdout",
     "output_type": "stream",
     "text": [
      "Epoch 14/50, Train Loss: 9.3580e-04, Test Loss: 0.0725\n",
      "Epoch 14/50, Train Accuracy: 98.59%, Test Accuracy: 84.98%\n",
      "Epoch 14/50, Train AUC: 99.88%, Test AUC: 62.85%\n",
      "Classification Report on Val Set : \n",
      "              precision    recall  f1-score   support\n",
      "\n",
      "   No Cancer       0.92      0.91      0.92       255\n",
      "      Cancer       0.26      0.30      0.28        27\n",
      "\n",
      "    accuracy                           0.85       282\n",
      "   macro avg       0.59      0.60      0.60       282\n",
      "weighted avg       0.86      0.85      0.86       282\n",
      "\n"
     ]
    },
    {
     "name": "stderr",
     "output_type": "stream",
     "text": [
      "Epoch 15/50: 100%|██████████| 5/5 [00:00<00:00, 16.18it/s, loss=1.5978e-03]\n"
     ]
    },
    {
     "name": "stdout",
     "output_type": "stream",
     "text": [
      "Epoch 15/50, Train Loss: 1.3158e-03, Test Loss: 0.0747\n",
      "Epoch 15/50, Train Accuracy: 97.78%, Test Accuracy: 84.98%\n",
      "Epoch 15/50, Train AUC: 99.61%, Test AUC: 62.85%\n",
      "Classification Report on Val Set : \n",
      "              precision    recall  f1-score   support\n",
      "\n",
      "   No Cancer       0.92      0.92      0.92       255\n",
      "      Cancer       0.22      0.22      0.22        27\n",
      "\n",
      "    accuracy                           0.85       282\n",
      "   macro avg       0.57      0.57      0.57       282\n",
      "weighted avg       0.85      0.85      0.85       282\n",
      "\n"
     ]
    },
    {
     "name": "stderr",
     "output_type": "stream",
     "text": [
      "Epoch 16/50: 100%|██████████| 5/5 [00:00<00:00, 15.64it/s, loss=5.0822e-03]\n"
     ]
    },
    {
     "name": "stdout",
     "output_type": "stream",
     "text": [
      "Epoch 16/50, Train Loss: 9.9464e-04, Test Loss: 0.0766\n",
      "Epoch 16/50, Train Accuracy: 98.28%, Test Accuracy: 82.93%\n",
      "Epoch 16/50, Train AUC: 99.37%, Test AUC: 62.76%\n",
      "Classification Report on Val Set : \n",
      "              precision    recall  f1-score   support\n",
      "\n",
      "   No Cancer       0.92      0.92      0.92       255\n",
      "      Cancer       0.22      0.22      0.22        27\n",
      "\n",
      "    accuracy                           0.85       282\n",
      "   macro avg       0.57      0.57      0.57       282\n",
      "weighted avg       0.85      0.85      0.85       282\n",
      "\n"
     ]
    },
    {
     "name": "stderr",
     "output_type": "stream",
     "text": [
      "Epoch 17/50: 100%|██████████| 5/5 [00:00<00:00,  9.81it/s, loss=3.6057e-03]\n"
     ]
    },
    {
     "name": "stdout",
     "output_type": "stream",
     "text": [
      "Epoch 17/50, Train Loss: 5.7533e-04, Test Loss: 0.0747\n",
      "Epoch 17/50, Train Accuracy: 98.39%, Test Accuracy: 83.19%\n",
      "Epoch 17/50, Train AUC: 99.93%, Test AUC: 63.14%\n",
      "Classification Report on Val Set : \n",
      "              precision    recall  f1-score   support\n",
      "\n",
      "   No Cancer       0.92      0.92      0.92       255\n",
      "      Cancer       0.23      0.22      0.23        27\n",
      "\n",
      "    accuracy                           0.85       282\n",
      "   macro avg       0.57      0.57      0.57       282\n",
      "weighted avg       0.85      0.85      0.85       282\n",
      "\n"
     ]
    },
    {
     "name": "stderr",
     "output_type": "stream",
     "text": [
      "Epoch 18/50: 100%|██████████| 5/5 [00:00<00:00, 17.43it/s, loss=7.5168e-04]\n"
     ]
    },
    {
     "name": "stdout",
     "output_type": "stream",
     "text": [
      "Epoch 18/50, Train Loss: 5.3412e-04, Test Loss: 0.0696\n",
      "Epoch 18/50, Train Accuracy: 98.42%, Test Accuracy: 85.76%\n",
      "Epoch 18/50, Train AUC: 99.86%, Test AUC: 63.09%\n",
      "Classification Report on Val Set : \n",
      "              precision    recall  f1-score   support\n",
      "\n",
      "   No Cancer       0.92      0.93      0.92       255\n",
      "      Cancer       0.25      0.22      0.24        27\n",
      "\n",
      "    accuracy                           0.86       282\n",
      "   macro avg       0.58      0.58      0.58       282\n",
      "weighted avg       0.85      0.86      0.86       282\n",
      "\n"
     ]
    },
    {
     "name": "stderr",
     "output_type": "stream",
     "text": [
      "Epoch 19/50: 100%|██████████| 5/5 [00:00<00:00, 15.53it/s, loss=9.4888e-05]\n"
     ]
    },
    {
     "name": "stdout",
     "output_type": "stream",
     "text": [
      "Epoch 19/50, Train Loss: 4.4604e-04, Test Loss: 0.0682\n",
      "Epoch 19/50, Train Accuracy: 98.59%, Test Accuracy: 86.28%\n",
      "Epoch 19/50, Train AUC: 99.99%, Test AUC: 63.05%\n",
      "Classification Report on Val Set : \n",
      "              precision    recall  f1-score   support\n",
      "\n",
      "   No Cancer       0.92      0.94      0.93       255\n",
      "      Cancer       0.27      0.22      0.24        27\n",
      "\n",
      "    accuracy                           0.87       282\n",
      "   macro avg       0.60      0.58      0.59       282\n",
      "weighted avg       0.86      0.87      0.86       282\n",
      "\n"
     ]
    },
    {
     "name": "stderr",
     "output_type": "stream",
     "text": [
      "Epoch 20/50: 100%|██████████| 5/5 [00:00<00:00, 16.90it/s, loss=4.1915e-04]\n"
     ]
    },
    {
     "name": "stdout",
     "output_type": "stream",
     "text": [
      "Epoch 20/50, Train Loss: 4.2721e-04, Test Loss: 0.0687\n",
      "Epoch 20/50, Train Accuracy: 98.91%, Test Accuracy: 87.56%\n",
      "Epoch 20/50, Train AUC: 99.86%, Test AUC: 62.88%\n",
      "Classification Report on Val Set : \n",
      "              precision    recall  f1-score   support\n",
      "\n",
      "   No Cancer       0.92      0.94      0.93       255\n",
      "      Cancer       0.29      0.22      0.25        27\n",
      "\n",
      "    accuracy                           0.87       282\n",
      "   macro avg       0.60      0.58      0.59       282\n",
      "weighted avg       0.86      0.87      0.87       282\n",
      "\n"
     ]
    },
    {
     "name": "stderr",
     "output_type": "stream",
     "text": [
      "Epoch 21/50: 100%|██████████| 5/5 [00:00<00:00, 15.31it/s, loss=2.0331e-03]\n"
     ]
    },
    {
     "name": "stdout",
     "output_type": "stream",
     "text": [
      "Epoch 21/50, Train Loss: 3.8189e-04, Test Loss: 0.0717\n",
      "Epoch 21/50, Train Accuracy: 98.58%, Test Accuracy: 86.28%\n",
      "Epoch 21/50, Train AUC: 99.99%, Test AUC: 62.76%\n",
      "Classification Report on Val Set : \n",
      "              precision    recall  f1-score   support\n",
      "\n",
      "   No Cancer       0.92      0.94      0.93       255\n",
      "      Cancer       0.27      0.22      0.24        27\n",
      "\n",
      "    accuracy                           0.87       282\n",
      "   macro avg       0.60      0.58      0.59       282\n",
      "weighted avg       0.86      0.87      0.86       282\n",
      "\n"
     ]
    },
    {
     "name": "stderr",
     "output_type": "stream",
     "text": [
      "Epoch 22/50: 100%|██████████| 5/5 [00:00<00:00, 17.06it/s, loss=1.0153e-03]\n"
     ]
    },
    {
     "name": "stdout",
     "output_type": "stream",
     "text": [
      "Epoch 22/50, Train Loss: 1.5026e-04, Test Loss: 0.0688\n",
      "Epoch 22/50, Train Accuracy: 99.38%, Test Accuracy: 86.54%\n",
      "Epoch 22/50, Train AUC: 100.00%, Test AUC: 62.90%\n",
      "Classification Report on Val Set : \n",
      "              precision    recall  f1-score   support\n",
      "\n",
      "   No Cancer       0.92      0.94      0.93       255\n",
      "      Cancer       0.29      0.22      0.25        27\n",
      "\n",
      "    accuracy                           0.87       282\n",
      "   macro avg       0.60      0.58      0.59       282\n",
      "weighted avg       0.86      0.87      0.87       282\n",
      "\n"
     ]
    },
    {
     "name": "stderr",
     "output_type": "stream",
     "text": [
      "Epoch 23/50: 100%|██████████| 5/5 [00:00<00:00, 17.03it/s, loss=7.4833e-04]\n"
     ]
    },
    {
     "name": "stdout",
     "output_type": "stream",
     "text": [
      "Epoch 23/50, Train Loss: 2.1001e-04, Test Loss: 0.0687\n",
      "Epoch 23/50, Train Accuracy: 98.73%, Test Accuracy: 88.34%\n",
      "Epoch 23/50, Train AUC: 100.00%, Test AUC: 62.82%\n",
      "Classification Report on Val Set : \n",
      "              precision    recall  f1-score   support\n",
      "\n",
      "   No Cancer       0.92      0.95      0.94       255\n",
      "      Cancer       0.33      0.22      0.27        27\n",
      "\n",
      "    accuracy                           0.88       282\n",
      "   macro avg       0.63      0.59      0.60       282\n",
      "weighted avg       0.86      0.88      0.87       282\n",
      "\n"
     ]
    },
    {
     "name": "stderr",
     "output_type": "stream",
     "text": [
      "Epoch 24/50: 100%|██████████| 5/5 [00:00<00:00, 17.05it/s, loss=8.2468e-04]\n"
     ]
    },
    {
     "name": "stdout",
     "output_type": "stream",
     "text": [
      "Epoch 24/50, Train Loss: 2.5889e-04, Test Loss: 0.0693\n",
      "Epoch 24/50, Train Accuracy: 98.42%, Test Accuracy: 86.80%\n",
      "Epoch 24/50, Train AUC: 100.00%, Test AUC: 62.73%\n",
      "Classification Report on Val Set : \n",
      "              precision    recall  f1-score   support\n",
      "\n",
      "   No Cancer       0.92      0.95      0.93       255\n",
      "      Cancer       0.30      0.22      0.26        27\n",
      "\n",
      "    accuracy                           0.88       282\n",
      "   macro avg       0.61      0.58      0.59       282\n",
      "weighted avg       0.86      0.88      0.87       282\n",
      "\n"
     ]
    },
    {
     "name": "stderr",
     "output_type": "stream",
     "text": [
      "Epoch 25/50: 100%|██████████| 5/5 [00:00<00:00, 14.33it/s, loss=3.9208e-04]\n"
     ]
    },
    {
     "name": "stdout",
     "output_type": "stream",
     "text": [
      "Epoch 25/50, Train Loss: 2.7529e-04, Test Loss: 0.0669\n",
      "Epoch 25/50, Train Accuracy: 98.12%, Test Accuracy: 89.62%\n",
      "Epoch 25/50, Train AUC: 100.00%, Test AUC: 62.79%\n",
      "Classification Report on Val Set : \n",
      "              precision    recall  f1-score   support\n",
      "\n",
      "   No Cancer       0.92      0.96      0.94       255\n",
      "      Cancer       0.33      0.19      0.24        27\n",
      "\n",
      "    accuracy                           0.89       282\n",
      "   macro avg       0.63      0.57      0.59       282\n",
      "weighted avg       0.86      0.89      0.87       282\n",
      "\n"
     ]
    },
    {
     "name": "stderr",
     "output_type": "stream",
     "text": [
      "Epoch 26/50: 100%|██████████| 5/5 [00:00<00:00, 17.29it/s, loss=3.3550e-04]\n"
     ]
    },
    {
     "name": "stdout",
     "output_type": "stream",
     "text": [
      "Epoch 26/50, Train Loss: 1.6926e-04, Test Loss: 0.0652\n",
      "Epoch 26/50, Train Accuracy: 98.88%, Test Accuracy: 89.62%\n",
      "Epoch 26/50, Train AUC: 100.00%, Test AUC: 62.64%\n",
      "Classification Report on Val Set : \n",
      "              precision    recall  f1-score   support\n",
      "\n",
      "   No Cancer       0.92      0.96      0.94       255\n",
      "      Cancer       0.33      0.19      0.24        27\n",
      "\n",
      "    accuracy                           0.89       282\n",
      "   macro avg       0.63      0.57      0.59       282\n",
      "weighted avg       0.86      0.89      0.87       282\n",
      "\n"
     ]
    },
    {
     "name": "stderr",
     "output_type": "stream",
     "text": [
      "Epoch 27/50: 100%|██████████| 5/5 [00:00<00:00, 16.03it/s, loss=1.6022e-04]\n"
     ]
    },
    {
     "name": "stdout",
     "output_type": "stream",
     "text": [
      "Epoch 27/50, Train Loss: 1.9466e-04, Test Loss: 0.0655\n",
      "Epoch 27/50, Train Accuracy: 98.89%, Test Accuracy: 89.88%\n",
      "Epoch 27/50, Train AUC: 100.00%, Test AUC: 62.14%\n",
      "Classification Report on Val Set : \n",
      "              precision    recall  f1-score   support\n",
      "\n",
      "   No Cancer       0.92      0.96      0.94       255\n",
      "      Cancer       0.36      0.19      0.24        27\n",
      "\n",
      "    accuracy                           0.89       282\n",
      "   macro avg       0.64      0.57      0.59       282\n",
      "weighted avg       0.86      0.89      0.87       282\n",
      "\n"
     ]
    },
    {
     "name": "stderr",
     "output_type": "stream",
     "text": [
      "Epoch 28/50: 100%|██████████| 5/5 [00:00<00:00, 16.86it/s, loss=3.7263e-04]\n"
     ]
    },
    {
     "name": "stdout",
     "output_type": "stream",
     "text": [
      "Epoch 28/50, Train Loss: 1.3445e-04, Test Loss: 0.0673\n",
      "Epoch 28/50, Train Accuracy: 98.73%, Test Accuracy: 89.88%\n",
      "Epoch 28/50, Train AUC: 100.00%, Test AUC: 62.08%\n",
      "Classification Report on Val Set : \n",
      "              precision    recall  f1-score   support\n",
      "\n",
      "   No Cancer       0.92      0.96      0.94       255\n",
      "      Cancer       0.36      0.19      0.24        27\n",
      "\n",
      "    accuracy                           0.89       282\n",
      "   macro avg       0.64      0.57      0.59       282\n",
      "weighted avg       0.86      0.89      0.87       282\n",
      "\n"
     ]
    },
    {
     "name": "stderr",
     "output_type": "stream",
     "text": [
      "Epoch 29/50: 100%|██████████| 5/5 [00:00<00:00, 16.94it/s, loss=2.6661e-04]\n"
     ]
    },
    {
     "name": "stdout",
     "output_type": "stream",
     "text": [
      "Epoch 29/50, Train Loss: 7.7178e-05, Test Loss: 0.0695\n",
      "Epoch 29/50, Train Accuracy: 99.22%, Test Accuracy: 90.14%\n",
      "Epoch 29/50, Train AUC: 100.00%, Test AUC: 61.76%\n",
      "Classification Report on Val Set : \n",
      "              precision    recall  f1-score   support\n",
      "\n",
      "   No Cancer       0.92      0.97      0.94       255\n",
      "      Cancer       0.38      0.19      0.25        27\n",
      "\n",
      "    accuracy                           0.89       282\n",
      "   macro avg       0.65      0.58      0.60       282\n",
      "weighted avg       0.87      0.89      0.88       282\n",
      "\n"
     ]
    },
    {
     "name": "stderr",
     "output_type": "stream",
     "text": [
      "Epoch 30/50: 100%|██████████| 5/5 [00:00<00:00, 16.90it/s, loss=2.3124e-04]\n"
     ]
    },
    {
     "name": "stdout",
     "output_type": "stream",
     "text": [
      "Epoch 30/50, Train Loss: 1.6786e-04, Test Loss: 0.0695\n",
      "Epoch 30/50, Train Accuracy: 98.58%, Test Accuracy: 90.14%\n",
      "Epoch 30/50, Train AUC: 100.00%, Test AUC: 61.79%\n",
      "Classification Report on Val Set : \n",
      "              precision    recall  f1-score   support\n",
      "\n",
      "   No Cancer       0.92      0.97      0.94       255\n",
      "      Cancer       0.38      0.19      0.25        27\n",
      "\n",
      "    accuracy                           0.89       282\n",
      "   macro avg       0.65      0.58      0.60       282\n",
      "weighted avg       0.87      0.89      0.88       282\n",
      "\n"
     ]
    },
    {
     "name": "stderr",
     "output_type": "stream",
     "text": [
      "Epoch 31/50: 100%|██████████| 5/5 [00:00<00:00, 16.17it/s, loss=3.2112e-04]\n"
     ]
    },
    {
     "name": "stdout",
     "output_type": "stream",
     "text": [
      "Epoch 31/50, Train Loss: 1.0080e-04, Test Loss: 0.0702\n",
      "Epoch 31/50, Train Accuracy: 98.58%, Test Accuracy: 90.14%\n",
      "Epoch 31/50, Train AUC: 100.00%, Test AUC: 61.71%\n",
      "Classification Report on Val Set : \n",
      "              precision    recall  f1-score   support\n",
      "\n",
      "   No Cancer       0.92      0.97      0.94       255\n",
      "      Cancer       0.36      0.15      0.21        27\n",
      "\n",
      "    accuracy                           0.89       282\n",
      "   macro avg       0.64      0.56      0.58       282\n",
      "weighted avg       0.86      0.89      0.87       282\n",
      "\n"
     ]
    },
    {
     "name": "stderr",
     "output_type": "stream",
     "text": [
      "Epoch 32/50: 100%|██████████| 5/5 [00:00<00:00, 16.10it/s, loss=2.1324e-04]\n"
     ]
    },
    {
     "name": "stdout",
     "output_type": "stream",
     "text": [
      "Epoch 32/50, Train Loss: 6.7342e-05, Test Loss: 0.0686\n",
      "Epoch 32/50, Train Accuracy: 98.91%, Test Accuracy: 89.88%\n",
      "Epoch 32/50, Train AUC: 100.00%, Test AUC: 61.99%\n",
      "Classification Report on Val Set : \n",
      "              precision    recall  f1-score   support\n",
      "\n",
      "   No Cancer       0.91      0.97      0.94       255\n",
      "      Cancer       0.33      0.15      0.21        27\n",
      "\n",
      "    accuracy                           0.89       282\n",
      "   macro avg       0.62      0.56      0.57       282\n",
      "weighted avg       0.86      0.89      0.87       282\n",
      "\n"
     ]
    },
    {
     "name": "stderr",
     "output_type": "stream",
     "text": [
      "Epoch 33/50: 100%|██████████| 5/5 [00:00<00:00, 16.88it/s, loss=3.3292e-04]\n"
     ]
    },
    {
     "name": "stdout",
     "output_type": "stream",
     "text": [
      "Epoch 33/50, Train Loss: 5.4533e-05, Test Loss: 0.0682\n",
      "Epoch 33/50, Train Accuracy: 99.69%, Test Accuracy: 89.62%\n",
      "Epoch 33/50, Train AUC: 100.00%, Test AUC: 62.11%\n",
      "Classification Report on Val Set : \n",
      "              precision    recall  f1-score   support\n",
      "\n",
      "   No Cancer       0.91      0.96      0.94       255\n",
      "      Cancer       0.31      0.15      0.20        27\n",
      "\n",
      "    accuracy                           0.89       282\n",
      "   macro avg       0.61      0.56      0.57       282\n",
      "weighted avg       0.86      0.89      0.87       282\n",
      "\n"
     ]
    },
    {
     "name": "stderr",
     "output_type": "stream",
     "text": [
      "Epoch 34/50: 100%|██████████| 5/5 [00:00<00:00, 12.83it/s, loss=2.8599e-04]\n"
     ]
    },
    {
     "name": "stdout",
     "output_type": "stream",
     "text": [
      "Epoch 34/50, Train Loss: 8.8871e-05, Test Loss: 0.0655\n",
      "Epoch 34/50, Train Accuracy: 99.20%, Test Accuracy: 90.14%\n",
      "Epoch 34/50, Train AUC: 100.00%, Test AUC: 62.40%\n",
      "Classification Report on Val Set : \n",
      "              precision    recall  f1-score   support\n",
      "\n",
      "   No Cancer       0.92      0.97      0.94       255\n",
      "      Cancer       0.36      0.15      0.21        27\n",
      "\n",
      "    accuracy                           0.89       282\n",
      "   macro avg       0.64      0.56      0.58       282\n",
      "weighted avg       0.86      0.89      0.87       282\n",
      "\n"
     ]
    },
    {
     "name": "stderr",
     "output_type": "stream",
     "text": [
      "Epoch 35/50: 100%|██████████| 5/5 [00:00<00:00, 16.84it/s, loss=1.7258e-04]\n"
     ]
    },
    {
     "name": "stdout",
     "output_type": "stream",
     "text": [
      "Epoch 35/50, Train Loss: 5.2332e-05, Test Loss: 0.0646\n",
      "Epoch 35/50, Train Accuracy: 100.00%, Test Accuracy: 90.14%\n",
      "Epoch 35/50, Train AUC: 100.00%, Test AUC: 62.28%\n",
      "Classification Report on Val Set : \n",
      "              precision    recall  f1-score   support\n",
      "\n",
      "   No Cancer       0.92      0.97      0.94       255\n",
      "      Cancer       0.36      0.15      0.21        27\n",
      "\n",
      "    accuracy                           0.89       282\n",
      "   macro avg       0.64      0.56      0.58       282\n",
      "weighted avg       0.86      0.89      0.87       282\n",
      "\n"
     ]
    },
    {
     "name": "stderr",
     "output_type": "stream",
     "text": [
      "Epoch 36/50: 100%|██████████| 5/5 [00:00<00:00, 15.93it/s, loss=6.5096e-04]\n"
     ]
    },
    {
     "name": "stdout",
     "output_type": "stream",
     "text": [
      "Epoch 36/50, Train Loss: 6.7821e-05, Test Loss: 0.0640\n",
      "Epoch 36/50, Train Accuracy: 99.38%, Test Accuracy: 90.14%\n",
      "Epoch 36/50, Train AUC: 100.00%, Test AUC: 62.11%\n",
      "Classification Report on Val Set : \n",
      "              precision    recall  f1-score   support\n",
      "\n",
      "   No Cancer       0.92      0.97      0.94       255\n",
      "      Cancer       0.36      0.15      0.21        27\n",
      "\n",
      "    accuracy                           0.89       282\n",
      "   macro avg       0.64      0.56      0.58       282\n",
      "weighted avg       0.86      0.89      0.87       282\n",
      "\n"
     ]
    },
    {
     "name": "stderr",
     "output_type": "stream",
     "text": [
      "Epoch 37/50: 100%|██████████| 5/5 [00:00<00:00, 16.79it/s, loss=1.0382e-03]\n"
     ]
    },
    {
     "name": "stdout",
     "output_type": "stream",
     "text": [
      "Epoch 37/50, Train Loss: 5.8548e-05, Test Loss: 0.0652\n",
      "Epoch 37/50, Train Accuracy: 99.38%, Test Accuracy: 90.14%\n",
      "Epoch 37/50, Train AUC: 100.00%, Test AUC: 61.70%\n",
      "Classification Report on Val Set : \n",
      "              precision    recall  f1-score   support\n",
      "\n",
      "   No Cancer       0.92      0.97      0.94       255\n",
      "      Cancer       0.36      0.15      0.21        27\n",
      "\n",
      "    accuracy                           0.89       282\n",
      "   macro avg       0.64      0.56      0.58       282\n",
      "weighted avg       0.86      0.89      0.87       282\n",
      "\n"
     ]
    },
    {
     "name": "stderr",
     "output_type": "stream",
     "text": [
      "Epoch 38/50: 100%|██████████| 5/5 [00:00<00:00, 14.84it/s, loss=1.5267e-03]\n"
     ]
    },
    {
     "name": "stdout",
     "output_type": "stream",
     "text": [
      "Epoch 38/50, Train Loss: 8.9468e-05, Test Loss: 0.0669\n",
      "Epoch 38/50, Train Accuracy: 99.03%, Test Accuracy: 89.88%\n",
      "Epoch 38/50, Train AUC: 100.00%, Test AUC: 61.70%\n",
      "Classification Report on Val Set : \n",
      "              precision    recall  f1-score   support\n",
      "\n",
      "   No Cancer       0.92      0.96      0.94       255\n",
      "      Cancer       0.36      0.19      0.24        27\n",
      "\n",
      "    accuracy                           0.89       282\n",
      "   macro avg       0.64      0.57      0.59       282\n",
      "weighted avg       0.86      0.89      0.87       282\n",
      "\n"
     ]
    },
    {
     "name": "stderr",
     "output_type": "stream",
     "text": [
      "Epoch 39/50: 100%|██████████| 5/5 [00:00<00:00, 16.09it/s, loss=2.0106e-04]\n"
     ]
    },
    {
     "name": "stdout",
     "output_type": "stream",
     "text": [
      "Epoch 39/50, Train Loss: 6.3354e-05, Test Loss: 0.0644\n",
      "Epoch 39/50, Train Accuracy: 99.06%, Test Accuracy: 90.40%\n",
      "Epoch 39/50, Train AUC: 100.00%, Test AUC: 62.31%\n",
      "Classification Report on Val Set : \n",
      "              precision    recall  f1-score   support\n",
      "\n",
      "   No Cancer       0.92      0.97      0.94       255\n",
      "      Cancer       0.42      0.19      0.26        27\n",
      "\n",
      "    accuracy                           0.90       282\n",
      "   macro avg       0.67      0.58      0.60       282\n",
      "weighted avg       0.87      0.90      0.88       282\n",
      "\n"
     ]
    },
    {
     "name": "stderr",
     "output_type": "stream",
     "text": [
      "Epoch 40/50: 100%|██████████| 5/5 [00:00<00:00, 16.92it/s, loss=1.0640e-04]\n"
     ]
    },
    {
     "name": "stdout",
     "output_type": "stream",
     "text": [
      "Epoch 40/50, Train Loss: 3.7737e-05, Test Loss: 0.0629\n",
      "Epoch 40/50, Train Accuracy: 99.69%, Test Accuracy: 90.40%\n",
      "Epoch 40/50, Train AUC: 100.00%, Test AUC: 62.56%\n",
      "Classification Report on Val Set : \n",
      "              precision    recall  f1-score   support\n",
      "\n",
      "   No Cancer       0.92      0.97      0.94       255\n",
      "      Cancer       0.42      0.19      0.26        27\n",
      "\n",
      "    accuracy                           0.90       282\n",
      "   macro avg       0.67      0.58      0.60       282\n",
      "weighted avg       0.87      0.90      0.88       282\n",
      "\n"
     ]
    },
    {
     "name": "stderr",
     "output_type": "stream",
     "text": [
      "Epoch 41/50: 100%|██████████| 5/5 [00:00<00:00, 16.67it/s, loss=1.8403e-04]\n"
     ]
    },
    {
     "name": "stdout",
     "output_type": "stream",
     "text": [
      "Epoch 41/50, Train Loss: 5.0049e-05, Test Loss: 0.0617\n",
      "Epoch 41/50, Train Accuracy: 99.38%, Test Accuracy: 90.14%\n",
      "Epoch 41/50, Train AUC: 100.00%, Test AUC: 62.66%\n",
      "Classification Report on Val Set : \n",
      "              precision    recall  f1-score   support\n",
      "\n",
      "   No Cancer       0.92      0.97      0.94       255\n",
      "      Cancer       0.38      0.19      0.25        27\n",
      "\n",
      "    accuracy                           0.89       282\n",
      "   macro avg       0.65      0.58      0.60       282\n",
      "weighted avg       0.87      0.89      0.88       282\n",
      "\n"
     ]
    },
    {
     "name": "stderr",
     "output_type": "stream",
     "text": [
      "Epoch 42/50: 100%|██████████| 5/5 [00:00<00:00, 15.79it/s, loss=1.0199e-03]\n"
     ]
    },
    {
     "name": "stdout",
     "output_type": "stream",
     "text": [
      "Epoch 42/50, Train Loss: 3.4347e-05, Test Loss: 0.0619\n",
      "Epoch 42/50, Train Accuracy: 99.69%, Test Accuracy: 90.67%\n",
      "Epoch 42/50, Train AUC: 100.00%, Test AUC: 62.72%\n",
      "Classification Report on Val Set : \n",
      "              precision    recall  f1-score   support\n",
      "\n",
      "   No Cancer       0.92      0.98      0.95       255\n",
      "      Cancer       0.44      0.15      0.22        27\n",
      "\n",
      "    accuracy                           0.90       282\n",
      "   macro avg       0.68      0.56      0.58       282\n",
      "weighted avg       0.87      0.90      0.88       282\n",
      "\n"
     ]
    },
    {
     "name": "stderr",
     "output_type": "stream",
     "text": [
      "Epoch 43/50: 100%|██████████| 5/5 [00:00<00:00, 16.70it/s, loss=5.8217e-05]\n"
     ]
    },
    {
     "name": "stdout",
     "output_type": "stream",
     "text": [
      "Epoch 43/50, Train Loss: 3.1725e-05, Test Loss: 0.0653\n",
      "Epoch 43/50, Train Accuracy: 100.00%, Test Accuracy: 90.67%\n",
      "Epoch 43/50, Train AUC: 100.00%, Test AUC: 62.48%\n",
      "Classification Report on Val Set : \n",
      "              precision    recall  f1-score   support\n",
      "\n",
      "   No Cancer       0.92      0.98      0.95       255\n",
      "      Cancer       0.44      0.15      0.22        27\n",
      "\n",
      "    accuracy                           0.90       282\n",
      "   macro avg       0.68      0.56      0.58       282\n",
      "weighted avg       0.87      0.90      0.88       282\n",
      "\n"
     ]
    },
    {
     "name": "stderr",
     "output_type": "stream",
     "text": [
      "Epoch 44/50: 100%|██████████| 5/5 [00:00<00:00, 13.67it/s, loss=1.2470e-04]\n"
     ]
    },
    {
     "name": "stdout",
     "output_type": "stream",
     "text": [
      "Epoch 44/50, Train Loss: 6.0817e-05, Test Loss: 0.0668\n",
      "Epoch 44/50, Train Accuracy: 99.34%, Test Accuracy: 90.67%\n",
      "Epoch 44/50, Train AUC: 100.00%, Test AUC: 62.43%\n",
      "Classification Report on Val Set : \n",
      "              precision    recall  f1-score   support\n",
      "\n",
      "   No Cancer       0.92      0.98      0.95       255\n",
      "      Cancer       0.44      0.15      0.22        27\n",
      "\n",
      "    accuracy                           0.90       282\n",
      "   macro avg       0.68      0.56      0.58       282\n",
      "weighted avg       0.87      0.90      0.88       282\n",
      "\n"
     ]
    },
    {
     "name": "stderr",
     "output_type": "stream",
     "text": [
      "Epoch 45/50: 100%|██████████| 5/5 [00:00<00:00, 12.61it/s, loss=2.4209e-04]\n"
     ]
    },
    {
     "name": "stdout",
     "output_type": "stream",
     "text": [
      "Epoch 45/50, Train Loss: 5.3034e-05, Test Loss: 0.0667\n",
      "Epoch 45/50, Train Accuracy: 99.19%, Test Accuracy: 90.40%\n",
      "Epoch 45/50, Train AUC: 100.00%, Test AUC: 62.41%\n",
      "Classification Report on Val Set : \n",
      "              precision    recall  f1-score   support\n",
      "\n",
      "   No Cancer       0.92      0.98      0.94       255\n",
      "      Cancer       0.40      0.15      0.22        27\n",
      "\n",
      "    accuracy                           0.90       282\n",
      "   macro avg       0.66      0.56      0.58       282\n",
      "weighted avg       0.87      0.90      0.88       282\n",
      "\n"
     ]
    },
    {
     "name": "stderr",
     "output_type": "stream",
     "text": [
      "Epoch 46/50: 100%|██████████| 5/5 [00:00<00:00, 15.13it/s, loss=5.7459e-04]\n"
     ]
    },
    {
     "name": "stdout",
     "output_type": "stream",
     "text": [
      "Epoch 46/50, Train Loss: 2.5304e-05, Test Loss: 0.0665\n",
      "Epoch 46/50, Train Accuracy: 99.84%, Test Accuracy: 90.40%\n",
      "Epoch 46/50, Train AUC: 100.00%, Test AUC: 62.47%\n",
      "Classification Report on Val Set : \n",
      "              precision    recall  f1-score   support\n",
      "\n",
      "   No Cancer       0.92      0.98      0.94       255\n",
      "      Cancer       0.40      0.15      0.22        27\n",
      "\n",
      "    accuracy                           0.90       282\n",
      "   macro avg       0.66      0.56      0.58       282\n",
      "weighted avg       0.87      0.90      0.88       282\n",
      "\n"
     ]
    },
    {
     "name": "stderr",
     "output_type": "stream",
     "text": [
      "Epoch 47/50: 100%|██████████| 5/5 [00:00<00:00, 16.96it/s, loss=2.1839e-03]\n"
     ]
    },
    {
     "name": "stdout",
     "output_type": "stream",
     "text": [
      "Epoch 47/50, Train Loss: 4.6586e-05, Test Loss: 0.0661\n",
      "Epoch 47/50, Train Accuracy: 99.84%, Test Accuracy: 90.40%\n",
      "Epoch 47/50, Train AUC: 100.00%, Test AUC: 62.40%\n",
      "Classification Report on Val Set : \n",
      "              precision    recall  f1-score   support\n",
      "\n",
      "   No Cancer       0.92      0.98      0.94       255\n",
      "      Cancer       0.40      0.15      0.22        27\n",
      "\n",
      "    accuracy                           0.90       282\n",
      "   macro avg       0.66      0.56      0.58       282\n",
      "weighted avg       0.87      0.90      0.88       282\n",
      "\n"
     ]
    },
    {
     "name": "stderr",
     "output_type": "stream",
     "text": [
      "Epoch 48/50: 100%|██████████| 5/5 [00:00<00:00, 16.89it/s, loss=7.3786e-04]\n"
     ]
    },
    {
     "name": "stdout",
     "output_type": "stream",
     "text": [
      "Epoch 48/50, Train Loss: 1.5489e-05, Test Loss: 0.0655\n",
      "Epoch 48/50, Train Accuracy: 100.00%, Test Accuracy: 90.40%\n",
      "Epoch 48/50, Train AUC: 100.00%, Test AUC: 62.27%\n",
      "Classification Report on Val Set : \n",
      "              precision    recall  f1-score   support\n",
      "\n",
      "   No Cancer       0.92      0.98      0.94       255\n",
      "      Cancer       0.40      0.15      0.22        27\n",
      "\n",
      "    accuracy                           0.90       282\n",
      "   macro avg       0.66      0.56      0.58       282\n",
      "weighted avg       0.87      0.90      0.88       282\n",
      "\n"
     ]
    },
    {
     "name": "stderr",
     "output_type": "stream",
     "text": [
      "Epoch 49/50: 100%|██████████| 5/5 [00:00<00:00, 16.57it/s, loss=2.4892e-04]\n"
     ]
    },
    {
     "name": "stdout",
     "output_type": "stream",
     "text": [
      "Epoch 49/50, Train Loss: 2.6381e-05, Test Loss: 0.0670\n",
      "Epoch 49/50, Train Accuracy: 100.00%, Test Accuracy: 90.67%\n",
      "Epoch 49/50, Train AUC: 100.00%, Test AUC: 61.86%\n",
      "Classification Report on Val Set : \n",
      "              precision    recall  f1-score   support\n",
      "\n",
      "   No Cancer       0.92      0.98      0.95       255\n",
      "      Cancer       0.44      0.15      0.22        27\n",
      "\n",
      "    accuracy                           0.90       282\n",
      "   macro avg       0.68      0.56      0.58       282\n",
      "weighted avg       0.87      0.90      0.88       282\n",
      "\n"
     ]
    },
    {
     "name": "stderr",
     "output_type": "stream",
     "text": [
      "Epoch 50/50: 100%|██████████| 5/5 [00:00<00:00, 16.87it/s, loss=2.4375e-05]\n"
     ]
    },
    {
     "name": "stdout",
     "output_type": "stream",
     "text": [
      "Epoch 50/50, Train Loss: 1.6679e-05, Test Loss: 0.0674\n",
      "Epoch 50/50, Train Accuracy: 100.00%, Test Accuracy: 90.93%\n",
      "Epoch 50/50, Train AUC: 100.00%, Test AUC: 61.45%\n",
      "Classification Report on Val Set : \n",
      "              precision    recall  f1-score   support\n",
      "\n",
      "   No Cancer       0.92      0.98      0.95       255\n",
      "      Cancer       0.50      0.15      0.23        27\n",
      "\n",
      "    accuracy                           0.90       282\n",
      "   macro avg       0.71      0.57      0.59       282\n",
      "weighted avg       0.88      0.90      0.88       282\n",
      "\n",
      "\n",
      "Finished.\n",
      "Best validation AUC: 6.7683e-01\n",
      "With accuracy: 0.5935496886571249\n"
     ]
    }
   ],
   "source": [
    "# network\n",
    "net = MLP(len(lung_dataset[0][0])).to(device).double()\n",
    "\n",
    "# loss and optimizer  \n",
    "criterion = FocalLoss().to(device)\n",
    "optimizer = optim.Adam(net.parameters(), lr=mlp_args['lr_pt'])\n",
    "\n",
    "# Logging + Experiment\n",
    "\n",
    "ignore_keys = {'no_tensorboard'}\n",
    "# get hyperparameters with values in a dict\n",
    "hparams = {**mlp_args}\n",
    "# generate a name for the experiment\n",
    "expe_name = '_'.join([f\"{key}={val}\" for key, val in hparams.items()])\n",
    "print(\"Experimenting with : \\n \\t\"+expe_name)\n",
    "# path where to save the model\n",
    "savepath = Path('/tempory/transcriptomic_data/pre_trained_mlp_checkpt.pt')\n",
    "# Tensorboard summary writer\n",
    "if mlp_args['no_tensorboard']:\n",
    "    writer = None\n",
    "else:\n",
    "    writer = SummaryWriter(\"runs/runs\"+\"_\"+datetime.datetime.now().strftime(\"%Y%m%d-%H%M%S\")+expe_name)\n",
    "    \n",
    "# start the experiment\n",
    "checkpoint = CheckpointState(net, optimizer, savepath=savepath)\n",
    "fit(checkpoint, criterion, lung_dataloader_train, lung_dataloader_validation, mlp_args['epochs'], writer=writer)\n",
    "if not mlp_args['no_tensorboard']:\n",
    "    writer.close()"
   ]
  }
 ],
 "metadata": {
  "kernelspec": {
   "display_name": "Python 3",
   "language": "python",
   "name": "python3"
  },
  "language_info": {
   "codemirror_mode": {
    "name": "ipython",
    "version": 3
   },
   "file_extension": ".py",
   "mimetype": "text/x-python",
   "name": "python",
   "nbconvert_exporter": "python",
   "pygments_lexer": "ipython3",
   "version": "3.7.3"
  }
 },
 "nbformat": 4,
 "nbformat_minor": 4
}
