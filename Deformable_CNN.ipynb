{
 "cells": [
  {
   "cell_type": "markdown",
   "metadata": {},
   "source": [
    "# **Deformable Convolution for Lung Cancer Prediction Based on Transcriptomic Data : a Deformable Convolutional Neural Network**\n",
    "> Author : **Aymen MERROUCHE**. <br>\n",
    "> In this notebook, we implement a deformable convolutional network for our binary classification task. First we pre train our MLP on the non Lung cancer dataset. Then, we fine tune it on the lung cancer dataset (we don't keep the final classification layer) :"
   ]
  },
  {
   "cell_type": "code",
   "execution_count": 1,
   "metadata": {},
   "outputs": [],
   "source": [
    "import torch\n",
    "import torch.nn as nn\n",
    "from torch.nn import functional as F\n",
    "import numpy as np\n",
    "import datetime\n",
    "\n",
    "from utils import *\n",
    "from train import *\n",
    "from data_utils import *\n",
    "from modules.deformable_cnn import *\n",
    "from modules.focal_loss import *\n",
    "%load_ext autoreload\n",
    "%autoreload 2"
   ]
  },
  {
   "cell_type": "code",
   "execution_count": 2,
   "metadata": {},
   "outputs": [
    {
     "name": "stdout",
     "output_type": "stream",
     "text": [
      "Working on :  cuda\n"
     ]
    }
   ],
   "source": [
    "# device to use, if cuda available then use cuda else use cpu\n",
    "device = torch.device('cuda' if torch.cuda.is_available() else 'cpu')\n",
    "print(\"Working on : \", device)"
   ]
  },
  {
   "cell_type": "code",
   "execution_count": 3,
   "metadata": {},
   "outputs": [],
   "source": [
    "# load hyperparametrs\n",
    "# data paths args\n",
    "with open('./configs/data_paths.yaml', 'r') as stream:\n",
    "    data_paths_args  = yaml.load(stream,Loader=yaml.Loader)\n",
    "    \n",
    "    \n",
    "# basic cnn args\n",
    "with open('./configs/def_cnn.yaml', 'r') as stream:\n",
    "    basic_cnn_args  = yaml.load(stream,Loader=yaml.Loader)"
   ]
  },
  {
   "cell_type": "markdown",
   "metadata": {},
   "source": [
    "## **1 - Pre-Training on the Non Lung Dataset :**"
   ]
  },
  {
   "cell_type": "markdown",
   "metadata": {},
   "source": [
    "### **1 - 1 - Get the Data :**"
   ]
  },
  {
   "cell_type": "code",
   "execution_count": 4,
   "metadata": {},
   "outputs": [
    {
     "name": "stdout",
     "output_type": "stream",
     "text": [
      "CPU times: user 4.75 s, sys: 1.05 s, total: 5.8 s\n",
      "Wall time: 3.04 s\n"
     ]
    }
   ],
   "source": [
    "%%time\n",
    "# Getting the data\n",
    "# dataset\n",
    "non_lung_dataset = TranscriptomicImagesDatasetNonLung(data_paths_args[\"path_to_pan_cancer_hdf5_files\"], data_paths_args[\"path_to_treemap_images\"])\n",
    "non_lung_dataloader_train, non_lung_dataloader_validation = get_data_loaders(non_lung_dataset, batch_size_train = basic_cnn_args[\"batch_size_pt\"],\\\n",
    "                                                                             batch_size_validation = basic_cnn_args[\"batch_size_pt\"])"
   ]
  },
  {
   "cell_type": "markdown",
   "metadata": {},
   "source": [
    "### **1 - 2 - Network, Criterion and Training :**"
   ]
  },
  {
   "cell_type": "code",
   "execution_count": 5,
   "metadata": {},
   "outputs": [
    {
     "name": "stderr",
     "output_type": "stream",
     "text": [
      "Epoch 1/50:   0%|          | 1/646 [00:00<01:16,  8.40it/s, loss=7.8625e-02]"
     ]
    },
    {
     "name": "stdout",
     "output_type": "stream",
     "text": [
      "Experimenting with : \n",
      " \tepochs=50_batch_size_pt=8_lr_pt=0.001_batch_size_ft=8_lr_ft=0.001_no_tensorboard=True\n",
      "Training on GPU \n",
      "\n"
     ]
    },
    {
     "name": "stderr",
     "output_type": "stream",
     "text": [
      "Epoch 1/50: 100%|██████████| 646/646 [00:59<00:00, 10.86it/s, loss=1.2461e-01]\n",
      "Epoch 2/50:   0%|          | 1/646 [00:00<01:04,  9.94it/s, loss=9.2470e-02]"
     ]
    },
    {
     "name": "stdout",
     "output_type": "stream",
     "text": [
      "Epoch 1/50, Train Loss: 8.4050e-02, Test Loss: 0.0829\n",
      "Epoch 1/50, Train Accuracy: 55.77%, Test Accuracy: 60.80%\n",
      "Epoch 1/50, Train AUC: 57.66%, Test AUC: 54.69%\n",
      "Classification Report on Val Set : \n",
      "              precision    recall  f1-score   support\n",
      "\n",
      "   No Cancer       0.89      0.63      0.74      2248\n",
      "      Cancer       0.13      0.43      0.20       295\n",
      "\n",
      "    accuracy                           0.61      2543\n",
      "   macro avg       0.51      0.53      0.47      2543\n",
      "weighted avg       0.81      0.61      0.68      2543\n",
      "\n"
     ]
    },
    {
     "name": "stderr",
     "output_type": "stream",
     "text": [
      "Epoch 2/50: 100%|██████████| 646/646 [01:12<00:00,  8.91it/s, loss=6.1474e-02]\n",
      "Epoch 3/50:   0%|          | 1/646 [00:00<01:12,  8.92it/s, loss=7.1253e-02]"
     ]
    },
    {
     "name": "stdout",
     "output_type": "stream",
     "text": [
      "Epoch 2/50, Train Loss: 8.3081e-02, Test Loss: 0.0822\n",
      "Epoch 2/50, Train Accuracy: 56.99%, Test Accuracy: 62.65%\n",
      "Epoch 2/50, Train AUC: 59.02%, Test AUC: 55.58%\n",
      "Classification Report on Val Set : \n",
      "              precision    recall  f1-score   support\n",
      "\n",
      "   No Cancer       0.89      0.66      0.76      2248\n",
      "      Cancer       0.13      0.40      0.20       295\n",
      "\n",
      "    accuracy                           0.63      2543\n",
      "   macro avg       0.51      0.53      0.48      2543\n",
      "weighted avg       0.80      0.63      0.69      2543\n",
      "\n"
     ]
    },
    {
     "name": "stderr",
     "output_type": "stream",
     "text": [
      "Epoch 3/50: 100%|██████████| 646/646 [01:04<00:00, 10.00it/s, loss=7.1696e-02]\n",
      "Epoch 4/50:   0%|          | 1/646 [00:00<01:04,  9.94it/s, loss=8.6250e-02]"
     ]
    },
    {
     "name": "stdout",
     "output_type": "stream",
     "text": [
      "Epoch 3/50, Train Loss: 7.8638e-02, Test Loss: 0.0738\n",
      "Epoch 3/50, Train Accuracy: 59.48%, Test Accuracy: 63.75%\n",
      "Epoch 3/50, Train AUC: 61.52%, Test AUC: 56.82%\n",
      "Classification Report on Val Set : \n",
      "              precision    recall  f1-score   support\n",
      "\n",
      "   No Cancer       0.90      0.67      0.76      2248\n",
      "      Cancer       0.14      0.43      0.21       295\n",
      "\n",
      "    accuracy                           0.64      2543\n",
      "   macro avg       0.52      0.55      0.49      2543\n",
      "weighted avg       0.81      0.64      0.70      2543\n",
      "\n"
     ]
    },
    {
     "name": "stderr",
     "output_type": "stream",
     "text": [
      "Epoch 4/50: 100%|██████████| 646/646 [01:11<00:00,  9.08it/s, loss=6.0947e-02]\n",
      "Epoch 5/50:   0%|          | 1/646 [00:00<01:14,  8.71it/s, loss=8.2604e-02]"
     ]
    },
    {
     "name": "stdout",
     "output_type": "stream",
     "text": [
      "Epoch 4/50, Train Loss: 7.0020e-02, Test Loss: 0.0720\n",
      "Epoch 4/50, Train Accuracy: 66.23%, Test Accuracy: 66.38%\n",
      "Epoch 4/50, Train AUC: 64.48%, Test AUC: 57.80%\n",
      "Classification Report on Val Set : \n",
      "              precision    recall  f1-score   support\n",
      "\n",
      "   No Cancer       0.91      0.69      0.78      2248\n",
      "      Cancer       0.16      0.46      0.24       295\n",
      "\n",
      "    accuracy                           0.66      2543\n",
      "   macro avg       0.53      0.57      0.51      2543\n",
      "weighted avg       0.82      0.66      0.72      2543\n",
      "\n"
     ]
    },
    {
     "name": "stderr",
     "output_type": "stream",
     "text": [
      "Epoch 5/50: 100%|██████████| 646/646 [01:01<00:00, 10.55it/s, loss=2.8543e-02]\n",
      "Epoch 6/50:   0%|          | 1/646 [00:00<01:43,  6.23it/s, loss=4.9593e-02]"
     ]
    },
    {
     "name": "stdout",
     "output_type": "stream",
     "text": [
      "Epoch 5/50, Train Loss: 6.2718e-02, Test Loss: 0.0697\n",
      "Epoch 5/50, Train Accuracy: 65.48%, Test Accuracy: 66.45%\n",
      "Epoch 5/50, Train AUC: 68.23%, Test AUC: 59.26%\n",
      "Classification Report on Val Set : \n",
      "              precision    recall  f1-score   support\n",
      "\n",
      "   No Cancer       0.90      0.69      0.79      2248\n",
      "      Cancer       0.16      0.44      0.23       295\n",
      "\n",
      "    accuracy                           0.66      2543\n",
      "   macro avg       0.53      0.57      0.51      2543\n",
      "weighted avg       0.82      0.66      0.72      2543\n",
      "\n"
     ]
    },
    {
     "name": "stderr",
     "output_type": "stream",
     "text": [
      "Epoch 6/50: 100%|██████████| 646/646 [01:10<00:00,  9.13it/s, loss=3.0412e-02]\n",
      "Epoch 7/50:   0%|          | 1/646 [00:00<01:04,  9.99it/s, loss=4.0194e-02]"
     ]
    },
    {
     "name": "stdout",
     "output_type": "stream",
     "text": [
      "Epoch 6/50, Train Loss: 5.4554e-02, Test Loss: 0.1010\n",
      "Epoch 6/50, Train Accuracy: 71.03%, Test Accuracy: 56.31%\n",
      "Epoch 6/50, Train AUC: 73.77%, Test AUC: 60.90%\n",
      "Classification Report on Val Set : \n",
      "              precision    recall  f1-score   support\n",
      "\n",
      "   No Cancer       0.91      0.56      0.69      2248\n",
      "      Cancer       0.15      0.59      0.24       295\n",
      "\n",
      "    accuracy                           0.56      2543\n",
      "   macro avg       0.53      0.58      0.47      2543\n",
      "weighted avg       0.82      0.56      0.64      2543\n",
      "\n"
     ]
    },
    {
     "name": "stderr",
     "output_type": "stream",
     "text": [
      "Epoch 7/50: 100%|██████████| 646/646 [01:22<00:00,  7.80it/s, loss=1.1545e-01]\n",
      "Epoch 8/50:   0%|          | 1/646 [00:00<01:16,  8.41it/s, loss=2.8326e-02]"
     ]
    },
    {
     "name": "stdout",
     "output_type": "stream",
     "text": [
      "Epoch 7/50, Train Loss: 3.9424e-02, Test Loss: 0.0604\n",
      "Epoch 7/50, Train Accuracy: 77.79%, Test Accuracy: 69.68%\n",
      "Epoch 7/50, Train AUC: 80.31%, Test AUC: 62.62%\n",
      "Classification Report on Val Set : \n",
      "              precision    recall  f1-score   support\n",
      "\n",
      "   No Cancer       0.91      0.73      0.81      2248\n",
      "      Cancer       0.17      0.43      0.25       295\n",
      "\n",
      "    accuracy                           0.70      2543\n",
      "   macro avg       0.54      0.58      0.53      2543\n",
      "weighted avg       0.82      0.70      0.74      2543\n",
      "\n"
     ]
    },
    {
     "name": "stderr",
     "output_type": "stream",
     "text": [
      "Epoch 8/50: 100%|██████████| 646/646 [01:04<00:00,  9.98it/s, loss=9.0076e-02]\n",
      "Epoch 9/50:   0%|          | 1/646 [00:00<01:04,  9.97it/s, loss=7.3242e-02]"
     ]
    },
    {
     "name": "stdout",
     "output_type": "stream",
     "text": [
      "Epoch 8/50, Train Loss: 4.0722e-02, Test Loss: 0.0618\n",
      "Epoch 8/50, Train Accuracy: 78.62%, Test Accuracy: 66.50%\n",
      "Epoch 8/50, Train AUC: 86.60%, Test AUC: 61.01%\n",
      "Classification Report on Val Set : \n",
      "              precision    recall  f1-score   support\n",
      "\n",
      "   No Cancer       0.90      0.70      0.79      2248\n",
      "      Cancer       0.15      0.39      0.21       295\n",
      "\n",
      "    accuracy                           0.66      2543\n",
      "   macro avg       0.52      0.54      0.50      2543\n",
      "weighted avg       0.81      0.66      0.72      2543\n",
      "\n"
     ]
    },
    {
     "name": "stderr",
     "output_type": "stream",
     "text": [
      "Epoch 9/50: 100%|██████████| 646/646 [01:04<00:00, 10.00it/s, loss=2.2196e-02]\n",
      "Epoch 10/50:   0%|          | 2/646 [00:00<01:01, 10.42it/s, loss=3.4746e-02]"
     ]
    },
    {
     "name": "stdout",
     "output_type": "stream",
     "text": [
      "Epoch 9/50, Train Loss: 3.0387e-02, Test Loss: 0.0557\n",
      "Epoch 9/50, Train Accuracy: 79.01%, Test Accuracy: 73.58%\n",
      "Epoch 9/50, Train AUC: 84.32%, Test AUC: 63.94%\n",
      "Classification Report on Val Set : \n",
      "              precision    recall  f1-score   support\n",
      "\n",
      "   No Cancer       0.91      0.78      0.84      2248\n",
      "      Cancer       0.19      0.40      0.26       295\n",
      "\n",
      "    accuracy                           0.74      2543\n",
      "   macro avg       0.55      0.59      0.55      2543\n",
      "weighted avg       0.83      0.74      0.77      2543\n",
      "\n"
     ]
    },
    {
     "name": "stderr",
     "output_type": "stream",
     "text": [
      "Epoch 10/50: 100%|██████████| 646/646 [00:59<00:00, 10.81it/s, loss=7.1217e-04]\n",
      "Epoch 11/50:   0%|          | 2/646 [00:00<01:01, 10.43it/s, loss=9.9050e-03]"
     ]
    },
    {
     "name": "stdout",
     "output_type": "stream",
     "text": [
      "Epoch 10/50, Train Loss: 3.2253e-02, Test Loss: 0.0761\n",
      "Epoch 10/50, Train Accuracy: 78.58%, Test Accuracy: 67.40%\n",
      "Epoch 10/50, Train AUC: 83.93%, Test AUC: 62.92%\n",
      "Classification Report on Val Set : \n",
      "              precision    recall  f1-score   support\n",
      "\n",
      "   No Cancer       0.91      0.70      0.79      2248\n",
      "      Cancer       0.17      0.45      0.24       295\n",
      "\n",
      "    accuracy                           0.67      2543\n",
      "   macro avg       0.54      0.58      0.52      2543\n",
      "weighted avg       0.82      0.67      0.73      2543\n",
      "\n"
     ]
    },
    {
     "name": "stderr",
     "output_type": "stream",
     "text": [
      "Epoch 11/50: 100%|██████████| 646/646 [00:59<00:00, 10.81it/s, loss=1.1765e-01]\n",
      "Epoch 12/50:   0%|          | 2/646 [00:00<01:01, 10.42it/s, loss=7.5875e-03]"
     ]
    },
    {
     "name": "stdout",
     "output_type": "stream",
     "text": [
      "Epoch 11/50, Train Loss: 2.2028e-02, Test Loss: 0.0520\n",
      "Epoch 11/50, Train Accuracy: 83.82%, Test Accuracy: 71.97%\n",
      "Epoch 11/50, Train AUC: 89.62%, Test AUC: 64.33%\n",
      "Classification Report on Val Set : \n",
      "              precision    recall  f1-score   support\n",
      "\n",
      "   No Cancer       0.91      0.76      0.83      2248\n",
      "      Cancer       0.18      0.39      0.25       295\n",
      "\n",
      "    accuracy                           0.72      2543\n",
      "   macro avg       0.54      0.58      0.54      2543\n",
      "weighted avg       0.82      0.72      0.76      2543\n",
      "\n"
     ]
    },
    {
     "name": "stderr",
     "output_type": "stream",
     "text": [
      "Epoch 12/50: 100%|██████████| 646/646 [00:59<00:00, 10.81it/s, loss=3.0661e-03]\n",
      "Epoch 13/50:   0%|          | 2/646 [00:00<01:01, 10.43it/s, loss=2.1772e-02]"
     ]
    },
    {
     "name": "stdout",
     "output_type": "stream",
     "text": [
      "Epoch 12/50, Train Loss: 2.7089e-02, Test Loss: 0.0537\n",
      "Epoch 12/50, Train Accuracy: 80.48%, Test Accuracy: 73.50%\n",
      "Epoch 12/50, Train AUC: 86.75%, Test AUC: 61.74%\n",
      "Classification Report on Val Set : \n",
      "              precision    recall  f1-score   support\n",
      "\n",
      "   No Cancer       0.90      0.79      0.84      2248\n",
      "      Cancer       0.16      0.31      0.21       295\n",
      "\n",
      "    accuracy                           0.73      2543\n",
      "   macro avg       0.53      0.55      0.53      2543\n",
      "weighted avg       0.81      0.73      0.77      2543\n",
      "\n"
     ]
    },
    {
     "name": "stderr",
     "output_type": "stream",
     "text": [
      "Epoch 13/50: 100%|██████████| 646/646 [00:59<00:00, 10.82it/s, loss=9.8284e-02]\n",
      "Epoch 14/50:   0%|          | 1/646 [00:00<01:04,  9.97it/s, loss=7.7871e-03]"
     ]
    },
    {
     "name": "stdout",
     "output_type": "stream",
     "text": [
      "Epoch 13/50, Train Loss: 2.2840e-02, Test Loss: 0.0592\n",
      "Epoch 13/50, Train Accuracy: 82.22%, Test Accuracy: 71.06%\n",
      "Epoch 13/50, Train AUC: 88.86%, Test AUC: 62.99%\n",
      "Classification Report on Val Set : \n",
      "              precision    recall  f1-score   support\n",
      "\n",
      "   No Cancer       0.90      0.76      0.82      2248\n",
      "      Cancer       0.16      0.36      0.22       295\n",
      "\n",
      "    accuracy                           0.71      2543\n",
      "   macro avg       0.53      0.56      0.52      2543\n",
      "weighted avg       0.81      0.71      0.75      2543\n",
      "\n"
     ]
    },
    {
     "name": "stderr",
     "output_type": "stream",
     "text": [
      "Epoch 14/50: 100%|██████████| 646/646 [00:59<00:00, 10.82it/s, loss=1.8012e-02]\n",
      "Epoch 15/50:   0%|          | 2/646 [00:00<01:01, 10.43it/s, loss=1.7055e-02]"
     ]
    },
    {
     "name": "stdout",
     "output_type": "stream",
     "text": [
      "Epoch 14/50, Train Loss: 2.0197e-02, Test Loss: 0.0635\n",
      "Epoch 14/50, Train Accuracy: 84.71%, Test Accuracy: 70.15%\n",
      "Epoch 14/50, Train AUC: 90.03%, Test AUC: 62.49%\n",
      "Classification Report on Val Set : \n",
      "              precision    recall  f1-score   support\n",
      "\n",
      "   No Cancer       0.90      0.74      0.82      2248\n",
      "      Cancer       0.16      0.38      0.23       295\n",
      "\n",
      "    accuracy                           0.70      2543\n",
      "   macro avg       0.53      0.56      0.52      2543\n",
      "weighted avg       0.82      0.70      0.75      2543\n",
      "\n"
     ]
    },
    {
     "name": "stderr",
     "output_type": "stream",
     "text": [
      "Epoch 15/50: 100%|██████████| 646/646 [00:59<00:00, 10.81it/s, loss=8.9603e-03]\n",
      "Epoch 16/50:   0%|          | 1/646 [00:00<01:04,  9.96it/s, loss=3.4737e-02]"
     ]
    },
    {
     "name": "stdout",
     "output_type": "stream",
     "text": [
      "Epoch 15/50, Train Loss: 2.2519e-02, Test Loss: 0.0778\n",
      "Epoch 15/50, Train Accuracy: 82.33%, Test Accuracy: 68.86%\n",
      "Epoch 15/50, Train AUC: 88.38%, Test AUC: 61.05%\n",
      "Classification Report on Val Set : \n",
      "              precision    recall  f1-score   support\n",
      "\n",
      "   No Cancer       0.90      0.72      0.80      2248\n",
      "      Cancer       0.17      0.42      0.24       295\n",
      "\n",
      "    accuracy                           0.69      2543\n",
      "   macro avg       0.53      0.57      0.52      2543\n",
      "weighted avg       0.82      0.69      0.74      2543\n",
      "\n"
     ]
    },
    {
     "name": "stderr",
     "output_type": "stream",
     "text": [
      "Epoch 16/50: 100%|██████████| 646/646 [00:59<00:00, 10.81it/s, loss=1.5246e-03]\n",
      "Epoch 17/50:   0%|          | 2/646 [00:00<01:01, 10.42it/s, loss=4.8937e-02]"
     ]
    },
    {
     "name": "stdout",
     "output_type": "stream",
     "text": [
      "Epoch 16/50, Train Loss: 2.0047e-02, Test Loss: 0.0542\n",
      "Epoch 16/50, Train Accuracy: 83.22%, Test Accuracy: 73.76%\n",
      "Epoch 16/50, Train AUC: 92.69%, Test AUC: 60.75%\n",
      "Classification Report on Val Set : \n",
      "              precision    recall  f1-score   support\n",
      "\n",
      "   No Cancer       0.90      0.80      0.84      2248\n",
      "      Cancer       0.16      0.29      0.20       295\n",
      "\n",
      "    accuracy                           0.74      2543\n",
      "   macro avg       0.53      0.54      0.52      2543\n",
      "weighted avg       0.81      0.74      0.77      2543\n",
      "\n"
     ]
    },
    {
     "name": "stderr",
     "output_type": "stream",
     "text": [
      "Epoch 17/50: 100%|██████████| 646/646 [00:59<00:00, 10.81it/s, loss=2.7346e-02]\n",
      "Epoch 18/50:   0%|          | 2/646 [00:00<01:01, 10.44it/s, loss=2.6940e-02]"
     ]
    },
    {
     "name": "stdout",
     "output_type": "stream",
     "text": [
      "Epoch 17/50, Train Loss: 1.7830e-02, Test Loss: 0.0536\n",
      "Epoch 17/50, Train Accuracy: 84.89%, Test Accuracy: 74.05%\n",
      "Epoch 17/50, Train AUC: 91.94%, Test AUC: 60.72%\n",
      "Classification Report on Val Set : \n",
      "              precision    recall  f1-score   support\n",
      "\n",
      "   No Cancer       0.89      0.80      0.85      2248\n",
      "      Cancer       0.16      0.28      0.20       295\n",
      "\n",
      "    accuracy                           0.74      2543\n",
      "   macro avg       0.53      0.54      0.52      2543\n",
      "weighted avg       0.81      0.74      0.77      2543\n",
      "\n"
     ]
    },
    {
     "name": "stderr",
     "output_type": "stream",
     "text": [
      "Epoch 18/50: 100%|██████████| 646/646 [00:59<00:00, 10.82it/s, loss=1.0121e-02]\n",
      "Epoch 19/50:   0%|          | 1/646 [00:00<01:04,  9.98it/s, loss=1.8978e-02]"
     ]
    },
    {
     "name": "stdout",
     "output_type": "stream",
     "text": [
      "Epoch 18/50, Train Loss: 1.4467e-02, Test Loss: 0.0455\n",
      "Epoch 18/50, Train Accuracy: 86.32%, Test Accuracy: 78.25%\n",
      "Epoch 18/50, Train AUC: 93.63%, Test AUC: 61.99%\n",
      "Classification Report on Val Set : \n",
      "              precision    recall  f1-score   support\n",
      "\n",
      "   No Cancer       0.90      0.85      0.87      2248\n",
      "      Cancer       0.20      0.28      0.23       295\n",
      "\n",
      "    accuracy                           0.78      2543\n",
      "   macro avg       0.55      0.57      0.55      2543\n",
      "weighted avg       0.82      0.78      0.80      2543\n",
      "\n"
     ]
    },
    {
     "name": "stderr",
     "output_type": "stream",
     "text": [
      "Epoch 19/50: 100%|██████████| 646/646 [00:59<00:00, 10.81it/s, loss=1.8639e-03]\n",
      "Epoch 20/50:   0%|          | 1/646 [00:00<01:04,  9.99it/s, loss=1.0747e-03]"
     ]
    },
    {
     "name": "stdout",
     "output_type": "stream",
     "text": [
      "Epoch 19/50, Train Loss: 1.9106e-02, Test Loss: 0.0687\n",
      "Epoch 19/50, Train Accuracy: 83.22%, Test Accuracy: 73.50%\n",
      "Epoch 19/50, Train AUC: 89.86%, Test AUC: 62.83%\n",
      "Classification Report on Val Set : \n",
      "              precision    recall  f1-score   support\n",
      "\n",
      "   No Cancer       0.90      0.79      0.84      2248\n",
      "      Cancer       0.17      0.34      0.23       295\n",
      "\n",
      "    accuracy                           0.73      2543\n",
      "   macro avg       0.54      0.56      0.54      2543\n",
      "weighted avg       0.82      0.73      0.77      2543\n",
      "\n"
     ]
    },
    {
     "name": "stderr",
     "output_type": "stream",
     "text": [
      "Epoch 20/50: 100%|██████████| 646/646 [00:59<00:00, 10.80it/s, loss=1.7482e-01]\n",
      "Epoch 21/50:   0%|          | 2/646 [00:00<01:01, 10.41it/s, loss=2.7890e-03]"
     ]
    },
    {
     "name": "stdout",
     "output_type": "stream",
     "text": [
      "Epoch 20/50, Train Loss: 1.0751e-02, Test Loss: 0.0766\n",
      "Epoch 20/50, Train Accuracy: 88.29%, Test Accuracy: 69.76%\n",
      "Epoch 20/50, Train AUC: 96.29%, Test AUC: 60.87%\n",
      "Classification Report on Val Set : \n",
      "              precision    recall  f1-score   support\n",
      "\n",
      "   No Cancer       0.90      0.74      0.81      2248\n",
      "      Cancer       0.16      0.39      0.23       295\n",
      "\n",
      "    accuracy                           0.70      2543\n",
      "   macro avg       0.53      0.56      0.52      2543\n",
      "weighted avg       0.82      0.70      0.74      2543\n",
      "\n"
     ]
    },
    {
     "name": "stderr",
     "output_type": "stream",
     "text": [
      "Epoch 21/50: 100%|██████████| 646/646 [00:59<00:00, 10.81it/s, loss=4.7402e-04]\n",
      "Epoch 22/50:   0%|          | 2/646 [00:00<01:01, 10.41it/s, loss=7.7205e-03]"
     ]
    },
    {
     "name": "stdout",
     "output_type": "stream",
     "text": [
      "Epoch 21/50, Train Loss: 2.3619e-02, Test Loss: 0.0822\n",
      "Epoch 21/50, Train Accuracy: 82.72%, Test Accuracy: 66.81%\n",
      "Epoch 21/50, Train AUC: 90.11%, Test AUC: 61.14%\n",
      "Classification Report on Val Set : \n",
      "              precision    recall  f1-score   support\n",
      "\n",
      "   No Cancer       0.90      0.70      0.79      2248\n",
      "      Cancer       0.15      0.39      0.21       295\n",
      "\n",
      "    accuracy                           0.67      2543\n",
      "   macro avg       0.52      0.55      0.50      2543\n",
      "weighted avg       0.81      0.67      0.72      2543\n",
      "\n"
     ]
    },
    {
     "name": "stderr",
     "output_type": "stream",
     "text": [
      "Epoch 22/50:  49%|████▊     | 314/646 [00:29<00:30, 10.80it/s, loss=3.3398e-02]\n"
     ]
    },
    {
     "ename": "KeyboardInterrupt",
     "evalue": "",
     "output_type": "error",
     "traceback": [
      "\u001b[0;31m---------------------------------------------------------------------------\u001b[0m",
      "\u001b[0;31mKeyboardInterrupt\u001b[0m                         Traceback (most recent call last)",
      "\u001b[0;32m<ipython-input-5-956541584173>\u001b[0m in \u001b[0;36m<module>\u001b[0;34m\u001b[0m\n\u001b[1;32m     24\u001b[0m \u001b[0;31m# start the experiment\u001b[0m\u001b[0;34m\u001b[0m\u001b[0;34m\u001b[0m\u001b[0;34m\u001b[0m\u001b[0m\n\u001b[1;32m     25\u001b[0m \u001b[0mcheckpoint\u001b[0m \u001b[0;34m=\u001b[0m \u001b[0mCheckpointState\u001b[0m\u001b[0;34m(\u001b[0m\u001b[0mnet\u001b[0m\u001b[0;34m,\u001b[0m \u001b[0moptimizer\u001b[0m\u001b[0;34m,\u001b[0m \u001b[0msavepath\u001b[0m\u001b[0;34m=\u001b[0m\u001b[0msavepath\u001b[0m\u001b[0;34m)\u001b[0m\u001b[0;34m\u001b[0m\u001b[0;34m\u001b[0m\u001b[0m\n\u001b[0;32m---> 26\u001b[0;31m \u001b[0mfit\u001b[0m\u001b[0;34m(\u001b[0m\u001b[0mcheckpoint\u001b[0m\u001b[0;34m,\u001b[0m \u001b[0mcriterion\u001b[0m\u001b[0;34m,\u001b[0m \u001b[0mnon_lung_dataloader_train\u001b[0m\u001b[0;34m,\u001b[0m \u001b[0mnon_lung_dataloader_validation\u001b[0m\u001b[0;34m,\u001b[0m \u001b[0mbasic_cnn_args\u001b[0m\u001b[0;34m[\u001b[0m\u001b[0;34m'epochs'\u001b[0m\u001b[0;34m]\u001b[0m\u001b[0;34m,\u001b[0m \u001b[0mwriter\u001b[0m\u001b[0;34m=\u001b[0m\u001b[0mwriter\u001b[0m\u001b[0;34m)\u001b[0m\u001b[0;34m\u001b[0m\u001b[0;34m\u001b[0m\u001b[0m\n\u001b[0m\u001b[1;32m     27\u001b[0m \u001b[0;32mif\u001b[0m \u001b[0;32mnot\u001b[0m \u001b[0mbasic_cnn_args\u001b[0m\u001b[0;34m[\u001b[0m\u001b[0;34m'no_tensorboard'\u001b[0m\u001b[0;34m]\u001b[0m\u001b[0;34m:\u001b[0m\u001b[0;34m\u001b[0m\u001b[0;34m\u001b[0m\u001b[0m\n\u001b[1;32m     28\u001b[0m     \u001b[0mwriter\u001b[0m\u001b[0;34m.\u001b[0m\u001b[0mclose\u001b[0m\u001b[0;34m(\u001b[0m\u001b[0;34m)\u001b[0m\u001b[0;34m\u001b[0m\u001b[0;34m\u001b[0m\u001b[0m\n",
      "\u001b[0;32m/users/nfs/Etu3/3802993/Deep-Learning-For-Lung-Cancer-Prediction-Based-on-Transcriptomic-Data/train.py\u001b[0m in \u001b[0;36mfit\u001b[0;34m(checkpoint, criterion, train_loader, val_loader, epochs, clip, entropy_param, writer, embedding_computer)\u001b[0m\n\u001b[1;32m    108\u001b[0m \u001b[0;34m\u001b[0m\u001b[0m\n\u001b[1;32m    109\u001b[0m     \u001b[0;32mfor\u001b[0m \u001b[0mepoch\u001b[0m \u001b[0;32min\u001b[0m \u001b[0mrange\u001b[0m\u001b[0;34m(\u001b[0m\u001b[0mbegin_epoch\u001b[0m\u001b[0;34m,\u001b[0m \u001b[0mepochs\u001b[0m\u001b[0;34m+\u001b[0m\u001b[0;36m1\u001b[0m\u001b[0;34m)\u001b[0m\u001b[0;34m:\u001b[0m\u001b[0;34m\u001b[0m\u001b[0;34m\u001b[0m\u001b[0m\n\u001b[0;32m--> 110\u001b[0;31m         \u001b[0mtrain_epoch\u001b[0m\u001b[0;34m(\u001b[0m\u001b[0;34m)\u001b[0m\u001b[0;34m\u001b[0m\u001b[0;34m\u001b[0m\u001b[0m\n\u001b[0m\u001b[1;32m    111\u001b[0m         \u001b[0mloss_train\u001b[0m\u001b[0;34m,\u001b[0m \u001b[0macc_train\u001b[0m\u001b[0;34m,\u001b[0m \u001b[0mauc_train\u001b[0m\u001b[0;34m,\u001b[0m \u001b[0m_\u001b[0m \u001b[0;34m=\u001b[0m \u001b[0mevaluate_epoch\u001b[0m\u001b[0;34m(\u001b[0m\u001b[0mtrain_loader\u001b[0m\u001b[0;34m,\u001b[0m \u001b[0;34m'Train'\u001b[0m\u001b[0;34m)\u001b[0m\u001b[0;34m\u001b[0m\u001b[0;34m\u001b[0m\u001b[0m\n\u001b[1;32m    112\u001b[0m         \u001b[0mloss_test\u001b[0m\u001b[0;34m,\u001b[0m \u001b[0macc_test\u001b[0m\u001b[0;34m,\u001b[0m \u001b[0mauc_test\u001b[0m\u001b[0;34m,\u001b[0m \u001b[0mclf_report_test\u001b[0m \u001b[0;34m=\u001b[0m  \u001b[0mevaluate_epoch\u001b[0m\u001b[0;34m(\u001b[0m\u001b[0mval_loader\u001b[0m\u001b[0;34m,\u001b[0m \u001b[0;34m'Val'\u001b[0m\u001b[0;34m)\u001b[0m\u001b[0;34m\u001b[0m\u001b[0;34m\u001b[0m\u001b[0m\n",
      "\u001b[0;32m/users/nfs/Etu3/3802993/Deep-Learning-For-Lung-Cancer-Prediction-Based-on-Transcriptomic-Data/train.py\u001b[0m in \u001b[0;36mtrain_epoch\u001b[0;34m()\u001b[0m\n\u001b[1;32m     37\u001b[0m             \u001b[0moutput\u001b[0m \u001b[0;34m=\u001b[0m \u001b[0mnet\u001b[0m\u001b[0;34m(\u001b[0m\u001b[0mimages\u001b[0m\u001b[0;34m)\u001b[0m\u001b[0;34m\u001b[0m\u001b[0;34m\u001b[0m\u001b[0m\n\u001b[1;32m     38\u001b[0m             \u001b[0mloss\u001b[0m \u001b[0;34m=\u001b[0m \u001b[0mcriterion\u001b[0m\u001b[0;34m(\u001b[0m\u001b[0moutput\u001b[0m\u001b[0;34m,\u001b[0m \u001b[0mlabels\u001b[0m\u001b[0;34m)\u001b[0m \u001b[0;31m#.unsqueeze(-1)\u001b[0m\u001b[0;34m\u001b[0m\u001b[0;34m\u001b[0m\u001b[0m\n\u001b[0;32m---> 39\u001b[0;31m             \u001b[0mepoch_loss\u001b[0m \u001b[0;34m+=\u001b[0m \u001b[0mloss\u001b[0m\u001b[0;34m.\u001b[0m\u001b[0mitem\u001b[0m\u001b[0;34m(\u001b[0m\u001b[0;34m)\u001b[0m\u001b[0;34m\u001b[0m\u001b[0;34m\u001b[0m\u001b[0m\n\u001b[0m\u001b[1;32m     40\u001b[0m             \u001b[0mpbar\u001b[0m\u001b[0;34m.\u001b[0m\u001b[0mset_postfix\u001b[0m\u001b[0;34m(\u001b[0m\u001b[0mloss\u001b[0m\u001b[0;34m=\u001b[0m\u001b[0;34mf'{loss.item():.4e}'\u001b[0m\u001b[0;34m)\u001b[0m\u001b[0;34m\u001b[0m\u001b[0;34m\u001b[0m\u001b[0m\n\u001b[1;32m     41\u001b[0m             \u001b[0;32mif\u001b[0m \u001b[0mwriter\u001b[0m\u001b[0;34m:\u001b[0m\u001b[0;34m\u001b[0m\u001b[0;34m\u001b[0m\u001b[0m\n",
      "\u001b[0;31mKeyboardInterrupt\u001b[0m: "
     ]
    }
   ],
   "source": [
    "# network\n",
    "net = DeformConvNet().to(device).double()\n",
    "\n",
    "# loss and optimizer  \n",
    "criterion = FocalLoss(gamma=3).to(device)\n",
    "optimizer = optim.Adam(net.parameters(), lr=basic_cnn_args['lr_pt'])\n",
    "\n",
    "# Logging + Experiment\n",
    "\n",
    "ignore_keys = {'no_tensorboard'}\n",
    "# get hyperparameters with values in a dict\n",
    "hparams = {**basic_cnn_args}\n",
    "# generate a name for the experiment\n",
    "expe_name = '_'.join([f\"{key}={val}\" for key, val in hparams.items()])\n",
    "print(\"Experimenting with : \\n \\t\"+expe_name)\n",
    "# path where to save the model\n",
    "savepath = Path('/tempory/transcriptomic_data/pre_trained_def_cnn_checkpt.pt')\n",
    "# Tensorboard summary writer\n",
    "if basic_cnn_args['no_tensorboard']:\n",
    "    writer = None\n",
    "else:\n",
    "    writer = SummaryWriter(\"runs/runs\"+\"_\"+datetime.datetime.now().strftime(\"%Y%m%d-%H%M%S\")+expe_name)\n",
    "    \n",
    "# start the experiment\n",
    "checkpoint = CheckpointState(net, optimizer, savepath=savepath)\n",
    "fit(checkpoint, criterion, non_lung_dataloader_train, non_lung_dataloader_validation, basic_cnn_args['epochs'], writer=writer)\n",
    "if not basic_cnn_args['no_tensorboard']:\n",
    "    writer.close()"
   ]
  },
  {
   "cell_type": "markdown",
   "metadata": {},
   "source": [
    "## **2 - Fine-Tuning on the Lung dataset :**"
   ]
  },
  {
   "cell_type": "markdown",
   "metadata": {},
   "source": [
    "### **2 - 1 - Load Pre-Trained Model :**"
   ]
  },
  {
   "cell_type": "code",
   "execution_count": 6,
   "metadata": {},
   "outputs": [],
   "source": [
    "# Load the pretrained Model\n",
    "net =  DeformConvNet().to(device).double()\n",
    "optimizer = optim.Adam(net.parameters(), lr=basic_cnn_args['lr_ft'])\n",
    "# path where the pre-trained model is saved : defined above+\"_best\"\n",
    "savepath = Path('/tempory/transcriptomic_data/pre_trained_def_cnn_checkpt_best.pt')\n",
    "checkpoint = CheckpointState(net, optimizer, savepath=savepath)\n",
    "checkpoint.load()\n",
    "pretrained = checkpoint.model"
   ]
  },
  {
   "cell_type": "markdown",
   "metadata": {},
   "source": [
    "### **2 - 2 - Get the Data :**"
   ]
  },
  {
   "cell_type": "code",
   "execution_count": 7,
   "metadata": {},
   "outputs": [
    {
     "name": "stdout",
     "output_type": "stream",
     "text": [
      "CPU times: user 580 ms, sys: 96.5 ms, total: 677 ms\n",
      "Wall time: 330 ms\n"
     ]
    }
   ],
   "source": [
    "%%time\n",
    "# Getting the data\n",
    "# dataset\n",
    "lung_dataset = TranscriptomicImagesDatasetLung(data_paths_args[\"path_to_pan_cancer_hdf5_files\"], data_paths_args[\"path_to_treemap_images\"])\n",
    "lung_dataloader_train, lung_dataloader_validation = get_data_loaders(lung_dataset, batch_size_train = basic_cnn_args[\"batch_size_ft\"],\\\n",
    "                                                                             batch_size_validation = basic_cnn_args[\"batch_size_ft\"])"
   ]
  },
  {
   "cell_type": "markdown",
   "metadata": {},
   "source": [
    "### **2 - 3 - Fine Tuning Procedure :**"
   ]
  },
  {
   "cell_type": "code",
   "execution_count": 8,
   "metadata": {},
   "outputs": [
    {
     "name": "stderr",
     "output_type": "stream",
     "text": [
      "Epoch 1/50:   1%|▏         | 1/72 [00:00<00:07,  8.92it/s, loss=1.4041e-01]"
     ]
    },
    {
     "name": "stdout",
     "output_type": "stream",
     "text": [
      "Training on GPU \n",
      "\n"
     ]
    },
    {
     "name": "stderr",
     "output_type": "stream",
     "text": [
      "Epoch 1/50: 100%|██████████| 72/72 [00:06<00:00, 10.96it/s, loss=2.0616e-01]\n",
      "Epoch 2/50:   3%|▎         | 2/72 [00:00<00:06, 10.58it/s, loss=1.2665e-01]"
     ]
    },
    {
     "name": "stdout",
     "output_type": "stream",
     "text": [
      "Epoch 1/50, Train Loss: 1.4972e-01, Test Loss: 0.1834\n",
      "Epoch 1/50, Train Accuracy: 65.52%, Test Accuracy: 52.08%\n",
      "Epoch 1/50, Train AUC: 66.48%, Test AUC: 46.51%\n",
      "Classification Report on Val Set : \n",
      "              precision    recall  f1-score   support\n",
      "\n",
      "   No Cancer       0.91      0.53      0.67       257\n",
      "      Cancer       0.08      0.44      0.14        25\n",
      "\n",
      "    accuracy                           0.52       282\n",
      "   macro avg       0.49      0.48      0.40       282\n",
      "weighted avg       0.83      0.52      0.62       282\n",
      "\n"
     ]
    },
    {
     "name": "stderr",
     "output_type": "stream",
     "text": [
      "Epoch 2/50: 100%|██████████| 72/72 [00:06<00:00, 10.98it/s, loss=1.0129e-01]\n",
      "Epoch 3/50:   3%|▎         | 2/72 [00:00<00:06, 10.54it/s, loss=1.8998e-01]"
     ]
    },
    {
     "name": "stdout",
     "output_type": "stream",
     "text": [
      "Epoch 2/50, Train Loss: 1.4191e-01, Test Loss: 0.1594\n",
      "Epoch 2/50, Train Accuracy: 60.73%, Test Accuracy: 63.54%\n",
      "Epoch 2/50, Train AUC: 67.31%, Test AUC: 47.72%\n",
      "Classification Report on Val Set : \n",
      "              precision    recall  f1-score   support\n",
      "\n",
      "   No Cancer       0.90      0.67      0.77       257\n",
      "      Cancer       0.07      0.24      0.10        25\n",
      "\n",
      "    accuracy                           0.63       282\n",
      "   macro avg       0.48      0.45      0.43       282\n",
      "weighted avg       0.83      0.63      0.71       282\n",
      "\n"
     ]
    },
    {
     "name": "stderr",
     "output_type": "stream",
     "text": [
      "Epoch 3/50: 100%|██████████| 72/72 [00:06<00:00, 10.98it/s, loss=1.9374e-01]\n",
      "Epoch 4/50:   3%|▎         | 2/72 [00:00<00:06, 10.59it/s, loss=9.7276e-02]"
     ]
    },
    {
     "name": "stdout",
     "output_type": "stream",
     "text": [
      "Epoch 3/50, Train Loss: 1.1397e-01, Test Loss: 0.1380\n",
      "Epoch 3/50, Train Accuracy: 82.01%, Test Accuracy: 69.79%\n",
      "Epoch 3/50, Train AUC: 83.43%, Test AUC: 48.40%\n",
      "Classification Report on Val Set : \n",
      "              precision    recall  f1-score   support\n",
      "\n",
      "   No Cancer       0.90      0.75      0.82       257\n",
      "      Cancer       0.04      0.12      0.06        25\n",
      "\n",
      "    accuracy                           0.69       282\n",
      "   macro avg       0.47      0.43      0.44       282\n",
      "weighted avg       0.82      0.69      0.75       282\n",
      "\n"
     ]
    },
    {
     "name": "stderr",
     "output_type": "stream",
     "text": [
      "Epoch 4/50: 100%|██████████| 72/72 [00:06<00:00, 10.98it/s, loss=8.7509e-02]\n",
      "Epoch 5/50:   3%|▎         | 2/72 [00:00<00:06, 10.60it/s, loss=7.7621e-02]"
     ]
    },
    {
     "name": "stdout",
     "output_type": "stream",
     "text": [
      "Epoch 4/50, Train Loss: 8.4315e-02, Test Loss: 0.1396\n",
      "Epoch 4/50, Train Accuracy: 91.49%, Test Accuracy: 72.57%\n",
      "Epoch 4/50, Train AUC: 95.01%, Test AUC: 52.06%\n",
      "Classification Report on Val Set : \n",
      "              precision    recall  f1-score   support\n",
      "\n",
      "   No Cancer       0.91      0.77      0.83       257\n",
      "      Cancer       0.08      0.20      0.11        25\n",
      "\n",
      "    accuracy                           0.72       282\n",
      "   macro avg       0.49      0.49      0.47       282\n",
      "weighted avg       0.83      0.72      0.77       282\n",
      "\n"
     ]
    },
    {
     "name": "stderr",
     "output_type": "stream",
     "text": [
      "Epoch 5/50: 100%|██████████| 72/72 [00:06<00:00, 10.99it/s, loss=9.4053e-02]\n",
      "Epoch 6/50:   3%|▎         | 2/72 [00:00<00:06, 10.58it/s, loss=5.0780e-02]"
     ]
    },
    {
     "name": "stdout",
     "output_type": "stream",
     "text": [
      "Epoch 5/50, Train Loss: 5.8970e-02, Test Loss: 0.1101\n",
      "Epoch 5/50, Train Accuracy: 91.22%, Test Accuracy: 77.78%\n",
      "Epoch 5/50, Train AUC: 94.50%, Test AUC: 50.13%\n",
      "Classification Report on Val Set : \n",
      "              precision    recall  f1-score   support\n",
      "\n",
      "   No Cancer       0.91      0.84      0.87       257\n",
      "      Cancer       0.07      0.12      0.09        25\n",
      "\n",
      "    accuracy                           0.77       282\n",
      "   macro avg       0.49      0.48      0.48       282\n",
      "weighted avg       0.83      0.77      0.80       282\n",
      "\n"
     ]
    },
    {
     "name": "stderr",
     "output_type": "stream",
     "text": [
      "Epoch 6/50:  47%|████▋     | 34/72 [00:03<00:03, 10.84it/s, loss=1.3203e-01]\n"
     ]
    },
    {
     "ename": "KeyboardInterrupt",
     "evalue": "",
     "output_type": "error",
     "traceback": [
      "\u001b[0;31m---------------------------------------------------------------------------\u001b[0m",
      "\u001b[0;31mKeyboardInterrupt\u001b[0m                         Traceback (most recent call last)",
      "\u001b[0;32m<ipython-input-8-29cb4fbeee6f>\u001b[0m in \u001b[0;36m<module>\u001b[0;34m\u001b[0m\n\u001b[1;32m      6\u001b[0m \u001b[0msavepath\u001b[0m \u001b[0;34m=\u001b[0m \u001b[0mPath\u001b[0m\u001b[0;34m(\u001b[0m\u001b[0;34m'/tempory/transcriptomic_data/fine_tuned_def_cnn_checkpt.pt'\u001b[0m\u001b[0;34m)\u001b[0m\u001b[0;34m\u001b[0m\u001b[0;34m\u001b[0m\u001b[0m\n\u001b[1;32m      7\u001b[0m \u001b[0mcheckpoint\u001b[0m \u001b[0;34m=\u001b[0m \u001b[0mCheckpointState\u001b[0m\u001b[0;34m(\u001b[0m\u001b[0mnet\u001b[0m\u001b[0;34m,\u001b[0m \u001b[0moptimizer\u001b[0m\u001b[0;34m,\u001b[0m \u001b[0msavepath\u001b[0m\u001b[0;34m=\u001b[0m\u001b[0msavepath\u001b[0m\u001b[0;34m)\u001b[0m\u001b[0;34m\u001b[0m\u001b[0;34m\u001b[0m\u001b[0m\n\u001b[0;32m----> 8\u001b[0;31m \u001b[0mfit\u001b[0m\u001b[0;34m(\u001b[0m\u001b[0mcheckpoint\u001b[0m\u001b[0;34m,\u001b[0m \u001b[0mcriterion\u001b[0m\u001b[0;34m,\u001b[0m \u001b[0mlung_dataloader_train\u001b[0m\u001b[0;34m,\u001b[0m \u001b[0mlung_dataloader_validation\u001b[0m\u001b[0;34m,\u001b[0m \u001b[0mbasic_cnn_args\u001b[0m\u001b[0;34m[\u001b[0m\u001b[0;34m'epochs'\u001b[0m\u001b[0;34m]\u001b[0m\u001b[0;34m)\u001b[0m\u001b[0;34m\u001b[0m\u001b[0;34m\u001b[0m\u001b[0m\n\u001b[0m",
      "\u001b[0;32m/users/nfs/Etu3/3802993/Deep-Learning-For-Lung-Cancer-Prediction-Based-on-Transcriptomic-Data/train.py\u001b[0m in \u001b[0;36mfit\u001b[0;34m(checkpoint, criterion, train_loader, val_loader, epochs, clip, entropy_param, writer, embedding_computer)\u001b[0m\n\u001b[1;32m    108\u001b[0m \u001b[0;34m\u001b[0m\u001b[0m\n\u001b[1;32m    109\u001b[0m     \u001b[0;32mfor\u001b[0m \u001b[0mepoch\u001b[0m \u001b[0;32min\u001b[0m \u001b[0mrange\u001b[0m\u001b[0;34m(\u001b[0m\u001b[0mbegin_epoch\u001b[0m\u001b[0;34m,\u001b[0m \u001b[0mepochs\u001b[0m\u001b[0;34m+\u001b[0m\u001b[0;36m1\u001b[0m\u001b[0;34m)\u001b[0m\u001b[0;34m:\u001b[0m\u001b[0;34m\u001b[0m\u001b[0;34m\u001b[0m\u001b[0m\n\u001b[0;32m--> 110\u001b[0;31m         \u001b[0mtrain_epoch\u001b[0m\u001b[0;34m(\u001b[0m\u001b[0;34m)\u001b[0m\u001b[0;34m\u001b[0m\u001b[0;34m\u001b[0m\u001b[0m\n\u001b[0m\u001b[1;32m    111\u001b[0m         \u001b[0mloss_train\u001b[0m\u001b[0;34m,\u001b[0m \u001b[0macc_train\u001b[0m\u001b[0;34m,\u001b[0m \u001b[0mauc_train\u001b[0m\u001b[0;34m,\u001b[0m \u001b[0m_\u001b[0m \u001b[0;34m=\u001b[0m \u001b[0mevaluate_epoch\u001b[0m\u001b[0;34m(\u001b[0m\u001b[0mtrain_loader\u001b[0m\u001b[0;34m,\u001b[0m \u001b[0;34m'Train'\u001b[0m\u001b[0;34m)\u001b[0m\u001b[0;34m\u001b[0m\u001b[0;34m\u001b[0m\u001b[0m\n\u001b[1;32m    112\u001b[0m         \u001b[0mloss_test\u001b[0m\u001b[0;34m,\u001b[0m \u001b[0macc_test\u001b[0m\u001b[0;34m,\u001b[0m \u001b[0mauc_test\u001b[0m\u001b[0;34m,\u001b[0m \u001b[0mclf_report_test\u001b[0m \u001b[0;34m=\u001b[0m  \u001b[0mevaluate_epoch\u001b[0m\u001b[0;34m(\u001b[0m\u001b[0mval_loader\u001b[0m\u001b[0;34m,\u001b[0m \u001b[0;34m'Val'\u001b[0m\u001b[0;34m)\u001b[0m\u001b[0;34m\u001b[0m\u001b[0;34m\u001b[0m\u001b[0m\n",
      "\u001b[0;32m/users/nfs/Etu3/3802993/Deep-Learning-For-Lung-Cancer-Prediction-Based-on-Transcriptomic-Data/train.py\u001b[0m in \u001b[0;36mtrain_epoch\u001b[0;34m()\u001b[0m\n\u001b[1;32m     35\u001b[0m                     \u001b[0mimages\u001b[0m \u001b[0;34m=\u001b[0m \u001b[0membedding_computer\u001b[0m\u001b[0;34m.\u001b[0m\u001b[0mget_codes\u001b[0m\u001b[0;34m(\u001b[0m\u001b[0mmu\u001b[0m\u001b[0;34m,\u001b[0m \u001b[0mlog_sigma_squared\u001b[0m\u001b[0;34m)\u001b[0m\u001b[0;34m\u001b[0m\u001b[0;34m\u001b[0m\u001b[0m\n\u001b[1;32m     36\u001b[0m             \u001b[0moptimizer\u001b[0m\u001b[0;34m.\u001b[0m\u001b[0mzero_grad\u001b[0m\u001b[0;34m(\u001b[0m\u001b[0;34m)\u001b[0m\u001b[0;34m\u001b[0m\u001b[0;34m\u001b[0m\u001b[0m\n\u001b[0;32m---> 37\u001b[0;31m             \u001b[0moutput\u001b[0m \u001b[0;34m=\u001b[0m \u001b[0mnet\u001b[0m\u001b[0;34m(\u001b[0m\u001b[0mimages\u001b[0m\u001b[0;34m)\u001b[0m\u001b[0;34m\u001b[0m\u001b[0;34m\u001b[0m\u001b[0m\n\u001b[0m\u001b[1;32m     38\u001b[0m             \u001b[0mloss\u001b[0m \u001b[0;34m=\u001b[0m \u001b[0mcriterion\u001b[0m\u001b[0;34m(\u001b[0m\u001b[0moutput\u001b[0m\u001b[0;34m,\u001b[0m \u001b[0mlabels\u001b[0m\u001b[0;34m)\u001b[0m \u001b[0;31m#.unsqueeze(-1)\u001b[0m\u001b[0;34m\u001b[0m\u001b[0;34m\u001b[0m\u001b[0m\n\u001b[1;32m     39\u001b[0m             \u001b[0mepoch_loss\u001b[0m \u001b[0;34m+=\u001b[0m \u001b[0mloss\u001b[0m\u001b[0;34m.\u001b[0m\u001b[0mitem\u001b[0m\u001b[0;34m(\u001b[0m\u001b[0;34m)\u001b[0m\u001b[0;34m\u001b[0m\u001b[0;34m\u001b[0m\u001b[0m\n",
      "\u001b[0;32m/usr/local/lib/python3.7/dist-packages/torch/nn/modules/module.py\u001b[0m in \u001b[0;36m__call__\u001b[0;34m(self, *input, **kwargs)\u001b[0m\n\u001b[1;32m    548\u001b[0m             \u001b[0mresult\u001b[0m \u001b[0;34m=\u001b[0m \u001b[0mself\u001b[0m\u001b[0;34m.\u001b[0m\u001b[0m_slow_forward\u001b[0m\u001b[0;34m(\u001b[0m\u001b[0;34m*\u001b[0m\u001b[0minput\u001b[0m\u001b[0;34m,\u001b[0m \u001b[0;34m**\u001b[0m\u001b[0mkwargs\u001b[0m\u001b[0;34m)\u001b[0m\u001b[0;34m\u001b[0m\u001b[0;34m\u001b[0m\u001b[0m\n\u001b[1;32m    549\u001b[0m         \u001b[0;32melse\u001b[0m\u001b[0;34m:\u001b[0m\u001b[0;34m\u001b[0m\u001b[0;34m\u001b[0m\u001b[0m\n\u001b[0;32m--> 550\u001b[0;31m             \u001b[0mresult\u001b[0m \u001b[0;34m=\u001b[0m \u001b[0mself\u001b[0m\u001b[0;34m.\u001b[0m\u001b[0mforward\u001b[0m\u001b[0;34m(\u001b[0m\u001b[0;34m*\u001b[0m\u001b[0minput\u001b[0m\u001b[0;34m,\u001b[0m \u001b[0;34m**\u001b[0m\u001b[0mkwargs\u001b[0m\u001b[0;34m)\u001b[0m\u001b[0;34m\u001b[0m\u001b[0;34m\u001b[0m\u001b[0m\n\u001b[0m\u001b[1;32m    551\u001b[0m         \u001b[0;32mfor\u001b[0m \u001b[0mhook\u001b[0m \u001b[0;32min\u001b[0m \u001b[0mself\u001b[0m\u001b[0;34m.\u001b[0m\u001b[0m_forward_hooks\u001b[0m\u001b[0;34m.\u001b[0m\u001b[0mvalues\u001b[0m\u001b[0;34m(\u001b[0m\u001b[0;34m)\u001b[0m\u001b[0;34m:\u001b[0m\u001b[0;34m\u001b[0m\u001b[0;34m\u001b[0m\u001b[0m\n\u001b[1;32m    552\u001b[0m             \u001b[0mhook_result\u001b[0m \u001b[0;34m=\u001b[0m \u001b[0mhook\u001b[0m\u001b[0;34m(\u001b[0m\u001b[0mself\u001b[0m\u001b[0;34m,\u001b[0m \u001b[0minput\u001b[0m\u001b[0;34m,\u001b[0m \u001b[0mresult\u001b[0m\u001b[0;34m)\u001b[0m\u001b[0;34m\u001b[0m\u001b[0;34m\u001b[0m\u001b[0m\n",
      "\u001b[0;32m/users/nfs/Etu3/3802993/Deep-Learning-For-Lung-Cancer-Prediction-Based-on-Transcriptomic-Data/modules/deformable_cnn.py\u001b[0m in \u001b[0;36mforward\u001b[0;34m(self, x)\u001b[0m\n\u001b[1;32m    116\u001b[0m         \u001b[0mx\u001b[0m \u001b[0;34m=\u001b[0m \u001b[0mself\u001b[0m\u001b[0;34m.\u001b[0m\u001b[0mbn12\u001b[0m\u001b[0;34m(\u001b[0m\u001b[0mx\u001b[0m\u001b[0;34m)\u001b[0m\u001b[0;34m\u001b[0m\u001b[0;34m\u001b[0m\u001b[0m\n\u001b[1;32m    117\u001b[0m \u001b[0;34m\u001b[0m\u001b[0m\n\u001b[0;32m--> 118\u001b[0;31m         \u001b[0mx\u001b[0m \u001b[0;34m=\u001b[0m \u001b[0mself\u001b[0m\u001b[0;34m.\u001b[0m\u001b[0moffset21\u001b[0m\u001b[0;34m(\u001b[0m\u001b[0mx\u001b[0m\u001b[0;34m)\u001b[0m\u001b[0;34m\u001b[0m\u001b[0;34m\u001b[0m\u001b[0m\n\u001b[0m\u001b[1;32m    119\u001b[0m         \u001b[0mx\u001b[0m \u001b[0;34m=\u001b[0m \u001b[0mF\u001b[0m\u001b[0;34m.\u001b[0m\u001b[0mrelu\u001b[0m\u001b[0;34m(\u001b[0m\u001b[0mself\u001b[0m\u001b[0;34m.\u001b[0m\u001b[0mconv21\u001b[0m\u001b[0;34m(\u001b[0m\u001b[0mx\u001b[0m\u001b[0;34m)\u001b[0m\u001b[0;34m)\u001b[0m\u001b[0;34m\u001b[0m\u001b[0;34m\u001b[0m\u001b[0m\n\u001b[1;32m    120\u001b[0m         \u001b[0mx\u001b[0m \u001b[0;34m=\u001b[0m \u001b[0mself\u001b[0m\u001b[0;34m.\u001b[0m\u001b[0mbn21\u001b[0m\u001b[0;34m(\u001b[0m\u001b[0mx\u001b[0m\u001b[0;34m)\u001b[0m\u001b[0;34m\u001b[0m\u001b[0;34m\u001b[0m\u001b[0m\n",
      "\u001b[0;32m/usr/local/lib/python3.7/dist-packages/torch/nn/modules/module.py\u001b[0m in \u001b[0;36m__call__\u001b[0;34m(self, *input, **kwargs)\u001b[0m\n\u001b[1;32m    548\u001b[0m             \u001b[0mresult\u001b[0m \u001b[0;34m=\u001b[0m \u001b[0mself\u001b[0m\u001b[0;34m.\u001b[0m\u001b[0m_slow_forward\u001b[0m\u001b[0;34m(\u001b[0m\u001b[0;34m*\u001b[0m\u001b[0minput\u001b[0m\u001b[0;34m,\u001b[0m \u001b[0;34m**\u001b[0m\u001b[0mkwargs\u001b[0m\u001b[0;34m)\u001b[0m\u001b[0;34m\u001b[0m\u001b[0;34m\u001b[0m\u001b[0m\n\u001b[1;32m    549\u001b[0m         \u001b[0;32melse\u001b[0m\u001b[0;34m:\u001b[0m\u001b[0;34m\u001b[0m\u001b[0;34m\u001b[0m\u001b[0m\n\u001b[0;32m--> 550\u001b[0;31m             \u001b[0mresult\u001b[0m \u001b[0;34m=\u001b[0m \u001b[0mself\u001b[0m\u001b[0;34m.\u001b[0m\u001b[0mforward\u001b[0m\u001b[0;34m(\u001b[0m\u001b[0;34m*\u001b[0m\u001b[0minput\u001b[0m\u001b[0;34m,\u001b[0m \u001b[0;34m**\u001b[0m\u001b[0mkwargs\u001b[0m\u001b[0;34m)\u001b[0m\u001b[0;34m\u001b[0m\u001b[0;34m\u001b[0m\u001b[0m\n\u001b[0m\u001b[1;32m    551\u001b[0m         \u001b[0;32mfor\u001b[0m \u001b[0mhook\u001b[0m \u001b[0;32min\u001b[0m \u001b[0mself\u001b[0m\u001b[0;34m.\u001b[0m\u001b[0m_forward_hooks\u001b[0m\u001b[0;34m.\u001b[0m\u001b[0mvalues\u001b[0m\u001b[0;34m(\u001b[0m\u001b[0;34m)\u001b[0m\u001b[0;34m:\u001b[0m\u001b[0;34m\u001b[0m\u001b[0;34m\u001b[0m\u001b[0m\n\u001b[1;32m    552\u001b[0m             \u001b[0mhook_result\u001b[0m \u001b[0;34m=\u001b[0m \u001b[0mhook\u001b[0m\u001b[0;34m(\u001b[0m\u001b[0mself\u001b[0m\u001b[0;34m,\u001b[0m \u001b[0minput\u001b[0m\u001b[0;34m,\u001b[0m \u001b[0mresult\u001b[0m\u001b[0;34m)\u001b[0m\u001b[0;34m\u001b[0m\u001b[0;34m\u001b[0m\u001b[0m\n",
      "\u001b[0;32m/users/nfs/Etu3/3802993/Deep-Learning-For-Lung-Cancer-Prediction-Based-on-Transcriptomic-Data/modules/deformable_cnn.py\u001b[0m in \u001b[0;36mforward\u001b[0;34m(self, x)\u001b[0m\n\u001b[1;32m     44\u001b[0m \u001b[0;34m\u001b[0m\u001b[0m\n\u001b[1;32m     45\u001b[0m         \u001b[0;31m# X_offset: (b*c, h, w)\u001b[0m\u001b[0;34m\u001b[0m\u001b[0;34m\u001b[0m\u001b[0;34m\u001b[0m\u001b[0m\n\u001b[0;32m---> 46\u001b[0;31m         \u001b[0mx_offset\u001b[0m \u001b[0;34m=\u001b[0m \u001b[0mth_batch_map_offsets\u001b[0m\u001b[0;34m(\u001b[0m\u001b[0mx\u001b[0m\u001b[0;34m,\u001b[0m \u001b[0moffsets\u001b[0m\u001b[0;34m,\u001b[0m \u001b[0mgrid\u001b[0m\u001b[0;34m=\u001b[0m\u001b[0mself\u001b[0m\u001b[0;34m.\u001b[0m\u001b[0m_get_grid\u001b[0m\u001b[0;34m(\u001b[0m\u001b[0mself\u001b[0m\u001b[0;34m,\u001b[0m\u001b[0mx\u001b[0m\u001b[0;34m)\u001b[0m\u001b[0;34m)\u001b[0m\u001b[0;34m\u001b[0m\u001b[0;34m\u001b[0m\u001b[0m\n\u001b[0m\u001b[1;32m     47\u001b[0m \u001b[0;34m\u001b[0m\u001b[0m\n\u001b[1;32m     48\u001b[0m         \u001b[0;31m# x_offset: (b, h, w, c)\u001b[0m\u001b[0;34m\u001b[0m\u001b[0;34m\u001b[0m\u001b[0;34m\u001b[0m\u001b[0m\n",
      "\u001b[0;32m/users/nfs/Etu3/3802993/Deep-Learning-For-Lung-Cancer-Prediction-Based-on-Transcriptomic-Data/modules/deform_conv.py\u001b[0m in \u001b[0;36mth_batch_map_offsets\u001b[0;34m(input, offsets, grid, order)\u001b[0m\n\u001b[1;32m    186\u001b[0m     \u001b[0mcoords\u001b[0m \u001b[0;34m=\u001b[0m \u001b[0moffsets\u001b[0m \u001b[0;34m+\u001b[0m \u001b[0mgrid\u001b[0m\u001b[0;34m\u001b[0m\u001b[0;34m\u001b[0m\u001b[0m\n\u001b[1;32m    187\u001b[0m \u001b[0;34m\u001b[0m\u001b[0m\n\u001b[0;32m--> 188\u001b[0;31m     \u001b[0mmapped_vals\u001b[0m \u001b[0;34m=\u001b[0m \u001b[0mth_batch_map_coordinates\u001b[0m\u001b[0;34m(\u001b[0m\u001b[0minput\u001b[0m\u001b[0;34m,\u001b[0m \u001b[0mcoords\u001b[0m\u001b[0;34m)\u001b[0m\u001b[0;34m\u001b[0m\u001b[0;34m\u001b[0m\u001b[0m\n\u001b[0m\u001b[1;32m    189\u001b[0m     \u001b[0;32mreturn\u001b[0m \u001b[0mmapped_vals\u001b[0m\u001b[0;34m\u001b[0m\u001b[0;34m\u001b[0m\u001b[0m\n",
      "\u001b[0;32m/users/nfs/Etu3/3802993/Deep-Learning-For-Lung-Cancer-Prediction-Based-on-Transcriptomic-Data/modules/deform_conv.py\u001b[0m in \u001b[0;36mth_batch_map_coordinates\u001b[0;34m(input, coords, order)\u001b[0m\n\u001b[1;32m    112\u001b[0m     \u001b[0midx\u001b[0m \u001b[0;34m=\u001b[0m \u001b[0mVariable\u001b[0m\u001b[0;34m(\u001b[0m\u001b[0midx\u001b[0m\u001b[0;34m,\u001b[0m \u001b[0mrequires_grad\u001b[0m\u001b[0;34m=\u001b[0m\u001b[0;32mFalse\u001b[0m\u001b[0;34m)\u001b[0m\u001b[0;34m\u001b[0m\u001b[0;34m\u001b[0m\u001b[0m\n\u001b[1;32m    113\u001b[0m     \u001b[0;32mif\u001b[0m \u001b[0minput\u001b[0m\u001b[0;34m.\u001b[0m\u001b[0mis_cuda\u001b[0m\u001b[0;34m:\u001b[0m\u001b[0;34m\u001b[0m\u001b[0;34m\u001b[0m\u001b[0m\n\u001b[0;32m--> 114\u001b[0;31m         \u001b[0midx\u001b[0m \u001b[0;34m=\u001b[0m \u001b[0midx\u001b[0m\u001b[0;34m.\u001b[0m\u001b[0mcuda\u001b[0m\u001b[0;34m(\u001b[0m\u001b[0;34m)\u001b[0m\u001b[0;34m\u001b[0m\u001b[0;34m\u001b[0m\u001b[0m\n\u001b[0m\u001b[1;32m    115\u001b[0m \u001b[0;34m\u001b[0m\u001b[0m\n\u001b[1;32m    116\u001b[0m     \u001b[0;32mdef\u001b[0m \u001b[0m_get_vals_by_coords\u001b[0m\u001b[0;34m(\u001b[0m\u001b[0minput\u001b[0m\u001b[0;34m,\u001b[0m \u001b[0mcoords\u001b[0m\u001b[0;34m)\u001b[0m\u001b[0;34m:\u001b[0m\u001b[0;34m\u001b[0m\u001b[0;34m\u001b[0m\u001b[0m\n",
      "\u001b[0;31mKeyboardInterrupt\u001b[0m: "
     ]
    }
   ],
   "source": [
    "# Beginnig Of Transfer Learnig Procedure\n",
    "net = get_deform_cnn_fine_tune(pretrained, freeze_cnn=False, freeze_filter=[nn.Conv2d])\n",
    "net = net.to(device).double()\n",
    "criterion = FocalLoss().to(device)\n",
    "optimizer = optim.Adam(net.parameters(), lr=basic_cnn_args['lr_ft'])\n",
    "savepath = Path('/tempory/transcriptomic_data/fine_tuned_def_cnn_checkpt.pt')\n",
    "checkpoint = CheckpointState(net, optimizer, savepath=savepath)\n",
    "fit(checkpoint, criterion, lung_dataloader_train, lung_dataloader_validation, basic_cnn_args['epochs'])"
   ]
  },
  {
   "cell_type": "code",
   "execution_count": null,
   "metadata": {},
   "outputs": [],
   "source": []
  }
 ],
 "metadata": {
  "kernelspec": {
   "display_name": "Python 3",
   "language": "python",
   "name": "python3"
  },
  "language_info": {
   "codemirror_mode": {
    "name": "ipython",
    "version": 3
   },
   "file_extension": ".py",
   "mimetype": "text/x-python",
   "name": "python",
   "nbconvert_exporter": "python",
   "pygments_lexer": "ipython3",
   "version": "3.7.3"
  }
 },
 "nbformat": 4,
 "nbformat_minor": 4
}
