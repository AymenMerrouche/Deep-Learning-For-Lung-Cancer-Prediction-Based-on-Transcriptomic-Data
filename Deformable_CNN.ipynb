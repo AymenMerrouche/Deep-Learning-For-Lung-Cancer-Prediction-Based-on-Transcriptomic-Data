{
 "cells": [
  {
   "cell_type": "markdown",
   "metadata": {},
   "source": [
    "# **Deformable Convolution for Lung Cancer Prediction Based on Transcriptomic Data : a Deformable Convolutional Neural Network**\n",
    "> Author : **Aymen MERROUCHE**. <br>\n",
    "> In this notebook, we implement a deformable convolutional network for our binary classification task. First we pre train our MLP on the non Lung cancer dataset. Then, we fine tune it on the lung cancer dataset (we don't keep the final classification layer) :"
   ]
  },
  {
   "cell_type": "code",
   "execution_count": 32,
   "metadata": {},
   "outputs": [
    {
     "name": "stdout",
     "output_type": "stream",
     "text": [
      "The autoreload extension is already loaded. To reload it, use:\n",
      "  %reload_ext autoreload\n"
     ]
    }
   ],
   "source": [
    "import torch\n",
    "import torch.nn as nn\n",
    "from torch.nn import functional as F\n",
    "import numpy as np\n",
    "import datetime\n",
    "\n",
    "from utils import *\n",
    "from train import *\n",
    "from data_utils import *\n",
    "from modules.deformable_cnn import *\n",
    "from modules.focal_loss import *\n",
    "%load_ext autoreload\n",
    "%autoreload 2"
   ]
  },
  {
   "cell_type": "code",
   "execution_count": 33,
   "metadata": {},
   "outputs": [
    {
     "name": "stdout",
     "output_type": "stream",
     "text": [
      "Working on :  cuda\n"
     ]
    }
   ],
   "source": [
    "# device to use, if cuda available then use cuda else use cpu\n",
    "device = torch.device('cuda' if torch.cuda.is_available() else 'cpu')\n",
    "print(\"Working on : \", device)"
   ]
  },
  {
   "cell_type": "code",
   "execution_count": 34,
   "metadata": {},
   "outputs": [],
   "source": [
    "# load hyperparametrs\n",
    "# data paths args\n",
    "with open('./configs/data_paths.yaml', 'r') as stream:\n",
    "    data_paths_args  = yaml.load(stream,Loader=yaml.Loader)\n",
    "    \n",
    "    \n",
    "# basic cnn args\n",
    "with open('./configs/def_cnn.yaml', 'r') as stream:\n",
    "    basic_cnn_args  = yaml.load(stream,Loader=yaml.Loader)"
   ]
  },
  {
   "cell_type": "markdown",
   "metadata": {},
   "source": [
    "## **1 - Pre-Training on the Non Lung Dataset :**"
   ]
  },
  {
   "cell_type": "markdown",
   "metadata": {},
   "source": [
    "### **1 - 1 - Get the Data :**"
   ]
  },
  {
   "cell_type": "code",
   "execution_count": 26,
   "metadata": {},
   "outputs": [
    {
     "name": "stdout",
     "output_type": "stream",
     "text": [
      "CPU times: user 4.75 s, sys: 985 ms, total: 5.74 s\n",
      "Wall time: 2.91 s\n"
     ]
    }
   ],
   "source": [
    "%%time\n",
    "# Getting the data\n",
    "# dataset\n",
    "non_lung_dataset = TranscriptomicImagesDatasetNonLung(data_paths_args[\"path_to_pan_cancer_hdf5_files\"], data_paths_args[\"path_to_treemap_images\"])\n",
    "non_lung_dataloader_train, non_lung_dataloader_validation = get_data_loaders(non_lung_dataset, batch_size_train = basic_cnn_args[\"batch_size_pt\"],\\\n",
    "                                                                             batch_size_validation = basic_cnn_args[\"batch_size_pt\"])"
   ]
  },
  {
   "cell_type": "markdown",
   "metadata": {},
   "source": [
    "### **1 - 2 - Network, Criterion and Training :**"
   ]
  },
  {
   "cell_type": "code",
   "execution_count": null,
   "metadata": {},
   "outputs": [
    {
     "name": "stderr",
     "output_type": "stream",
     "text": [
      "Epoch 1/50:   0%|          | 1/646 [00:00<01:12,  8.92it/s, loss=1.0283e-01]"
     ]
    },
    {
     "name": "stdout",
     "output_type": "stream",
     "text": [
      "Experimenting with : \n",
      " \tepochs=50_batch_size_pt=8_lr_pt=0.001_batch_size_ft=8_lr_ft=0.001_no_tensorboard=True\n",
      "Training on GPU \n",
      "\n"
     ]
    },
    {
     "name": "stderr",
     "output_type": "stream",
     "text": [
      "Epoch 1/50: 100%|██████████| 646/646 [00:58<00:00, 10.99it/s, loss=8.0245e-02]\n",
      "Epoch 2/50:   0%|          | 2/646 [00:00<01:01, 10.47it/s, loss=9.0169e-02]"
     ]
    },
    {
     "name": "stdout",
     "output_type": "stream",
     "text": [
      "Epoch 1/50, Train Loss: 8.5232e-02, Test Loss: 0.0901\n",
      "Epoch 1/50, Train Accuracy: 55.96%, Test Accuracy: 60.36%\n",
      "Epoch 1/50, Train AUC: 55.97%, Test AUC: 56.59%\n",
      "Classification Report on Val Set : \n",
      "              precision    recall  f1-score   support\n",
      "\n",
      "   No Cancer       0.90      0.62      0.73      2233\n",
      "      Cancer       0.16      0.52      0.24       310\n",
      "\n",
      "    accuracy                           0.60      2543\n",
      "   macro avg       0.53      0.57      0.49      2543\n",
      "weighted avg       0.81      0.60      0.67      2543\n",
      "\n"
     ]
    },
    {
     "name": "stderr",
     "output_type": "stream",
     "text": [
      "Epoch 2/50: 100%|██████████| 646/646 [00:59<00:00, 10.91it/s, loss=1.0464e-01]\n",
      "Epoch 3/50:   0%|          | 2/646 [00:00<01:01, 10.51it/s, loss=8.1974e-02]"
     ]
    },
    {
     "name": "stdout",
     "output_type": "stream",
     "text": [
      "Epoch 2/50, Train Loss: 8.2363e-02, Test Loss: 0.0762\n",
      "Epoch 2/50, Train Accuracy: 57.47%, Test Accuracy: 75.98%\n",
      "Epoch 2/50, Train AUC: 57.72%, Test AUC: 55.34%\n",
      "Classification Report on Val Set : \n",
      "              precision    recall  f1-score   support\n",
      "\n",
      "   No Cancer       0.89      0.83      0.86      2233\n",
      "      Cancer       0.18      0.28      0.22       310\n",
      "\n",
      "    accuracy                           0.76      2543\n",
      "   macro avg       0.54      0.55      0.54      2543\n",
      "weighted avg       0.81      0.76      0.78      2543\n",
      "\n"
     ]
    },
    {
     "name": "stderr",
     "output_type": "stream",
     "text": [
      "Epoch 3/50: 100%|██████████| 646/646 [00:59<00:00, 10.91it/s, loss=8.7185e-02]\n",
      "Epoch 4/50:   0%|          | 2/646 [00:00<01:01, 10.47it/s, loss=1.2705e-01]"
     ]
    },
    {
     "name": "stdout",
     "output_type": "stream",
     "text": [
      "Epoch 3/50, Train Loss: 7.9354e-02, Test Loss: 0.0779\n",
      "Epoch 3/50, Train Accuracy: 57.89%, Test Accuracy: 66.81%\n",
      "Epoch 3/50, Train AUC: 58.17%, Test AUC: 57.21%\n",
      "Classification Report on Val Set : \n",
      "              precision    recall  f1-score   support\n",
      "\n",
      "   No Cancer       0.90      0.70      0.79      2233\n",
      "      Cancer       0.17      0.45      0.25       310\n",
      "\n",
      "    accuracy                           0.67      2543\n",
      "   macro avg       0.54      0.57      0.52      2543\n",
      "weighted avg       0.81      0.67      0.72      2543\n",
      "\n"
     ]
    },
    {
     "name": "stderr",
     "output_type": "stream",
     "text": [
      "Epoch 4/50: 100%|██████████| 646/646 [00:59<00:00, 10.90it/s, loss=9.4914e-02]\n",
      "Epoch 5/50:   0%|          | 2/646 [00:00<01:01, 10.50it/s, loss=8.4482e-02]"
     ]
    },
    {
     "name": "stdout",
     "output_type": "stream",
     "text": [
      "Epoch 4/50, Train Loss: 7.5585e-02, Test Loss: 0.0554\n",
      "Epoch 4/50, Train Accuracy: 61.63%, Test Accuracy: 81.40%\n",
      "Epoch 4/50, Train AUC: 61.84%, Test AUC: 57.88%\n",
      "Classification Report on Val Set : \n",
      "              precision    recall  f1-score   support\n",
      "\n",
      "   No Cancer       0.90      0.89      0.89      2233\n",
      "      Cancer       0.25      0.27      0.26       310\n",
      "\n",
      "    accuracy                           0.81      2543\n",
      "   macro avg       0.57      0.58      0.58      2543\n",
      "weighted avg       0.82      0.81      0.82      2543\n",
      "\n"
     ]
    },
    {
     "name": "stderr",
     "output_type": "stream",
     "text": [
      "Epoch 5/50: 100%|██████████| 646/646 [00:59<00:00, 10.90it/s, loss=1.3326e-01]\n",
      "Epoch 6/50:   0%|          | 2/646 [00:00<01:01, 10.48it/s, loss=5.1298e-02]"
     ]
    },
    {
     "name": "stdout",
     "output_type": "stream",
     "text": [
      "Epoch 5/50, Train Loss: 6.0190e-02, Test Loss: 0.0633\n",
      "Epoch 5/50, Train Accuracy: 70.20%, Test Accuracy: 70.36%\n",
      "Epoch 5/50, Train AUC: 70.11%, Test AUC: 61.31%\n",
      "Classification Report on Val Set : \n",
      "              precision    recall  f1-score   support\n",
      "\n",
      "   No Cancer       0.91      0.73      0.81      2233\n",
      "      Cancer       0.20      0.49      0.29       310\n",
      "\n",
      "    accuracy                           0.70      2543\n",
      "   macro avg       0.56      0.61      0.55      2543\n",
      "weighted avg       0.83      0.70      0.75      2543\n",
      "\n"
     ]
    },
    {
     "name": "stderr",
     "output_type": "stream",
     "text": [
      "Epoch 6/50: 100%|██████████| 646/646 [01:02<00:00, 10.41it/s, loss=2.1352e-01]\n",
      "Epoch 7/50:   0%|          | 2/646 [00:00<01:01, 10.49it/s, loss=4.1966e-02]"
     ]
    },
    {
     "name": "stdout",
     "output_type": "stream",
     "text": [
      "Epoch 6/50, Train Loss: 5.2916e-02, Test Loss: 0.0530\n",
      "Epoch 6/50, Train Accuracy: 73.59%, Test Accuracy: 74.05%\n",
      "Epoch 6/50, Train AUC: 73.53%, Test AUC: 60.08%\n",
      "Classification Report on Val Set : \n",
      "              precision    recall  f1-score   support\n",
      "\n",
      "   No Cancer       0.91      0.79      0.84      2233\n",
      "      Cancer       0.21      0.42      0.28       310\n",
      "\n",
      "    accuracy                           0.74      2543\n",
      "   macro avg       0.56      0.60      0.56      2543\n",
      "weighted avg       0.82      0.74      0.77      2543\n",
      "\n"
     ]
    },
    {
     "name": "stderr",
     "output_type": "stream",
     "text": [
      "Epoch 7/50: 100%|██████████| 646/646 [01:01<00:00, 10.45it/s, loss=8.0148e-02]\n",
      "Epoch 8/50:   0%|          | 2/646 [00:00<01:01, 10.50it/s, loss=4.9956e-02]"
     ]
    },
    {
     "name": "stdout",
     "output_type": "stream",
     "text": [
      "Epoch 7/50, Train Loss: 5.1984e-02, Test Loss: 0.0353\n",
      "Epoch 7/50, Train Accuracy: 71.48%, Test Accuracy: 80.77%\n",
      "Epoch 7/50, Train AUC: 71.74%, Test AUC: 56.13%\n",
      "Classification Report on Val Set : \n",
      "              precision    recall  f1-score   support\n",
      "\n",
      "   No Cancer       0.89      0.89      0.89      2233\n",
      "      Cancer       0.22      0.24      0.23       310\n",
      "\n",
      "    accuracy                           0.81      2543\n",
      "   macro avg       0.56      0.56      0.56      2543\n",
      "weighted avg       0.81      0.81      0.81      2543\n",
      "\n"
     ]
    },
    {
     "name": "stderr",
     "output_type": "stream",
     "text": [
      "Epoch 8/50: 100%|██████████| 646/646 [00:59<00:00, 10.90it/s, loss=3.0353e-02]\n",
      "Epoch 9/50:   0%|          | 2/646 [00:00<01:01, 10.50it/s, loss=6.0170e-02]"
     ]
    },
    {
     "name": "stdout",
     "output_type": "stream",
     "text": [
      "Epoch 8/50, Train Loss: 4.4937e-02, Test Loss: 0.0998\n",
      "Epoch 8/50, Train Accuracy: 74.94%, Test Accuracy: 56.23%\n",
      "Epoch 8/50, Train AUC: 74.88%, Test AUC: 61.33%\n",
      "Classification Report on Val Set : \n",
      "              precision    recall  f1-score   support\n",
      "\n",
      "   No Cancer       0.92      0.55      0.69      2233\n",
      "      Cancer       0.17      0.68      0.27       310\n",
      "\n",
      "    accuracy                           0.56      2543\n",
      "   macro avg       0.55      0.61      0.48      2543\n",
      "weighted avg       0.83      0.56      0.64      2543\n",
      "\n"
     ]
    },
    {
     "name": "stderr",
     "output_type": "stream",
     "text": [
      "Epoch 9/50: 100%|██████████| 646/646 [01:00<00:00, 10.73it/s, loss=1.1202e-01]\n",
      "Epoch 10/50:   0%|          | 2/646 [00:00<01:01, 10.49it/s, loss=9.1683e-02]"
     ]
    },
    {
     "name": "stdout",
     "output_type": "stream",
     "text": [
      "Epoch 9/50, Train Loss: 5.0095e-02, Test Loss: 0.0289\n",
      "Epoch 9/50, Train Accuracy: 69.20%, Test Accuracy: 83.21%\n",
      "Epoch 9/50, Train AUC: 69.45%, Test AUC: 56.41%\n",
      "Classification Report on Val Set : \n",
      "              precision    recall  f1-score   support\n",
      "\n",
      "   No Cancer       0.89      0.92      0.91      2233\n",
      "      Cancer       0.26      0.21      0.23       310\n",
      "\n",
      "    accuracy                           0.83      2543\n",
      "   macro avg       0.58      0.56      0.57      2543\n",
      "weighted avg       0.82      0.83      0.82      2543\n",
      "\n"
     ]
    },
    {
     "name": "stderr",
     "output_type": "stream",
     "text": [
      "Epoch 10/50: 100%|██████████| 646/646 [00:59<00:00, 10.91it/s, loss=4.0607e-03]\n",
      "Epoch 11/50:   0%|          | 2/646 [00:00<01:01, 10.49it/s, loss=1.8917e-02]"
     ]
    },
    {
     "name": "stdout",
     "output_type": "stream",
     "text": [
      "Epoch 10/50, Train Loss: 3.4008e-02, Test Loss: 0.0859\n",
      "Epoch 10/50, Train Accuracy: 78.70%, Test Accuracy: 65.12%\n",
      "Epoch 10/50, Train AUC: 78.69%, Test AUC: 60.00%\n",
      "Classification Report on Val Set : \n",
      "              precision    recall  f1-score   support\n",
      "\n",
      "   No Cancer       0.91      0.67      0.77      2233\n",
      "      Cancer       0.18      0.53      0.27       310\n",
      "\n",
      "    accuracy                           0.65      2543\n",
      "   macro avg       0.55      0.60      0.52      2543\n",
      "weighted avg       0.82      0.65      0.71      2543\n",
      "\n"
     ]
    },
    {
     "name": "stderr",
     "output_type": "stream",
     "text": [
      "Epoch 11/50: 100%|██████████| 646/646 [00:59<00:00, 10.90it/s, loss=6.8228e-03]\n",
      "Epoch 12/50:   0%|          | 2/646 [00:00<01:01, 10.50it/s, loss=8.5094e-02]"
     ]
    },
    {
     "name": "stdout",
     "output_type": "stream",
     "text": [
      "Epoch 11/50, Train Loss: 2.1782e-02, Test Loss: 0.0541\n",
      "Epoch 11/50, Train Accuracy: 84.13%, Test Accuracy: 73.57%\n",
      "Epoch 11/50, Train AUC: 84.11%, Test AUC: 59.67%\n",
      "Classification Report on Val Set : \n",
      "              precision    recall  f1-score   support\n",
      "\n",
      "   No Cancer       0.91      0.78      0.84      2233\n",
      "      Cancer       0.21      0.41      0.28       310\n",
      "\n",
      "    accuracy                           0.74      2543\n",
      "   macro avg       0.56      0.60      0.56      2543\n",
      "weighted avg       0.82      0.74      0.77      2543\n",
      "\n"
     ]
    },
    {
     "name": "stderr",
     "output_type": "stream",
     "text": [
      "Epoch 12/50: 100%|██████████| 646/646 [00:59<00:00, 10.90it/s, loss=2.2693e-02]\n",
      "Epoch 13/50:   0%|          | 2/646 [00:00<01:01, 10.50it/s, loss=2.5345e-02]"
     ]
    },
    {
     "name": "stdout",
     "output_type": "stream",
     "text": [
      "Epoch 12/50, Train Loss: 2.2438e-02, Test Loss: 0.0651\n",
      "Epoch 12/50, Train Accuracy: 83.78%, Test Accuracy: 69.64%\n",
      "Epoch 12/50, Train AUC: 83.71%, Test AUC: 59.10%\n",
      "Classification Report on Val Set : \n",
      "              precision    recall  f1-score   support\n",
      "\n",
      "   No Cancer       0.91      0.73      0.81      2233\n",
      "      Cancer       0.19      0.45      0.27       310\n",
      "\n",
      "    accuracy                           0.70      2543\n",
      "   macro avg       0.55      0.59      0.54      2543\n",
      "weighted avg       0.82      0.70      0.74      2543\n",
      "\n"
     ]
    },
    {
     "name": "stderr",
     "output_type": "stream",
     "text": [
      "Epoch 13/50: 100%|██████████| 646/646 [00:59<00:00, 10.90it/s, loss=3.6578e-03]\n",
      "Epoch 14/50:   0%|          | 2/646 [00:00<01:01, 10.47it/s, loss=5.3339e-03]"
     ]
    },
    {
     "name": "stdout",
     "output_type": "stream",
     "text": [
      "Epoch 13/50, Train Loss: 2.6003e-02, Test Loss: 0.1019\n",
      "Epoch 13/50, Train Accuracy: 83.73%, Test Accuracy: 63.79%\n",
      "Epoch 13/50, Train AUC: 83.78%, Test AUC: 60.35%\n",
      "Classification Report on Val Set : \n",
      "              precision    recall  f1-score   support\n",
      "\n",
      "   No Cancer       0.91      0.65      0.76      2233\n",
      "      Cancer       0.18      0.56      0.27       310\n",
      "\n",
      "    accuracy                           0.64      2543\n",
      "   macro avg       0.55      0.60      0.52      2543\n",
      "weighted avg       0.82      0.64      0.70      2543\n",
      "\n"
     ]
    },
    {
     "name": "stderr",
     "output_type": "stream",
     "text": [
      "Epoch 14/50: 100%|██████████| 646/646 [00:59<00:00, 10.88it/s, loss=1.5305e-03]\n",
      "Epoch 15/50:   0%|          | 2/646 [00:00<01:01, 10.49it/s, loss=1.6844e-02]"
     ]
    },
    {
     "name": "stdout",
     "output_type": "stream",
     "text": [
      "Epoch 14/50, Train Loss: 2.4751e-02, Test Loss: 0.0619\n",
      "Epoch 14/50, Train Accuracy: 82.37%, Test Accuracy: 72.79%\n",
      "Epoch 14/50, Train AUC: 82.36%, Test AUC: 59.36%\n",
      "Classification Report on Val Set : \n",
      "              precision    recall  f1-score   support\n",
      "\n",
      "   No Cancer       0.90      0.77      0.83      2233\n",
      "      Cancer       0.20      0.42      0.27       310\n",
      "\n",
      "    accuracy                           0.73      2543\n",
      "   macro avg       0.55      0.59      0.55      2543\n",
      "weighted avg       0.82      0.73      0.76      2543\n",
      "\n"
     ]
    },
    {
     "name": "stderr",
     "output_type": "stream",
     "text": [
      "Epoch 15/50: 100%|██████████| 646/646 [00:59<00:00, 10.90it/s, loss=1.9866e-02]\n",
      "Epoch 16/50:   0%|          | 2/646 [00:00<01:01, 10.51it/s, loss=2.0364e-02]"
     ]
    },
    {
     "name": "stdout",
     "output_type": "stream",
     "text": [
      "Epoch 15/50, Train Loss: 1.6671e-02, Test Loss: 0.0331\n",
      "Epoch 15/50, Train Accuracy: 85.22%, Test Accuracy: 80.42%\n",
      "Epoch 15/50, Train AUC: 85.31%, Test AUC: 56.49%\n",
      "Classification Report on Val Set : \n",
      "              precision    recall  f1-score   support\n",
      "\n",
      "   No Cancer       0.89      0.88      0.89      2233\n",
      "      Cancer       0.23      0.25      0.24       310\n",
      "\n",
      "    accuracy                           0.80      2543\n",
      "   macro avg       0.56      0.56      0.56      2543\n",
      "weighted avg       0.81      0.80      0.81      2543\n",
      "\n"
     ]
    },
    {
     "name": "stderr",
     "output_type": "stream",
     "text": [
      "Epoch 16/50: 100%|██████████| 646/646 [01:08<00:00,  9.49it/s, loss=1.4979e-02]\n",
      "Epoch 17/50:   0%|          | 2/646 [00:00<01:01, 10.51it/s, loss=4.2240e-02]"
     ]
    },
    {
     "name": "stdout",
     "output_type": "stream",
     "text": [
      "Epoch 16/50, Train Loss: 3.5144e-02, Test Loss: 0.1064\n",
      "Epoch 16/50, Train Accuracy: 79.02%, Test Accuracy: 65.08%\n",
      "Epoch 16/50, Train AUC: 79.06%, Test AUC: 62.34%\n",
      "Classification Report on Val Set : \n",
      "              precision    recall  f1-score   support\n",
      "\n",
      "   No Cancer       0.92      0.66      0.77      2233\n",
      "      Cancer       0.19      0.59      0.29       310\n",
      "\n",
      "    accuracy                           0.65      2543\n",
      "   macro avg       0.56      0.62      0.53      2543\n",
      "weighted avg       0.83      0.65      0.71      2543\n",
      "\n"
     ]
    },
    {
     "name": "stderr",
     "output_type": "stream",
     "text": [
      "Epoch 17/50: 100%|██████████| 646/646 [00:59<00:00, 10.91it/s, loss=2.7165e-02]\n",
      "Epoch 18/50:   0%|          | 2/646 [00:00<01:01, 10.52it/s, loss=1.0459e-01]"
     ]
    },
    {
     "name": "stdout",
     "output_type": "stream",
     "text": [
      "Epoch 17/50, Train Loss: 1.7555e-02, Test Loss: 0.0492\n",
      "Epoch 17/50, Train Accuracy: 85.33%, Test Accuracy: 75.58%\n",
      "Epoch 17/50, Train AUC: 85.32%, Test AUC: 58.04%\n",
      "Classification Report on Val Set : \n",
      "              precision    recall  f1-score   support\n",
      "\n",
      "   No Cancer       0.90      0.81      0.85      2233\n",
      "      Cancer       0.20      0.35      0.26       310\n",
      "\n",
      "    accuracy                           0.76      2543\n",
      "   macro avg       0.55      0.58      0.56      2543\n",
      "weighted avg       0.82      0.76      0.78      2543\n",
      "\n"
     ]
    },
    {
     "name": "stderr",
     "output_type": "stream",
     "text": [
      "Epoch 18/50: 100%|██████████| 646/646 [00:59<00:00, 10.90it/s, loss=2.6877e-03]\n",
      "Epoch 19/50:   0%|          | 2/646 [00:00<01:01, 10.52it/s, loss=8.2447e-03]"
     ]
    },
    {
     "name": "stdout",
     "output_type": "stream",
     "text": [
      "Epoch 18/50, Train Loss: 2.8713e-02, Test Loss: 0.0683\n",
      "Epoch 18/50, Train Accuracy: 80.30%, Test Accuracy: 70.98%\n",
      "Epoch 18/50, Train AUC: 80.25%, Test AUC: 59.03%\n",
      "Classification Report on Val Set : \n",
      "              precision    recall  f1-score   support\n",
      "\n",
      "   No Cancer       0.90      0.75      0.82      2233\n",
      "      Cancer       0.19      0.43      0.27       310\n",
      "\n",
      "    accuracy                           0.71      2543\n",
      "   macro avg       0.55      0.59      0.54      2543\n",
      "weighted avg       0.82      0.71      0.75      2543\n",
      "\n"
     ]
    },
    {
     "name": "stderr",
     "output_type": "stream",
     "text": [
      "Epoch 19/50: 100%|██████████| 646/646 [00:59<00:00, 10.80it/s, loss=1.4446e-04]\n",
      "Epoch 20/50:   0%|          | 2/646 [00:00<01:01, 10.52it/s, loss=9.3817e-03]"
     ]
    },
    {
     "name": "stdout",
     "output_type": "stream",
     "text": [
      "Epoch 19/50, Train Loss: 1.4012e-02, Test Loss: 0.0357\n",
      "Epoch 19/50, Train Accuracy: 88.76%, Test Accuracy: 80.10%\n",
      "Epoch 19/50, Train AUC: 88.74%, Test AUC: 58.95%\n",
      "Classification Report on Val Set : \n",
      "              precision    recall  f1-score   support\n",
      "\n",
      "   No Cancer       0.90      0.87      0.88      2233\n",
      "      Cancer       0.25      0.31      0.28       310\n",
      "\n",
      "    accuracy                           0.80      2543\n",
      "   macro avg       0.57      0.59      0.58      2543\n",
      "weighted avg       0.82      0.80      0.81      2543\n",
      "\n"
     ]
    },
    {
     "name": "stderr",
     "output_type": "stream",
     "text": [
      "Epoch 20/50: 100%|██████████| 646/646 [00:59<00:00, 10.90it/s, loss=1.1034e-01]\n",
      "Epoch 21/50:   0%|          | 2/646 [00:00<01:01, 10.50it/s, loss=1.4875e-01]"
     ]
    },
    {
     "name": "stdout",
     "output_type": "stream",
     "text": [
      "Epoch 20/50, Train Loss: 2.2058e-02, Test Loss: 0.0701\n",
      "Epoch 20/50, Train Accuracy: 83.09%, Test Accuracy: 71.37%\n",
      "Epoch 20/50, Train AUC: 83.08%, Test AUC: 54.53%\n",
      "Classification Report on Val Set : \n",
      "              precision    recall  f1-score   support\n",
      "\n",
      "   No Cancer       0.89      0.77      0.82      2233\n",
      "      Cancer       0.16      0.32      0.22       310\n",
      "\n",
      "    accuracy                           0.71      2543\n",
      "   macro avg       0.53      0.55      0.52      2543\n",
      "weighted avg       0.80      0.71      0.75      2543\n",
      "\n"
     ]
    },
    {
     "name": "stderr",
     "output_type": "stream",
     "text": [
      "Epoch 21/50: 100%|██████████| 646/646 [00:59<00:00, 10.90it/s, loss=9.5141e-03]\n",
      "Epoch 22/50:   0%|          | 2/646 [00:00<01:01, 10.51it/s, loss=3.4503e-02]"
     ]
    },
    {
     "name": "stdout",
     "output_type": "stream",
     "text": [
      "Epoch 21/50, Train Loss: 1.4336e-02, Test Loss: 0.0498\n",
      "Epoch 21/50, Train Accuracy: 87.31%, Test Accuracy: 76.71%\n",
      "Epoch 21/50, Train AUC: 87.33%, Test AUC: 58.69%\n",
      "Classification Report on Val Set : \n",
      "              precision    recall  f1-score   support\n",
      "\n",
      "   No Cancer       0.90      0.83      0.86      2233\n",
      "      Cancer       0.22      0.35      0.27       310\n",
      "\n",
      "    accuracy                           0.77      2543\n",
      "   macro avg       0.56      0.59      0.56      2543\n",
      "weighted avg       0.82      0.77      0.79      2543\n",
      "\n"
     ]
    },
    {
     "name": "stderr",
     "output_type": "stream",
     "text": [
      "Epoch 22/50: 100%|██████████| 646/646 [00:59<00:00, 10.90it/s, loss=2.0727e-03]\n",
      "Epoch 23/50:   0%|          | 2/646 [00:00<01:01, 10.48it/s, loss=4.8833e-02]"
     ]
    },
    {
     "name": "stdout",
     "output_type": "stream",
     "text": [
      "Epoch 22/50, Train Loss: 2.3596e-02, Test Loss: 0.0696\n",
      "Epoch 22/50, Train Accuracy: 82.49%, Test Accuracy: 71.61%\n",
      "Epoch 22/50, Train AUC: 82.45%, Test AUC: 57.86%\n",
      "Classification Report on Val Set : \n",
      "              precision    recall  f1-score   support\n",
      "\n",
      "   No Cancer       0.90      0.76      0.82      2233\n",
      "      Cancer       0.19      0.40      0.25       310\n",
      "\n",
      "    accuracy                           0.72      2543\n",
      "   macro avg       0.54      0.58      0.54      2543\n",
      "weighted avg       0.81      0.72      0.76      2543\n",
      "\n"
     ]
    },
    {
     "name": "stderr",
     "output_type": "stream",
     "text": [
      "Epoch 23/50: 100%|██████████| 646/646 [00:59<00:00, 10.90it/s, loss=1.0776e-03]\n",
      "Epoch 24/50:   0%|          | 2/646 [00:00<01:01, 10.50it/s, loss=1.7703e-02]"
     ]
    },
    {
     "name": "stdout",
     "output_type": "stream",
     "text": [
      "Epoch 23/50, Train Loss: 1.4030e-02, Test Loss: 0.0520\n",
      "Epoch 23/50, Train Accuracy: 88.41%, Test Accuracy: 75.93%\n",
      "Epoch 23/50, Train AUC: 88.40%, Test AUC: 57.27%\n",
      "Classification Report on Val Set : \n",
      "              precision    recall  f1-score   support\n",
      "\n",
      "   No Cancer       0.90      0.82      0.86      2233\n",
      "      Cancer       0.20      0.33      0.25       310\n",
      "\n",
      "    accuracy                           0.76      2543\n",
      "   macro avg       0.55      0.57      0.55      2543\n",
      "weighted avg       0.81      0.76      0.78      2543\n",
      "\n"
     ]
    },
    {
     "name": "stderr",
     "output_type": "stream",
     "text": [
      "Epoch 24/50:  84%|████████▍ | 542/646 [00:49<00:09, 10.88it/s, loss=2.5638e-03]"
     ]
    }
   ],
   "source": [
    "# network\n",
    "net = DeformConvNet().to(device).double()\n",
    "\n",
    "# loss and optimizer  \n",
    "criterion = FocalLoss(gamma=3).to(device)\n",
    "optimizer = optim.Adam(net.parameters(), lr=basic_cnn_args['lr_pt'])\n",
    "\n",
    "# Logging + Experiment\n",
    "\n",
    "ignore_keys = {'no_tensorboard'}\n",
    "# get hyperparameters with values in a dict\n",
    "hparams = {**basic_cnn_args}\n",
    "# generate a name for the experiment\n",
    "expe_name = '_'.join([f\"{key}={val}\" for key, val in hparams.items()])\n",
    "print(\"Experimenting with : \\n \\t\"+expe_name)\n",
    "# path where to save the model\n",
    "savepath = Path('/tempory/transcriptomic_data/pre_trained_def_cnn_checkpt.pt')\n",
    "# Tensorboard summary writer\n",
    "if basic_cnn_args['no_tensorboard']:\n",
    "    writer = None\n",
    "else:\n",
    "    writer = SummaryWriter(\"runs/runs\"+\"_\"+datetime.datetime.now().strftime(\"%Y%m%d-%H%M%S\")+expe_name)\n",
    "    \n",
    "# start the experiment\n",
    "checkpoint = CheckpointState(net, optimizer, savepath=savepath)\n",
    "fit(checkpoint, criterion, non_lung_dataloader_train, non_lung_dataloader_validation, basic_cnn_args['epochs'], writer=writer)\n",
    "if not basic_cnn_args['no_tensorboard']:\n",
    "    writer.close()"
   ]
  },
  {
   "cell_type": "markdown",
   "metadata": {},
   "source": [
    "## **2 - Fine-Tuning on the Lung dataset :**"
   ]
  },
  {
   "cell_type": "markdown",
   "metadata": {},
   "source": [
    "### **2 - 1 - Load Pre-Trained Model :**"
   ]
  },
  {
   "cell_type": "code",
   "execution_count": 12,
   "metadata": {},
   "outputs": [],
   "source": [
    "# Load the pretrained Model\n",
    "net =  MLP(len(non_lung_dataset[0][0])).to(device).double()\n",
    "optimizer = optim.Adam(net.parameters(), lr=basic_cnn_args['lr_ft'])\n",
    "# path where the pre-trained model is saved : defined above+\"_best\"\n",
    "savepath = Path('/tempory/transcriptomic_data/pre_trained_def_cnn_checkpt_best.pt')\n",
    "checkpoint = CheckpointState(net, optimizer, savepath=savepath)\n",
    "checkpoint.load()\n",
    "pretrained = checkpoint.model"
   ]
  },
  {
   "cell_type": "markdown",
   "metadata": {},
   "source": [
    "### **2 - 2 - Get the Data :**"
   ]
  },
  {
   "cell_type": "code",
   "execution_count": null,
   "metadata": {},
   "outputs": [],
   "source": [
    "%%time\n",
    "# Getting the data\n",
    "# dataset\n",
    "lung_dataset = TranscriptomicVectorsDatasetLung(data_paths_args[\"path_to_pan_cancer_hdf5_files\"])\n",
    "lung_dataloader_train, lung_dataloader_validation = get_data_loaders(lung_dataset, batch_size_train = basic_cnn_args[\"batch_size_ft\"],\\\n",
    "                                                                             batch_size_validation = basic_cnn_args[\"batch_size_ft\"])"
   ]
  },
  {
   "cell_type": "markdown",
   "metadata": {},
   "source": [
    "### **2 - 3 - Fine Tuning Procedure :**"
   ]
  },
  {
   "cell_type": "code",
   "execution_count": null,
   "metadata": {},
   "outputs": [],
   "source": [
    "# Beginnig Of Transfer Learnig Procedure\n",
    "net = fine_tune_mlp(pretrained)\n",
    "net = net.to(device).double()\n",
    "criterion = FocalLoss().to(device)\n",
    "optimizer = optim.Adam(net.parameters(), lr=basic_cnn_args['lr_ft'])\n",
    "savepath = Path('models_finetuned/fine_tuned_mlp_checkpt.pt')\n",
    "checkpoint = CheckpointState(net, optimizer, savepath=savepath)\n",
    "fit(checkpoint, criterion, lung_dataloader_train, lung_dataloader_validation, basic_cnn_args['epochs'])"
   ]
  },
  {
   "cell_type": "code",
   "execution_count": null,
   "metadata": {},
   "outputs": [],
   "source": []
  }
 ],
 "metadata": {
  "kernelspec": {
   "display_name": "Python 3",
   "language": "python",
   "name": "python3"
  },
  "language_info": {
   "codemirror_mode": {
    "name": "ipython",
    "version": 3
   },
   "file_extension": ".py",
   "mimetype": "text/x-python",
   "name": "python",
   "nbconvert_exporter": "python",
   "pygments_lexer": "ipython3",
   "version": "3.7.3"
  }
 },
 "nbformat": 4,
 "nbformat_minor": 4
}
