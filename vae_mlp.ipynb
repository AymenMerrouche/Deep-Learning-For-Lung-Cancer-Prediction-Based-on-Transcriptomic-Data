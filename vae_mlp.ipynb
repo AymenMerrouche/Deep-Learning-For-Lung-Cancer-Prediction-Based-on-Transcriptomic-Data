{
 "cells": [
  {
   "cell_type": "code",
   "execution_count": 1,
   "metadata": {},
   "outputs": [],
   "source": [
    "import torch\n",
    "import torch.nn as nn\n",
    "import torch.nn.functional as F\n",
    "import torch.optim as optim\n",
    "from torchvision import datasets, transforms\n",
    "from torch.autograd import Variable\n",
    "from torchvision.utils import save_image\n",
    "import torchvision.utils as vutils\n",
    "import matplotlib.pyplot as plt\n",
    "import numpy as np\n",
    "from torch.distributions.normal import Normal\n",
    "import warnings\n",
    "warnings.filterwarnings('ignore')\n",
    "\n",
    "# device, cuda if available else use cpu\n",
    "device = torch.device('cuda' if torch.cuda.is_available() else 'cpu')"
   ]
  },
  {
   "cell_type": "code",
   "execution_count": 2,
   "metadata": {},
   "outputs": [],
   "source": [
    "from utils import *\n",
    "from train import *\n",
    "from data_utils import *\n",
    "from modules.deformable_cnn import *\n",
    "from modules.focal_loss import *\n",
    "%load_ext autoreload\n",
    "%autoreload 2"
   ]
  },
  {
   "cell_type": "markdown",
   "metadata": {},
   "source": [
    "# **1 - Get The Data :**"
   ]
  },
  {
   "cell_type": "code",
   "execution_count": 3,
   "metadata": {},
   "outputs": [],
   "source": [
    "# load hyperparametrs\n",
    "# data paths args\n",
    "with open('./configs/data_paths.yaml', 'r') as stream:\n",
    "    data_paths_args  = yaml.load(stream,Loader=yaml.Loader)\n",
    "    \n",
    "    \n",
    "# basic cnn args\n",
    "with open('./configs/vae_mlp.yaml', 'r') as stream:\n",
    "    vae_mlp_args  = yaml.load(stream,Loader=yaml.Loader)"
   ]
  },
  {
   "cell_type": "code",
   "execution_count": 5,
   "metadata": {},
   "outputs": [
    {
     "name": "stdout",
     "output_type": "stream",
     "text": [
      "CPU times: user 13.1 s, sys: 216 ms, total: 13.3 s\n",
      "Wall time: 12.7 s\n"
     ]
    }
   ],
   "source": [
    "%%time\n",
    "# Getting the data\n",
    "# dataset for non lung\n",
    "non_lung_dataset = TranscriptomicVectorsDatasetNonLung(data_paths_args[\"path_to_pan_cancer_hdf5_files\"])\n",
    "non_lung_dataloader_train, non_lung_dataloader_validation = get_data_loaders(non_lung_dataset, batch_size_train = vae_mlp_args[\"batch_size_pt\"],\\\n",
    "                                                                             batch_size_validation = vae_mlp_args[\"batch_size_pt\"], test_proportion = 0.0)"
   ]
  },
  {
   "cell_type": "code",
   "execution_count": 36,
   "metadata": {},
   "outputs": [
    {
     "name": "stdout",
     "output_type": "stream",
     "text": [
      "CPU times: user 667 ms, sys: 3.55 ms, total: 671 ms\n",
      "Wall time: 668 ms\n"
     ]
    }
   ],
   "source": [
    "%%time\n",
    "# Getting the data\n",
    "# dataset for non lung\n",
    "non_lung_dataloader_train_splitted, non_lung_dataloader_validation_splitted = get_data_loaders(non_lung_dataset, batch_size_train = vae_mlp_args[\"batch_size_pt\"],\\\n",
    "                                                                             batch_size_validation = vae_mlp_args[\"batch_size_pt\"])"
   ]
  },
  {
   "cell_type": "code",
   "execution_count": 8,
   "metadata": {},
   "outputs": [
    {
     "name": "stdout",
     "output_type": "stream",
     "text": [
      "CPU times: user 11.4 s, sys: 115 ms, total: 11.5 s\n",
      "Wall time: 11.4 s\n"
     ]
    }
   ],
   "source": [
    "%%time\n",
    "# Getting the data\n",
    "# dataset for lung\n",
    "lung_dataset = TranscriptomicVectorsDatasetLung(data_paths_args[\"path_to_pan_cancer_hdf5_files\"])\n",
    "lung_dataloader_train, lung_dataloader_validation = get_data_loaders(lung_dataset, batch_size_train = vae_mlp_args[\"batch_size_ft\"],\\\n",
    "                                                                             batch_size_validation = vae_mlp_args[\"batch_size_ft\"])"
   ]
  },
  {
   "cell_type": "markdown",
   "metadata": {},
   "source": [
    "# **2 - Define the network's architecture :**\n",
    "* Encoder and Decoder and then the full network (VAE) :"
   ]
  },
  {
   "cell_type": "markdown",
   "metadata": {},
   "source": [
    "## 2-1- Encoder and Decoder with linear layers :"
   ]
  },
  {
   "cell_type": "code",
   "execution_count": 9,
   "metadata": {},
   "outputs": [],
   "source": [
    "class Encoder(nn.Module):\n",
    "    \"\"\"\n",
    "    VAE Encoder with linear layers\n",
    "    \"\"\"\n",
    "    def __init__(self, dim_input, hidden, dim_z):\n",
    "        super().__init__()\n",
    "        self.lin1 = nn.Linear(dim_input, hidden)\n",
    "        # generate covariance matrix (hyp : diagonal)\n",
    "        self.sigma = nn.Linear(hidden, dim_z)\n",
    "        # genrate mean vector \n",
    "        self.mu = nn.Linear(hidden, dim_z)\n",
    "    def forward(self, x):\n",
    "        lin1 = F.relu(self.lin1(x))\n",
    "        #we infer log(sigma**2) for stability reasons\n",
    "        log_sigma_squared = self.sigma(lin1) \n",
    "        mu = self.mu(lin1)\n",
    "        return mu, log_sigma_squared"
   ]
  },
  {
   "cell_type": "code",
   "execution_count": 10,
   "metadata": {},
   "outputs": [],
   "source": [
    "class Decoder(nn.Module):\n",
    "    \"\"\"\n",
    "    VAE Decoder with linear layers\n",
    "    \"\"\"\n",
    "    def __init__(self, dim_input, hidden, dim_z):\n",
    "        super().__init__()\n",
    "        self.lin1 = nn.Linear(dim_z, hidden)\n",
    "        self.lin2 = nn.Linear(hidden, dim_input)\n",
    "    def forward(self, x):\n",
    "        lin1 = F.relu(self.lin1(x))\n",
    "        x = torch.sigmoid(self.lin2(lin1))\n",
    "        return x  "
   ]
  },
  {
   "cell_type": "code",
   "execution_count": 11,
   "metadata": {},
   "outputs": [],
   "source": [
    "class VAE(nn.Module):\n",
    "    \"\"\"\n",
    "    VAE with linear layers based Encoder and Decoder\n",
    "    \"\"\"\n",
    "    def __init__(self, dim_input, hidden, dim_z):\n",
    "        super().__init__()\n",
    "        # encoder\n",
    "        self.encoder = Encoder(dim_input, hidden, dim_z).to(device)\n",
    "        # decoder\n",
    "        self.decoder = Decoder(dim_input, hidden, dim_z).to(device)\n",
    "        \n",
    "    def forward(self, x):\n",
    "        mu, log_sigma_squared = self.encoder(x)\n",
    "        z = self.get_codes(mu, log_sigma_squared)\n",
    "        return self.decoder(z), mu, log_sigma_squared\n",
    "\n",
    "    def get_codes(self, mu, log_sigma_squared):\n",
    "        # input is log(sigma**2)\n",
    "        # log(sigma**2) = 2 * log(sigma)\n",
    "        # log(sigma) = (1/2)*log(sigma**2)\n",
    "        # sigma = exp((1/2)*log(sigma**2))\n",
    "        sigma = torch.exp((1/2) * log_sigma_squared)\n",
    "        # reparametrisation trick\n",
    "        eps = torch.empty_like(sigma).normal_().to(device)\n",
    "        return eps.mul(sigma).add_(mu)\n",
    "    def sample_data(self,z):\n",
    "        return self.decoder(z)"
   ]
  },
  {
   "cell_type": "code",
   "execution_count": 22,
   "metadata": {},
   "outputs": [],
   "source": [
    "def variational_lower_bound(oringinal, reconstructed, mu, log_sigma_squared):\n",
    "    reconstructed = reconstructed\n",
    "    oringinal = oringinal\n",
    "    reconstruction_term = F.binary_cross_entropy(reconstructed, oringinal, reduction='sum')\n",
    "    kl_div = - (1/2) * torch.sum(1 + log_sigma_squared - mu.pow(2) - log_sigma_squared.exp())\n",
    "    return reconstruction_term + kl_div"
   ]
  },
  {
   "cell_type": "code",
   "execution_count": 45,
   "metadata": {},
   "outputs": [],
   "source": [
    "# dimension of the latent variable z\n",
    "dim_z = 300\n",
    "# dimnesion of the generator's output/discriminator's input (an mnist image)\n",
    "dim_input = len(non_lung_dataset[0][0])\n",
    "# dimension of hidden layers\n",
    "hidden = 256"
   ]
  },
  {
   "cell_type": "code",
   "execution_count": 46,
   "metadata": {},
   "outputs": [
    {
     "name": "stdout",
     "output_type": "stream",
     "text": [
      "VAE(\n",
      "  (encoder): Encoder(\n",
      "    (lin1): Linear(in_features=7509, out_features=256, bias=True)\n",
      "    (sigma): Linear(in_features=256, out_features=300, bias=True)\n",
      "    (mu): Linear(in_features=256, out_features=300, bias=True)\n",
      "  )\n",
      "  (decoder): Decoder(\n",
      "    (lin1): Linear(in_features=300, out_features=256, bias=True)\n",
      "    (lin2): Linear(in_features=256, out_features=7509, bias=True)\n",
      "  )\n",
      ")\n"
     ]
    }
   ],
   "source": [
    "vae = VAE(dim_input, hidden, dim_z).to(device).double()\n",
    "print(vae)"
   ]
  },
  {
   "cell_type": "markdown",
   "metadata": {},
   "source": [
    "# **3 - TRAINIG VAE WITH LINEAR BASED NETWORKS :**"
   ]
  },
  {
   "cell_type": "code",
   "execution_count": 47,
   "metadata": {},
   "outputs": [],
   "source": [
    "# parameters\n",
    "epochs = 50\n",
    "\n",
    "# optimisation\n",
    "lr = 0.001\n",
    "\n",
    "# optimizer\n",
    "optim_vae = optim.Adam(vae.parameters())\n",
    "\n",
    "# noise to display samples during training\n",
    "noise = torch.randn(vae_mlp_args[\"batch_size_pt\"], dim_z, device=device)"
   ]
  },
  {
   "cell_type": "code",
   "execution_count": 48,
   "metadata": {},
   "outputs": [
    {
     "name": "stdout",
     "output_type": "stream",
     "text": [
      "EPOCH :  0\n",
      "| v_lower_bound:  994897.3243300397\n",
      "EPOCH :  1\n",
      "| v_lower_bound:  -12497242.013493897\n",
      "EPOCH :  2\n",
      "| v_lower_bound:  335572127.62069786\n",
      "EPOCH :  3\n",
      "| v_lower_bound:  -16548938.055012707\n",
      "EPOCH :  4\n",
      "| v_lower_bound:  -17113857.418690365\n",
      "EPOCH :  5\n",
      "| v_lower_bound:  -17732402.940693483\n",
      "EPOCH :  6\n",
      "| v_lower_bound:  2148981448064933.0\n",
      "EPOCH :  7\n",
      "| v_lower_bound:  -15431018.4117085\n",
      "EPOCH :  8\n",
      "| v_lower_bound:  -18823157.252085906\n",
      "EPOCH :  9\n",
      "| v_lower_bound:  -18807991.941802025\n",
      "EPOCH :  10\n",
      "| v_lower_bound:  -18321394.696602125\n",
      "EPOCH :  11\n",
      "| v_lower_bound:  -19279725.073079165\n",
      "EPOCH :  12\n",
      "| v_lower_bound:  -10518098.099455036\n",
      "EPOCH :  13\n",
      "| v_lower_bound:  -20272456.488140173\n",
      "EPOCH :  14\n",
      "| v_lower_bound:  -20164339.829643212\n",
      "EPOCH :  15\n",
      "| v_lower_bound:  -19262798.516282152\n",
      "EPOCH :  16\n",
      "| v_lower_bound:  -19988659.272980485\n",
      "EPOCH :  17\n",
      "| v_lower_bound:  7928403814689.964\n",
      "EPOCH :  18\n",
      "| v_lower_bound:  802417895498.5443\n",
      "EPOCH :  19\n",
      "| v_lower_bound:  -20808091.334914356\n",
      "EPOCH :  20\n",
      "| v_lower_bound:  -20220405.110011663\n",
      "EPOCH :  21\n",
      "| v_lower_bound:  -21055794.495728157\n",
      "EPOCH :  22\n",
      "| v_lower_bound:  -20659997.174581815\n",
      "EPOCH :  23\n",
      "| v_lower_bound:  -21186996.878749575\n",
      "EPOCH :  24\n",
      "| v_lower_bound:  -21050177.633112445\n",
      "EPOCH :  25\n",
      "| v_lower_bound:  -20899209.428937938\n",
      "EPOCH :  26\n",
      "| v_lower_bound:  -21295953.230471104\n",
      "EPOCH :  27\n",
      "| v_lower_bound:  -21389575.87870666\n",
      "EPOCH :  28\n",
      "| v_lower_bound:  -21651726.584295698\n",
      "EPOCH :  29\n",
      "| v_lower_bound:  -21350597.11836845\n",
      "EPOCH :  30\n",
      "| v_lower_bound:  -21434877.310408775\n",
      "EPOCH :  31\n",
      "| v_lower_bound:  -21672590.742589694\n",
      "EPOCH :  32\n",
      "| v_lower_bound:  -22218164.40475942\n",
      "EPOCH :  33\n",
      "| v_lower_bound:  -21838891.320879452\n",
      "EPOCH :  34\n",
      "| v_lower_bound:  -22273877.44847178\n",
      "EPOCH :  35\n",
      "| v_lower_bound:  -22302434.35942354\n",
      "EPOCH :  36\n",
      "| v_lower_bound:  -22216712.779157687\n",
      "EPOCH :  37\n",
      "| v_lower_bound:  -22408540.626524534\n",
      "EPOCH :  38\n",
      "| v_lower_bound:  -21935194.677854214\n",
      "EPOCH :  39\n",
      "| v_lower_bound:  -22127824.204674367\n",
      "EPOCH :  40\n",
      "| v_lower_bound:  -22224059.545646954\n",
      "EPOCH :  41\n",
      "| v_lower_bound:  -22075904.695832577\n",
      "EPOCH :  42\n",
      "| v_lower_bound:  -21995334.18350006\n",
      "EPOCH :  43\n",
      "| v_lower_bound:  2.1025201683750402e+58\n",
      "EPOCH :  44\n",
      "| v_lower_bound:  250944090.95732045\n",
      "EPOCH :  45\n",
      "| v_lower_bound:  872346789824.7606\n",
      "EPOCH :  46\n",
      "| v_lower_bound:  42124229173581.195\n",
      "EPOCH :  47\n",
      "| v_lower_bound:  -22198514.14604868\n",
      "EPOCH :  48\n",
      "| v_lower_bound:  -22310395.099531658\n",
      "EPOCH :  49\n",
      "| v_lower_bound:  -22260505.726554897\n"
     ]
    }
   ],
   "source": [
    "# per epoch logging containers\n",
    "v_lower_bound = []\n",
    "image_and_reconstruction = []\n",
    "sampled_images = []\n",
    "for epoch in range(epochs):\n",
    "    print(\"EPOCH : \",epoch)\n",
    "    # per gradient step logging containers\n",
    "    epoch_v_lower_bound = []\n",
    "    \n",
    "    for i, (vectors, labels) in enumerate(non_lung_dataloader_train):\n",
    "        \n",
    "        # perform a gradient step\n",
    "        \n",
    "        # flatten and push to device\n",
    "        vectors = vectors.to(device).double()\n",
    "        \n",
    "        # run vae\n",
    "        reconstruction, mu, log_sigma_squared = vae(vectors)\n",
    "\n",
    "        # loss\n",
    "        loss = variational_lower_bound(vectors, reconstruction, mu, log_sigma_squared)\n",
    "        \n",
    "        # backpropagation\n",
    "        optim_vae.zero_grad()\n",
    "        loss.backward()\n",
    "        optim_vae.step()\n",
    "        \n",
    "        # logging\n",
    "        epoch_v_lower_bound.append(loss.item())\n",
    "        \n",
    "        # display stats and an image during training\n",
    "        \"\"\"if i % 300 == 0 :\n",
    "            print(\"BATCH :\",i)\n",
    "            print(\"| v_lower_bound: \", epoch_v_lower_bound[i])\"\"\"\n",
    "\n",
    "    # per epoch logging\n",
    "    v_lower_bound.append(sum(epoch_v_lower_bound) / len(epoch_v_lower_bound))\n",
    "\n",
    "    # verbose every epoch\n",
    "    print(\"| v_lower_bound: \", v_lower_bound[-1])"
   ]
  },
  {
   "cell_type": "code",
   "execution_count": 50,
   "metadata": {},
   "outputs": [],
   "source": [
    "import copy\n",
    "class MLP(nn.Module):\n",
    "    \"\"\"\n",
    "    Implementation of A fully connected feed forward neural network\n",
    "    \"\"\"\n",
    "    def __init__(self, input_size, output_size=2, layers = [160, 100], bias=True, dropout=0.8):\n",
    "        \"\"\"\n",
    "        Args:\n",
    "            - input_size: \n",
    "            - output_size: \n",
    "            - layers : dimensions des layers du MLP\n",
    "            - bias : si True, ajouter un biais au module Linear\n",
    "        \"\"\"\n",
    "        super(MLP, self).__init__()\n",
    "        self.layers = layers\n",
    "        self.output_size = output_size\n",
    "        if len(layers)>0:\n",
    "            self.fc = [nn.Linear(input_size, self.layers[0],bias=bias)]\n",
    "            for i in range(len(self.layers)-1):\n",
    "                self.fc.append(nn.Linear(self.layers[i], self.layers[i+1],bias=bias))\n",
    "                self.fc.append(nn.BatchNorm1d(self.layers[i+1]))\n",
    "                self.fc.append(nn.ReLU(inplace=True))\n",
    "                self.fc.append(nn.Dropout(dropout))\n",
    "            self.fc.append(nn.Linear(self.layers[-1], output_size,bias=bias))\n",
    "        else:\n",
    "            self.fc = [nn.Linear(input_size, output_size,bias=bias)]\n",
    "        self.linear = nn.Sequential(*self.fc)\n",
    "    \n",
    "    def forward(self, x):\n",
    "        return self.linear(x)\n",
    "    \n",
    "def fine_tune_mlp(pretrained, freeze = False):\n",
    "    \"\"\"Creates a model from a pre-trained MLP model using Transfer Learning\"\"\"\n",
    "    \"\"\"\n",
    "    Args:\n",
    "        - pretrained : (nn.Module) pre-trained MLP model to be used.\n",
    "        - freeze : (bool) if True, params in hidden layers will be freezed.\n",
    "    \"\"\"\n",
    "    model = copy.deepcopy(pretrained)\n",
    "    if freeze:\n",
    "        for i in range(len(model.fc)-1) :\n",
    "            for param in model.fc[i].parameters():\n",
    "                param.requires_grad = False\n",
    "    model.fc[len(model.fc)-1] = nn.Linear(model.fc[len(model.fc)-5].out_features, 2,bias=True)\n",
    "    return model"
   ]
  },
  {
   "cell_type": "markdown",
   "metadata": {},
   "source": [
    "# Pre-Training : "
   ]
  },
  {
   "cell_type": "code",
   "execution_count": 51,
   "metadata": {},
   "outputs": [
    {
     "name": "stderr",
     "output_type": "stream",
     "text": [
      "Epoch 1/50:  17%|█▋        | 7/41 [00:00<00:00, 67.60it/s, loss=2.8878e-01]"
     ]
    },
    {
     "name": "stdout",
     "output_type": "stream",
     "text": [
      "Experimenting with : \n",
      " \tepochs=50_batch_size_pt=128_lr_pt=0.001_batch_size_ft=128_lr_ft=0.001_no_tensorboard=True\n",
      "Training on GPU \n",
      "\n"
     ]
    },
    {
     "name": "stderr",
     "output_type": "stream",
     "text": [
      "Epoch 1/50: 100%|██████████| 41/41 [00:00<00:00, 69.80it/s, loss=2.0210e-01]\n",
      "Epoch 2/50:  17%|█▋        | 7/41 [00:00<00:00, 68.84it/s, loss=1.3300e-01]"
     ]
    },
    {
     "name": "stdout",
     "output_type": "stream",
     "text": [
      "Epoch 1/50, Train Loss: 1.1003e-01, Test Loss: 0.1265\n",
      "Epoch 1/50, Train Accuracy: 69.85%, Test Accuracy: 65.39%\n",
      "Epoch 1/50, Train AUC: 69.86%, Test AUC: 66.54%\n",
      "Classification Report on Val Set : \n",
      "              precision    recall  f1-score   support\n",
      "\n",
      "   No Cancer       0.94      0.65      0.77      2249\n",
      "      Cancer       0.20      0.68      0.31       294\n",
      "\n",
      "    accuracy                           0.65      2543\n",
      "   macro avg       0.57      0.67      0.54      2543\n",
      "weighted avg       0.85      0.65      0.72      2543\n",
      "\n"
     ]
    },
    {
     "name": "stderr",
     "output_type": "stream",
     "text": [
      "Epoch 2/50: 100%|██████████| 41/41 [00:00<00:00, 70.16it/s, loss=1.3030e-01]\n",
      "Epoch 3/50:  17%|█▋        | 7/41 [00:00<00:00, 68.73it/s, loss=1.3990e-01]"
     ]
    },
    {
     "name": "stdout",
     "output_type": "stream",
     "text": [
      "Epoch 2/50, Train Loss: 1.0123e-01, Test Loss: 0.1324\n",
      "Epoch 2/50, Train Accuracy: 71.85%, Test Accuracy: 65.81%\n",
      "Epoch 2/50, Train AUC: 71.64%, Test AUC: 67.65%\n",
      "Classification Report on Val Set : \n",
      "              precision    recall  f1-score   support\n",
      "\n",
      "   No Cancer       0.94      0.65      0.77      2249\n",
      "      Cancer       0.21      0.70      0.32       294\n",
      "\n",
      "    accuracy                           0.66      2543\n",
      "   macro avg       0.58      0.68      0.55      2543\n",
      "weighted avg       0.86      0.66      0.72      2543\n",
      "\n"
     ]
    },
    {
     "name": "stderr",
     "output_type": "stream",
     "text": [
      "Epoch 3/50: 100%|██████████| 41/41 [00:00<00:00, 70.11it/s, loss=1.3127e-01]\n",
      "Epoch 4/50:  17%|█▋        | 7/41 [00:00<00:00, 68.67it/s, loss=9.3964e-02]"
     ]
    },
    {
     "name": "stdout",
     "output_type": "stream",
     "text": [
      "Epoch 3/50, Train Loss: 9.6207e-02, Test Loss: 0.1158\n",
      "Epoch 3/50, Train Accuracy: 72.57%, Test Accuracy: 67.34%\n",
      "Epoch 3/50, Train AUC: 72.41%, Test AUC: 67.19%\n",
      "Classification Report on Val Set : \n",
      "              precision    recall  f1-score   support\n",
      "\n",
      "   No Cancer       0.94      0.67      0.78      2249\n",
      "      Cancer       0.21      0.67      0.32       294\n",
      "\n",
      "    accuracy                           0.67      2543\n",
      "   macro avg       0.58      0.67      0.55      2543\n",
      "weighted avg       0.86      0.67      0.73      2543\n",
      "\n"
     ]
    },
    {
     "name": "stderr",
     "output_type": "stream",
     "text": [
      "Epoch 4/50: 100%|██████████| 41/41 [00:00<00:00, 70.52it/s, loss=6.3502e-02]\n",
      "Epoch 5/50:  17%|█▋        | 7/41 [00:00<00:00, 69.94it/s, loss=1.2419e-01]"
     ]
    },
    {
     "name": "stdout",
     "output_type": "stream",
     "text": [
      "Epoch 4/50, Train Loss: 9.9027e-02, Test Loss: 0.1211\n",
      "Epoch 4/50, Train Accuracy: 70.63%, Test Accuracy: 66.75%\n",
      "Epoch 4/50, Train AUC: 70.78%, Test AUC: 67.00%\n",
      "Classification Report on Val Set : \n",
      "              precision    recall  f1-score   support\n",
      "\n",
      "   No Cancer       0.94      0.67      0.78      2249\n",
      "      Cancer       0.21      0.67      0.32       294\n",
      "\n",
      "    accuracy                           0.67      2543\n",
      "   macro avg       0.57      0.67      0.55      2543\n",
      "weighted avg       0.86      0.67      0.73      2543\n",
      "\n"
     ]
    },
    {
     "name": "stderr",
     "output_type": "stream",
     "text": [
      "Epoch 5/50: 100%|██████████| 41/41 [00:00<00:00, 71.37it/s, loss=1.0652e-01]\n",
      "Epoch 6/50:  17%|█▋        | 7/41 [00:00<00:00, 69.70it/s, loss=1.0891e-01]"
     ]
    },
    {
     "name": "stdout",
     "output_type": "stream",
     "text": [
      "Epoch 5/50, Train Loss: 9.8773e-02, Test Loss: 0.1008\n",
      "Epoch 5/50, Train Accuracy: 72.15%, Test Accuracy: 70.37%\n",
      "Epoch 5/50, Train AUC: 72.29%, Test AUC: 68.45%\n",
      "Classification Report on Val Set : \n",
      "              precision    recall  f1-score   support\n",
      "\n",
      "   No Cancer       0.94      0.71      0.81      2249\n",
      "      Cancer       0.23      0.66      0.34       294\n",
      "\n",
      "    accuracy                           0.70      2543\n",
      "   macro avg       0.58      0.68      0.57      2543\n",
      "weighted avg       0.86      0.70      0.75      2543\n",
      "\n"
     ]
    },
    {
     "name": "stderr",
     "output_type": "stream",
     "text": [
      "Epoch 6/50: 100%|██████████| 41/41 [00:00<00:00, 71.25it/s, loss=7.9114e-02]\n",
      "Epoch 7/50:  17%|█▋        | 7/41 [00:00<00:00, 69.75it/s, loss=1.0176e-01]"
     ]
    },
    {
     "name": "stdout",
     "output_type": "stream",
     "text": [
      "Epoch 6/50, Train Loss: 1.0162e-01, Test Loss: 0.1168\n",
      "Epoch 6/50, Train Accuracy: 71.38%, Test Accuracy: 67.89%\n",
      "Epoch 6/50, Train AUC: 71.28%, Test AUC: 66.90%\n",
      "Classification Report on Val Set : \n",
      "              precision    recall  f1-score   support\n",
      "\n",
      "   No Cancer       0.94      0.68      0.79      2249\n",
      "      Cancer       0.21      0.66      0.32       294\n",
      "\n",
      "    accuracy                           0.68      2543\n",
      "   macro avg       0.58      0.67      0.56      2543\n",
      "weighted avg       0.85      0.68      0.74      2543\n",
      "\n"
     ]
    },
    {
     "name": "stderr",
     "output_type": "stream",
     "text": [
      "Epoch 7/50: 100%|██████████| 41/41 [00:00<00:00, 71.07it/s, loss=1.0206e-01]\n",
      "Epoch 8/50:  17%|█▋        | 7/41 [00:00<00:00, 69.57it/s, loss=1.0120e-01]"
     ]
    },
    {
     "name": "stdout",
     "output_type": "stream",
     "text": [
      "Epoch 7/50, Train Loss: 9.5469e-02, Test Loss: 0.1137\n",
      "Epoch 7/50, Train Accuracy: 72.60%, Test Accuracy: 66.65%\n",
      "Epoch 7/50, Train AUC: 72.68%, Test AUC: 66.81%\n",
      "Classification Report on Val Set : \n",
      "              precision    recall  f1-score   support\n",
      "\n",
      "   No Cancer       0.94      0.67      0.78      2249\n",
      "      Cancer       0.21      0.67      0.32       294\n",
      "\n",
      "    accuracy                           0.67      2543\n",
      "   macro avg       0.57      0.67      0.55      2543\n",
      "weighted avg       0.85      0.67      0.73      2543\n",
      "\n"
     ]
    },
    {
     "name": "stderr",
     "output_type": "stream",
     "text": [
      "Epoch 8/50: 100%|██████████| 41/41 [00:00<00:00, 71.38it/s, loss=9.2610e-02]\n",
      "Epoch 9/50:  17%|█▋        | 7/41 [00:00<00:00, 69.74it/s, loss=9.3962e-02]"
     ]
    },
    {
     "name": "stdout",
     "output_type": "stream",
     "text": [
      "Epoch 8/50, Train Loss: 9.3725e-02, Test Loss: 0.0986\n",
      "Epoch 8/50, Train Accuracy: 73.19%, Test Accuracy: 70.80%\n",
      "Epoch 8/50, Train AUC: 73.09%, Test AUC: 67.81%\n",
      "Classification Report on Val Set : \n",
      "              precision    recall  f1-score   support\n",
      "\n",
      "   No Cancer       0.94      0.72      0.81      2249\n",
      "      Cancer       0.23      0.64      0.34       294\n",
      "\n",
      "    accuracy                           0.71      2543\n",
      "   macro avg       0.58      0.68      0.57      2543\n",
      "weighted avg       0.86      0.71      0.76      2543\n",
      "\n"
     ]
    },
    {
     "name": "stderr",
     "output_type": "stream",
     "text": [
      "Epoch 9/50: 100%|██████████| 41/41 [00:00<00:00, 71.31it/s, loss=1.4967e-01]\n",
      "Epoch 10/50:  17%|█▋        | 7/41 [00:00<00:00, 69.60it/s, loss=1.0292e-01]"
     ]
    },
    {
     "name": "stdout",
     "output_type": "stream",
     "text": [
      "Epoch 9/50, Train Loss: 9.3903e-02, Test Loss: 0.1088\n",
      "Epoch 9/50, Train Accuracy: 73.19%, Test Accuracy: 69.11%\n",
      "Epoch 9/50, Train AUC: 73.08%, Test AUC: 67.30%\n",
      "Classification Report on Val Set : \n",
      "              precision    recall  f1-score   support\n",
      "\n",
      "   No Cancer       0.94      0.70      0.80      2249\n",
      "      Cancer       0.22      0.65      0.33       294\n",
      "\n",
      "    accuracy                           0.69      2543\n",
      "   macro avg       0.58      0.67      0.56      2543\n",
      "weighted avg       0.86      0.69      0.74      2543\n",
      "\n"
     ]
    },
    {
     "name": "stderr",
     "output_type": "stream",
     "text": [
      "Epoch 10/50: 100%|██████████| 41/41 [00:00<00:00, 71.29it/s, loss=7.0202e-02]\n",
      "Epoch 11/50:  17%|█▋        | 7/41 [00:00<00:00, 69.19it/s, loss=1.2965e-01]"
     ]
    },
    {
     "name": "stdout",
     "output_type": "stream",
     "text": [
      "Epoch 10/50, Train Loss: 9.3397e-02, Test Loss: 0.1045\n",
      "Epoch 10/50, Train Accuracy: 71.51%, Test Accuracy: 69.94%\n",
      "Epoch 10/50, Train AUC: 71.45%, Test AUC: 68.65%\n",
      "Classification Report on Val Set : \n",
      "              precision    recall  f1-score   support\n",
      "\n",
      "   No Cancer       0.94      0.70      0.81      2249\n",
      "      Cancer       0.23      0.67      0.34       294\n",
      "\n",
      "    accuracy                           0.70      2543\n",
      "   macro avg       0.58      0.69      0.57      2543\n",
      "weighted avg       0.86      0.70      0.75      2543\n",
      "\n"
     ]
    },
    {
     "name": "stderr",
     "output_type": "stream",
     "text": [
      "Epoch 11/50: 100%|██████████| 41/41 [00:00<00:00, 71.15it/s, loss=1.6542e-01]\n",
      "Epoch 12/50:  17%|█▋        | 7/41 [00:00<00:00, 69.85it/s, loss=8.8862e-02]"
     ]
    },
    {
     "name": "stdout",
     "output_type": "stream",
     "text": [
      "Epoch 11/50, Train Loss: 9.1582e-02, Test Loss: 0.1127\n",
      "Epoch 11/50, Train Accuracy: 72.37%, Test Accuracy: 67.98%\n",
      "Epoch 11/50, Train AUC: 72.33%, Test AUC: 67.39%\n",
      "Classification Report on Val Set : \n",
      "              precision    recall  f1-score   support\n",
      "\n",
      "   No Cancer       0.94      0.68      0.79      2249\n",
      "      Cancer       0.21      0.67      0.32       294\n",
      "\n",
      "    accuracy                           0.68      2543\n",
      "   macro avg       0.58      0.67      0.56      2543\n",
      "weighted avg       0.86      0.68      0.74      2543\n",
      "\n"
     ]
    },
    {
     "name": "stderr",
     "output_type": "stream",
     "text": [
      "Epoch 12/50: 100%|██████████| 41/41 [00:00<00:00, 71.22it/s, loss=6.6425e-02]\n",
      "Epoch 13/50:  17%|█▋        | 7/41 [00:00<00:00, 69.65it/s, loss=9.2384e-02]"
     ]
    },
    {
     "name": "stdout",
     "output_type": "stream",
     "text": [
      "Epoch 12/50, Train Loss: 9.0238e-02, Test Loss: 0.1008\n",
      "Epoch 12/50, Train Accuracy: 72.59%, Test Accuracy: 69.85%\n",
      "Epoch 12/50, Train AUC: 72.70%, Test AUC: 67.57%\n",
      "Classification Report on Val Set : \n",
      "              precision    recall  f1-score   support\n",
      "\n",
      "   No Cancer       0.94      0.71      0.81      2249\n",
      "      Cancer       0.22      0.65      0.33       294\n",
      "\n",
      "    accuracy                           0.70      2543\n",
      "   macro avg       0.58      0.68      0.57      2543\n",
      "weighted avg       0.86      0.70      0.75      2543\n",
      "\n"
     ]
    },
    {
     "name": "stderr",
     "output_type": "stream",
     "text": [
      "Epoch 13/50: 100%|██████████| 41/41 [00:00<00:00, 71.29it/s, loss=1.0722e-01]\n",
      "Epoch 14/50:  17%|█▋        | 7/41 [00:00<00:00, 69.84it/s, loss=1.1571e-01]"
     ]
    },
    {
     "name": "stdout",
     "output_type": "stream",
     "text": [
      "Epoch 13/50, Train Loss: 8.4820e-02, Test Loss: 0.1131\n",
      "Epoch 13/50, Train Accuracy: 74.12%, Test Accuracy: 68.05%\n",
      "Epoch 13/50, Train AUC: 73.98%, Test AUC: 67.59%\n",
      "Classification Report on Val Set : \n",
      "              precision    recall  f1-score   support\n",
      "\n",
      "   No Cancer       0.94      0.68      0.79      2249\n",
      "      Cancer       0.22      0.67      0.33       294\n",
      "\n",
      "    accuracy                           0.68      2543\n",
      "   macro avg       0.58      0.68      0.56      2543\n",
      "weighted avg       0.86      0.68      0.74      2543\n",
      "\n"
     ]
    },
    {
     "name": "stderr",
     "output_type": "stream",
     "text": [
      "Epoch 14/50: 100%|██████████| 41/41 [00:00<00:00, 71.37it/s, loss=9.8639e-02]\n",
      "Epoch 15/50:  17%|█▋        | 7/41 [00:00<00:00, 69.90it/s, loss=7.5333e-02]"
     ]
    },
    {
     "name": "stdout",
     "output_type": "stream",
     "text": [
      "Epoch 14/50, Train Loss: 9.1048e-02, Test Loss: 0.1040\n",
      "Epoch 14/50, Train Accuracy: 73.39%, Test Accuracy: 69.90%\n",
      "Epoch 14/50, Train AUC: 73.26%, Test AUC: 68.33%\n",
      "Classification Report on Val Set : \n",
      "              precision    recall  f1-score   support\n",
      "\n",
      "   No Cancer       0.94      0.70      0.81      2249\n",
      "      Cancer       0.23      0.66      0.34       294\n",
      "\n",
      "    accuracy                           0.70      2543\n",
      "   macro avg       0.58      0.68      0.57      2543\n",
      "weighted avg       0.86      0.70      0.75      2543\n",
      "\n"
     ]
    },
    {
     "name": "stderr",
     "output_type": "stream",
     "text": [
      "Epoch 15/50: 100%|██████████| 41/41 [00:00<00:00, 71.32it/s, loss=1.7245e-01]\n",
      "Epoch 16/50:  17%|█▋        | 7/41 [00:00<00:00, 69.87it/s, loss=9.6455e-02]"
     ]
    },
    {
     "name": "stdout",
     "output_type": "stream",
     "text": [
      "Epoch 15/50, Train Loss: 9.4811e-02, Test Loss: 0.1295\n",
      "Epoch 15/50, Train Accuracy: 71.92%, Test Accuracy: 65.15%\n",
      "Epoch 15/50, Train AUC: 71.96%, Test AUC: 67.14%\n",
      "Classification Report on Val Set : \n",
      "              precision    recall  f1-score   support\n",
      "\n",
      "   No Cancer       0.94      0.65      0.77      2249\n",
      "      Cancer       0.20      0.70      0.32       294\n",
      "\n",
      "    accuracy                           0.65      2543\n",
      "   macro avg       0.57      0.67      0.54      2543\n",
      "weighted avg       0.86      0.65      0.71      2543\n",
      "\n"
     ]
    },
    {
     "name": "stderr",
     "output_type": "stream",
     "text": [
      "Epoch 16/50: 100%|██████████| 41/41 [00:00<00:00, 71.20it/s, loss=7.3343e-02]\n",
      "Epoch 17/50:  17%|█▋        | 7/41 [00:00<00:00, 69.74it/s, loss=1.1597e-01]"
     ]
    },
    {
     "name": "stdout",
     "output_type": "stream",
     "text": [
      "Epoch 16/50, Train Loss: 8.5843e-02, Test Loss: 0.1116\n",
      "Epoch 16/50, Train Accuracy: 74.35%, Test Accuracy: 68.19%\n",
      "Epoch 16/50, Train AUC: 74.29%, Test AUC: 68.39%\n",
      "Classification Report on Val Set : \n",
      "              precision    recall  f1-score   support\n",
      "\n",
      "   No Cancer       0.94      0.68      0.79      2249\n",
      "      Cancer       0.22      0.69      0.33       294\n",
      "\n",
      "    accuracy                           0.68      2543\n",
      "   macro avg       0.58      0.68      0.56      2543\n",
      "weighted avg       0.86      0.68      0.74      2543\n",
      "\n"
     ]
    },
    {
     "name": "stderr",
     "output_type": "stream",
     "text": [
      "Epoch 17/50: 100%|██████████| 41/41 [00:00<00:00, 71.17it/s, loss=9.1936e-02]\n",
      "Epoch 18/50:  17%|█▋        | 7/41 [00:00<00:00, 70.00it/s, loss=9.0599e-02]"
     ]
    },
    {
     "name": "stdout",
     "output_type": "stream",
     "text": [
      "Epoch 17/50, Train Loss: 9.2464e-02, Test Loss: 0.1102\n",
      "Epoch 17/50, Train Accuracy: 72.90%, Test Accuracy: 68.75%\n",
      "Epoch 17/50, Train AUC: 72.75%, Test AUC: 68.28%\n",
      "Classification Report on Val Set : \n",
      "              precision    recall  f1-score   support\n",
      "\n",
      "   No Cancer       0.94      0.69      0.80      2249\n",
      "      Cancer       0.22      0.68      0.33       294\n",
      "\n",
      "    accuracy                           0.69      2543\n",
      "   macro avg       0.58      0.68      0.56      2543\n",
      "weighted avg       0.86      0.69      0.74      2543\n",
      "\n"
     ]
    },
    {
     "name": "stderr",
     "output_type": "stream",
     "text": [
      "Epoch 18/50: 100%|██████████| 41/41 [00:00<00:00, 71.26it/s, loss=5.7296e-02]\n",
      "Epoch 19/50:  17%|█▋        | 7/41 [00:00<00:00, 69.83it/s, loss=1.0337e-01]"
     ]
    },
    {
     "name": "stdout",
     "output_type": "stream",
     "text": [
      "Epoch 18/50, Train Loss: 8.6651e-02, Test Loss: 0.1053\n",
      "Epoch 18/50, Train Accuracy: 73.05%, Test Accuracy: 70.68%\n",
      "Epoch 18/50, Train AUC: 72.91%, Test AUC: 69.07%\n",
      "Classification Report on Val Set : \n",
      "              precision    recall  f1-score   support\n",
      "\n",
      "   No Cancer       0.94      0.71      0.81      2249\n",
      "      Cancer       0.23      0.67      0.35       294\n",
      "\n",
      "    accuracy                           0.71      2543\n",
      "   macro avg       0.59      0.69      0.58      2543\n",
      "weighted avg       0.86      0.71      0.76      2543\n",
      "\n"
     ]
    },
    {
     "name": "stderr",
     "output_type": "stream",
     "text": [
      "Epoch 19/50: 100%|██████████| 41/41 [00:00<00:00, 71.08it/s, loss=1.0078e-01]\n",
      "Epoch 20/50:  17%|█▋        | 7/41 [00:00<00:00, 69.84it/s, loss=7.7241e-02]"
     ]
    },
    {
     "name": "stdout",
     "output_type": "stream",
     "text": [
      "Epoch 19/50, Train Loss: 8.8505e-02, Test Loss: 0.1063\n",
      "Epoch 19/50, Train Accuracy: 73.59%, Test Accuracy: 70.18%\n",
      "Epoch 19/50, Train AUC: 73.49%, Test AUC: 68.34%\n",
      "Classification Report on Val Set : \n",
      "              precision    recall  f1-score   support\n",
      "\n",
      "   No Cancer       0.94      0.71      0.81      2249\n",
      "      Cancer       0.23      0.66      0.34       294\n",
      "\n",
      "    accuracy                           0.70      2543\n",
      "   macro avg       0.58      0.68      0.57      2543\n",
      "weighted avg       0.86      0.70      0.75      2543\n",
      "\n"
     ]
    },
    {
     "name": "stderr",
     "output_type": "stream",
     "text": [
      "Epoch 20/50: 100%|██████████| 41/41 [00:00<00:00, 71.21it/s, loss=8.2702e-02]\n",
      "Epoch 21/50:  17%|█▋        | 7/41 [00:00<00:00, 69.95it/s, loss=7.7933e-02]"
     ]
    },
    {
     "name": "stdout",
     "output_type": "stream",
     "text": [
      "Epoch 20/50, Train Loss: 8.3373e-02, Test Loss: 0.1021\n",
      "Epoch 20/50, Train Accuracy: 74.39%, Test Accuracy: 69.86%\n",
      "Epoch 20/50, Train AUC: 74.43%, Test AUC: 66.69%\n",
      "Classification Report on Val Set : \n",
      "              precision    recall  f1-score   support\n",
      "\n",
      "   No Cancer       0.94      0.71      0.81      2249\n",
      "      Cancer       0.22      0.63      0.32       294\n",
      "\n",
      "    accuracy                           0.70      2543\n",
      "   macro avg       0.58      0.67      0.57      2543\n",
      "weighted avg       0.85      0.70      0.75      2543\n",
      "\n"
     ]
    },
    {
     "name": "stderr",
     "output_type": "stream",
     "text": [
      "Epoch 21/50: 100%|██████████| 41/41 [00:00<00:00, 71.24it/s, loss=5.1159e-02]\n",
      "Epoch 22/50:  17%|█▋        | 7/41 [00:00<00:00, 69.74it/s, loss=1.1887e-01]"
     ]
    },
    {
     "name": "stdout",
     "output_type": "stream",
     "text": [
      "Epoch 21/50, Train Loss: 8.3793e-02, Test Loss: 0.1081\n",
      "Epoch 21/50, Train Accuracy: 74.13%, Test Accuracy: 68.68%\n",
      "Epoch 21/50, Train AUC: 74.31%, Test AUC: 67.94%\n",
      "Classification Report on Val Set : \n",
      "              precision    recall  f1-score   support\n",
      "\n",
      "   No Cancer       0.94      0.69      0.80      2249\n",
      "      Cancer       0.22      0.67      0.33       294\n",
      "\n",
      "    accuracy                           0.69      2543\n",
      "   macro avg       0.58      0.68      0.56      2543\n",
      "weighted avg       0.86      0.69      0.74      2543\n",
      "\n"
     ]
    },
    {
     "name": "stderr",
     "output_type": "stream",
     "text": [
      "Epoch 22/50: 100%|██████████| 41/41 [00:00<00:00, 71.11it/s, loss=8.7032e-02]\n",
      "Epoch 23/50:  17%|█▋        | 7/41 [00:00<00:00, 69.77it/s, loss=8.6805e-02]"
     ]
    },
    {
     "name": "stdout",
     "output_type": "stream",
     "text": [
      "Epoch 22/50, Train Loss: 8.6805e-02, Test Loss: 0.1283\n",
      "Epoch 22/50, Train Accuracy: 74.41%, Test Accuracy: 66.19%\n",
      "Epoch 22/50, Train AUC: 74.34%, Test AUC: 67.72%\n",
      "Classification Report on Val Set : \n",
      "              precision    recall  f1-score   support\n",
      "\n",
      "   No Cancer       0.94      0.66      0.77      2249\n",
      "      Cancer       0.21      0.70      0.32       294\n",
      "\n",
      "    accuracy                           0.66      2543\n",
      "   macro avg       0.58      0.68      0.55      2543\n",
      "weighted avg       0.86      0.66      0.72      2543\n",
      "\n"
     ]
    },
    {
     "name": "stderr",
     "output_type": "stream",
     "text": [
      "Epoch 23/50: 100%|██████████| 41/41 [00:00<00:00, 71.36it/s, loss=7.5144e-02]\n",
      "Epoch 24/50:  17%|█▋        | 7/41 [00:00<00:00, 69.41it/s, loss=1.0986e-01]"
     ]
    },
    {
     "name": "stdout",
     "output_type": "stream",
     "text": [
      "Epoch 23/50, Train Loss: 8.5053e-02, Test Loss: 0.0973\n",
      "Epoch 23/50, Train Accuracy: 74.56%, Test Accuracy: 70.99%\n",
      "Epoch 23/50, Train AUC: 74.53%, Test AUC: 67.92%\n",
      "Classification Report on Val Set : \n",
      "              precision    recall  f1-score   support\n",
      "\n",
      "   No Cancer       0.94      0.72      0.81      2249\n",
      "      Cancer       0.23      0.64      0.34       294\n",
      "\n",
      "    accuracy                           0.71      2543\n",
      "   macro avg       0.58      0.68      0.58      2543\n",
      "weighted avg       0.86      0.71      0.76      2543\n",
      "\n"
     ]
    },
    {
     "name": "stderr",
     "output_type": "stream",
     "text": [
      "Epoch 24/50: 100%|██████████| 41/41 [00:00<00:00, 71.26it/s, loss=1.0502e-01]\n",
      "Epoch 25/50:  17%|█▋        | 7/41 [00:00<00:00, 69.97it/s, loss=7.6052e-02]"
     ]
    },
    {
     "name": "stdout",
     "output_type": "stream",
     "text": [
      "Epoch 24/50, Train Loss: 7.9803e-02, Test Loss: 0.1157\n",
      "Epoch 24/50, Train Accuracy: 75.65%, Test Accuracy: 69.29%\n",
      "Epoch 24/50, Train AUC: 75.72%, Test AUC: 67.98%\n",
      "Classification Report on Val Set : \n",
      "              precision    recall  f1-score   support\n",
      "\n",
      "   No Cancer       0.94      0.70      0.80      2249\n",
      "      Cancer       0.22      0.66      0.33       294\n",
      "\n",
      "    accuracy                           0.69      2543\n",
      "   macro avg       0.58      0.68      0.57      2543\n",
      "weighted avg       0.86      0.69      0.75      2543\n",
      "\n"
     ]
    },
    {
     "name": "stderr",
     "output_type": "stream",
     "text": [
      "Epoch 25/50: 100%|██████████| 41/41 [00:00<00:00, 71.39it/s, loss=8.9874e-02]\n",
      "Epoch 26/50:  17%|█▋        | 7/41 [00:00<00:00, 69.88it/s, loss=9.3324e-02]"
     ]
    },
    {
     "name": "stdout",
     "output_type": "stream",
     "text": [
      "Epoch 25/50, Train Loss: 8.4907e-02, Test Loss: 0.1043\n",
      "Epoch 25/50, Train Accuracy: 74.78%, Test Accuracy: 69.27%\n",
      "Epoch 25/50, Train AUC: 74.63%, Test AUC: 67.39%\n",
      "Classification Report on Val Set : \n",
      "              precision    recall  f1-score   support\n",
      "\n",
      "   No Cancer       0.94      0.70      0.80      2249\n",
      "      Cancer       0.22      0.65      0.33       294\n",
      "\n",
      "    accuracy                           0.69      2543\n",
      "   macro avg       0.58      0.67      0.56      2543\n",
      "weighted avg       0.86      0.69      0.75      2543\n",
      "\n"
     ]
    },
    {
     "name": "stderr",
     "output_type": "stream",
     "text": [
      "Epoch 26/50: 100%|██████████| 41/41 [00:00<00:00, 71.34it/s, loss=6.1041e-02]\n",
      "Epoch 27/50:  17%|█▋        | 7/41 [00:00<00:00, 69.83it/s, loss=5.2629e-02]"
     ]
    },
    {
     "name": "stdout",
     "output_type": "stream",
     "text": [
      "Epoch 26/50, Train Loss: 8.3235e-02, Test Loss: 0.1111\n",
      "Epoch 26/50, Train Accuracy: 75.10%, Test Accuracy: 68.71%\n",
      "Epoch 26/50, Train AUC: 75.13%, Test AUC: 67.67%\n",
      "Classification Report on Val Set : \n",
      "              precision    recall  f1-score   support\n",
      "\n",
      "   No Cancer       0.94      0.69      0.80      2249\n",
      "      Cancer       0.22      0.66      0.33       294\n",
      "\n",
      "    accuracy                           0.69      2543\n",
      "   macro avg       0.58      0.68      0.56      2543\n",
      "weighted avg       0.86      0.69      0.74      2543\n",
      "\n"
     ]
    },
    {
     "name": "stderr",
     "output_type": "stream",
     "text": [
      "Epoch 27/50: 100%|██████████| 41/41 [00:00<00:00, 71.14it/s, loss=7.1369e-02]\n",
      "Epoch 28/50:  17%|█▋        | 7/41 [00:00<00:00, 69.76it/s, loss=9.4074e-02]"
     ]
    },
    {
     "name": "stdout",
     "output_type": "stream",
     "text": [
      "Epoch 27/50, Train Loss: 8.2823e-02, Test Loss: 0.0977\n",
      "Epoch 27/50, Train Accuracy: 75.77%, Test Accuracy: 70.79%\n",
      "Epoch 27/50, Train AUC: 75.60%, Test AUC: 67.07%\n",
      "Classification Report on Val Set : \n",
      "              precision    recall  f1-score   support\n",
      "\n",
      "   No Cancer       0.94      0.72      0.81      2249\n",
      "      Cancer       0.22      0.62      0.33       294\n",
      "\n",
      "    accuracy                           0.71      2543\n",
      "   macro avg       0.58      0.67      0.57      2543\n",
      "weighted avg       0.85      0.71      0.76      2543\n",
      "\n"
     ]
    },
    {
     "name": "stderr",
     "output_type": "stream",
     "text": [
      "Epoch 28/50: 100%|██████████| 41/41 [00:00<00:00, 71.10it/s, loss=7.1942e-02]\n",
      "Epoch 29/50:  17%|█▋        | 7/41 [00:00<00:00, 69.76it/s, loss=1.0010e-01]"
     ]
    },
    {
     "name": "stdout",
     "output_type": "stream",
     "text": [
      "Epoch 28/50, Train Loss: 7.9921e-02, Test Loss: 0.1083\n",
      "Epoch 28/50, Train Accuracy: 75.58%, Test Accuracy: 68.66%\n",
      "Epoch 28/50, Train AUC: 75.34%, Test AUC: 67.94%\n",
      "Classification Report on Val Set : \n",
      "              precision    recall  f1-score   support\n",
      "\n",
      "   No Cancer       0.94      0.69      0.80      2249\n",
      "      Cancer       0.22      0.67      0.33       294\n",
      "\n",
      "    accuracy                           0.69      2543\n",
      "   macro avg       0.58      0.68      0.56      2543\n",
      "weighted avg       0.86      0.69      0.74      2543\n",
      "\n"
     ]
    },
    {
     "name": "stderr",
     "output_type": "stream",
     "text": [
      "Epoch 29/50: 100%|██████████| 41/41 [00:00<00:00, 71.19it/s, loss=5.8413e-02]\n",
      "Epoch 30/50:  17%|█▋        | 7/41 [00:00<00:00, 69.54it/s, loss=1.0100e-01]"
     ]
    },
    {
     "name": "stdout",
     "output_type": "stream",
     "text": [
      "Epoch 29/50, Train Loss: 8.3174e-02, Test Loss: 0.1073\n",
      "Epoch 29/50, Train Accuracy: 73.91%, Test Accuracy: 70.21%\n",
      "Epoch 29/50, Train AUC: 73.92%, Test AUC: 67.18%\n",
      "Classification Report on Val Set : \n",
      "              precision    recall  f1-score   support\n",
      "\n",
      "   No Cancer       0.94      0.71      0.81      2249\n",
      "      Cancer       0.22      0.63      0.33       294\n",
      "\n",
      "    accuracy                           0.70      2543\n",
      "   macro avg       0.58      0.67      0.57      2543\n",
      "weighted avg       0.85      0.70      0.75      2543\n",
      "\n"
     ]
    },
    {
     "name": "stderr",
     "output_type": "stream",
     "text": [
      "Epoch 30/50: 100%|██████████| 41/41 [00:00<00:00, 71.37it/s, loss=6.3647e-02]\n",
      "Epoch 31/50:  20%|█▉        | 8/41 [00:00<00:00, 70.29it/s, loss=9.7273e-02]"
     ]
    },
    {
     "name": "stdout",
     "output_type": "stream",
     "text": [
      "Epoch 30/50, Train Loss: 8.1854e-02, Test Loss: 0.1128\n",
      "Epoch 30/50, Train Accuracy: 75.26%, Test Accuracy: 68.42%\n",
      "Epoch 30/50, Train AUC: 75.41%, Test AUC: 66.18%\n",
      "Classification Report on Val Set : \n",
      "              precision    recall  f1-score   support\n",
      "\n",
      "   No Cancer       0.94      0.69      0.79      2249\n",
      "      Cancer       0.21      0.63      0.32       294\n",
      "\n",
      "    accuracy                           0.68      2543\n",
      "   macro avg       0.57      0.66      0.56      2543\n",
      "weighted avg       0.85      0.68      0.74      2543\n",
      "\n"
     ]
    },
    {
     "name": "stderr",
     "output_type": "stream",
     "text": [
      "Epoch 31/50: 100%|██████████| 41/41 [00:00<00:00, 71.40it/s, loss=7.4452e-02]\n",
      "Epoch 32/50:  20%|█▉        | 8/41 [00:00<00:00, 70.16it/s, loss=1.0054e-01]"
     ]
    },
    {
     "name": "stdout",
     "output_type": "stream",
     "text": [
      "Epoch 31/50, Train Loss: 7.7791e-02, Test Loss: 0.1035\n",
      "Epoch 31/50, Train Accuracy: 75.53%, Test Accuracy: 69.69%\n",
      "Epoch 31/50, Train AUC: 75.44%, Test AUC: 67.63%\n",
      "Classification Report on Val Set : \n",
      "              precision    recall  f1-score   support\n",
      "\n",
      "   No Cancer       0.94      0.70      0.80      2249\n",
      "      Cancer       0.22      0.65      0.33       294\n",
      "\n",
      "    accuracy                           0.70      2543\n",
      "   macro avg       0.58      0.68      0.57      2543\n",
      "weighted avg       0.86      0.70      0.75      2543\n",
      "\n"
     ]
    },
    {
     "name": "stderr",
     "output_type": "stream",
     "text": [
      "Epoch 32/50: 100%|██████████| 41/41 [00:00<00:00, 71.41it/s, loss=1.2732e-01]\n",
      "Epoch 33/50:  20%|█▉        | 8/41 [00:00<00:00, 70.22it/s, loss=9.2574e-02]"
     ]
    },
    {
     "name": "stdout",
     "output_type": "stream",
     "text": [
      "Epoch 32/50, Train Loss: 7.3197e-02, Test Loss: 0.1162\n",
      "Epoch 32/50, Train Accuracy: 75.72%, Test Accuracy: 67.21%\n",
      "Epoch 32/50, Train AUC: 75.67%, Test AUC: 66.53%\n",
      "Classification Report on Val Set : \n",
      "              precision    recall  f1-score   support\n",
      "\n",
      "   No Cancer       0.94      0.67      0.78      2249\n",
      "      Cancer       0.21      0.66      0.32       294\n",
      "\n",
      "    accuracy                           0.67      2543\n",
      "   macro avg       0.57      0.67      0.55      2543\n",
      "weighted avg       0.85      0.67      0.73      2543\n",
      "\n"
     ]
    },
    {
     "name": "stderr",
     "output_type": "stream",
     "text": [
      "Epoch 33/50: 100%|██████████| 41/41 [00:00<00:00, 71.49it/s, loss=3.7925e-02]\n",
      "Epoch 34/50:  20%|█▉        | 8/41 [00:00<00:00, 70.33it/s, loss=8.0249e-02]"
     ]
    },
    {
     "name": "stdout",
     "output_type": "stream",
     "text": [
      "Epoch 33/50, Train Loss: 7.8709e-02, Test Loss: 0.1066\n",
      "Epoch 33/50, Train Accuracy: 75.06%, Test Accuracy: 69.40%\n",
      "Epoch 33/50, Train AUC: 75.21%, Test AUC: 67.31%\n",
      "Classification Report on Val Set : \n",
      "              precision    recall  f1-score   support\n",
      "\n",
      "   No Cancer       0.94      0.70      0.80      2249\n",
      "      Cancer       0.22      0.65      0.33       294\n",
      "\n",
      "    accuracy                           0.69      2543\n",
      "   macro avg       0.58      0.67      0.56      2543\n",
      "weighted avg       0.85      0.69      0.75      2543\n",
      "\n"
     ]
    },
    {
     "name": "stderr",
     "output_type": "stream",
     "text": [
      "Epoch 34/50: 100%|██████████| 41/41 [00:00<00:00, 71.34it/s, loss=5.1694e-02]\n",
      "Epoch 35/50:  17%|█▋        | 7/41 [00:00<00:00, 69.68it/s, loss=1.1540e-01]"
     ]
    },
    {
     "name": "stdout",
     "output_type": "stream",
     "text": [
      "Epoch 34/50, Train Loss: 7.5478e-02, Test Loss: 0.1106\n",
      "Epoch 34/50, Train Accuracy: 76.25%, Test Accuracy: 69.81%\n",
      "Epoch 34/50, Train AUC: 76.17%, Test AUC: 67.85%\n",
      "Classification Report on Val Set : \n",
      "              precision    recall  f1-score   support\n",
      "\n",
      "   No Cancer       0.94      0.70      0.80      2249\n",
      "      Cancer       0.22      0.65      0.33       294\n",
      "\n",
      "    accuracy                           0.70      2543\n",
      "   macro avg       0.58      0.68      0.57      2543\n",
      "weighted avg       0.86      0.70      0.75      2543\n",
      "\n"
     ]
    },
    {
     "name": "stderr",
     "output_type": "stream",
     "text": [
      "Epoch 35/50: 100%|██████████| 41/41 [00:00<00:00, 71.15it/s, loss=1.1895e-01]\n",
      "Epoch 36/50:  20%|█▉        | 8/41 [00:00<00:00, 70.19it/s, loss=6.6857e-02]"
     ]
    },
    {
     "name": "stdout",
     "output_type": "stream",
     "text": [
      "Epoch 35/50, Train Loss: 7.6889e-02, Test Loss: 0.1019\n",
      "Epoch 35/50, Train Accuracy: 75.34%, Test Accuracy: 71.01%\n",
      "Epoch 35/50, Train AUC: 75.39%, Test AUC: 67.94%\n",
      "Classification Report on Val Set : \n",
      "              precision    recall  f1-score   support\n",
      "\n",
      "   No Cancer       0.94      0.72      0.81      2249\n",
      "      Cancer       0.23      0.64      0.34       294\n",
      "\n",
      "    accuracy                           0.71      2543\n",
      "   macro avg       0.58      0.68      0.58      2543\n",
      "weighted avg       0.86      0.71      0.76      2543\n",
      "\n"
     ]
    },
    {
     "name": "stderr",
     "output_type": "stream",
     "text": [
      "Epoch 36/50: 100%|██████████| 41/41 [00:00<00:00, 71.56it/s, loss=1.5332e-01]\n",
      "Epoch 37/50:  17%|█▋        | 7/41 [00:00<00:00, 69.93it/s, loss=8.4393e-02]"
     ]
    },
    {
     "name": "stdout",
     "output_type": "stream",
     "text": [
      "Epoch 36/50, Train Loss: 7.3321e-02, Test Loss: 0.1019\n",
      "Epoch 36/50, Train Accuracy: 76.47%, Test Accuracy: 71.43%\n",
      "Epoch 36/50, Train AUC: 76.46%, Test AUC: 68.63%\n",
      "Classification Report on Val Set : \n",
      "              precision    recall  f1-score   support\n",
      "\n",
      "   No Cancer       0.94      0.72      0.82      2249\n",
      "      Cancer       0.23      0.65      0.34       294\n",
      "\n",
      "    accuracy                           0.71      2543\n",
      "   macro avg       0.59      0.69      0.58      2543\n",
      "weighted avg       0.86      0.71      0.76      2543\n",
      "\n"
     ]
    },
    {
     "name": "stderr",
     "output_type": "stream",
     "text": [
      "Epoch 37/50: 100%|██████████| 41/41 [00:00<00:00, 71.47it/s, loss=1.1625e-01]\n",
      "Epoch 38/50:  17%|█▋        | 7/41 [00:00<00:00, 69.65it/s, loss=1.1567e-01]"
     ]
    },
    {
     "name": "stdout",
     "output_type": "stream",
     "text": [
      "Epoch 37/50, Train Loss: 7.4226e-02, Test Loss: 0.1053\n",
      "Epoch 37/50, Train Accuracy: 75.71%, Test Accuracy: 69.08%\n",
      "Epoch 37/50, Train AUC: 75.80%, Test AUC: 67.30%\n",
      "Classification Report on Val Set : \n",
      "              precision    recall  f1-score   support\n",
      "\n",
      "   No Cancer       0.94      0.70      0.80      2249\n",
      "      Cancer       0.22      0.65      0.33       294\n",
      "\n",
      "    accuracy                           0.69      2543\n",
      "   macro avg       0.58      0.67      0.56      2543\n",
      "weighted avg       0.86      0.69      0.74      2543\n",
      "\n"
     ]
    },
    {
     "name": "stderr",
     "output_type": "stream",
     "text": [
      "Epoch 38/50: 100%|██████████| 41/41 [00:00<00:00, 71.16it/s, loss=9.6985e-02]\n",
      "Epoch 39/50:  17%|█▋        | 7/41 [00:00<00:00, 69.51it/s, loss=8.7226e-02]"
     ]
    },
    {
     "name": "stdout",
     "output_type": "stream",
     "text": [
      "Epoch 38/50, Train Loss: 7.2498e-02, Test Loss: 0.1131\n",
      "Epoch 38/50, Train Accuracy: 76.64%, Test Accuracy: 67.74%\n",
      "Epoch 38/50, Train AUC: 76.67%, Test AUC: 67.28%\n",
      "Classification Report on Val Set : \n",
      "              precision    recall  f1-score   support\n",
      "\n",
      "   No Cancer       0.94      0.68      0.79      2249\n",
      "      Cancer       0.21      0.67      0.32       294\n",
      "\n",
      "    accuracy                           0.68      2543\n",
      "   macro avg       0.58      0.67      0.56      2543\n",
      "weighted avg       0.86      0.68      0.73      2543\n",
      "\n"
     ]
    },
    {
     "name": "stderr",
     "output_type": "stream",
     "text": [
      "Epoch 39/50: 100%|██████████| 41/41 [00:00<00:00, 71.19it/s, loss=1.4080e-01]\n",
      "Epoch 40/50:  17%|█▋        | 7/41 [00:00<00:00, 69.93it/s, loss=1.1766e-01]"
     ]
    },
    {
     "name": "stdout",
     "output_type": "stream",
     "text": [
      "Epoch 39/50, Train Loss: 7.4061e-02, Test Loss: 0.0996\n",
      "Epoch 39/50, Train Accuracy: 76.32%, Test Accuracy: 70.39%\n",
      "Epoch 39/50, Train AUC: 76.15%, Test AUC: 68.33%\n",
      "Classification Report on Val Set : \n",
      "              precision    recall  f1-score   support\n",
      "\n",
      "   No Cancer       0.94      0.71      0.81      2249\n",
      "      Cancer       0.23      0.66      0.34       294\n",
      "\n",
      "    accuracy                           0.70      2543\n",
      "   macro avg       0.58      0.68      0.57      2543\n",
      "weighted avg       0.86      0.70      0.75      2543\n",
      "\n"
     ]
    },
    {
     "name": "stderr",
     "output_type": "stream",
     "text": [
      "Epoch 40/50: 100%|██████████| 41/41 [00:00<00:00, 71.18it/s, loss=7.9173e-02]\n",
      "Epoch 41/50:  17%|█▋        | 7/41 [00:00<00:00, 69.96it/s, loss=6.0747e-02]"
     ]
    },
    {
     "name": "stdout",
     "output_type": "stream",
     "text": [
      "Epoch 40/50, Train Loss: 6.9224e-02, Test Loss: 0.1083\n",
      "Epoch 40/50, Train Accuracy: 76.89%, Test Accuracy: 67.31%\n",
      "Epoch 40/50, Train AUC: 76.88%, Test AUC: 67.01%\n",
      "Classification Report on Val Set : \n",
      "              precision    recall  f1-score   support\n",
      "\n",
      "   No Cancer       0.94      0.67      0.78      2249\n",
      "      Cancer       0.21      0.67      0.32       294\n",
      "\n",
      "    accuracy                           0.67      2543\n",
      "   macro avg       0.57      0.67      0.55      2543\n",
      "weighted avg       0.86      0.67      0.73      2543\n",
      "\n"
     ]
    },
    {
     "name": "stderr",
     "output_type": "stream",
     "text": [
      "Epoch 41/50: 100%|██████████| 41/41 [00:00<00:00, 71.46it/s, loss=1.1797e-01]\n",
      "Epoch 42/50:  17%|█▋        | 7/41 [00:00<00:00, 69.89it/s, loss=8.7076e-02]"
     ]
    },
    {
     "name": "stdout",
     "output_type": "stream",
     "text": [
      "Epoch 41/50, Train Loss: 7.9653e-02, Test Loss: 0.1067\n",
      "Epoch 41/50, Train Accuracy: 75.50%, Test Accuracy: 68.87%\n",
      "Epoch 41/50, Train AUC: 75.55%, Test AUC: 66.28%\n",
      "Classification Report on Val Set : \n",
      "              precision    recall  f1-score   support\n",
      "\n",
      "   No Cancer       0.93      0.70      0.80      2249\n",
      "      Cancer       0.21      0.63      0.32       294\n",
      "\n",
      "    accuracy                           0.69      2543\n",
      "   macro avg       0.57      0.66      0.56      2543\n",
      "weighted avg       0.85      0.69      0.74      2543\n",
      "\n"
     ]
    },
    {
     "name": "stderr",
     "output_type": "stream",
     "text": [
      "Epoch 42/50: 100%|██████████| 41/41 [00:00<00:00, 71.40it/s, loss=8.3073e-02]\n",
      "Epoch 43/50:  20%|█▉        | 8/41 [00:00<00:00, 70.29it/s, loss=4.7448e-02]"
     ]
    },
    {
     "name": "stdout",
     "output_type": "stream",
     "text": [
      "Epoch 42/50, Train Loss: 7.5453e-02, Test Loss: 0.0992\n",
      "Epoch 42/50, Train Accuracy: 75.57%, Test Accuracy: 72.90%\n",
      "Epoch 42/50, Train AUC: 75.58%, Test AUC: 66.94%\n",
      "Classification Report on Val Set : \n",
      "              precision    recall  f1-score   support\n",
      "\n",
      "   No Cancer       0.93      0.75      0.83      2249\n",
      "      Cancer       0.23      0.59      0.34       294\n",
      "\n",
      "    accuracy                           0.73      2543\n",
      "   macro avg       0.58      0.67      0.58      2543\n",
      "weighted avg       0.85      0.73      0.77      2543\n",
      "\n"
     ]
    },
    {
     "name": "stderr",
     "output_type": "stream",
     "text": [
      "Epoch 43/50: 100%|██████████| 41/41 [00:00<00:00, 71.39it/s, loss=9.5481e-02]\n",
      "Epoch 44/50:  17%|█▋        | 7/41 [00:00<00:00, 69.74it/s, loss=8.9643e-02]"
     ]
    },
    {
     "name": "stdout",
     "output_type": "stream",
     "text": [
      "Epoch 43/50, Train Loss: 7.3977e-02, Test Loss: 0.1185\n",
      "Epoch 43/50, Train Accuracy: 76.18%, Test Accuracy: 67.62%\n",
      "Epoch 43/50, Train AUC: 76.21%, Test AUC: 67.66%\n",
      "Classification Report on Val Set : \n",
      "              precision    recall  f1-score   support\n",
      "\n",
      "   No Cancer       0.94      0.68      0.79      2249\n",
      "      Cancer       0.21      0.68      0.33       294\n",
      "\n",
      "    accuracy                           0.68      2543\n",
      "   macro avg       0.58      0.68      0.56      2543\n",
      "weighted avg       0.86      0.68      0.73      2543\n",
      "\n"
     ]
    },
    {
     "name": "stderr",
     "output_type": "stream",
     "text": [
      "Epoch 44/50: 100%|██████████| 41/41 [00:00<00:00, 71.24it/s, loss=1.3121e-01]\n",
      "Epoch 45/50:  17%|█▋        | 7/41 [00:00<00:00, 69.92it/s, loss=1.0871e-01]"
     ]
    },
    {
     "name": "stdout",
     "output_type": "stream",
     "text": [
      "Epoch 44/50, Train Loss: 7.2176e-02, Test Loss: 0.1046\n",
      "Epoch 44/50, Train Accuracy: 75.93%, Test Accuracy: 69.92%\n",
      "Epoch 44/50, Train AUC: 75.89%, Test AUC: 67.77%\n",
      "Classification Report on Val Set : \n",
      "              precision    recall  f1-score   support\n",
      "\n",
      "   No Cancer       0.94      0.71      0.81      2249\n",
      "      Cancer       0.22      0.65      0.33       294\n",
      "\n",
      "    accuracy                           0.70      2543\n",
      "   macro avg       0.58      0.68      0.57      2543\n",
      "weighted avg       0.86      0.70      0.75      2543\n",
      "\n"
     ]
    },
    {
     "name": "stderr",
     "output_type": "stream",
     "text": [
      "Epoch 45/50: 100%|██████████| 41/41 [00:00<00:00, 71.29it/s, loss=8.5640e-02]\n",
      "Epoch 46/50:  17%|█▋        | 7/41 [00:00<00:00, 69.94it/s, loss=1.1408e-01]"
     ]
    },
    {
     "name": "stdout",
     "output_type": "stream",
     "text": [
      "Epoch 45/50, Train Loss: 6.9459e-02, Test Loss: 0.0995\n",
      "Epoch 45/50, Train Accuracy: 77.53%, Test Accuracy: 69.84%\n",
      "Epoch 45/50, Train AUC: 77.48%, Test AUC: 66.09%\n",
      "Classification Report on Val Set : \n",
      "              precision    recall  f1-score   support\n",
      "\n",
      "   No Cancer       0.93      0.71      0.81      2249\n",
      "      Cancer       0.22      0.61      0.32       294\n",
      "\n",
      "    accuracy                           0.70      2543\n",
      "   macro avg       0.57      0.66      0.56      2543\n",
      "weighted avg       0.85      0.70      0.75      2543\n",
      "\n"
     ]
    },
    {
     "name": "stderr",
     "output_type": "stream",
     "text": [
      "Epoch 46/50: 100%|██████████| 41/41 [00:00<00:00, 71.42it/s, loss=1.4606e-01]\n",
      "Epoch 47/50:  20%|█▉        | 8/41 [00:00<00:00, 70.22it/s, loss=9.9036e-02]"
     ]
    },
    {
     "name": "stdout",
     "output_type": "stream",
     "text": [
      "Epoch 46/50, Train Loss: 6.9720e-02, Test Loss: 0.0955\n",
      "Epoch 46/50, Train Accuracy: 77.20%, Test Accuracy: 71.67%\n",
      "Epoch 46/50, Train AUC: 77.04%, Test AUC: 68.15%\n",
      "Classification Report on Val Set : \n",
      "              precision    recall  f1-score   support\n",
      "\n",
      "   No Cancer       0.94      0.73      0.82      2249\n",
      "      Cancer       0.23      0.64      0.34       294\n",
      "\n",
      "    accuracy                           0.72      2543\n",
      "   macro avg       0.59      0.68      0.58      2543\n",
      "weighted avg       0.86      0.72      0.76      2543\n",
      "\n"
     ]
    },
    {
     "name": "stderr",
     "output_type": "stream",
     "text": [
      "Epoch 47/50: 100%|██████████| 41/41 [00:00<00:00, 71.43it/s, loss=7.2512e-02]\n",
      "Epoch 48/50:  20%|█▉        | 8/41 [00:00<00:00, 70.13it/s, loss=7.1906e-02]"
     ]
    },
    {
     "name": "stdout",
     "output_type": "stream",
     "text": [
      "Epoch 47/50, Train Loss: 7.1041e-02, Test Loss: 0.1068\n",
      "Epoch 47/50, Train Accuracy: 77.41%, Test Accuracy: 68.66%\n",
      "Epoch 47/50, Train AUC: 77.46%, Test AUC: 67.20%\n",
      "Classification Report on Val Set : \n",
      "              precision    recall  f1-score   support\n",
      "\n",
      "   No Cancer       0.94      0.69      0.80      2249\n",
      "      Cancer       0.22      0.65      0.33       294\n",
      "\n",
      "    accuracy                           0.69      2543\n",
      "   macro avg       0.58      0.67      0.56      2543\n",
      "weighted avg       0.85      0.69      0.74      2543\n",
      "\n"
     ]
    },
    {
     "name": "stderr",
     "output_type": "stream",
     "text": [
      "Epoch 48/50: 100%|██████████| 41/41 [00:00<00:00, 71.52it/s, loss=8.5927e-02]\n",
      "Epoch 49/50:  20%|█▉        | 8/41 [00:00<00:00, 70.01it/s, loss=6.8519e-02]"
     ]
    },
    {
     "name": "stdout",
     "output_type": "stream",
     "text": [
      "Epoch 48/50, Train Loss: 6.9104e-02, Test Loss: 0.1027\n",
      "Epoch 48/50, Train Accuracy: 77.51%, Test Accuracy: 70.02%\n",
      "Epoch 48/50, Train AUC: 77.48%, Test AUC: 66.48%\n",
      "Classification Report on Val Set : \n",
      "              precision    recall  f1-score   support\n",
      "\n",
      "   No Cancer       0.93      0.71      0.81      2249\n",
      "      Cancer       0.22      0.62      0.32       294\n",
      "\n",
      "    accuracy                           0.70      2543\n",
      "   macro avg       0.58      0.66      0.57      2543\n",
      "weighted avg       0.85      0.70      0.75      2543\n",
      "\n"
     ]
    },
    {
     "name": "stderr",
     "output_type": "stream",
     "text": [
      "Epoch 49/50: 100%|██████████| 41/41 [00:00<00:00, 71.37it/s, loss=7.8857e-02]\n",
      "Epoch 50/50:  20%|█▉        | 8/41 [00:00<00:00, 70.21it/s, loss=9.8622e-02]"
     ]
    },
    {
     "name": "stdout",
     "output_type": "stream",
     "text": [
      "Epoch 49/50, Train Loss: 6.8351e-02, Test Loss: 0.1046\n",
      "Epoch 49/50, Train Accuracy: 77.51%, Test Accuracy: 69.54%\n",
      "Epoch 49/50, Train AUC: 77.51%, Test AUC: 66.95%\n",
      "Classification Report on Val Set : \n",
      "              precision    recall  f1-score   support\n",
      "\n",
      "   No Cancer       0.94      0.70      0.80      2249\n",
      "      Cancer       0.22      0.64      0.33       294\n",
      "\n",
      "    accuracy                           0.70      2543\n",
      "   macro avg       0.58      0.67      0.56      2543\n",
      "weighted avg       0.85      0.70      0.75      2543\n",
      "\n"
     ]
    },
    {
     "name": "stderr",
     "output_type": "stream",
     "text": [
      "Epoch 50/50: 100%|██████████| 41/41 [00:00<00:00, 71.32it/s, loss=6.7216e-02]\n"
     ]
    },
    {
     "name": "stdout",
     "output_type": "stream",
     "text": [
      "Epoch 50/50, Train Loss: 6.5808e-02, Test Loss: 0.0907\n",
      "Epoch 50/50, Train Accuracy: 78.40%, Test Accuracy: 70.32%\n",
      "Epoch 50/50, Train AUC: 78.20%, Test AUC: 65.92%\n",
      "Classification Report on Val Set : \n",
      "              precision    recall  f1-score   support\n",
      "\n",
      "   No Cancer       0.93      0.72      0.81      2249\n",
      "      Cancer       0.22      0.60      0.32       294\n",
      "\n",
      "    accuracy                           0.70      2543\n",
      "   macro avg       0.57      0.66      0.56      2543\n",
      "weighted avg       0.85      0.70      0.75      2543\n",
      "\n",
      "\n",
      "Finished.\n",
      "Best validation AUC: 6.9075e-01\n",
      "With accuracy: 0.7067989856004715\n"
     ]
    }
   ],
   "source": [
    "# network\n",
    "net = MLP(dim_z).to(device).double()\n",
    "\n",
    "# loss and optimizer  \n",
    "criterion = FocalLoss().to(device)\n",
    "optimizer = optim.Adam(net.parameters(), lr=vae_mlp_args['lr_pt'])\n",
    "\n",
    "# Logging + Experiment\n",
    "\n",
    "ignore_keys = {'no_tensorboard'}\n",
    "# get hyperparameters with values in a dict\n",
    "hparams = {**vae_mlp_args}\n",
    "# generate a name for the experiment\n",
    "expe_name = '_'.join([f\"{key}={val}\" for key, val in hparams.items()])\n",
    "print(\"Experimenting with : \\n \\t\"+expe_name)\n",
    "# path where to save the model\n",
    "savepath = Path('/tempory/transcriptomic_data/pre_trained_mlp_vae_checkpt.pt')\n",
    "# Tensorboard summary writer\n",
    "if vae_mlp_args['no_tensorboard']:\n",
    "    writer = None\n",
    "else:\n",
    "    writer = SummaryWriter(\"runs/runs\"+\"_\"+datetime.datetime.now().strftime(\"%Y%m%d-%H%M%S\")+expe_name)\n",
    "# start the experiment\n",
    "checkpoint = CheckpointState(net, optimizer, savepath=savepath)\n",
    "fit(checkpoint, criterion, non_lung_dataloader_train_splitted, non_lung_dataloader_validation_splitted, vae_mlp_args['epochs'], writer=writer, embedding_computer=vae)\n",
    "if not vae_mlp_args['no_tensorboard']:\n",
    "    writer.close()"
   ]
  },
  {
   "cell_type": "markdown",
   "metadata": {},
   "source": [
    "# Fine-Tuning : "
   ]
  },
  {
   "cell_type": "code",
   "execution_count": 52,
   "metadata": {},
   "outputs": [],
   "source": [
    "# Load the pretrained Model\n",
    "net =  MLP(dim_z).to(device).double()\n",
    "optimizer = optim.Adam(net.parameters(), lr=vae_mlp_args['lr_ft'])\n",
    "# path where the pre-trained model is saved : defined above+\"_best\"\n",
    "savepath = Path('/tempory/transcriptomic_data/pre_trained_mlp_vae_checkpt_best.pt')\n",
    "checkpoint = CheckpointState(net, optimizer, savepath=savepath)\n",
    "checkpoint.load()\n",
    "pretrained = checkpoint.model"
   ]
  },
  {
   "cell_type": "code",
   "execution_count": 53,
   "metadata": {},
   "outputs": [
    {
     "name": "stderr",
     "output_type": "stream",
     "text": [
      "Epoch 1/50: 100%|██████████| 5/5 [00:00<00:00, 79.87it/s, loss=1.1969e-01]\n",
      "Epoch 2/50:   0%|          | 0/5 [00:00<?, ?it/s, loss=1.3999e-01]"
     ]
    },
    {
     "name": "stdout",
     "output_type": "stream",
     "text": [
      "Training on GPU \n",
      "\n",
      "Epoch 1/50, Train Loss: 1.4167e-01, Test Loss: 0.1371\n",
      "Epoch 1/50, Train Accuracy: 62.13%, Test Accuracy: 62.50%\n",
      "Epoch 1/50, Train AUC: 62.31%, Test AUC: 59.23%\n",
      "Classification Report on Val Set : \n",
      "              precision    recall  f1-score   support\n",
      "\n",
      "   No Cancer       0.94      0.68      0.79       260\n",
      "      Cancer       0.12      0.50      0.19        22\n",
      "\n",
      "    accuracy                           0.67       282\n",
      "   macro avg       0.53      0.59      0.49       282\n",
      "weighted avg       0.88      0.67      0.75       282\n",
      "\n"
     ]
    },
    {
     "name": "stderr",
     "output_type": "stream",
     "text": [
      "Epoch 2/50: 100%|██████████| 5/5 [00:00<00:00, 81.04it/s, loss=1.2937e-01]\n",
      "Epoch 3/50: 100%|██████████| 5/5 [00:00<00:00, 83.13it/s, loss=1.4938e-01]\n"
     ]
    },
    {
     "name": "stdout",
     "output_type": "stream",
     "text": [
      "Epoch 2/50, Train Loss: 1.1801e-01, Test Loss: 0.1595\n",
      "Epoch 2/50, Train Accuracy: 69.60%, Test Accuracy: 63.26%\n",
      "Epoch 2/50, Train AUC: 68.93%, Test AUC: 61.12%\n",
      "Classification Report on Val Set : \n",
      "              precision    recall  f1-score   support\n",
      "\n",
      "   No Cancer       0.95      0.68      0.79       260\n",
      "      Cancer       0.12      0.55      0.20        22\n",
      "\n",
      "    accuracy                           0.67       282\n",
      "   macro avg       0.54      0.61      0.50       282\n",
      "weighted avg       0.88      0.67      0.74       282\n",
      "\n",
      "Epoch 3/50, Train Loss: 1.0872e-01, Test Loss: 0.1373\n",
      "Epoch 3/50, Train Accuracy: 70.99%, Test Accuracy: 69.19%\n",
      "Epoch 3/50, Train AUC: 71.07%, Test AUC: 61.15%\n",
      "Classification Report on Val Set : \n",
      "              precision    recall  f1-score   support\n",
      "\n",
      "   No Cancer       0.94      0.72      0.82       260\n",
      "      Cancer       0.13      0.50      0.21        22\n",
      "\n",
      "    accuracy                           0.71       282\n",
      "   macro avg       0.54      0.61      0.51       282\n",
      "weighted avg       0.88      0.71      0.77       282\n",
      "\n"
     ]
    },
    {
     "name": "stderr",
     "output_type": "stream",
     "text": [
      "Epoch 4/50: 100%|██████████| 5/5 [00:00<00:00, 82.79it/s, loss=1.4897e-01]\n",
      "Epoch 5/50: 100%|██████████| 5/5 [00:00<00:00, 81.71it/s, loss=1.1171e-01]\n",
      "Epoch 6/50:   0%|          | 0/5 [00:00<?, ?it/s]"
     ]
    },
    {
     "name": "stdout",
     "output_type": "stream",
     "text": [
      "Epoch 4/50, Train Loss: 1.1070e-01, Test Loss: 0.1414\n",
      "Epoch 4/50, Train Accuracy: 70.99%, Test Accuracy: 66.63%\n",
      "Epoch 4/50, Train AUC: 70.82%, Test AUC: 58.69%\n",
      "Classification Report on Val Set : \n",
      "              precision    recall  f1-score   support\n",
      "\n",
      "   No Cancer       0.94      0.72      0.81       260\n",
      "      Cancer       0.12      0.45      0.19        22\n",
      "\n",
      "    accuracy                           0.70       282\n",
      "   macro avg       0.53      0.59      0.50       282\n",
      "weighted avg       0.88      0.70      0.77       282\n",
      "\n",
      "Epoch 5/50, Train Loss: 1.0895e-01, Test Loss: 0.1417\n",
      "Epoch 5/50, Train Accuracy: 71.69%, Test Accuracy: 67.41%\n",
      "Epoch 5/50, Train AUC: 72.34%, Test AUC: 61.35%\n",
      "Classification Report on Val Set : \n",
      "              precision    recall  f1-score   support\n",
      "\n",
      "   No Cancer       0.94      0.73      0.82       260\n",
      "      Cancer       0.13      0.50      0.21        22\n",
      "\n",
      "    accuracy                           0.71       282\n",
      "   macro avg       0.54      0.61      0.52       282\n",
      "weighted avg       0.88      0.71      0.77       282\n",
      "\n"
     ]
    },
    {
     "name": "stderr",
     "output_type": "stream",
     "text": [
      "Epoch 6/50: 100%|██████████| 5/5 [00:00<00:00, 81.77it/s, loss=1.1691e-01]\n",
      "Epoch 7/50: 100%|██████████| 5/5 [00:00<00:00, 82.46it/s, loss=9.9246e-02]\n",
      "Epoch 8/50:   0%|          | 0/5 [00:00<?, ?it/s]"
     ]
    },
    {
     "name": "stdout",
     "output_type": "stream",
     "text": [
      "Epoch 6/50, Train Loss: 9.7447e-02, Test Loss: 0.1512\n",
      "Epoch 6/50, Train Accuracy: 72.04%, Test Accuracy: 68.93%\n",
      "Epoch 6/50, Train AUC: 72.65%, Test AUC: 63.04%\n",
      "Classification Report on Val Set : \n",
      "              precision    recall  f1-score   support\n",
      "\n",
      "   No Cancer       0.95      0.72      0.82       260\n",
      "      Cancer       0.14      0.55      0.22        22\n",
      "\n",
      "    accuracy                           0.70       282\n",
      "   macro avg       0.54      0.63      0.52       282\n",
      "weighted avg       0.89      0.70      0.77       282\n",
      "\n",
      "Epoch 7/50, Train Loss: 9.6711e-02, Test Loss: 0.1215\n",
      "Epoch 7/50, Train Accuracy: 75.88%, Test Accuracy: 69.75%\n",
      "Epoch 7/50, Train AUC: 75.78%, Test AUC: 61.00%\n",
      "Classification Report on Val Set : \n",
      "              precision    recall  f1-score   support\n",
      "\n",
      "   No Cancer       0.94      0.77      0.85       260\n",
      "      Cancer       0.14      0.45      0.22        22\n",
      "\n",
      "    accuracy                           0.74       282\n",
      "   macro avg       0.54      0.61      0.53       282\n",
      "weighted avg       0.88      0.74      0.80       282\n",
      "\n"
     ]
    },
    {
     "name": "stderr",
     "output_type": "stream",
     "text": [
      "Epoch 8/50: 100%|██████████| 5/5 [00:00<00:00, 81.12it/s, loss=1.2637e-01]\n",
      "Epoch 9/50: 100%|██████████| 5/5 [00:00<00:00, 81.87it/s, loss=1.0025e-01]\n",
      "Epoch 10/50:   0%|          | 0/5 [00:00<?, ?it/s]"
     ]
    },
    {
     "name": "stdout",
     "output_type": "stream",
     "text": [
      "Epoch 8/50, Train Loss: 8.3315e-02, Test Loss: 0.1202\n",
      "Epoch 8/50, Train Accuracy: 75.57%, Test Accuracy: 72.84%\n",
      "Epoch 8/50, Train AUC: 75.37%, Test AUC: 65.93%\n",
      "Classification Report on Val Set : \n",
      "              precision    recall  f1-score   support\n",
      "\n",
      "   No Cancer       0.95      0.77      0.85       260\n",
      "      Cancer       0.17      0.55      0.26        22\n",
      "\n",
      "    accuracy                           0.76       282\n",
      "   macro avg       0.56      0.66      0.56       282\n",
      "weighted avg       0.89      0.76      0.81       282\n",
      "\n",
      "Epoch 9/50, Train Loss: 7.6128e-02, Test Loss: 0.1157\n",
      "Epoch 9/50, Train Accuracy: 78.78%, Test Accuracy: 71.05%\n",
      "Epoch 9/50, Train AUC: 77.84%, Test AUC: 61.96%\n",
      "Classification Report on Val Set : \n",
      "              precision    recall  f1-score   support\n",
      "\n",
      "   No Cancer       0.94      0.78      0.86       260\n",
      "      Cancer       0.15      0.45      0.23        22\n",
      "\n",
      "    accuracy                           0.76       282\n",
      "   macro avg       0.55      0.62      0.54       282\n",
      "weighted avg       0.88      0.76      0.81       282\n",
      "\n"
     ]
    },
    {
     "name": "stderr",
     "output_type": "stream",
     "text": [
      "Epoch 10/50: 100%|██████████| 5/5 [00:00<00:00, 81.61it/s, loss=7.4985e-02]\n",
      "Epoch 11/50: 100%|██████████| 5/5 [00:00<00:00, 82.35it/s, loss=7.6415e-02]\n",
      "Epoch 12/50:   0%|          | 0/5 [00:00<?, ?it/s, loss=8.6310e-02]"
     ]
    },
    {
     "name": "stdout",
     "output_type": "stream",
     "text": [
      "Epoch 10/50, Train Loss: 7.7756e-02, Test Loss: 0.1123\n",
      "Epoch 10/50, Train Accuracy: 77.91%, Test Accuracy: 72.84%\n",
      "Epoch 10/50, Train AUC: 78.10%, Test AUC: 63.85%\n",
      "Classification Report on Val Set : \n",
      "              precision    recall  f1-score   support\n",
      "\n",
      "   No Cancer       0.95      0.78      0.85       260\n",
      "      Cancer       0.16      0.50      0.24        22\n",
      "\n",
      "    accuracy                           0.76       282\n",
      "   macro avg       0.55      0.64      0.55       282\n",
      "weighted avg       0.89      0.76      0.81       282\n",
      "\n",
      "Epoch 11/50, Train Loss: 7.8946e-02, Test Loss: 0.0949\n",
      "Epoch 11/50, Train Accuracy: 74.99%, Test Accuracy: 73.36%\n",
      "Epoch 11/50, Train AUC: 76.05%, Test AUC: 62.15%\n",
      "Classification Report on Val Set : \n",
      "              precision    recall  f1-score   support\n",
      "\n",
      "   No Cancer       0.94      0.79      0.86       260\n",
      "      Cancer       0.15      0.45      0.23        22\n",
      "\n",
      "    accuracy                           0.76       282\n",
      "   macro avg       0.55      0.62      0.54       282\n",
      "weighted avg       0.88      0.76      0.81       282\n",
      "\n"
     ]
    },
    {
     "name": "stderr",
     "output_type": "stream",
     "text": [
      "Epoch 12/50: 100%|██████████| 5/5 [00:00<00:00, 82.28it/s, loss=8.4427e-02]\n",
      "Epoch 13/50: 100%|██████████| 5/5 [00:00<00:00, 82.52it/s, loss=6.4976e-02]\n",
      "Epoch 14/50:   0%|          | 0/5 [00:00<?, ?it/s, loss=1.0294e-01]"
     ]
    },
    {
     "name": "stdout",
     "output_type": "stream",
     "text": [
      "Epoch 12/50, Train Loss: 7.9606e-02, Test Loss: 0.0970\n",
      "Epoch 12/50, Train Accuracy: 75.36%, Test Accuracy: 72.08%\n",
      "Epoch 12/50, Train AUC: 75.74%, Test AUC: 61.96%\n",
      "Classification Report on Val Set : \n",
      "              precision    recall  f1-score   support\n",
      "\n",
      "   No Cancer       0.94      0.78      0.86       260\n",
      "      Cancer       0.15      0.45      0.23        22\n",
      "\n",
      "    accuracy                           0.76       282\n",
      "   macro avg       0.55      0.62      0.54       282\n",
      "weighted avg       0.88      0.76      0.81       282\n",
      "\n",
      "Epoch 13/50, Train Loss: 7.4604e-02, Test Loss: 0.0917\n",
      "Epoch 13/50, Train Accuracy: 77.50%, Test Accuracy: 72.34%\n",
      "Epoch 13/50, Train AUC: 76.76%, Test AUC: 60.07%\n",
      "Classification Report on Val Set : \n",
      "              precision    recall  f1-score   support\n",
      "\n",
      "   No Cancer       0.94      0.79      0.86       260\n",
      "      Cancer       0.14      0.41      0.21        22\n",
      "\n",
      "    accuracy                           0.76       282\n",
      "   macro avg       0.54      0.60      0.54       282\n",
      "weighted avg       0.88      0.76      0.81       282\n",
      "\n"
     ]
    },
    {
     "name": "stderr",
     "output_type": "stream",
     "text": [
      "Epoch 14/50: 100%|██████████| 5/5 [00:00<00:00, 81.70it/s, loss=1.0226e-01]\n",
      "Epoch 15/50: 100%|██████████| 5/5 [00:00<00:00, 82.12it/s, loss=7.8106e-02]\n",
      "Epoch 16/50:   0%|          | 0/5 [00:00<?, ?it/s, loss=8.5005e-02]"
     ]
    },
    {
     "name": "stdout",
     "output_type": "stream",
     "text": [
      "Epoch 14/50, Train Loss: 6.1024e-02, Test Loss: 0.1007\n",
      "Epoch 14/50, Train Accuracy: 79.99%, Test Accuracy: 72.08%\n",
      "Epoch 14/50, Train AUC: 79.74%, Test AUC: 61.96%\n",
      "Classification Report on Val Set : \n",
      "              precision    recall  f1-score   support\n",
      "\n",
      "   No Cancer       0.94      0.78      0.86       260\n",
      "      Cancer       0.15      0.45      0.23        22\n",
      "\n",
      "    accuracy                           0.76       282\n",
      "   macro avg       0.55      0.62      0.54       282\n",
      "weighted avg       0.88      0.76      0.81       282\n",
      "\n",
      "Epoch 15/50, Train Loss: 5.8508e-02, Test Loss: 0.0938\n",
      "Epoch 15/50, Train Accuracy: 78.47%, Test Accuracy: 74.14%\n",
      "Epoch 15/50, Train AUC: 77.44%, Test AUC: 62.73%\n",
      "Classification Report on Val Set : \n",
      "              precision    recall  f1-score   support\n",
      "\n",
      "   No Cancer       0.95      0.80      0.87       260\n",
      "      Cancer       0.16      0.45      0.24        22\n",
      "\n",
      "    accuracy                           0.77       282\n",
      "   macro avg       0.55      0.63      0.55       282\n",
      "weighted avg       0.88      0.77      0.82       282\n",
      "\n"
     ]
    },
    {
     "name": "stderr",
     "output_type": "stream",
     "text": [
      "Epoch 16/50: 100%|██████████| 5/5 [00:00<00:00, 81.67it/s, loss=1.3366e-01]\n",
      "Epoch 17/50: 100%|██████████| 5/5 [00:00<00:00, 81.95it/s, loss=6.1965e-02]\n",
      "Epoch 18/50:   0%|          | 0/5 [00:00<?, ?it/s, loss=8.0277e-02]"
     ]
    },
    {
     "name": "stdout",
     "output_type": "stream",
     "text": [
      "Epoch 16/50, Train Loss: 5.5783e-02, Test Loss: 0.0967\n",
      "Epoch 16/50, Train Accuracy: 81.91%, Test Accuracy: 71.55%\n",
      "Epoch 16/50, Train AUC: 81.21%, Test AUC: 59.49%\n",
      "Classification Report on Val Set : \n",
      "              precision    recall  f1-score   support\n",
      "\n",
      "   No Cancer       0.94      0.78      0.85       260\n",
      "      Cancer       0.14      0.41      0.20        22\n",
      "\n",
      "    accuracy                           0.75       282\n",
      "   macro avg       0.54      0.59      0.53       282\n",
      "weighted avg       0.88      0.75      0.80       282\n",
      "\n",
      "Epoch 17/50, Train Loss: 5.6967e-02, Test Loss: 0.0852\n",
      "Epoch 17/50, Train Accuracy: 79.83%, Test Accuracy: 73.86%\n",
      "Epoch 17/50, Train AUC: 79.57%, Test AUC: 59.69%\n",
      "Classification Report on Val Set : \n",
      "              precision    recall  f1-score   support\n",
      "\n",
      "   No Cancer       0.94      0.78      0.86       260\n",
      "      Cancer       0.14      0.41      0.21        22\n",
      "\n",
      "    accuracy                           0.76       282\n",
      "   macro avg       0.54      0.60      0.53       282\n",
      "weighted avg       0.88      0.76      0.80       282\n",
      "\n"
     ]
    },
    {
     "name": "stderr",
     "output_type": "stream",
     "text": [
      "Epoch 18/50: 100%|██████████| 5/5 [00:00<00:00, 81.16it/s, loss=4.5530e-02]\n",
      "Epoch 19/50: 100%|██████████| 5/5 [00:00<00:00, 80.86it/s, loss=6.4567e-02]\n",
      "Epoch 20/50:   0%|          | 0/5 [00:00<?, ?it/s, loss=6.5910e-02]"
     ]
    },
    {
     "name": "stdout",
     "output_type": "stream",
     "text": [
      "Epoch 18/50, Train Loss: 6.2457e-02, Test Loss: 0.0957\n",
      "Epoch 18/50, Train Accuracy: 74.58%, Test Accuracy: 73.60%\n",
      "Epoch 18/50, Train AUC: 74.89%, Test AUC: 61.57%\n",
      "Classification Report on Val Set : \n",
      "              precision    recall  f1-score   support\n",
      "\n",
      "   No Cancer       0.94      0.78      0.85       260\n",
      "      Cancer       0.15      0.45      0.22        22\n",
      "\n",
      "    accuracy                           0.75       282\n",
      "   macro avg       0.55      0.62      0.54       282\n",
      "weighted avg       0.88      0.75      0.80       282\n",
      "\n",
      "Epoch 19/50, Train Loss: 5.9418e-02, Test Loss: 0.1006\n",
      "Epoch 19/50, Train Accuracy: 79.46%, Test Accuracy: 72.08%\n",
      "Epoch 19/50, Train AUC: 80.09%, Test AUC: 64.04%\n",
      "Classification Report on Val Set : \n",
      "              precision    recall  f1-score   support\n",
      "\n",
      "   No Cancer       0.95      0.78      0.86       260\n",
      "      Cancer       0.16      0.50      0.24        22\n",
      "\n",
      "    accuracy                           0.76       282\n",
      "   macro avg       0.56      0.64      0.55       282\n",
      "weighted avg       0.89      0.76      0.81       282\n",
      "\n"
     ]
    },
    {
     "name": "stderr",
     "output_type": "stream",
     "text": [
      "Epoch 20/50: 100%|██████████| 5/5 [00:00<00:00, 81.70it/s, loss=4.8073e-02]\n",
      "Epoch 21/50: 100%|██████████| 5/5 [00:00<00:00, 83.09it/s, loss=5.9654e-02]\n",
      "Epoch 22/50:   0%|          | 0/5 [00:00<?, ?it/s, loss=6.2418e-02]"
     ]
    },
    {
     "name": "stdout",
     "output_type": "stream",
     "text": [
      "Epoch 20/50, Train Loss: 6.9828e-02, Test Loss: 0.0915\n",
      "Epoch 20/50, Train Accuracy: 75.94%, Test Accuracy: 71.79%\n",
      "Epoch 20/50, Train AUC: 77.03%, Test AUC: 61.00%\n",
      "Classification Report on Val Set : \n",
      "              precision    recall  f1-score   support\n",
      "\n",
      "   No Cancer       0.94      0.77      0.85       260\n",
      "      Cancer       0.14      0.45      0.22        22\n",
      "\n",
      "    accuracy                           0.74       282\n",
      "   macro avg       0.54      0.61      0.53       282\n",
      "weighted avg       0.88      0.74      0.80       282\n",
      "\n",
      "Epoch 21/50, Train Loss: 4.9327e-02, Test Loss: 0.0838\n",
      "Epoch 21/50, Train Accuracy: 81.71%, Test Accuracy: 73.88%\n",
      "Epoch 21/50, Train AUC: 81.67%, Test AUC: 56.29%\n",
      "Classification Report on Val Set : \n",
      "              precision    recall  f1-score   support\n",
      "\n",
      "   No Cancer       0.93      0.81      0.87       260\n",
      "      Cancer       0.12      0.32      0.18        22\n",
      "\n",
      "    accuracy                           0.77       282\n",
      "   macro avg       0.53      0.56      0.52       282\n",
      "weighted avg       0.87      0.77      0.81       282\n",
      "\n"
     ]
    },
    {
     "name": "stderr",
     "output_type": "stream",
     "text": [
      "Epoch 22/50: 100%|██████████| 5/5 [00:00<00:00, 81.45it/s, loss=4.6424e-02]\n",
      "Epoch 23/50: 100%|██████████| 5/5 [00:00<00:00, 82.02it/s, loss=5.5794e-02]\n",
      "Epoch 24/50:   0%|          | 0/5 [00:00<?, ?it/s, loss=6.8848e-02]"
     ]
    },
    {
     "name": "stdout",
     "output_type": "stream",
     "text": [
      "Epoch 22/50, Train Loss: 4.7974e-02, Test Loss: 0.0771\n",
      "Epoch 22/50, Train Accuracy: 83.78%, Test Accuracy: 75.44%\n",
      "Epoch 22/50, Train AUC: 83.39%, Test AUC: 61.61%\n",
      "Classification Report on Val Set : \n",
      "              precision    recall  f1-score   support\n",
      "\n",
      "   No Cancer       0.94      0.82      0.88       260\n",
      "      Cancer       0.16      0.41      0.23        22\n",
      "\n",
      "    accuracy                           0.79       282\n",
      "   macro avg       0.55      0.62      0.56       282\n",
      "weighted avg       0.88      0.79      0.83       282\n",
      "\n",
      "Epoch 23/50, Train Loss: 5.0449e-02, Test Loss: 0.0843\n",
      "Epoch 23/50, Train Accuracy: 80.16%, Test Accuracy: 72.60%\n",
      "Epoch 23/50, Train AUC: 79.64%, Test AUC: 62.34%\n",
      "Classification Report on Val Set : \n",
      "              precision    recall  f1-score   support\n",
      "\n",
      "   No Cancer       0.94      0.79      0.86       260\n",
      "      Cancer       0.16      0.45      0.23        22\n",
      "\n",
      "    accuracy                           0.77       282\n",
      "   macro avg       0.55      0.62      0.55       282\n",
      "weighted avg       0.88      0.77      0.81       282\n",
      "\n"
     ]
    },
    {
     "name": "stderr",
     "output_type": "stream",
     "text": [
      "Epoch 24/50: 100%|██████████| 5/5 [00:00<00:00, 80.78it/s, loss=7.4966e-02]\n",
      "Epoch 25/50: 100%|██████████| 5/5 [00:00<00:00, 82.68it/s, loss=1.1712e-01]\n",
      "Epoch 26/50:   0%|          | 0/5 [00:00<?, ?it/s]"
     ]
    },
    {
     "name": "stdout",
     "output_type": "stream",
     "text": [
      "Epoch 24/50, Train Loss: 4.3530e-02, Test Loss: 0.0804\n",
      "Epoch 24/50, Train Accuracy: 81.13%, Test Accuracy: 76.20%\n",
      "Epoch 24/50, Train AUC: 80.47%, Test AUC: 61.42%\n",
      "Classification Report on Val Set : \n",
      "              precision    recall  f1-score   support\n",
      "\n",
      "   No Cancer       0.94      0.82      0.88       260\n",
      "      Cancer       0.16      0.41      0.23        22\n",
      "\n",
      "    accuracy                           0.79       282\n",
      "   macro avg       0.55      0.61      0.55       282\n",
      "weighted avg       0.88      0.79      0.83       282\n",
      "\n",
      "Epoch 25/50, Train Loss: 4.5379e-02, Test Loss: 0.0785\n",
      "Epoch 25/50, Train Accuracy: 81.18%, Test Accuracy: 78.00%\n",
      "Epoch 25/50, Train AUC: 81.82%, Test AUC: 66.15%\n",
      "Classification Report on Val Set : \n",
      "              precision    recall  f1-score   support\n",
      "\n",
      "   No Cancer       0.95      0.82      0.88       260\n",
      "      Cancer       0.19      0.50      0.28        22\n",
      "\n",
      "    accuracy                           0.80       282\n",
      "   macro avg       0.57      0.66      0.58       282\n",
      "weighted avg       0.89      0.80      0.84       282\n",
      "\n"
     ]
    },
    {
     "name": "stderr",
     "output_type": "stream",
     "text": [
      "Epoch 26/50: 100%|██████████| 5/5 [00:00<00:00, 81.67it/s, loss=7.1517e-02]\n",
      "Epoch 27/50: 100%|██████████| 5/5 [00:00<00:00, 81.95it/s, loss=4.6455e-02]\n",
      "Epoch 28/50:   0%|          | 0/5 [00:00<?, ?it/s, loss=5.6443e-02]"
     ]
    },
    {
     "name": "stdout",
     "output_type": "stream",
     "text": [
      "Epoch 26/50, Train Loss: 3.9556e-02, Test Loss: 0.0788\n",
      "Epoch 26/50, Train Accuracy: 82.97%, Test Accuracy: 75.94%\n",
      "Epoch 26/50, Train AUC: 82.87%, Test AUC: 63.30%\n",
      "Classification Report on Val Set : \n",
      "              precision    recall  f1-score   support\n",
      "\n",
      "   No Cancer       0.95      0.81      0.87       260\n",
      "      Cancer       0.17      0.45      0.25        22\n",
      "\n",
      "    accuracy                           0.78       282\n",
      "   macro avg       0.56      0.63      0.56       282\n",
      "weighted avg       0.89      0.78      0.82       282\n",
      "\n",
      "Epoch 27/50, Train Loss: 3.4008e-02, Test Loss: 0.0730\n",
      "Epoch 27/50, Train Accuracy: 86.31%, Test Accuracy: 78.00%\n",
      "Epoch 27/50, Train AUC: 85.93%, Test AUC: 64.07%\n",
      "Classification Report on Val Set : \n",
      "              precision    recall  f1-score   support\n",
      "\n",
      "   No Cancer       0.95      0.83      0.88       260\n",
      "      Cancer       0.18      0.45      0.26        22\n",
      "\n",
      "    accuracy                           0.80       282\n",
      "   macro avg       0.56      0.64      0.57       282\n",
      "weighted avg       0.89      0.80      0.83       282\n",
      "\n"
     ]
    },
    {
     "name": "stderr",
     "output_type": "stream",
     "text": [
      "Epoch 28/50: 100%|██████████| 5/5 [00:00<00:00, 81.86it/s, loss=5.6507e-02]\n",
      "Epoch 29/50: 100%|██████████| 5/5 [00:00<00:00, 81.92it/s, loss=5.4489e-02]\n",
      "Epoch 30/50:   0%|          | 0/5 [00:00<?, ?it/s, loss=4.6129e-02]"
     ]
    },
    {
     "name": "stdout",
     "output_type": "stream",
     "text": [
      "Epoch 28/50, Train Loss: 3.9257e-02, Test Loss: 0.0768\n",
      "Epoch 28/50, Train Accuracy: 84.77%, Test Accuracy: 73.36%\n",
      "Epoch 28/50, Train AUC: 85.92%, Test AUC: 57.99%\n",
      "Classification Report on Val Set : \n",
      "              precision    recall  f1-score   support\n",
      "\n",
      "   No Cancer       0.94      0.80      0.86       260\n",
      "      Cancer       0.13      0.36      0.19        22\n",
      "\n",
      "    accuracy                           0.76       282\n",
      "   macro avg       0.53      0.58      0.53       282\n",
      "weighted avg       0.87      0.76      0.81       282\n",
      "\n",
      "Epoch 29/50, Train Loss: 3.3991e-02, Test Loss: 0.0664\n",
      "Epoch 29/50, Train Accuracy: 86.11%, Test Accuracy: 76.72%\n",
      "Epoch 29/50, Train AUC: 86.22%, Test AUC: 63.88%\n",
      "Classification Report on Val Set : \n",
      "              precision    recall  f1-score   support\n",
      "\n",
      "   No Cancer       0.95      0.82      0.88       260\n",
      "      Cancer       0.18      0.45      0.26        22\n",
      "\n",
      "    accuracy                           0.79       282\n",
      "   macro avg       0.56      0.64      0.57       282\n",
      "weighted avg       0.89      0.79      0.83       282\n",
      "\n"
     ]
    },
    {
     "name": "stderr",
     "output_type": "stream",
     "text": [
      "Epoch 30/50: 100%|██████████| 5/5 [00:00<00:00, 82.31it/s, loss=4.2161e-02]\n",
      "Epoch 31/50: 100%|██████████| 5/5 [00:00<00:00, 81.55it/s, loss=3.7795e-02]\n",
      "Epoch 32/50:   0%|          | 0/5 [00:00<?, ?it/s, loss=6.1967e-02]"
     ]
    },
    {
     "name": "stdout",
     "output_type": "stream",
     "text": [
      "Epoch 30/50, Train Loss: 3.0671e-02, Test Loss: 0.0612\n",
      "Epoch 30/50, Train Accuracy: 87.55%, Test Accuracy: 79.81%\n",
      "Epoch 30/50, Train AUC: 87.34%, Test AUC: 62.57%\n",
      "Classification Report on Val Set : \n",
      "              precision    recall  f1-score   support\n",
      "\n",
      "   No Cancer       0.94      0.84      0.89       260\n",
      "      Cancer       0.18      0.41      0.25        22\n",
      "\n",
      "    accuracy                           0.81       282\n",
      "   macro avg       0.56      0.63      0.57       282\n",
      "weighted avg       0.88      0.81      0.84       282\n",
      "\n",
      "Epoch 31/50, Train Loss: 2.7683e-02, Test Loss: 0.0620\n",
      "Epoch 31/50, Train Accuracy: 88.95%, Test Accuracy: 79.05%\n",
      "Epoch 31/50, Train AUC: 88.98%, Test AUC: 62.76%\n",
      "Classification Report on Val Set : \n",
      "              precision    recall  f1-score   support\n",
      "\n",
      "   No Cancer       0.94      0.85      0.89       260\n",
      "      Cancer       0.18      0.41      0.25        22\n",
      "\n",
      "    accuracy                           0.81       282\n",
      "   macro avg       0.56      0.63      0.57       282\n",
      "weighted avg       0.88      0.81      0.84       282\n",
      "\n"
     ]
    },
    {
     "name": "stderr",
     "output_type": "stream",
     "text": [
      "Epoch 32/50: 100%|██████████| 5/5 [00:00<00:00, 81.12it/s, loss=5.5644e-02]\n",
      "Epoch 33/50: 100%|██████████| 5/5 [00:00<00:00, 81.98it/s, loss=1.0150e-01]\n",
      "Epoch 34/50:   0%|          | 0/5 [00:00<?, ?it/s, loss=4.4512e-02]"
     ]
    },
    {
     "name": "stdout",
     "output_type": "stream",
     "text": [
      "Epoch 32/50, Train Loss: 3.2847e-02, Test Loss: 0.0692\n",
      "Epoch 32/50, Train Accuracy: 83.60%, Test Accuracy: 79.05%\n",
      "Epoch 32/50, Train AUC: 83.53%, Test AUC: 62.76%\n",
      "Classification Report on Val Set : \n",
      "              precision    recall  f1-score   support\n",
      "\n",
      "   No Cancer       0.94      0.85      0.89       260\n",
      "      Cancer       0.18      0.41      0.25        22\n",
      "\n",
      "    accuracy                           0.81       282\n",
      "   macro avg       0.56      0.63      0.57       282\n",
      "weighted avg       0.88      0.81      0.84       282\n",
      "\n",
      "Epoch 33/50, Train Loss: 2.6526e-02, Test Loss: 0.0657\n",
      "Epoch 33/50, Train Accuracy: 86.47%, Test Accuracy: 80.59%\n",
      "Epoch 33/50, Train AUC: 86.21%, Test AUC: 63.15%\n",
      "Classification Report on Val Set : \n",
      "              precision    recall  f1-score   support\n",
      "\n",
      "   No Cancer       0.94      0.85      0.90       260\n",
      "      Cancer       0.19      0.41      0.26        22\n",
      "\n",
      "    accuracy                           0.82       282\n",
      "   macro avg       0.57      0.63      0.58       282\n",
      "weighted avg       0.89      0.82      0.85       282\n",
      "\n"
     ]
    },
    {
     "name": "stderr",
     "output_type": "stream",
     "text": [
      "Epoch 34/50: 100%|██████████| 5/5 [00:00<00:00, 81.01it/s, loss=2.9855e-02]\n",
      "Epoch 35/50: 100%|██████████| 5/5 [00:00<00:00, 82.00it/s, loss=5.5943e-02]\n",
      "Epoch 36/50:   0%|          | 0/5 [00:00<?, ?it/s, loss=2.3597e-02]"
     ]
    },
    {
     "name": "stdout",
     "output_type": "stream",
     "text": [
      "Epoch 34/50, Train Loss: 3.0794e-02, Test Loss: 0.0690\n",
      "Epoch 34/50, Train Accuracy: 85.99%, Test Accuracy: 77.24%\n",
      "Epoch 34/50, Train AUC: 85.64%, Test AUC: 62.19%\n",
      "Classification Report on Val Set : \n",
      "              precision    recall  f1-score   support\n",
      "\n",
      "   No Cancer       0.94      0.83      0.89       260\n",
      "      Cancer       0.17      0.41      0.24        22\n",
      "\n",
      "    accuracy                           0.80       282\n",
      "   macro avg       0.56      0.62      0.56       282\n",
      "weighted avg       0.88      0.80      0.84       282\n",
      "\n",
      "Epoch 35/50, Train Loss: 2.2332e-02, Test Loss: 0.0607\n",
      "Epoch 35/50, Train Accuracy: 89.92%, Test Accuracy: 79.81%\n",
      "Epoch 35/50, Train AUC: 89.98%, Test AUC: 58.41%\n",
      "Classification Report on Val Set : \n",
      "              precision    recall  f1-score   support\n",
      "\n",
      "   No Cancer       0.94      0.85      0.89       260\n",
      "      Cancer       0.15      0.32      0.21        22\n",
      "\n",
      "    accuracy                           0.81       282\n",
      "   macro avg       0.54      0.58      0.55       282\n",
      "weighted avg       0.88      0.81      0.84       282\n",
      "\n"
     ]
    },
    {
     "name": "stderr",
     "output_type": "stream",
     "text": [
      "Epoch 36/50: 100%|██████████| 5/5 [00:00<00:00, 82.23it/s, loss=4.0187e-02]\n",
      "Epoch 37/50: 100%|██████████| 5/5 [00:00<00:00, 81.64it/s, loss=2.8810e-02]\n",
      "Epoch 38/50:   0%|          | 0/5 [00:00<?, ?it/s, loss=4.3829e-02]"
     ]
    },
    {
     "name": "stdout",
     "output_type": "stream",
     "text": [
      "Epoch 36/50, Train Loss: 2.1746e-02, Test Loss: 0.0556\n",
      "Epoch 36/50, Train Accuracy: 88.94%, Test Accuracy: 79.31%\n",
      "Epoch 36/50, Train AUC: 89.39%, Test AUC: 58.79%\n",
      "Classification Report on Val Set : \n",
      "              precision    recall  f1-score   support\n",
      "\n",
      "   No Cancer       0.94      0.86      0.90       260\n",
      "      Cancer       0.16      0.32      0.21        22\n",
      "\n",
      "    accuracy                           0.82       282\n",
      "   macro avg       0.55      0.59      0.55       282\n",
      "weighted avg       0.88      0.82      0.84       282\n",
      "\n",
      "Epoch 37/50, Train Loss: 2.1658e-02, Test Loss: 0.0602\n",
      "Epoch 37/50, Train Accuracy: 90.89%, Test Accuracy: 78.02%\n",
      "Epoch 37/50, Train AUC: 90.33%, Test AUC: 62.76%\n",
      "Classification Report on Val Set : \n",
      "              precision    recall  f1-score   support\n",
      "\n",
      "   No Cancer       0.94      0.85      0.89       260\n",
      "      Cancer       0.18      0.41      0.25        22\n",
      "\n",
      "    accuracy                           0.81       282\n",
      "   macro avg       0.56      0.63      0.57       282\n",
      "weighted avg       0.88      0.81      0.84       282\n",
      "\n"
     ]
    },
    {
     "name": "stderr",
     "output_type": "stream",
     "text": [
      "Epoch 38/50: 100%|██████████| 5/5 [00:00<00:00, 82.63it/s, loss=4.0942e-02]\n",
      "Epoch 39/50: 100%|██████████| 5/5 [00:00<00:00, 82.14it/s, loss=3.8605e-02]\n",
      "Epoch 40/50:   0%|          | 0/5 [00:00<?, ?it/s, loss=2.8158e-02]"
     ]
    },
    {
     "name": "stdout",
     "output_type": "stream",
     "text": [
      "Epoch 38/50, Train Loss: 2.1171e-02, Test Loss: 0.0560\n",
      "Epoch 38/50, Train Accuracy: 88.56%, Test Accuracy: 80.59%\n",
      "Epoch 38/50, Train AUC: 87.44%, Test AUC: 65.23%\n",
      "Classification Report on Val Set : \n",
      "              precision    recall  f1-score   support\n",
      "\n",
      "   No Cancer       0.95      0.85      0.90       260\n",
      "      Cancer       0.20      0.45      0.28        22\n",
      "\n",
      "    accuracy                           0.82       282\n",
      "   macro avg       0.58      0.65      0.59       282\n",
      "weighted avg       0.89      0.82      0.85       282\n",
      "\n",
      "Epoch 39/50, Train Loss: 2.4884e-02, Test Loss: 0.0650\n",
      "Epoch 39/50, Train Accuracy: 87.42%, Test Accuracy: 75.70%\n",
      "Epoch 39/50, Train AUC: 86.47%, Test AUC: 59.72%\n",
      "Classification Report on Val Set : \n",
      "              precision    recall  f1-score   support\n",
      "\n",
      "   No Cancer       0.94      0.83      0.88       260\n",
      "      Cancer       0.15      0.36      0.22        22\n",
      "\n",
      "    accuracy                           0.79       282\n",
      "   macro avg       0.55      0.60      0.55       282\n",
      "weighted avg       0.88      0.79      0.83       282\n",
      "\n"
     ]
    },
    {
     "name": "stderr",
     "output_type": "stream",
     "text": [
      "Epoch 40/50: 100%|██████████| 5/5 [00:00<00:00, 81.91it/s, loss=7.1305e-02]\n",
      "Epoch 41/50: 100%|██████████| 5/5 [00:00<00:00, 81.56it/s, loss=5.0558e-02]\n",
      "Epoch 42/50:   0%|          | 0/5 [00:00<?, ?it/s]"
     ]
    },
    {
     "name": "stdout",
     "output_type": "stream",
     "text": [
      "Epoch 40/50, Train Loss: 2.4919e-02, Test Loss: 0.0586\n",
      "Epoch 40/50, Train Accuracy: 89.61%, Test Accuracy: 79.31%\n",
      "Epoch 40/50, Train AUC: 89.04%, Test AUC: 67.12%\n",
      "Classification Report on Val Set : \n",
      "              precision    recall  f1-score   support\n",
      "\n",
      "   No Cancer       0.95      0.84      0.89       260\n",
      "      Cancer       0.21      0.50      0.30        22\n",
      "\n",
      "    accuracy                           0.82       282\n",
      "   macro avg       0.58      0.67      0.60       282\n",
      "weighted avg       0.89      0.82      0.85       282\n",
      "\n",
      "Epoch 41/50, Train Loss: 2.1014e-02, Test Loss: 0.0579\n",
      "Epoch 41/50, Train Accuracy: 88.95%, Test Accuracy: 77.50%\n",
      "Epoch 41/50, Train AUC: 89.10%, Test AUC: 64.46%\n",
      "Classification Report on Val Set : \n",
      "              precision    recall  f1-score   support\n",
      "\n",
      "   No Cancer       0.95      0.83      0.89       260\n",
      "      Cancer       0.19      0.45      0.27        22\n",
      "\n",
      "    accuracy                           0.80       282\n",
      "   macro avg       0.57      0.64      0.58       282\n",
      "weighted avg       0.89      0.80      0.84       282\n",
      "\n"
     ]
    },
    {
     "name": "stderr",
     "output_type": "stream",
     "text": [
      "Epoch 42/50: 100%|██████████| 5/5 [00:00<00:00, 81.29it/s, loss=1.9149e-02]\n",
      "Epoch 43/50: 100%|██████████| 5/5 [00:00<00:00, 82.86it/s, loss=5.0598e-02]\n",
      "Epoch 44/50:   0%|          | 0/5 [00:00<?, ?it/s, loss=4.2830e-02]"
     ]
    },
    {
     "name": "stdout",
     "output_type": "stream",
     "text": [
      "Epoch 42/50, Train Loss: 2.1391e-02, Test Loss: 0.0684\n",
      "Epoch 42/50, Train Accuracy: 88.67%, Test Accuracy: 77.48%\n",
      "Epoch 42/50, Train AUC: 88.60%, Test AUC: 63.69%\n",
      "Classification Report on Val Set : \n",
      "              precision    recall  f1-score   support\n",
      "\n",
      "   No Cancer       0.95      0.82      0.88       260\n",
      "      Cancer       0.18      0.45      0.25        22\n",
      "\n",
      "    accuracy                           0.79       282\n",
      "   macro avg       0.56      0.64      0.57       282\n",
      "weighted avg       0.89      0.79      0.83       282\n",
      "\n",
      "Epoch 43/50, Train Loss: 1.7730e-02, Test Loss: 0.0598\n",
      "Epoch 43/50, Train Accuracy: 90.36%, Test Accuracy: 79.05%\n",
      "Epoch 43/50, Train AUC: 90.42%, Test AUC: 64.84%\n",
      "Classification Report on Val Set : \n",
      "              precision    recall  f1-score   support\n",
      "\n",
      "   No Cancer       0.95      0.84      0.89       260\n",
      "      Cancer       0.20      0.45      0.27        22\n",
      "\n",
      "    accuracy                           0.81       282\n",
      "   macro avg       0.57      0.65      0.58       282\n",
      "weighted avg       0.89      0.81      0.84       282\n",
      "\n"
     ]
    },
    {
     "name": "stderr",
     "output_type": "stream",
     "text": [
      "Epoch 44/50: 100%|██████████| 5/5 [00:00<00:00, 82.22it/s, loss=3.1684e-02]\n",
      "Epoch 45/50: 100%|██████████| 5/5 [00:00<00:00, 82.77it/s, loss=2.3480e-02]\n",
      "Epoch 46/50:   0%|          | 0/5 [00:00<?, ?it/s, loss=2.9294e-02]"
     ]
    },
    {
     "name": "stdout",
     "output_type": "stream",
     "text": [
      "Epoch 44/50, Train Loss: 2.3101e-02, Test Loss: 0.0659\n",
      "Epoch 44/50, Train Accuracy: 88.33%, Test Accuracy: 76.22%\n",
      "Epoch 44/50, Train AUC: 88.48%, Test AUC: 58.02%\n",
      "Classification Report on Val Set : \n",
      "              precision    recall  f1-score   support\n",
      "\n",
      "   No Cancer       0.94      0.84      0.89       260\n",
      "      Cancer       0.15      0.32      0.20        22\n",
      "\n",
      "    accuracy                           0.80       282\n",
      "   macro avg       0.54      0.58      0.54       282\n",
      "weighted avg       0.87      0.80      0.83       282\n",
      "\n",
      "Epoch 45/50, Train Loss: 1.7489e-02, Test Loss: 0.0651\n",
      "Epoch 45/50, Train Accuracy: 91.36%, Test Accuracy: 75.46%\n",
      "Epoch 45/50, Train AUC: 90.98%, Test AUC: 58.22%\n",
      "Classification Report on Val Set : \n",
      "              precision    recall  f1-score   support\n",
      "\n",
      "   No Cancer       0.94      0.85      0.89       260\n",
      "      Cancer       0.15      0.32      0.20        22\n",
      "\n",
      "    accuracy                           0.80       282\n",
      "   macro avg       0.54      0.58      0.55       282\n",
      "weighted avg       0.87      0.80      0.84       282\n",
      "\n"
     ]
    },
    {
     "name": "stderr",
     "output_type": "stream",
     "text": [
      "Epoch 46/50: 100%|██████████| 5/5 [00:00<00:00, 82.38it/s, loss=4.0160e-02]\n",
      "Epoch 47/50: 100%|██████████| 5/5 [00:00<00:00, 81.91it/s, loss=1.3369e-02]\n",
      "Epoch 48/50:   0%|          | 0/5 [00:00<?, ?it/s, loss=1.9989e-02]"
     ]
    },
    {
     "name": "stdout",
     "output_type": "stream",
     "text": [
      "Epoch 46/50, Train Loss: 2.0752e-02, Test Loss: 0.0486\n",
      "Epoch 46/50, Train Accuracy: 89.53%, Test Accuracy: 80.85%\n",
      "Epoch 46/50, Train AUC: 90.18%, Test AUC: 59.18%\n",
      "Classification Report on Val Set : \n",
      "              precision    recall  f1-score   support\n",
      "\n",
      "   No Cancer       0.94      0.87      0.90       260\n",
      "      Cancer       0.17      0.32      0.22        22\n",
      "\n",
      "    accuracy                           0.82       282\n",
      "   macro avg       0.55      0.59      0.56       282\n",
      "weighted avg       0.88      0.82      0.85       282\n",
      "\n",
      "Epoch 47/50, Train Loss: 2.2930e-02, Test Loss: 0.0523\n",
      "Epoch 47/50, Train Accuracy: 85.96%, Test Accuracy: 79.29%\n",
      "Epoch 47/50, Train AUC: 86.40%, Test AUC: 58.02%\n",
      "Classification Report on Val Set : \n",
      "              precision    recall  f1-score   support\n",
      "\n",
      "   No Cancer       0.94      0.84      0.89       260\n",
      "      Cancer       0.15      0.32      0.20        22\n",
      "\n",
      "    accuracy                           0.80       282\n",
      "   macro avg       0.54      0.58      0.54       282\n",
      "weighted avg       0.87      0.80      0.83       282\n",
      "\n"
     ]
    },
    {
     "name": "stderr",
     "output_type": "stream",
     "text": [
      "Epoch 48/50: 100%|██████████| 5/5 [00:00<00:00, 81.85it/s, loss=3.6103e-02]\n",
      "Epoch 49/50: 100%|██████████| 5/5 [00:00<00:00, 82.26it/s, loss=2.0880e-02]\n",
      "Epoch 50/50:   0%|          | 0/5 [00:00<?, ?it/s, loss=2.2218e-02]"
     ]
    },
    {
     "name": "stdout",
     "output_type": "stream",
     "text": [
      "Epoch 48/50, Train Loss: 1.5847e-02, Test Loss: 0.0592\n",
      "Epoch 48/50, Train Accuracy: 90.25%, Test Accuracy: 78.02%\n",
      "Epoch 48/50, Train AUC: 89.82%, Test AUC: 60.68%\n",
      "Classification Report on Val Set : \n",
      "              precision    recall  f1-score   support\n",
      "\n",
      "   No Cancer       0.94      0.85      0.89       260\n",
      "      Cancer       0.17      0.36      0.23        22\n",
      "\n",
      "    accuracy                           0.81       282\n",
      "   macro avg       0.56      0.61      0.56       282\n",
      "weighted avg       0.88      0.81      0.84       282\n",
      "\n",
      "Epoch 49/50, Train Loss: 2.0496e-02, Test Loss: 0.0670\n",
      "Epoch 49/50, Train Accuracy: 87.78%, Test Accuracy: 81.87%\n",
      "Epoch 49/50, Train AUC: 88.66%, Test AUC: 63.34%\n",
      "Classification Report on Val Set : \n",
      "              precision    recall  f1-score   support\n",
      "\n",
      "   No Cancer       0.94      0.86      0.90       260\n",
      "      Cancer       0.20      0.41      0.26        22\n",
      "\n",
      "    accuracy                           0.82       282\n",
      "   macro avg       0.57      0.63      0.58       282\n",
      "weighted avg       0.89      0.82      0.85       282\n",
      "\n"
     ]
    },
    {
     "name": "stderr",
     "output_type": "stream",
     "text": [
      "Epoch 50/50: 100%|██████████| 5/5 [00:00<00:00, 82.49it/s, loss=3.1727e-02]\n"
     ]
    },
    {
     "name": "stdout",
     "output_type": "stream",
     "text": [
      "Epoch 50/50, Train Loss: 1.6467e-02, Test Loss: 0.0714\n",
      "Epoch 50/50, Train Accuracy: 89.25%, Test Accuracy: 81.37%\n",
      "Epoch 50/50, Train AUC: 89.71%, Test AUC: 65.80%\n",
      "Classification Report on Val Set : \n",
      "              precision    recall  f1-score   support\n",
      "\n",
      "   No Cancer       0.95      0.86      0.90       260\n",
      "      Cancer       0.22      0.45      0.29        22\n",
      "\n",
      "    accuracy                           0.83       282\n",
      "   macro avg       0.58      0.66      0.60       282\n",
      "weighted avg       0.89      0.83      0.86       282\n",
      "\n",
      "\n",
      "Finished.\n",
      "Best validation AUC: 6.7115e-01\n",
      "With accuracy: 0.7930689056714376\n"
     ]
    }
   ],
   "source": [
    "# Beginnig Of Transfer Learnig Procedure\n",
    "net = fine_tune_mlp(pretrained)\n",
    "net = net.to(device).double()\n",
    "criterion = FocalLoss().to(device)\n",
    "optimizer = optim.Adam(net.parameters(), lr=vae_mlp_args['lr_ft'])\n",
    "savepath = Path('models_finetuned/fine_tuned_mlp_vae_checkpt.pt')\n",
    "checkpoint = CheckpointState(net, optimizer, savepath=savepath)\n",
    "fit(checkpoint, criterion, lung_dataloader_train, lung_dataloader_validation, vae_mlp_args['epochs'], embedding_computer=vae)"
   ]
  },
  {
   "cell_type": "code",
   "execution_count": null,
   "metadata": {},
   "outputs": [],
   "source": []
  }
 ],
 "metadata": {
  "kernelspec": {
   "display_name": "Python 3",
   "language": "python",
   "name": "python3"
  },
  "language_info": {
   "codemirror_mode": {
    "name": "ipython",
    "version": 3
   },
   "file_extension": ".py",
   "mimetype": "text/x-python",
   "name": "python",
   "nbconvert_exporter": "python",
   "pygments_lexer": "ipython3",
   "version": "3.7.3"
  }
 },
 "nbformat": 4,
 "nbformat_minor": 4
}
