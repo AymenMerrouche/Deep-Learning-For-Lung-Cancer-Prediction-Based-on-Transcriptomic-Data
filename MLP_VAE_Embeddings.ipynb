{
 "cells": [
  {
   "cell_type": "markdown",
   "metadata": {},
   "source": [
    "# **Deep Learning For Lung Cancer Prediction Based on Transcriptomic Data : MLP with Embeddings learned by a VAE and Transfer Learning**\n",
    "\n",
    "> Author : **Aymen MERROUCHE**. <br>\n",
    "> In this notebook, we implement an **MLP with VAE computed embeddings** for our binary classification task. First we train, on the Non Lung Cancer Dataset, a variational autoencoder to learn embeddings for our transcriptomic data. Then we pre-train an MLP on Non Lung Data and finally we fine-tune the latter on the Lung Cancer Data."
   ]
  },
  {
   "cell_type": "code",
   "execution_count": 1,
   "metadata": {},
   "outputs": [],
   "source": [
    "import torch\n",
    "import torch.nn as nn\n",
    "import torch.nn.functional as F\n",
    "import torch.optim as optim\n",
    "from torch.autograd import Variable\n",
    "import matplotlib.pyplot as plt\n",
    "import numpy as np\n",
    "from torch.distributions.normal import Normal\n",
    "import warnings\n",
    "warnings.filterwarnings('ignore')\n",
    "from modules.MLP import *\n",
    "# device, cuda if available else use cpu\n",
    "device = torch.device('cuda' if torch.cuda.is_available() else 'cpu')"
   ]
  },
  {
   "cell_type": "code",
   "execution_count": 2,
   "metadata": {},
   "outputs": [],
   "source": [
    "from utils import *\n",
    "from train import *\n",
    "from data_utils import *\n",
    "from modules.deformable_cnn import *\n",
    "from modules.focal_loss import *\n",
    "%load_ext autoreload\n",
    "%autoreload 2"
   ]
  },
  {
   "cell_type": "markdown",
   "metadata": {},
   "source": [
    "# **1 - Get The Data :**"
   ]
  },
  {
   "cell_type": "code",
   "execution_count": 3,
   "metadata": {},
   "outputs": [],
   "source": [
    "# load hyperparametrs\n",
    "# data paths args\n",
    "with open('./configs/data_paths.yaml', 'r') as stream:\n",
    "    data_paths_args  = yaml.load(stream,Loader=yaml.Loader)\n",
    "    \n",
    "    \n",
    "# basic cnn args\n",
    "with open('./configs/vae_mlp.yaml', 'r') as stream:\n",
    "    vae_mlp_args  = yaml.load(stream,Loader=yaml.Loader)"
   ]
  },
  {
   "cell_type": "code",
   "execution_count": 4,
   "metadata": {},
   "outputs": [
    {
     "name": "stdout",
     "output_type": "stream",
     "text": [
      "CPU times: user 13 s, sys: 374 ms, total: 13.4 s\n",
      "Wall time: 12.9 s\n"
     ]
    }
   ],
   "source": [
    "%%time\n",
    "# Getting the data\n",
    "# dataset for non lung\n",
    "non_lung_dataset = TranscriptomicVectorsDatasetNonLung(data_paths_args[\"path_to_pan_cancer_hdf5_files\"])\n",
    "non_lung_dataloader_train, non_lung_dataloader_validation = get_data_loaders(non_lung_dataset, batch_size_train = vae_mlp_args[\"batch_size_pt\"],\\\n",
    "                                                                             batch_size_validation = vae_mlp_args[\"batch_size_pt\"], test_proportion = 0.0)"
   ]
  },
  {
   "cell_type": "code",
   "execution_count": 5,
   "metadata": {},
   "outputs": [
    {
     "name": "stdout",
     "output_type": "stream",
     "text": [
      "CPU times: user 657 ms, sys: 74 µs, total: 657 ms\n",
      "Wall time: 655 ms\n"
     ]
    }
   ],
   "source": [
    "%%time\n",
    "# Getting the data\n",
    "# dataset for non lung\n",
    "non_lung_dataloader_train_splitted, non_lung_dataloader_validation_splitted = get_data_loaders(non_lung_dataset, batch_size_train = vae_mlp_args[\"batch_size_pt\"],\\\n",
    "                                                                             batch_size_validation = vae_mlp_args[\"batch_size_pt\"])"
   ]
  },
  {
   "cell_type": "code",
   "execution_count": 6,
   "metadata": {},
   "outputs": [
    {
     "name": "stdout",
     "output_type": "stream",
     "text": [
      "CPU times: user 11.3 s, sys: 167 ms, total: 11.5 s\n",
      "Wall time: 11.4 s\n"
     ]
    }
   ],
   "source": [
    "%%time\n",
    "# Getting the data\n",
    "# dataset for lung\n",
    "lung_dataset = TranscriptomicVectorsDatasetLung(data_paths_args[\"path_to_pan_cancer_hdf5_files\"])\n",
    "lung_dataloader_train, lung_dataloader_validation = get_data_loaders(lung_dataset, batch_size_train = vae_mlp_args[\"batch_size_ft\"],\\\n",
    "                                                                             batch_size_validation = vae_mlp_args[\"batch_size_ft\"])"
   ]
  },
  {
   "cell_type": "markdown",
   "metadata": {},
   "source": [
    "# **2 - Get The Embeddings with the VAE :**"
   ]
  },
  {
   "cell_type": "markdown",
   "metadata": {},
   "source": [
    "## 1- Encoder and Decoder and VAE with linear layers :"
   ]
  },
  {
   "cell_type": "code",
   "execution_count": 7,
   "metadata": {},
   "outputs": [],
   "source": [
    "class Encoder(nn.Module):\n",
    "    \"\"\"\n",
    "    VAE Encoder with linear layers\n",
    "    \"\"\"\n",
    "    def __init__(self, dim_input, hidden, dim_z):\n",
    "        super().__init__()\n",
    "        self.lin1 = nn.Linear(dim_input, hidden)\n",
    "        # generate covariance matrix (hyp : diagonal)\n",
    "        self.sigma = nn.Linear(hidden, dim_z)\n",
    "        # genrate mean vector \n",
    "        self.mu = nn.Linear(hidden, dim_z)\n",
    "    def forward(self, x):\n",
    "        lin1 = F.relu(self.lin1(x))\n",
    "        #we infer log(sigma**2) for stability reasons\n",
    "        log_sigma_squared = self.sigma(lin1) \n",
    "        mu = self.mu(lin1)\n",
    "        return mu, log_sigma_squared"
   ]
  },
  {
   "cell_type": "code",
   "execution_count": 8,
   "metadata": {},
   "outputs": [],
   "source": [
    "class Decoder(nn.Module):\n",
    "    \"\"\"\n",
    "    VAE Decoder with linear layers\n",
    "    \"\"\"\n",
    "    def __init__(self, dim_input, hidden, dim_z):\n",
    "        super().__init__()\n",
    "        self.lin1 = nn.Linear(dim_z, hidden)\n",
    "        self.lin2 = nn.Linear(hidden, dim_input)\n",
    "    def forward(self, x):\n",
    "        lin1 = F.relu(self.lin1(x))\n",
    "        x = torch.sigmoid(self.lin2(lin1))\n",
    "        return x  "
   ]
  },
  {
   "cell_type": "code",
   "execution_count": 9,
   "metadata": {},
   "outputs": [],
   "source": [
    "class VAE(nn.Module):\n",
    "    \"\"\"\n",
    "    VAE with linear layers based Encoder and Decoder\n",
    "    \"\"\"\n",
    "    def __init__(self, dim_input, hidden, dim_z):\n",
    "        super().__init__()\n",
    "        # encoder\n",
    "        self.encoder = Encoder(dim_input, hidden, dim_z).to(device)\n",
    "        # decoder\n",
    "        self.decoder = Decoder(dim_input, hidden, dim_z).to(device)\n",
    "        \n",
    "    def forward(self, x):\n",
    "        mu, log_sigma_squared = self.encoder(x)\n",
    "        z = self.get_codes(mu, log_sigma_squared)\n",
    "        return self.decoder(z), mu, log_sigma_squared\n",
    "\n",
    "    def get_codes(self, mu, log_sigma_squared):\n",
    "        # input is log(sigma**2)\n",
    "        # log(sigma**2) = 2 * log(sigma)\n",
    "        # log(sigma) = (1/2)*log(sigma**2)\n",
    "        # sigma = exp((1/2)*log(sigma**2))\n",
    "        sigma = torch.exp((1/2) * log_sigma_squared)\n",
    "        # reparametrisation trick\n",
    "        eps = torch.empty_like(sigma).normal_().to(device)\n",
    "        return eps.mul(sigma).add_(mu)\n",
    "    def sample_data(self,z):\n",
    "        return self.decoder(z)"
   ]
  },
  {
   "cell_type": "code",
   "execution_count": 10,
   "metadata": {},
   "outputs": [],
   "source": [
    "def variational_lower_bound(oringinal, reconstructed, mu, log_sigma_squared):\n",
    "    reconstructed = reconstructed\n",
    "    oringinal = oringinal\n",
    "    reconstruction_term = F.binary_cross_entropy(reconstructed, oringinal, reduction='sum')\n",
    "    kl_div = - (1/2) * torch.sum(1 + log_sigma_squared - mu.pow(2) - log_sigma_squared.exp())\n",
    "    return reconstruction_term + kl_div"
   ]
  },
  {
   "cell_type": "code",
   "execution_count": 19,
   "metadata": {},
   "outputs": [],
   "source": [
    "# dimension of the latent variable z\n",
    "dim_z = 300\n",
    "# dimnesion of the generator's output/discriminator's input (an mnist image)\n",
    "dim_input = len(non_lung_dataset[0][0])\n",
    "# dimension of hidden layers\n",
    "hidden = 256"
   ]
  },
  {
   "cell_type": "code",
   "execution_count": 20,
   "metadata": {},
   "outputs": [
    {
     "name": "stdout",
     "output_type": "stream",
     "text": [
      "VAE(\n",
      "  (encoder): Encoder(\n",
      "    (lin1): Linear(in_features=7509, out_features=256, bias=True)\n",
      "    (sigma): Linear(in_features=256, out_features=300, bias=True)\n",
      "    (mu): Linear(in_features=256, out_features=300, bias=True)\n",
      "  )\n",
      "  (decoder): Decoder(\n",
      "    (lin1): Linear(in_features=300, out_features=256, bias=True)\n",
      "    (lin2): Linear(in_features=256, out_features=7509, bias=True)\n",
      "  )\n",
      ")\n"
     ]
    }
   ],
   "source": [
    "vae = VAE(dim_input, hidden, dim_z).to(device).double()\n",
    "print(vae)"
   ]
  },
  {
   "cell_type": "markdown",
   "metadata": {},
   "source": [
    "## 2 - Training The VAE :"
   ]
  },
  {
   "cell_type": "code",
   "execution_count": 21,
   "metadata": {},
   "outputs": [],
   "source": [
    "# parameters\n",
    "epochs = 30\n",
    "\n",
    "# optimisation\n",
    "lr = 0.001\n",
    "\n",
    "# optimizer\n",
    "optim_vae = optim.Adam(vae.parameters())\n",
    "\n",
    "# noise to display samples during training\n",
    "noise = torch.randn(vae_mlp_args[\"batch_size_pt\"], dim_z, device=device)"
   ]
  },
  {
   "cell_type": "code",
   "execution_count": 22,
   "metadata": {},
   "outputs": [
    {
     "name": "stdout",
     "output_type": "stream",
     "text": [
      "EPOCH :  0\n",
      "EPOCH :  1\n",
      "EPOCH :  2\n",
      "EPOCH :  3\n",
      "EPOCH :  4\n",
      "EPOCH :  5\n",
      "EPOCH :  6\n",
      "EPOCH :  7\n",
      "EPOCH :  8\n",
      "EPOCH :  9\n",
      "EPOCH :  10\n",
      "EPOCH :  11\n",
      "EPOCH :  12\n",
      "EPOCH :  13\n",
      "EPOCH :  14\n",
      "EPOCH :  15\n",
      "EPOCH :  16\n",
      "EPOCH :  17\n",
      "EPOCH :  18\n",
      "EPOCH :  19\n",
      "EPOCH :  20\n",
      "EPOCH :  21\n",
      "EPOCH :  22\n",
      "EPOCH :  23\n",
      "EPOCH :  24\n",
      "EPOCH :  25\n",
      "EPOCH :  26\n",
      "EPOCH :  27\n",
      "EPOCH :  28\n",
      "EPOCH :  29\n"
     ]
    }
   ],
   "source": [
    "# per epoch logging containers\n",
    "v_lower_bound = []\n",
    "image_and_reconstruction = []\n",
    "sampled_images = []\n",
    "for epoch in range(epochs):\n",
    "    print(\"EPOCH : \",epoch)\n",
    "    # per gradient step logging containers\n",
    "    epoch_v_lower_bound = []\n",
    "    \n",
    "    for i, (vectors, labels) in enumerate(non_lung_dataloader_train):\n",
    "        \n",
    "        # perform a gradient step\n",
    "        \n",
    "        # flatten and push to device\n",
    "        vectors = vectors.to(device).double()\n",
    "        \n",
    "        # run vae\n",
    "        reconstruction, mu, log_sigma_squared = vae(vectors)\n",
    "\n",
    "        # loss\n",
    "        loss = variational_lower_bound(vectors, reconstruction, mu, log_sigma_squared)\n",
    "        \n",
    "        # backpropagation\n",
    "        optim_vae.zero_grad()\n",
    "        loss.backward()\n",
    "        optim_vae.step()\n",
    "        \n",
    "        # logging\n",
    "        epoch_v_lower_bound.append(loss.item())\n",
    "        \n",
    "        # display stats and an image during training\n",
    "        \"\"\"if i % 300 == 0 :\n",
    "            print(\"BATCH :\",i)\n",
    "            print(\"| v_lower_bound: \", epoch_v_lower_bound[i])\"\"\"\n",
    "\n",
    "    # per epoch logging\n",
    "    v_lower_bound.append(sum(epoch_v_lower_bound) / len(epoch_v_lower_bound))"
   ]
  },
  {
   "cell_type": "code",
   "execution_count": 23,
   "metadata": {},
   "outputs": [
    {
     "name": "stdout",
     "output_type": "stream",
     "text": [
      "EPOCH :  0\n",
      "EPOCH :  1\n",
      "EPOCH :  2\n",
      "EPOCH :  3\n",
      "EPOCH :  4\n",
      "EPOCH :  5\n",
      "EPOCH :  6\n",
      "EPOCH :  7\n",
      "EPOCH :  8\n",
      "EPOCH :  9\n",
      "EPOCH :  10\n",
      "EPOCH :  11\n",
      "EPOCH :  12\n",
      "EPOCH :  13\n",
      "EPOCH :  14\n",
      "EPOCH :  15\n",
      "EPOCH :  16\n",
      "EPOCH :  17\n",
      "EPOCH :  18\n",
      "EPOCH :  19\n",
      "EPOCH :  20\n",
      "EPOCH :  21\n",
      "EPOCH :  22\n",
      "EPOCH :  23\n",
      "EPOCH :  24\n",
      "EPOCH :  25\n",
      "EPOCH :  26\n",
      "EPOCH :  27\n",
      "EPOCH :  28\n",
      "EPOCH :  29\n"
     ]
    }
   ],
   "source": [
    "# Fine tuning the VAE\n",
    "# per epoch logging containers\n",
    "v_lower_bound = []\n",
    "image_and_reconstruction = []\n",
    "sampled_images = []\n",
    "for epoch in range(epochs):\n",
    "    print(\"EPOCH : \",epoch)\n",
    "    # per gradient step logging containers\n",
    "    epoch_v_lower_bound = []\n",
    "    \n",
    "    for i, (vectors, labels) in enumerate(lung_dataloader_train):\n",
    "        \n",
    "        # perform a gradient step\n",
    "        \n",
    "        # flatten and push to device\n",
    "        vectors = vectors.to(device).double()\n",
    "        \n",
    "        # run vae\n",
    "        reconstruction, mu, log_sigma_squared = vae(vectors)\n",
    "\n",
    "        # loss\n",
    "        loss = variational_lower_bound(vectors, reconstruction, mu, log_sigma_squared)\n",
    "        \n",
    "        # backpropagation\n",
    "        optim_vae.zero_grad()\n",
    "        loss.backward()\n",
    "        optim_vae.step()\n",
    "        \n",
    "        # logging\n",
    "        epoch_v_lower_bound.append(loss.item())\n",
    "        \n",
    "        # display stats and an image during training\n",
    "        \"\"\"if i % 300 == 0 :\n",
    "            print(\"BATCH :\",i)\n",
    "            print(\"| v_lower_bound: \", epoch_v_lower_bound[i])\"\"\"\n",
    "\n",
    "    # per epoch logging\n",
    "    v_lower_bound.append(sum(epoch_v_lower_bound) / len(epoch_v_lower_bound))"
   ]
  },
  {
   "cell_type": "markdown",
   "metadata": {},
   "source": [
    "# **3 - Pre-Training on the Non Lung Cancer Dataset :**"
   ]
  },
  {
   "cell_type": "code",
   "execution_count": 24,
   "metadata": {},
   "outputs": [
    {
     "name": "stderr",
     "output_type": "stream",
     "text": [
      "Epoch 1/50: 100%|██████████| 5/5 [00:00<00:00, 55.72it/s, loss=1.9078e-01]"
     ]
    },
    {
     "name": "stdout",
     "output_type": "stream",
     "text": [
      "Experimenting with : \n",
      " \tepochs=50_batch_size_pt=128_lr_pt=0.001_batch_size_ft=128_lr_ft=0.001_no_tensorboard=True\n",
      "Training on GPU \n",
      "\n"
     ]
    },
    {
     "name": "stderr",
     "output_type": "stream",
     "text": [
      "\n",
      "Epoch 2/50: 100%|██████████| 5/5 [00:00<00:00, 62.17it/s, loss=2.0047e-01]\n",
      "Epoch 3/50:   0%|          | 0/5 [00:00<?, ?it/s, loss=1.2240e-01]"
     ]
    },
    {
     "name": "stdout",
     "output_type": "stream",
     "text": [
      "Epoch 1/50, Train Loss: 1.1266e-01, Test Loss: 0.0584\n",
      "Epoch 1/50, Train Accuracy: 67.86%, Test Accuracy: 80.31%\n",
      "Epoch 1/50, Train AUC: 72.55%, Test AUC: 65.28%\n",
      "Classification Report on Val Set : \n",
      "              precision    recall  f1-score   support\n",
      "\n",
      "   No Cancer       0.94      0.84      0.89       260\n",
      "      Cancer       0.15      0.32      0.20        22\n",
      "\n",
      "    accuracy                           0.80       282\n",
      "   macro avg       0.54      0.58      0.54       282\n",
      "weighted avg       0.87      0.80      0.83       282\n",
      "\n",
      "Epoch 2/50, Train Loss: 8.8825e-02, Test Loss: 0.0665\n",
      "Epoch 2/50, Train Accuracy: 78.28%, Test Accuracy: 76.16%\n",
      "Epoch 2/50, Train AUC: 79.21%, Test AUC: 65.38%\n",
      "Classification Report on Val Set : \n",
      "              precision    recall  f1-score   support\n",
      "\n",
      "   No Cancer       0.94      0.79      0.86       260\n",
      "      Cancer       0.13      0.36      0.19        22\n",
      "\n",
      "    accuracy                           0.76       282\n",
      "   macro avg       0.53      0.58      0.52       282\n",
      "weighted avg       0.87      0.76      0.81       282\n",
      "\n"
     ]
    },
    {
     "name": "stderr",
     "output_type": "stream",
     "text": [
      "Epoch 3/50: 100%|██████████| 5/5 [00:00<00:00, 70.69it/s, loss=1.8224e-01]\n",
      "Epoch 4/50: 100%|██████████| 5/5 [00:00<00:00, 71.53it/s, loss=8.6326e-02]\n"
     ]
    },
    {
     "name": "stdout",
     "output_type": "stream",
     "text": [
      "Epoch 3/50, Train Loss: 8.8252e-02, Test Loss: 0.0834\n",
      "Epoch 3/50, Train Accuracy: 75.39%, Test Accuracy: 74.60%\n",
      "Epoch 3/50, Train AUC: 78.08%, Test AUC: 66.14%\n",
      "Classification Report on Val Set : \n",
      "              precision    recall  f1-score   support\n",
      "\n",
      "   No Cancer       0.93      0.77      0.84       260\n",
      "      Cancer       0.12      0.36      0.18        22\n",
      "\n",
      "    accuracy                           0.74       282\n",
      "   macro avg       0.53      0.57      0.51       282\n",
      "weighted avg       0.87      0.74      0.79       282\n",
      "\n",
      "Epoch 4/50, Train Loss: 7.1653e-02, Test Loss: 0.0878\n",
      "Epoch 4/50, Train Accuracy: 79.10%, Test Accuracy: 75.62%\n",
      "Epoch 4/50, Train AUC: 80.43%, Test AUC: 68.62%\n",
      "Classification Report on Val Set : \n",
      "              precision    recall  f1-score   support\n",
      "\n",
      "   No Cancer       0.94      0.77      0.84       260\n",
      "      Cancer       0.13      0.41      0.20        22\n",
      "\n",
      "    accuracy                           0.74       282\n",
      "   macro avg       0.53      0.59      0.52       282\n",
      "weighted avg       0.88      0.74      0.79       282\n",
      "\n"
     ]
    },
    {
     "name": "stderr",
     "output_type": "stream",
     "text": [
      "Epoch 5/50: 100%|██████████| 5/5 [00:00<00:00, 52.52it/s, loss=9.2484e-02]\n",
      "Epoch 6/50: 100%|██████████| 5/5 [00:00<00:00, 85.20it/s, loss=8.2139e-02]\n",
      "Epoch 7/50:   0%|          | 0/5 [00:00<?, ?it/s]"
     ]
    },
    {
     "name": "stdout",
     "output_type": "stream",
     "text": [
      "Epoch 5/50, Train Loss: 7.4072e-02, Test Loss: 0.0890\n",
      "Epoch 5/50, Train Accuracy: 78.28%, Test Accuracy: 73.58%\n",
      "Epoch 5/50, Train AUC: 81.06%, Test AUC: 66.96%\n",
      "Classification Report on Val Set : \n",
      "              precision    recall  f1-score   support\n",
      "\n",
      "   No Cancer       0.94      0.76      0.84       260\n",
      "      Cancer       0.14      0.45      0.21        22\n",
      "\n",
      "    accuracy                           0.74       282\n",
      "   macro avg       0.54      0.61      0.53       282\n",
      "weighted avg       0.88      0.74      0.79       282\n",
      "\n",
      "Epoch 6/50, Train Loss: 7.0514e-02, Test Loss: 0.0876\n",
      "Epoch 6/50, Train Accuracy: 78.92%, Test Accuracy: 72.80%\n",
      "Epoch 6/50, Train AUC: 84.27%, Test AUC: 67.13%\n",
      "Classification Report on Val Set : \n",
      "              precision    recall  f1-score   support\n",
      "\n",
      "   No Cancer       0.94      0.75      0.84       260\n",
      "      Cancer       0.12      0.41      0.19        22\n",
      "\n",
      "    accuracy                           0.73       282\n",
      "   macro avg       0.53      0.58      0.51       282\n",
      "weighted avg       0.87      0.73      0.79       282\n",
      "\n"
     ]
    },
    {
     "name": "stderr",
     "output_type": "stream",
     "text": [
      "Epoch 7/50: 100%|██████████| 5/5 [00:00<00:00, 85.02it/s, loss=1.5303e-01]\n",
      "Epoch 8/50: 100%|██████████| 5/5 [00:00<00:00, 84.79it/s, loss=1.0528e-01]\n",
      "Epoch 9/50:   0%|          | 0/5 [00:00<?, ?it/s, loss=7.3737e-02]"
     ]
    },
    {
     "name": "stdout",
     "output_type": "stream",
     "text": [
      "Epoch 7/50, Train Loss: 6.7882e-02, Test Loss: 0.0810\n",
      "Epoch 7/50, Train Accuracy: 78.22%, Test Accuracy: 73.84%\n",
      "Epoch 7/50, Train AUC: 85.25%, Test AUC: 66.33%\n",
      "Classification Report on Val Set : \n",
      "              precision    recall  f1-score   support\n",
      "\n",
      "   No Cancer       0.93      0.77      0.85       260\n",
      "      Cancer       0.12      0.36      0.18        22\n",
      "\n",
      "    accuracy                           0.74       282\n",
      "   macro avg       0.53      0.57      0.51       282\n",
      "weighted avg       0.87      0.74      0.79       282\n",
      "\n",
      "Epoch 8/50, Train Loss: 5.7515e-02, Test Loss: 0.0755\n",
      "Epoch 8/50, Train Accuracy: 82.19%, Test Accuracy: 74.10%\n",
      "Epoch 8/50, Train AUC: 86.86%, Test AUC: 65.21%\n",
      "Classification Report on Val Set : \n",
      "              precision    recall  f1-score   support\n",
      "\n",
      "   No Cancer       0.94      0.78      0.85       260\n",
      "      Cancer       0.12      0.36      0.18        22\n",
      "\n",
      "    accuracy                           0.74       282\n",
      "   macro avg       0.53      0.57      0.52       282\n",
      "weighted avg       0.87      0.74      0.80       282\n",
      "\n"
     ]
    },
    {
     "name": "stderr",
     "output_type": "stream",
     "text": [
      "Epoch 9/50: 100%|██████████| 5/5 [00:00<00:00, 84.21it/s, loss=6.4026e-02]\n",
      "Epoch 10/50: 100%|██████████| 5/5 [00:00<00:00, 86.05it/s, loss=3.6679e-02]\n",
      "Epoch 11/50:   0%|          | 0/5 [00:00<?, ?it/s]"
     ]
    },
    {
     "name": "stdout",
     "output_type": "stream",
     "text": [
      "Epoch 9/50, Train Loss: 6.7866e-02, Test Loss: 0.0847\n",
      "Epoch 9/50, Train Accuracy: 79.33%, Test Accuracy: 73.08%\n",
      "Epoch 9/50, Train AUC: 83.77%, Test AUC: 65.56%\n",
      "Classification Report on Val Set : \n",
      "              precision    recall  f1-score   support\n",
      "\n",
      "   No Cancer       0.94      0.77      0.85       260\n",
      "      Cancer       0.13      0.41      0.20        22\n",
      "\n",
      "    accuracy                           0.74       282\n",
      "   macro avg       0.54      0.59      0.52       282\n",
      "weighted avg       0.88      0.74      0.80       282\n",
      "\n",
      "Epoch 10/50, Train Loss: 5.1502e-02, Test Loss: 0.0801\n",
      "Epoch 10/50, Train Accuracy: 84.56%, Test Accuracy: 72.82%\n",
      "Epoch 10/50, Train AUC: 88.41%, Test AUC: 65.86%\n",
      "Classification Report on Val Set : \n",
      "              precision    recall  f1-score   support\n",
      "\n",
      "   No Cancer       0.93      0.77      0.85       260\n",
      "      Cancer       0.12      0.36      0.18        22\n",
      "\n",
      "    accuracy                           0.74       282\n",
      "   macro avg       0.53      0.57      0.51       282\n",
      "weighted avg       0.87      0.74      0.79       282\n",
      "\n"
     ]
    },
    {
     "name": "stderr",
     "output_type": "stream",
     "text": [
      "Epoch 11/50: 100%|██████████| 5/5 [00:00<00:00, 84.10it/s, loss=1.0693e-01]\n",
      "Epoch 12/50: 100%|██████████| 5/5 [00:00<00:00, 77.99it/s, loss=8.9311e-02]"
     ]
    },
    {
     "name": "stdout",
     "output_type": "stream",
     "text": [
      "Epoch 11/50, Train Loss: 6.0363e-02, Test Loss: 0.0794\n",
      "Epoch 11/50, Train Accuracy: 81.72%, Test Accuracy: 72.06%\n",
      "Epoch 11/50, Train AUC: 86.24%, Test AUC: 65.14%\n",
      "Classification Report on Val Set : \n",
      "              precision    recall  f1-score   support\n",
      "\n",
      "   No Cancer       0.94      0.78      0.85       260\n",
      "      Cancer       0.12      0.36      0.18        22\n",
      "\n",
      "    accuracy                           0.74       282\n",
      "   macro avg       0.53      0.57      0.52       282\n",
      "weighted avg       0.87      0.74      0.80       282\n",
      "\n"
     ]
    },
    {
     "name": "stderr",
     "output_type": "stream",
     "text": [
      "\n",
      "Epoch 13/50: 100%|██████████| 5/5 [00:00<00:00, 81.32it/s, loss=1.1620e-01]\n"
     ]
    },
    {
     "name": "stdout",
     "output_type": "stream",
     "text": [
      "Epoch 12/50, Train Loss: 4.7065e-02, Test Loss: 0.0830\n",
      "Epoch 12/50, Train Accuracy: 83.80%, Test Accuracy: 72.30%\n",
      "Epoch 12/50, Train AUC: 90.20%, Test AUC: 63.60%\n",
      "Classification Report on Val Set : \n",
      "              precision    recall  f1-score   support\n",
      "\n",
      "   No Cancer       0.93      0.77      0.84       260\n",
      "      Cancer       0.09      0.27      0.14        22\n",
      "\n",
      "    accuracy                           0.73       282\n",
      "   macro avg       0.51      0.52      0.49       282\n",
      "weighted avg       0.86      0.73      0.79       282\n",
      "\n",
      "Epoch 13/50, Train Loss: 5.2445e-02, Test Loss: 0.0752\n",
      "Epoch 13/50, Train Accuracy: 82.16%, Test Accuracy: 76.16%\n",
      "Epoch 13/50, Train AUC: 90.16%, Test AUC: 67.10%\n",
      "Classification Report on Val Set : \n",
      "              precision    recall  f1-score   support\n",
      "\n",
      "   No Cancer       0.93      0.80      0.86       260\n",
      "      Cancer       0.12      0.32      0.17        22\n",
      "\n",
      "    accuracy                           0.76       282\n",
      "   macro avg       0.52      0.56      0.51       282\n",
      "weighted avg       0.87      0.76      0.81       282\n",
      "\n"
     ]
    },
    {
     "name": "stderr",
     "output_type": "stream",
     "text": [
      "Epoch 14/50: 100%|██████████| 5/5 [00:00<00:00, 72.73it/s, loss=9.3139e-02]\n",
      "Epoch 15/50: 100%|██████████| 5/5 [00:00<00:00, 83.16it/s, loss=1.7119e-01]\n"
     ]
    },
    {
     "name": "stdout",
     "output_type": "stream",
     "text": [
      "Epoch 14/50, Train Loss: 4.6352e-02, Test Loss: 0.0740\n",
      "Epoch 14/50, Train Accuracy: 83.85%, Test Accuracy: 74.62%\n",
      "Epoch 14/50, Train AUC: 90.19%, Test AUC: 64.41%\n",
      "Classification Report on Val Set : \n",
      "              precision    recall  f1-score   support\n",
      "\n",
      "   No Cancer       0.93      0.79      0.85       260\n",
      "      Cancer       0.11      0.32      0.17        22\n",
      "\n",
      "    accuracy                           0.75       282\n",
      "   macro avg       0.52      0.55      0.51       282\n",
      "weighted avg       0.87      0.75      0.80       282\n",
      "\n",
      "Epoch 15/50, Train Loss: 4.3514e-02, Test Loss: 0.0761\n",
      "Epoch 15/50, Train Accuracy: 84.88%, Test Accuracy: 75.14%\n",
      "Epoch 15/50, Train AUC: 91.87%, Test AUC: 60.17%\n",
      "Classification Report on Val Set : \n",
      "              precision    recall  f1-score   support\n",
      "\n",
      "   No Cancer       0.93      0.80      0.86       260\n",
      "      Cancer       0.12      0.32      0.17        22\n",
      "\n",
      "    accuracy                           0.76       282\n",
      "   macro avg       0.52      0.56      0.51       282\n",
      "weighted avg       0.87      0.76      0.81       282\n",
      "\n"
     ]
    },
    {
     "name": "stderr",
     "output_type": "stream",
     "text": [
      "Epoch 16/50: 100%|██████████| 5/5 [00:00<00:00, 64.65it/s, loss=7.1625e-02]\n",
      "Epoch 17/50: 100%|██████████| 5/5 [00:00<00:00, 80.54it/s, loss=9.2463e-02]\n"
     ]
    },
    {
     "name": "stdout",
     "output_type": "stream",
     "text": [
      "Epoch 16/50, Train Loss: 4.2925e-02, Test Loss: 0.0732\n",
      "Epoch 16/50, Train Accuracy: 85.55%, Test Accuracy: 75.12%\n",
      "Epoch 16/50, Train AUC: 90.40%, Test AUC: 60.07%\n",
      "Classification Report on Val Set : \n",
      "              precision    recall  f1-score   support\n",
      "\n",
      "   No Cancer       0.93      0.78      0.85       260\n",
      "      Cancer       0.11      0.32      0.16        22\n",
      "\n",
      "    accuracy                           0.74       282\n",
      "   macro avg       0.52      0.55      0.51       282\n",
      "weighted avg       0.87      0.74      0.80       282\n",
      "\n",
      "Epoch 17/50, Train Loss: 5.3253e-02, Test Loss: 0.0733\n",
      "Epoch 17/50, Train Accuracy: 83.13%, Test Accuracy: 75.90%\n",
      "Epoch 17/50, Train AUC: 90.85%, Test AUC: 59.53%\n",
      "Classification Report on Val Set : \n",
      "              precision    recall  f1-score   support\n",
      "\n",
      "   No Cancer       0.93      0.80      0.86       260\n",
      "      Cancer       0.10      0.27      0.15        22\n",
      "\n",
      "    accuracy                           0.76       282\n",
      "   macro avg       0.51      0.53      0.50       282\n",
      "weighted avg       0.86      0.76      0.80       282\n",
      "\n"
     ]
    },
    {
     "name": "stderr",
     "output_type": "stream",
     "text": [
      "Epoch 18/50: 100%|██████████| 5/5 [00:00<00:00, 61.47it/s, loss=7.3305e-02]\n",
      "Epoch 19/50: 100%|██████████| 5/5 [00:00<00:00, 54.54it/s, loss=4.7149e-02]"
     ]
    },
    {
     "name": "stdout",
     "output_type": "stream",
     "text": [
      "Epoch 18/50, Train Loss: 4.3992e-02, Test Loss: 0.0734\n",
      "Epoch 18/50, Train Accuracy: 84.99%, Test Accuracy: 74.62%\n",
      "Epoch 18/50, Train AUC: 92.51%, Test AUC: 61.01%\n",
      "Classification Report on Val Set : \n",
      "              precision    recall  f1-score   support\n",
      "\n",
      "   No Cancer       0.92      0.80      0.86       260\n",
      "      Cancer       0.09      0.23      0.13        22\n",
      "\n",
      "    accuracy                           0.75       282\n",
      "   macro avg       0.51      0.51      0.49       282\n",
      "weighted avg       0.86      0.75      0.80       282\n",
      "\n"
     ]
    },
    {
     "name": "stderr",
     "output_type": "stream",
     "text": [
      "\n",
      "Epoch 20/50:   0%|          | 0/5 [00:00<?, ?it/s, loss=5.5142e-02]"
     ]
    },
    {
     "name": "stdout",
     "output_type": "stream",
     "text": [
      "Epoch 19/50, Train Loss: 4.6641e-02, Test Loss: 0.0825\n",
      "Epoch 19/50, Train Accuracy: 83.92%, Test Accuracy: 75.66%\n",
      "Epoch 19/50, Train AUC: 90.98%, Test AUC: 64.35%\n",
      "Classification Report on Val Set : \n",
      "              precision    recall  f1-score   support\n",
      "\n",
      "   No Cancer       0.93      0.80      0.86       260\n",
      "      Cancer       0.12      0.32      0.17        22\n",
      "\n",
      "    accuracy                           0.77       282\n",
      "   macro avg       0.53      0.56      0.52       282\n",
      "weighted avg       0.87      0.77      0.81       282\n",
      "\n"
     ]
    },
    {
     "name": "stderr",
     "output_type": "stream",
     "text": [
      "Epoch 20/50: 100%|██████████| 5/5 [00:00<00:00, 51.54it/s, loss=4.2476e-02]\n",
      "Epoch 21/50: 100%|██████████| 5/5 [00:00<00:00, 82.11it/s, loss=7.8295e-02]\n"
     ]
    },
    {
     "name": "stdout",
     "output_type": "stream",
     "text": [
      "Epoch 20/50, Train Loss: 3.7578e-02, Test Loss: 0.0880\n",
      "Epoch 20/50, Train Accuracy: 85.13%, Test Accuracy: 73.60%\n",
      "Epoch 20/50, Train AUC: 92.75%, Test AUC: 61.71%\n",
      "Classification Report on Val Set : \n",
      "              precision    recall  f1-score   support\n",
      "\n",
      "   No Cancer       0.92      0.80      0.86       260\n",
      "      Cancer       0.09      0.23      0.13        22\n",
      "\n",
      "    accuracy                           0.75       282\n",
      "   macro avg       0.51      0.51      0.49       282\n",
      "weighted avg       0.86      0.75      0.80       282\n",
      "\n",
      "Epoch 21/50, Train Loss: 4.1043e-02, Test Loss: 0.0833\n",
      "Epoch 21/50, Train Accuracy: 84.55%, Test Accuracy: 74.38%\n",
      "Epoch 21/50, Train AUC: 90.23%, Test AUC: 63.90%\n",
      "Classification Report on Val Set : \n",
      "              precision    recall  f1-score   support\n",
      "\n",
      "   No Cancer       0.93      0.80      0.86       260\n",
      "      Cancer       0.12      0.32      0.17        22\n",
      "\n",
      "    accuracy                           0.76       282\n",
      "   macro avg       0.53      0.56      0.52       282\n",
      "weighted avg       0.87      0.76      0.81       282\n",
      "\n"
     ]
    },
    {
     "name": "stderr",
     "output_type": "stream",
     "text": [
      "Epoch 22/50: 100%|██████████| 5/5 [00:00<00:00, 66.88it/s, loss=3.9464e-02]\n",
      "Epoch 23/50: 100%|██████████| 5/5 [00:00<00:00, 77.53it/s, loss=4.0977e-02]\n"
     ]
    },
    {
     "name": "stdout",
     "output_type": "stream",
     "text": [
      "Epoch 22/50, Train Loss: 3.2295e-02, Test Loss: 0.0868\n",
      "Epoch 22/50, Train Accuracy: 85.49%, Test Accuracy: 76.42%\n",
      "Epoch 22/50, Train AUC: 93.45%, Test AUC: 61.52%\n",
      "Classification Report on Val Set : \n",
      "              precision    recall  f1-score   support\n",
      "\n",
      "   No Cancer       0.93      0.80      0.86       260\n",
      "      Cancer       0.12      0.32      0.17        22\n",
      "\n",
      "    accuracy                           0.76       282\n",
      "   macro avg       0.53      0.56      0.52       282\n",
      "weighted avg       0.87      0.76      0.81       282\n",
      "\n"
     ]
    },
    {
     "name": "stderr",
     "output_type": "stream",
     "text": [
      "Epoch 24/50: 100%|██████████| 5/5 [00:00<00:00, 72.51it/s, loss=4.2294e-02]"
     ]
    },
    {
     "name": "stdout",
     "output_type": "stream",
     "text": [
      "Epoch 23/50, Train Loss: 3.2394e-02, Test Loss: 0.0673\n",
      "Epoch 23/50, Train Accuracy: 86.17%, Test Accuracy: 77.20%\n",
      "Epoch 23/50, Train AUC: 92.61%, Test AUC: 60.89%\n",
      "Classification Report on Val Set : \n",
      "              precision    recall  f1-score   support\n",
      "\n",
      "   No Cancer       0.93      0.82      0.87       260\n",
      "      Cancer       0.11      0.27      0.16        22\n",
      "\n",
      "    accuracy                           0.77       282\n",
      "   macro avg       0.52      0.54      0.51       282\n",
      "weighted avg       0.87      0.77      0.81       282\n",
      "\n"
     ]
    },
    {
     "name": "stderr",
     "output_type": "stream",
     "text": [
      "\n",
      "Epoch 25/50: 100%|██████████| 5/5 [00:00<00:00, 79.80it/s, loss=1.0066e-01]\n"
     ]
    },
    {
     "name": "stdout",
     "output_type": "stream",
     "text": [
      "Epoch 24/50, Train Loss: 2.9826e-02, Test Loss: 0.0648\n",
      "Epoch 24/50, Train Accuracy: 84.24%, Test Accuracy: 77.20%\n",
      "Epoch 24/50, Train AUC: 93.43%, Test AUC: 58.78%\n",
      "Classification Report on Val Set : \n",
      "              precision    recall  f1-score   support\n",
      "\n",
      "   No Cancer       0.93      0.82      0.87       260\n",
      "      Cancer       0.10      0.23      0.14        22\n",
      "\n",
      "    accuracy                           0.77       282\n",
      "   macro avg       0.51      0.52      0.50       282\n",
      "weighted avg       0.86      0.77      0.81       282\n",
      "\n",
      "Epoch 25/50, Train Loss: 2.7906e-02, Test Loss: 0.0653\n",
      "Epoch 25/50, Train Accuracy: 87.24%, Test Accuracy: 77.96%\n",
      "Epoch 25/50, Train AUC: 93.74%, Test AUC: 60.61%\n",
      "Classification Report on Val Set : \n",
      "              precision    recall  f1-score   support\n",
      "\n",
      "   No Cancer       0.93      0.82      0.87       260\n",
      "      Cancer       0.09      0.23      0.13        22\n",
      "\n",
      "    accuracy                           0.77       282\n",
      "   macro avg       0.51      0.52      0.50       282\n",
      "weighted avg       0.86      0.77      0.81       282\n",
      "\n"
     ]
    },
    {
     "name": "stderr",
     "output_type": "stream",
     "text": [
      "Epoch 26/50: 100%|██████████| 5/5 [00:00<00:00, 63.63it/s, loss=1.1588e-01]\n"
     ]
    },
    {
     "name": "stdout",
     "output_type": "stream",
     "text": [
      "Epoch 26/50, Train Loss: 2.7817e-02, Test Loss: 0.0576\n",
      "Epoch 26/50, Train Accuracy: 87.06%, Test Accuracy: 79.55%\n",
      "Epoch 26/50, Train AUC: 94.58%, Test AUC: 59.93%\n",
      "Classification Report on Val Set : \n",
      "              precision    recall  f1-score   support\n",
      "\n",
      "   No Cancer       0.93      0.85      0.89       260\n",
      "      Cancer       0.12      0.23      0.15        22\n",
      "\n",
      "    accuracy                           0.80       282\n",
      "   macro avg       0.52      0.54      0.52       282\n",
      "weighted avg       0.87      0.80      0.83       282\n",
      "\n"
     ]
    },
    {
     "name": "stderr",
     "output_type": "stream",
     "text": [
      "Epoch 27/50: 100%|██████████| 5/5 [00:00<00:00, 52.37it/s, loss=3.4090e-02]\n",
      "Epoch 28/50: 100%|██████████| 5/5 [00:00<00:00, 57.49it/s, loss=4.6558e-02]\n",
      "Epoch 29/50:   0%|          | 0/5 [00:00<?, ?it/s]"
     ]
    },
    {
     "name": "stdout",
     "output_type": "stream",
     "text": [
      "Epoch 27/50, Train Loss: 2.6499e-02, Test Loss: 0.0554\n",
      "Epoch 27/50, Train Accuracy: 88.05%, Test Accuracy: 80.31%\n",
      "Epoch 27/50, Train AUC: 93.66%, Test AUC: 58.95%\n",
      "Classification Report on Val Set : \n",
      "              precision    recall  f1-score   support\n",
      "\n",
      "   No Cancer       0.93      0.85      0.89       260\n",
      "      Cancer       0.11      0.23      0.15        22\n",
      "\n",
      "    accuracy                           0.80       282\n",
      "   macro avg       0.52      0.54      0.52       282\n",
      "weighted avg       0.86      0.80      0.83       282\n",
      "\n",
      "Epoch 28/50, Train Loss: 2.4212e-02, Test Loss: 0.0594\n",
      "Epoch 28/50, Train Accuracy: 91.17%, Test Accuracy: 79.03%\n",
      "Epoch 28/50, Train AUC: 95.34%, Test AUC: 57.81%\n",
      "Classification Report on Val Set : \n",
      "              precision    recall  f1-score   support\n",
      "\n",
      "   No Cancer       0.92      0.85      0.89       260\n",
      "      Cancer       0.09      0.18      0.12        22\n",
      "\n",
      "    accuracy                           0.80       282\n",
      "   macro avg       0.51      0.52      0.50       282\n",
      "weighted avg       0.86      0.80      0.83       282\n",
      "\n"
     ]
    },
    {
     "name": "stderr",
     "output_type": "stream",
     "text": [
      "Epoch 29/50: 100%|██████████| 5/5 [00:00<00:00, 63.14it/s, loss=4.6794e-02]\n",
      "Epoch 30/50: 100%|██████████| 5/5 [00:00<00:00, 62.61it/s, loss=3.7118e-02]\n",
      "Epoch 31/50:   0%|          | 0/5 [00:00<?, ?it/s, loss=3.1810e-02]"
     ]
    },
    {
     "name": "stdout",
     "output_type": "stream",
     "text": [
      "Epoch 29/50, Train Loss: 2.0993e-02, Test Loss: 0.0634\n",
      "Epoch 29/50, Train Accuracy: 90.22%, Test Accuracy: 78.77%\n",
      "Epoch 29/50, Train AUC: 94.84%, Test AUC: 55.61%\n",
      "Classification Report on Val Set : \n",
      "              precision    recall  f1-score   support\n",
      "\n",
      "   No Cancer       0.92      0.85      0.88       260\n",
      "      Cancer       0.07      0.14      0.09        22\n",
      "\n",
      "    accuracy                           0.79       282\n",
      "   macro avg       0.50      0.49      0.49       282\n",
      "weighted avg       0.85      0.79      0.82       282\n",
      "\n",
      "Epoch 30/50, Train Loss: 1.6255e-02, Test Loss: 0.0626\n",
      "Epoch 30/50, Train Accuracy: 91.69%, Test Accuracy: 79.79%\n",
      "Epoch 30/50, Train AUC: 96.04%, Test AUC: 55.66%\n",
      "Classification Report on Val Set : \n",
      "              precision    recall  f1-score   support\n",
      "\n",
      "   No Cancer       0.92      0.85      0.88       260\n",
      "      Cancer       0.09      0.18      0.12        22\n",
      "\n",
      "    accuracy                           0.79       282\n",
      "   macro avg       0.51      0.51      0.50       282\n",
      "weighted avg       0.86      0.79      0.82       282\n",
      "\n"
     ]
    },
    {
     "name": "stderr",
     "output_type": "stream",
     "text": [
      "Epoch 31/50: 100%|██████████| 5/5 [00:00<00:00, 63.75it/s, loss=2.9331e-02]\n",
      "Epoch 32/50: 100%|██████████| 5/5 [00:00<00:00, 59.84it/s, loss=7.2199e-02]"
     ]
    },
    {
     "name": "stdout",
     "output_type": "stream",
     "text": [
      "Epoch 31/50, Train Loss: 2.0543e-02, Test Loss: 0.0658\n",
      "Epoch 31/50, Train Accuracy: 89.71%, Test Accuracy: 78.77%\n",
      "Epoch 31/50, Train AUC: 95.92%, Test AUC: 57.66%\n",
      "Classification Report on Val Set : \n",
      "              precision    recall  f1-score   support\n",
      "\n",
      "   No Cancer       0.92      0.85      0.88       260\n",
      "      Cancer       0.09      0.18      0.12        22\n",
      "\n",
      "    accuracy                           0.79       282\n",
      "   macro avg       0.51      0.51      0.50       282\n",
      "weighted avg       0.86      0.79      0.82       282\n",
      "\n",
      "Epoch 32/50, Train Loss: 2.0035e-02, Test Loss: 0.0742\n",
      "Epoch 32/50, Train Accuracy: 91.30%, Test Accuracy: 77.70%\n",
      "Epoch 32/50, Train AUC: 95.34%, Test AUC: 57.20%\n",
      "Classification Report on Val Set : \n",
      "              precision    recall  f1-score   support\n",
      "\n",
      "   No Cancer       0.92      0.82      0.87       260\n",
      "      Cancer       0.08      0.18      0.11        22\n",
      "\n",
      "    accuracy                           0.77       282\n",
      "   macro avg       0.50      0.50      0.49       282\n",
      "weighted avg       0.86      0.77      0.81       282\n",
      "\n"
     ]
    },
    {
     "name": "stderr",
     "output_type": "stream",
     "text": [
      "\n",
      "Epoch 33/50: 100%|██████████| 5/5 [00:00<00:00, 62.10it/s, loss=5.9635e-02]\n",
      "Epoch 34/50: 100%|██████████| 5/5 [00:00<00:00, 60.27it/s, loss=2.0363e-02]\n"
     ]
    },
    {
     "name": "stdout",
     "output_type": "stream",
     "text": [
      "Epoch 33/50, Train Loss: 1.8412e-02, Test Loss: 0.0720\n",
      "Epoch 33/50, Train Accuracy: 92.61%, Test Accuracy: 76.42%\n",
      "Epoch 33/50, Train AUC: 95.42%, Test AUC: 56.47%\n",
      "Classification Report on Val Set : \n",
      "              precision    recall  f1-score   support\n",
      "\n",
      "   No Cancer       0.92      0.81      0.86       260\n",
      "      Cancer       0.08      0.18      0.11        22\n",
      "\n",
      "    accuracy                           0.76       282\n",
      "   macro avg       0.50      0.50      0.48       282\n",
      "weighted avg       0.86      0.76      0.80       282\n",
      "\n"
     ]
    },
    {
     "name": "stderr",
     "output_type": "stream",
     "text": [
      "Epoch 35/50: 100%|██████████| 5/5 [00:00<00:00, 61.75it/s, loss=3.1121e-02]\n",
      "Epoch 36/50:   0%|          | 0/5 [00:00<?, ?it/s]"
     ]
    },
    {
     "name": "stdout",
     "output_type": "stream",
     "text": [
      "Epoch 34/50, Train Loss: 2.0069e-02, Test Loss: 0.0657\n",
      "Epoch 34/50, Train Accuracy: 92.41%, Test Accuracy: 76.94%\n",
      "Epoch 34/50, Train AUC: 96.14%, Test AUC: 55.58%\n",
      "Classification Report on Val Set : \n",
      "              precision    recall  f1-score   support\n",
      "\n",
      "   No Cancer       0.92      0.82      0.87       260\n",
      "      Cancer       0.08      0.18      0.11        22\n",
      "\n",
      "    accuracy                           0.77       282\n",
      "   macro avg       0.50      0.50      0.49       282\n",
      "weighted avg       0.86      0.77      0.81       282\n",
      "\n",
      "Epoch 35/50, Train Loss: 2.0236e-02, Test Loss: 0.0682\n",
      "Epoch 35/50, Train Accuracy: 91.50%, Test Accuracy: 78.25%\n",
      "Epoch 35/50, Train AUC: 95.75%, Test AUC: 54.02%\n",
      "Classification Report on Val Set : \n",
      "              precision    recall  f1-score   support\n",
      "\n",
      "   No Cancer       0.92      0.84      0.88       260\n",
      "      Cancer       0.09      0.18      0.12        22\n",
      "\n",
      "    accuracy                           0.79       282\n",
      "   macro avg       0.51      0.51      0.50       282\n",
      "weighted avg       0.86      0.79      0.82       282\n",
      "\n"
     ]
    },
    {
     "name": "stderr",
     "output_type": "stream",
     "text": [
      "Epoch 36/50: 100%|██████████| 5/5 [00:00<00:00, 57.03it/s, loss=1.5430e-02]\n",
      "Epoch 37/50: 100%|██████████| 5/5 [00:00<00:00, 62.20it/s, loss=4.4717e-02]\n",
      "Epoch 38/50:   0%|          | 0/5 [00:00<?, ?it/s]"
     ]
    },
    {
     "name": "stdout",
     "output_type": "stream",
     "text": [
      "Epoch 36/50, Train Loss: 1.5117e-02, Test Loss: 0.0631\n",
      "Epoch 36/50, Train Accuracy: 92.11%, Test Accuracy: 79.29%\n",
      "Epoch 36/50, Train AUC: 97.20%, Test AUC: 54.63%\n",
      "Classification Report on Val Set : \n",
      "              precision    recall  f1-score   support\n",
      "\n",
      "   No Cancer       0.92      0.86      0.89       260\n",
      "      Cancer       0.05      0.09      0.07        22\n",
      "\n",
      "    accuracy                           0.80       282\n",
      "   macro avg       0.49      0.48      0.48       282\n",
      "weighted avg       0.85      0.80      0.82       282\n",
      "\n",
      "Epoch 37/50, Train Loss: 1.8242e-02, Test Loss: 0.0697\n",
      "Epoch 37/50, Train Accuracy: 90.53%, Test Accuracy: 78.77%\n",
      "Epoch 37/50, Train AUC: 95.59%, Test AUC: 53.39%\n",
      "Classification Report on Val Set : \n",
      "              precision    recall  f1-score   support\n",
      "\n",
      "   No Cancer       0.92      0.85      0.88       260\n",
      "      Cancer       0.05      0.09      0.06        22\n",
      "\n",
      "    accuracy                           0.79       282\n",
      "   macro avg       0.48      0.47      0.47       282\n",
      "weighted avg       0.85      0.79      0.82       282\n",
      "\n"
     ]
    },
    {
     "name": "stderr",
     "output_type": "stream",
     "text": [
      "Epoch 38/50: 100%|██████████| 5/5 [00:00<00:00, 61.93it/s, loss=1.7461e-02]\n",
      "Epoch 39/50: 100%|██████████| 5/5 [00:00<00:00, 62.71it/s, loss=4.6725e-02]\n",
      "Epoch 40/50:   0%|          | 0/5 [00:00<?, ?it/s]"
     ]
    },
    {
     "name": "stdout",
     "output_type": "stream",
     "text": [
      "Epoch 38/50, Train Loss: 1.5232e-02, Test Loss: 0.0568\n",
      "Epoch 38/50, Train Accuracy: 91.57%, Test Accuracy: 79.81%\n",
      "Epoch 38/50, Train AUC: 97.56%, Test AUC: 55.00%\n",
      "Classification Report on Val Set : \n",
      "              precision    recall  f1-score   support\n",
      "\n",
      "   No Cancer       0.92      0.87      0.89       260\n",
      "      Cancer       0.06      0.09      0.07        22\n",
      "\n",
      "    accuracy                           0.81       282\n",
      "   macro avg       0.49      0.48      0.48       282\n",
      "weighted avg       0.85      0.81      0.83       282\n",
      "\n",
      "Epoch 39/50, Train Loss: 1.4988e-02, Test Loss: 0.0608\n",
      "Epoch 39/50, Train Accuracy: 92.42%, Test Accuracy: 81.09%\n",
      "Epoch 39/50, Train AUC: 97.41%, Test AUC: 56.01%\n",
      "Classification Report on Val Set : \n",
      "              precision    recall  f1-score   support\n",
      "\n",
      "   No Cancer       0.92      0.87      0.90       260\n",
      "      Cancer       0.08      0.14      0.10        22\n",
      "\n",
      "    accuracy                           0.81       282\n",
      "   macro avg       0.50      0.50      0.50       282\n",
      "weighted avg       0.86      0.81      0.83       282\n",
      "\n"
     ]
    },
    {
     "name": "stderr",
     "output_type": "stream",
     "text": [
      "Epoch 40/50: 100%|██████████| 5/5 [00:00<00:00, 62.89it/s, loss=2.2569e-02]\n",
      "Epoch 41/50: 100%|██████████| 5/5 [00:00<00:00, 63.39it/s, loss=2.0563e-02]\n",
      "Epoch 42/50:   0%|          | 0/5 [00:00<?, ?it/s]"
     ]
    },
    {
     "name": "stdout",
     "output_type": "stream",
     "text": [
      "Epoch 40/50, Train Loss: 1.7571e-02, Test Loss: 0.0563\n",
      "Epoch 40/50, Train Accuracy: 90.55%, Test Accuracy: 80.07%\n",
      "Epoch 40/50, Train AUC: 95.81%, Test AUC: 59.56%\n",
      "Classification Report on Val Set : \n",
      "              precision    recall  f1-score   support\n",
      "\n",
      "   No Cancer       0.92      0.87      0.90       260\n",
      "      Cancer       0.08      0.14      0.10        22\n",
      "\n",
      "    accuracy                           0.81       282\n",
      "   macro avg       0.50      0.50      0.50       282\n",
      "weighted avg       0.86      0.81      0.83       282\n",
      "\n",
      "Epoch 41/50, Train Loss: 1.5831e-02, Test Loss: 0.0641\n",
      "Epoch 41/50, Train Accuracy: 89.91%, Test Accuracy: 78.75%\n",
      "Epoch 41/50, Train AUC: 95.96%, Test AUC: 60.37%\n",
      "Classification Report on Val Set : \n",
      "              precision    recall  f1-score   support\n",
      "\n",
      "   No Cancer       0.92      0.83      0.87       260\n",
      "      Cancer       0.08      0.18      0.11        22\n",
      "\n",
      "    accuracy                           0.78       282\n",
      "   macro avg       0.50      0.51      0.49       282\n",
      "weighted avg       0.86      0.78      0.82       282\n",
      "\n"
     ]
    },
    {
     "name": "stderr",
     "output_type": "stream",
     "text": [
      "Epoch 42/50: 100%|██████████| 5/5 [00:00<00:00, 56.06it/s, loss=5.0205e-02]\n",
      "Epoch 43/50: 100%|██████████| 5/5 [00:00<00:00, 61.62it/s, loss=1.2077e-02]\n",
      "Epoch 44/50:   0%|          | 0/5 [00:00<?, ?it/s]"
     ]
    },
    {
     "name": "stdout",
     "output_type": "stream",
     "text": [
      "Epoch 42/50, Train Loss: 1.3895e-02, Test Loss: 0.0692\n",
      "Epoch 42/50, Train Accuracy: 93.66%, Test Accuracy: 77.72%\n",
      "Epoch 42/50, Train AUC: 96.27%, Test AUC: 57.20%\n",
      "Classification Report on Val Set : \n",
      "              precision    recall  f1-score   support\n",
      "\n",
      "   No Cancer       0.92      0.83      0.87       260\n",
      "      Cancer       0.07      0.14      0.09        22\n",
      "\n",
      "    accuracy                           0.78       282\n",
      "   macro avg       0.49      0.49      0.48       282\n",
      "weighted avg       0.85      0.78      0.81       282\n",
      "\n",
      "Epoch 43/50, Train Loss: 1.1886e-02, Test Loss: 0.0519\n",
      "Epoch 43/50, Train Accuracy: 93.69%, Test Accuracy: 78.51%\n",
      "Epoch 43/50, Train AUC: 97.68%, Test AUC: 55.12%\n",
      "Classification Report on Val Set : \n",
      "              precision    recall  f1-score   support\n",
      "\n",
      "   No Cancer       0.92      0.85      0.88       260\n",
      "      Cancer       0.05      0.09      0.06        22\n",
      "\n",
      "    accuracy                           0.79       282\n",
      "   macro avg       0.48      0.47      0.47       282\n",
      "weighted avg       0.85      0.79      0.82       282\n",
      "\n"
     ]
    },
    {
     "name": "stderr",
     "output_type": "stream",
     "text": [
      "Epoch 44/50: 100%|██████████| 5/5 [00:00<00:00, 58.48it/s, loss=2.5298e-02]\n",
      "Epoch 45/50: 100%|██████████| 5/5 [00:00<00:00, 56.64it/s, loss=2.6487e-02]"
     ]
    },
    {
     "name": "stdout",
     "output_type": "stream",
     "text": [
      "Epoch 44/50, Train Loss: 1.5127e-02, Test Loss: 0.0612\n",
      "Epoch 44/50, Train Accuracy: 89.85%, Test Accuracy: 79.03%\n",
      "Epoch 44/50, Train AUC: 95.91%, Test AUC: 54.77%\n",
      "Classification Report on Val Set : \n",
      "              precision    recall  f1-score   support\n",
      "\n",
      "   No Cancer       0.92      0.85      0.89       260\n",
      "      Cancer       0.07      0.14      0.10        22\n",
      "\n",
      "    accuracy                           0.80       282\n",
      "   macro avg       0.50      0.50      0.49       282\n",
      "weighted avg       0.86      0.80      0.82       282\n",
      "\n",
      "Epoch 45/50, Train Loss: 1.1637e-02, Test Loss: 0.0692\n",
      "Epoch 45/50, Train Accuracy: 94.20%, Test Accuracy: 78.27%\n",
      "Epoch 45/50, Train AUC: 96.28%, Test AUC: 55.87%\n",
      "Classification Report on Val Set : \n",
      "              precision    recall  f1-score   support\n",
      "\n",
      "   No Cancer       0.93      0.85      0.89       260\n",
      "      Cancer       0.10      0.18      0.12        22\n",
      "\n",
      "    accuracy                           0.80       282\n",
      "   macro avg       0.51      0.52      0.51       282\n",
      "weighted avg       0.86      0.80      0.83       282\n",
      "\n"
     ]
    },
    {
     "name": "stderr",
     "output_type": "stream",
     "text": [
      "\n",
      "Epoch 46/50: 100%|██████████| 5/5 [00:00<00:00, 56.52it/s, loss=2.5318e-02]\n",
      "Epoch 47/50: 100%|██████████| 5/5 [00:00<00:00, 57.20it/s, loss=2.3843e-02]\n",
      "Epoch 48/50:   0%|          | 0/5 [00:00<?, ?it/s]"
     ]
    },
    {
     "name": "stdout",
     "output_type": "stream",
     "text": [
      "Epoch 46/50, Train Loss: 9.8649e-03, Test Loss: 0.0729\n",
      "Epoch 46/50, Train Accuracy: 93.08%, Test Accuracy: 77.24%\n",
      "Epoch 46/50, Train AUC: 97.25%, Test AUC: 59.13%\n",
      "Classification Report on Val Set : \n",
      "              precision    recall  f1-score   support\n",
      "\n",
      "   No Cancer       0.93      0.85      0.89       260\n",
      "      Cancer       0.11      0.23      0.15        22\n",
      "\n",
      "    accuracy                           0.80       282\n",
      "   macro avg       0.52      0.54      0.52       282\n",
      "weighted avg       0.86      0.80      0.83       282\n",
      "\n",
      "Epoch 47/50, Train Loss: 1.1845e-02, Test Loss: 0.0615\n",
      "Epoch 47/50, Train Accuracy: 92.70%, Test Accuracy: 79.05%\n",
      "Epoch 47/50, Train AUC: 97.33%, Test AUC: 57.12%\n",
      "Classification Report on Val Set : \n",
      "              precision    recall  f1-score   support\n",
      "\n",
      "   No Cancer       0.92      0.88      0.90       260\n",
      "      Cancer       0.03      0.05      0.04        22\n",
      "\n",
      "    accuracy                           0.81       282\n",
      "   macro avg       0.47      0.46      0.47       282\n",
      "weighted avg       0.85      0.81      0.83       282\n",
      "\n"
     ]
    },
    {
     "name": "stderr",
     "output_type": "stream",
     "text": [
      "Epoch 48/50: 100%|██████████| 5/5 [00:00<00:00, 56.30it/s, loss=1.5619e-02]\n",
      "Epoch 49/50: 100%|██████████| 5/5 [00:00<00:00, 63.52it/s, loss=1.3815e-02]\n"
     ]
    },
    {
     "name": "stdout",
     "output_type": "stream",
     "text": [
      "Epoch 48/50, Train Loss: 1.2882e-02, Test Loss: 0.0634\n",
      "Epoch 48/50, Train Accuracy: 92.94%, Test Accuracy: 78.79%\n",
      "Epoch 48/50, Train AUC: 97.49%, Test AUC: 53.37%\n",
      "Classification Report on Val Set : \n",
      "              precision    recall  f1-score   support\n",
      "\n",
      "   No Cancer       0.92      0.87      0.89       260\n",
      "      Cancer       0.06      0.09      0.07        22\n",
      "\n",
      "    accuracy                           0.81       282\n",
      "   macro avg       0.49      0.48      0.48       282\n",
      "weighted avg       0.85      0.81      0.83       282\n",
      "\n",
      "Epoch 49/50, Train Loss: 1.2103e-02, Test Loss: 0.0641\n",
      "Epoch 49/50, Train Accuracy: 90.70%, Test Accuracy: 79.27%\n",
      "Epoch 49/50, Train AUC: 97.19%, Test AUC: 52.97%\n",
      "Classification Report on Val Set : \n",
      "              precision    recall  f1-score   support\n",
      "\n",
      "   No Cancer       0.92      0.85      0.88       260\n",
      "      Cancer       0.05      0.09      0.06        22\n",
      "\n",
      "    accuracy                           0.79       282\n",
      "   macro avg       0.48      0.47      0.47       282\n",
      "weighted avg       0.85      0.79      0.82       282\n",
      "\n"
     ]
    },
    {
     "name": "stderr",
     "output_type": "stream",
     "text": [
      "Epoch 50/50: 100%|██████████| 5/5 [00:00<00:00, 62.95it/s, loss=1.9078e-02]"
     ]
    },
    {
     "name": "stdout",
     "output_type": "stream",
     "text": [
      "Epoch 50/50, Train Loss: 1.0654e-02, Test Loss: 0.0717\n",
      "Epoch 50/50, Train Accuracy: 93.33%, Test Accuracy: 80.07%\n",
      "Epoch 50/50, Train AUC: 97.69%, Test AUC: 55.98%\n",
      "Classification Report on Val Set : \n",
      "              precision    recall  f1-score   support\n",
      "\n",
      "   No Cancer       0.92      0.87      0.90       260\n",
      "      Cancer       0.08      0.14      0.10        22\n",
      "\n",
      "    accuracy                           0.81       282\n",
      "   macro avg       0.50      0.50      0.50       282\n",
      "weighted avg       0.86      0.81      0.83       282\n",
      "\n",
      "\n",
      "Finished.\n",
      "Best validation AUC: 6.8619e-01\n",
      "With accuracy: 0.756209929784139\n"
     ]
    },
    {
     "name": "stderr",
     "output_type": "stream",
     "text": [
      "\n"
     ]
    }
   ],
   "source": [
    "# network\n",
    "net = MLP(input_size = dim_z, layers = [160, 100]).to(device).double()\n",
    "\n",
    "# loss and optimizer  \n",
    "criterion = FocalLoss().to(device)\n",
    "optimizer = optim.Adam(net.parameters(), lr=vae_mlp_args['lr_pt'])\n",
    "\n",
    "# Logging + Experiment\n",
    "\n",
    "ignore_keys = {'no_tensorboard'}\n",
    "# get hyperparameters with values in a dict\n",
    "hparams = {**vae_mlp_args}\n",
    "# generate a name for the experiment\n",
    "expe_name = '_'.join([f\"{key}={val}\" for key, val in hparams.items()])\n",
    "print(\"Experimenting with : \\n \\t\"+expe_name)\n",
    "# path where to save the model\n",
    "savepath = Path('/tempory/transcriptomic_data/pre_trained_mlp_vae_checkpt.pt')\n",
    "# Tensorboard summary writer\n",
    "if vae_mlp_args['no_tensorboard']:\n",
    "    writer = None\n",
    "else:\n",
    "    writer = SummaryWriter(\"runs/runs\"+\"_\"+datetime.datetime.now().strftime(\"%Y%m%d-%H%M%S\")+expe_name)\n",
    "# start the experiment\n",
    "checkpoint = CheckpointState(net, optimizer, savepath=savepath)\n",
    "fit(checkpoint, criterion, lung_dataloader_train, lung_dataloader_validation, vae_mlp_args['epochs'], writer=writer, embedding_computer=vae)\n",
    "if not vae_mlp_args['no_tensorboard']:\n",
    "    writer.close()"
   ]
  },
  {
   "cell_type": "markdown",
   "metadata": {},
   "source": [
    "# **4 - Fine-Tuning on the Lung Cancer Dataset :**"
   ]
  },
  {
   "cell_type": "code",
   "execution_count": 25,
   "metadata": {},
   "outputs": [],
   "source": [
    "# Load the pretrained Model\n",
    "net =  MLP(input_size = dim_z, layers = [160, 100]).to(device).double()\n",
    "optimizer = optim.Adam(net.parameters(), lr=vae_mlp_args['lr_ft'])\n",
    "# path where the pre-trained model is saved : defined above+\"_best\"\n",
    "savepath = Path('/tempory/transcriptomic_data/pre_trained_mlp_vae_checkpt_best.pt')\n",
    "checkpoint = CheckpointState(net, optimizer, savepath=savepath)\n",
    "checkpoint.load()\n",
    "pretrained = checkpoint.model"
   ]
  },
  {
   "cell_type": "code",
   "execution_count": 26,
   "metadata": {},
   "outputs": [
    {
     "name": "stderr",
     "output_type": "stream",
     "text": [
      "Epoch 1/50: 100%|██████████| 5/5 [00:00<00:00, 63.45it/s, loss=1.1517e-01]"
     ]
    },
    {
     "name": "stdout",
     "output_type": "stream",
     "text": [
      "Training on GPU \n",
      "\n"
     ]
    },
    {
     "name": "stderr",
     "output_type": "stream",
     "text": [
      "\n",
      "Epoch 2/50:   0%|          | 0/5 [00:00<?, ?it/s, loss=1.2011e-01]"
     ]
    },
    {
     "name": "stdout",
     "output_type": "stream",
     "text": [
      "Epoch 1/50, Train Loss: 7.6504e-02, Test Loss: 0.0730\n",
      "Epoch 1/50, Train Accuracy: 78.49%, Test Accuracy: 76.66%\n",
      "Epoch 1/50, Train AUC: 82.78%, Test AUC: 65.07%\n",
      "Classification Report on Val Set : \n",
      "              precision    recall  f1-score   support\n",
      "\n",
      "   No Cancer       0.94      0.78      0.85       260\n",
      "      Cancer       0.12      0.36      0.19        22\n",
      "\n",
      "    accuracy                           0.75       282\n",
      "   macro avg       0.53      0.57      0.52       282\n",
      "weighted avg       0.87      0.75      0.80       282\n",
      "\n"
     ]
    },
    {
     "name": "stderr",
     "output_type": "stream",
     "text": [
      "Epoch 2/50: 100%|██████████| 5/5 [00:00<00:00, 72.38it/s, loss=1.0311e-01]\n",
      "Epoch 3/50:   0%|          | 0/5 [00:00<?, ?it/s, loss=9.5453e-02]"
     ]
    },
    {
     "name": "stdout",
     "output_type": "stream",
     "text": [
      "Epoch 2/50, Train Loss: 6.3513e-02, Test Loss: 0.0691\n",
      "Epoch 2/50, Train Accuracy: 80.99%, Test Accuracy: 77.20%\n",
      "Epoch 2/50, Train AUC: 85.78%, Test AUC: 66.78%\n",
      "Classification Report on Val Set : \n",
      "              precision    recall  f1-score   support\n",
      "\n",
      "   No Cancer       0.94      0.81      0.87       260\n",
      "      Cancer       0.14      0.36      0.20        22\n",
      "\n",
      "    accuracy                           0.77       282\n",
      "   macro avg       0.54      0.59      0.53       282\n",
      "weighted avg       0.88      0.77      0.82       282\n",
      "\n"
     ]
    },
    {
     "name": "stderr",
     "output_type": "stream",
     "text": [
      "Epoch 3/50: 100%|██████████| 5/5 [00:00<00:00, 77.42it/s, loss=9.3228e-02]\n"
     ]
    },
    {
     "name": "stdout",
     "output_type": "stream",
     "text": [
      "Epoch 3/50, Train Loss: 7.4863e-02, Test Loss: 0.0832\n",
      "Epoch 3/50, Train Accuracy: 76.85%, Test Accuracy: 74.10%\n",
      "Epoch 3/50, Train AUC: 82.90%, Test AUC: 66.31%\n",
      "Classification Report on Val Set : \n",
      "              precision    recall  f1-score   support\n",
      "\n",
      "   No Cancer       0.93      0.78      0.85       260\n",
      "      Cancer       0.10      0.27      0.14        22\n",
      "\n",
      "    accuracy                           0.74       282\n",
      "   macro avg       0.51      0.53      0.50       282\n",
      "weighted avg       0.86      0.74      0.79       282\n",
      "\n"
     ]
    },
    {
     "name": "stderr",
     "output_type": "stream",
     "text": [
      "Epoch 4/50: 100%|██████████| 5/5 [00:00<00:00, 76.40it/s, loss=1.7329e-01]\n",
      "Epoch 5/50: 100%|██████████| 5/5 [00:00<00:00, 82.95it/s, loss=1.0552e-01]\n",
      "Epoch 6/50:   0%|          | 0/5 [00:00<?, ?it/s, loss=6.1196e-02]"
     ]
    },
    {
     "name": "stdout",
     "output_type": "stream",
     "text": [
      "Epoch 4/50, Train Loss: 5.2270e-02, Test Loss: 0.0857\n",
      "Epoch 4/50, Train Accuracy: 81.39%, Test Accuracy: 74.86%\n",
      "Epoch 4/50, Train AUC: 89.19%, Test AUC: 62.97%\n",
      "Classification Report on Val Set : \n",
      "              precision    recall  f1-score   support\n",
      "\n",
      "   No Cancer       0.93      0.78      0.85       260\n",
      "      Cancer       0.10      0.27      0.14        22\n",
      "\n",
      "    accuracy                           0.74       282\n",
      "   macro avg       0.51      0.53      0.49       282\n",
      "weighted avg       0.86      0.74      0.79       282\n",
      "\n",
      "Epoch 5/50, Train Loss: 4.7442e-02, Test Loss: 0.0912\n",
      "Epoch 5/50, Train Accuracy: 82.02%, Test Accuracy: 72.02%\n",
      "Epoch 5/50, Train AUC: 88.83%, Test AUC: 61.45%\n",
      "Classification Report on Val Set : \n",
      "              precision    recall  f1-score   support\n",
      "\n",
      "   No Cancer       0.93      0.75      0.83       260\n",
      "      Cancer       0.11      0.36      0.17        22\n",
      "\n",
      "    accuracy                           0.72       282\n",
      "   macro avg       0.52      0.55      0.50       282\n",
      "weighted avg       0.87      0.72      0.78       282\n",
      "\n"
     ]
    },
    {
     "name": "stderr",
     "output_type": "stream",
     "text": [
      "Epoch 6/50: 100%|██████████| 5/5 [00:00<00:00, 84.66it/s, loss=9.3702e-02]\n",
      "Epoch 7/50:   0%|          | 0/5 [00:00<?, ?it/s, loss=9.2286e-02]"
     ]
    },
    {
     "name": "stdout",
     "output_type": "stream",
     "text": [
      "Epoch 6/50, Train Loss: 5.1746e-02, Test Loss: 0.0877\n",
      "Epoch 6/50, Train Accuracy: 83.03%, Test Accuracy: 72.54%\n",
      "Epoch 6/50, Train AUC: 87.32%, Test AUC: 62.22%\n",
      "Classification Report on Val Set : \n",
      "              precision    recall  f1-score   support\n",
      "\n",
      "   No Cancer       0.93      0.75      0.83       260\n",
      "      Cancer       0.11      0.36      0.17        22\n",
      "\n",
      "    accuracy                           0.72       282\n",
      "   macro avg       0.52      0.56      0.50       282\n",
      "weighted avg       0.87      0.72      0.78       282\n",
      "\n"
     ]
    },
    {
     "name": "stderr",
     "output_type": "stream",
     "text": [
      "Epoch 7/50: 100%|██████████| 5/5 [00:00<00:00, 52.09it/s, loss=7.3739e-02]\n",
      "Epoch 8/50: 100%|██████████| 5/5 [00:00<00:00, 84.32it/s, loss=5.5885e-02]\n"
     ]
    },
    {
     "name": "stdout",
     "output_type": "stream",
     "text": [
      "Epoch 7/50, Train Loss: 4.0516e-02, Test Loss: 0.0763\n",
      "Epoch 7/50, Train Accuracy: 84.42%, Test Accuracy: 73.08%\n",
      "Epoch 7/50, Train AUC: 90.51%, Test AUC: 63.27%\n",
      "Classification Report on Val Set : \n",
      "              precision    recall  f1-score   support\n",
      "\n",
      "   No Cancer       0.93      0.78      0.85       260\n",
      "      Cancer       0.10      0.27      0.14        22\n",
      "\n",
      "    accuracy                           0.74       282\n",
      "   macro avg       0.51      0.53      0.50       282\n",
      "weighted avg       0.86      0.74      0.79       282\n",
      "\n",
      "Epoch 8/50, Train Loss: 3.7951e-02, Test Loss: 0.0735\n",
      "Epoch 8/50, Train Accuracy: 84.67%, Test Accuracy: 72.32%\n",
      "Epoch 8/50, Train AUC: 92.11%, Test AUC: 63.51%\n",
      "Classification Report on Val Set : \n",
      "              precision    recall  f1-score   support\n",
      "\n",
      "   No Cancer       0.92      0.80      0.85       260\n",
      "      Cancer       0.07      0.18      0.10        22\n",
      "\n",
      "    accuracy                           0.75       282\n",
      "   macro avg       0.50      0.49      0.48       282\n",
      "weighted avg       0.85      0.75      0.79       282\n",
      "\n"
     ]
    },
    {
     "name": "stderr",
     "output_type": "stream",
     "text": [
      "Epoch 9/50: 100%|██████████| 5/5 [00:00<00:00, 83.01it/s, loss=5.4136e-02]\n",
      "Epoch 10/50: 100%|██████████| 5/5 [00:00<00:00, 73.50it/s, loss=5.7375e-02]"
     ]
    },
    {
     "name": "stdout",
     "output_type": "stream",
     "text": [
      "Epoch 9/50, Train Loss: 4.4776e-02, Test Loss: 0.0789\n",
      "Epoch 9/50, Train Accuracy: 83.71%, Test Accuracy: 74.64%\n",
      "Epoch 9/50, Train AUC: 92.93%, Test AUC: 61.63%\n",
      "Classification Report on Val Set : \n",
      "              precision    recall  f1-score   support\n",
      "\n",
      "   No Cancer       0.92      0.82      0.87       260\n",
      "      Cancer       0.06      0.14      0.08        22\n",
      "\n",
      "    accuracy                           0.77       282\n",
      "   macro avg       0.49      0.48      0.47       282\n",
      "weighted avg       0.85      0.77      0.80       282\n",
      "\n"
     ]
    },
    {
     "name": "stderr",
     "output_type": "stream",
     "text": [
      "\n",
      "Epoch 11/50: 100%|██████████| 5/5 [00:00<00:00, 84.38it/s, loss=7.9904e-02]\n"
     ]
    },
    {
     "name": "stdout",
     "output_type": "stream",
     "text": [
      "Epoch 10/50, Train Loss: 4.5458e-02, Test Loss: 0.0785\n",
      "Epoch 10/50, Train Accuracy: 83.75%, Test Accuracy: 74.12%\n",
      "Epoch 10/50, Train AUC: 89.45%, Test AUC: 61.85%\n",
      "Classification Report on Val Set : \n",
      "              precision    recall  f1-score   support\n",
      "\n",
      "   No Cancer       0.92      0.81      0.86       260\n",
      "      Cancer       0.07      0.18      0.11        22\n",
      "\n",
      "    accuracy                           0.76       282\n",
      "   macro avg       0.50      0.49      0.48       282\n",
      "weighted avg       0.85      0.76      0.80       282\n",
      "\n",
      "Epoch 11/50, Train Loss: 3.7468e-02, Test Loss: 0.0652\n",
      "Epoch 11/50, Train Accuracy: 84.96%, Test Accuracy: 77.98%\n",
      "Epoch 11/50, Train AUC: 91.13%, Test AUC: 64.69%\n",
      "Classification Report on Val Set : \n",
      "              precision    recall  f1-score   support\n",
      "\n",
      "   No Cancer       0.93      0.83      0.88       260\n",
      "      Cancer       0.12      0.27      0.16        22\n",
      "\n",
      "    accuracy                           0.78       282\n",
      "   macro avg       0.52      0.55      0.52       282\n",
      "weighted avg       0.87      0.78      0.82       282\n",
      "\n"
     ]
    },
    {
     "name": "stderr",
     "output_type": "stream",
     "text": [
      "Epoch 12/50: 100%|██████████| 5/5 [00:00<00:00, 81.45it/s, loss=9.8084e-02]\n",
      "Epoch 13/50: 100%|██████████| 5/5 [00:00<00:00, 80.99it/s, loss=4.1109e-02]\n"
     ]
    },
    {
     "name": "stdout",
     "output_type": "stream",
     "text": [
      "Epoch 12/50, Train Loss: 3.3018e-02, Test Loss: 0.0593\n",
      "Epoch 12/50, Train Accuracy: 87.22%, Test Accuracy: 81.07%\n",
      "Epoch 12/50, Train AUC: 92.59%, Test AUC: 63.95%\n",
      "Classification Report on Val Set : \n",
      "              precision    recall  f1-score   support\n",
      "\n",
      "   No Cancer       0.93      0.85      0.89       260\n",
      "      Cancer       0.11      0.23      0.15        22\n",
      "\n",
      "    accuracy                           0.80       282\n",
      "   macro avg       0.52      0.54      0.52       282\n",
      "weighted avg       0.86      0.80      0.83       282\n",
      "\n",
      "Epoch 13/50, Train Loss: 3.4429e-02, Test Loss: 0.0636\n",
      "Epoch 13/50, Train Accuracy: 86.25%, Test Accuracy: 79.27%\n",
      "Epoch 13/50, Train AUC: 92.68%, Test AUC: 64.86%\n",
      "Classification Report on Val Set : \n",
      "              precision    recall  f1-score   support\n",
      "\n",
      "   No Cancer       0.93      0.83      0.88       260\n",
      "      Cancer       0.10      0.23      0.14        22\n",
      "\n",
      "    accuracy                           0.79       282\n",
      "   macro avg       0.52      0.53      0.51       282\n",
      "weighted avg       0.86      0.79      0.82       282\n",
      "\n"
     ]
    },
    {
     "name": "stderr",
     "output_type": "stream",
     "text": [
      "Epoch 14/50: 100%|██████████| 5/5 [00:00<00:00, 81.65it/s, loss=3.3929e-02]\n",
      "Epoch 15/50:   0%|          | 0/5 [00:00<?, ?it/s, loss=6.6210e-02]"
     ]
    },
    {
     "name": "stdout",
     "output_type": "stream",
     "text": [
      "Epoch 14/50, Train Loss: 3.0010e-02, Test Loss: 0.0596\n",
      "Epoch 14/50, Train Accuracy: 87.67%, Test Accuracy: 79.53%\n",
      "Epoch 14/50, Train AUC: 93.31%, Test AUC: 60.49%\n",
      "Classification Report on Val Set : \n",
      "              precision    recall  f1-score   support\n",
      "\n",
      "   No Cancer       0.93      0.84      0.88       260\n",
      "      Cancer       0.11      0.23      0.14        22\n",
      "\n",
      "    accuracy                           0.79       282\n",
      "   macro avg       0.52      0.53      0.51       282\n",
      "weighted avg       0.86      0.79      0.82       282\n",
      "\n"
     ]
    },
    {
     "name": "stderr",
     "output_type": "stream",
     "text": [
      "Epoch 15/50: 100%|██████████| 5/5 [00:00<00:00, 49.47it/s, loss=5.0793e-02]\n",
      "Epoch 16/50:   0%|          | 0/5 [00:00<?, ?it/s, loss=4.7245e-02]"
     ]
    },
    {
     "name": "stdout",
     "output_type": "stream",
     "text": [
      "Epoch 15/50, Train Loss: 2.6374e-02, Test Loss: 0.0649\n",
      "Epoch 15/50, Train Accuracy: 89.27%, Test Accuracy: 78.49%\n",
      "Epoch 15/50, Train AUC: 93.35%, Test AUC: 60.12%\n",
      "Classification Report on Val Set : \n",
      "              precision    recall  f1-score   support\n",
      "\n",
      "   No Cancer       0.93      0.82      0.87       260\n",
      "      Cancer       0.10      0.23      0.14        22\n",
      "\n",
      "    accuracy                           0.78       282\n",
      "   macro avg       0.51      0.53      0.50       282\n",
      "weighted avg       0.86      0.78      0.81       282\n",
      "\n"
     ]
    },
    {
     "name": "stderr",
     "output_type": "stream",
     "text": [
      "Epoch 16/50: 100%|██████████| 5/5 [00:00<00:00, 52.82it/s, loss=3.9027e-02]\n",
      "Epoch 17/50:   0%|          | 0/5 [00:00<?, ?it/s]"
     ]
    },
    {
     "name": "stdout",
     "output_type": "stream",
     "text": [
      "Epoch 16/50, Train Loss: 2.5125e-02, Test Loss: 0.0744\n",
      "Epoch 16/50, Train Accuracy: 89.30%, Test Accuracy: 74.88%\n",
      "Epoch 16/50, Train AUC: 93.50%, Test AUC: 60.73%\n",
      "Classification Report on Val Set : \n",
      "              precision    recall  f1-score   support\n",
      "\n",
      "   No Cancer       0.92      0.80      0.86       260\n",
      "      Cancer       0.07      0.18      0.10        22\n",
      "\n",
      "    accuracy                           0.76       282\n",
      "   macro avg       0.50      0.49      0.48       282\n",
      "weighted avg       0.85      0.76      0.80       282\n",
      "\n"
     ]
    },
    {
     "name": "stderr",
     "output_type": "stream",
     "text": [
      "Epoch 17/50: 100%|██████████| 5/5 [00:00<00:00, 63.57it/s, loss=6.2601e-02]\n",
      "Epoch 18/50: 100%|██████████| 5/5 [00:00<00:00, 81.00it/s, loss=1.1075e-01]\n"
     ]
    },
    {
     "name": "stdout",
     "output_type": "stream",
     "text": [
      "Epoch 17/50, Train Loss: 2.5054e-02, Test Loss: 0.0727\n",
      "Epoch 17/50, Train Accuracy: 88.31%, Test Accuracy: 75.64%\n",
      "Epoch 17/50, Train AUC: 93.63%, Test AUC: 61.43%\n",
      "Classification Report on Val Set : \n",
      "              precision    recall  f1-score   support\n",
      "\n",
      "   No Cancer       0.93      0.79      0.85       260\n",
      "      Cancer       0.10      0.27      0.15        22\n",
      "\n",
      "    accuracy                           0.75       282\n",
      "   macro avg       0.51      0.53      0.50       282\n",
      "weighted avg       0.86      0.75      0.80       282\n",
      "\n",
      "Epoch 18/50, Train Loss: 2.1135e-02, Test Loss: 0.0688\n",
      "Epoch 18/50, Train Accuracy: 90.24%, Test Accuracy: 77.96%\n",
      "Epoch 18/50, Train AUC: 94.85%, Test AUC: 59.04%\n",
      "Classification Report on Val Set : \n",
      "              precision    recall  f1-score   support\n",
      "\n",
      "   No Cancer       0.92      0.82      0.87       260\n",
      "      Cancer       0.08      0.18      0.11        22\n",
      "\n",
      "    accuracy                           0.77       282\n",
      "   macro avg       0.50      0.50      0.49       282\n",
      "weighted avg       0.86      0.77      0.81       282\n",
      "\n"
     ]
    },
    {
     "name": "stderr",
     "output_type": "stream",
     "text": [
      "Epoch 19/50: 100%|██████████| 5/5 [00:00<00:00, 82.81it/s, loss=3.3744e-02]\n",
      "Epoch 20/50: 100%|██████████| 5/5 [00:00<00:00, 80.75it/s, loss=1.8187e-02]"
     ]
    },
    {
     "name": "stdout",
     "output_type": "stream",
     "text": [
      "Epoch 19/50, Train Loss: 2.5347e-02, Test Loss: 0.0790\n",
      "Epoch 19/50, Train Accuracy: 87.85%, Test Accuracy: 75.64%\n",
      "Epoch 19/50, Train AUC: 93.74%, Test AUC: 59.81%\n",
      "Classification Report on Val Set : \n",
      "              precision    recall  f1-score   support\n",
      "\n",
      "   No Cancer       0.93      0.79      0.85       260\n",
      "      Cancer       0.10      0.27      0.15        22\n",
      "\n",
      "    accuracy                           0.75       282\n",
      "   macro avg       0.51      0.53      0.50       282\n",
      "weighted avg       0.86      0.75      0.80       282\n",
      "\n"
     ]
    },
    {
     "name": "stderr",
     "output_type": "stream",
     "text": [
      "\n",
      "Epoch 21/50: 100%|██████████| 5/5 [00:00<00:00, 65.34it/s, loss=2.4976e-02]"
     ]
    },
    {
     "name": "stdout",
     "output_type": "stream",
     "text": [
      "Epoch 20/50, Train Loss: 2.4296e-02, Test Loss: 0.0692\n",
      "Epoch 20/50, Train Accuracy: 90.08%, Test Accuracy: 75.90%\n",
      "Epoch 20/50, Train AUC: 93.76%, Test AUC: 60.38%\n",
      "Classification Report on Val Set : \n",
      "              precision    recall  f1-score   support\n",
      "\n",
      "   No Cancer       0.92      0.80      0.86       260\n",
      "      Cancer       0.07      0.18      0.10        22\n",
      "\n",
      "    accuracy                           0.76       282\n",
      "   macro avg       0.50      0.49      0.48       282\n",
      "weighted avg       0.85      0.76      0.80       282\n",
      "\n"
     ]
    },
    {
     "name": "stderr",
     "output_type": "stream",
     "text": [
      "\n",
      "Epoch 22/50:   0%|          | 0/5 [00:00<?, ?it/s, loss=3.9144e-02]"
     ]
    },
    {
     "name": "stdout",
     "output_type": "stream",
     "text": [
      "Epoch 21/50, Train Loss: 3.1908e-02, Test Loss: 0.0705\n",
      "Epoch 21/50, Train Accuracy: 85.43%, Test Accuracy: 75.40%\n",
      "Epoch 21/50, Train AUC: 92.98%, Test AUC: 59.35%\n",
      "Classification Report on Val Set : \n",
      "              precision    recall  f1-score   support\n",
      "\n",
      "   No Cancer       0.92      0.82      0.86       260\n",
      "      Cancer       0.06      0.14      0.08        22\n",
      "\n",
      "    accuracy                           0.76       282\n",
      "   macro avg       0.49      0.48      0.47       282\n",
      "weighted avg       0.85      0.76      0.80       282\n",
      "\n"
     ]
    },
    {
     "name": "stderr",
     "output_type": "stream",
     "text": [
      "Epoch 22/50: 100%|██████████| 5/5 [00:00<00:00, 48.97it/s, loss=2.5620e-02]\n",
      "Epoch 23/50: 100%|██████████| 5/5 [00:00<00:00, 68.26it/s, loss=2.7960e-02]"
     ]
    },
    {
     "name": "stdout",
     "output_type": "stream",
     "text": [
      "Epoch 22/50, Train Loss: 1.9740e-02, Test Loss: 0.0524\n",
      "Epoch 22/50, Train Accuracy: 88.63%, Test Accuracy: 80.03%\n",
      "Epoch 22/50, Train AUC: 95.64%, Test AUC: 61.64%\n",
      "Classification Report on Val Set : \n",
      "              precision    recall  f1-score   support\n",
      "\n",
      "   No Cancer       0.92      0.83      0.88       260\n",
      "      Cancer       0.09      0.18      0.12        22\n",
      "\n",
      "    accuracy                           0.78       282\n",
      "   macro avg       0.50      0.51      0.50       282\n",
      "weighted avg       0.86      0.78      0.82       282\n",
      "\n"
     ]
    },
    {
     "name": "stderr",
     "output_type": "stream",
     "text": [
      "\n"
     ]
    },
    {
     "name": "stdout",
     "output_type": "stream",
     "text": [
      "Epoch 23/50, Train Loss: 1.6858e-02, Test Loss: 0.0597\n",
      "Epoch 23/50, Train Accuracy: 91.34%, Test Accuracy: 80.29%\n",
      "Epoch 23/50, Train AUC: 96.17%, Test AUC: 56.14%\n",
      "Classification Report on Val Set : \n",
      "              precision    recall  f1-score   support\n",
      "\n",
      "   No Cancer       0.92      0.84      0.88       260\n",
      "      Cancer       0.07      0.14      0.09        22\n",
      "\n",
      "    accuracy                           0.79       282\n",
      "   macro avg       0.49      0.49      0.49       282\n",
      "weighted avg       0.85      0.79      0.82       282\n",
      "\n"
     ]
    },
    {
     "name": "stderr",
     "output_type": "stream",
     "text": [
      "Epoch 24/50: 100%|██████████| 5/5 [00:00<00:00, 78.08it/s, loss=1.9654e-02]\n",
      "Epoch 25/50: 100%|██████████| 5/5 [00:00<00:00, 82.93it/s, loss=2.1679e-02]\n"
     ]
    },
    {
     "name": "stdout",
     "output_type": "stream",
     "text": [
      "Epoch 24/50, Train Loss: 2.0117e-02, Test Loss: 0.0607\n",
      "Epoch 24/50, Train Accuracy: 90.36%, Test Accuracy: 78.51%\n",
      "Epoch 24/50, Train AUC: 95.88%, Test AUC: 57.41%\n",
      "Classification Report on Val Set : \n",
      "              precision    recall  f1-score   support\n",
      "\n",
      "   No Cancer       0.91      0.85      0.88       260\n",
      "      Cancer       0.03      0.05      0.03        22\n",
      "\n",
      "    accuracy                           0.79       282\n",
      "   macro avg       0.47      0.45      0.46       282\n",
      "weighted avg       0.84      0.79      0.82       282\n",
      "\n",
      "Epoch 25/50, Train Loss: 1.7489e-02, Test Loss: 0.0622\n",
      "Epoch 25/50, Train Accuracy: 91.38%, Test Accuracy: 77.98%\n",
      "Epoch 25/50, Train AUC: 95.79%, Test AUC: 61.52%\n",
      "Classification Report on Val Set : \n",
      "              precision    recall  f1-score   support\n",
      "\n",
      "   No Cancer       0.92      0.83      0.88       260\n",
      "      Cancer       0.09      0.18      0.12        22\n",
      "\n",
      "    accuracy                           0.78       282\n",
      "   macro avg       0.50      0.51      0.50       282\n",
      "weighted avg       0.86      0.78      0.82       282\n",
      "\n"
     ]
    },
    {
     "name": "stderr",
     "output_type": "stream",
     "text": [
      "Epoch 26/50: 100%|██████████| 5/5 [00:00<00:00, 60.64it/s, loss=2.4246e-02]\n",
      "Epoch 27/50: 100%|██████████| 5/5 [00:00<00:00, 82.40it/s, loss=1.6333e-02]\n"
     ]
    },
    {
     "name": "stdout",
     "output_type": "stream",
     "text": [
      "Epoch 26/50, Train Loss: 1.7523e-02, Test Loss: 0.0636\n",
      "Epoch 26/50, Train Accuracy: 90.32%, Test Accuracy: 79.01%\n",
      "Epoch 26/50, Train AUC: 96.28%, Test AUC: 60.58%\n",
      "Classification Report on Val Set : \n",
      "              precision    recall  f1-score   support\n",
      "\n",
      "   No Cancer       0.92      0.83      0.88       260\n",
      "      Cancer       0.09      0.18      0.12        22\n",
      "\n",
      "    accuracy                           0.78       282\n",
      "   macro avg       0.50      0.51      0.50       282\n",
      "weighted avg       0.86      0.78      0.82       282\n",
      "\n",
      "Epoch 27/50, Train Loss: 2.0005e-02, Test Loss: 0.0709\n",
      "Epoch 27/50, Train Accuracy: 89.36%, Test Accuracy: 79.01%\n",
      "Epoch 27/50, Train AUC: 95.94%, Test AUC: 57.88%\n",
      "Classification Report on Val Set : \n",
      "              precision    recall  f1-score   support\n",
      "\n",
      "   No Cancer       0.92      0.84      0.88       260\n",
      "      Cancer       0.07      0.14      0.09        22\n",
      "\n",
      "    accuracy                           0.78       282\n",
      "   macro avg       0.49      0.49      0.48       282\n",
      "weighted avg       0.85      0.78      0.82       282\n",
      "\n"
     ]
    },
    {
     "name": "stderr",
     "output_type": "stream",
     "text": [
      "Epoch 28/50: 100%|██████████| 5/5 [00:00<00:00, 49.38it/s, loss=3.6023e-02]\n",
      "Epoch 29/50:   0%|          | 0/5 [00:00<?, ?it/s, loss=2.8297e-02]"
     ]
    },
    {
     "name": "stdout",
     "output_type": "stream",
     "text": [
      "Epoch 28/50, Train Loss: 1.3267e-02, Test Loss: 0.0668\n",
      "Epoch 28/50, Train Accuracy: 93.22%, Test Accuracy: 77.72%\n",
      "Epoch 28/50, Train AUC: 96.87%, Test AUC: 57.73%\n",
      "Classification Report on Val Set : \n",
      "              precision    recall  f1-score   support\n",
      "\n",
      "   No Cancer       0.92      0.83      0.87       260\n",
      "      Cancer       0.07      0.14      0.09        22\n",
      "\n",
      "    accuracy                           0.78       282\n",
      "   macro avg       0.49      0.49      0.48       282\n",
      "weighted avg       0.85      0.78      0.81       282\n",
      "\n"
     ]
    },
    {
     "name": "stderr",
     "output_type": "stream",
     "text": [
      "Epoch 29/50: 100%|██████████| 5/5 [00:00<00:00, 51.59it/s, loss=1.0445e-02]\n",
      "Epoch 30/50: 100%|██████████| 5/5 [00:00<00:00, 56.56it/s, loss=2.1579e-02]"
     ]
    },
    {
     "name": "stdout",
     "output_type": "stream",
     "text": [
      "Epoch 29/50, Train Loss: 1.5383e-02, Test Loss: 0.0655\n",
      "Epoch 29/50, Train Accuracy: 91.00%, Test Accuracy: 76.70%\n",
      "Epoch 29/50, Train AUC: 96.37%, Test AUC: 59.21%\n",
      "Classification Report on Val Set : \n",
      "              precision    recall  f1-score   support\n",
      "\n",
      "   No Cancer       0.92      0.83      0.87       260\n",
      "      Cancer       0.07      0.14      0.09        22\n",
      "\n",
      "    accuracy                           0.78       282\n",
      "   macro avg       0.49      0.49      0.48       282\n",
      "weighted avg       0.85      0.78      0.81       282\n",
      "\n"
     ]
    },
    {
     "name": "stderr",
     "output_type": "stream",
     "text": [
      "\n",
      "Epoch 31/50:   0%|          | 0/5 [00:00<?, ?it/s, loss=2.3537e-02]"
     ]
    },
    {
     "name": "stdout",
     "output_type": "stream",
     "text": [
      "Epoch 30/50, Train Loss: 1.2586e-02, Test Loss: 0.0634\n",
      "Epoch 30/50, Train Accuracy: 94.30%, Test Accuracy: 75.68%\n",
      "Epoch 30/50, Train AUC: 97.08%, Test AUC: 55.12%\n",
      "Classification Report on Val Set : \n",
      "              precision    recall  f1-score   support\n",
      "\n",
      "   No Cancer       0.91      0.84      0.88       260\n",
      "      Cancer       0.02      0.05      0.03        22\n",
      "\n",
      "    accuracy                           0.78       282\n",
      "   macro avg       0.47      0.44      0.45       282\n",
      "weighted avg       0.84      0.78      0.81       282\n",
      "\n"
     ]
    },
    {
     "name": "stderr",
     "output_type": "stream",
     "text": [
      "Epoch 31/50: 100%|██████████| 5/5 [00:00<00:00, 51.17it/s, loss=3.0735e-02]\n",
      "Epoch 32/50: 100%|██████████| 5/5 [00:00<00:00, 62.97it/s, loss=2.6203e-02]\n",
      "Epoch 33/50:   0%|          | 0/5 [00:00<?, ?it/s, loss=1.8967e-02]"
     ]
    },
    {
     "name": "stdout",
     "output_type": "stream",
     "text": [
      "Epoch 31/50, Train Loss: 1.2593e-02, Test Loss: 0.0575\n",
      "Epoch 31/50, Train Accuracy: 93.27%, Test Accuracy: 77.48%\n",
      "Epoch 31/50, Train AUC: 96.70%, Test AUC: 53.55%\n",
      "Classification Report on Val Set : \n",
      "              precision    recall  f1-score   support\n",
      "\n",
      "   No Cancer       0.91      0.85      0.88       260\n",
      "      Cancer       0.03      0.05      0.03        22\n",
      "\n",
      "    accuracy                           0.79       282\n",
      "   macro avg       0.47      0.45      0.46       282\n",
      "weighted avg       0.84      0.79      0.82       282\n",
      "\n",
      "Epoch 32/50, Train Loss: 1.5331e-02, Test Loss: 0.0477\n",
      "Epoch 32/50, Train Accuracy: 90.52%, Test Accuracy: 81.09%\n",
      "Epoch 32/50, Train AUC: 96.67%, Test AUC: 57.12%\n",
      "Classification Report on Val Set : \n",
      "              precision    recall  f1-score   support\n",
      "\n",
      "   No Cancer       0.92      0.87      0.90       260\n",
      "      Cancer       0.06      0.09      0.07        22\n",
      "\n",
      "    accuracy                           0.81       282\n",
      "   macro avg       0.49      0.48      0.48       282\n",
      "weighted avg       0.85      0.81      0.83       282\n",
      "\n"
     ]
    },
    {
     "name": "stderr",
     "output_type": "stream",
     "text": [
      "Epoch 33/50: 100%|██████████| 5/5 [00:00<00:00, 53.73it/s, loss=2.1305e-02]\n",
      "Epoch 34/50: 100%|██████████| 5/5 [00:00<00:00, 61.56it/s, loss=1.9427e-02]\n",
      "Epoch 35/50:   0%|          | 0/5 [00:00<?, ?it/s]"
     ]
    },
    {
     "name": "stdout",
     "output_type": "stream",
     "text": [
      "Epoch 33/50, Train Loss: 1.2487e-02, Test Loss: 0.0554\n",
      "Epoch 33/50, Train Accuracy: 90.85%, Test Accuracy: 83.15%\n",
      "Epoch 33/50, Train AUC: 96.30%, Test AUC: 57.22%\n",
      "Classification Report on Val Set : \n",
      "              precision    recall  f1-score   support\n",
      "\n",
      "   No Cancer       0.93      0.88      0.90       260\n",
      "      Cancer       0.11      0.18      0.14        22\n",
      "\n",
      "    accuracy                           0.83       282\n",
      "   macro avg       0.52      0.53      0.52       282\n",
      "weighted avg       0.86      0.83      0.84       282\n",
      "\n",
      "Epoch 34/50, Train Loss: 9.6883e-03, Test Loss: 0.0556\n",
      "Epoch 34/50, Train Accuracy: 93.05%, Test Accuracy: 81.35%\n",
      "Epoch 34/50, Train AUC: 97.45%, Test AUC: 56.33%\n",
      "Classification Report on Val Set : \n",
      "              precision    recall  f1-score   support\n",
      "\n",
      "   No Cancer       0.92      0.87      0.90       260\n",
      "      Cancer       0.08      0.14      0.10        22\n",
      "\n",
      "    accuracy                           0.82       282\n",
      "   macro avg       0.50      0.50      0.50       282\n",
      "weighted avg       0.86      0.82      0.84       282\n",
      "\n"
     ]
    },
    {
     "name": "stderr",
     "output_type": "stream",
     "text": [
      "Epoch 35/50: 100%|██████████| 5/5 [00:00<00:00, 62.15it/s, loss=3.1539e-02]\n",
      "Epoch 36/50: 100%|██████████| 5/5 [00:00<00:00, 63.21it/s, loss=2.4369e-02]\n",
      "Epoch 37/50:   0%|          | 0/5 [00:00<?, ?it/s, loss=2.3962e-02]"
     ]
    },
    {
     "name": "stdout",
     "output_type": "stream",
     "text": [
      "Epoch 35/50, Train Loss: 1.2712e-02, Test Loss: 0.0620\n",
      "Epoch 35/50, Train Accuracy: 92.06%, Test Accuracy: 79.55%\n",
      "Epoch 35/50, Train AUC: 96.48%, Test AUC: 56.92%\n",
      "Classification Report on Val Set : \n",
      "              precision    recall  f1-score   support\n",
      "\n",
      "   No Cancer       0.92      0.86      0.89       260\n",
      "      Cancer       0.08      0.14      0.10        22\n",
      "\n",
      "    accuracy                           0.80       282\n",
      "   macro avg       0.50      0.50      0.49       282\n",
      "weighted avg       0.86      0.80      0.83       282\n",
      "\n",
      "Epoch 36/50, Train Loss: 1.1400e-02, Test Loss: 0.0683\n",
      "Epoch 36/50, Train Accuracy: 93.97%, Test Accuracy: 77.46%\n",
      "Epoch 36/50, Train AUC: 97.17%, Test AUC: 52.69%\n",
      "Classification Report on Val Set : \n",
      "              precision    recall  f1-score   support\n",
      "\n",
      "   No Cancer       0.92      0.83      0.87       260\n",
      "      Cancer       0.04      0.09      0.06        22\n",
      "\n",
      "    accuracy                           0.78       282\n",
      "   macro avg       0.48      0.46      0.47       282\n",
      "weighted avg       0.85      0.78      0.81       282\n",
      "\n"
     ]
    },
    {
     "name": "stderr",
     "output_type": "stream",
     "text": [
      "Epoch 37/50: 100%|██████████| 5/5 [00:00<00:00, 62.84it/s, loss=2.3867e-02]\n",
      "Epoch 38/50: 100%|██████████| 5/5 [00:00<00:00, 63.92it/s, loss=1.6436e-02]\n",
      "Epoch 39/50:   0%|          | 0/5 [00:00<?, ?it/s]"
     ]
    },
    {
     "name": "stdout",
     "output_type": "stream",
     "text": [
      "Epoch 37/50, Train Loss: 1.0131e-02, Test Loss: 0.0789\n",
      "Epoch 37/50, Train Accuracy: 92.74%, Test Accuracy: 75.18%\n",
      "Epoch 37/50, Train AUC: 97.37%, Test AUC: 54.07%\n",
      "Classification Report on Val Set : \n",
      "              precision    recall  f1-score   support\n",
      "\n",
      "   No Cancer       0.91      0.85      0.88       260\n",
      "      Cancer       0.03      0.05      0.03        22\n",
      "\n",
      "    accuracy                           0.79       282\n",
      "   macro avg       0.47      0.45      0.46       282\n",
      "weighted avg       0.84      0.79      0.81       282\n",
      "\n",
      "Epoch 38/50, Train Loss: 8.7494e-03, Test Loss: 0.0639\n",
      "Epoch 38/50, Train Accuracy: 94.64%, Test Accuracy: 79.05%\n",
      "Epoch 38/50, Train AUC: 97.87%, Test AUC: 51.71%\n",
      "Classification Report on Val Set : \n",
      "              precision    recall  f1-score   support\n",
      "\n",
      "   No Cancer       0.92      0.87      0.90       260\n",
      "      Cancer       0.06      0.09      0.07        22\n",
      "\n",
      "    accuracy                           0.81       282\n",
      "   macro avg       0.49      0.48      0.48       282\n",
      "weighted avg       0.85      0.81      0.83       282\n",
      "\n"
     ]
    },
    {
     "name": "stderr",
     "output_type": "stream",
     "text": [
      "Epoch 39/50: 100%|██████████| 5/5 [00:00<00:00, 58.39it/s, loss=1.0727e-02]\n",
      "Epoch 40/50: 100%|██████████| 5/5 [00:00<00:00, 62.64it/s, loss=1.3490e-02]\n",
      "Epoch 41/50:   0%|          | 0/5 [00:00<?, ?it/s, loss=8.5747e-03]"
     ]
    },
    {
     "name": "stdout",
     "output_type": "stream",
     "text": [
      "Epoch 39/50, Train Loss: 1.0525e-02, Test Loss: 0.0525\n",
      "Epoch 39/50, Train Accuracy: 92.61%, Test Accuracy: 81.87%\n",
      "Epoch 39/50, Train AUC: 96.39%, Test AUC: 54.25%\n",
      "Classification Report on Val Set : \n",
      "              precision    recall  f1-score   support\n",
      "\n",
      "   No Cancer       0.92      0.89      0.90       260\n",
      "      Cancer       0.03      0.05      0.04        22\n",
      "\n",
      "    accuracy                           0.82       282\n",
      "   macro avg       0.47      0.47      0.47       282\n",
      "weighted avg       0.85      0.82      0.83       282\n",
      "\n",
      "Epoch 40/50, Train Loss: 7.7166e-03, Test Loss: 0.0655\n",
      "Epoch 40/50, Train Accuracy: 93.52%, Test Accuracy: 80.33%\n",
      "Epoch 40/50, Train AUC: 98.29%, Test AUC: 55.38%\n",
      "Classification Report on Val Set : \n",
      "              precision    recall  f1-score   support\n",
      "\n",
      "   No Cancer       0.92      0.88      0.90       260\n",
      "      Cancer       0.03      0.05      0.04        22\n",
      "\n",
      "    accuracy                           0.82       282\n",
      "   macro avg       0.47      0.46      0.47       282\n",
      "weighted avg       0.85      0.82      0.83       282\n",
      "\n"
     ]
    },
    {
     "name": "stderr",
     "output_type": "stream",
     "text": [
      "Epoch 41/50: 100%|██████████| 5/5 [00:00<00:00, 63.86it/s, loss=2.2794e-02]\n",
      "Epoch 42/50: 100%|██████████| 5/5 [00:00<00:00, 62.54it/s, loss=5.6408e-03]\n"
     ]
    },
    {
     "name": "stdout",
     "output_type": "stream",
     "text": [
      "Epoch 41/50, Train Loss: 8.8990e-03, Test Loss: 0.0724\n",
      "Epoch 41/50, Train Accuracy: 94.44%, Test Accuracy: 79.05%\n",
      "Epoch 41/50, Train AUC: 97.58%, Test AUC: 51.40%\n",
      "Classification Report on Val Set : \n",
      "              precision    recall  f1-score   support\n",
      "\n",
      "   No Cancer       0.92      0.88      0.90       260\n",
      "      Cancer       0.03      0.05      0.04        22\n",
      "\n",
      "    accuracy                           0.81       282\n",
      "   macro avg       0.47      0.46      0.47       282\n",
      "weighted avg       0.85      0.81      0.83       282\n",
      "\n",
      "Epoch 42/50, Train Loss: 7.3742e-03, Test Loss: 0.0778\n",
      "Epoch 42/50, Train Accuracy: 93.72%, Test Accuracy: 80.07%\n",
      "Epoch 42/50, Train AUC: 98.14%, Test AUC: 51.42%\n",
      "Classification Report on Val Set : \n",
      "              precision    recall  f1-score   support\n",
      "\n",
      "   No Cancer       0.92      0.88      0.90       260\n",
      "      Cancer       0.03      0.05      0.04        22\n",
      "\n",
      "    accuracy                           0.81       282\n",
      "   macro avg       0.47      0.46      0.47       282\n",
      "weighted avg       0.85      0.81      0.83       282\n",
      "\n"
     ]
    },
    {
     "name": "stderr",
     "output_type": "stream",
     "text": [
      "Epoch 43/50: 100%|██████████| 5/5 [00:00<00:00, 55.89it/s, loss=1.4305e-02]\n",
      "Epoch 44/50: 100%|██████████| 5/5 [00:00<00:00, 63.82it/s, loss=1.0096e-02]\n"
     ]
    },
    {
     "name": "stdout",
     "output_type": "stream",
     "text": [
      "Epoch 43/50, Train Loss: 9.6346e-03, Test Loss: 0.0859\n",
      "Epoch 43/50, Train Accuracy: 92.39%, Test Accuracy: 80.83%\n",
      "Epoch 43/50, Train AUC: 97.35%, Test AUC: 48.88%\n",
      "Classification Report on Val Set : \n",
      "              precision    recall  f1-score   support\n",
      "\n",
      "   No Cancer       0.92      0.87      0.89       260\n",
      "      Cancer       0.06      0.09      0.07        22\n",
      "\n",
      "    accuracy                           0.81       282\n",
      "   macro avg       0.49      0.48      0.48       282\n",
      "weighted avg       0.85      0.81      0.83       282\n",
      "\n",
      "Epoch 44/50, Train Loss: 8.9060e-03, Test Loss: 0.0712\n",
      "Epoch 44/50, Train Accuracy: 92.86%, Test Accuracy: 81.09%\n",
      "Epoch 44/50, Train AUC: 97.72%, Test AUC: 53.04%\n",
      "Classification Report on Val Set : \n",
      "              precision    recall  f1-score   support\n",
      "\n",
      "   No Cancer       0.92      0.87      0.90       260\n",
      "      Cancer       0.06      0.09      0.07        22\n",
      "\n",
      "    accuracy                           0.81       282\n",
      "   macro avg       0.49      0.48      0.48       282\n",
      "weighted avg       0.85      0.81      0.83       282\n",
      "\n"
     ]
    },
    {
     "name": "stderr",
     "output_type": "stream",
     "text": [
      "Epoch 45/50: 100%|██████████| 5/5 [00:00<00:00, 67.39it/s, loss=1.6059e-02]\n",
      "Epoch 46/50: 100%|██████████| 5/5 [00:00<00:00, 56.52it/s, loss=9.4046e-03]\n",
      "Epoch 47/50:   0%|          | 0/5 [00:00<?, ?it/s]"
     ]
    },
    {
     "name": "stdout",
     "output_type": "stream",
     "text": [
      "Epoch 45/50, Train Loss: 7.6739e-03, Test Loss: 0.0564\n",
      "Epoch 45/50, Train Accuracy: 91.94%, Test Accuracy: 81.09%\n",
      "Epoch 45/50, Train AUC: 97.89%, Test AUC: 58.81%\n",
      "Classification Report on Val Set : \n",
      "              precision    recall  f1-score   support\n",
      "\n",
      "   No Cancer       0.92      0.87      0.90       260\n",
      "      Cancer       0.06      0.09      0.07        22\n",
      "\n",
      "    accuracy                           0.81       282\n",
      "   macro avg       0.49      0.48      0.48       282\n",
      "weighted avg       0.85      0.81      0.83       282\n",
      "\n",
      "Epoch 46/50, Train Loss: 4.3887e-03, Test Loss: 0.0633\n",
      "Epoch 46/50, Train Accuracy: 97.17%, Test Accuracy: 79.31%\n",
      "Epoch 46/50, Train AUC: 98.51%, Test AUC: 56.43%\n",
      "Classification Report on Val Set : \n",
      "              precision    recall  f1-score   support\n",
      "\n",
      "   No Cancer       0.92      0.88      0.90       260\n",
      "      Cancer       0.06      0.09      0.07        22\n",
      "\n",
      "    accuracy                           0.82       282\n",
      "   macro avg       0.49      0.48      0.48       282\n",
      "weighted avg       0.85      0.82      0.83       282\n",
      "\n"
     ]
    },
    {
     "name": "stderr",
     "output_type": "stream",
     "text": [
      "Epoch 47/50: 100%|██████████| 5/5 [00:00<00:00, 58.12it/s, loss=2.6733e-03]\n",
      "Epoch 48/50: 100%|██████████| 5/5 [00:00<00:00, 56.49it/s, loss=1.4391e-02]\n",
      "Epoch 49/50:   0%|          | 0/5 [00:00<?, ?it/s]"
     ]
    },
    {
     "name": "stdout",
     "output_type": "stream",
     "text": [
      "Epoch 47/50, Train Loss: 5.6826e-03, Test Loss: 0.0579\n",
      "Epoch 47/50, Train Accuracy: 94.34%, Test Accuracy: 79.29%\n",
      "Epoch 47/50, Train AUC: 97.89%, Test AUC: 56.84%\n",
      "Classification Report on Val Set : \n",
      "              precision    recall  f1-score   support\n",
      "\n",
      "   No Cancer       0.92      0.86      0.89       260\n",
      "      Cancer       0.07      0.14      0.10        22\n",
      "\n",
      "    accuracy                           0.80       282\n",
      "   macro avg       0.50      0.50      0.49       282\n",
      "weighted avg       0.86      0.80      0.83       282\n",
      "\n",
      "Epoch 48/50, Train Loss: 6.1912e-03, Test Loss: 0.0789\n",
      "Epoch 48/50, Train Accuracy: 95.75%, Test Accuracy: 77.50%\n",
      "Epoch 48/50, Train AUC: 98.10%, Test AUC: 53.23%\n",
      "Classification Report on Val Set : \n",
      "              precision    recall  f1-score   support\n",
      "\n",
      "   No Cancer       0.91      0.87      0.89       260\n",
      "      Cancer       0.03      0.05      0.04        22\n",
      "\n",
      "    accuracy                           0.80       282\n",
      "   macro avg       0.47      0.46      0.46       282\n",
      "weighted avg       0.85      0.80      0.82       282\n",
      "\n"
     ]
    },
    {
     "name": "stderr",
     "output_type": "stream",
     "text": [
      "Epoch 49/50: 100%|██████████| 5/5 [00:00<00:00, 58.05it/s, loss=1.4238e-02]\n",
      "Epoch 50/50: 100%|██████████| 5/5 [00:00<00:00, 57.33it/s, loss=9.8304e-03]\n"
     ]
    },
    {
     "name": "stdout",
     "output_type": "stream",
     "text": [
      "Epoch 49/50, Train Loss: 5.9555e-03, Test Loss: 0.0743\n",
      "Epoch 49/50, Train Accuracy: 95.77%, Test Accuracy: 81.35%\n",
      "Epoch 49/50, Train AUC: 98.43%, Test AUC: 53.13%\n",
      "Classification Report on Val Set : \n",
      "              precision    recall  f1-score   support\n",
      "\n",
      "   No Cancer       0.92      0.88      0.90       260\n",
      "      Cancer       0.06      0.09      0.07        22\n",
      "\n",
      "    accuracy                           0.82       282\n",
      "   macro avg       0.49      0.48      0.48       282\n",
      "weighted avg       0.85      0.82      0.83       282\n",
      "\n",
      "Epoch 50/50, Train Loss: 5.8518e-03, Test Loss: 0.0837\n",
      "Epoch 50/50, Train Accuracy: 95.44%, Test Accuracy: 78.79%\n",
      "Epoch 50/50, Train AUC: 98.23%, Test AUC: 51.71%\n",
      "Classification Report on Val Set : \n",
      "              precision    recall  f1-score   support\n",
      "\n",
      "   No Cancer       0.92      0.87      0.89       260\n",
      "      Cancer       0.06      0.09      0.07        22\n",
      "\n",
      "    accuracy                           0.81       282\n",
      "   macro avg       0.49      0.48      0.48       282\n",
      "weighted avg       0.85      0.81      0.83       282\n",
      "\n",
      "\n",
      "Finished.\n",
      "Best validation AUC: 6.6783e-01\n",
      "With accuracy: 0.7720352609952291\n"
     ]
    }
   ],
   "source": [
    "# Beginnig Of Transfer Learnig Procedure\n",
    "net = fine_tune_mlp(pretrained)\n",
    "net = net.to(device).double()\n",
    "criterion = FocalLoss().to(device)\n",
    "optimizer = optim.Adam(net.parameters(), lr=vae_mlp_args['lr_ft'])\n",
    "savepath = Path('/tempory/transcriptomic_data/fine_tuned_mlp_vae_checkpt.pt')\n",
    "checkpoint = CheckpointState(net, optimizer, savepath=savepath)\n",
    "fit(checkpoint, criterion, lung_dataloader_train, lung_dataloader_validation, vae_mlp_args['epochs'], embedding_computer=vae)"
   ]
  },
  {
   "cell_type": "code",
   "execution_count": null,
   "metadata": {},
   "outputs": [],
   "source": []
  }
 ],
 "metadata": {
  "kernelspec": {
   "display_name": "Python 3",
   "language": "python",
   "name": "python3"
  },
  "language_info": {
   "codemirror_mode": {
    "name": "ipython",
    "version": 3
   },
   "file_extension": ".py",
   "mimetype": "text/x-python",
   "name": "python",
   "nbconvert_exporter": "python",
   "pygments_lexer": "ipython3",
   "version": "3.6.9"
  }
 },
 "nbformat": 4,
 "nbformat_minor": 4
}
