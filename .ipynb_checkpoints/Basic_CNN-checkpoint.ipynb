{
 "cells": [
  {
   "cell_type": "markdown",
   "metadata": {},
   "source": [
    "# **Deep Learning For Lung Cancer Prediction Based on Transcriptomic Data : a Basic Convolutional Neural Network with Transfer Learning**\n",
    "> Author : **Aymen MERROUCHE**. <br>\n",
    "> In this notebook, we implement a basic CNN for our binary classification task. First we pre train our CNN on the non Lung cancer dataset. Then, in a transfer learning approach, we fine tune it on the lung cancer dataset (we don't freeze the convolutional layers, and we don't keep the dense layers meaninig that only the convolutional layers are kept) :"
   ]
  },
  {
   "cell_type": "code",
   "execution_count": 1,
   "metadata": {},
   "outputs": [],
   "source": [
    "import torch\n",
    "import torch.nn as nn\n",
    "from torch.nn import functional as F\n",
    "import numpy as np\n",
    "import datetime\n",
    "\n",
    "from utils import *\n",
    "from train import *\n",
    "from data_utils import *\n",
    "from modules.basic_cnn import *\n",
    "from modules.focal_loss import *\n",
    "%load_ext autoreload\n",
    "%autoreload 2"
   ]
  },
  {
   "cell_type": "code",
   "execution_count": null,
   "metadata": {},
   "outputs": [],
   "source": [
    "import warnings\n",
    "warnings.filterwarnings('always')"
   ]
  },
  {
   "cell_type": "code",
   "execution_count": 2,
   "metadata": {},
   "outputs": [
    {
     "name": "stdout",
     "output_type": "stream",
     "text": [
      "Working on :  cuda\n"
     ]
    }
   ],
   "source": [
    "# device to use, if cuda available then use cuda else use cpu\n",
    "device = torch.device('cuda' if torch.cuda.is_available() else 'cpu')\n",
    "print(\"Working on : \", device)"
   ]
  },
  {
   "cell_type": "code",
   "execution_count": 3,
   "metadata": {},
   "outputs": [],
   "source": [
    "# load hyperparametrs\n",
    "# data paths args\n",
    "with open('./configs/data_paths.yaml', 'r') as stream:\n",
    "    data_paths_args  = yaml.load(stream,Loader=yaml.Loader)\n",
    "    \n",
    "    \n",
    "# basic cnn args\n",
    "with open('./configs/basic_cnn.yaml', 'r') as stream:\n",
    "    basic_cnn_args  = yaml.load(stream,Loader=yaml.Loader)"
   ]
  },
  {
   "cell_type": "markdown",
   "metadata": {},
   "source": [
    "## **1 - Pre-Training on the Non Lung Dataset :**"
   ]
  },
  {
   "cell_type": "markdown",
   "metadata": {},
   "source": [
    "### **1 - 1 - Get the Data :**"
   ]
  },
  {
   "cell_type": "code",
   "execution_count": 4,
   "metadata": {},
   "outputs": [
    {
     "name": "stdout",
     "output_type": "stream",
     "text": [
      "CPU times: user 4.82 s, sys: 1.04 s, total: 5.86 s\n",
      "Wall time: 3.11 s\n"
     ]
    }
   ],
   "source": [
    "%%time\n",
    "# Getting the data\n",
    "# dataset\n",
    "non_lung_dataset = TranscriptomicImagesDatasetNonLung(data_paths_args[\"path_to_pan_cancer_hdf5_files\"], data_paths_args[\"path_to_treemap_images\"])\n",
    "non_lung_dataloader_train, non_lung_dataloader_validation = get_data_loaders(non_lung_dataset, batch_size_train = basic_cnn_args[\"batch_size_pt\"],\\\n",
    "                                                                             batch_size_validation = basic_cnn_args[\"batch_size_pt\"])"
   ]
  },
  {
   "cell_type": "markdown",
   "metadata": {},
   "source": [
    "### **1 - 2 - Network, Criterion and Training :**"
   ]
  },
  {
   "cell_type": "code",
   "execution_count": 5,
   "metadata": {},
   "outputs": [
    {
     "name": "stderr",
     "output_type": "stream",
     "text": [
      "Epoch 1/50:   0%|          | 0/41 [00:00<?, ?it/s, loss=2.3246e-01]"
     ]
    },
    {
     "name": "stdout",
     "output_type": "stream",
     "text": [
      "Experimenting with : \n",
      " \tepochs=50_batch_size_pt=128_lr_pt=0.001_batch_size_ft=128_lr_ft=0.001_no_tensorboard=True\n",
      "Training on GPU \n",
      "\n"
     ]
    },
    {
     "name": "stderr",
     "output_type": "stream",
     "text": [
      "Epoch 1/50: 100%|██████████| 41/41 [00:12<00:00,  3.23it/s, loss=1.5731e-01]\n",
      "/users/Etu3/3802993/.local/lib/python3.7/site-packages/sklearn/metrics/_classification.py:1245: UndefinedMetricWarning: Precision and F-score are ill-defined and being set to 0.0 in labels with no predicted samples. Use `zero_division` parameter to control this behavior.\n",
      "  _warn_prf(average, modifier, msg_start, len(result))\n",
      "/users/Etu3/3802993/.local/lib/python3.7/site-packages/sklearn/metrics/_classification.py:1245: UndefinedMetricWarning: Precision and F-score are ill-defined and being set to 0.0 in labels with no predicted samples. Use `zero_division` parameter to control this behavior.\n",
      "  _warn_prf(average, modifier, msg_start, len(result))\n",
      "/users/Etu3/3802993/.local/lib/python3.7/site-packages/sklearn/metrics/_classification.py:1245: UndefinedMetricWarning: Precision and F-score are ill-defined and being set to 0.0 in labels with no predicted samples. Use `zero_division` parameter to control this behavior.\n",
      "  _warn_prf(average, modifier, msg_start, len(result))\n"
     ]
    },
    {
     "name": "stdout",
     "output_type": "stream",
     "text": [
      "Epoch 1/50, Train Loss: 1.9766e-01, Test Loss: 0.0717\n",
      "Epoch 1/50, Train Accuracy: 50.30%, Test Accuracy: 88.36%\n",
      "Epoch 1/50, Train AUC: 53.44%, Test AUC: 52.26%\n",
      "Classification Report on Val Set : \n",
      "              precision    recall  f1-score   support\n",
      "\n",
      "   No Cancer       0.88      1.00      0.94      2248\n",
      "      Cancer       0.00      0.00      0.00       295\n",
      "\n",
      "    accuracy                           0.88      2543\n",
      "   macro avg       0.44      0.50      0.47      2543\n",
      "weighted avg       0.78      0.88      0.83      2543\n",
      "\n"
     ]
    },
    {
     "name": "stderr",
     "output_type": "stream",
     "text": [
      "Epoch 2/50: 100%|██████████| 41/41 [00:12<00:00,  3.25it/s, loss=1.7521e-01]\n",
      "/users/Etu3/3802993/.local/lib/python3.7/site-packages/sklearn/metrics/_classification.py:1245: UndefinedMetricWarning: Precision and F-score are ill-defined and being set to 0.0 in labels with no predicted samples. Use `zero_division` parameter to control this behavior.\n",
      "  _warn_prf(average, modifier, msg_start, len(result))\n",
      "/users/Etu3/3802993/.local/lib/python3.7/site-packages/sklearn/metrics/_classification.py:1245: UndefinedMetricWarning: Precision and F-score are ill-defined and being set to 0.0 in labels with no predicted samples. Use `zero_division` parameter to control this behavior.\n",
      "  _warn_prf(average, modifier, msg_start, len(result))\n",
      "/users/Etu3/3802993/.local/lib/python3.7/site-packages/sklearn/metrics/_classification.py:1245: UndefinedMetricWarning: Precision and F-score are ill-defined and being set to 0.0 in labels with no predicted samples. Use `zero_division` parameter to control this behavior.\n",
      "  _warn_prf(average, modifier, msg_start, len(result))\n",
      "/users/Etu3/3802993/.local/lib/python3.7/site-packages/sklearn/metrics/_classification.py:1245: UndefinedMetricWarning: Precision and F-score are ill-defined and being set to 0.0 in labels with no predicted samples. Use `zero_division` parameter to control this behavior.\n",
      "  _warn_prf(average, modifier, msg_start, len(result))\n",
      "/users/Etu3/3802993/.local/lib/python3.7/site-packages/sklearn/metrics/_classification.py:1245: UndefinedMetricWarning: Precision and F-score are ill-defined and being set to 0.0 in labels with no predicted samples. Use `zero_division` parameter to control this behavior.\n",
      "  _warn_prf(average, modifier, msg_start, len(result))\n",
      "/users/Etu3/3802993/.local/lib/python3.7/site-packages/sklearn/metrics/_classification.py:1245: UndefinedMetricWarning: Precision and F-score are ill-defined and being set to 0.0 in labels with no predicted samples. Use `zero_division` parameter to control this behavior.\n",
      "  _warn_prf(average, modifier, msg_start, len(result))\n"
     ]
    },
    {
     "name": "stdout",
     "output_type": "stream",
     "text": [
      "Epoch 2/50, Train Loss: 2.8184e-01, Test Loss: 0.0369\n",
      "Epoch 2/50, Train Accuracy: 49.51%, Test Accuracy: 88.40%\n",
      "Epoch 2/50, Train AUC: 62.64%, Test AUC: 62.04%\n",
      "Classification Report on Val Set : \n",
      "              precision    recall  f1-score   support\n",
      "\n",
      "   No Cancer       0.88      1.00      0.94      2248\n",
      "      Cancer       0.00      0.00      0.00       295\n",
      "\n",
      "    accuracy                           0.88      2543\n",
      "   macro avg       0.44      0.50      0.47      2543\n",
      "weighted avg       0.78      0.88      0.83      2543\n",
      "\n"
     ]
    },
    {
     "name": "stderr",
     "output_type": "stream",
     "text": [
      "Epoch 3/50: 100%|██████████| 41/41 [00:12<00:00,  3.21it/s, loss=1.2801e-01]\n"
     ]
    },
    {
     "name": "stdout",
     "output_type": "stream",
     "text": [
      "Epoch 3/50, Train Loss: 2.3543e-01, Test Loss: 0.0346\n",
      "Epoch 3/50, Train Accuracy: 48.66%, Test Accuracy: 88.40%\n",
      "Epoch 3/50, Train AUC: 76.09%, Test AUC: 72.97%\n",
      "Classification Report on Val Set : \n",
      "              precision    recall  f1-score   support\n",
      "\n",
      "   No Cancer       0.88      1.00      0.94      2248\n",
      "      Cancer       0.50      0.00      0.01       295\n",
      "\n",
      "    accuracy                           0.88      2543\n",
      "   macro avg       0.69      0.50      0.47      2543\n",
      "weighted avg       0.84      0.88      0.83      2543\n",
      "\n"
     ]
    },
    {
     "name": "stderr",
     "output_type": "stream",
     "text": [
      "Epoch 4/50: 100%|██████████| 41/41 [00:12<00:00,  3.20it/s, loss=1.3600e-01]\n"
     ]
    },
    {
     "name": "stdout",
     "output_type": "stream",
     "text": [
      "Epoch 4/50, Train Loss: 1.9088e-01, Test Loss: 0.0344\n",
      "Epoch 4/50, Train Accuracy: 53.33%, Test Accuracy: 88.52%\n",
      "Epoch 4/50, Train AUC: 77.85%, Test AUC: 74.16%\n",
      "Classification Report on Val Set : \n",
      "              precision    recall  f1-score   support\n",
      "\n",
      "   No Cancer       0.89      0.99      0.94      2248\n",
      "      Cancer       0.53      0.09      0.15       295\n",
      "\n",
      "    accuracy                           0.89      2543\n",
      "   macro avg       0.71      0.54      0.54      2543\n",
      "weighted avg       0.85      0.89      0.85      2543\n",
      "\n"
     ]
    },
    {
     "name": "stderr",
     "output_type": "stream",
     "text": [
      "Epoch 5/50: 100%|██████████| 41/41 [00:12<00:00,  3.19it/s, loss=1.1675e-01]\n"
     ]
    },
    {
     "name": "stdout",
     "output_type": "stream",
     "text": [
      "Epoch 5/50, Train Loss: 1.6235e-01, Test Loss: 0.0331\n",
      "Epoch 5/50, Train Accuracy: 57.37%, Test Accuracy: 87.96%\n",
      "Epoch 5/50, Train AUC: 81.39%, Test AUC: 74.62%\n",
      "Classification Report on Val Set : \n",
      "              precision    recall  f1-score   support\n",
      "\n",
      "   No Cancer       0.89      0.98      0.94      2248\n",
      "      Cancer       0.43      0.12      0.18       295\n",
      "\n",
      "    accuracy                           0.88      2543\n",
      "   macro avg       0.66      0.55      0.56      2543\n",
      "weighted avg       0.84      0.88      0.85      2543\n",
      "\n"
     ]
    },
    {
     "name": "stderr",
     "output_type": "stream",
     "text": [
      "Epoch 6/50: 100%|██████████| 41/41 [00:12<00:00,  3.18it/s, loss=1.4332e-01]\n"
     ]
    },
    {
     "name": "stdout",
     "output_type": "stream",
     "text": [
      "Epoch 6/50, Train Loss: 9.8167e-02, Test Loss: 0.0910\n",
      "Epoch 6/50, Train Accuracy: 72.82%, Test Accuracy: 71.25%\n",
      "Epoch 6/50, Train AUC: 81.13%, Test AUC: 74.16%\n",
      "Classification Report on Val Set : \n",
      "              precision    recall  f1-score   support\n",
      "\n",
      "   No Cancer       0.94      0.72      0.82      2248\n",
      "      Cancer       0.23      0.62      0.33       295\n",
      "\n",
      "    accuracy                           0.71      2543\n",
      "   macro avg       0.58      0.67      0.57      2543\n",
      "weighted avg       0.85      0.71      0.76      2543\n",
      "\n"
     ]
    },
    {
     "name": "stderr",
     "output_type": "stream",
     "text": [
      "Epoch 7/50: 100%|██████████| 41/41 [00:13<00:00,  3.15it/s, loss=1.4261e-01]\n"
     ]
    },
    {
     "name": "stdout",
     "output_type": "stream",
     "text": [
      "Epoch 7/50, Train Loss: 1.0106e-01, Test Loss: 0.1311\n",
      "Epoch 7/50, Train Accuracy: 73.71%, Test Accuracy: 61.07%\n",
      "Epoch 7/50, Train AUC: 81.43%, Test AUC: 74.13%\n",
      "Classification Report on Val Set : \n",
      "              precision    recall  f1-score   support\n",
      "\n",
      "   No Cancer       0.95      0.59      0.73      2248\n",
      "      Cancer       0.19      0.75      0.31       295\n",
      "\n",
      "    accuracy                           0.61      2543\n",
      "   macro avg       0.57      0.67      0.52      2543\n",
      "weighted avg       0.86      0.61      0.68      2543\n",
      "\n"
     ]
    },
    {
     "name": "stderr",
     "output_type": "stream",
     "text": [
      "Epoch 8/50: 100%|██████████| 41/41 [00:12<00:00,  3.16it/s, loss=1.0295e-01]\n"
     ]
    },
    {
     "name": "stdout",
     "output_type": "stream",
     "text": [
      "Epoch 8/50, Train Loss: 9.5416e-02, Test Loss: 0.1436\n",
      "Epoch 8/50, Train Accuracy: 73.48%, Test Accuracy: 58.51%\n",
      "Epoch 8/50, Train AUC: 83.11%, Test AUC: 75.29%\n",
      "Classification Report on Val Set : \n",
      "              precision    recall  f1-score   support\n",
      "\n",
      "   No Cancer       0.96      0.56      0.70      2248\n",
      "      Cancer       0.19      0.81      0.31       295\n",
      "\n",
      "    accuracy                           0.58      2543\n",
      "   macro avg       0.57      0.68      0.51      2543\n",
      "weighted avg       0.87      0.58      0.66      2543\n",
      "\n"
     ]
    },
    {
     "name": "stderr",
     "output_type": "stream",
     "text": [
      "Epoch 9/50: 100%|██████████| 41/41 [00:13<00:00,  3.15it/s, loss=6.0268e-02]\n"
     ]
    },
    {
     "name": "stdout",
     "output_type": "stream",
     "text": [
      "Epoch 9/50, Train Loss: 9.6300e-02, Test Loss: 0.1785\n",
      "Epoch 9/50, Train Accuracy: 72.50%, Test Accuracy: 54.08%\n",
      "Epoch 9/50, Train AUC: 83.81%, Test AUC: 75.06%\n",
      "Classification Report on Val Set : \n",
      "              precision    recall  f1-score   support\n",
      "\n",
      "   No Cancer       0.96      0.50      0.66      2248\n",
      "      Cancer       0.18      0.83      0.30       295\n",
      "\n",
      "    accuracy                           0.54      2543\n",
      "   macro avg       0.57      0.67      0.48      2543\n",
      "weighted avg       0.87      0.54      0.62      2543\n",
      "\n"
     ]
    },
    {
     "name": "stderr",
     "output_type": "stream",
     "text": [
      "Epoch 10/50: 100%|██████████| 41/41 [00:12<00:00,  3.16it/s, loss=1.1709e-01]\n"
     ]
    },
    {
     "name": "stdout",
     "output_type": "stream",
     "text": [
      "Epoch 10/50, Train Loss: 8.2021e-02, Test Loss: 0.1316\n",
      "Epoch 10/50, Train Accuracy: 75.72%, Test Accuracy: 62.26%\n",
      "Epoch 10/50, Train AUC: 84.62%, Test AUC: 75.21%\n",
      "Classification Report on Val Set : \n",
      "              precision    recall  f1-score   support\n",
      "\n",
      "   No Cancer       0.95      0.61      0.74      2248\n",
      "      Cancer       0.20      0.73      0.31       295\n",
      "\n",
      "    accuracy                           0.62      2543\n",
      "   macro avg       0.57      0.67      0.52      2543\n",
      "weighted avg       0.86      0.62      0.69      2543\n",
      "\n"
     ]
    },
    {
     "name": "stderr",
     "output_type": "stream",
     "text": [
      "Epoch 11/50: 100%|██████████| 41/41 [00:13<00:00,  3.15it/s, loss=7.8858e-02]\n"
     ]
    },
    {
     "name": "stdout",
     "output_type": "stream",
     "text": [
      "Epoch 11/50, Train Loss: 9.6006e-02, Test Loss: 0.2015\n",
      "Epoch 11/50, Train Accuracy: 71.84%, Test Accuracy: 50.98%\n",
      "Epoch 11/50, Train AUC: 85.36%, Test AUC: 75.23%\n",
      "Classification Report on Val Set : \n",
      "              precision    recall  f1-score   support\n",
      "\n",
      "   No Cancer       0.96      0.46      0.63      2248\n",
      "      Cancer       0.17      0.86      0.29       295\n",
      "\n",
      "    accuracy                           0.51      2543\n",
      "   macro avg       0.57      0.66      0.46      2543\n",
      "weighted avg       0.87      0.51      0.59      2543\n",
      "\n"
     ]
    },
    {
     "name": "stderr",
     "output_type": "stream",
     "text": [
      "Epoch 12/50: 100%|██████████| 41/41 [00:12<00:00,  3.16it/s, loss=5.8749e-02]\n"
     ]
    },
    {
     "name": "stdout",
     "output_type": "stream",
     "text": [
      "Epoch 12/50, Train Loss: 8.5243e-02, Test Loss: 0.1750\n",
      "Epoch 12/50, Train Accuracy: 74.45%, Test Accuracy: 55.12%\n",
      "Epoch 12/50, Train AUC: 87.11%, Test AUC: 75.69%\n",
      "Classification Report on Val Set : \n",
      "              precision    recall  f1-score   support\n",
      "\n",
      "   No Cancer       0.96      0.52      0.67      2248\n",
      "      Cancer       0.18      0.82      0.30       295\n",
      "\n",
      "    accuracy                           0.55      2543\n",
      "   macro avg       0.57      0.67      0.48      2543\n",
      "weighted avg       0.87      0.55      0.63      2543\n",
      "\n"
     ]
    },
    {
     "name": "stderr",
     "output_type": "stream",
     "text": [
      "Epoch 13/50: 100%|██████████| 41/41 [00:13<00:00,  3.15it/s, loss=1.1002e-01]\n"
     ]
    },
    {
     "name": "stdout",
     "output_type": "stream",
     "text": [
      "Epoch 13/50, Train Loss: 7.2285e-02, Test Loss: 0.1409\n",
      "Epoch 13/50, Train Accuracy: 78.56%, Test Accuracy: 61.11%\n",
      "Epoch 13/50, Train AUC: 88.27%, Test AUC: 75.14%\n",
      "Classification Report on Val Set : \n",
      "              precision    recall  f1-score   support\n",
      "\n",
      "   No Cancer       0.95      0.59      0.73      2248\n",
      "      Cancer       0.19      0.74      0.31       295\n",
      "\n",
      "    accuracy                           0.61      2543\n",
      "   macro avg       0.57      0.67      0.52      2543\n",
      "weighted avg       0.86      0.61      0.68      2543\n",
      "\n"
     ]
    },
    {
     "name": "stderr",
     "output_type": "stream",
     "text": [
      "Epoch 14/50: 100%|██████████| 41/41 [00:12<00:00,  3.16it/s, loss=5.6895e-02]\n"
     ]
    },
    {
     "name": "stdout",
     "output_type": "stream",
     "text": [
      "Epoch 14/50, Train Loss: 7.4367e-02, Test Loss: 0.1681\n",
      "Epoch 14/50, Train Accuracy: 76.41%, Test Accuracy: 56.64%\n",
      "Epoch 14/50, Train AUC: 88.67%, Test AUC: 75.11%\n",
      "Classification Report on Val Set : \n",
      "              precision    recall  f1-score   support\n",
      "\n",
      "   No Cancer       0.95      0.54      0.69      2248\n",
      "      Cancer       0.18      0.79      0.30       295\n",
      "\n",
      "    accuracy                           0.57      2543\n",
      "   macro avg       0.57      0.66      0.49      2543\n",
      "weighted avg       0.86      0.57      0.64      2543\n",
      "\n"
     ]
    },
    {
     "name": "stderr",
     "output_type": "stream",
     "text": [
      "Epoch 15/50: 100%|██████████| 41/41 [00:13<00:00,  3.14it/s, loss=5.0815e-02]\n"
     ]
    },
    {
     "name": "stdout",
     "output_type": "stream",
     "text": [
      "Epoch 15/50, Train Loss: 6.0035e-02, Test Loss: 0.1311\n",
      "Epoch 15/50, Train Accuracy: 79.82%, Test Accuracy: 63.17%\n",
      "Epoch 15/50, Train AUC: 89.61%, Test AUC: 75.10%\n",
      "Classification Report on Val Set : \n",
      "              precision    recall  f1-score   support\n",
      "\n",
      "   No Cancer       0.95      0.62      0.75      2248\n",
      "      Cancer       0.20      0.75      0.32       295\n",
      "\n",
      "    accuracy                           0.63      2543\n",
      "   macro avg       0.58      0.68      0.53      2543\n",
      "weighted avg       0.86      0.63      0.70      2543\n",
      "\n"
     ]
    },
    {
     "name": "stderr",
     "output_type": "stream",
     "text": [
      "Epoch 16/50: 100%|██████████| 41/41 [00:12<00:00,  3.16it/s, loss=1.0304e-01]\n"
     ]
    },
    {
     "name": "stdout",
     "output_type": "stream",
     "text": [
      "Epoch 16/50, Train Loss: 5.7520e-02, Test Loss: 0.1134\n",
      "Epoch 16/50, Train Accuracy: 79.67%, Test Accuracy: 65.54%\n",
      "Epoch 16/50, Train AUC: 89.38%, Test AUC: 75.01%\n",
      "Classification Report on Val Set : \n",
      "              precision    recall  f1-score   support\n",
      "\n",
      "   No Cancer       0.94      0.65      0.77      2248\n",
      "      Cancer       0.21      0.69      0.32       295\n",
      "\n",
      "    accuracy                           0.66      2543\n",
      "   macro avg       0.57      0.67      0.54      2543\n",
      "weighted avg       0.86      0.66      0.72      2543\n",
      "\n"
     ]
    },
    {
     "name": "stderr",
     "output_type": "stream",
     "text": [
      "Epoch 17/50: 100%|██████████| 41/41 [00:13<00:00,  3.15it/s, loss=5.5632e-02]\n"
     ]
    },
    {
     "name": "stdout",
     "output_type": "stream",
     "text": [
      "Epoch 17/50, Train Loss: 6.6752e-02, Test Loss: 0.1929\n",
      "Epoch 17/50, Train Accuracy: 77.04%, Test Accuracy: 57.03%\n",
      "Epoch 17/50, Train AUC: 90.92%, Test AUC: 75.43%\n",
      "Classification Report on Val Set : \n",
      "              precision    recall  f1-score   support\n",
      "\n",
      "   No Cancer       0.96      0.54      0.69      2248\n",
      "      Cancer       0.19      0.81      0.30       295\n",
      "\n",
      "    accuracy                           0.57      2543\n",
      "   macro avg       0.57      0.68      0.50      2543\n",
      "weighted avg       0.87      0.57      0.64      2543\n",
      "\n"
     ]
    },
    {
     "name": "stderr",
     "output_type": "stream",
     "text": [
      "Epoch 18/50: 100%|██████████| 41/41 [00:12<00:00,  3.16it/s, loss=4.9419e-02]\n"
     ]
    },
    {
     "name": "stdout",
     "output_type": "stream",
     "text": [
      "Epoch 18/50, Train Loss: 5.1945e-02, Test Loss: 0.1342\n",
      "Epoch 18/50, Train Accuracy: 79.68%, Test Accuracy: 63.12%\n",
      "Epoch 18/50, Train AUC: 90.94%, Test AUC: 75.36%\n",
      "Classification Report on Val Set : \n",
      "              precision    recall  f1-score   support\n",
      "\n",
      "   No Cancer       0.95      0.62      0.75      2248\n",
      "      Cancer       0.20      0.74      0.32       295\n",
      "\n",
      "    accuracy                           0.63      2543\n",
      "   macro avg       0.57      0.68      0.53      2543\n",
      "weighted avg       0.86      0.63      0.70      2543\n",
      "\n"
     ]
    },
    {
     "name": "stderr",
     "output_type": "stream",
     "text": [
      "Epoch 19/50: 100%|██████████| 41/41 [00:13<00:00,  3.15it/s, loss=8.5925e-02]\n"
     ]
    },
    {
     "name": "stdout",
     "output_type": "stream",
     "text": [
      "Epoch 19/50, Train Loss: 5.1488e-02, Test Loss: 0.1430\n",
      "Epoch 19/50, Train Accuracy: 80.17%, Test Accuracy: 62.12%\n",
      "Epoch 19/50, Train AUC: 92.15%, Test AUC: 75.20%\n",
      "Classification Report on Val Set : \n",
      "              precision    recall  f1-score   support\n",
      "\n",
      "   No Cancer       0.95      0.60      0.74      2248\n",
      "      Cancer       0.20      0.75      0.32       295\n",
      "\n",
      "    accuracy                           0.62      2543\n",
      "   macro avg       0.57      0.68      0.53      2543\n",
      "weighted avg       0.86      0.62      0.69      2543\n",
      "\n"
     ]
    },
    {
     "name": "stderr",
     "output_type": "stream",
     "text": [
      "Epoch 20/50: 100%|██████████| 41/41 [00:12<00:00,  3.16it/s, loss=6.3321e-02]\n"
     ]
    },
    {
     "name": "stdout",
     "output_type": "stream",
     "text": [
      "Epoch 20/50, Train Loss: 4.9299e-02, Test Loss: 0.1587\n",
      "Epoch 20/50, Train Accuracy: 80.42%, Test Accuracy: 60.84%\n",
      "Epoch 20/50, Train AUC: 92.67%, Test AUC: 75.01%\n",
      "Classification Report on Val Set : \n",
      "              precision    recall  f1-score   support\n",
      "\n",
      "   No Cancer       0.95      0.59      0.73      2248\n",
      "      Cancer       0.19      0.75      0.31       295\n",
      "\n",
      "    accuracy                           0.61      2543\n",
      "   macro avg       0.57      0.67      0.52      2543\n",
      "weighted avg       0.86      0.61      0.68      2543\n",
      "\n"
     ]
    },
    {
     "name": "stderr",
     "output_type": "stream",
     "text": [
      "Epoch 21/50: 100%|██████████| 41/41 [00:13<00:00,  3.15it/s, loss=4.2193e-02]\n"
     ]
    },
    {
     "name": "stdout",
     "output_type": "stream",
     "text": [
      "Epoch 21/50, Train Loss: 4.6737e-02, Test Loss: 0.1529\n",
      "Epoch 21/50, Train Accuracy: 81.48%, Test Accuracy: 61.83%\n",
      "Epoch 21/50, Train AUC: 92.90%, Test AUC: 74.73%\n",
      "Classification Report on Val Set : \n",
      "              precision    recall  f1-score   support\n",
      "\n",
      "   No Cancer       0.94      0.60      0.74      2248\n",
      "      Cancer       0.19      0.72      0.30       295\n",
      "\n",
      "    accuracy                           0.62      2543\n",
      "   macro avg       0.57      0.66      0.52      2543\n",
      "weighted avg       0.86      0.62      0.69      2543\n",
      "\n"
     ]
    },
    {
     "name": "stderr",
     "output_type": "stream",
     "text": [
      "Epoch 22/50: 100%|██████████| 41/41 [00:12<00:00,  3.16it/s, loss=1.2011e-01]\n"
     ]
    },
    {
     "name": "stdout",
     "output_type": "stream",
     "text": [
      "Epoch 22/50, Train Loss: 4.4078e-02, Test Loss: 0.1544\n",
      "Epoch 22/50, Train Accuracy: 82.15%, Test Accuracy: 60.99%\n",
      "Epoch 22/50, Train AUC: 94.13%, Test AUC: 75.09%\n",
      "Classification Report on Val Set : \n",
      "              precision    recall  f1-score   support\n",
      "\n",
      "   No Cancer       0.95      0.59      0.73      2248\n",
      "      Cancer       0.20      0.77      0.31       295\n",
      "\n",
      "    accuracy                           0.61      2543\n",
      "   macro avg       0.57      0.68      0.52      2543\n",
      "weighted avg       0.86      0.61      0.68      2543\n",
      "\n"
     ]
    },
    {
     "name": "stderr",
     "output_type": "stream",
     "text": [
      "Epoch 23/50: 100%|██████████| 41/41 [00:13<00:00,  3.15it/s, loss=1.6526e-02]\n"
     ]
    },
    {
     "ename": "KeyboardInterrupt",
     "evalue": "",
     "output_type": "error",
     "traceback": [
      "\u001b[0;31m---------------------------------------------------------------------------\u001b[0m",
      "\u001b[0;31mKeyboardInterrupt\u001b[0m                         Traceback (most recent call last)",
      "\u001b[0;32m<ipython-input-5-344bb1f0c3e4>\u001b[0m in \u001b[0;36m<module>\u001b[0;34m\u001b[0m\n\u001b[1;32m     24\u001b[0m \u001b[0;31m# start the experiment\u001b[0m\u001b[0;34m\u001b[0m\u001b[0;34m\u001b[0m\u001b[0;34m\u001b[0m\u001b[0m\n\u001b[1;32m     25\u001b[0m \u001b[0mcheckpoint\u001b[0m \u001b[0;34m=\u001b[0m \u001b[0mCheckpointState\u001b[0m\u001b[0;34m(\u001b[0m\u001b[0mnet\u001b[0m\u001b[0;34m,\u001b[0m \u001b[0moptimizer\u001b[0m\u001b[0;34m,\u001b[0m \u001b[0msavepath\u001b[0m\u001b[0;34m=\u001b[0m\u001b[0msavepath\u001b[0m\u001b[0;34m)\u001b[0m\u001b[0;34m\u001b[0m\u001b[0;34m\u001b[0m\u001b[0m\n\u001b[0;32m---> 26\u001b[0;31m \u001b[0mfit\u001b[0m\u001b[0;34m(\u001b[0m\u001b[0mcheckpoint\u001b[0m\u001b[0;34m,\u001b[0m \u001b[0mcriterion\u001b[0m\u001b[0;34m,\u001b[0m \u001b[0mnon_lung_dataloader_train\u001b[0m\u001b[0;34m,\u001b[0m \u001b[0mnon_lung_dataloader_validation\u001b[0m\u001b[0;34m,\u001b[0m \u001b[0mbasic_cnn_args\u001b[0m\u001b[0;34m[\u001b[0m\u001b[0;34m'epochs'\u001b[0m\u001b[0;34m]\u001b[0m\u001b[0;34m,\u001b[0m \u001b[0mwriter\u001b[0m\u001b[0;34m=\u001b[0m\u001b[0mwriter\u001b[0m\u001b[0;34m)\u001b[0m\u001b[0;34m\u001b[0m\u001b[0;34m\u001b[0m\u001b[0m\n\u001b[0m\u001b[1;32m     27\u001b[0m \u001b[0;32mif\u001b[0m \u001b[0;32mnot\u001b[0m \u001b[0mbasic_cnn_args\u001b[0m\u001b[0;34m[\u001b[0m\u001b[0;34m'no_tensorboard'\u001b[0m\u001b[0;34m]\u001b[0m\u001b[0;34m:\u001b[0m\u001b[0;34m\u001b[0m\u001b[0;34m\u001b[0m\u001b[0m\n\u001b[1;32m     28\u001b[0m     \u001b[0mwriter\u001b[0m\u001b[0;34m.\u001b[0m\u001b[0mclose\u001b[0m\u001b[0;34m(\u001b[0m\u001b[0;34m)\u001b[0m\u001b[0;34m\u001b[0m\u001b[0;34m\u001b[0m\u001b[0m\n",
      "\u001b[0;32m/users/nfs/Etu3/3802993/Deep-Learning-For-Lung-Cancer-Prediction-Based-on-Transcriptomic-Data/train.py\u001b[0m in \u001b[0;36mfit\u001b[0;34m(checkpoint, criterion, train_loader, val_loader, epochs, clip, entropy_param, writer, embedding_computer)\u001b[0m\n\u001b[1;32m    114\u001b[0m \u001b[0;34m\u001b[0m\u001b[0m\n\u001b[1;32m    115\u001b[0m         \u001b[0mprint\u001b[0m\u001b[0;34m(\u001b[0m\u001b[0;34mf\"Epoch {epoch}/{epochs}, Train Loss: {loss_train:.4e}, Test Loss: {loss_test:.4f}\"\u001b[0m\u001b[0;34m)\u001b[0m\u001b[0;34m\u001b[0m\u001b[0;34m\u001b[0m\u001b[0m\n\u001b[0;32m--> 116\u001b[0;31m         \u001b[0mprint\u001b[0m\u001b[0;34m(\u001b[0m\u001b[0;34mf\"Epoch {epoch}/{epochs}, Train Accuracy: {acc_train*100:.2f}%, Test Accuracy: {acc_test*100:.2f}%\"\u001b[0m\u001b[0;34m)\u001b[0m\u001b[0;34m\u001b[0m\u001b[0;34m\u001b[0m\u001b[0m\n\u001b[0m\u001b[1;32m    117\u001b[0m         \u001b[0mprint\u001b[0m\u001b[0;34m(\u001b[0m\u001b[0;34mf\"Epoch {epoch}/{epochs}, Train AUC: {auc_train*100:.2f}%, Test AUC: {auc_test*100:.2f}%\"\u001b[0m\u001b[0;34m)\u001b[0m\u001b[0;34m\u001b[0m\u001b[0;34m\u001b[0m\u001b[0m\n\u001b[1;32m    118\u001b[0m         \u001b[0mprint\u001b[0m\u001b[0;34m(\u001b[0m\u001b[0;34m\"Classification Report on Val Set : \"\u001b[0m\u001b[0;34m)\u001b[0m\u001b[0;34m\u001b[0m\u001b[0;34m\u001b[0m\u001b[0m\n",
      "\u001b[0;32m/users/nfs/Etu3/3802993/Deep-Learning-For-Lung-Cancer-Prediction-Based-on-Transcriptomic-Data/train.py\u001b[0m in \u001b[0;36mevaluate_epoch\u001b[0;34m(loader, role)\u001b[0m\n\u001b[1;32m     79\u001b[0m         \u001b[0moutputs_stacked\u001b[0m \u001b[0;34m=\u001b[0m \u001b[0;34m[\u001b[0m\u001b[0;34m]\u001b[0m\u001b[0;34m\u001b[0m\u001b[0;34m\u001b[0m\u001b[0m\n\u001b[1;32m     80\u001b[0m         \u001b[0;32mwith\u001b[0m \u001b[0mtorch\u001b[0m\u001b[0;34m.\u001b[0m\u001b[0mno_grad\u001b[0m\u001b[0;34m(\u001b[0m\u001b[0;34m)\u001b[0m\u001b[0;34m:\u001b[0m\u001b[0;34m\u001b[0m\u001b[0;34m\u001b[0m\u001b[0m\n\u001b[0;32m---> 81\u001b[0;31m             \u001b[0;32mfor\u001b[0m \u001b[0mbatch\u001b[0m \u001b[0;32min\u001b[0m \u001b[0mloader\u001b[0m\u001b[0;34m:\u001b[0m\u001b[0;34m\u001b[0m\u001b[0;34m\u001b[0m\u001b[0m\n\u001b[0m\u001b[1;32m     82\u001b[0m                 \u001b[0mimages\u001b[0m\u001b[0;34m,\u001b[0m \u001b[0mlabels\u001b[0m \u001b[0;34m=\u001b[0m \u001b[0mbatch\u001b[0m\u001b[0;34m\u001b[0m\u001b[0;34m\u001b[0m\u001b[0m\n\u001b[1;32m     83\u001b[0m                 \u001b[0mimages\u001b[0m\u001b[0;34m,\u001b[0m \u001b[0mlabels\u001b[0m \u001b[0;34m=\u001b[0m \u001b[0mimages\u001b[0m\u001b[0;34m.\u001b[0m\u001b[0mto\u001b[0m\u001b[0;34m(\u001b[0m\u001b[0mdevice\u001b[0m\u001b[0;34m)\u001b[0m\u001b[0;34m,\u001b[0m \u001b[0mlabels\u001b[0m\u001b[0;34m.\u001b[0m\u001b[0mto\u001b[0m\u001b[0;34m(\u001b[0m\u001b[0mdevice\u001b[0m\u001b[0;34m)\u001b[0m\u001b[0;34m.\u001b[0m\u001b[0mlong\u001b[0m\u001b[0;34m(\u001b[0m\u001b[0;34m)\u001b[0m\u001b[0;34m\u001b[0m\u001b[0;34m\u001b[0m\u001b[0m\n",
      "\u001b[0;32m/usr/local/lib/python3.7/dist-packages/torch/utils/data/dataloader.py\u001b[0m in \u001b[0;36m__next__\u001b[0;34m(self)\u001b[0m\n\u001b[1;32m    343\u001b[0m \u001b[0;34m\u001b[0m\u001b[0m\n\u001b[1;32m    344\u001b[0m     \u001b[0;32mdef\u001b[0m \u001b[0m__next__\u001b[0m\u001b[0;34m(\u001b[0m\u001b[0mself\u001b[0m\u001b[0;34m)\u001b[0m\u001b[0;34m:\u001b[0m\u001b[0;34m\u001b[0m\u001b[0;34m\u001b[0m\u001b[0m\n\u001b[0;32m--> 345\u001b[0;31m         \u001b[0mdata\u001b[0m \u001b[0;34m=\u001b[0m \u001b[0mself\u001b[0m\u001b[0;34m.\u001b[0m\u001b[0m_next_data\u001b[0m\u001b[0;34m(\u001b[0m\u001b[0;34m)\u001b[0m\u001b[0;34m\u001b[0m\u001b[0;34m\u001b[0m\u001b[0m\n\u001b[0m\u001b[1;32m    346\u001b[0m         \u001b[0mself\u001b[0m\u001b[0;34m.\u001b[0m\u001b[0m_num_yielded\u001b[0m \u001b[0;34m+=\u001b[0m \u001b[0;36m1\u001b[0m\u001b[0;34m\u001b[0m\u001b[0;34m\u001b[0m\u001b[0m\n\u001b[1;32m    347\u001b[0m         \u001b[0;32mif\u001b[0m \u001b[0mself\u001b[0m\u001b[0;34m.\u001b[0m\u001b[0m_dataset_kind\u001b[0m \u001b[0;34m==\u001b[0m \u001b[0m_DatasetKind\u001b[0m\u001b[0;34m.\u001b[0m\u001b[0mIterable\u001b[0m \u001b[0;32mand\u001b[0m\u001b[0;31m \u001b[0m\u001b[0;31m\\\u001b[0m\u001b[0;34m\u001b[0m\u001b[0;34m\u001b[0m\u001b[0m\n",
      "\u001b[0;32m/usr/local/lib/python3.7/dist-packages/torch/utils/data/dataloader.py\u001b[0m in \u001b[0;36m_next_data\u001b[0;34m(self)\u001b[0m\n\u001b[1;32m    383\u001b[0m     \u001b[0;32mdef\u001b[0m \u001b[0m_next_data\u001b[0m\u001b[0;34m(\u001b[0m\u001b[0mself\u001b[0m\u001b[0;34m)\u001b[0m\u001b[0;34m:\u001b[0m\u001b[0;34m\u001b[0m\u001b[0;34m\u001b[0m\u001b[0m\n\u001b[1;32m    384\u001b[0m         \u001b[0mindex\u001b[0m \u001b[0;34m=\u001b[0m \u001b[0mself\u001b[0m\u001b[0;34m.\u001b[0m\u001b[0m_next_index\u001b[0m\u001b[0;34m(\u001b[0m\u001b[0;34m)\u001b[0m  \u001b[0;31m# may raise StopIteration\u001b[0m\u001b[0;34m\u001b[0m\u001b[0;34m\u001b[0m\u001b[0m\n\u001b[0;32m--> 385\u001b[0;31m         \u001b[0mdata\u001b[0m \u001b[0;34m=\u001b[0m \u001b[0mself\u001b[0m\u001b[0;34m.\u001b[0m\u001b[0m_dataset_fetcher\u001b[0m\u001b[0;34m.\u001b[0m\u001b[0mfetch\u001b[0m\u001b[0;34m(\u001b[0m\u001b[0mindex\u001b[0m\u001b[0;34m)\u001b[0m  \u001b[0;31m# may raise StopIteration\u001b[0m\u001b[0;34m\u001b[0m\u001b[0;34m\u001b[0m\u001b[0m\n\u001b[0m\u001b[1;32m    386\u001b[0m         \u001b[0;32mif\u001b[0m \u001b[0mself\u001b[0m\u001b[0;34m.\u001b[0m\u001b[0m_pin_memory\u001b[0m\u001b[0;34m:\u001b[0m\u001b[0;34m\u001b[0m\u001b[0;34m\u001b[0m\u001b[0m\n\u001b[1;32m    387\u001b[0m             \u001b[0mdata\u001b[0m \u001b[0;34m=\u001b[0m \u001b[0m_utils\u001b[0m\u001b[0;34m.\u001b[0m\u001b[0mpin_memory\u001b[0m\u001b[0;34m.\u001b[0m\u001b[0mpin_memory\u001b[0m\u001b[0;34m(\u001b[0m\u001b[0mdata\u001b[0m\u001b[0;34m)\u001b[0m\u001b[0;34m\u001b[0m\u001b[0;34m\u001b[0m\u001b[0m\n",
      "\u001b[0;32m/usr/local/lib/python3.7/dist-packages/torch/utils/data/_utils/fetch.py\u001b[0m in \u001b[0;36mfetch\u001b[0;34m(self, possibly_batched_index)\u001b[0m\n\u001b[1;32m     45\u001b[0m         \u001b[0;32melse\u001b[0m\u001b[0;34m:\u001b[0m\u001b[0;34m\u001b[0m\u001b[0;34m\u001b[0m\u001b[0m\n\u001b[1;32m     46\u001b[0m             \u001b[0mdata\u001b[0m \u001b[0;34m=\u001b[0m \u001b[0mself\u001b[0m\u001b[0;34m.\u001b[0m\u001b[0mdataset\u001b[0m\u001b[0;34m[\u001b[0m\u001b[0mpossibly_batched_index\u001b[0m\u001b[0;34m]\u001b[0m\u001b[0;34m\u001b[0m\u001b[0;34m\u001b[0m\u001b[0m\n\u001b[0;32m---> 47\u001b[0;31m         \u001b[0;32mreturn\u001b[0m \u001b[0mself\u001b[0m\u001b[0;34m.\u001b[0m\u001b[0mcollate_fn\u001b[0m\u001b[0;34m(\u001b[0m\u001b[0mdata\u001b[0m\u001b[0;34m)\u001b[0m\u001b[0;34m\u001b[0m\u001b[0;34m\u001b[0m\u001b[0m\n\u001b[0m",
      "\u001b[0;32m/usr/local/lib/python3.7/dist-packages/torch/utils/data/_utils/collate.py\u001b[0m in \u001b[0;36mdefault_collate\u001b[0;34m(batch)\u001b[0m\n\u001b[1;32m     77\u001b[0m     \u001b[0;32melif\u001b[0m \u001b[0misinstance\u001b[0m\u001b[0;34m(\u001b[0m\u001b[0melem\u001b[0m\u001b[0;34m,\u001b[0m \u001b[0mcontainer_abcs\u001b[0m\u001b[0;34m.\u001b[0m\u001b[0mSequence\u001b[0m\u001b[0;34m)\u001b[0m\u001b[0;34m:\u001b[0m\u001b[0;34m\u001b[0m\u001b[0;34m\u001b[0m\u001b[0m\n\u001b[1;32m     78\u001b[0m         \u001b[0mtransposed\u001b[0m \u001b[0;34m=\u001b[0m \u001b[0mzip\u001b[0m\u001b[0;34m(\u001b[0m\u001b[0;34m*\u001b[0m\u001b[0mbatch\u001b[0m\u001b[0;34m)\u001b[0m\u001b[0;34m\u001b[0m\u001b[0;34m\u001b[0m\u001b[0m\n\u001b[0;32m---> 79\u001b[0;31m         \u001b[0;32mreturn\u001b[0m \u001b[0;34m[\u001b[0m\u001b[0mdefault_collate\u001b[0m\u001b[0;34m(\u001b[0m\u001b[0msamples\u001b[0m\u001b[0;34m)\u001b[0m \u001b[0;32mfor\u001b[0m \u001b[0msamples\u001b[0m \u001b[0;32min\u001b[0m \u001b[0mtransposed\u001b[0m\u001b[0;34m]\u001b[0m\u001b[0;34m\u001b[0m\u001b[0;34m\u001b[0m\u001b[0m\n\u001b[0m\u001b[1;32m     80\u001b[0m \u001b[0;34m\u001b[0m\u001b[0m\n\u001b[1;32m     81\u001b[0m     \u001b[0;32mraise\u001b[0m \u001b[0mTypeError\u001b[0m\u001b[0;34m(\u001b[0m\u001b[0mdefault_collate_err_msg_format\u001b[0m\u001b[0;34m.\u001b[0m\u001b[0mformat\u001b[0m\u001b[0;34m(\u001b[0m\u001b[0melem_type\u001b[0m\u001b[0;34m)\u001b[0m\u001b[0;34m)\u001b[0m\u001b[0;34m\u001b[0m\u001b[0;34m\u001b[0m\u001b[0m\n",
      "\u001b[0;32m/usr/local/lib/python3.7/dist-packages/torch/utils/data/_utils/collate.py\u001b[0m in \u001b[0;36m<listcomp>\u001b[0;34m(.0)\u001b[0m\n\u001b[1;32m     77\u001b[0m     \u001b[0;32melif\u001b[0m \u001b[0misinstance\u001b[0m\u001b[0;34m(\u001b[0m\u001b[0melem\u001b[0m\u001b[0;34m,\u001b[0m \u001b[0mcontainer_abcs\u001b[0m\u001b[0;34m.\u001b[0m\u001b[0mSequence\u001b[0m\u001b[0;34m)\u001b[0m\u001b[0;34m:\u001b[0m\u001b[0;34m\u001b[0m\u001b[0;34m\u001b[0m\u001b[0m\n\u001b[1;32m     78\u001b[0m         \u001b[0mtransposed\u001b[0m \u001b[0;34m=\u001b[0m \u001b[0mzip\u001b[0m\u001b[0;34m(\u001b[0m\u001b[0;34m*\u001b[0m\u001b[0mbatch\u001b[0m\u001b[0;34m)\u001b[0m\u001b[0;34m\u001b[0m\u001b[0;34m\u001b[0m\u001b[0m\n\u001b[0;32m---> 79\u001b[0;31m         \u001b[0;32mreturn\u001b[0m \u001b[0;34m[\u001b[0m\u001b[0mdefault_collate\u001b[0m\u001b[0;34m(\u001b[0m\u001b[0msamples\u001b[0m\u001b[0;34m)\u001b[0m \u001b[0;32mfor\u001b[0m \u001b[0msamples\u001b[0m \u001b[0;32min\u001b[0m \u001b[0mtransposed\u001b[0m\u001b[0;34m]\u001b[0m\u001b[0;34m\u001b[0m\u001b[0;34m\u001b[0m\u001b[0m\n\u001b[0m\u001b[1;32m     80\u001b[0m \u001b[0;34m\u001b[0m\u001b[0m\n\u001b[1;32m     81\u001b[0m     \u001b[0;32mraise\u001b[0m \u001b[0mTypeError\u001b[0m\u001b[0;34m(\u001b[0m\u001b[0mdefault_collate_err_msg_format\u001b[0m\u001b[0;34m.\u001b[0m\u001b[0mformat\u001b[0m\u001b[0;34m(\u001b[0m\u001b[0melem_type\u001b[0m\u001b[0;34m)\u001b[0m\u001b[0;34m)\u001b[0m\u001b[0;34m\u001b[0m\u001b[0;34m\u001b[0m\u001b[0m\n",
      "\u001b[0;32m/usr/local/lib/python3.7/dist-packages/torch/utils/data/_utils/collate.py\u001b[0m in \u001b[0;36mdefault_collate\u001b[0;34m(batch)\u001b[0m\n\u001b[1;32m     53\u001b[0m             \u001b[0mstorage\u001b[0m \u001b[0;34m=\u001b[0m \u001b[0melem\u001b[0m\u001b[0;34m.\u001b[0m\u001b[0mstorage\u001b[0m\u001b[0;34m(\u001b[0m\u001b[0;34m)\u001b[0m\u001b[0;34m.\u001b[0m\u001b[0m_new_shared\u001b[0m\u001b[0;34m(\u001b[0m\u001b[0mnumel\u001b[0m\u001b[0;34m)\u001b[0m\u001b[0;34m\u001b[0m\u001b[0;34m\u001b[0m\u001b[0m\n\u001b[1;32m     54\u001b[0m             \u001b[0mout\u001b[0m \u001b[0;34m=\u001b[0m \u001b[0melem\u001b[0m\u001b[0;34m.\u001b[0m\u001b[0mnew\u001b[0m\u001b[0;34m(\u001b[0m\u001b[0mstorage\u001b[0m\u001b[0;34m)\u001b[0m\u001b[0;34m\u001b[0m\u001b[0;34m\u001b[0m\u001b[0m\n\u001b[0;32m---> 55\u001b[0;31m         \u001b[0;32mreturn\u001b[0m \u001b[0mtorch\u001b[0m\u001b[0;34m.\u001b[0m\u001b[0mstack\u001b[0m\u001b[0;34m(\u001b[0m\u001b[0mbatch\u001b[0m\u001b[0;34m,\u001b[0m \u001b[0;36m0\u001b[0m\u001b[0;34m,\u001b[0m \u001b[0mout\u001b[0m\u001b[0;34m=\u001b[0m\u001b[0mout\u001b[0m\u001b[0;34m)\u001b[0m\u001b[0;34m\u001b[0m\u001b[0;34m\u001b[0m\u001b[0m\n\u001b[0m\u001b[1;32m     56\u001b[0m     \u001b[0;32melif\u001b[0m \u001b[0melem_type\u001b[0m\u001b[0;34m.\u001b[0m\u001b[0m__module__\u001b[0m \u001b[0;34m==\u001b[0m \u001b[0;34m'numpy'\u001b[0m \u001b[0;32mand\u001b[0m \u001b[0melem_type\u001b[0m\u001b[0;34m.\u001b[0m\u001b[0m__name__\u001b[0m \u001b[0;34m!=\u001b[0m \u001b[0;34m'str_'\u001b[0m\u001b[0;31m \u001b[0m\u001b[0;31m\\\u001b[0m\u001b[0;34m\u001b[0m\u001b[0;34m\u001b[0m\u001b[0m\n\u001b[1;32m     57\u001b[0m             \u001b[0;32mand\u001b[0m \u001b[0melem_type\u001b[0m\u001b[0;34m.\u001b[0m\u001b[0m__name__\u001b[0m \u001b[0;34m!=\u001b[0m \u001b[0;34m'string_'\u001b[0m\u001b[0;34m:\u001b[0m\u001b[0;34m\u001b[0m\u001b[0;34m\u001b[0m\u001b[0m\n",
      "\u001b[0;31mKeyboardInterrupt\u001b[0m: "
     ]
    }
   ],
   "source": [
    "# network\n",
    "net = Basic_CNN().to(device).double()\n",
    "\n",
    "# loss and optimizer  \n",
    "criterion = FocalLoss().to(device)\n",
    "optimizer = optim.Adam(net.parameters(), lr=basic_cnn_args['lr_pt'])\n",
    "\n",
    "# Logging + Experiment\n",
    "\n",
    "ignore_keys = {'no_tensorboard'}\n",
    "# get hyperparameters with values in a dict\n",
    "hparams = {**basic_cnn_args}\n",
    "# generate a name for the experiment\n",
    "expe_name = '_'.join([f\"{key}={val}\" for key, val in hparams.items()])\n",
    "print(\"Experimenting with : \\n \\t\"+expe_name)\n",
    "# path where to save the model\n",
    "savepath = Path('models/pre_trained_cnn_checkpt.pt')\n",
    "# Tensorboard summary writer\n",
    "if basic_cnn_args['no_tensorboard']:\n",
    "    writer = None\n",
    "else:\n",
    "    writer = SummaryWriter(\"runs/runs\"+\"_\"+datetime.datetime.now().strftime(\"%Y%m%d-%H%M%S\")+expe_name)\n",
    "    \n",
    "# start the experiment\n",
    "checkpoint = CheckpointState(net, optimizer, savepath=savepath)\n",
    "fit(checkpoint, criterion, non_lung_dataloader_train, non_lung_dataloader_validation, basic_cnn_args['epochs'], writer=writer)\n",
    "if not basic_cnn_args['no_tensorboard']:\n",
    "    writer.close()"
   ]
  },
  {
   "cell_type": "markdown",
   "metadata": {},
   "source": [
    "## **2 - Fine-Tuning on the Lung dataset :**"
   ]
  },
  {
   "cell_type": "markdown",
   "metadata": {},
   "source": [
    "### **2 - 1 - Load Pre-Trained Model :**"
   ]
  },
  {
   "cell_type": "code",
   "execution_count": 6,
   "metadata": {},
   "outputs": [],
   "source": [
    "# Load the pretrained Model\n",
    "net = Basic_CNN().to(device).double()\n",
    "optimizer = optim.Adam(net.parameters(), lr=basic_cnn_args['lr_ft'])\n",
    "# path where the pre-trained model is saved : defined above+\"_best\"\n",
    "savepath = Path('models/pre_trained_cnn_checkpt_best.pt')\n",
    "checkpoint = CheckpointState(net, optimizer, savepath=savepath)\n",
    "checkpoint.load()\n",
    "pretrained = checkpoint.model"
   ]
  },
  {
   "cell_type": "markdown",
   "metadata": {},
   "source": [
    "### **2 - 2 - Get the Data :**"
   ]
  },
  {
   "cell_type": "code",
   "execution_count": 7,
   "metadata": {},
   "outputs": [
    {
     "name": "stdout",
     "output_type": "stream",
     "text": [
      "CPU times: user 1.47 s, sys: 542 ms, total: 2.01 s\n",
      "Wall time: 10.1 s\n"
     ]
    }
   ],
   "source": [
    "%%time\n",
    "# Getting the data\n",
    "# dataset\n",
    "lung_dataset = TranscriptomicImagesDatasetLung(data_paths_args[\"path_to_pan_cancer_hdf5_files\"], data_paths_args[\"path_to_treemap_images\"])\n",
    "lung_dataloader_train, lung_dataloader_validation = get_data_loaders(lung_dataset, batch_size_train = basic_cnn_args[\"batch_size_ft\"],\\\n",
    "                                                                             batch_size_validation = basic_cnn_args[\"batch_size_ft\"])"
   ]
  },
  {
   "cell_type": "markdown",
   "metadata": {},
   "source": [
    "### **2 - 3 - Fine Tuning Procedure :**"
   ]
  },
  {
   "cell_type": "code",
   "execution_count": 8,
   "metadata": {},
   "outputs": [
    {
     "name": "stderr",
     "output_type": "stream",
     "text": [
      "Epoch 1/50:   0%|          | 0/5 [00:00<?, ?it/s, loss=2.5017e-01]"
     ]
    },
    {
     "name": "stdout",
     "output_type": "stream",
     "text": [
      "Training on GPU \n",
      "\n"
     ]
    },
    {
     "name": "stderr",
     "output_type": "stream",
     "text": [
      "Epoch 1/50: 100%|██████████| 5/5 [00:01<00:00,  3.46it/s, loss=1.6994e-01]\n"
     ]
    },
    {
     "name": "stdout",
     "output_type": "stream",
     "text": [
      "Epoch 1/50, Train Loss: 7.9098e-02, Test Loss: 0.0452\n",
      "Epoch 1/50, Train Accuracy: 73.97%, Test Accuracy: 82.37%\n",
      "Epoch 1/50, Train AUC: 85.30%, Test AUC: 66.14%\n",
      "Classification Report on Val Set : \n",
      "              precision    recall  f1-score   support\n",
      "\n",
      "   No Cancer       0.93      0.86      0.90       260\n",
      "      Cancer       0.14      0.27      0.19        22\n",
      "\n",
      "    accuracy                           0.82       282\n",
      "   macro avg       0.54      0.57      0.54       282\n",
      "weighted avg       0.87      0.82      0.84       282\n",
      "\n"
     ]
    },
    {
     "name": "stderr",
     "output_type": "stream",
     "text": [
      "Epoch 2/50: 100%|██████████| 5/5 [00:01<00:00,  3.57it/s, loss=6.1928e-02]\n"
     ]
    },
    {
     "name": "stdout",
     "output_type": "stream",
     "text": [
      "Epoch 2/50, Train Loss: 4.8982e-02, Test Loss: 0.1395\n",
      "Epoch 2/50, Train Accuracy: 78.82%, Test Accuracy: 67.61%\n",
      "Epoch 2/50, Train AUC: 91.37%, Test AUC: 67.33%\n",
      "Classification Report on Val Set : \n",
      "              precision    recall  f1-score   support\n",
      "\n",
      "   No Cancer       0.94      0.69      0.79       260\n",
      "      Cancer       0.11      0.45      0.18        22\n",
      "\n",
      "    accuracy                           0.67       282\n",
      "   macro avg       0.52      0.57      0.49       282\n",
      "weighted avg       0.87      0.67      0.75       282\n",
      "\n"
     ]
    },
    {
     "name": "stderr",
     "output_type": "stream",
     "text": [
      "Epoch 3/50: 100%|██████████| 5/5 [00:01<00:00,  3.58it/s, loss=4.5383e-02]\n"
     ]
    },
    {
     "name": "stdout",
     "output_type": "stream",
     "text": [
      "Epoch 3/50, Train Loss: 4.6951e-02, Test Loss: 0.2116\n",
      "Epoch 3/50, Train Accuracy: 81.36%, Test Accuracy: 60.12%\n",
      "Epoch 3/50, Train AUC: 93.04%, Test AUC: 69.49%\n",
      "Classification Report on Val Set : \n",
      "              precision    recall  f1-score   support\n",
      "\n",
      "   No Cancer       0.96      0.60      0.74       260\n",
      "      Cancer       0.13      0.68      0.21        22\n",
      "\n",
      "    accuracy                           0.61       282\n",
      "   macro avg       0.54      0.64      0.48       282\n",
      "weighted avg       0.89      0.61      0.70       282\n",
      "\n"
     ]
    },
    {
     "name": "stderr",
     "output_type": "stream",
     "text": [
      "Epoch 4/50: 100%|██████████| 5/5 [00:01<00:00,  3.57it/s, loss=4.5732e-02]\n"
     ]
    },
    {
     "name": "stdout",
     "output_type": "stream",
     "text": [
      "Epoch 4/50, Train Loss: 7.6908e-02, Test Loss: 0.3603\n",
      "Epoch 4/50, Train Accuracy: 76.36%, Test Accuracy: 46.90%\n",
      "Epoch 4/50, Train AUC: 93.61%, Test AUC: 70.47%\n",
      "Classification Report on Val Set : \n",
      "              precision    recall  f1-score   support\n",
      "\n",
      "   No Cancer       0.97      0.44      0.60       260\n",
      "      Cancer       0.12      0.86      0.20        22\n",
      "\n",
      "    accuracy                           0.47       282\n",
      "   macro avg       0.54      0.65      0.40       282\n",
      "weighted avg       0.91      0.47      0.57       282\n",
      "\n"
     ]
    },
    {
     "name": "stderr",
     "output_type": "stream",
     "text": [
      "Epoch 5/50: 100%|██████████| 5/5 [00:01<00:00,  3.58it/s, loss=7.3580e-02]\n"
     ]
    },
    {
     "name": "stdout",
     "output_type": "stream",
     "text": [
      "Epoch 5/50, Train Loss: 8.6073e-02, Test Loss: 0.4962\n",
      "Epoch 5/50, Train Accuracy: 70.38%, Test Accuracy: 33.93%\n",
      "Epoch 5/50, Train AUC: 95.45%, Test AUC: 69.84%\n",
      "Classification Report on Val Set : \n",
      "              precision    recall  f1-score   support\n",
      "\n",
      "   No Cancer       0.97      0.29      0.45       260\n",
      "      Cancer       0.10      0.91      0.18        22\n",
      "\n",
      "    accuracy                           0.34       282\n",
      "   macro avg       0.54      0.60      0.31       282\n",
      "weighted avg       0.91      0.34      0.42       282\n",
      "\n"
     ]
    },
    {
     "name": "stderr",
     "output_type": "stream",
     "text": [
      "Epoch 6/50: 100%|██████████| 5/5 [00:01<00:00,  3.59it/s, loss=4.7770e-02]\n"
     ]
    },
    {
     "name": "stdout",
     "output_type": "stream",
     "text": [
      "Epoch 6/50, Train Loss: 9.3855e-02, Test Loss: 0.6129\n",
      "Epoch 6/50, Train Accuracy: 69.08%, Test Accuracy: 26.70%\n",
      "Epoch 6/50, Train AUC: 95.89%, Test AUC: 69.39%\n",
      "Classification Report on Val Set : \n",
      "              precision    recall  f1-score   support\n",
      "\n",
      "   No Cancer       0.97      0.23      0.37       260\n",
      "      Cancer       0.09      0.91      0.16        22\n",
      "\n",
      "    accuracy                           0.28       282\n",
      "   macro avg       0.53      0.57      0.27       282\n",
      "weighted avg       0.90      0.28      0.35       282\n",
      "\n"
     ]
    },
    {
     "name": "stderr",
     "output_type": "stream",
     "text": [
      "Epoch 7/50: 100%|██████████| 5/5 [00:01<00:00,  3.58it/s, loss=6.4682e-02]\n"
     ]
    },
    {
     "name": "stdout",
     "output_type": "stream",
     "text": [
      "Epoch 7/50, Train Loss: 1.3442e-01, Test Loss: 0.7436\n",
      "Epoch 7/50, Train Accuracy: 62.99%, Test Accuracy: 23.84%\n",
      "Epoch 7/50, Train AUC: 96.99%, Test AUC: 69.23%\n",
      "Classification Report on Val Set : \n",
      "              precision    recall  f1-score   support\n",
      "\n",
      "   No Cancer       0.96      0.18      0.31       260\n",
      "      Cancer       0.09      0.91      0.16        22\n",
      "\n",
      "    accuracy                           0.24       282\n",
      "   macro avg       0.52      0.55      0.23       282\n",
      "weighted avg       0.89      0.24      0.30       282\n",
      "\n"
     ]
    },
    {
     "name": "stderr",
     "output_type": "stream",
     "text": [
      "Epoch 8/50: 100%|██████████| 5/5 [00:01<00:00,  3.58it/s, loss=2.3335e-02]\n"
     ]
    },
    {
     "name": "stdout",
     "output_type": "stream",
     "text": [
      "Epoch 8/50, Train Loss: 1.5494e-01, Test Loss: 0.8978\n",
      "Epoch 8/50, Train Accuracy: 60.44%, Test Accuracy: 20.21%\n",
      "Epoch 8/50, Train AUC: 97.54%, Test AUC: 69.55%\n",
      "Classification Report on Val Set : \n",
      "              precision    recall  f1-score   support\n",
      "\n",
      "   No Cancer       0.97      0.14      0.25       260\n",
      "      Cancer       0.09      0.95      0.16        22\n",
      "\n",
      "    accuracy                           0.21       282\n",
      "   macro avg       0.53      0.55      0.20       282\n",
      "weighted avg       0.90      0.21      0.24       282\n",
      "\n"
     ]
    },
    {
     "name": "stderr",
     "output_type": "stream",
     "text": [
      "Epoch 9/50: 100%|██████████| 5/5 [00:01<00:00,  3.58it/s, loss=1.5524e-02]\n"
     ]
    },
    {
     "name": "stdout",
     "output_type": "stream",
     "text": [
      "Epoch 9/50, Train Loss: 1.6946e-01, Test Loss: 0.9398\n",
      "Epoch 9/50, Train Accuracy: 58.71%, Test Accuracy: 20.71%\n",
      "Epoch 9/50, Train AUC: 97.63%, Test AUC: 69.60%\n",
      "Classification Report on Val Set : \n",
      "              precision    recall  f1-score   support\n",
      "\n",
      "   No Cancer       0.97      0.13      0.24       260\n",
      "      Cancer       0.09      0.95      0.16        22\n",
      "\n",
      "    accuracy                           0.20       282\n",
      "   macro avg       0.53      0.54      0.20       282\n",
      "weighted avg       0.90      0.20      0.23       282\n",
      "\n"
     ]
    },
    {
     "name": "stderr",
     "output_type": "stream",
     "text": [
      "Epoch 10/50: 100%|██████████| 5/5 [00:01<00:00,  3.57it/s, loss=1.0054e-02]\n"
     ]
    },
    {
     "name": "stdout",
     "output_type": "stream",
     "text": [
      "Epoch 10/50, Train Loss: 1.7605e-01, Test Loss: 0.9960\n",
      "Epoch 10/50, Train Accuracy: 58.21%, Test Accuracy: 20.19%\n",
      "Epoch 10/50, Train AUC: 98.71%, Test AUC: 69.20%\n",
      "Classification Report on Val Set : \n",
      "              precision    recall  f1-score   support\n",
      "\n",
      "   No Cancer       0.97      0.13      0.22       260\n",
      "      Cancer       0.08      0.95      0.16        22\n",
      "\n",
      "    accuracy                           0.19       282\n",
      "   macro avg       0.53      0.54      0.19       282\n",
      "weighted avg       0.90      0.19      0.22       282\n",
      "\n"
     ]
    },
    {
     "name": "stderr",
     "output_type": "stream",
     "text": [
      "Epoch 11/50: 100%|██████████| 5/5 [00:01<00:00,  3.57it/s, loss=1.3255e-02]\n"
     ]
    },
    {
     "name": "stdout",
     "output_type": "stream",
     "text": [
      "Epoch 11/50, Train Loss: 1.5062e-01, Test Loss: 0.9365\n",
      "Epoch 11/50, Train Accuracy: 62.35%, Test Accuracy: 20.97%\n",
      "Epoch 11/50, Train AUC: 98.07%, Test AUC: 69.42%\n",
      "Classification Report on Val Set : \n",
      "              precision    recall  f1-score   support\n",
      "\n",
      "   No Cancer       0.97      0.14      0.24       260\n",
      "      Cancer       0.09      0.95      0.16        22\n",
      "\n",
      "    accuracy                           0.20       282\n",
      "   macro avg       0.53      0.55      0.20       282\n",
      "weighted avg       0.90      0.20      0.24       282\n",
      "\n"
     ]
    },
    {
     "name": "stderr",
     "output_type": "stream",
     "text": [
      "Epoch 12/50: 100%|██████████| 5/5 [00:01<00:00,  3.57it/s, loss=1.4340e-02]\n"
     ]
    },
    {
     "name": "stdout",
     "output_type": "stream",
     "text": [
      "Epoch 12/50, Train Loss: 1.4330e-01, Test Loss: 0.8908\n",
      "Epoch 12/50, Train Accuracy: 61.08%, Test Accuracy: 20.99%\n",
      "Epoch 12/50, Train AUC: 98.68%, Test AUC: 69.42%\n",
      "Classification Report on Val Set : \n",
      "              precision    recall  f1-score   support\n",
      "\n",
      "   No Cancer       0.98      0.15      0.27       260\n",
      "      Cancer       0.09      0.95      0.16        22\n",
      "\n",
      "    accuracy                           0.22       282\n",
      "   macro avg       0.53      0.55      0.21       282\n",
      "weighted avg       0.91      0.22      0.26       282\n",
      "\n"
     ]
    },
    {
     "name": "stderr",
     "output_type": "stream",
     "text": [
      "Epoch 13/50: 100%|██████████| 5/5 [00:01<00:00,  3.57it/s, loss=5.4960e-03]\n"
     ]
    },
    {
     "name": "stdout",
     "output_type": "stream",
     "text": [
      "Epoch 13/50, Train Loss: 1.2797e-01, Test Loss: 0.8296\n",
      "Epoch 13/50, Train Accuracy: 64.05%, Test Accuracy: 23.34%\n",
      "Epoch 13/50, Train AUC: 99.09%, Test AUC: 69.37%\n",
      "Classification Report on Val Set : \n",
      "              precision    recall  f1-score   support\n",
      "\n",
      "   No Cancer       0.98      0.19      0.32       260\n",
      "      Cancer       0.09      0.95      0.17        22\n",
      "\n",
      "    accuracy                           0.25       282\n",
      "   macro avg       0.54      0.57      0.24       282\n",
      "weighted avg       0.91      0.25      0.30       282\n",
      "\n"
     ]
    },
    {
     "name": "stderr",
     "output_type": "stream",
     "text": [
      "Epoch 14/50: 100%|██████████| 5/5 [00:01<00:00,  3.57it/s, loss=1.1182e-02]\n"
     ]
    },
    {
     "name": "stdout",
     "output_type": "stream",
     "text": [
      "Epoch 14/50, Train Loss: 7.8011e-02, Test Loss: 0.6906\n",
      "Epoch 14/50, Train Accuracy: 70.71%, Test Accuracy: 30.33%\n",
      "Epoch 14/50, Train AUC: 99.65%, Test AUC: 69.09%\n",
      "Classification Report on Val Set : \n",
      "              precision    recall  f1-score   support\n",
      "\n",
      "   No Cancer       0.97      0.27      0.42       260\n",
      "      Cancer       0.09      0.91      0.17        22\n",
      "\n",
      "    accuracy                           0.32       282\n",
      "   macro avg       0.53      0.59      0.29       282\n",
      "weighted avg       0.90      0.32      0.40       282\n",
      "\n"
     ]
    },
    {
     "name": "stderr",
     "output_type": "stream",
     "text": [
      "Epoch 15/50: 100%|██████████| 5/5 [00:01<00:00,  3.58it/s, loss=4.5260e-03]\n"
     ]
    },
    {
     "name": "stdout",
     "output_type": "stream",
     "text": [
      "Epoch 15/50, Train Loss: 8.3207e-02, Test Loss: 0.5547\n",
      "Epoch 15/50, Train Accuracy: 71.27%, Test Accuracy: 33.19%\n",
      "Epoch 15/50, Train AUC: 99.56%, Test AUC: 68.69%\n",
      "Classification Report on Val Set : \n",
      "              precision    recall  f1-score   support\n",
      "\n",
      "   No Cancer       0.96      0.31      0.47       260\n",
      "      Cancer       0.10      0.86      0.17        22\n",
      "\n",
      "    accuracy                           0.35       282\n",
      "   macro avg       0.53      0.59      0.32       282\n",
      "weighted avg       0.90      0.35      0.45       282\n",
      "\n"
     ]
    },
    {
     "name": "stderr",
     "output_type": "stream",
     "text": [
      "Epoch 16/50: 100%|██████████| 5/5 [00:01<00:00,  3.57it/s, loss=9.7121e-03]\n"
     ]
    },
    {
     "name": "stdout",
     "output_type": "stream",
     "text": [
      "Epoch 16/50, Train Loss: 4.4727e-02, Test Loss: 0.4627\n",
      "Epoch 16/50, Train Accuracy: 78.46%, Test Accuracy: 38.88%\n",
      "Epoch 16/50, Train AUC: 99.67%, Test AUC: 68.36%\n",
      "Classification Report on Val Set : \n",
      "              precision    recall  f1-score   support\n",
      "\n",
      "   No Cancer       0.97      0.37      0.53       260\n",
      "      Cancer       0.10      0.86      0.18        22\n",
      "\n",
      "    accuracy                           0.40       282\n",
      "   macro avg       0.54      0.61      0.36       282\n",
      "weighted avg       0.90      0.40      0.50       282\n",
      "\n"
     ]
    },
    {
     "name": "stderr",
     "output_type": "stream",
     "text": [
      "Epoch 17/50: 100%|██████████| 5/5 [00:01<00:00,  3.58it/s, loss=3.8589e-03]\n"
     ]
    },
    {
     "name": "stdout",
     "output_type": "stream",
     "text": [
      "Epoch 17/50, Train Loss: 4.5130e-02, Test Loss: 0.4464\n",
      "Epoch 17/50, Train Accuracy: 77.60%, Test Accuracy: 41.47%\n",
      "Epoch 17/50, Train AUC: 99.79%, Test AUC: 67.97%\n",
      "Classification Report on Val Set : \n",
      "              precision    recall  f1-score   support\n",
      "\n",
      "   No Cancer       0.97      0.39      0.55       260\n",
      "      Cancer       0.11      0.86      0.19        22\n",
      "\n",
      "    accuracy                           0.43       282\n",
      "   macro avg       0.54      0.63      0.37       282\n",
      "weighted avg       0.90      0.43      0.53       282\n",
      "\n"
     ]
    },
    {
     "name": "stderr",
     "output_type": "stream",
     "text": [
      "Epoch 18/50: 100%|██████████| 5/5 [00:01<00:00,  3.58it/s, loss=7.5681e-03]\n"
     ]
    },
    {
     "name": "stdout",
     "output_type": "stream",
     "text": [
      "Epoch 18/50, Train Loss: 4.5237e-02, Test Loss: 0.4578\n",
      "Epoch 18/50, Train Accuracy: 77.49%, Test Accuracy: 41.47%\n",
      "Epoch 18/50, Train AUC: 99.72%, Test AUC: 68.13%\n",
      "Classification Report on Val Set : \n",
      "              precision    recall  f1-score   support\n",
      "\n",
      "   No Cancer       0.97      0.39      0.55       260\n",
      "      Cancer       0.11      0.86      0.19        22\n",
      "\n",
      "    accuracy                           0.43       282\n",
      "   macro avg       0.54      0.63      0.37       282\n",
      "weighted avg       0.90      0.43      0.53       282\n",
      "\n"
     ]
    },
    {
     "name": "stderr",
     "output_type": "stream",
     "text": [
      "Epoch 19/50: 100%|██████████| 5/5 [00:01<00:00,  3.57it/s, loss=5.6840e-03]\n"
     ]
    },
    {
     "name": "stdout",
     "output_type": "stream",
     "text": [
      "Epoch 19/50, Train Loss: 6.9285e-02, Test Loss: 0.5016\n",
      "Epoch 19/50, Train Accuracy: 72.43%, Test Accuracy: 37.60%\n",
      "Epoch 19/50, Train AUC: 99.75%, Test AUC: 68.01%\n",
      "Classification Report on Val Set : \n",
      "              precision    recall  f1-score   support\n",
      "\n",
      "   No Cancer       0.97      0.36      0.53       260\n",
      "      Cancer       0.10      0.86      0.18        22\n",
      "\n",
      "    accuracy                           0.40       282\n",
      "   macro avg       0.54      0.61      0.36       282\n",
      "weighted avg       0.90      0.40      0.50       282\n",
      "\n"
     ]
    },
    {
     "name": "stderr",
     "output_type": "stream",
     "text": [
      "Epoch 20/50: 100%|██████████| 5/5 [00:01<00:00,  3.56it/s, loss=1.2542e-02]\n"
     ]
    },
    {
     "name": "stdout",
     "output_type": "stream",
     "text": [
      "Epoch 20/50, Train Loss: 3.4297e-02, Test Loss: 0.4443\n",
      "Epoch 20/50, Train Accuracy: 80.55%, Test Accuracy: 42.77%\n",
      "Epoch 20/50, Train AUC: 99.96%, Test AUC: 67.60%\n",
      "Classification Report on Val Set : \n",
      "              precision    recall  f1-score   support\n",
      "\n",
      "   No Cancer       0.97      0.41      0.57       260\n",
      "      Cancer       0.11      0.86      0.19        22\n",
      "\n",
      "    accuracy                           0.44       282\n",
      "   macro avg       0.54      0.64      0.38       282\n",
      "weighted avg       0.91      0.44      0.54       282\n",
      "\n"
     ]
    },
    {
     "name": "stderr",
     "output_type": "stream",
     "text": [
      "Epoch 21/50: 100%|██████████| 5/5 [00:01<00:00,  3.57it/s, loss=4.6801e-03]\n"
     ]
    },
    {
     "name": "stdout",
     "output_type": "stream",
     "text": [
      "Epoch 21/50, Train Loss: 3.1678e-02, Test Loss: 0.4329\n",
      "Epoch 21/50, Train Accuracy: 76.91%, Test Accuracy: 43.29%\n",
      "Epoch 21/50, Train AUC: 100.00%, Test AUC: 66.78%\n",
      "Classification Report on Val Set : \n",
      "              precision    recall  f1-score   support\n",
      "\n",
      "   No Cancer       0.96      0.42      0.59       260\n",
      "      Cancer       0.10      0.77      0.18        22\n",
      "\n",
      "    accuracy                           0.45       282\n",
      "   macro avg       0.53      0.60      0.38       282\n",
      "weighted avg       0.89      0.45      0.55       282\n",
      "\n"
     ]
    },
    {
     "name": "stderr",
     "output_type": "stream",
     "text": [
      "Epoch 22/50: 100%|██████████| 5/5 [00:01<00:00,  3.57it/s, loss=5.0389e-03]\n"
     ]
    },
    {
     "name": "stdout",
     "output_type": "stream",
     "text": [
      "Epoch 22/50, Train Loss: 2.4747e-02, Test Loss: 0.3717\n",
      "Epoch 22/50, Train Accuracy: 81.74%, Test Accuracy: 46.92%\n",
      "Epoch 22/50, Train AUC: 100.00%, Test AUC: 66.63%\n",
      "Classification Report on Val Set : \n",
      "              precision    recall  f1-score   support\n",
      "\n",
      "   No Cancer       0.96      0.46      0.62       260\n",
      "      Cancer       0.11      0.77      0.19        22\n",
      "\n",
      "    accuracy                           0.49       282\n",
      "   macro avg       0.53      0.62      0.41       282\n",
      "weighted avg       0.89      0.49      0.59       282\n",
      "\n"
     ]
    },
    {
     "name": "stderr",
     "output_type": "stream",
     "text": [
      "Epoch 23/50: 100%|██████████| 5/5 [00:01<00:00,  3.57it/s, loss=8.3597e-03]\n"
     ]
    },
    {
     "name": "stdout",
     "output_type": "stream",
     "text": [
      "Epoch 23/50, Train Loss: 1.9715e-02, Test Loss: 0.3374\n",
      "Epoch 23/50, Train Accuracy: 84.44%, Test Accuracy: 49.00%\n",
      "Epoch 23/50, Train AUC: 100.00%, Test AUC: 66.42%\n",
      "Classification Report on Val Set : \n",
      "              precision    recall  f1-score   support\n",
      "\n",
      "   No Cancer       0.96      0.49      0.65       260\n",
      "      Cancer       0.11      0.77      0.20        22\n",
      "\n",
      "    accuracy                           0.51       282\n",
      "   macro avg       0.54      0.63      0.43       282\n",
      "weighted avg       0.90      0.51      0.62       282\n",
      "\n"
     ]
    },
    {
     "name": "stderr",
     "output_type": "stream",
     "text": [
      "Epoch 24/50: 100%|██████████| 5/5 [00:01<00:00,  3.57it/s, loss=5.6394e-03]\n"
     ]
    },
    {
     "name": "stdout",
     "output_type": "stream",
     "text": [
      "Epoch 24/50, Train Loss: 1.7513e-02, Test Loss: 0.3090\n",
      "Epoch 24/50, Train Accuracy: 86.94%, Test Accuracy: 52.34%\n",
      "Epoch 24/50, Train AUC: 99.99%, Test AUC: 66.49%\n",
      "Classification Report on Val Set : \n",
      "              precision    recall  f1-score   support\n",
      "\n",
      "   No Cancer       0.96      0.52      0.67       260\n",
      "      Cancer       0.11      0.73      0.20        22\n",
      "\n",
      "    accuracy                           0.53       282\n",
      "   macro avg       0.53      0.62      0.43       282\n",
      "weighted avg       0.89      0.53      0.63       282\n",
      "\n"
     ]
    },
    {
     "name": "stderr",
     "output_type": "stream",
     "text": [
      "Epoch 25/50: 100%|██████████| 5/5 [00:01<00:00,  3.57it/s, loss=4.3795e-03]\n"
     ]
    },
    {
     "name": "stdout",
     "output_type": "stream",
     "text": [
      "Epoch 25/50, Train Loss: 2.3367e-02, Test Loss: 0.3463\n",
      "Epoch 25/50, Train Accuracy: 82.52%, Test Accuracy: 50.54%\n",
      "Epoch 25/50, Train AUC: 99.98%, Test AUC: 66.71%\n",
      "Classification Report on Val Set : \n",
      "              precision    recall  f1-score   support\n",
      "\n",
      "   No Cancer       0.96      0.50      0.66       260\n",
      "      Cancer       0.12      0.77      0.20        22\n",
      "\n",
      "    accuracy                           0.52       282\n",
      "   macro avg       0.54      0.64      0.43       282\n",
      "weighted avg       0.90      0.52      0.62       282\n",
      "\n"
     ]
    },
    {
     "name": "stderr",
     "output_type": "stream",
     "text": [
      "Epoch 26/50: 100%|██████████| 5/5 [00:01<00:00,  3.57it/s, loss=2.4318e-03]\n"
     ]
    },
    {
     "name": "stdout",
     "output_type": "stream",
     "text": [
      "Epoch 26/50, Train Loss: 2.0057e-02, Test Loss: 0.3449\n",
      "Epoch 26/50, Train Accuracy: 84.44%, Test Accuracy: 51.82%\n",
      "Epoch 26/50, Train AUC: 99.90%, Test AUC: 66.42%\n",
      "Classification Report on Val Set : \n",
      "              precision    recall  f1-score   support\n",
      "\n",
      "   No Cancer       0.96      0.50      0.66       260\n",
      "      Cancer       0.12      0.77      0.20        22\n",
      "\n",
      "    accuracy                           0.52       282\n",
      "   macro avg       0.54      0.64      0.43       282\n",
      "weighted avg       0.90      0.52      0.63       282\n",
      "\n"
     ]
    },
    {
     "name": "stderr",
     "output_type": "stream",
     "text": [
      "Epoch 27/50: 100%|██████████| 5/5 [00:01<00:00,  3.58it/s, loss=1.9782e-03]\n"
     ]
    },
    {
     "name": "stdout",
     "output_type": "stream",
     "text": [
      "Epoch 27/50, Train Loss: 2.2799e-02, Test Loss: 0.3623\n",
      "Epoch 27/50, Train Accuracy: 84.89%, Test Accuracy: 51.04%\n",
      "Epoch 27/50, Train AUC: 99.86%, Test AUC: 66.19%\n",
      "Classification Report on Val Set : \n",
      "              precision    recall  f1-score   support\n",
      "\n",
      "   No Cancer       0.96      0.49      0.65       260\n",
      "      Cancer       0.11      0.77      0.20        22\n",
      "\n",
      "    accuracy                           0.51       282\n",
      "   macro avg       0.54      0.63      0.43       282\n",
      "weighted avg       0.90      0.51      0.62       282\n",
      "\n"
     ]
    },
    {
     "ename": "KeyboardInterrupt",
     "evalue": "",
     "output_type": "error",
     "traceback": [
      "\u001b[0;31m---------------------------------------------------------------------------\u001b[0m",
      "\u001b[0;31mKeyboardInterrupt\u001b[0m                         Traceback (most recent call last)",
      "\u001b[0;32m<ipython-input-8-7392bc49471a>\u001b[0m in \u001b[0;36m<module>\u001b[0;34m\u001b[0m\n\u001b[1;32m      6\u001b[0m \u001b[0msavepath\u001b[0m \u001b[0;34m=\u001b[0m \u001b[0mPath\u001b[0m\u001b[0;34m(\u001b[0m\u001b[0;34m'models_finetuned/fine_tuned_cnn_checkpt.pt'\u001b[0m\u001b[0;34m)\u001b[0m\u001b[0;34m\u001b[0m\u001b[0;34m\u001b[0m\u001b[0m\n\u001b[1;32m      7\u001b[0m \u001b[0mcheckpoint\u001b[0m \u001b[0;34m=\u001b[0m \u001b[0mCheckpointState\u001b[0m\u001b[0;34m(\u001b[0m\u001b[0mnet\u001b[0m\u001b[0;34m,\u001b[0m \u001b[0moptimizer\u001b[0m\u001b[0;34m,\u001b[0m \u001b[0msavepath\u001b[0m\u001b[0;34m=\u001b[0m\u001b[0msavepath\u001b[0m\u001b[0;34m)\u001b[0m\u001b[0;34m\u001b[0m\u001b[0;34m\u001b[0m\u001b[0m\n\u001b[0;32m----> 8\u001b[0;31m \u001b[0mfit\u001b[0m\u001b[0;34m(\u001b[0m\u001b[0mcheckpoint\u001b[0m\u001b[0;34m,\u001b[0m \u001b[0mcriterion\u001b[0m\u001b[0;34m,\u001b[0m \u001b[0mlung_dataloader_train\u001b[0m\u001b[0;34m,\u001b[0m \u001b[0mlung_dataloader_validation\u001b[0m\u001b[0;34m,\u001b[0m \u001b[0mbasic_cnn_args\u001b[0m\u001b[0;34m[\u001b[0m\u001b[0;34m'epochs'\u001b[0m\u001b[0;34m]\u001b[0m\u001b[0;34m)\u001b[0m\u001b[0;34m\u001b[0m\u001b[0;34m\u001b[0m\u001b[0m\n\u001b[0m",
      "\u001b[0;32m/users/nfs/Etu3/3802993/Deep-Learning-For-Lung-Cancer-Prediction-Based-on-Transcriptomic-Data/train.py\u001b[0m in \u001b[0;36mfit\u001b[0;34m(checkpoint, criterion, train_loader, val_loader, epochs, clip, entropy_param, writer, embedding_computer)\u001b[0m\n\u001b[1;32m    127\u001b[0m             \u001b[0mbest_acc\u001b[0m \u001b[0;34m=\u001b[0m \u001b[0macc_test\u001b[0m\u001b[0;34m\u001b[0m\u001b[0;34m\u001b[0m\u001b[0m\n\u001b[1;32m    128\u001b[0m             \u001b[0mcheckpoint\u001b[0m\u001b[0;34m.\u001b[0m\u001b[0msave\u001b[0m\u001b[0;34m(\u001b[0m\u001b[0;34m'_best'\u001b[0m\u001b[0;34m)\u001b[0m\u001b[0;34m\u001b[0m\u001b[0;34m\u001b[0m\u001b[0m\n\u001b[0;32m--> 129\u001b[0;31m         \u001b[0mcheckpoint\u001b[0m\u001b[0;34m.\u001b[0m\u001b[0msave\u001b[0m\u001b[0;34m(\u001b[0m\u001b[0;34m)\u001b[0m\u001b[0;34m\u001b[0m\u001b[0;34m\u001b[0m\u001b[0m\n\u001b[0m\u001b[1;32m    130\u001b[0m \u001b[0;34m\u001b[0m\u001b[0m\n\u001b[1;32m    131\u001b[0m     \u001b[0mprint\u001b[0m\u001b[0;34m(\u001b[0m\u001b[0;34m\"\\nFinished.\"\u001b[0m\u001b[0;34m)\u001b[0m\u001b[0;34m\u001b[0m\u001b[0;34m\u001b[0m\u001b[0m\n",
      "\u001b[0;32m/users/nfs/Etu3/3802993/Deep-Learning-For-Lung-Cancer-Prediction-Based-on-Transcriptomic-Data/utils.py\u001b[0m in \u001b[0;36msave\u001b[0;34m(self, suffix)\u001b[0m\n\u001b[1;32m     51\u001b[0m             \u001b[0msavepath\u001b[0m \u001b[0;34m=\u001b[0m \u001b[0mself\u001b[0m\u001b[0;34m.\u001b[0m\u001b[0msavepath\u001b[0m\u001b[0;34m\u001b[0m\u001b[0;34m\u001b[0m\u001b[0m\n\u001b[1;32m     52\u001b[0m         \u001b[0;32mwith\u001b[0m \u001b[0msavepath\u001b[0m\u001b[0;34m.\u001b[0m\u001b[0mopen\u001b[0m\u001b[0;34m(\u001b[0m\u001b[0;34m'wb'\u001b[0m\u001b[0;34m)\u001b[0m \u001b[0;32mas\u001b[0m \u001b[0mfp\u001b[0m\u001b[0;34m:\u001b[0m\u001b[0;34m\u001b[0m\u001b[0;34m\u001b[0m\u001b[0m\n\u001b[0;32m---> 53\u001b[0;31m             \u001b[0mtorch\u001b[0m\u001b[0;34m.\u001b[0m\u001b[0msave\u001b[0m\u001b[0;34m(\u001b[0m\u001b[0mself\u001b[0m\u001b[0;34m.\u001b[0m\u001b[0mstate_dict\u001b[0m\u001b[0;34m(\u001b[0m\u001b[0;34m)\u001b[0m\u001b[0;34m,\u001b[0m \u001b[0mfp\u001b[0m\u001b[0;34m)\u001b[0m\u001b[0;34m\u001b[0m\u001b[0;34m\u001b[0m\u001b[0m\n\u001b[0m\u001b[1;32m     54\u001b[0m \u001b[0;34m\u001b[0m\u001b[0m\n\u001b[1;32m     55\u001b[0m     \u001b[0;32mdef\u001b[0m \u001b[0mload\u001b[0m\u001b[0;34m(\u001b[0m\u001b[0mself\u001b[0m\u001b[0;34m)\u001b[0m\u001b[0;34m:\u001b[0m\u001b[0;34m\u001b[0m\u001b[0;34m\u001b[0m\u001b[0m\n",
      "\u001b[0;31mKeyboardInterrupt\u001b[0m: "
     ]
    }
   ],
   "source": [
    "# Beginnig Of Transfer Learnig Procedure\n",
    "net = fine_tune_CNN(pretrained)\n",
    "net = net.to(device).double()\n",
    "criterion = FocalLoss().to(device)\n",
    "optimizer = optim.Adam(net.parameters(), lr=basic_cnn_args['lr_ft'])\n",
    "savepath = Path('models_finetuned/fine_tuned_cnn_checkpt.pt')\n",
    "checkpoint = CheckpointState(net, optimizer, savepath=savepath)\n",
    "fit(checkpoint, criterion, lung_dataloader_train, lung_dataloader_validation, basic_cnn_args['epochs'])"
   ]
  },
  {
   "cell_type": "code",
   "execution_count": null,
   "metadata": {},
   "outputs": [],
   "source": []
  }
 ],
 "metadata": {
  "kernelspec": {
   "display_name": "Python 3",
   "language": "python",
   "name": "python3"
  },
  "language_info": {
   "codemirror_mode": {
    "name": "ipython",
    "version": 3
   },
   "file_extension": ".py",
   "mimetype": "text/x-python",
   "name": "python",
   "nbconvert_exporter": "python",
   "pygments_lexer": "ipython3",
   "version": "3.7.3"
  }
 },
 "nbformat": 4,
 "nbformat_minor": 4
}
