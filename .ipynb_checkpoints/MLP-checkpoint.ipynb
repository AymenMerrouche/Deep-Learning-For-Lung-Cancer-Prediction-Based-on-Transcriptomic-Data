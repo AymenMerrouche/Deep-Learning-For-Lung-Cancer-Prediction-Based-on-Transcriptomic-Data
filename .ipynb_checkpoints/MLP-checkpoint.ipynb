{
 "cells": [
  {
   "cell_type": "markdown",
   "metadata": {},
   "source": [
    "# **Deformable Convolution for Lung Cancer Prediction Based on Transcriptomic Data : a Basic Convolutional Neural Network**\n",
    "> Author : **Aymen MERROUCHE**. <br>\n",
    "> In this notebook, we implement a basic MLP for our binary classification task. First we pre train our MLP on the non Lung cancer dataset. Then, we fine tune it on the lung cancer dataset (we don't keep the final classification layer) :"
   ]
  },
  {
   "cell_type": "code",
   "execution_count": 1,
   "metadata": {},
   "outputs": [],
   "source": [
    "import torch\n",
    "import torch.nn as nn\n",
    "from torch.nn import functional as F\n",
    "import numpy as np\n",
    "import datetime\n",
    "\n",
    "from utils import *\n",
    "from train import *\n",
    "from data_utils import *\n",
    "from modules.MLP import *\n",
    "from modules.focal_loss import *\n",
    "%load_ext autoreload\n",
    "%autoreload 2"
   ]
  },
  {
   "cell_type": "code",
   "execution_count": 2,
   "metadata": {},
   "outputs": [
    {
     "name": "stdout",
     "output_type": "stream",
     "text": [
      "Working on :  cuda\n"
     ]
    }
   ],
   "source": [
    "# device to use, if cuda available then use cuda else use cpu\n",
    "device = torch.device('cuda' if torch.cuda.is_available() else 'cpu')\n",
    "print(\"Working on : \", device)"
   ]
  },
  {
   "cell_type": "code",
   "execution_count": 3,
   "metadata": {},
   "outputs": [],
   "source": [
    "# load hyperparametrs\n",
    "# data paths args\n",
    "with open('./configs/data_paths.yaml', 'r') as stream:\n",
    "    data_paths_args  = yaml.load(stream,Loader=yaml.Loader)\n",
    "    \n",
    "    \n",
    "# basic cnn args\n",
    "with open('./configs/mlp.yaml', 'r') as stream:\n",
    "    basic_cnn_args  = yaml.load(stream,Loader=yaml.Loader)"
   ]
  },
  {
   "cell_type": "markdown",
   "metadata": {},
   "source": [
    "## **1 - Pre-Training on the Non Lung Dataset :**"
   ]
  },
  {
   "cell_type": "markdown",
   "metadata": {},
   "source": [
    "### **1 - 1 - Get the Data :**"
   ]
  },
  {
   "cell_type": "code",
   "execution_count": 4,
   "metadata": {},
   "outputs": [
    {
     "name": "stdout",
     "output_type": "stream",
     "text": [
      "CPU times: user 12.5 s, sys: 299 ms, total: 12.8 s\n",
      "Wall time: 12.3 s\n"
     ]
    }
   ],
   "source": [
    "%%time\n",
    "# Getting the data\n",
    "# dataset\n",
    "non_lung_dataset = TranscriptomicVectorsDatasetNonLung(data_paths_args[\"path_to_pan_cancer_hdf5_files\"])\n",
    "non_lung_dataloader_train, non_lung_dataloader_validation = get_data_loaders(non_lung_dataset, batch_size_train = basic_cnn_args[\"batch_size_pt\"],\\\n",
    "                                                                             batch_size_validation = basic_cnn_args[\"batch_size_pt\"])"
   ]
  },
  {
   "cell_type": "markdown",
   "metadata": {},
   "source": [
    "### **1 - 2 - Network, Criterion and Training :**"
   ]
  },
  {
   "cell_type": "code",
   "execution_count": 5,
   "metadata": {},
   "outputs": [
    {
     "name": "stderr",
     "output_type": "stream",
     "text": [
      "Epoch 1/50:   5%|▍         | 2/41 [00:00<00:02, 14.38it/s, loss=1.9257e-01]"
     ]
    },
    {
     "name": "stdout",
     "output_type": "stream",
     "text": [
      "Experimenting with : \n",
      " \tepochs=50_batch_size_pt=128_lr_pt=0.001_batch_size_ft=128_lr_ft=0.001_no_tensorboard=True\n",
      "Training on GPU \n",
      "\n"
     ]
    },
    {
     "name": "stderr",
     "output_type": "stream",
     "text": [
      "Epoch 1/50: 100%|██████████| 41/41 [00:02<00:00, 16.58it/s, loss=1.9883e-01]\n"
     ]
    },
    {
     "name": "stdout",
     "output_type": "stream",
     "text": [
      "Epoch 1/50, Train Loss: 9.9510e-02, Test Loss: 0.1415\n",
      "Epoch 1/50, Train Accuracy: 72.11%, Test Accuracy: 64.69%\n",
      "Epoch 1/50, Train AUC: 72.06%, Test AUC: 68.94%\n",
      "Classification Report on Val Set : \n",
      "              precision    recall  f1-score   support\n",
      "\n",
      "   No Cancer       0.95      0.63      0.76      2248\n",
      "      Cancer       0.21      0.75      0.33       295\n",
      "\n",
      "    accuracy                           0.65      2543\n",
      "   macro avg       0.58      0.69      0.54      2543\n",
      "weighted avg       0.86      0.65      0.71      2543\n",
      "\n"
     ]
    },
    {
     "name": "stderr",
     "output_type": "stream",
     "text": [
      "Epoch 2/50: 100%|██████████| 41/41 [00:02<00:00, 16.46it/s, loss=1.1185e-01]\n"
     ]
    },
    {
     "name": "stdout",
     "output_type": "stream",
     "text": [
      "Epoch 2/50, Train Loss: 9.1687e-02, Test Loss: 0.0983\n",
      "Epoch 2/50, Train Accuracy: 72.39%, Test Accuracy: 69.75%\n",
      "Epoch 2/50, Train AUC: 72.43%, Test AUC: 68.13%\n",
      "Classification Report on Val Set : \n",
      "              precision    recall  f1-score   support\n",
      "\n",
      "   No Cancer       0.94      0.70      0.80      2248\n",
      "      Cancer       0.23      0.66      0.34       295\n",
      "\n",
      "    accuracy                           0.70      2543\n",
      "   macro avg       0.58      0.68      0.57      2543\n",
      "weighted avg       0.86      0.70      0.75      2543\n",
      "\n"
     ]
    },
    {
     "name": "stderr",
     "output_type": "stream",
     "text": [
      "Epoch 3/50: 100%|██████████| 41/41 [00:02<00:00, 16.41it/s, loss=1.0500e-01]\n"
     ]
    },
    {
     "name": "stdout",
     "output_type": "stream",
     "text": [
      "Epoch 3/50, Train Loss: 8.3851e-02, Test Loss: 0.1247\n",
      "Epoch 3/50, Train Accuracy: 74.48%, Test Accuracy: 66.82%\n",
      "Epoch 3/50, Train AUC: 74.48%, Test AUC: 68.81%\n",
      "Classification Report on Val Set : \n",
      "              precision    recall  f1-score   support\n",
      "\n",
      "   No Cancer       0.95      0.66      0.78      2248\n",
      "      Cancer       0.22      0.72      0.33       295\n",
      "\n",
      "    accuracy                           0.67      2543\n",
      "   macro avg       0.58      0.69      0.56      2543\n",
      "weighted avg       0.86      0.67      0.73      2543\n",
      "\n"
     ]
    },
    {
     "name": "stderr",
     "output_type": "stream",
     "text": [
      "Epoch 4/50: 100%|██████████| 41/41 [00:02<00:00, 16.36it/s, loss=1.0893e-01]\n"
     ]
    },
    {
     "name": "stdout",
     "output_type": "stream",
     "text": [
      "Epoch 4/50, Train Loss: 7.6306e-02, Test Loss: 0.1045\n",
      "Epoch 4/50, Train Accuracy: 75.15%, Test Accuracy: 69.28%\n",
      "Epoch 4/50, Train AUC: 75.16%, Test AUC: 68.74%\n",
      "Classification Report on Val Set : \n",
      "              precision    recall  f1-score   support\n",
      "\n",
      "   No Cancer       0.94      0.69      0.80      2248\n",
      "      Cancer       0.23      0.68      0.34       295\n",
      "\n",
      "    accuracy                           0.69      2543\n",
      "   macro avg       0.58      0.69      0.57      2543\n",
      "weighted avg       0.86      0.69      0.75      2543\n",
      "\n"
     ]
    },
    {
     "name": "stderr",
     "output_type": "stream",
     "text": [
      "Epoch 5/50: 100%|██████████| 41/41 [00:02<00:00, 16.50it/s, loss=4.0901e-02]\n"
     ]
    },
    {
     "name": "stdout",
     "output_type": "stream",
     "text": [
      "Epoch 5/50, Train Loss: 5.2452e-02, Test Loss: 0.0887\n",
      "Epoch 5/50, Train Accuracy: 81.11%, Test Accuracy: 73.47%\n",
      "Epoch 5/50, Train AUC: 81.03%, Test AUC: 69.06%\n",
      "Classification Report on Val Set : \n",
      "              precision    recall  f1-score   support\n",
      "\n",
      "   No Cancer       0.94      0.75      0.83      2248\n",
      "      Cancer       0.25      0.63      0.36       295\n",
      "\n",
      "    accuracy                           0.73      2543\n",
      "   macro avg       0.59      0.69      0.59      2543\n",
      "weighted avg       0.86      0.73      0.78      2543\n",
      "\n"
     ]
    },
    {
     "name": "stderr",
     "output_type": "stream",
     "text": [
      "Epoch 6/50: 100%|██████████| 41/41 [00:02<00:00, 16.49it/s, loss=5.6630e-02]\n"
     ]
    },
    {
     "name": "stdout",
     "output_type": "stream",
     "text": [
      "Epoch 6/50, Train Loss: 3.6650e-02, Test Loss: 0.0826\n",
      "Epoch 6/50, Train Accuracy: 84.26%, Test Accuracy: 76.33%\n",
      "Epoch 6/50, Train AUC: 84.34%, Test AUC: 68.18%\n",
      "Classification Report on Val Set : \n",
      "              precision    recall  f1-score   support\n",
      "\n",
      "   No Cancer       0.93      0.79      0.85      2248\n",
      "      Cancer       0.26      0.58      0.36       295\n",
      "\n",
      "    accuracy                           0.76      2543\n",
      "   macro avg       0.60      0.68      0.61      2543\n",
      "weighted avg       0.86      0.76      0.80      2543\n",
      "\n"
     ]
    },
    {
     "name": "stderr",
     "output_type": "stream",
     "text": [
      "Epoch 7/50: 100%|██████████| 41/41 [00:02<00:00, 16.31it/s, loss=1.4368e-02]\n"
     ]
    },
    {
     "name": "stdout",
     "output_type": "stream",
     "text": [
      "Epoch 7/50, Train Loss: 2.3917e-02, Test Loss: 0.0837\n",
      "Epoch 7/50, Train Accuracy: 86.10%, Test Accuracy: 76.24%\n",
      "Epoch 7/50, Train AUC: 86.15%, Test AUC: 66.96%\n",
      "Classification Report on Val Set : \n",
      "              precision    recall  f1-score   support\n",
      "\n",
      "   No Cancer       0.93      0.79      0.85      2248\n",
      "      Cancer       0.26      0.55      0.35       295\n",
      "\n",
      "    accuracy                           0.76      2543\n",
      "   macro avg       0.59      0.67      0.60      2543\n",
      "weighted avg       0.85      0.76      0.80      2543\n",
      "\n"
     ]
    },
    {
     "name": "stderr",
     "output_type": "stream",
     "text": [
      "Epoch 8/50: 100%|██████████| 41/41 [00:02<00:00, 16.44it/s, loss=1.0790e-02]\n"
     ]
    },
    {
     "name": "stdout",
     "output_type": "stream",
     "text": [
      "Epoch 8/50, Train Loss: 1.2744e-02, Test Loss: 0.0857\n",
      "Epoch 8/50, Train Accuracy: 89.82%, Test Accuracy: 76.72%\n",
      "Epoch 8/50, Train AUC: 89.95%, Test AUC: 63.69%\n",
      "Classification Report on Val Set : \n",
      "              precision    recall  f1-score   support\n",
      "\n",
      "   No Cancer       0.92      0.81      0.86      2248\n",
      "      Cancer       0.24      0.47      0.32       295\n",
      "\n",
      "    accuracy                           0.77      2543\n",
      "   macro avg       0.58      0.64      0.59      2543\n",
      "weighted avg       0.84      0.77      0.80      2543\n",
      "\n"
     ]
    },
    {
     "name": "stderr",
     "output_type": "stream",
     "text": [
      "Epoch 9/50: 100%|██████████| 41/41 [00:02<00:00, 16.45it/s, loss=7.4210e-03]\n"
     ]
    },
    {
     "name": "stdout",
     "output_type": "stream",
     "text": [
      "Epoch 9/50, Train Loss: 8.3444e-03, Test Loss: 0.0851\n",
      "Epoch 9/50, Train Accuracy: 92.36%, Test Accuracy: 79.16%\n",
      "Epoch 9/50, Train AUC: 92.37%, Test AUC: 65.37%\n",
      "Classification Report on Val Set : \n",
      "              precision    recall  f1-score   support\n",
      "\n",
      "   No Cancer       0.92      0.83      0.88      2248\n",
      "      Cancer       0.27      0.47      0.35       295\n",
      "\n",
      "    accuracy                           0.79      2543\n",
      "   macro avg       0.60      0.65      0.61      2543\n",
      "weighted avg       0.85      0.79      0.81      2543\n",
      "\n"
     ]
    },
    {
     "name": "stderr",
     "output_type": "stream",
     "text": [
      "Epoch 10/50: 100%|██████████| 41/41 [00:02<00:00, 16.50it/s, loss=3.3087e-03]\n"
     ]
    },
    {
     "name": "stdout",
     "output_type": "stream",
     "text": [
      "Epoch 10/50, Train Loss: 2.8717e-03, Test Loss: 0.0879\n",
      "Epoch 10/50, Train Accuracy: 95.85%, Test Accuracy: 80.13%\n",
      "Epoch 10/50, Train AUC: 95.82%, Test AUC: 63.42%\n",
      "Classification Report on Val Set : \n",
      "              precision    recall  f1-score   support\n",
      "\n",
      "   No Cancer       0.92      0.85      0.88      2248\n",
      "      Cancer       0.27      0.42      0.33       295\n",
      "\n",
      "    accuracy                           0.80      2543\n",
      "   macro avg       0.59      0.63      0.61      2543\n",
      "weighted avg       0.84      0.80      0.82      2543\n",
      "\n"
     ]
    },
    {
     "name": "stderr",
     "output_type": "stream",
     "text": [
      "Epoch 11/50: 100%|██████████| 41/41 [00:02<00:00, 16.51it/s, loss=7.2005e-03]\n"
     ]
    },
    {
     "name": "stdout",
     "output_type": "stream",
     "text": [
      "Epoch 11/50, Train Loss: 2.4859e-03, Test Loss: 0.1113\n",
      "Epoch 11/50, Train Accuracy: 95.67%, Test Accuracy: 79.95%\n",
      "Epoch 11/50, Train AUC: 95.62%, Test AUC: 65.22%\n",
      "Classification Report on Val Set : \n",
      "              precision    recall  f1-score   support\n",
      "\n",
      "   No Cancer       0.92      0.84      0.88      2248\n",
      "      Cancer       0.28      0.46      0.35       295\n",
      "\n",
      "    accuracy                           0.80      2543\n",
      "   macro avg       0.60      0.65      0.61      2543\n",
      "weighted avg       0.85      0.80      0.82      2543\n",
      "\n"
     ]
    },
    {
     "name": "stderr",
     "output_type": "stream",
     "text": [
      "Epoch 12/50: 100%|██████████| 41/41 [00:02<00:00, 16.43it/s, loss=4.8772e-04]\n"
     ]
    },
    {
     "name": "stdout",
     "output_type": "stream",
     "text": [
      "Epoch 12/50, Train Loss: 1.5812e-03, Test Loss: 0.0921\n",
      "Epoch 12/50, Train Accuracy: 96.98%, Test Accuracy: 82.51%\n",
      "Epoch 12/50, Train AUC: 97.15%, Test AUC: 63.87%\n",
      "Classification Report on Val Set : \n",
      "              precision    recall  f1-score   support\n",
      "\n",
      "   No Cancer       0.92      0.88      0.90      2248\n",
      "      Cancer       0.30      0.40      0.34       295\n",
      "\n",
      "    accuracy                           0.82      2543\n",
      "   macro avg       0.61      0.64      0.62      2543\n",
      "weighted avg       0.85      0.82      0.83      2543\n",
      "\n"
     ]
    },
    {
     "name": "stderr",
     "output_type": "stream",
     "text": [
      "Epoch 13/50: 100%|██████████| 41/41 [00:02<00:00, 16.44it/s, loss=4.5040e-03]\n"
     ]
    },
    {
     "name": "stdout",
     "output_type": "stream",
     "text": [
      "Epoch 13/50, Train Loss: 7.4577e-04, Test Loss: 0.1054\n",
      "Epoch 13/50, Train Accuracy: 97.85%, Test Accuracy: 82.17%\n",
      "Epoch 13/50, Train AUC: 97.77%, Test AUC: 62.37%\n",
      "Classification Report on Val Set : \n",
      "              precision    recall  f1-score   support\n",
      "\n",
      "   No Cancer       0.91      0.88      0.90      2248\n",
      "      Cancer       0.29      0.37      0.32       295\n",
      "\n",
      "    accuracy                           0.82      2543\n",
      "   macro avg       0.60      0.62      0.61      2543\n",
      "weighted avg       0.84      0.82      0.83      2543\n",
      "\n"
     ]
    },
    {
     "name": "stderr",
     "output_type": "stream",
     "text": [
      "Epoch 14/50: 100%|██████████| 41/41 [00:02<00:00, 16.43it/s, loss=1.4544e-04]\n"
     ]
    },
    {
     "name": "stdout",
     "output_type": "stream",
     "text": [
      "Epoch 14/50, Train Loss: 7.7875e-04, Test Loss: 0.1219\n",
      "Epoch 14/50, Train Accuracy: 97.66%, Test Accuracy: 81.97%\n",
      "Epoch 14/50, Train AUC: 97.70%, Test AUC: 63.73%\n",
      "Classification Report on Val Set : \n",
      "              precision    recall  f1-score   support\n",
      "\n",
      "   No Cancer       0.92      0.87      0.90      2248\n",
      "      Cancer       0.29      0.40      0.34       295\n",
      "\n",
      "    accuracy                           0.82      2543\n",
      "   macro avg       0.61      0.64      0.62      2543\n",
      "weighted avg       0.85      0.82      0.83      2543\n",
      "\n"
     ]
    },
    {
     "name": "stderr",
     "output_type": "stream",
     "text": [
      "Epoch 15/50: 100%|██████████| 41/41 [00:02<00:00, 16.43it/s, loss=3.5156e-04]\n"
     ]
    },
    {
     "name": "stdout",
     "output_type": "stream",
     "text": [
      "Epoch 15/50, Train Loss: 4.4880e-04, Test Loss: 0.1238\n",
      "Epoch 15/50, Train Accuracy: 97.56%, Test Accuracy: 81.77%\n",
      "Epoch 15/50, Train AUC: 97.59%, Test AUC: 63.62%\n",
      "Classification Report on Val Set : \n",
      "              precision    recall  f1-score   support\n",
      "\n",
      "   No Cancer       0.92      0.87      0.89      2248\n",
      "      Cancer       0.29      0.40      0.34       295\n",
      "\n",
      "    accuracy                           0.82      2543\n",
      "   macro avg       0.60      0.64      0.62      2543\n",
      "weighted avg       0.84      0.82      0.83      2543\n",
      "\n"
     ]
    },
    {
     "name": "stderr",
     "output_type": "stream",
     "text": [
      "Epoch 16/50: 100%|██████████| 41/41 [00:02<00:00, 16.27it/s, loss=7.5441e-04]\n"
     ]
    },
    {
     "name": "stdout",
     "output_type": "stream",
     "text": [
      "Epoch 16/50, Train Loss: 3.5685e-04, Test Loss: 0.1356\n",
      "Epoch 16/50, Train Accuracy: 98.11%, Test Accuracy: 81.12%\n",
      "Epoch 16/50, Train AUC: 98.05%, Test AUC: 61.18%\n",
      "Classification Report on Val Set : \n",
      "              precision    recall  f1-score   support\n",
      "\n",
      "   No Cancer       0.91      0.87      0.89      2248\n",
      "      Cancer       0.26      0.35      0.30       295\n",
      "\n",
      "    accuracy                           0.81      2543\n",
      "   macro avg       0.59      0.61      0.60      2543\n",
      "weighted avg       0.84      0.81      0.82      2543\n",
      "\n"
     ]
    },
    {
     "name": "stderr",
     "output_type": "stream",
     "text": [
      "Epoch 17/50: 100%|██████████| 41/41 [00:02<00:00, 16.40it/s, loss=4.0828e-05]\n"
     ]
    },
    {
     "name": "stdout",
     "output_type": "stream",
     "text": [
      "Epoch 17/50, Train Loss: 3.2555e-04, Test Loss: 0.1317\n",
      "Epoch 17/50, Train Accuracy: 98.13%, Test Accuracy: 81.85%\n",
      "Epoch 17/50, Train AUC: 98.11%, Test AUC: 63.51%\n",
      "Classification Report on Val Set : \n",
      "              precision    recall  f1-score   support\n",
      "\n",
      "   No Cancer       0.92      0.87      0.89      2248\n",
      "      Cancer       0.29      0.40      0.34       295\n",
      "\n",
      "    accuracy                           0.82      2543\n",
      "   macro avg       0.60      0.64      0.62      2543\n",
      "weighted avg       0.84      0.82      0.83      2543\n",
      "\n"
     ]
    },
    {
     "name": "stderr",
     "output_type": "stream",
     "text": [
      "Epoch 18/50: 100%|██████████| 41/41 [00:02<00:00, 16.48it/s, loss=1.3286e-03]\n"
     ]
    },
    {
     "name": "stdout",
     "output_type": "stream",
     "text": [
      "Epoch 18/50, Train Loss: 1.9473e-04, Test Loss: 0.1294\n",
      "Epoch 18/50, Train Accuracy: 98.78%, Test Accuracy: 83.90%\n",
      "Epoch 18/50, Train AUC: 98.76%, Test AUC: 62.46%\n",
      "Classification Report on Val Set : \n",
      "              precision    recall  f1-score   support\n",
      "\n",
      "   No Cancer       0.91      0.90      0.91      2248\n",
      "      Cancer       0.32      0.35      0.33       295\n",
      "\n",
      "    accuracy                           0.84      2543\n",
      "   macro avg       0.62      0.62      0.62      2543\n",
      "weighted avg       0.84      0.84      0.84      2543\n",
      "\n"
     ]
    },
    {
     "ename": "KeyboardInterrupt",
     "evalue": "",
     "output_type": "error",
     "traceback": [
      "\u001b[0;31m---------------------------------------------------------------------------\u001b[0m",
      "\u001b[0;31mKeyboardInterrupt\u001b[0m                         Traceback (most recent call last)",
      "\u001b[0;32m<ipython-input-5-1b888ae7608f>\u001b[0m in \u001b[0;36m<module>\u001b[0;34m\u001b[0m\n\u001b[1;32m     24\u001b[0m \u001b[0;31m# start the experiment\u001b[0m\u001b[0;34m\u001b[0m\u001b[0;34m\u001b[0m\u001b[0;34m\u001b[0m\u001b[0m\n\u001b[1;32m     25\u001b[0m \u001b[0mcheckpoint\u001b[0m \u001b[0;34m=\u001b[0m \u001b[0mCheckpointState\u001b[0m\u001b[0;34m(\u001b[0m\u001b[0mnet\u001b[0m\u001b[0;34m,\u001b[0m \u001b[0moptimizer\u001b[0m\u001b[0;34m,\u001b[0m \u001b[0msavepath\u001b[0m\u001b[0;34m=\u001b[0m\u001b[0msavepath\u001b[0m\u001b[0;34m)\u001b[0m\u001b[0;34m\u001b[0m\u001b[0;34m\u001b[0m\u001b[0m\n\u001b[0;32m---> 26\u001b[0;31m \u001b[0mfit\u001b[0m\u001b[0;34m(\u001b[0m\u001b[0mcheckpoint\u001b[0m\u001b[0;34m,\u001b[0m \u001b[0mcriterion\u001b[0m\u001b[0;34m,\u001b[0m \u001b[0mnon_lung_dataloader_train\u001b[0m\u001b[0;34m,\u001b[0m \u001b[0mnon_lung_dataloader_validation\u001b[0m\u001b[0;34m,\u001b[0m \u001b[0mbasic_cnn_args\u001b[0m\u001b[0;34m[\u001b[0m\u001b[0;34m'epochs'\u001b[0m\u001b[0;34m]\u001b[0m\u001b[0;34m,\u001b[0m \u001b[0mwriter\u001b[0m\u001b[0;34m=\u001b[0m\u001b[0mwriter\u001b[0m\u001b[0;34m)\u001b[0m\u001b[0;34m\u001b[0m\u001b[0;34m\u001b[0m\u001b[0m\n\u001b[0m\u001b[1;32m     27\u001b[0m \u001b[0;32mif\u001b[0m \u001b[0;32mnot\u001b[0m \u001b[0mbasic_cnn_args\u001b[0m\u001b[0;34m[\u001b[0m\u001b[0;34m'no_tensorboard'\u001b[0m\u001b[0;34m]\u001b[0m\u001b[0;34m:\u001b[0m\u001b[0;34m\u001b[0m\u001b[0;34m\u001b[0m\u001b[0m\n\u001b[1;32m     28\u001b[0m     \u001b[0mwriter\u001b[0m\u001b[0;34m.\u001b[0m\u001b[0mclose\u001b[0m\u001b[0;34m(\u001b[0m\u001b[0;34m)\u001b[0m\u001b[0;34m\u001b[0m\u001b[0;34m\u001b[0m\u001b[0m\n",
      "\u001b[0;32m/users/nfs/Etu3/3802993/Phenotype-Prediction-Based-on-Gene-Expression/train.py\u001b[0m in \u001b[0;36mfit\u001b[0;34m(checkpoint, criterion, train_loader, val_loader, epochs, clip, entropy_param, writer)\u001b[0m\n\u001b[1;32m    117\u001b[0m             \u001b[0mbest_acc\u001b[0m \u001b[0;34m=\u001b[0m \u001b[0macc_test\u001b[0m\u001b[0;34m\u001b[0m\u001b[0;34m\u001b[0m\u001b[0m\n\u001b[1;32m    118\u001b[0m             \u001b[0mcheckpoint\u001b[0m\u001b[0;34m.\u001b[0m\u001b[0msave\u001b[0m\u001b[0;34m(\u001b[0m\u001b[0;34m'_best'\u001b[0m\u001b[0;34m)\u001b[0m\u001b[0;34m\u001b[0m\u001b[0;34m\u001b[0m\u001b[0m\n\u001b[0;32m--> 119\u001b[0;31m         \u001b[0mcheckpoint\u001b[0m\u001b[0;34m.\u001b[0m\u001b[0msave\u001b[0m\u001b[0;34m(\u001b[0m\u001b[0;34m)\u001b[0m\u001b[0;34m\u001b[0m\u001b[0;34m\u001b[0m\u001b[0m\n\u001b[0m\u001b[1;32m    120\u001b[0m \u001b[0;34m\u001b[0m\u001b[0m\n\u001b[1;32m    121\u001b[0m     \u001b[0mprint\u001b[0m\u001b[0;34m(\u001b[0m\u001b[0;34m\"\\nFinished.\"\u001b[0m\u001b[0;34m)\u001b[0m\u001b[0;34m\u001b[0m\u001b[0;34m\u001b[0m\u001b[0m\n",
      "\u001b[0;32m/users/nfs/Etu3/3802993/Phenotype-Prediction-Based-on-Gene-Expression/utils.py\u001b[0m in \u001b[0;36msave\u001b[0;34m(self, suffix)\u001b[0m\n\u001b[1;32m     51\u001b[0m             \u001b[0msavepath\u001b[0m \u001b[0;34m=\u001b[0m \u001b[0mself\u001b[0m\u001b[0;34m.\u001b[0m\u001b[0msavepath\u001b[0m\u001b[0;34m\u001b[0m\u001b[0;34m\u001b[0m\u001b[0m\n\u001b[1;32m     52\u001b[0m         \u001b[0;32mwith\u001b[0m \u001b[0msavepath\u001b[0m\u001b[0;34m.\u001b[0m\u001b[0mopen\u001b[0m\u001b[0;34m(\u001b[0m\u001b[0;34m'wb'\u001b[0m\u001b[0;34m)\u001b[0m \u001b[0;32mas\u001b[0m \u001b[0mfp\u001b[0m\u001b[0;34m:\u001b[0m\u001b[0;34m\u001b[0m\u001b[0;34m\u001b[0m\u001b[0m\n\u001b[0;32m---> 53\u001b[0;31m             \u001b[0mtorch\u001b[0m\u001b[0;34m.\u001b[0m\u001b[0msave\u001b[0m\u001b[0;34m(\u001b[0m\u001b[0mself\u001b[0m\u001b[0;34m.\u001b[0m\u001b[0mstate_dict\u001b[0m\u001b[0;34m(\u001b[0m\u001b[0;34m)\u001b[0m\u001b[0;34m,\u001b[0m \u001b[0mfp\u001b[0m\u001b[0;34m)\u001b[0m\u001b[0;34m\u001b[0m\u001b[0;34m\u001b[0m\u001b[0m\n\u001b[0m\u001b[1;32m     54\u001b[0m \u001b[0;34m\u001b[0m\u001b[0m\n\u001b[1;32m     55\u001b[0m     \u001b[0;32mdef\u001b[0m \u001b[0mload\u001b[0m\u001b[0;34m(\u001b[0m\u001b[0mself\u001b[0m\u001b[0;34m)\u001b[0m\u001b[0;34m:\u001b[0m\u001b[0;34m\u001b[0m\u001b[0;34m\u001b[0m\u001b[0m\n",
      "\u001b[0;31mKeyboardInterrupt\u001b[0m: "
     ]
    }
   ],
   "source": [
    "# network\n",
    "net = MLP(len(non_lung_dataset[0][0])).to(device).double()\n",
    "\n",
    "# loss and optimizer  \n",
    "criterion = FocalLoss().to(device)\n",
    "optimizer = optim.Adam(net.parameters(), lr=basic_cnn_args['lr_pt'])\n",
    "\n",
    "# Logging + Experiment\n",
    "\n",
    "ignore_keys = {'no_tensorboard'}\n",
    "# get hyperparameters with values in a dict\n",
    "hparams = {**basic_cnn_args}\n",
    "# generate a name for the experiment\n",
    "expe_name = '_'.join([f\"{key}={val}\" for key, val in hparams.items()])\n",
    "print(\"Experimenting with : \\n \\t\"+expe_name)\n",
    "# path where to save the model\n",
    "savepath = Path('/tempory/transcriptomic_data/pre_trained_mlp_checkpt.pt')\n",
    "# Tensorboard summary writer\n",
    "if basic_cnn_args['no_tensorboard']:\n",
    "    writer = None\n",
    "else:\n",
    "    writer = SummaryWriter(\"runs/runs\"+\"_\"+datetime.datetime.now().strftime(\"%Y%m%d-%H%M%S\")+expe_name)\n",
    "    \n",
    "# start the experiment\n",
    "checkpoint = CheckpointState(net, optimizer, savepath=savepath)\n",
    "fit(checkpoint, criterion, non_lung_dataloader_train, non_lung_dataloader_validation, basic_cnn_args['epochs'], writer=writer)\n",
    "if not basic_cnn_args['no_tensorboard']:\n",
    "    writer.close()"
   ]
  },
  {
   "cell_type": "markdown",
   "metadata": {},
   "source": [
    "## **2 - Fine-Tuning on the Lung dataset :**"
   ]
  },
  {
   "cell_type": "markdown",
   "metadata": {},
   "source": [
    "### **2 - 1 - Load Pre-Trained Model :**"
   ]
  },
  {
   "cell_type": "code",
   "execution_count": 6,
   "metadata": {},
   "outputs": [],
   "source": [
    "# Load the pretrained Model\n",
    "net =  MLP(len(non_lung_dataset[0][0])).to(device).double()\n",
    "optimizer = optim.Adam(net.parameters(), lr=basic_cnn_args['lr_ft'])\n",
    "# path where the pre-trained model is saved : defined above+\"_best\"\n",
    "savepath = Path('/tempory/transcriptomic_data/pre_trained_mlp_checkpt_best.pt')\n",
    "checkpoint = CheckpointState(net, optimizer, savepath=savepath)\n",
    "checkpoint.load()\n",
    "pretrained = checkpoint.model"
   ]
  },
  {
   "cell_type": "markdown",
   "metadata": {},
   "source": [
    "### **2 - 2 - Get the Data :**"
   ]
  },
  {
   "cell_type": "code",
   "execution_count": 7,
   "metadata": {},
   "outputs": [
    {
     "name": "stdout",
     "output_type": "stream",
     "text": [
      "CPU times: user 11.3 s, sys: 247 ms, total: 11.5 s\n",
      "Wall time: 11.5 s\n"
     ]
    }
   ],
   "source": [
    "%%time\n",
    "# Getting the data\n",
    "# dataset\n",
    "lung_dataset = TranscriptomicVectorsDatasetLung(data_paths_args[\"path_to_pan_cancer_hdf5_files\"])\n",
    "lung_dataloader_train, lung_dataloader_validation = get_data_loaders(lung_dataset, batch_size_train = basic_cnn_args[\"batch_size_ft\"],\\\n",
    "                                                                             batch_size_validation = basic_cnn_args[\"batch_size_ft\"])"
   ]
  },
  {
   "cell_type": "markdown",
   "metadata": {},
   "source": [
    "### **2 - 3 - Fine Tuning Procedure :**"
   ]
  },
  {
   "cell_type": "code",
   "execution_count": 8,
   "metadata": {},
   "outputs": [
    {
     "name": "stderr",
     "output_type": "stream",
     "text": [
      "Epoch 1/50:  40%|████      | 2/5 [00:00<00:00, 14.21it/s, loss=9.4688e-02]"
     ]
    },
    {
     "name": "stdout",
     "output_type": "stream",
     "text": [
      "Training on GPU \n",
      "\n"
     ]
    },
    {
     "name": "stderr",
     "output_type": "stream",
     "text": [
      "Epoch 1/50: 100%|██████████| 5/5 [00:00<00:00, 15.87it/s, loss=9.4636e-02]\n"
     ]
    },
    {
     "name": "stdout",
     "output_type": "stream",
     "text": [
      "Epoch 1/50, Train Loss: 7.2001e-02, Test Loss: 0.1499\n",
      "Epoch 1/50, Train Accuracy: 79.14%, Test Accuracy: 69.93%\n",
      "Epoch 1/50, Train AUC: 79.53%, Test AUC: 53.97%\n",
      "Classification Report on Val Set : \n",
      "              precision    recall  f1-score   support\n",
      "\n",
      "   No Cancer       0.94      0.71      0.81       263\n",
      "      Cancer       0.08      0.37      0.14        19\n",
      "\n",
      "    accuracy                           0.69       282\n",
      "   macro avg       0.51      0.54      0.47       282\n",
      "weighted avg       0.88      0.69      0.76       282\n",
      "\n"
     ]
    },
    {
     "name": "stderr",
     "output_type": "stream",
     "text": [
      "Epoch 2/50: 100%|██████████| 5/5 [00:00<00:00, 16.37it/s, loss=1.0485e-01]\n"
     ]
    },
    {
     "name": "stdout",
     "output_type": "stream",
     "text": [
      "Epoch 2/50, Train Loss: 4.4188e-02, Test Loss: 0.1918\n",
      "Epoch 2/50, Train Accuracy: 85.16%, Test Accuracy: 65.02%\n",
      "Epoch 2/50, Train AUC: 85.74%, Test AUC: 54.32%\n",
      "Classification Report on Val Set : \n",
      "              precision    recall  f1-score   support\n",
      "\n",
      "   No Cancer       0.94      0.67      0.78       263\n",
      "      Cancer       0.08      0.42      0.14        19\n",
      "\n",
      "    accuracy                           0.65       282\n",
      "   macro avg       0.51      0.54      0.46       282\n",
      "weighted avg       0.88      0.65      0.74       282\n",
      "\n"
     ]
    },
    {
     "name": "stderr",
     "output_type": "stream",
     "text": [
      "Epoch 3/50: 100%|██████████| 5/5 [00:00<00:00, 15.78it/s, loss=2.5073e-02]\n"
     ]
    },
    {
     "name": "stdout",
     "output_type": "stream",
     "text": [
      "Epoch 3/50, Train Loss: 2.4552e-02, Test Loss: 0.1397\n",
      "Epoch 3/50, Train Accuracy: 84.24%, Test Accuracy: 67.35%\n",
      "Epoch 3/50, Train AUC: 84.42%, Test AUC: 55.27%\n",
      "Classification Report on Val Set : \n",
      "              precision    recall  f1-score   support\n",
      "\n",
      "   No Cancer       0.94      0.68      0.79       263\n",
      "      Cancer       0.09      0.42      0.15        19\n",
      "\n",
      "    accuracy                           0.67       282\n",
      "   macro avg       0.52      0.55      0.47       282\n",
      "weighted avg       0.88      0.67      0.75       282\n",
      "\n"
     ]
    },
    {
     "name": "stderr",
     "output_type": "stream",
     "text": [
      "Epoch 4/50: 100%|██████████| 5/5 [00:00<00:00, 16.28it/s, loss=1.3375e-02]\n"
     ]
    },
    {
     "name": "stdout",
     "output_type": "stream",
     "text": [
      "Epoch 4/50, Train Loss: 2.0910e-02, Test Loss: 0.1071\n",
      "Epoch 4/50, Train Accuracy: 89.27%, Test Accuracy: 73.34%\n",
      "Epoch 4/50, Train AUC: 88.95%, Test AUC: 57.20%\n",
      "Classification Report on Val Set : \n",
      "              precision    recall  f1-score   support\n",
      "\n",
      "   No Cancer       0.94      0.78      0.85       263\n",
      "      Cancer       0.11      0.37      0.16        19\n",
      "\n",
      "    accuracy                           0.75       282\n",
      "   macro avg       0.53      0.57      0.51       282\n",
      "weighted avg       0.89      0.75      0.81       282\n",
      "\n"
     ]
    },
    {
     "name": "stderr",
     "output_type": "stream",
     "text": [
      "Epoch 5/50: 100%|██████████| 5/5 [00:00<00:00, 16.15it/s, loss=1.3256e-02]\n"
     ]
    },
    {
     "name": "stdout",
     "output_type": "stream",
     "text": [
      "Epoch 5/50, Train Loss: 9.3275e-03, Test Loss: 0.0791\n",
      "Epoch 5/50, Train Accuracy: 92.63%, Test Accuracy: 78.77%\n",
      "Epoch 5/50, Train AUC: 91.93%, Test AUC: 54.79%\n",
      "Classification Report on Val Set : \n",
      "              precision    recall  f1-score   support\n",
      "\n",
      "   No Cancer       0.94      0.83      0.88       263\n",
      "      Cancer       0.10      0.26      0.15        19\n",
      "\n",
      "    accuracy                           0.79       282\n",
      "   macro avg       0.52      0.55      0.52       282\n",
      "weighted avg       0.88      0.79      0.83       282\n",
      "\n"
     ]
    },
    {
     "name": "stderr",
     "output_type": "stream",
     "text": [
      "Epoch 6/50: 100%|██████████| 5/5 [00:00<00:00, 16.28it/s, loss=5.5950e-03]\n"
     ]
    },
    {
     "name": "stdout",
     "output_type": "stream",
     "text": [
      "Epoch 6/50, Train Loss: 7.3752e-03, Test Loss: 0.0662\n",
      "Epoch 6/50, Train Accuracy: 91.63%, Test Accuracy: 82.89%\n",
      "Epoch 6/50, Train AUC: 91.54%, Test AUC: 51.43%\n",
      "Classification Report on Val Set : \n",
      "              precision    recall  f1-score   support\n",
      "\n",
      "   No Cancer       0.93      0.87      0.90       263\n",
      "      Cancer       0.08      0.16      0.11        19\n",
      "\n",
      "    accuracy                           0.82       282\n",
      "   macro avg       0.51      0.51      0.50       282\n",
      "weighted avg       0.88      0.82      0.85       282\n",
      "\n"
     ]
    },
    {
     "name": "stderr",
     "output_type": "stream",
     "text": [
      "Epoch 7/50: 100%|██████████| 5/5 [00:00<00:00, 16.28it/s, loss=8.0180e-03]\n"
     ]
    },
    {
     "name": "stdout",
     "output_type": "stream",
     "text": [
      "Epoch 7/50, Train Loss: 3.2116e-03, Test Loss: 0.0581\n",
      "Epoch 7/50, Train Accuracy: 95.27%, Test Accuracy: 84.96%\n",
      "Epoch 7/50, Train AUC: 95.29%, Test AUC: 57.07%\n",
      "Classification Report on Val Set : \n",
      "              precision    recall  f1-score   support\n",
      "\n",
      "   No Cancer       0.94      0.88      0.91       263\n",
      "      Cancer       0.14      0.26      0.18        19\n",
      "\n",
      "    accuracy                           0.84       282\n",
      "   macro avg       0.54      0.57      0.54       282\n",
      "weighted avg       0.89      0.84      0.86       282\n",
      "\n"
     ]
    },
    {
     "name": "stderr",
     "output_type": "stream",
     "text": [
      "Epoch 8/50: 100%|██████████| 5/5 [00:00<00:00, 16.20it/s, loss=3.1042e-03]\n"
     ]
    },
    {
     "name": "stdout",
     "output_type": "stream",
     "text": [
      "Epoch 8/50, Train Loss: 1.7147e-03, Test Loss: 0.0530\n",
      "Epoch 8/50, Train Accuracy: 96.64%, Test Accuracy: 88.84%\n",
      "Epoch 8/50, Train AUC: 97.07%, Test AUC: 59.17%\n",
      "Classification Report on Val Set : \n",
      "              precision    recall  f1-score   support\n",
      "\n",
      "   No Cancer       0.95      0.92      0.93       263\n",
      "      Cancer       0.19      0.26      0.22        19\n",
      "\n",
      "    accuracy                           0.88       282\n",
      "   macro avg       0.57      0.59      0.58       282\n",
      "weighted avg       0.89      0.88      0.88       282\n",
      "\n"
     ]
    },
    {
     "name": "stderr",
     "output_type": "stream",
     "text": [
      "Epoch 9/50: 100%|██████████| 5/5 [00:00<00:00, 16.19it/s, loss=8.7088e-03]\n"
     ]
    },
    {
     "name": "stdout",
     "output_type": "stream",
     "text": [
      "Epoch 9/50, Train Loss: 1.4522e-03, Test Loss: 0.0516\n",
      "Epoch 9/50, Train Accuracy: 97.50%, Test Accuracy: 89.62%\n",
      "Epoch 9/50, Train AUC: 96.99%, Test AUC: 59.74%\n",
      "Classification Report on Val Set : \n",
      "              precision    recall  f1-score   support\n",
      "\n",
      "   No Cancer       0.95      0.93      0.94       263\n",
      "      Cancer       0.22      0.26      0.24        19\n",
      "\n",
      "    accuracy                           0.89       282\n",
      "   macro avg       0.58      0.60      0.59       282\n",
      "weighted avg       0.90      0.89      0.89       282\n",
      "\n"
     ]
    },
    {
     "name": "stderr",
     "output_type": "stream",
     "text": [
      "Epoch 10/50: 100%|██████████| 5/5 [00:00<00:00, 15.85it/s, loss=6.7876e-04]\n"
     ]
    },
    {
     "name": "stdout",
     "output_type": "stream",
     "text": [
      "Epoch 10/50, Train Loss: 5.3393e-04, Test Loss: 0.0503\n",
      "Epoch 10/50, Train Accuracy: 98.89%, Test Accuracy: 88.60%\n",
      "Epoch 10/50, Train AUC: 98.86%, Test AUC: 57.29%\n",
      "Classification Report on Val Set : \n",
      "              precision    recall  f1-score   support\n",
      "\n",
      "   No Cancer       0.94      0.94      0.94       263\n",
      "      Cancer       0.19      0.21      0.20        19\n",
      "\n",
      "    accuracy                           0.89       282\n",
      "   macro avg       0.57      0.57      0.57       282\n",
      "weighted avg       0.89      0.89      0.89       282\n",
      "\n"
     ]
    },
    {
     "name": "stderr",
     "output_type": "stream",
     "text": [
      "Epoch 11/50: 100%|██████████| 5/5 [00:00<00:00, 16.14it/s, loss=3.2338e-04]\n"
     ]
    },
    {
     "name": "stdout",
     "output_type": "stream",
     "text": [
      "Epoch 11/50, Train Loss: 7.0818e-04, Test Loss: 0.0498\n",
      "Epoch 11/50, Train Accuracy: 97.78%, Test Accuracy: 88.34%\n",
      "Epoch 11/50, Train AUC: 97.97%, Test AUC: 57.10%\n",
      "Classification Report on Val Set : \n",
      "              precision    recall  f1-score   support\n",
      "\n",
      "   No Cancer       0.94      0.93      0.94       263\n",
      "      Cancer       0.18      0.21      0.20        19\n",
      "\n",
      "    accuracy                           0.88       282\n",
      "   macro avg       0.56      0.57      0.57       282\n",
      "weighted avg       0.89      0.88      0.89       282\n",
      "\n"
     ]
    },
    {
     "name": "stderr",
     "output_type": "stream",
     "text": [
      "Epoch 12/50: 100%|██████████| 5/5 [00:00<00:00, 16.67it/s, loss=2.0599e-04]\n"
     ]
    },
    {
     "name": "stdout",
     "output_type": "stream",
     "text": [
      "Epoch 12/50, Train Loss: 6.2440e-04, Test Loss: 0.0498\n",
      "Epoch 12/50, Train Accuracy: 98.58%, Test Accuracy: 88.34%\n",
      "Epoch 12/50, Train AUC: 98.60%, Test AUC: 54.66%\n",
      "Classification Report on Val Set : \n",
      "              precision    recall  f1-score   support\n",
      "\n",
      "   No Cancer       0.94      0.94      0.94       263\n",
      "      Cancer       0.15      0.16      0.15        19\n",
      "\n",
      "    accuracy                           0.88       282\n",
      "   macro avg       0.54      0.55      0.55       282\n",
      "weighted avg       0.89      0.88      0.88       282\n",
      "\n"
     ]
    },
    {
     "name": "stderr",
     "output_type": "stream",
     "text": [
      "Epoch 13/50: 100%|██████████| 5/5 [00:00<00:00, 16.64it/s, loss=2.3495e-04]\n"
     ]
    },
    {
     "name": "stdout",
     "output_type": "stream",
     "text": [
      "Epoch 13/50, Train Loss: 3.5582e-04, Test Loss: 0.0516\n",
      "Epoch 13/50, Train Accuracy: 98.91%, Test Accuracy: 88.08%\n",
      "Epoch 13/50, Train AUC: 98.79%, Test AUC: 54.47%\n",
      "Classification Report on Val Set : \n",
      "              precision    recall  f1-score   support\n",
      "\n",
      "   No Cancer       0.94      0.93      0.94       263\n",
      "      Cancer       0.14      0.16      0.15        19\n",
      "\n",
      "    accuracy                           0.88       282\n",
      "   macro avg       0.54      0.54      0.54       282\n",
      "weighted avg       0.89      0.88      0.88       282\n",
      "\n"
     ]
    },
    {
     "name": "stderr",
     "output_type": "stream",
     "text": [
      "Epoch 14/50: 100%|██████████| 5/5 [00:00<00:00, 16.66it/s, loss=3.5324e-04]\n"
     ]
    },
    {
     "name": "stdout",
     "output_type": "stream",
     "text": [
      "Epoch 14/50, Train Loss: 3.8122e-04, Test Loss: 0.0518\n",
      "Epoch 14/50, Train Accuracy: 99.36%, Test Accuracy: 88.08%\n",
      "Epoch 14/50, Train AUC: 99.44%, Test AUC: 54.47%\n",
      "Classification Report on Val Set : \n",
      "              precision    recall  f1-score   support\n",
      "\n",
      "   No Cancer       0.94      0.93      0.94       263\n",
      "      Cancer       0.14      0.16      0.15        19\n",
      "\n",
      "    accuracy                           0.88       282\n",
      "   macro avg       0.54      0.54      0.54       282\n",
      "weighted avg       0.89      0.88      0.88       282\n",
      "\n"
     ]
    },
    {
     "name": "stderr",
     "output_type": "stream",
     "text": [
      "Epoch 15/50: 100%|██████████| 5/5 [00:00<00:00, 16.67it/s, loss=1.6154e-04]\n"
     ]
    },
    {
     "name": "stdout",
     "output_type": "stream",
     "text": [
      "Epoch 15/50, Train Loss: 1.7855e-04, Test Loss: 0.0529\n",
      "Epoch 15/50, Train Accuracy: 99.84%, Test Accuracy: 89.12%\n",
      "Epoch 15/50, Train AUC: 99.82%, Test AUC: 55.23%\n",
      "Classification Report on Val Set : \n",
      "              precision    recall  f1-score   support\n",
      "\n",
      "   No Cancer       0.94      0.95      0.94       263\n",
      "      Cancer       0.18      0.16      0.17        19\n",
      "\n",
      "    accuracy                           0.89       282\n",
      "   macro avg       0.56      0.55      0.55       282\n",
      "weighted avg       0.89      0.89      0.89       282\n",
      "\n"
     ]
    },
    {
     "name": "stderr",
     "output_type": "stream",
     "text": [
      "Epoch 16/50: 100%|██████████| 5/5 [00:00<00:00, 16.60it/s, loss=2.0542e-04]\n"
     ]
    },
    {
     "name": "stdout",
     "output_type": "stream",
     "text": [
      "Epoch 16/50, Train Loss: 1.4265e-04, Test Loss: 0.0548\n",
      "Epoch 16/50, Train Accuracy: 99.84%, Test Accuracy: 88.86%\n",
      "Epoch 16/50, Train AUC: 99.83%, Test AUC: 55.04%\n",
      "Classification Report on Val Set : \n",
      "              precision    recall  f1-score   support\n",
      "\n",
      "   No Cancer       0.94      0.94      0.94       263\n",
      "      Cancer       0.17      0.16      0.16        19\n",
      "\n",
      "    accuracy                           0.89       282\n",
      "   macro avg       0.55      0.55      0.55       282\n",
      "weighted avg       0.89      0.89      0.89       282\n",
      "\n"
     ]
    },
    {
     "name": "stderr",
     "output_type": "stream",
     "text": [
      "Epoch 17/50: 100%|██████████| 5/5 [00:00<00:00, 16.65it/s, loss=1.1614e-04]\n"
     ]
    },
    {
     "name": "stdout",
     "output_type": "stream",
     "text": [
      "Epoch 17/50, Train Loss: 1.8893e-04, Test Loss: 0.0550\n",
      "Epoch 17/50, Train Accuracy: 99.84%, Test Accuracy: 89.38%\n",
      "Epoch 17/50, Train AUC: 99.81%, Test AUC: 55.42%\n",
      "Classification Report on Val Set : \n",
      "              precision    recall  f1-score   support\n",
      "\n",
      "   No Cancer       0.94      0.95      0.95       263\n",
      "      Cancer       0.19      0.16      0.17        19\n",
      "\n",
      "    accuracy                           0.90       282\n",
      "   macro avg       0.56      0.55      0.56       282\n",
      "weighted avg       0.89      0.90      0.89       282\n",
      "\n"
     ]
    },
    {
     "name": "stderr",
     "output_type": "stream",
     "text": [
      "Epoch 18/50: 100%|██████████| 5/5 [00:00<00:00, 16.63it/s, loss=4.2407e-04]\n"
     ]
    },
    {
     "name": "stdout",
     "output_type": "stream",
     "text": [
      "Epoch 18/50, Train Loss: 2.3411e-04, Test Loss: 0.0550\n",
      "Epoch 18/50, Train Accuracy: 99.36%, Test Accuracy: 89.38%\n",
      "Epoch 18/50, Train AUC: 99.46%, Test AUC: 55.42%\n",
      "Classification Report on Val Set : \n",
      "              precision    recall  f1-score   support\n",
      "\n",
      "   No Cancer       0.94      0.95      0.95       263\n",
      "      Cancer       0.19      0.16      0.17        19\n",
      "\n",
      "    accuracy                           0.90       282\n",
      "   macro avg       0.56      0.55      0.56       282\n",
      "weighted avg       0.89      0.90      0.89       282\n",
      "\n"
     ]
    },
    {
     "name": "stderr",
     "output_type": "stream",
     "text": [
      "Epoch 19/50: 100%|██████████| 5/5 [00:00<00:00, 15.82it/s, loss=2.4203e-04]\n"
     ]
    },
    {
     "name": "stdout",
     "output_type": "stream",
     "text": [
      "Epoch 19/50, Train Loss: 2.0216e-04, Test Loss: 0.0587\n",
      "Epoch 19/50, Train Accuracy: 99.05%, Test Accuracy: 89.38%\n",
      "Epoch 19/50, Train AUC: 99.14%, Test AUC: 52.98%\n",
      "Classification Report on Val Set : \n",
      "              precision    recall  f1-score   support\n",
      "\n",
      "   No Cancer       0.94      0.95      0.95       263\n",
      "      Cancer       0.14      0.11      0.12        19\n",
      "\n",
      "    accuracy                           0.90       282\n",
      "   macro avg       0.54      0.53      0.53       282\n",
      "weighted avg       0.88      0.90      0.89       282\n",
      "\n"
     ]
    },
    {
     "name": "stderr",
     "output_type": "stream",
     "text": [
      "Epoch 20/50: 100%|██████████| 5/5 [00:00<00:00, 15.80it/s, loss=1.7535e-04]\n"
     ]
    },
    {
     "name": "stdout",
     "output_type": "stream",
     "text": [
      "Epoch 20/50, Train Loss: 2.3781e-04, Test Loss: 0.0604\n",
      "Epoch 20/50, Train Accuracy: 99.20%, Test Accuracy: 89.64%\n",
      "Epoch 20/50, Train AUC: 99.30%, Test AUC: 53.17%\n",
      "Classification Report on Val Set : \n",
      "              precision    recall  f1-score   support\n",
      "\n",
      "   No Cancer       0.94      0.96      0.95       263\n",
      "      Cancer       0.15      0.11      0.12        19\n",
      "\n",
      "    accuracy                           0.90       282\n",
      "   macro avg       0.55      0.53      0.54       282\n",
      "weighted avg       0.88      0.90      0.89       282\n",
      "\n"
     ]
    },
    {
     "name": "stderr",
     "output_type": "stream",
     "text": [
      "Epoch 21/50: 100%|██████████| 5/5 [00:00<00:00, 16.26it/s, loss=3.0181e-04]\n"
     ]
    },
    {
     "name": "stdout",
     "output_type": "stream",
     "text": [
      "Epoch 21/50, Train Loss: 2.9913e-04, Test Loss: 0.0598\n",
      "Epoch 21/50, Train Accuracy: 98.88%, Test Accuracy: 89.64%\n",
      "Epoch 21/50, Train AUC: 99.16%, Test AUC: 53.17%\n",
      "Classification Report on Val Set : \n",
      "              precision    recall  f1-score   support\n",
      "\n",
      "   No Cancer       0.94      0.96      0.95       263\n",
      "      Cancer       0.15      0.11      0.12        19\n",
      "\n",
      "    accuracy                           0.90       282\n",
      "   macro avg       0.55      0.53      0.54       282\n",
      "weighted avg       0.88      0.90      0.89       282\n",
      "\n"
     ]
    },
    {
     "name": "stderr",
     "output_type": "stream",
     "text": [
      "Epoch 22/50: 100%|██████████| 5/5 [00:00<00:00, 16.13it/s, loss=1.7673e-04]\n"
     ]
    },
    {
     "name": "stdout",
     "output_type": "stream",
     "text": [
      "Epoch 22/50, Train Loss: 1.6820e-04, Test Loss: 0.0603\n",
      "Epoch 22/50, Train Accuracy: 99.05%, Test Accuracy: 89.38%\n",
      "Epoch 22/50, Train AUC: 99.20%, Test AUC: 52.98%\n",
      "Classification Report on Val Set : \n",
      "              precision    recall  f1-score   support\n",
      "\n",
      "   No Cancer       0.94      0.95      0.95       263\n",
      "      Cancer       0.14      0.11      0.12        19\n",
      "\n",
      "    accuracy                           0.90       282\n",
      "   macro avg       0.54      0.53      0.53       282\n",
      "weighted avg       0.88      0.90      0.89       282\n",
      "\n"
     ]
    },
    {
     "name": "stderr",
     "output_type": "stream",
     "text": [
      "Epoch 23/50: 100%|██████████| 5/5 [00:00<00:00, 16.52it/s, loss=6.5661e-05]\n"
     ]
    },
    {
     "name": "stdout",
     "output_type": "stream",
     "text": [
      "Epoch 23/50, Train Loss: 6.9934e-05, Test Loss: 0.0598\n",
      "Epoch 23/50, Train Accuracy: 100.00%, Test Accuracy: 88.86%\n",
      "Epoch 23/50, Train AUC: 100.00%, Test AUC: 52.60%\n",
      "Classification Report on Val Set : \n",
      "              precision    recall  f1-score   support\n",
      "\n",
      "   No Cancer       0.94      0.95      0.94       263\n",
      "      Cancer       0.12      0.11      0.11        19\n",
      "\n",
      "    accuracy                           0.89       282\n",
      "   macro avg       0.53      0.53      0.53       282\n",
      "weighted avg       0.88      0.89      0.89       282\n",
      "\n"
     ]
    },
    {
     "name": "stderr",
     "output_type": "stream",
     "text": [
      "Epoch 24/50: 100%|██████████| 5/5 [00:00<00:00, 16.64it/s, loss=1.2465e-04]\n"
     ]
    },
    {
     "name": "stdout",
     "output_type": "stream",
     "text": [
      "Epoch 24/50, Train Loss: 5.9159e-05, Test Loss: 0.0599\n",
      "Epoch 24/50, Train Accuracy: 99.84%, Test Accuracy: 89.12%\n",
      "Epoch 24/50, Train AUC: 99.83%, Test AUC: 52.79%\n",
      "Classification Report on Val Set : \n",
      "              precision    recall  f1-score   support\n",
      "\n",
      "   No Cancer       0.94      0.95      0.94       263\n",
      "      Cancer       0.13      0.11      0.12        19\n",
      "\n",
      "    accuracy                           0.89       282\n",
      "   macro avg       0.53      0.53      0.53       282\n",
      "weighted avg       0.88      0.89      0.89       282\n",
      "\n"
     ]
    },
    {
     "name": "stderr",
     "output_type": "stream",
     "text": [
      "Epoch 25/50: 100%|██████████| 5/5 [00:00<00:00, 16.58it/s, loss=4.0091e-04]\n"
     ]
    },
    {
     "name": "stdout",
     "output_type": "stream",
     "text": [
      "Epoch 25/50, Train Loss: 1.6314e-04, Test Loss: 0.0618\n",
      "Epoch 25/50, Train Accuracy: 99.52%, Test Accuracy: 89.12%\n",
      "Epoch 25/50, Train AUC: 99.65%, Test AUC: 52.79%\n",
      "Classification Report on Val Set : \n",
      "              precision    recall  f1-score   support\n",
      "\n",
      "   No Cancer       0.94      0.95      0.94       263\n",
      "      Cancer       0.13      0.11      0.12        19\n",
      "\n",
      "    accuracy                           0.89       282\n",
      "   macro avg       0.53      0.53      0.53       282\n",
      "weighted avg       0.88      0.89      0.89       282\n",
      "\n"
     ]
    },
    {
     "name": "stderr",
     "output_type": "stream",
     "text": [
      "Epoch 26/50: 100%|██████████| 5/5 [00:00<00:00, 15.73it/s, loss=7.5447e-05]\n"
     ]
    },
    {
     "name": "stdout",
     "output_type": "stream",
     "text": [
      "Epoch 26/50, Train Loss: 7.2088e-05, Test Loss: 0.0634\n",
      "Epoch 26/50, Train Accuracy: 99.84%, Test Accuracy: 89.64%\n",
      "Epoch 26/50, Train AUC: 99.82%, Test AUC: 53.17%\n",
      "Classification Report on Val Set : \n",
      "              precision    recall  f1-score   support\n",
      "\n",
      "   No Cancer       0.94      0.96      0.95       263\n",
      "      Cancer       0.15      0.11      0.12        19\n",
      "\n",
      "    accuracy                           0.90       282\n",
      "   macro avg       0.55      0.53      0.54       282\n",
      "weighted avg       0.88      0.90      0.89       282\n",
      "\n"
     ]
    },
    {
     "name": "stderr",
     "output_type": "stream",
     "text": [
      "Epoch 27/50: 100%|██████████| 5/5 [00:00<00:00, 15.80it/s, loss=1.3584e-04]\n"
     ]
    },
    {
     "name": "stdout",
     "output_type": "stream",
     "text": [
      "Epoch 27/50, Train Loss: 9.0421e-05, Test Loss: 0.0599\n",
      "Epoch 27/50, Train Accuracy: 99.69%, Test Accuracy: 89.12%\n",
      "Epoch 27/50, Train AUC: 99.64%, Test AUC: 52.79%\n",
      "Classification Report on Val Set : \n",
      "              precision    recall  f1-score   support\n",
      "\n",
      "   No Cancer       0.94      0.95      0.94       263\n",
      "      Cancer       0.13      0.11      0.12        19\n",
      "\n",
      "    accuracy                           0.89       282\n",
      "   macro avg       0.53      0.53      0.53       282\n",
      "weighted avg       0.88      0.89      0.89       282\n",
      "\n"
     ]
    },
    {
     "ename": "KeyboardInterrupt",
     "evalue": "",
     "output_type": "error",
     "traceback": [
      "\u001b[0;31m---------------------------------------------------------------------------\u001b[0m",
      "\u001b[0;31mKeyboardInterrupt\u001b[0m                         Traceback (most recent call last)",
      "\u001b[0;32m<ipython-input-8-9193f5ef0492>\u001b[0m in \u001b[0;36m<module>\u001b[0;34m\u001b[0m\n\u001b[1;32m      6\u001b[0m \u001b[0msavepath\u001b[0m \u001b[0;34m=\u001b[0m \u001b[0mPath\u001b[0m\u001b[0;34m(\u001b[0m\u001b[0;34m'models_finetuned/fine_tuned_mlp_checkpt.pt'\u001b[0m\u001b[0;34m)\u001b[0m\u001b[0;34m\u001b[0m\u001b[0;34m\u001b[0m\u001b[0m\n\u001b[1;32m      7\u001b[0m \u001b[0mcheckpoint\u001b[0m \u001b[0;34m=\u001b[0m \u001b[0mCheckpointState\u001b[0m\u001b[0;34m(\u001b[0m\u001b[0mnet\u001b[0m\u001b[0;34m,\u001b[0m \u001b[0moptimizer\u001b[0m\u001b[0;34m,\u001b[0m \u001b[0msavepath\u001b[0m\u001b[0;34m=\u001b[0m\u001b[0msavepath\u001b[0m\u001b[0;34m)\u001b[0m\u001b[0;34m\u001b[0m\u001b[0;34m\u001b[0m\u001b[0m\n\u001b[0;32m----> 8\u001b[0;31m \u001b[0mfit\u001b[0m\u001b[0;34m(\u001b[0m\u001b[0mcheckpoint\u001b[0m\u001b[0;34m,\u001b[0m \u001b[0mcriterion\u001b[0m\u001b[0;34m,\u001b[0m \u001b[0mlung_dataloader_train\u001b[0m\u001b[0;34m,\u001b[0m \u001b[0mlung_dataloader_validation\u001b[0m\u001b[0;34m,\u001b[0m \u001b[0mbasic_cnn_args\u001b[0m\u001b[0;34m[\u001b[0m\u001b[0;34m'epochs'\u001b[0m\u001b[0;34m]\u001b[0m\u001b[0;34m)\u001b[0m\u001b[0;34m\u001b[0m\u001b[0;34m\u001b[0m\u001b[0m\n\u001b[0m",
      "\u001b[0;32m/users/nfs/Etu3/3802993/Phenotype-Prediction-Based-on-Gene-Expression/train.py\u001b[0m in \u001b[0;36mfit\u001b[0;34m(checkpoint, criterion, train_loader, val_loader, epochs, clip, entropy_param, writer)\u001b[0m\n\u001b[1;32m    117\u001b[0m             \u001b[0mbest_acc\u001b[0m \u001b[0;34m=\u001b[0m \u001b[0macc_test\u001b[0m\u001b[0;34m\u001b[0m\u001b[0;34m\u001b[0m\u001b[0m\n\u001b[1;32m    118\u001b[0m             \u001b[0mcheckpoint\u001b[0m\u001b[0;34m.\u001b[0m\u001b[0msave\u001b[0m\u001b[0;34m(\u001b[0m\u001b[0;34m'_best'\u001b[0m\u001b[0;34m)\u001b[0m\u001b[0;34m\u001b[0m\u001b[0;34m\u001b[0m\u001b[0m\n\u001b[0;32m--> 119\u001b[0;31m         \u001b[0mcheckpoint\u001b[0m\u001b[0;34m.\u001b[0m\u001b[0msave\u001b[0m\u001b[0;34m(\u001b[0m\u001b[0;34m)\u001b[0m\u001b[0;34m\u001b[0m\u001b[0;34m\u001b[0m\u001b[0m\n\u001b[0m\u001b[1;32m    120\u001b[0m \u001b[0;34m\u001b[0m\u001b[0m\n\u001b[1;32m    121\u001b[0m     \u001b[0mprint\u001b[0m\u001b[0;34m(\u001b[0m\u001b[0;34m\"\\nFinished.\"\u001b[0m\u001b[0;34m)\u001b[0m\u001b[0;34m\u001b[0m\u001b[0;34m\u001b[0m\u001b[0m\n",
      "\u001b[0;32m/users/nfs/Etu3/3802993/Phenotype-Prediction-Based-on-Gene-Expression/utils.py\u001b[0m in \u001b[0;36msave\u001b[0;34m(self, suffix)\u001b[0m\n\u001b[1;32m     51\u001b[0m             \u001b[0msavepath\u001b[0m \u001b[0;34m=\u001b[0m \u001b[0mself\u001b[0m\u001b[0;34m.\u001b[0m\u001b[0msavepath\u001b[0m\u001b[0;34m\u001b[0m\u001b[0;34m\u001b[0m\u001b[0m\n\u001b[1;32m     52\u001b[0m         \u001b[0;32mwith\u001b[0m \u001b[0msavepath\u001b[0m\u001b[0;34m.\u001b[0m\u001b[0mopen\u001b[0m\u001b[0;34m(\u001b[0m\u001b[0;34m'wb'\u001b[0m\u001b[0;34m)\u001b[0m \u001b[0;32mas\u001b[0m \u001b[0mfp\u001b[0m\u001b[0;34m:\u001b[0m\u001b[0;34m\u001b[0m\u001b[0;34m\u001b[0m\u001b[0m\n\u001b[0;32m---> 53\u001b[0;31m             \u001b[0mtorch\u001b[0m\u001b[0;34m.\u001b[0m\u001b[0msave\u001b[0m\u001b[0;34m(\u001b[0m\u001b[0mself\u001b[0m\u001b[0;34m.\u001b[0m\u001b[0mstate_dict\u001b[0m\u001b[0;34m(\u001b[0m\u001b[0;34m)\u001b[0m\u001b[0;34m,\u001b[0m \u001b[0mfp\u001b[0m\u001b[0;34m)\u001b[0m\u001b[0;34m\u001b[0m\u001b[0;34m\u001b[0m\u001b[0m\n\u001b[0m\u001b[1;32m     54\u001b[0m \u001b[0;34m\u001b[0m\u001b[0m\n\u001b[1;32m     55\u001b[0m     \u001b[0;32mdef\u001b[0m \u001b[0mload\u001b[0m\u001b[0;34m(\u001b[0m\u001b[0mself\u001b[0m\u001b[0;34m)\u001b[0m\u001b[0;34m:\u001b[0m\u001b[0;34m\u001b[0m\u001b[0;34m\u001b[0m\u001b[0m\n",
      "\u001b[0;31mKeyboardInterrupt\u001b[0m: "
     ]
    }
   ],
   "source": [
    "# Beginnig Of Transfer Learnig Procedure\n",
    "net = fine_tune_mlp(pretrained)\n",
    "net = net.to(device).double()\n",
    "criterion = FocalLoss().to(device)\n",
    "optimizer = optim.Adam(net.parameters(), lr=basic_cnn_args['lr_ft'])\n",
    "savepath = Path('models_finetuned/fine_tuned_mlp_checkpt.pt')\n",
    "checkpoint = CheckpointState(net, optimizer, savepath=savepath)\n",
    "fit(checkpoint, criterion, lung_dataloader_train, lung_dataloader_validation, basic_cnn_args['epochs'])"
   ]
  },
  {
   "cell_type": "code",
   "execution_count": null,
   "metadata": {},
   "outputs": [],
   "source": []
  }
 ],
 "metadata": {
  "kernelspec": {
   "display_name": "Python 3",
   "language": "python",
   "name": "python3"
  },
  "language_info": {
   "codemirror_mode": {
    "name": "ipython",
    "version": 3
   },
   "file_extension": ".py",
   "mimetype": "text/x-python",
   "name": "python",
   "nbconvert_exporter": "python",
   "pygments_lexer": "ipython3",
   "version": "3.7.3"
  }
 },
 "nbformat": 4,
 "nbformat_minor": 4
}
